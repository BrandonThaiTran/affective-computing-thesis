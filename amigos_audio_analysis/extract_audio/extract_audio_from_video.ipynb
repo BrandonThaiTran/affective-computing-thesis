{
 "cells": [
  {
   "cell_type": "markdown",
   "metadata": {},
   "source": [
    "# Extracting Audio from Video - Brandon Thai Tran <github.com/BrandonThaiTran>\n",
    "Here, we loop through a folder and extract audio files"
   ]
  },
  {
   "cell_type": "code",
   "execution_count": 25,
   "metadata": {},
   "outputs": [],
   "source": [
    "import moviepy.editor as mp\n",
    "import pandas as pd"
   ]
  },
  {
   "cell_type": "markdown",
   "metadata": {},
   "source": [
    "## Setting inputs"
   ]
  },
  {
   "cell_type": "code",
   "execution_count": 26,
   "metadata": {},
   "outputs": [],
   "source": [
    "root_dir = \"/home/jupyter/datasets/amigos\"\n",
    "\n",
    "xls_dir = root_dir + \"/annotations/SelfAsessment_xlsx/SelfAsessment.xlsx\"\n",
    "\n",
    "video_dir = root_dir + \"/face\""
   ]
  },
  {
   "cell_type": "markdown",
   "metadata": {},
   "source": [
    "## Reading Excel File"
   ]
  },
  {
   "cell_type": "code",
   "execution_count": 27,
   "metadata": {},
   "outputs": [
    {
     "data": {
      "text/plain": [
       "10"
      ]
     },
     "execution_count": 27,
     "metadata": {},
     "output_type": "execute_result"
    }
   ],
   "source": [
    "# Loading file\n",
    "xls = pd.read_excel(xls_dir)\n",
    "\n",
    "# turn to csv\n",
    "xls.to_csv(\"SelfAsessment.csv\")\n",
    "\n",
    "# read csv\n",
    "csv = pd.read_csv(\"SelfAsessment.csv\")\n",
    "\n",
    "int(csv.iloc[1,1])\n",
    "int((csv.iloc[1,2])[1:-1])"
   ]
  },
  {
   "cell_type": "markdown",
   "metadata": {},
   "source": [
    "## Loop through files and turn to wav"
   ]
  },
  {
   "cell_type": "code",
   "execution_count": null,
   "metadata": {},
   "outputs": [
    {
     "name": "stderr",
     "output_type": "stream",
     "text": [
      "chunk:   1%|▏         | 29/2121 [7:07:09<513:34:41, 883.79s/it, now=None]\n",
      "chunk:   0%|          | 0/2114 [00:00<?, ?it/s, now=None]\u001b[A"
     ]
    },
    {
     "name": "stdout",
     "output_type": "stream",
     "text": [
      "MoviePy - Writing audio in /home/jupyter/datasets/amigos/audio/Exp1_P25_audio/P25_10_audio.wav\n"
     ]
    },
    {
     "name": "stderr",
     "output_type": "stream",
     "text": [
      "\n",
      "chunk:   5%|▍         | 102/2114 [00:00<00:03, 552.81it/s, now=None]\u001b[A\n",
      "chunk:   7%|▋         | 153/2114 [00:00<00:03, 504.47it/s, now=None]\u001b[A\n",
      "chunk:  10%|▉         | 204/2114 [00:00<00:06, 312.25it/s, now=None]\u001b[A\n",
      "chunk:  12%|█▏        | 255/2114 [00:00<00:06, 292.33it/s, now=None]\u001b[A\n",
      "chunk:  14%|█▍        | 306/2114 [00:00<00:05, 304.41it/s, now=None]\u001b[A\n",
      "chunk:  19%|█▉        | 408/2114 [00:01<00:04, 374.33it/s, now=None]\u001b[A\n",
      "chunk:  22%|██▏       | 459/2114 [00:01<00:04, 367.82it/s, now=None]\u001b[A\n",
      "chunk:  24%|██▍       | 510/2114 [00:01<00:04, 345.05it/s, now=None]\u001b[A\n",
      "chunk:  27%|██▋       | 561/2114 [00:01<00:04, 361.12it/s, now=None]\u001b[A\n",
      "chunk:  30%|██▉       | 626/2114 [00:01<00:03, 416.57it/s, now=None]\u001b[A\n",
      "chunk:  32%|███▏      | 673/2114 [00:01<00:03, 410.60it/s, now=None]\u001b[A\n",
      "chunk:  34%|███▍      | 718/2114 [00:01<00:03, 358.77it/s, now=None]\u001b[A\n",
      "chunk:  36%|███▌      | 765/2114 [00:02<00:03, 379.23it/s, now=None]\u001b[A\n",
      "chunk:  41%|████      | 867/2114 [00:02<00:02, 422.81it/s, now=None]\u001b[A\n",
      "chunk:  46%|████▌     | 969/2114 [00:02<00:02, 422.39it/s, now=None]\u001b[A\n",
      "chunk:  48%|████▊     | 1020/2114 [00:02<00:02, 376.48it/s, now=None]\u001b[A\n",
      "chunk:  51%|█████     | 1071/2114 [00:02<00:02, 407.08it/s, now=None]\u001b[A\n",
      "chunk:  53%|█████▎    | 1122/2114 [00:02<00:02, 431.64it/s, now=None]\u001b[A\n",
      "chunk:  55%|█████▌    | 1173/2114 [00:03<00:02, 353.91it/s, now=None]\u001b[A\n",
      "chunk:  58%|█████▊    | 1224/2114 [00:03<00:02, 368.45it/s, now=None]\u001b[A\n",
      "chunk:  63%|██████▎   | 1326/2114 [00:03<00:01, 422.50it/s, now=None]\u001b[A\n",
      "chunk:  65%|██████▌   | 1377/2114 [00:03<00:01, 416.37it/s, now=None]\u001b[A\n",
      "chunk:  70%|██████▉   | 1479/2114 [00:03<00:01, 441.52it/s, now=None]\u001b[A\n",
      "chunk:  74%|███████▍  | 1572/2114 [00:03<00:01, 524.00it/s, now=None]\u001b[A\n",
      "chunk:  77%|███████▋  | 1633/2114 [00:04<00:01, 349.18it/s, now=None]\u001b[A\n",
      "chunk:  80%|███████▉  | 1683/2114 [00:04<00:01, 306.86it/s, now=None]\u001b[A\n",
      "chunk:  82%|████████▏ | 1734/2114 [00:04<00:01, 329.95it/s, now=None]\u001b[A\n",
      "chunk:  84%|████████▍ | 1785/2114 [00:04<00:01, 319.98it/s, now=None]\u001b[A\n",
      "chunk:  87%|████████▋ | 1836/2114 [00:04<00:00, 327.80it/s, now=None]\u001b[A\n",
      "chunk:  92%|█████████▏| 1938/2114 [00:05<00:00, 313.45it/s, now=None]\u001b[A\n",
      "chunk:  96%|█████████▋| 2040/2114 [00:05<00:00, 358.71it/s, now=None]\u001b[A\n",
      "chunk:  99%|█████████▉| 2091/2114 [00:05<00:00, 287.60it/s, now=None]\u001b[A\n",
      "chunk:   1%|▏         | 29/2121 [7:07:15<513:41:20, 883.98s/it, now=None]"
     ]
    },
    {
     "name": "stdout",
     "output_type": "stream",
     "text": [
      "MoviePy - Done.\n"
     ]
    },
    {
     "name": "stderr",
     "output_type": "stream",
     "text": [
      "chunk:   1%|▏         | 29/2121 [7:07:16<513:42:15, 884.00s/it, now=None]\n",
      "chunk:   0%|          | 0/1261 [00:00<?, ?it/s, now=None]\u001b[A\n",
      "chunk:   8%|▊         | 102/1261 [00:00<00:01, 636.89it/s, now=None]\u001b[A"
     ]
    },
    {
     "name": "stdout",
     "output_type": "stream",
     "text": [
      "MoviePy - Writing audio in /home/jupyter/datasets/amigos/audio/Exp1_P25_audio/P25_13_audio.wav\n"
     ]
    },
    {
     "name": "stderr",
     "output_type": "stream",
     "text": [
      "\n",
      "chunk:  12%|█▏        | 153/1261 [00:00<00:02, 475.06it/s, now=None]\u001b[A\n",
      "chunk:  20%|██        | 255/1261 [00:00<00:01, 536.08it/s, now=None]\u001b[A\n",
      "chunk:  24%|██▍       | 306/1261 [00:00<00:01, 489.40it/s, now=None]\u001b[A\n",
      "chunk:  28%|██▊       | 357/1261 [00:00<00:01, 477.92it/s, now=None]\u001b[A\n",
      "chunk:  36%|███▋      | 459/1261 [00:00<00:01, 490.28it/s, now=None]\u001b[A\n",
      "chunk:  41%|████      | 512/1261 [00:00<00:01, 501.45it/s, now=None]\u001b[A\n",
      "chunk:  44%|████▍     | 561/1261 [00:01<00:01, 487.38it/s, now=None]\u001b[A\n",
      "chunk:  53%|█████▎    | 663/1261 [00:01<00:01, 514.64it/s, now=None]\u001b[A\n",
      "chunk:  57%|█████▋    | 714/1261 [00:01<00:01, 496.39it/s, now=None]\u001b[A\n",
      "chunk:  65%|██████▍   | 816/1261 [00:01<00:00, 539.08it/s, now=None]\u001b[A\n",
      "chunk:  73%|███████▎  | 918/1261 [00:01<00:00, 531.06it/s, now=None]\u001b[A\n",
      "chunk:  81%|████████  | 1020/1261 [00:01<00:00, 518.58it/s, now=None]\u001b[A\n",
      "chunk:  85%|████████▌ | 1073/1261 [00:02<00:00, 475.36it/s, now=None]\u001b[A\n",
      "chunk:  89%|████████▉ | 1122/1261 [00:02<00:00, 460.85it/s, now=None]\u001b[A\n",
      "chunk:  93%|█████████▎| 1173/1261 [00:02<00:00, 408.14it/s, now=None]\u001b[A\n",
      "chunk:   1%|▏         | 29/2121 [7:07:18<513:45:12, 884.09s/it, now=None]"
     ]
    },
    {
     "name": "stdout",
     "output_type": "stream",
     "text": [
      "MoviePy - Done.\n"
     ]
    },
    {
     "name": "stderr",
     "output_type": "stream",
     "text": [
      "chunk:   1%|▏         | 29/2121 [7:07:19<513:45:54, 884.11s/it, now=None]\n",
      "chunk:   0%|          | 0/2698 [00:00<?, ?it/s, now=None]\u001b[A\n",
      "chunk:   6%|▌         | 153/2698 [00:00<00:02, 1188.32it/s, now=None]\u001b[A"
     ]
    },
    {
     "name": "stdout",
     "output_type": "stream",
     "text": [
      "MoviePy - Writing audio in /home/jupyter/datasets/amigos/audio/Exp1_P25_audio/P25_138_audio.wav\n"
     ]
    },
    {
     "name": "stderr",
     "output_type": "stream",
     "text": [
      "\n",
      "chunk:   9%|▉         | 255/2698 [00:00<00:02, 996.67it/s, now=None] \u001b[A\n",
      "chunk:  14%|█▍        | 376/2698 [00:00<00:02, 1052.01it/s, now=None]\u001b[A\n",
      "chunk:  19%|█▉        | 510/2698 [00:00<00:01, 1095.90it/s, now=None]\u001b[A\n",
      "chunk:  22%|██▏       | 595/2698 [00:00<00:02, 917.04it/s, now=None] \u001b[A\n",
      "chunk:  25%|██▌       | 675/2698 [00:00<00:02, 716.73it/s, now=None]\u001b[A\n",
      "chunk:  30%|███       | 816/2698 [00:00<00:02, 750.42it/s, now=None]\u001b[A\n",
      "chunk:  34%|███▍      | 911/2698 [00:01<00:02, 800.87it/s, now=None]\u001b[A\n",
      "chunk:  37%|███▋      | 992/2698 [00:01<00:02, 586.46it/s, now=None]\u001b[A\n",
      "chunk:  40%|███▉      | 1071/2698 [00:01<00:02, 576.51it/s, now=None]\u001b[A\n",
      "chunk:  42%|████▏     | 1135/2698 [00:01<00:02, 563.59it/s, now=None]\u001b[A\n",
      "chunk:  45%|████▍     | 1213/2698 [00:01<00:02, 614.52it/s, now=None]\u001b[A\n",
      "chunk:  47%|████▋     | 1279/2698 [00:01<00:02, 623.16it/s, now=None]\u001b[A\n",
      "chunk:  50%|████▉     | 1345/2698 [00:01<00:02, 616.50it/s, now=None]\u001b[A\n",
      "chunk:  52%|█████▏    | 1409/2698 [00:01<00:02, 542.82it/s, now=None]\u001b[A\n",
      "chunk:  54%|█████▍    | 1467/2698 [00:02<00:02, 523.84it/s, now=None]\u001b[A\n",
      "chunk:  56%|█████▋    | 1522/2698 [00:02<00:02, 505.66it/s, now=None]\u001b[A\n",
      "chunk:  58%|█████▊    | 1575/2698 [00:02<00:02, 455.59it/s, now=None]\u001b[A\n",
      "chunk:  62%|██████▏   | 1683/2698 [00:02<00:01, 510.99it/s, now=None]\u001b[A\n",
      "chunk:  66%|██████▌   | 1785/2698 [00:02<00:01, 559.56it/s, now=None]\u001b[A\n",
      "chunk:  70%|██████▉   | 1882/2698 [00:02<00:01, 640.76it/s, now=None]\u001b[A\n",
      "chunk:  72%|███████▏  | 1954/2698 [00:02<00:01, 578.58it/s, now=None]\u001b[A\n",
      "chunk:  77%|███████▋  | 2084/2698 [00:03<00:00, 694.12it/s, now=None]\u001b[A\n",
      "chunk:  80%|████████  | 2168/2698 [00:03<00:00, 686.62it/s, now=None]\u001b[A\n",
      "chunk:  83%|████████▎ | 2247/2698 [00:03<00:01, 412.00it/s, now=None]\u001b[A\n",
      "chunk:  87%|████████▋ | 2346/2698 [00:03<00:00, 412.75it/s, now=None]\u001b[A\n",
      "chunk:  89%|████████▉ | 2402/2698 [00:03<00:00, 407.03it/s, now=None]\u001b[A\n",
      "chunk:  93%|█████████▎| 2499/2698 [00:04<00:00, 444.97it/s, now=None]\u001b[A\n",
      "chunk:  95%|█████████▍| 2552/2698 [00:04<00:00, 343.18it/s, now=None]\u001b[A\n",
      "chunk:  98%|█████████▊| 2632/2698 [00:04<00:00, 414.02it/s, now=None]\u001b[A\n",
      "chunk: 100%|█████████▉| 2687/2698 [00:04<00:00, 432.88it/s, now=None]\u001b[A\n",
      "chunk:   1%|▏         | 29/2121 [7:07:23<513:51:22, 884.27s/it, now=None]"
     ]
    },
    {
     "name": "stdout",
     "output_type": "stream",
     "text": [
      "MoviePy - Done.\n"
     ]
    },
    {
     "name": "stderr",
     "output_type": "stream",
     "text": [
      "chunk:   1%|▏         | 29/2121 [7:07:24<513:52:20, 884.29s/it, now=None]\n",
      "chunk:   0%|          | 0/1832 [00:00<?, ?it/s, now=None]\u001b[A\n",
      "chunk:   8%|▊         | 144/1832 [00:00<00:01, 1439.79it/s, now=None]\u001b[A"
     ]
    },
    {
     "name": "stdout",
     "output_type": "stream",
     "text": [
      "MoviePy - Writing audio in /home/jupyter/datasets/amigos/audio/Exp1_P25_audio/P25_18_audio.wav\n"
     ]
    },
    {
     "name": "stderr",
     "output_type": "stream",
     "text": [
      "\n",
      "chunk:  10%|█         | 188/1832 [00:00<00:02, 749.59it/s, now=None] \u001b[A\n",
      "chunk:  14%|█▍        | 255/1832 [00:00<00:02, 596.74it/s, now=None]\u001b[A\n",
      "chunk:  17%|█▋        | 316/1832 [00:00<00:02, 600.33it/s, now=None]\u001b[A\n",
      "chunk:  22%|██▏       | 408/1832 [00:00<00:02, 574.89it/s, now=None]\u001b[A\n",
      "chunk:  25%|██▌       | 459/1832 [00:00<00:03, 443.85it/s, now=None]\u001b[A\n",
      "chunk:  31%|███       | 561/1832 [00:01<00:02, 461.16it/s, now=None]\u001b[A\n",
      "chunk:  36%|███▌      | 663/1832 [00:01<00:02, 403.73it/s, now=None]\u001b[A\n",
      "chunk:  39%|███▉      | 714/1832 [00:01<00:02, 417.21it/s, now=None]\u001b[A\n",
      "chunk:  42%|████▏     | 765/1832 [00:01<00:02, 393.28it/s, now=None]\u001b[A\n",
      "chunk:  47%|████▋     | 867/1832 [00:01<00:02, 383.26it/s, now=None]\u001b[A\n",
      "chunk:  50%|█████     | 918/1832 [00:02<00:02, 392.27it/s, now=None]\u001b[A\n",
      "chunk:  53%|█████▎    | 969/1832 [00:02<00:02, 404.69it/s, now=None]\u001b[A\n",
      "chunk:  56%|█████▌    | 1020/1832 [00:02<00:02, 380.95it/s, now=None]\u001b[A\n",
      "chunk:  58%|█████▊    | 1071/1832 [00:02<00:01, 389.97it/s, now=None]\u001b[A\n",
      "chunk:  61%|██████    | 1122/1832 [00:02<00:02, 339.01it/s, now=None]\u001b[A\n",
      "chunk:  64%|██████▍   | 1173/1832 [00:02<00:02, 324.24it/s, now=None]\u001b[A\n",
      "chunk:  67%|██████▋   | 1224/1832 [00:02<00:01, 321.71it/s, now=None]\u001b[A\n",
      "chunk:  72%|███████▏  | 1326/1832 [00:03<00:01, 341.29it/s, now=None]\u001b[A\n",
      "chunk:  75%|███████▌  | 1377/1832 [00:03<00:01, 377.57it/s, now=None]\u001b[A\n",
      "chunk:  78%|███████▊  | 1428/1832 [00:03<00:01, 379.83it/s, now=None]\u001b[A\n",
      "chunk:  81%|████████  | 1479/1832 [00:03<00:00, 403.68it/s, now=None]\u001b[A\n",
      "chunk:  84%|████████▎ | 1530/1832 [00:03<00:01, 300.67it/s, now=None]\u001b[A\n",
      "chunk:  86%|████████▋ | 1581/1832 [00:04<00:00, 280.04it/s, now=None]\u001b[A\n",
      "chunk:  89%|████████▉ | 1632/1832 [00:04<00:00, 289.19it/s, now=None]\u001b[A\n",
      "chunk:  92%|█████████▏| 1683/1832 [00:04<00:00, 248.96it/s, now=None]\u001b[A\n",
      "chunk:  95%|█████████▍| 1734/1832 [00:04<00:00, 282.26it/s, now=None]\u001b[A\n",
      "chunk:  98%|█████████▊| 1797/1832 [00:04<00:00, 338.22it/s, now=None]\u001b[A\n",
      "chunk:   1%|▏         | 29/2121 [7:07:29<513:58:02, 884.46s/it, now=None]"
     ]
    },
    {
     "name": "stdout",
     "output_type": "stream",
     "text": [
      "MoviePy - Done.\n"
     ]
    },
    {
     "name": "stderr",
     "output_type": "stream",
     "text": [
      "chunk:   1%|▏         | 29/2121 [7:07:29<513:58:53, 884.48s/it, now=None]\n",
      "chunk:   0%|          | 0/2782 [00:00<?, ?it/s, now=None]\u001b[A"
     ]
    },
    {
     "name": "stdout",
     "output_type": "stream",
     "text": [
      "MoviePy - Writing audio in /home/jupyter/datasets/amigos/audio/Exp1_P25_audio/P25_19_audio.wav\n"
     ]
    },
    {
     "name": "stderr",
     "output_type": "stream",
     "text": [
      "\n",
      "chunk:   5%|▌         | 153/2782 [00:00<00:03, 827.38it/s, now=None]\u001b[A\n",
      "chunk:   7%|▋         | 204/2782 [00:00<00:05, 508.92it/s, now=None]\u001b[A\n",
      "chunk:   9%|▉         | 255/2782 [00:00<00:05, 472.15it/s, now=None]\u001b[A\n",
      "chunk:  13%|█▎        | 357/2782 [00:00<00:04, 497.18it/s, now=None]\u001b[A\n",
      "chunk:  16%|█▋        | 459/2782 [00:00<00:04, 525.84it/s, now=None]\u001b[A\n",
      "chunk:  20%|██        | 561/2782 [00:00<00:03, 564.67it/s, now=None]\u001b[A\n",
      "chunk:  22%|██▏       | 613/2782 [00:01<00:04, 534.66it/s, now=None]\u001b[A\n",
      "chunk:  26%|██▌       | 714/2782 [00:01<00:03, 586.07it/s, now=None]\u001b[A\n",
      "chunk:  29%|██▉       | 816/2782 [00:01<00:03, 539.46it/s, now=None]\u001b[A\n",
      "chunk:  33%|███▎      | 918/2782 [00:01<00:03, 546.29it/s, now=None]\u001b[A\n",
      "chunk:  36%|███▋      | 1013/2782 [00:01<00:02, 626.04it/s, now=None]\u001b[A\n",
      "chunk:  39%|███▉      | 1080/2782 [00:01<00:03, 484.47it/s, now=None]\u001b[A\n",
      "chunk:  42%|████▏     | 1173/2782 [00:02<00:03, 498.58it/s, now=None]\u001b[A\n",
      "chunk:  46%|████▌     | 1275/2782 [00:02<00:02, 516.77it/s, now=None]\u001b[A\n",
      "chunk:  49%|████▉     | 1368/2782 [00:02<00:02, 596.07it/s, now=None]\u001b[A\n",
      "chunk:  52%|█████▏    | 1435/2782 [00:02<00:02, 560.06it/s, now=None]\u001b[A\n",
      "chunk:  55%|█████▍    | 1530/2782 [00:02<00:02, 594.66it/s, now=None]\u001b[A\n",
      "chunk:  57%|█████▋    | 1594/2782 [00:02<00:02, 581.21it/s, now=None]\u001b[A\n",
      "chunk:  60%|██████    | 1683/2782 [00:03<00:02, 499.60it/s, now=None]\u001b[A\n",
      "chunk:  62%|██████▏   | 1738/2782 [00:03<00:02, 377.25it/s, now=None]\u001b[A\n",
      "chunk:  64%|██████▍   | 1785/2782 [00:03<00:02, 356.48it/s, now=None]\u001b[A\n",
      "chunk:  67%|██████▋   | 1851/2782 [00:03<00:02, 413.46it/s, now=None]\u001b[A\n",
      "chunk:  68%|██████▊   | 1900/2782 [00:03<00:02, 423.71it/s, now=None]\u001b[A\n",
      "chunk:  70%|███████   | 1948/2782 [00:03<00:02, 411.62it/s, now=None]\u001b[A\n",
      "chunk:  73%|███████▎  | 2039/2782 [00:03<00:01, 492.38it/s, now=None]\u001b[A\n",
      "chunk:  75%|███████▌  | 2098/2782 [00:04<00:01, 370.21it/s, now=None]\u001b[A\n",
      "chunk:  77%|███████▋  | 2147/2782 [00:04<00:02, 310.38it/s, now=None]\u001b[A\n",
      "chunk:  79%|███████▉  | 2193/2782 [00:04<00:02, 287.51it/s, now=None]\u001b[A\n",
      "chunk:  81%|████████  | 2244/2782 [00:04<00:02, 256.90it/s, now=None]\u001b[A\n",
      "chunk:  82%|████████▏ | 2295/2782 [00:04<00:02, 242.87it/s, now=None]\u001b[A\n",
      "chunk:  86%|████████▌ | 2397/2782 [00:05<00:01, 291.39it/s, now=None]\u001b[A\n",
      "chunk:  90%|████████▉ | 2499/2782 [00:05<00:00, 336.55it/s, now=None]\u001b[A\n",
      "chunk:  92%|█████████▏| 2550/2782 [00:05<00:00, 353.41it/s, now=None]\u001b[A\n",
      "chunk:  93%|█████████▎| 2601/2782 [00:05<00:00, 372.61it/s, now=None]\u001b[A\n",
      "chunk:  95%|█████████▌| 2652/2782 [00:05<00:00, 378.94it/s, now=None]\u001b[A\n",
      "chunk:  99%|█████████▉| 2754/2782 [00:05<00:00, 434.52it/s, now=None]\u001b[A\n",
      "chunk:   1%|▏         | 29/2121 [7:07:35<514:06:01, 884.69s/it, now=None]"
     ]
    },
    {
     "name": "stdout",
     "output_type": "stream",
     "text": [
      "MoviePy - Done.\n"
     ]
    },
    {
     "name": "stderr",
     "output_type": "stream",
     "text": [
      "chunk:   1%|▏         | 29/2121 [7:07:36<514:06:34, 884.70s/it, now=None]\n",
      "chunk:   0%|          | 0/1449 [00:00<?, ?it/s, now=None]\u001b[A\n",
      "chunk:  11%|█         | 153/1449 [00:00<00:01, 896.17it/s, now=None]\u001b[A"
     ]
    },
    {
     "name": "stdout",
     "output_type": "stream",
     "text": [
      "MoviePy - Writing audio in /home/jupyter/datasets/amigos/audio/Exp1_P25_audio/P25_20_audio.wav\n"
     ]
    },
    {
     "name": "stderr",
     "output_type": "stream",
     "text": [
      "\n",
      "chunk:  18%|█▊        | 260/1449 [00:00<00:01, 941.79it/s, now=None]\u001b[A\n",
      "chunk:  25%|██▍       | 357/1449 [00:00<00:01, 879.83it/s, now=None]\u001b[A\n",
      "chunk:  32%|███▏      | 459/1449 [00:00<00:01, 744.10it/s, now=None]\u001b[A\n",
      "chunk:  36%|███▌      | 517/1449 [00:00<00:01, 675.27it/s, now=None]\u001b[A\n",
      "chunk:  42%|████▏     | 612/1449 [00:00<00:01, 592.26it/s, now=None]\u001b[A\n",
      "chunk:  46%|████▌     | 666/1449 [00:01<00:01, 515.78it/s, now=None]\u001b[A\n",
      "chunk:  53%|█████▎    | 765/1449 [00:01<00:01, 588.40it/s, now=None]\u001b[A\n",
      "chunk:  60%|█████▉    | 867/1449 [00:01<00:01, 545.85it/s, now=None]\u001b[A\n",
      "chunk:  66%|██████▋   | 962/1449 [00:01<00:00, 625.61it/s, now=None]\u001b[A\n",
      "chunk:  71%|███████   | 1031/1449 [00:01<00:00, 493.01it/s, now=None]\u001b[A\n",
      "chunk:  77%|███████▋  | 1122/1449 [00:01<00:00, 462.88it/s, now=None]\u001b[A\n",
      "chunk:  84%|████████▍ | 1224/1449 [00:02<00:00, 482.48it/s, now=None]\u001b[A\n",
      "chunk:  88%|████████▊ | 1280/1449 [00:02<00:00, 503.24it/s, now=None]\u001b[A\n",
      "chunk:  92%|█████████▏| 1334/1449 [00:02<00:00, 375.35it/s, now=None]\u001b[A\n",
      "chunk:  95%|█████████▌| 1379/1449 [00:02<00:00, 335.94it/s, now=None]\u001b[A\n",
      "chunk:   1%|▏         | 29/2121 [7:07:38<514:09:46, 884.79s/it, now=None]"
     ]
    },
    {
     "name": "stdout",
     "output_type": "stream",
     "text": [
      "MoviePy - Done.\n"
     ]
    },
    {
     "name": "stderr",
     "output_type": "stream",
     "text": [
      "chunk:   1%|▏         | 29/2121 [7:07:39<514:10:37, 884.82s/it, now=None]\n",
      "chunk:   0%|          | 0/2465 [00:00<?, ?it/s, now=None]\u001b[A\n",
      "chunk:   4%|▍         | 102/2465 [00:00<00:02, 871.67it/s, now=None]\u001b[A"
     ]
    },
    {
     "name": "stdout",
     "output_type": "stream",
     "text": [
      "MoviePy - Writing audio in /home/jupyter/datasets/amigos/audio/Exp1_P25_audio/P25_23_audio.wav\n"
     ]
    },
    {
     "name": "stderr",
     "output_type": "stream",
     "text": [
      "\n",
      "chunk:   8%|▊         | 204/2465 [00:00<00:02, 903.59it/s, now=None]\u001b[A\n",
      "chunk:  10%|█         | 255/2465 [00:00<00:04, 495.52it/s, now=None]\u001b[A\n",
      "chunk:  14%|█▍        | 357/2465 [00:00<00:03, 557.83it/s, now=None]\u001b[A\n",
      "chunk:  19%|█▊        | 459/2465 [00:00<00:04, 472.06it/s, now=None]\u001b[A\n",
      "chunk:  22%|██▏       | 540/2465 [00:00<00:03, 539.56it/s, now=None]\u001b[A\n",
      "chunk:  24%|██▍       | 598/2465 [00:01<00:03, 545.99it/s, now=None]\u001b[A\n",
      "chunk:  27%|██▋       | 663/2465 [00:01<00:04, 443.80it/s, now=None]\u001b[A\n",
      "chunk:  29%|██▉       | 714/2465 [00:01<00:04, 387.35it/s, now=None]\u001b[A\n",
      "chunk:  31%|███       | 765/2465 [00:01<00:04, 366.19it/s, now=None]\u001b[A\n",
      "chunk:  33%|███▎      | 816/2465 [00:01<00:04, 368.41it/s, now=None]\u001b[A\n",
      "chunk:  35%|███▌      | 867/2465 [00:01<00:04, 386.75it/s, now=None]\u001b[A\n",
      "chunk:  37%|███▋      | 918/2465 [00:02<00:04, 351.10it/s, now=None]\u001b[A\n",
      "chunk:  39%|███▉      | 969/2465 [00:02<00:04, 334.70it/s, now=None]\u001b[A\n",
      "chunk:  41%|████▏     | 1020/2465 [00:02<00:03, 370.03it/s, now=None]\u001b[A\n",
      "chunk:  46%|████▌     | 1122/2465 [00:02<00:03, 400.26it/s, now=None]\u001b[A\n",
      "chunk:  50%|████▉     | 1224/2465 [00:02<00:03, 363.84it/s, now=None]\u001b[A\n",
      "chunk:  52%|█████▏    | 1275/2465 [00:02<00:02, 397.89it/s, now=None]\u001b[A\n",
      "chunk:  54%|█████▍    | 1326/2465 [00:03<00:02, 410.47it/s, now=None]\u001b[A\n",
      "chunk:  56%|█████▌    | 1377/2465 [00:03<00:02, 426.57it/s, now=None]\u001b[A\n",
      "chunk:  60%|██████    | 1479/2465 [00:03<00:02, 473.88it/s, now=None]\u001b[A\n",
      "chunk:  62%|██████▏   | 1530/2465 [00:03<00:02, 367.74it/s, now=None]\u001b[A\n",
      "chunk:  66%|██████▌   | 1632/2465 [00:03<00:01, 420.65it/s, now=None]\u001b[A\n",
      "chunk:  69%|██████▉   | 1704/2465 [00:03<00:01, 480.39it/s, now=None]\u001b[A\n",
      "chunk:  72%|███████▏  | 1785/2465 [00:03<00:01, 499.26it/s, now=None]\u001b[A\n",
      "chunk:  77%|███████▋  | 1887/2465 [00:04<00:01, 463.76it/s, now=None]\u001b[A\n",
      "chunk:  79%|███████▊  | 1938/2465 [00:04<00:01, 449.86it/s, now=None]\u001b[A\n",
      "chunk:  83%|████████▎ | 2040/2465 [00:04<00:00, 459.55it/s, now=None]\u001b[A\n",
      "chunk:  85%|████████▍ | 2091/2465 [00:04<00:00, 417.24it/s, now=None]\u001b[A\n",
      "chunk:  88%|████████▊ | 2178/2465 [00:04<00:00, 494.42it/s, now=None]\u001b[A\n",
      "chunk:  91%|█████████ | 2244/2465 [00:04<00:00, 487.88it/s, now=None]\u001b[A\n",
      "chunk:  93%|█████████▎| 2299/2465 [00:05<00:00, 480.30it/s, now=None]\u001b[A\n",
      "chunk:  95%|█████████▌| 2351/2465 [00:05<00:00, 381.56it/s, now=None]\u001b[A\n",
      "chunk:  97%|█████████▋| 2397/2465 [00:05<00:00, 370.76it/s, now=None]\u001b[A\n",
      "chunk:   1%|▏         | 29/2121 [7:07:45<514:17:09, 885.00s/it, now=None]"
     ]
    },
    {
     "name": "stdout",
     "output_type": "stream",
     "text": [
      "MoviePy - Done.\n"
     ]
    },
    {
     "name": "stderr",
     "output_type": "stream",
     "text": [
      "chunk:   1%|▏         | 29/2121 [7:07:45<514:17:45, 885.02s/it, now=None]\n",
      "chunk:   0%|          | 0/1687 [00:00<?, ?it/s, now=None]\u001b[A\n",
      "chunk:   6%|▌         | 102/1687 [00:00<00:01, 979.52it/s, now=None]\u001b[A"
     ]
    },
    {
     "name": "stdout",
     "output_type": "stream",
     "text": [
      "MoviePy - Writing audio in /home/jupyter/datasets/amigos/audio/Exp1_P25_audio/P25_30_audio.wav\n"
     ]
    },
    {
     "name": "stderr",
     "output_type": "stream",
     "text": [
      "\n",
      "chunk:   9%|▉         | 153/1687 [00:00<00:02, 689.39it/s, now=None]\u001b[A\n",
      "chunk:  14%|█▎        | 231/1687 [00:00<00:02, 714.07it/s, now=None]\u001b[A\n",
      "chunk:  16%|█▋        | 278/1687 [00:00<00:02, 518.38it/s, now=None]\u001b[A\n",
      "chunk:  19%|█▉        | 320/1687 [00:00<00:03, 399.93it/s, now=None]\u001b[A\n",
      "chunk:  22%|██▏       | 370/1687 [00:00<00:03, 425.27it/s, now=None]\u001b[A\n",
      "chunk:  26%|██▌       | 437/1687 [00:00<00:02, 477.32it/s, now=None]\u001b[A\n",
      "chunk:  30%|███       | 510/1687 [00:01<00:02, 452.32it/s, now=None]\u001b[A\n",
      "chunk:  33%|███▎      | 561/1687 [00:01<00:02, 445.34it/s, now=None]\u001b[A\n",
      "chunk:  36%|███▋      | 612/1687 [00:01<00:02, 427.15it/s, now=None]\u001b[A\n",
      "chunk:  39%|███▉      | 663/1687 [00:01<00:02, 440.51it/s, now=None]\u001b[A\n",
      "chunk:  45%|████▌     | 765/1687 [00:01<00:01, 480.28it/s, now=None]\u001b[A\n",
      "chunk:  51%|█████▏    | 867/1687 [00:01<00:01, 455.29it/s, now=None]\u001b[A\n",
      "chunk:  54%|█████▍    | 918/1687 [00:01<00:01, 426.84it/s, now=None]\u001b[A\n",
      "chunk:  57%|█████▋    | 969/1687 [00:02<00:01, 383.21it/s, now=None]\u001b[A\n",
      "chunk:  62%|██████▏   | 1051/1687 [00:02<00:01, 456.08it/s, now=None]\u001b[A\n",
      "chunk:  65%|██████▌   | 1104/1687 [00:02<00:01, 378.09it/s, now=None]\u001b[A\n",
      "chunk:  68%|██████▊   | 1149/1687 [00:02<00:01, 373.56it/s, now=None]\u001b[A\n",
      "chunk:  73%|███████▎  | 1224/1687 [00:02<00:01, 388.60it/s, now=None]\u001b[A\n",
      "chunk:  77%|███████▋  | 1299/1687 [00:02<00:00, 454.16it/s, now=None]\u001b[A\n",
      "chunk:  80%|████████  | 1352/1687 [00:02<00:00, 447.48it/s, now=None]\u001b[A\n",
      "chunk:  85%|████████▍ | 1428/1687 [00:03<00:00, 419.39it/s, now=None]\u001b[A\n",
      "chunk:  88%|████████▊ | 1479/1687 [00:03<00:00, 384.91it/s, now=None]\u001b[A\n",
      "chunk:  91%|█████████ | 1530/1687 [00:03<00:00, 385.83it/s, now=None]\u001b[A\n",
      "chunk:  96%|█████████▌| 1613/1687 [00:03<00:00, 459.60it/s, now=None]\u001b[A\n",
      "chunk:   1%|▏         | 29/2121 [7:07:49<514:22:06, 885.15s/it, now=None]"
     ]
    },
    {
     "name": "stdout",
     "output_type": "stream",
     "text": [
      "MoviePy - Done.\n"
     ]
    },
    {
     "name": "stderr",
     "output_type": "stream",
     "text": [
      "chunk:   1%|▏         | 29/2121 [7:07:49<514:22:55, 885.17s/it, now=None]\n",
      "chunk:   0%|          | 0/3444 [00:00<?, ?it/s, now=None]\u001b[A"
     ]
    },
    {
     "name": "stdout",
     "output_type": "stream",
     "text": [
      "MoviePy - Writing audio in /home/jupyter/datasets/amigos/audio/Exp1_P25_audio/P25_31_audio.wav\n"
     ]
    },
    {
     "name": "stderr",
     "output_type": "stream",
     "text": [
      "\n",
      "chunk:   3%|▎         | 102/3444 [00:00<00:06, 538.43it/s, now=None]\u001b[A\n",
      "chunk:   4%|▍         | 153/3444 [00:00<00:06, 523.38it/s, now=None]\u001b[A\n",
      "chunk:   6%|▌         | 204/3444 [00:00<00:08, 362.84it/s, now=None]\u001b[A\n",
      "chunk:   7%|▋         | 255/3444 [00:00<00:09, 321.82it/s, now=None]\u001b[A\n",
      "chunk:   9%|▉         | 306/3444 [00:00<00:10, 292.28it/s, now=None]\u001b[A\n",
      "chunk:  10%|█         | 357/3444 [00:01<00:09, 309.18it/s, now=None]\u001b[A\n",
      "chunk:  12%|█▏        | 408/3444 [00:01<00:09, 322.41it/s, now=None]\u001b[A\n",
      "chunk:  13%|█▎        | 459/3444 [00:01<00:09, 323.79it/s, now=None]\u001b[A\n",
      "chunk:  15%|█▍        | 510/3444 [00:01<00:08, 353.52it/s, now=None]\u001b[A\n",
      "chunk:  16%|█▋        | 561/3444 [00:01<00:08, 321.55it/s, now=None]\u001b[A\n",
      "chunk:  18%|█▊        | 612/3444 [00:01<00:08, 349.94it/s, now=None]\u001b[A\n",
      "chunk:  19%|█▉        | 663/3444 [00:01<00:07, 372.73it/s, now=None]\u001b[A\n",
      "chunk:  21%|██        | 729/3444 [00:02<00:06, 428.63it/s, now=None]\u001b[A\n",
      "chunk:  23%|██▎       | 776/3444 [00:02<00:06, 387.25it/s, now=None]\u001b[A\n",
      "chunk:  24%|██▍       | 819/3444 [00:02<00:07, 365.12it/s, now=None]\u001b[A\n",
      "chunk:  27%|██▋       | 918/3444 [00:02<00:06, 390.36it/s, now=None]\u001b[A\n",
      "chunk:  28%|██▊       | 969/3444 [00:02<00:06, 361.73it/s, now=None]\u001b[A\n",
      "chunk:  31%|███       | 1071/3444 [00:02<00:05, 433.96it/s, now=None]\u001b[A\n",
      "chunk:  34%|███▍      | 1173/3444 [00:03<00:05, 419.42it/s, now=None]\u001b[A\n",
      "chunk:  36%|███▌      | 1224/3444 [00:03<00:05, 417.97it/s, now=None]\u001b[A\n",
      "chunk:  37%|███▋      | 1275/3444 [00:03<00:05, 423.53it/s, now=None]\u001b[A\n",
      "chunk:  40%|███▉      | 1377/3444 [00:03<00:04, 443.42it/s, now=None]\u001b[A\n",
      "chunk:  42%|████▏     | 1450/3444 [00:03<00:03, 502.59it/s, now=None]\u001b[A\n",
      "chunk:  44%|████▍     | 1530/3444 [00:03<00:04, 412.36it/s, now=None]\u001b[A\n",
      "chunk:  46%|████▌     | 1581/3444 [00:04<00:04, 428.42it/s, now=None]\u001b[A\n",
      "chunk:  48%|████▊     | 1647/3444 [00:04<00:03, 478.67it/s, now=None]\u001b[A\n",
      "chunk:  49%|████▉     | 1700/3444 [00:04<00:03, 471.96it/s, now=None]\u001b[A\n",
      "chunk:  51%|█████     | 1751/3444 [00:04<00:03, 480.52it/s, now=None]\u001b[A\n",
      "chunk:  52%|█████▏    | 1802/3444 [00:04<00:03, 452.31it/s, now=None]\u001b[A\n",
      "chunk:  55%|█████▍    | 1887/3444 [00:04<00:03, 420.03it/s, now=None]\u001b[A\n",
      "chunk:  56%|█████▋    | 1938/3444 [00:04<00:03, 435.64it/s, now=None]\u001b[A\n",
      "chunk:  58%|█████▊    | 1989/3444 [00:04<00:03, 418.09it/s, now=None]\u001b[A\n",
      "chunk:  60%|█████▉    | 2065/3444 [00:05<00:02, 483.29it/s, now=None]\u001b[A\n",
      "chunk:  62%|██████▏   | 2136/3444 [00:05<00:02, 534.26it/s, now=None]\u001b[A\n",
      "chunk:  64%|██████▎   | 2195/3444 [00:05<00:03, 369.83it/s, now=None]\u001b[A\n",
      "chunk:  66%|██████▌   | 2277/3444 [00:05<00:02, 442.74it/s, now=None]\u001b[A\n",
      "chunk:  68%|██████▊   | 2346/3444 [00:05<00:03, 352.79it/s, now=None]\u001b[A\n",
      "chunk:  70%|██████▉   | 2409/3444 [00:05<00:02, 406.30it/s, now=None]\u001b[A\n",
      "chunk:  71%|███████▏  | 2462/3444 [00:06<00:03, 300.69it/s, now=None]\u001b[A\n",
      "chunk:  74%|███████▍  | 2550/3444 [00:06<00:02, 370.78it/s, now=None]\u001b[A\n",
      "chunk:  76%|███████▌  | 2604/3444 [00:06<00:02, 390.04it/s, now=None]\u001b[A\n",
      "chunk:  78%|███████▊  | 2703/3444 [00:06<00:01, 389.15it/s, now=None]\u001b[A\n",
      "chunk:  80%|███████▉  | 2754/3444 [00:06<00:01, 391.08it/s, now=None]\u001b[A\n",
      "chunk:  81%|████████▏ | 2805/3444 [00:06<00:01, 415.44it/s, now=None]\u001b[A\n",
      "chunk:  83%|████████▎ | 2871/3444 [00:06<00:01, 467.28it/s, now=None]\u001b[A\n",
      "chunk:  85%|████████▍ | 2924/3444 [00:07<00:01, 478.32it/s, now=None]\u001b[A\n",
      "chunk:  87%|████████▋ | 3009/3444 [00:07<00:00, 471.94it/s, now=None]\u001b[A\n",
      "chunk:  89%|████████▉ | 3060/3444 [00:07<00:00, 448.42it/s, now=None]\u001b[A\n",
      "chunk:  92%|█████████▏| 3162/3444 [00:07<00:00, 413.43it/s, now=None]\u001b[A\n",
      "chunk:  93%|█████████▎| 3213/3444 [00:07<00:00, 373.29it/s, now=None]\u001b[A\n",
      "chunk:  96%|█████████▋| 3315/3444 [00:08<00:00, 430.66it/s, now=None]\u001b[A\n",
      "chunk:  98%|█████████▊| 3366/3444 [00:08<00:00, 450.80it/s, now=None]\u001b[A\n",
      "chunk:   1%|▏         | 29/2121 [7:07:58<514:32:46, 885.45s/it, now=None]"
     ]
    },
    {
     "name": "stdout",
     "output_type": "stream",
     "text": [
      "MoviePy - Done.\n"
     ]
    },
    {
     "name": "stderr",
     "output_type": "stream",
     "text": [
      "chunk:   1%|▏         | 29/2121 [7:07:58<514:33:23, 885.47s/it, now=None]\n",
      "chunk:   0%|          | 0/1459 [00:00<?, ?it/s, now=None]\u001b[A\n",
      "chunk:   7%|▋         | 102/1459 [00:00<00:01, 864.56it/s, now=None]\u001b[A"
     ]
    },
    {
     "name": "stdout",
     "output_type": "stream",
     "text": [
      "MoviePy - Writing audio in /home/jupyter/datasets/amigos/audio/Exp1_P25_audio/P25_34_audio.wav\n"
     ]
    },
    {
     "name": "stderr",
     "output_type": "stream",
     "text": [
      "\n",
      "chunk:  10%|█         | 153/1459 [00:00<00:01, 706.85it/s, now=None]\u001b[A\n",
      "chunk:  17%|█▋        | 255/1459 [00:00<00:01, 764.31it/s, now=None]\u001b[A\n",
      "chunk:  21%|██        | 307/1459 [00:00<00:02, 568.85it/s, now=None]\u001b[A\n",
      "chunk:  29%|██▉       | 427/1459 [00:00<00:01, 675.37it/s, now=None]\u001b[A\n",
      "chunk:  34%|███▍      | 496/1459 [00:00<00:01, 593.02it/s, now=None]\u001b[A\n",
      "chunk:  38%|███▊      | 558/1459 [00:00<00:01, 489.72it/s, now=None]\u001b[A\n",
      "chunk:  42%|████▏     | 612/1459 [00:01<00:03, 264.84it/s, now=None]\u001b[A\n",
      "chunk:  45%|████▌     | 663/1459 [00:01<00:02, 282.72it/s, now=None]\u001b[A\n",
      "chunk:  52%|█████▏    | 765/1459 [00:01<00:02, 341.87it/s, now=None]\u001b[A\n",
      "chunk:  59%|█████▉    | 867/1459 [00:01<00:01, 383.74it/s, now=None]\u001b[A\n",
      "chunk:  66%|██████▋   | 969/1459 [00:02<00:01, 406.85it/s, now=None]\u001b[A\n",
      "chunk:  73%|███████▎  | 1071/1459 [00:02<00:00, 417.80it/s, now=None]\u001b[A\n",
      "chunk:  77%|███████▋  | 1122/1459 [00:02<00:00, 378.97it/s, now=None]\u001b[A\n",
      "chunk:  80%|████████  | 1173/1459 [00:02<00:00, 408.85it/s, now=None]\u001b[A\n",
      "chunk:  85%|████████▌ | 1241/1459 [00:02<00:00, 464.26it/s, now=None]\u001b[A\n",
      "chunk:  89%|████████▊ | 1293/1459 [00:02<00:00, 464.66it/s, now=None]\u001b[A\n",
      "chunk:  92%|█████████▏| 1344/1459 [00:02<00:00, 404.81it/s, now=None]\u001b[A\n",
      "chunk:  98%|█████████▊| 1435/1459 [00:03<00:00, 485.57it/s, now=None]\u001b[A\n",
      "chunk:   1%|▏         | 29/2121 [7:08:01<514:37:05, 885.58s/it, now=None]"
     ]
    },
    {
     "name": "stdout",
     "output_type": "stream",
     "text": [
      "MoviePy - Done.\n"
     ]
    },
    {
     "name": "stderr",
     "output_type": "stream",
     "text": [
      "chunk:   1%|▏         | 29/2121 [7:08:02<514:37:47, 885.60s/it, now=None]\n",
      "chunk:   0%|          | 0/1512 [00:00<?, ?it/s, now=None]\u001b[A"
     ]
    },
    {
     "name": "stdout",
     "output_type": "stream",
     "text": [
      "MoviePy - Writing audio in /home/jupyter/datasets/amigos/audio/Exp1_P25_audio/P25_36_audio.wav\n"
     ]
    },
    {
     "name": "stderr",
     "output_type": "stream",
     "text": [
      "\n",
      "chunk:  10%|█         | 153/1512 [00:00<00:02, 643.16it/s, now=None]\u001b[A\n",
      "chunk:  13%|█▎        | 204/1512 [00:00<00:03, 398.14it/s, now=None]\u001b[A\n",
      "chunk:  17%|█▋        | 255/1512 [00:00<00:03, 369.07it/s, now=None]\u001b[A\n",
      "chunk:  20%|██        | 306/1512 [00:00<00:03, 345.71it/s, now=None]\u001b[A\n",
      "chunk:  27%|██▋       | 408/1512 [00:01<00:03, 364.69it/s, now=None]\u001b[A\n",
      "chunk:  34%|███▎      | 510/1512 [00:01<00:02, 375.74it/s, now=None]\u001b[A\n",
      "chunk:  37%|███▋      | 561/1512 [00:01<00:02, 391.35it/s, now=None]\u001b[A\n",
      "chunk:  44%|████▍     | 663/1512 [00:01<00:02, 418.07it/s, now=None]\u001b[A\n",
      "chunk:  51%|█████     | 765/1512 [00:01<00:01, 449.52it/s, now=None]\u001b[A\n",
      "chunk:  57%|█████▋    | 867/1512 [00:02<00:01, 427.87it/s, now=None]\u001b[A\n",
      "chunk:  61%|██████    | 918/1512 [00:02<00:01, 416.60it/s, now=None]\u001b[A\n",
      "chunk:  64%|██████▍   | 969/1512 [00:02<00:01, 375.05it/s, now=None]\u001b[A\n",
      "chunk:  67%|██████▋   | 1020/1512 [00:02<00:01, 305.75it/s, now=None]\u001b[A\n",
      "chunk:  71%|███████   | 1071/1512 [00:02<00:01, 293.91it/s, now=None]\u001b[A\n",
      "chunk:  74%|███████▍  | 1122/1512 [00:02<00:01, 314.79it/s, now=None]\u001b[A\n",
      "chunk:  78%|███████▊  | 1173/1512 [00:03<00:01, 309.19it/s, now=None]\u001b[A\n",
      "chunk:  81%|████████  | 1224/1512 [00:03<00:01, 269.06it/s, now=None]\u001b[A\n",
      "chunk:  84%|████████▍ | 1275/1512 [00:03<00:01, 232.88it/s, now=None]\u001b[A\n",
      "chunk:  88%|████████▊ | 1326/1512 [00:03<00:00, 236.09it/s, now=None]\u001b[A\n",
      "chunk:  91%|█████████ | 1377/1512 [00:03<00:00, 265.03it/s, now=None]\u001b[A\n",
      "chunk:  94%|█████████▍| 1428/1512 [00:04<00:00, 284.16it/s, now=None]\u001b[A\n",
      "chunk:   1%|▏         | 29/2121 [7:08:06<514:42:53, 885.74s/it, now=None]"
     ]
    },
    {
     "name": "stdout",
     "output_type": "stream",
     "text": [
      "MoviePy - Done.\n"
     ]
    },
    {
     "name": "stderr",
     "output_type": "stream",
     "text": [
      "chunk:   1%|▏         | 29/2121 [7:08:07<514:43:39, 885.76s/it, now=None]\n",
      "chunk:   0%|          | 0/2020 [00:00<?, ?it/s, now=None]\u001b[A"
     ]
    },
    {
     "name": "stdout",
     "output_type": "stream",
     "text": [
      "MoviePy - Writing audio in /home/jupyter/datasets/amigos/audio/Exp1_P25_audio/P25_4_audio.wav\n"
     ]
    },
    {
     "name": "stderr",
     "output_type": "stream",
     "text": [
      "\n",
      "chunk:   8%|▊         | 153/2020 [00:00<00:02, 752.05it/s, now=None]\u001b[A\n",
      "chunk:  10%|█         | 204/2020 [00:00<00:02, 611.22it/s, now=None]\u001b[A\n",
      "chunk:  15%|█▌        | 306/2020 [00:00<00:02, 594.67it/s, now=None]\u001b[A\n",
      "chunk:  18%|█▊        | 362/2020 [00:00<00:02, 583.77it/s, now=None]\u001b[A\n",
      "chunk:  23%|██▎       | 459/2020 [00:00<00:02, 575.24it/s, now=None]\u001b[A\n",
      "chunk:  25%|██▌       | 510/2020 [00:01<00:04, 372.62it/s, now=None]\u001b[A\n",
      "chunk:  28%|██▊       | 561/2020 [00:01<00:04, 323.67it/s, now=None]\u001b[A\n",
      "chunk:  30%|███       | 612/2020 [00:01<00:04, 311.19it/s, now=None]\u001b[A\n",
      "chunk:  33%|███▎      | 663/2020 [00:01<00:04, 308.82it/s, now=None]\u001b[A\n",
      "chunk:  35%|███▌      | 714/2020 [00:01<00:03, 342.03it/s, now=None]\u001b[A\n",
      "chunk:  40%|████      | 816/2020 [00:01<00:03, 384.34it/s, now=None]\u001b[A\n",
      "chunk:  43%|████▎     | 867/2020 [00:02<00:02, 390.01it/s, now=None]\u001b[A\n",
      "chunk:  48%|████▊     | 969/2020 [00:02<00:02, 406.81it/s, now=None]\u001b[A\n",
      "chunk:  50%|█████     | 1020/2020 [00:02<00:02, 432.48it/s, now=None]\u001b[A\n",
      "chunk:  56%|█████▌    | 1122/2020 [00:02<00:01, 470.29it/s, now=None]\u001b[A\n",
      "chunk:  58%|█████▊    | 1173/2020 [00:02<00:02, 361.39it/s, now=None]\u001b[A\n",
      "chunk:  61%|██████    | 1224/2020 [00:02<00:02, 384.06it/s, now=None]\u001b[A\n",
      "chunk:  66%|██████▌   | 1326/2020 [00:03<00:01, 369.67it/s, now=None]\u001b[A\n",
      "chunk:  70%|███████   | 1419/2020 [00:03<00:01, 451.19it/s, now=None]\u001b[A\n",
      "chunk:  73%|███████▎  | 1475/2020 [00:03<00:01, 436.70it/s, now=None]\u001b[A\n",
      "chunk:  76%|███████▌  | 1527/2020 [00:03<00:01, 423.16it/s, now=None]\u001b[A\n",
      "chunk:  78%|███████▊  | 1575/2020 [00:03<00:01, 337.98it/s, now=None]\u001b[A\n",
      "chunk:  80%|████████  | 1616/2020 [00:03<00:01, 292.68it/s, now=None]\u001b[A\n",
      "chunk:  82%|████████▏ | 1651/2020 [00:04<00:01, 236.04it/s, now=None]\u001b[A\n",
      "chunk:  83%|████████▎ | 1683/2020 [00:04<00:01, 232.74it/s, now=None]\u001b[A\n",
      "chunk:  86%|████████▌ | 1734/2020 [00:04<00:01, 240.46it/s, now=None]\u001b[A\n",
      "chunk:  88%|████████▊ | 1785/2020 [00:04<00:00, 258.60it/s, now=None]\u001b[A\n",
      "chunk:  93%|█████████▎| 1875/2020 [00:04<00:00, 328.92it/s, now=None]\u001b[A\n",
      "chunk:  95%|█████████▌| 1922/2020 [00:04<00:00, 271.05it/s, now=None]\u001b[A\n",
      "chunk:  97%|█████████▋| 1961/2020 [00:05<00:00, 282.50it/s, now=None]\u001b[A\n",
      "chunk:  99%|█████████▉| 1998/2020 [00:05<00:00, 272.99it/s, now=None]\u001b[A\n",
      "chunk:   1%|▏         | 29/2121 [7:08:12<514:49:59, 885.95s/it, now=None]"
     ]
    },
    {
     "name": "stdout",
     "output_type": "stream",
     "text": [
      "MoviePy - Done.\n"
     ]
    },
    {
     "name": "stderr",
     "output_type": "stream",
     "text": [
      "chunk:   1%|▏         | 29/2121 [7:08:13<514:50:40, 885.97s/it, now=None]\n",
      "chunk:   0%|          | 0/2489 [00:00<?, ?it/s, now=None]\u001b[A\n",
      "chunk:   6%|▌         | 153/2489 [00:00<00:02, 989.90it/s, now=None]\u001b[A"
     ]
    },
    {
     "name": "stdout",
     "output_type": "stream",
     "text": [
      "MoviePy - Writing audio in /home/jupyter/datasets/amigos/audio/Exp1_P25_audio/P25_5_audio.wav\n"
     ]
    },
    {
     "name": "stderr",
     "output_type": "stream",
     "text": [
      "\n",
      "chunk:   8%|▊         | 204/2489 [00:00<00:03, 633.11it/s, now=None]\u001b[A\n",
      "chunk:  10%|█         | 260/2489 [00:00<00:03, 609.09it/s, now=None]\u001b[A\n",
      "chunk:  12%|█▏        | 306/2489 [00:00<00:05, 397.89it/s, now=None]\u001b[A\n",
      "chunk:  16%|█▋        | 408/2489 [00:00<00:04, 464.03it/s, now=None]\u001b[A\n",
      "chunk:  18%|█▊        | 459/2489 [00:00<00:05, 370.79it/s, now=None]\u001b[A\n",
      "chunk:  20%|██        | 510/2489 [00:01<00:06, 295.53it/s, now=None]\u001b[A\n",
      "chunk:  23%|██▎       | 561/2489 [00:01<00:09, 210.82it/s, now=None]\u001b[A\n",
      "chunk:  25%|██▍       | 612/2489 [00:01<00:09, 192.84it/s, now=None]\u001b[A\n",
      "chunk:  27%|██▋       | 663/2489 [00:02<00:09, 192.17it/s, now=None]\u001b[A\n",
      "chunk:  29%|██▊       | 714/2489 [00:02<00:08, 216.86it/s, now=None]\u001b[A\n",
      "chunk:  31%|███       | 765/2489 [00:02<00:06, 254.90it/s, now=None]\u001b[A\n",
      "chunk:  35%|███▍      | 867/2489 [00:02<00:06, 254.30it/s, now=None]\u001b[A\n",
      "chunk:  37%|███▋      | 918/2489 [00:03<00:05, 272.94it/s, now=None]\u001b[A\n",
      "chunk:  39%|███▉      | 969/2489 [00:03<00:05, 274.86it/s, now=None]\u001b[A\n",
      "chunk:  41%|████      | 1020/2489 [00:03<00:04, 314.50it/s, now=None]\u001b[A\n",
      "chunk:  45%|████▌     | 1122/2489 [00:03<00:03, 370.36it/s, now=None]\u001b[A\n",
      "chunk:  47%|████▋     | 1173/2489 [00:03<00:03, 364.89it/s, now=None]\u001b[A\n",
      "chunk:  49%|████▉     | 1224/2489 [00:03<00:03, 370.48it/s, now=None]\u001b[A\n",
      "chunk:  53%|█████▎    | 1326/2489 [00:04<00:03, 337.84it/s, now=None]\u001b[A\n",
      "chunk:  56%|█████▌    | 1385/2489 [00:04<00:02, 387.48it/s, now=None]\u001b[A\n",
      "chunk:  59%|█████▉    | 1479/2489 [00:04<00:02, 444.59it/s, now=None]\u001b[A\n",
      "chunk:  61%|██████▏   | 1530/2489 [00:04<00:02, 327.51it/s, now=None]\u001b[A\n",
      "chunk:  64%|██████▎   | 1581/2489 [00:04<00:02, 311.23it/s, now=None]\u001b[A\n",
      "chunk:  66%|██████▌   | 1632/2489 [00:04<00:02, 326.79it/s, now=None]\u001b[A\n",
      "chunk:  68%|██████▊   | 1683/2489 [00:05<00:02, 310.65it/s, now=None]\u001b[A\n",
      "chunk:  72%|███████▏  | 1785/2489 [00:05<00:02, 349.36it/s, now=None]\u001b[A\n",
      "chunk:  76%|███████▌  | 1887/2489 [00:05<00:01, 395.32it/s, now=None]\u001b[A\n",
      "chunk:  79%|███████▊  | 1955/2489 [00:05<00:01, 452.05it/s, now=None]\u001b[A\n",
      "chunk:  81%|████████  | 2007/2489 [00:05<00:01, 320.76it/s, now=None]\u001b[A\n",
      "chunk:  82%|████████▏ | 2049/2489 [00:06<00:01, 322.78it/s, now=None]\u001b[A\n",
      "chunk:  86%|████████▌ | 2142/2489 [00:06<00:00, 371.24it/s, now=None]\u001b[A\n",
      "chunk:  88%|████████▊ | 2193/2489 [00:06<00:00, 348.04it/s, now=None]\u001b[A\n",
      "chunk:  92%|█████████▏| 2295/2489 [00:06<00:00, 380.03it/s, now=None]\u001b[A\n",
      "chunk:  94%|█████████▍| 2346/2489 [00:06<00:00, 397.54it/s, now=None]\u001b[A\n",
      "chunk:  97%|█████████▋| 2420/2489 [00:06<00:00, 461.58it/s, now=None]\u001b[A\n",
      "chunk:   1%|▏         | 29/2121 [7:08:19<514:58:55, 886.20s/it, now=None]"
     ]
    },
    {
     "name": "stdout",
     "output_type": "stream",
     "text": [
      "MoviePy - Done.\n"
     ]
    },
    {
     "name": "stderr",
     "output_type": "stream",
     "text": [
      "chunk:   1%|▏         | 29/2121 [7:08:20<514:59:57, 886.23s/it, now=None]\n",
      "chunk:   0%|          | 0/1425 [00:00<?, ?it/s, now=None]\u001b[A"
     ]
    },
    {
     "name": "stdout",
     "output_type": "stream",
     "text": [
      "MoviePy - Writing audio in /home/jupyter/datasets/amigos/audio/Exp1_P25_audio/P25_58_audio.wav\n"
     ]
    },
    {
     "name": "stderr",
     "output_type": "stream",
     "text": [
      "\n",
      "chunk:  11%|█         | 153/1425 [00:00<00:01, 708.83it/s, now=None]\u001b[A\n",
      "chunk:  14%|█▍        | 204/1425 [00:00<00:02, 498.19it/s, now=None]\u001b[A\n",
      "chunk:  18%|█▊        | 255/1425 [00:00<00:02, 490.83it/s, now=None]\u001b[A\n",
      "chunk:  21%|██▏       | 306/1425 [00:00<00:02, 463.77it/s, now=None]\u001b[A\n",
      "chunk:  26%|██▋       | 377/1425 [00:00<00:02, 517.46it/s, now=None]\u001b[A\n",
      "chunk:  32%|███▏      | 459/1425 [00:00<00:01, 516.70it/s, now=None]\u001b[A\n",
      "chunk:  36%|███▌      | 510/1425 [00:01<00:02, 420.03it/s, now=None]\u001b[A\n",
      "chunk:  43%|████▎     | 612/1425 [00:01<00:01, 481.08it/s, now=None]\u001b[A\n",
      "chunk:  47%|████▋     | 663/1425 [00:01<00:01, 425.71it/s, now=None]\u001b[A\n",
      "chunk:  50%|█████     | 716/1425 [00:01<00:01, 452.30it/s, now=None]\u001b[A\n",
      "chunk:  57%|█████▋    | 816/1425 [00:01<00:01, 504.63it/s, now=None]\u001b[A\n",
      "chunk:  61%|██████    | 871/1425 [00:01<00:01, 431.00it/s, now=None]\u001b[A\n",
      "chunk:  64%|██████▍   | 919/1425 [00:01<00:01, 375.31it/s, now=None]\u001b[A\n",
      "chunk:  68%|██████▊   | 969/1425 [00:02<00:01, 372.13it/s, now=None]\u001b[A\n",
      "chunk:  73%|███████▎  | 1041/1425 [00:02<00:00, 435.20it/s, now=None]\u001b[A\n",
      "chunk:  79%|███████▊  | 1122/1425 [00:02<00:00, 463.61it/s, now=None]\u001b[A\n",
      "chunk:  84%|████████▍ | 1199/1425 [00:02<00:00, 526.26it/s, now=None]\u001b[A\n",
      "chunk:  93%|█████████▎| 1326/1425 [00:02<00:00, 552.19it/s, now=None]\u001b[A\n",
      "chunk:  97%|█████████▋| 1386/1425 [00:02<00:00, 549.15it/s, now=None]\u001b[A\n",
      "chunk:   1%|▏         | 29/2121 [7:08:23<515:03:16, 886.33s/it, now=None]"
     ]
    },
    {
     "name": "stdout",
     "output_type": "stream",
     "text": [
      "MoviePy - Done.\n"
     ]
    },
    {
     "name": "stderr",
     "output_type": "stream",
     "text": [
      "chunk:   1%|▏         | 29/2121 [7:08:24<515:04:05, 886.35s/it, now=None]\n",
      "chunk:   0%|          | 0/2262 [00:00<?, ?it/s, now=None]\u001b[A\n",
      "chunk:   5%|▍         | 102/2262 [00:00<00:02, 762.69it/s, now=None]\u001b[A"
     ]
    },
    {
     "name": "stdout",
     "output_type": "stream",
     "text": [
      "MoviePy - Writing audio in /home/jupyter/datasets/amigos/audio/Exp1_P25_audio/P25_80_audio.wav\n"
     ]
    },
    {
     "name": "stderr",
     "output_type": "stream",
     "text": [
      "\n",
      "chunk:   7%|▋         | 153/2262 [00:00<00:04, 519.57it/s, now=None]\u001b[A\n",
      "chunk:   9%|▉         | 204/2262 [00:00<00:04, 432.21it/s, now=None]\u001b[A\n",
      "chunk:  11%|█▏        | 255/2262 [00:00<00:06, 328.96it/s, now=None]\u001b[A\n",
      "chunk:  14%|█▎        | 306/2262 [00:00<00:07, 262.55it/s, now=None]\u001b[A\n",
      "chunk:  16%|█▌        | 357/2262 [00:01<00:08, 234.32it/s, now=None]\u001b[A\n",
      "chunk:  18%|█▊        | 408/2262 [00:01<00:06, 272.25it/s, now=None]\u001b[A\n",
      "chunk:  20%|██        | 459/2262 [00:01<00:06, 277.33it/s, now=None]\u001b[A\n",
      "chunk:  23%|██▎       | 510/2262 [00:01<00:05, 296.72it/s, now=None]\u001b[A\n",
      "chunk:  26%|██▌       | 588/2262 [00:01<00:04, 364.44it/s, now=None]\u001b[A\n",
      "chunk:  28%|██▊       | 633/2262 [00:01<00:04, 366.94it/s, now=None]\u001b[A\n",
      "chunk:  30%|██▉       | 676/2262 [00:02<00:04, 317.75it/s, now=None]\u001b[A\n",
      "chunk:  32%|███▏      | 714/2262 [00:02<00:05, 268.27it/s, now=None]\u001b[A\n",
      "chunk:  34%|███▍      | 765/2262 [00:02<00:05, 286.12it/s, now=None]\u001b[A\n",
      "chunk:  36%|███▌      | 816/2262 [00:02<00:04, 329.27it/s, now=None]\u001b[A\n",
      "chunk:  38%|███▊      | 867/2262 [00:02<00:04, 342.48it/s, now=None]\u001b[A\n",
      "chunk:  41%|████      | 918/2262 [00:02<00:03, 373.63it/s, now=None]\u001b[A\n",
      "chunk:  43%|████▎     | 969/2262 [00:03<00:04, 295.75it/s, now=None]\u001b[A\n",
      "chunk:  47%|████▋     | 1065/2262 [00:03<00:03, 373.17it/s, now=None]\u001b[A\n",
      "chunk:  49%|████▉     | 1118/2262 [00:03<00:04, 257.55it/s, now=None]\u001b[A\n",
      "chunk:  51%|█████▏    | 1160/2262 [00:03<00:04, 240.59it/s, now=None]\u001b[A\n",
      "chunk:  53%|█████▎    | 1196/2262 [00:03<00:04, 215.31it/s, now=None]\u001b[A\n",
      "chunk:  56%|█████▋    | 1275/2262 [00:04<00:04, 245.58it/s, now=None]\u001b[A\n",
      "chunk:  59%|█████▊    | 1326/2262 [00:04<00:03, 282.54it/s, now=None]\u001b[A\n",
      "chunk:  61%|██████    | 1377/2262 [00:04<00:03, 274.75it/s, now=None]\u001b[A\n",
      "chunk:  65%|██████▌   | 1479/2262 [00:04<00:02, 328.11it/s, now=None]\u001b[A\n",
      "chunk:  68%|██████▊   | 1530/2262 [00:04<00:02, 334.56it/s, now=None]\u001b[A\n",
      "chunk:  72%|███████▏  | 1623/2262 [00:04<00:01, 414.03it/s, now=None]\u001b[A\n",
      "chunk:  74%|███████▍  | 1683/2262 [00:05<00:01, 375.47it/s, now=None]\u001b[A\n",
      "chunk:  77%|███████▋  | 1734/2262 [00:05<00:01, 292.86it/s, now=None]\u001b[A\n",
      "chunk:  79%|███████▉  | 1785/2262 [00:05<00:01, 296.74it/s, now=None]\u001b[A\n",
      "chunk:  83%|████████▎ | 1887/2262 [00:05<00:01, 290.57it/s, now=None]\u001b[A\n",
      "chunk:  86%|████████▌ | 1938/2262 [00:05<00:00, 331.01it/s, now=None]\u001b[A\n",
      "chunk:  90%|█████████ | 2040/2262 [00:06<00:00, 357.01it/s, now=None]\u001b[A\n",
      "chunk:  92%|█████████▏| 2091/2262 [00:06<00:00, 303.62it/s, now=None]\u001b[A\n",
      "chunk:  95%|█████████▍| 2142/2262 [00:06<00:00, 285.04it/s, now=None]\u001b[A\n",
      "chunk:  97%|█████████▋| 2193/2262 [00:06<00:00, 266.00it/s, now=None]\u001b[A\n",
      "chunk:   1%|▏         | 29/2121 [7:08:31<515:12:23, 886.59s/it, now=None]"
     ]
    },
    {
     "name": "stdout",
     "output_type": "stream",
     "text": [
      "MoviePy - Done.\n"
     ]
    },
    {
     "name": "stderr",
     "output_type": "stream",
     "text": [
      "chunk:   1%|▏         | 29/2121 [7:08:31<515:13:13, 886.61s/it, now=None]\n",
      "chunk:   0%|          | 0/1671 [00:00<?, ?it/s, now=None]\u001b[A\n",
      "chunk:   6%|▋         | 107/1671 [00:00<00:01, 1069.55it/s, now=None]\u001b[A"
     ]
    },
    {
     "name": "stdout",
     "output_type": "stream",
     "text": [
      "MoviePy - Writing audio in /home/jupyter/datasets/amigos/audio/Exp1_P25_audio/P25_9_audio.wav\n"
     ]
    },
    {
     "name": "stderr",
     "output_type": "stream",
     "text": [
      "\n",
      "chunk:   9%|▉         | 153/1671 [00:00<00:02, 668.29it/s, now=None] \u001b[A\n",
      "chunk:  12%|█▏        | 204/1671 [00:00<00:03, 465.78it/s, now=None]\u001b[A\n",
      "chunk:  15%|█▌        | 255/1671 [00:00<00:03, 437.93it/s, now=None]\u001b[A\n",
      "chunk:  18%|█▊        | 306/1671 [00:00<00:04, 330.15it/s, now=None]\u001b[A\n",
      "chunk:  21%|██▏       | 357/1671 [00:01<00:04, 294.25it/s, now=None]\u001b[A\n",
      "chunk:  24%|██▍       | 408/1671 [00:01<00:03, 319.97it/s, now=None]\u001b[A\n",
      "chunk:  31%|███       | 510/1671 [00:01<00:03, 370.29it/s, now=None]\u001b[A\n",
      "chunk:  37%|███▋      | 612/1671 [00:01<00:02, 432.96it/s, now=None]\u001b[A\n",
      "chunk:  40%|███▉      | 663/1671 [00:01<00:03, 327.72it/s, now=None]\u001b[A\n",
      "chunk:  43%|████▎     | 714/1671 [00:01<00:03, 299.46it/s, now=None]\u001b[A\n",
      "chunk:  46%|████▌     | 765/1671 [00:02<00:02, 323.04it/s, now=None]\u001b[A\n",
      "chunk:  49%|████▉     | 816/1671 [00:02<00:02, 345.38it/s, now=None]\u001b[A\n",
      "chunk:  52%|█████▏    | 867/1671 [00:02<00:02, 346.18it/s, now=None]\u001b[A\n",
      "chunk:  55%|█████▍    | 918/1671 [00:02<00:02, 364.08it/s, now=None]\u001b[A\n",
      "chunk:  61%|██████    | 1020/1671 [00:02<00:01, 382.26it/s, now=None]\u001b[A\n",
      "chunk:  64%|██████▍   | 1071/1671 [00:02<00:01, 384.83it/s, now=None]\u001b[A\n",
      "chunk:  70%|███████   | 1173/1671 [00:03<00:01, 381.08it/s, now=None]\u001b[A\n",
      "chunk:  73%|███████▎  | 1224/1671 [00:03<00:01, 377.55it/s, now=None]\u001b[A\n",
      "chunk:  76%|███████▋  | 1275/1671 [00:03<00:01, 331.90it/s, now=None]\u001b[A\n",
      "chunk:  82%|████████▏ | 1373/1671 [00:03<00:00, 413.95it/s, now=None]\u001b[A\n",
      "chunk:  85%|████████▌ | 1427/1671 [00:03<00:00, 326.02it/s, now=None]\u001b[A\n",
      "chunk:  88%|████████▊ | 1472/1671 [00:03<00:00, 264.78it/s, now=None]\u001b[A\n",
      "chunk:  92%|█████████▏| 1530/1671 [00:04<00:00, 235.63it/s, now=None]\u001b[A\n",
      "chunk:  95%|█████████▍| 1581/1671 [00:04<00:00, 271.78it/s, now=None]\u001b[A\n",
      "chunk:  99%|█████████▊| 1649/1671 [00:04<00:00, 331.39it/s, now=None]\u001b[A\n",
      "chunk:   1%|▏         | 29/2121 [7:08:36<515:18:42, 886.77s/it, now=None]"
     ]
    },
    {
     "name": "stdout",
     "output_type": "stream",
     "text": [
      "MoviePy - Done.\n"
     ]
    },
    {
     "name": "stderr",
     "output_type": "stream",
     "text": [
      "chunk:   1%|▏         | 29/2121 [7:08:37<515:19:33, 886.79s/it, now=None]\n",
      "chunk:   0%|          | 0/2122 [00:00<?, ?it/s, now=None]\u001b[A\n",
      "chunk:   5%|▍         | 102/2122 [00:00<00:02, 719.70it/s, now=None]\u001b[A"
     ]
    },
    {
     "name": "stdout",
     "output_type": "stream",
     "text": [
      "MoviePy - Writing audio in /home/jupyter/datasets/amigos/audio/Exp1_P26_audio/P26_10_audio.wav\n"
     ]
    },
    {
     "name": "stderr",
     "output_type": "stream",
     "text": [
      "\n",
      "chunk:  10%|▉         | 204/2122 [00:00<00:03, 591.35it/s, now=None]\u001b[A\n",
      "chunk:  12%|█▏        | 255/2122 [00:00<00:03, 548.46it/s, now=None]\u001b[A\n",
      "chunk:  17%|█▋        | 357/2122 [00:00<00:03, 545.38it/s, now=None]\u001b[A\n",
      "chunk:  19%|█▉        | 408/2122 [00:00<00:05, 339.02it/s, now=None]\u001b[A\n",
      "chunk:  22%|██▏       | 459/2122 [00:01<00:05, 298.63it/s, now=None]\u001b[A\n",
      "chunk:  24%|██▍       | 510/2122 [00:01<00:04, 324.21it/s, now=None]\u001b[A\n",
      "chunk:  26%|██▋       | 561/2122 [00:01<00:04, 349.49it/s, now=None]\u001b[A\n",
      "chunk:  29%|██▉       | 612/2122 [00:01<00:04, 354.65it/s, now=None]\u001b[A\n",
      "chunk:  34%|███▎      | 714/2122 [00:01<00:03, 394.64it/s, now=None]\u001b[A\n",
      "chunk:  36%|███▌      | 765/2122 [00:01<00:03, 417.38it/s, now=None]\u001b[A\n",
      "chunk:  38%|███▊      | 816/2122 [00:02<00:03, 352.05it/s, now=None]\u001b[A\n",
      "chunk:  41%|████      | 867/2122 [00:02<00:04, 301.34it/s, now=None]\u001b[A\n",
      "chunk:  44%|████▎     | 927/2122 [00:02<00:03, 354.13it/s, now=None]\u001b[A\n",
      "chunk:  48%|████▊     | 1020/2122 [00:02<00:02, 402.29it/s, now=None]\u001b[A\n",
      "chunk:  50%|█████     | 1071/2122 [00:02<00:02, 422.52it/s, now=None]\u001b[A\n",
      "chunk:  55%|█████▌    | 1173/2122 [00:02<00:02, 443.15it/s, now=None]\u001b[A\n",
      "chunk:  60%|██████    | 1275/2122 [00:02<00:01, 518.29it/s, now=None]\u001b[A\n",
      "chunk:  63%|██████▎   | 1346/2122 [00:03<00:01, 563.53it/s, now=None]\u001b[A\n",
      "chunk:  66%|██████▋   | 1409/2122 [00:03<00:01, 550.05it/s, now=None]\u001b[A\n",
      "chunk:  70%|██████▉   | 1479/2122 [00:03<00:01, 562.61it/s, now=None]\u001b[A\n",
      "chunk:  73%|███████▎  | 1539/2122 [00:03<00:01, 365.30it/s, now=None]\u001b[A\n",
      "chunk:  75%|███████▍  | 1587/2122 [00:03<00:01, 347.85it/s, now=None]\u001b[A\n",
      "chunk:  77%|███████▋  | 1632/2122 [00:03<00:01, 316.24it/s, now=None]\u001b[A\n",
      "chunk:  79%|███████▉  | 1683/2122 [00:04<00:01, 320.13it/s, now=None]\u001b[A\n",
      "chunk:  84%|████████▍ | 1785/2122 [00:04<00:00, 370.79it/s, now=None]\u001b[A\n",
      "chunk:  87%|████████▋ | 1836/2122 [00:04<00:00, 383.89it/s, now=None]\u001b[A\n",
      "chunk:  91%|█████████▏| 1938/2122 [00:04<00:00, 447.46it/s, now=None]\u001b[A\n",
      "chunk:  95%|█████████▌| 2025/2122 [00:04<00:00, 523.63it/s, now=None]\u001b[A\n",
      "chunk:  98%|█████████▊| 2088/2122 [00:04<00:00, 475.45it/s, now=None]\u001b[A\n",
      "chunk:   1%|▏         | 29/2121 [7:08:41<515:25:25, 886.96s/it, now=None]"
     ]
    },
    {
     "name": "stdout",
     "output_type": "stream",
     "text": [
      "MoviePy - Done.\n"
     ]
    },
    {
     "name": "stderr",
     "output_type": "stream",
     "text": [
      "chunk:   1%|▏         | 29/2121 [7:08:42<515:26:17, 886.99s/it, now=None]\n",
      "chunk:   0%|          | 0/1261 [00:00<?, ?it/s, now=None]\u001b[A"
     ]
    },
    {
     "name": "stdout",
     "output_type": "stream",
     "text": [
      "MoviePy - Writing audio in /home/jupyter/datasets/amigos/audio/Exp1_P26_audio/P26_13_audio.wav\n"
     ]
    },
    {
     "name": "stderr",
     "output_type": "stream",
     "text": [
      "\n",
      "chunk:   8%|▊         | 102/1261 [00:00<00:02, 494.03it/s, now=None]\u001b[A\n",
      "chunk:  16%|█▌        | 204/1261 [00:00<00:02, 378.12it/s, now=None]\u001b[A\n",
      "chunk:  20%|██        | 255/1261 [00:00<00:02, 370.86it/s, now=None]\u001b[A\n",
      "chunk:  24%|██▍       | 306/1261 [00:00<00:02, 348.41it/s, now=None]\u001b[A\n",
      "chunk:  28%|██▊       | 357/1261 [00:01<00:02, 303.56it/s, now=None]\u001b[A\n",
      "chunk:  32%|███▏      | 408/1261 [00:01<00:03, 247.56it/s, now=None]\u001b[A\n",
      "chunk:  36%|███▋      | 459/1261 [00:01<00:02, 278.24it/s, now=None]\u001b[A\n",
      "chunk:  40%|████      | 510/1261 [00:01<00:02, 322.09it/s, now=None]\u001b[A\n",
      "chunk:  44%|████▍     | 561/1261 [00:01<00:02, 346.02it/s, now=None]\u001b[A\n",
      "chunk:  53%|█████▎    | 663/1261 [00:01<00:01, 389.06it/s, now=None]\u001b[A\n",
      "chunk:  57%|█████▋    | 714/1261 [00:02<00:01, 390.80it/s, now=None]\u001b[A\n",
      "chunk:  65%|██████▍   | 816/1261 [00:02<00:01, 418.10it/s, now=None]\u001b[A\n",
      "chunk:  69%|██████▉   | 867/1261 [00:02<00:00, 429.48it/s, now=None]\u001b[A\n",
      "chunk:  73%|███████▎  | 918/1261 [00:02<00:00, 392.07it/s, now=None]\u001b[A\n",
      "chunk:  77%|███████▋  | 969/1261 [00:02<00:00, 376.46it/s, now=None]\u001b[A\n",
      "chunk:  81%|████████  | 1020/1261 [00:02<00:00, 329.13it/s, now=None]\u001b[A\n",
      "chunk:  85%|████████▍ | 1071/1261 [00:03<00:00, 208.36it/s, now=None]\u001b[A\n",
      "chunk:  89%|████████▉ | 1122/1261 [00:03<00:00, 246.52it/s, now=None]\u001b[A\n",
      "chunk:  93%|█████████▎| 1173/1261 [00:03<00:00, 290.42it/s, now=None]\u001b[A\n",
      "chunk:  97%|█████████▋| 1224/1261 [00:03<00:00, 325.34it/s, now=None]\u001b[A\n",
      "chunk:   1%|▏         | 29/2121 [7:08:46<515:30:48, 887.12s/it, now=None]"
     ]
    },
    {
     "name": "stdout",
     "output_type": "stream",
     "text": [
      "MoviePy - Done.\n"
     ]
    },
    {
     "name": "stderr",
     "output_type": "stream",
     "text": [
      "chunk:   1%|▏         | 29/2121 [7:08:47<515:31:37, 887.14s/it, now=None]\n",
      "chunk:   0%|          | 0/2706 [00:00<?, ?it/s, now=None]\u001b[A\n",
      "chunk:   4%|▍         | 115/2706 [00:00<00:02, 1149.87it/s, now=None]\u001b[A"
     ]
    },
    {
     "name": "stdout",
     "output_type": "stream",
     "text": [
      "MoviePy - Writing audio in /home/jupyter/datasets/amigos/audio/Exp1_P26_audio/P26_138_audio.wav\n"
     ]
    },
    {
     "name": "stderr",
     "output_type": "stream",
     "text": [
      "\n",
      "chunk:   8%|▊         | 204/2706 [00:00<00:04, 577.62it/s, now=None] \u001b[A\n",
      "chunk:   9%|▉         | 255/2706 [00:00<00:05, 486.08it/s, now=None]\u001b[A\n",
      "chunk:  11%|█▏        | 306/2706 [00:00<00:05, 461.49it/s, now=None]\u001b[A\n",
      "chunk:  13%|█▎        | 357/2706 [00:00<00:06, 381.00it/s, now=None]\u001b[A\n",
      "chunk:  15%|█▌        | 408/2706 [00:01<00:06, 380.92it/s, now=None]\u001b[A\n",
      "chunk:  17%|█▋        | 459/2706 [00:01<00:07, 285.90it/s, now=None]\u001b[A\n",
      "chunk:  21%|██        | 561/2706 [00:01<00:06, 320.89it/s, now=None]\u001b[A\n",
      "chunk:  23%|██▎       | 612/2706 [00:01<00:06, 338.80it/s, now=None]\u001b[A\n",
      "chunk:  25%|██▍       | 663/2706 [00:01<00:05, 343.81it/s, now=None]\u001b[A\n",
      "chunk:  26%|██▋       | 714/2706 [00:02<00:06, 309.48it/s, now=None]\u001b[A\n",
      "chunk:  28%|██▊       | 765/2706 [00:02<00:06, 303.01it/s, now=None]\u001b[A\n",
      "chunk:  30%|███       | 816/2706 [00:02<00:05, 318.51it/s, now=None]\u001b[A\n",
      "chunk:  32%|███▏      | 867/2706 [00:02<00:06, 296.25it/s, now=None]\u001b[A\n",
      "chunk:  34%|███▍      | 918/2706 [00:02<00:05, 331.31it/s, now=None]\u001b[A\n",
      "chunk:  38%|███▊      | 1020/2706 [00:02<00:05, 331.64it/s, now=None]\u001b[A\n",
      "chunk:  41%|████▏     | 1122/2706 [00:03<00:04, 351.34it/s, now=None]\u001b[A\n",
      "chunk:  43%|████▎     | 1173/2706 [00:03<00:04, 355.40it/s, now=None]\u001b[A\n",
      "chunk:  45%|████▌     | 1224/2706 [00:03<00:04, 297.42it/s, now=None]\u001b[A\n",
      "chunk:  47%|████▋     | 1275/2706 [00:03<00:05, 280.11it/s, now=None]\u001b[A\n",
      "chunk:  50%|█████     | 1363/2706 [00:03<00:03, 352.06it/s, now=None]\u001b[A\n",
      "chunk:  53%|█████▎    | 1428/2706 [00:04<00:05, 218.23it/s, now=None]\u001b[A\n",
      "chunk:  55%|█████▍    | 1479/2706 [00:04<00:05, 226.21it/s, now=None]\u001b[A\n",
      "chunk:  57%|█████▋    | 1530/2706 [00:04<00:04, 263.43it/s, now=None]\u001b[A\n",
      "chunk:  60%|██████    | 1632/2706 [00:04<00:03, 326.80it/s, now=None]\u001b[A\n",
      "chunk:  64%|██████▍   | 1734/2706 [00:05<00:02, 384.76it/s, now=None]\u001b[A\n",
      "chunk:  68%|██████▊   | 1836/2706 [00:05<00:01, 439.66it/s, now=None]\u001b[A\n",
      "chunk:  72%|███████▏  | 1938/2706 [00:05<00:01, 496.73it/s, now=None]\u001b[A\n",
      "chunk:  75%|███████▌  | 2040/2706 [00:05<00:01, 574.09it/s, now=None]\u001b[A\n",
      "chunk:  78%|███████▊  | 2110/2706 [00:05<00:01, 505.78it/s, now=None]\u001b[A\n",
      "chunk:  80%|████████  | 2171/2706 [00:05<00:01, 497.56it/s, now=None]\u001b[A\n",
      "chunk:  83%|████████▎ | 2244/2706 [00:06<00:01, 422.33it/s, now=None]\u001b[A\n",
      "chunk:  85%|████████▍ | 2295/2706 [00:06<00:00, 424.97it/s, now=None]\u001b[A\n",
      "chunk:  89%|████████▊ | 2397/2706 [00:06<00:00, 467.91it/s, now=None]\u001b[A\n",
      "chunk:  92%|█████████▏| 2499/2706 [00:06<00:00, 468.11it/s, now=None]\u001b[A\n",
      "chunk:  95%|█████████▍| 2561/2706 [00:06<00:00, 505.15it/s, now=None]\u001b[A\n",
      "chunk:  97%|█████████▋| 2615/2706 [00:06<00:00, 491.83it/s, now=None]\u001b[A\n",
      "chunk:  99%|█████████▊| 2667/2706 [00:06<00:00, 421.99it/s, now=None]\u001b[A\n",
      "chunk:   1%|▏         | 29/2121 [7:08:53<515:39:57, 887.38s/it, now=None]"
     ]
    },
    {
     "name": "stdout",
     "output_type": "stream",
     "text": [
      "MoviePy - Done.\n"
     ]
    },
    {
     "name": "stderr",
     "output_type": "stream",
     "text": [
      "chunk:   1%|▏         | 29/2121 [7:08:54<515:40:30, 887.40s/it, now=None]\n",
      "chunk:   0%|          | 0/1840 [00:00<?, ?it/s, now=None]\u001b[A\n",
      "chunk:   8%|▊         | 153/1840 [00:00<00:01, 953.73it/s, now=None]\u001b[A"
     ]
    },
    {
     "name": "stdout",
     "output_type": "stream",
     "text": [
      "MoviePy - Writing audio in /home/jupyter/datasets/amigos/audio/Exp1_P26_audio/P26_18_audio.wav\n"
     ]
    },
    {
     "name": "stderr",
     "output_type": "stream",
     "text": [
      "\n",
      "chunk:  11%|█         | 204/1840 [00:00<00:02, 659.18it/s, now=None]\u001b[A\n",
      "chunk:  17%|█▋        | 306/1840 [00:00<00:02, 716.56it/s, now=None]\u001b[A\n",
      "chunk:  22%|██▏       | 408/1840 [00:00<00:01, 751.55it/s, now=None]\u001b[A\n",
      "chunk:  28%|██▊       | 510/1840 [00:00<00:01, 778.12it/s, now=None]\u001b[A\n",
      "chunk:  33%|███▎      | 612/1840 [00:00<00:01, 635.13it/s, now=None]\u001b[A\n",
      "chunk:  39%|███▉      | 714/1840 [00:01<00:01, 681.81it/s, now=None]\u001b[A\n",
      "chunk:  44%|████▍     | 816/1840 [00:01<00:01, 599.46it/s, now=None]\u001b[A\n",
      "chunk:  48%|████▊     | 877/1840 [00:01<00:01, 593.99it/s, now=None]\u001b[A\n",
      "chunk:  51%|█████     | 938/1840 [00:01<00:01, 477.18it/s, now=None]\u001b[A\n",
      "chunk:  54%|█████▍    | 990/1840 [00:01<00:01, 461.17it/s, now=None]\u001b[A\n",
      "chunk:  58%|█████▊    | 1071/1840 [00:01<00:01, 474.42it/s, now=None]\u001b[A\n",
      "chunk:  64%|██████▍   | 1173/1840 [00:01<00:01, 507.15it/s, now=None]\u001b[A\n",
      "chunk:  69%|██████▉   | 1275/1840 [00:02<00:01, 550.74it/s, now=None]\u001b[A\n",
      "chunk:  75%|███████▍  | 1377/1840 [00:02<00:00, 603.25it/s, now=None]\u001b[A\n",
      "chunk:  80%|████████  | 1479/1840 [00:02<00:00, 607.87it/s, now=None]\u001b[A\n",
      "chunk:  84%|████████▍ | 1543/1840 [00:02<00:00, 370.89it/s, now=None]\u001b[A\n",
      "chunk:  87%|████████▋ | 1594/1840 [00:02<00:00, 387.36it/s, now=None]\u001b[A\n",
      "chunk:  89%|████████▉ | 1642/1840 [00:03<00:00, 331.72it/s, now=None]\u001b[A\n",
      "chunk:  92%|█████████▏| 1684/1840 [00:03<00:00, 336.03it/s, now=None]\u001b[A\n",
      "chunk:  97%|█████████▋| 1782/1840 [00:03<00:00, 418.50it/s, now=None]\u001b[A\n",
      "chunk:   1%|▏         | 29/2121 [7:08:57<515:44:34, 887.51s/it, now=None]"
     ]
    },
    {
     "name": "stdout",
     "output_type": "stream",
     "text": [
      "MoviePy - Done.\n"
     ]
    },
    {
     "name": "stderr",
     "output_type": "stream",
     "text": [
      "chunk:   1%|▏         | 29/2121 [7:08:58<515:45:14, 887.53s/it, now=None]\n",
      "chunk:   0%|          | 0/2799 [00:00<?, ?it/s, now=None]\u001b[A\n",
      "chunk:   5%|▌         | 153/2799 [00:00<00:02, 1099.80it/s, now=None]\u001b[A"
     ]
    },
    {
     "name": "stdout",
     "output_type": "stream",
     "text": [
      "MoviePy - Writing audio in /home/jupyter/datasets/amigos/audio/Exp1_P26_audio/P26_19_audio.wav\n"
     ]
    },
    {
     "name": "stderr",
     "output_type": "stream",
     "text": [
      "\n",
      "chunk:   8%|▊         | 211/2799 [00:00<00:02, 866.12it/s, now=None] \u001b[A\n",
      "chunk:  11%|█         | 306/2799 [00:00<00:02, 850.23it/s, now=None]\u001b[A\n",
      "chunk:  16%|█▋        | 459/2799 [00:00<00:02, 913.11it/s, now=None]\u001b[A\n",
      "chunk:  20%|██        | 561/2799 [00:00<00:02, 839.42it/s, now=None]\u001b[A\n",
      "chunk:  24%|██▎       | 663/2799 [00:00<00:02, 768.86it/s, now=None]\u001b[A\n",
      "chunk:  27%|██▋       | 765/2799 [00:01<00:03, 586.27it/s, now=None]\u001b[A\n",
      "chunk:  29%|██▉       | 825/2799 [00:01<00:03, 511.62it/s, now=None]\u001b[A\n",
      "chunk:  31%|███▏      | 879/2799 [00:01<00:04, 407.65it/s, now=None]\u001b[A\n",
      "chunk:  33%|███▎      | 926/2799 [00:01<00:04, 424.43it/s, now=None]\u001b[A\n",
      "chunk:  35%|███▍      | 973/2799 [00:01<00:04, 392.04it/s, now=None]\u001b[A\n",
      "chunk:  36%|███▋      | 1020/2799 [00:01<00:05, 339.11it/s, now=None]\u001b[A\n",
      "chunk:  38%|███▊      | 1071/2799 [00:01<00:04, 367.19it/s, now=None]\u001b[A\n",
      "chunk:  42%|████▏     | 1173/2799 [00:02<00:03, 406.57it/s, now=None]\u001b[A\n",
      "chunk:  46%|████▌     | 1275/2799 [00:02<00:03, 417.43it/s, now=None]\u001b[A\n",
      "chunk:  49%|████▉     | 1377/2799 [00:02<00:03, 410.22it/s, now=None]\u001b[A\n",
      "chunk:  53%|█████▎    | 1479/2799 [00:02<00:03, 379.33it/s, now=None]\u001b[A\n",
      "chunk:  55%|█████▍    | 1530/2799 [00:03<00:03, 376.88it/s, now=None]\u001b[A\n",
      "chunk:  58%|█████▊    | 1612/2799 [00:03<00:02, 449.69it/s, now=None]\u001b[A\n",
      "chunk:  59%|█████▉    | 1664/2799 [00:03<00:02, 442.79it/s, now=None]\u001b[A\n",
      "chunk:  62%|██████▏   | 1734/2799 [00:03<00:02, 431.43it/s, now=None]\u001b[A\n",
      "chunk:  65%|██████▍   | 1813/2799 [00:03<00:01, 499.43it/s, now=None]\u001b[A\n",
      "chunk:  67%|██████▋   | 1880/2799 [00:03<00:01, 540.58it/s, now=None]\u001b[A\n",
      "chunk:  69%|██████▉   | 1940/2799 [00:03<00:01, 514.74it/s, now=None]\u001b[A\n",
      "chunk:  73%|███████▎  | 2040/2799 [00:03<00:01, 538.61it/s, now=None]\u001b[A\n",
      "chunk:  77%|███████▋  | 2142/2799 [00:04<00:01, 588.10it/s, now=None]\u001b[A\n",
      "chunk:  80%|████████  | 2244/2799 [00:04<00:00, 564.30it/s, now=None]\u001b[A\n",
      "chunk:  82%|████████▏ | 2304/2799 [00:04<00:00, 508.07it/s, now=None]\u001b[A\n",
      "chunk:  84%|████████▍ | 2358/2799 [00:04<00:01, 367.44it/s, now=None]\u001b[A\n",
      "chunk:  86%|████████▌ | 2403/2799 [00:04<00:01, 347.15it/s, now=None]\u001b[A\n",
      "chunk:  87%|████████▋ | 2448/2799 [00:04<00:01, 326.85it/s, now=None]\u001b[A\n",
      "chunk:  89%|████████▉ | 2499/2799 [00:05<00:00, 364.59it/s, now=None]\u001b[A\n",
      "chunk:  91%|█████████ | 2550/2799 [00:05<00:00, 374.64it/s, now=None]\u001b[A\n",
      "chunk:  93%|█████████▎| 2601/2799 [00:05<00:00, 378.23it/s, now=None]\u001b[A\n",
      "chunk:  95%|█████████▍| 2652/2799 [00:05<00:00, 357.40it/s, now=None]\u001b[A\n",
      "chunk:  97%|█████████▋| 2703/2799 [00:05<00:00, 373.60it/s, now=None]\u001b[A\n",
      "chunk:  98%|█████████▊| 2754/2799 [00:05<00:00, 377.39it/s, now=None]\u001b[A\n",
      "chunk:   1%|▏         | 29/2121 [7:09:04<515:52:13, 887.73s/it, now=None]"
     ]
    },
    {
     "name": "stdout",
     "output_type": "stream",
     "text": [
      "MoviePy - Done.\n"
     ]
    },
    {
     "name": "stderr",
     "output_type": "stream",
     "text": [
      "chunk:   1%|▏         | 29/2121 [7:09:04<515:52:52, 887.75s/it, now=None]\n",
      "chunk:   0%|          | 0/1459 [00:00<?, ?it/s, now=None]\u001b[A\n",
      "chunk:   7%|▋         | 102/1459 [00:00<00:01, 750.62it/s, now=None]\u001b[A"
     ]
    },
    {
     "name": "stdout",
     "output_type": "stream",
     "text": [
      "MoviePy - Writing audio in /home/jupyter/datasets/amigos/audio/Exp1_P26_audio/P26_20_audio.wav\n"
     ]
    },
    {
     "name": "stderr",
     "output_type": "stream",
     "text": [
      "\n",
      "chunk:  10%|█         | 153/1459 [00:00<00:02, 598.82it/s, now=None]\u001b[A\n",
      "chunk:  14%|█▍        | 204/1459 [00:00<00:02, 479.12it/s, now=None]\u001b[A\n",
      "chunk:  17%|█▋        | 255/1459 [00:00<00:02, 463.98it/s, now=None]\u001b[A\n",
      "chunk:  21%|██        | 306/1459 [00:00<00:03, 346.81it/s, now=None]\u001b[A\n",
      "chunk:  24%|██▍       | 357/1459 [00:00<00:03, 347.10it/s, now=None]\u001b[A\n",
      "chunk:  28%|██▊       | 408/1459 [00:01<00:02, 369.01it/s, now=None]\u001b[A\n",
      "chunk:  34%|███▍      | 495/1459 [00:01<00:02, 446.03it/s, now=None]\u001b[A\n",
      "chunk:  38%|███▊      | 561/1459 [00:01<00:01, 449.29it/s, now=None]\u001b[A\n",
      "chunk:  45%|████▌     | 659/1459 [00:01<00:01, 536.34it/s, now=None]\u001b[A\n",
      "chunk:  50%|████▉     | 723/1459 [00:01<00:01, 475.65it/s, now=None]\u001b[A\n",
      "chunk:  56%|█████▌    | 816/1459 [00:01<00:01, 517.54it/s, now=None]\u001b[A\n",
      "chunk:  60%|█████▉    | 875/1459 [00:01<00:01, 484.35it/s, now=None]\u001b[A\n",
      "chunk:  64%|██████▎   | 929/1459 [00:01<00:01, 461.87it/s, now=None]\u001b[A\n",
      "chunk:  70%|██████▉   | 1020/1459 [00:02<00:00, 455.94it/s, now=None]\u001b[A\n",
      "chunk:  77%|███████▋  | 1122/1459 [00:02<00:00, 516.71it/s, now=None]\u001b[A\n",
      "chunk:  84%|████████▍ | 1224/1459 [00:02<00:00, 541.03it/s, now=None]\u001b[A\n",
      "chunk:  91%|█████████ | 1326/1459 [00:02<00:00, 583.28it/s, now=None]\u001b[A\n",
      "chunk:  95%|█████████▌| 1388/1459 [00:02<00:00, 481.17it/s, now=None]\u001b[A\n",
      "chunk:   1%|▏         | 29/2121 [7:09:07<515:56:19, 887.85s/it, now=None]"
     ]
    },
    {
     "name": "stdout",
     "output_type": "stream",
     "text": [
      "MoviePy - Done.\n"
     ]
    },
    {
     "name": "stderr",
     "output_type": "stream",
     "text": [
      "chunk:   1%|▏         | 29/2121 [7:09:08<515:57:19, 887.88s/it, now=None]\n",
      "chunk:   0%|          | 0/2478 [00:00<?, ?it/s, now=None]\u001b[A\n",
      "chunk:   4%|▍         | 102/2478 [00:00<00:03, 722.73it/s, now=None]\u001b[A"
     ]
    },
    {
     "name": "stdout",
     "output_type": "stream",
     "text": [
      "MoviePy - Writing audio in /home/jupyter/datasets/amigos/audio/Exp1_P26_audio/P26_23_audio.wav\n"
     ]
    },
    {
     "name": "stderr",
     "output_type": "stream",
     "text": [
      "\n",
      "chunk:   7%|▋         | 162/2478 [00:00<00:03, 680.86it/s, now=None]\u001b[A\n",
      "chunk:   8%|▊         | 204/2478 [00:00<00:04, 517.21it/s, now=None]\u001b[A\n",
      "chunk:  12%|█▏        | 289/2478 [00:00<00:03, 585.80it/s, now=None]\u001b[A\n",
      "chunk:  14%|█▎        | 338/2478 [00:00<00:04, 522.17it/s, now=None]\u001b[A\n",
      "chunk:  16%|█▋        | 408/2478 [00:00<00:04, 456.63it/s, now=None]\u001b[A\n",
      "chunk:  19%|█▊        | 459/2478 [00:00<00:04, 443.03it/s, now=None]\u001b[A\n",
      "chunk:  23%|██▎       | 561/2478 [00:01<00:03, 491.07it/s, now=None]\u001b[A\n",
      "chunk:  25%|██▍       | 612/2478 [00:01<00:03, 485.59it/s, now=None]\u001b[A\n",
      "chunk:  29%|██▉       | 714/2478 [00:01<00:03, 514.79it/s, now=None]\u001b[A\n",
      "chunk:  31%|███       | 767/2478 [00:01<00:04, 409.94it/s, now=None]\u001b[A\n",
      "chunk:  35%|███▍      | 867/2478 [00:01<00:03, 423.23it/s, now=None]\u001b[A\n",
      "chunk:  39%|███▉      | 969/2478 [00:01<00:03, 433.70it/s, now=None]\u001b[A\n",
      "chunk:  41%|████      | 1020/2478 [00:02<00:03, 395.37it/s, now=None]\u001b[A\n",
      "chunk:  45%|████▍     | 1103/2478 [00:02<00:02, 468.91it/s, now=None]\u001b[A\n",
      "chunk:  47%|████▋     | 1173/2478 [00:02<00:02, 466.99it/s, now=None]\u001b[A\n",
      "chunk:  51%|█████▏    | 1274/2478 [00:02<00:02, 556.69it/s, now=None]\u001b[A\n",
      "chunk:  54%|█████▍    | 1341/2478 [00:02<00:02, 456.36it/s, now=None]\u001b[A\n",
      "chunk:  58%|█████▊    | 1428/2478 [00:02<00:02, 480.91it/s, now=None]\u001b[A\n",
      "chunk:  60%|█████▉    | 1484/2478 [00:02<00:02, 475.27it/s, now=None]\u001b[A\n",
      "chunk:  63%|██████▎   | 1549/2478 [00:03<00:01, 516.95it/s, now=None]\u001b[A\n",
      "chunk:  66%|██████▌   | 1632/2478 [00:03<00:01, 551.18it/s, now=None]\u001b[A\n",
      "chunk:  68%|██████▊   | 1692/2478 [00:03<00:01, 445.58it/s, now=None]\u001b[A\n",
      "chunk:  70%|███████   | 1743/2478 [00:03<00:01, 462.38it/s, now=None]\u001b[A\n",
      "chunk:  72%|███████▏  | 1794/2478 [00:03<00:01, 433.63it/s, now=None]\u001b[A\n",
      "chunk:  76%|███████▌  | 1887/2478 [00:03<00:01, 450.73it/s, now=None]\u001b[A\n",
      "chunk:  80%|████████  | 1989/2478 [00:03<00:00, 504.02it/s, now=None]\u001b[A\n",
      "chunk:  82%|████████▏ | 2044/2478 [00:04<00:01, 403.77it/s, now=None]\u001b[A\n",
      "chunk:  84%|████████▍ | 2091/2478 [00:04<00:01, 358.75it/s, now=None]\u001b[A\n",
      "chunk:  88%|████████▊ | 2191/2478 [00:04<00:00, 444.18it/s, now=None]\u001b[A\n",
      "chunk:  91%|█████████ | 2250/2478 [00:04<00:00, 307.06it/s, now=None]\u001b[A\n",
      "chunk:  93%|█████████▎| 2297/2478 [00:04<00:00, 331.92it/s, now=None]\u001b[A\n",
      "chunk:  95%|█████████▍| 2346/2478 [00:05<00:00, 333.51it/s, now=None]\u001b[A\n",
      "chunk:  97%|█████████▋| 2397/2478 [00:05<00:00, 364.09it/s, now=None]\u001b[A\n",
      "chunk:   1%|▏         | 29/2121 [7:09:13<516:03:36, 888.06s/it, now=None]"
     ]
    },
    {
     "name": "stdout",
     "output_type": "stream",
     "text": [
      "MoviePy - Done.\n"
     ]
    },
    {
     "name": "stderr",
     "output_type": "stream",
     "text": [
      "chunk:   1%|▏         | 29/2121 [7:09:14<516:04:22, 888.08s/it, now=None]\n",
      "chunk:   0%|          | 0/1690 [00:00<?, ?it/s, now=None]\u001b[A\n",
      "chunk:   9%|▉         | 153/1690 [00:00<00:01, 925.95it/s, now=None]\u001b[A"
     ]
    },
    {
     "name": "stdout",
     "output_type": "stream",
     "text": [
      "MoviePy - Writing audio in /home/jupyter/datasets/amigos/audio/Exp1_P26_audio/P26_30_audio.wav\n"
     ]
    },
    {
     "name": "stderr",
     "output_type": "stream",
     "text": [
      "\n",
      "chunk:  12%|█▏        | 204/1690 [00:00<00:02, 550.89it/s, now=None]\u001b[A\n",
      "chunk:  18%|█▊        | 306/1690 [00:00<00:02, 529.63it/s, now=None]\u001b[A\n",
      "chunk:  23%|██▎       | 381/1690 [00:00<00:02, 580.56it/s, now=None]\u001b[A\n",
      "chunk:  25%|██▌       | 428/1690 [00:00<00:02, 483.86it/s, now=None]\u001b[A\n",
      "chunk:  28%|██▊       | 471/1690 [00:00<00:02, 448.25it/s, now=None]\u001b[A\n",
      "chunk:  30%|███       | 513/1690 [00:01<00:02, 404.87it/s, now=None]\u001b[A\n",
      "chunk:  33%|███▎      | 563/1690 [00:01<00:02, 429.06it/s, now=None]\u001b[A\n",
      "chunk:  36%|███▌      | 612/1690 [00:01<00:02, 428.92it/s, now=None]\u001b[A\n",
      "chunk:  39%|███▉      | 663/1690 [00:01<00:02, 376.50it/s, now=None]\u001b[A\n",
      "chunk:  42%|████▏     | 714/1690 [00:01<00:02, 328.47it/s, now=None]\u001b[A\n",
      "chunk:  45%|████▌     | 765/1690 [00:01<00:03, 283.97it/s, now=None]\u001b[A\n",
      "chunk:  48%|████▊     | 816/1690 [00:01<00:02, 319.85it/s, now=None]\u001b[A\n",
      "chunk:  51%|█████▏    | 867/1690 [00:02<00:02, 346.00it/s, now=None]\u001b[A\n",
      "chunk:  54%|█████▍    | 918/1690 [00:02<00:02, 279.48it/s, now=None]\u001b[A\n",
      "chunk:  57%|█████▋    | 969/1690 [00:02<00:02, 277.61it/s, now=None]\u001b[A\n",
      "chunk:  62%|██████▏   | 1053/1690 [00:02<00:01, 347.34it/s, now=None]\u001b[A\n",
      "chunk:  66%|██████▋   | 1121/1690 [00:02<00:01, 407.07it/s, now=None]\u001b[A\n",
      "chunk:  69%|██████▉   | 1174/1690 [00:02<00:01, 435.13it/s, now=None]\u001b[A\n",
      "chunk:  75%|███████▌  | 1275/1690 [00:03<00:00, 478.87it/s, now=None]\u001b[A\n",
      "chunk:  81%|████████▏ | 1377/1690 [00:03<00:00, 500.05it/s, now=None]\u001b[A\n",
      "chunk:  85%|████████▍ | 1433/1690 [00:03<00:00, 448.42it/s, now=None]\u001b[A\n",
      "chunk:  91%|█████████ | 1530/1690 [00:03<00:00, 534.23it/s, now=None]\u001b[A\n",
      "chunk:  94%|█████████▍| 1594/1690 [00:03<00:00, 538.26it/s, now=None]\u001b[A\n",
      "chunk: 100%|█████████▉| 1685/1690 [00:03<00:00, 613.43it/s, now=None]\u001b[A\n",
      "chunk:   1%|▏         | 29/2121 [7:09:17<516:08:47, 888.21s/it, now=None]"
     ]
    },
    {
     "name": "stdout",
     "output_type": "stream",
     "text": [
      "MoviePy - Done.\n"
     ]
    },
    {
     "name": "stderr",
     "output_type": "stream",
     "text": [
      "chunk:   1%|▏         | 29/2121 [7:09:18<516:09:44, 888.23s/it, now=None]\n",
      "chunk:   0%|          | 0/3439 [00:00<?, ?it/s, now=None]\u001b[A\n",
      "chunk:   3%|▎         | 102/3439 [00:00<00:03, 920.90it/s, now=None]\u001b[A"
     ]
    },
    {
     "name": "stdout",
     "output_type": "stream",
     "text": [
      "MoviePy - Writing audio in /home/jupyter/datasets/amigos/audio/Exp1_P26_audio/P26_31_audio.wav\n"
     ]
    },
    {
     "name": "stderr",
     "output_type": "stream",
     "text": [
      "\n",
      "chunk:   6%|▌         | 204/3439 [00:00<00:05, 644.11it/s, now=None]\u001b[A\n",
      "chunk:   9%|▉         | 306/3439 [00:00<00:05, 616.59it/s, now=None]\u001b[A\n",
      "chunk:  10%|█         | 357/3439 [00:00<00:06, 504.97it/s, now=None]\u001b[A\n",
      "chunk:  12%|█▏        | 408/3439 [00:00<00:07, 410.39it/s, now=None]\u001b[A\n",
      "chunk:  13%|█▎        | 459/3439 [00:01<00:07, 413.55it/s, now=None]\u001b[A\n",
      "chunk:  15%|█▍        | 510/3439 [00:01<00:06, 423.07it/s, now=None]\u001b[A\n",
      "chunk:  16%|█▋        | 561/3439 [00:01<00:06, 429.81it/s, now=None]\u001b[A\n",
      "chunk:  19%|█▉        | 663/3439 [00:01<00:05, 466.93it/s, now=None]\u001b[A\n",
      "chunk:  21%|██        | 714/3439 [00:01<00:06, 453.52it/s, now=None]\u001b[A\n",
      "chunk:  22%|██▏       | 765/3439 [00:01<00:06, 431.45it/s, now=None]\u001b[A\n",
      "chunk:  25%|██▌       | 867/3439 [00:01<00:06, 426.09it/s, now=None]\u001b[A\n",
      "chunk:  27%|██▋       | 918/3439 [00:02<00:05, 425.84it/s, now=None]\u001b[A\n",
      "chunk:  30%|██▉       | 1020/3439 [00:02<00:06, 392.56it/s, now=None]\u001b[A\n",
      "chunk:  33%|███▎      | 1121/3439 [00:02<00:04, 480.70it/s, now=None]\u001b[A\n",
      "chunk:  34%|███▍      | 1180/3439 [00:02<00:05, 382.03it/s, now=None]\u001b[A\n",
      "chunk:  36%|███▌      | 1229/3439 [00:02<00:05, 406.20it/s, now=None]\u001b[A\n",
      "chunk:  39%|███▊      | 1326/3439 [00:03<00:05, 405.03it/s, now=None]\u001b[A\n",
      "chunk:  42%|████▏     | 1428/3439 [00:03<00:04, 467.19it/s, now=None]\u001b[A\n",
      "chunk:  44%|████▍     | 1530/3439 [00:03<00:03, 501.45it/s, now=None]\u001b[A\n",
      "chunk:  47%|████▋     | 1632/3439 [00:03<00:03, 528.56it/s, now=None]\u001b[A\n",
      "chunk:  49%|████▉     | 1690/3439 [00:03<00:04, 406.02it/s, now=None]\u001b[A\n",
      "chunk:  52%|█████▏    | 1785/3439 [00:03<00:04, 407.23it/s, now=None]\u001b[A\n",
      "chunk:  53%|█████▎    | 1836/3439 [00:04<00:05, 307.38it/s, now=None]\u001b[A\n",
      "chunk:  55%|█████▍    | 1887/3439 [00:04<00:05, 291.57it/s, now=None]\u001b[A\n",
      "chunk:  58%|█████▊    | 1989/3439 [00:04<00:04, 348.79it/s, now=None]\u001b[A\n",
      "chunk:  59%|█████▉    | 2040/3439 [00:04<00:04, 343.04it/s, now=None]\u001b[A\n",
      "chunk:  61%|██████    | 2091/3439 [00:04<00:03, 357.12it/s, now=None]\u001b[A\n",
      "chunk:  62%|██████▏   | 2142/3439 [00:04<00:03, 381.17it/s, now=None]\u001b[A\n",
      "chunk:  64%|██████▍   | 2193/3439 [00:05<00:03, 342.98it/s, now=None]\u001b[A\n",
      "chunk:  65%|██████▌   | 2244/3439 [00:05<00:03, 364.51it/s, now=None]\u001b[A\n",
      "chunk:  68%|██████▊   | 2346/3439 [00:05<00:02, 421.12it/s, now=None]\u001b[A\n",
      "chunk:  70%|██████▉   | 2397/3439 [00:05<00:02, 431.80it/s, now=None]\u001b[A\n",
      "chunk:  73%|███████▎  | 2499/3439 [00:05<00:01, 481.85it/s, now=None]\u001b[A\n",
      "chunk:  74%|███████▍  | 2552/3439 [00:05<00:02, 426.59it/s, now=None]\u001b[A\n",
      "chunk:  77%|███████▋  | 2652/3439 [00:05<00:01, 483.21it/s, now=None]\u001b[A\n",
      "chunk:  80%|████████  | 2754/3439 [00:06<00:01, 539.83it/s, now=None]\u001b[A\n",
      "chunk:  83%|████████▎ | 2856/3439 [00:06<00:01, 524.46it/s, now=None]\u001b[A\n",
      "chunk:  85%|████████▌ | 2926/3439 [00:06<00:00, 566.90it/s, now=None]\u001b[A\n",
      "chunk:  87%|████████▋ | 2987/3439 [00:06<00:00, 540.02it/s, now=None]\u001b[A\n",
      "chunk:  89%|████████▊ | 3045/3439 [00:06<00:00, 546.02it/s, now=None]\u001b[A\n",
      "chunk:  90%|█████████ | 3102/3439 [00:06<00:00, 535.31it/s, now=None]\u001b[A\n",
      "chunk:  92%|█████████▏| 3162/3439 [00:06<00:00, 480.22it/s, now=None]\u001b[A\n",
      "chunk:  93%|█████████▎| 3213/3439 [00:07<00:00, 478.71it/s, now=None]\u001b[A\n",
      "chunk:  96%|█████████▋| 3315/3439 [00:07<00:00, 520.66it/s, now=None]\u001b[A\n",
      "chunk:  98%|█████████▊| 3370/3439 [00:07<00:00, 482.72it/s, now=None]\u001b[A\n",
      "chunk:   1%|▏         | 29/2121 [7:09:26<516:18:36, 888.49s/it, now=None]"
     ]
    },
    {
     "name": "stdout",
     "output_type": "stream",
     "text": [
      "MoviePy - Done.\n"
     ]
    },
    {
     "name": "stderr",
     "output_type": "stream",
     "text": [
      "chunk:   1%|▏         | 29/2121 [7:09:26<516:19:25, 888.51s/it, now=None]\n",
      "chunk:   0%|          | 0/1473 [00:00<?, ?it/s, now=None]\u001b[A"
     ]
    },
    {
     "name": "stdout",
     "output_type": "stream",
     "text": [
      "MoviePy - Writing audio in /home/jupyter/datasets/amigos/audio/Exp1_P26_audio/P26_34_audio.wav\n"
     ]
    },
    {
     "name": "stderr",
     "output_type": "stream",
     "text": [
      "\n",
      "chunk:   7%|▋         | 102/1473 [00:00<00:02, 524.69it/s, now=None]\u001b[A\n",
      "chunk:  14%|█▍        | 204/1473 [00:00<00:02, 522.40it/s, now=None]\u001b[A\n",
      "chunk:  17%|█▋        | 255/1473 [00:00<00:02, 478.86it/s, now=None]\u001b[A\n",
      "chunk:  24%|██▎       | 348/1473 [00:00<00:02, 560.21it/s, now=None]\u001b[A\n",
      "chunk:  27%|██▋       | 398/1473 [00:00<00:02, 481.10it/s, now=None]\u001b[A\n",
      "chunk:  30%|███       | 444/1473 [00:01<00:03, 323.40it/s, now=None]\u001b[A\n",
      "chunk:  33%|███▎      | 482/1473 [00:01<00:03, 295.17it/s, now=None]\u001b[A\n",
      "chunk:  35%|███▌      | 516/1473 [00:01<00:03, 306.12it/s, now=None]\u001b[A\n",
      "chunk:  38%|███▊      | 561/1473 [00:01<00:02, 331.13it/s, now=None]\u001b[A\n",
      "chunk:  42%|████▏     | 618/1473 [00:01<00:02, 378.59it/s, now=None]\u001b[A\n",
      "chunk:  48%|████▊     | 714/1473 [00:01<00:01, 424.28it/s, now=None]\u001b[A\n",
      "chunk:  52%|█████▏    | 765/1473 [00:01<00:01, 377.63it/s, now=None]\u001b[A\n",
      "chunk:  55%|█████▌    | 816/1473 [00:01<00:01, 374.51it/s, now=None]\u001b[A\n",
      "chunk:  59%|█████▉    | 867/1473 [00:02<00:01, 366.91it/s, now=None]\u001b[A\n",
      "chunk:  65%|██████▍   | 954/1473 [00:02<00:01, 443.80it/s, now=None]\u001b[A\n",
      "chunk:  69%|██████▉   | 1020/1473 [00:02<00:01, 381.87it/s, now=None]\u001b[A\n",
      "chunk:  73%|███████▎  | 1071/1473 [00:02<00:00, 403.69it/s, now=None]\u001b[A\n",
      "chunk:  76%|███████▌  | 1122/1473 [00:02<00:00, 351.97it/s, now=None]\u001b[A\n",
      "chunk:  80%|███████▉  | 1173/1473 [00:02<00:00, 362.64it/s, now=None]\u001b[A\n",
      "chunk:  85%|████████▌ | 1255/1473 [00:02<00:00, 435.46it/s, now=None]\u001b[A\n",
      "chunk:  89%|████████▉ | 1308/1473 [00:03<00:00, 394.06it/s, now=None]\u001b[A\n",
      "chunk:  92%|█████████▏| 1355/1473 [00:03<00:00, 405.36it/s, now=None]\u001b[A\n",
      "chunk:  95%|█████████▌| 1401/1473 [00:03<00:00, 394.24it/s, now=None]\u001b[A\n",
      "chunk:   1%|▏         | 29/2121 [7:09:30<516:23:30, 888.63s/it, now=None]"
     ]
    },
    {
     "name": "stdout",
     "output_type": "stream",
     "text": [
      "MoviePy - Done.\n"
     ]
    },
    {
     "name": "stderr",
     "output_type": "stream",
     "text": [
      "chunk:   1%|▏         | 29/2121 [7:09:30<516:24:06, 888.65s/it, now=None]\n",
      "chunk:   0%|          | 0/1515 [00:00<?, ?it/s, now=None]\u001b[A"
     ]
    },
    {
     "name": "stdout",
     "output_type": "stream",
     "text": [
      "MoviePy - Writing audio in /home/jupyter/datasets/amigos/audio/Exp1_P26_audio/P26_36_audio.wav\n"
     ]
    },
    {
     "name": "stderr",
     "output_type": "stream",
     "text": [
      "\n",
      "chunk:   7%|▋         | 102/1515 [00:00<00:03, 404.28it/s, now=None]\u001b[A\n",
      "chunk:  10%|█         | 153/1515 [00:00<00:03, 363.49it/s, now=None]\u001b[A\n",
      "chunk:  13%|█▎        | 204/1515 [00:00<00:03, 379.03it/s, now=None]\u001b[A\n",
      "chunk:  17%|█▋        | 255/1515 [00:00<00:03, 367.04it/s, now=None]\u001b[A\n",
      "chunk:  24%|██▎       | 357/1515 [00:00<00:02, 391.22it/s, now=None]\u001b[A\n",
      "chunk:  27%|██▋       | 408/1515 [00:01<00:02, 395.67it/s, now=None]\u001b[A\n",
      "chunk:  34%|███▎      | 510/1515 [00:01<00:02, 444.24it/s, now=None]\u001b[A\n",
      "chunk:  37%|███▋      | 561/1515 [00:01<00:02, 459.20it/s, now=None]\u001b[A\n",
      "chunk:  44%|████▍     | 663/1515 [00:01<00:02, 420.44it/s, now=None]\u001b[A\n",
      "chunk:  47%|████▋     | 714/1515 [00:01<00:02, 385.41it/s, now=None]\u001b[A\n",
      "chunk:  50%|█████     | 765/1515 [00:01<00:01, 403.06it/s, now=None]\u001b[A\n",
      "chunk:  54%|█████▍    | 816/1515 [00:02<00:01, 351.04it/s, now=None]\u001b[A\n",
      "chunk:  57%|█████▋    | 867/1515 [00:02<00:01, 352.33it/s, now=None]\u001b[A\n",
      "chunk:  61%|██████    | 918/1515 [00:02<00:01, 357.39it/s, now=None]\u001b[A\n",
      "chunk:  65%|██████▌   | 986/1515 [00:02<00:01, 416.59it/s, now=None]\u001b[A\n",
      "chunk:  71%|███████   | 1071/1515 [00:02<00:00, 465.16it/s, now=None]\u001b[A\n",
      "chunk:  74%|███████▍  | 1123/1515 [00:02<00:00, 424.67it/s, now=None]\u001b[A\n",
      "chunk:  81%|████████  | 1224/1515 [00:02<00:00, 510.80it/s, now=None]\u001b[A\n",
      "chunk:  88%|████████▊ | 1326/1515 [00:02<00:00, 545.34it/s, now=None]\u001b[A\n",
      "chunk:  94%|█████████▍| 1428/1515 [00:03<00:00, 580.91it/s, now=None]\u001b[A\n",
      "chunk:  99%|█████████▊| 1493/1515 [00:03<00:00, 498.31it/s, now=None]\u001b[A\n",
      "chunk:   1%|▏         | 29/2121 [7:09:34<516:28:07, 888.76s/it, now=None]"
     ]
    },
    {
     "name": "stdout",
     "output_type": "stream",
     "text": [
      "MoviePy - Done.\n"
     ]
    },
    {
     "name": "stderr",
     "output_type": "stream",
     "text": [
      "chunk:   1%|▏         | 29/2121 [7:09:34<516:28:57, 888.78s/it, now=None]\n",
      "chunk:   0%|          | 0/2018 [00:00<?, ?it/s, now=None]\u001b[A\n",
      "chunk:   5%|▌         | 102/2018 [00:00<00:02, 677.62it/s, now=None]\u001b[A"
     ]
    },
    {
     "name": "stdout",
     "output_type": "stream",
     "text": [
      "MoviePy - Writing audio in /home/jupyter/datasets/amigos/audio/Exp1_P26_audio/P26_4_audio.wav\n"
     ]
    },
    {
     "name": "stderr",
     "output_type": "stream",
     "text": [
      "\n",
      "chunk:  10%|█         | 204/2018 [00:00<00:02, 710.25it/s, now=None]\u001b[A\n",
      "chunk:  13%|█▎        | 255/2018 [00:00<00:03, 516.43it/s, now=None]\u001b[A\n",
      "chunk:  15%|█▌        | 306/2018 [00:00<00:03, 456.57it/s, now=None]\u001b[A\n",
      "chunk:  19%|█▊        | 374/2018 [00:00<00:03, 506.34it/s, now=None]\u001b[A\n",
      "chunk:  21%|██        | 420/2018 [00:00<00:03, 409.86it/s, now=None]\u001b[A\n",
      "chunk:  25%|██▍       | 497/2018 [00:00<00:03, 476.63it/s, now=None]\u001b[A\n",
      "chunk:  28%|██▊       | 561/2018 [00:01<00:03, 456.20it/s, now=None]\u001b[A\n",
      "chunk:  32%|███▏      | 642/2018 [00:01<00:02, 524.83it/s, now=None]\u001b[A\n",
      "chunk:  35%|███▍      | 701/2018 [00:01<00:03, 433.35it/s, now=None]\u001b[A\n",
      "chunk:  37%|███▋      | 751/2018 [00:01<00:03, 368.76it/s, now=None]\u001b[A\n",
      "chunk:  39%|███▉      | 795/2018 [00:01<00:03, 351.27it/s, now=None]\u001b[A\n",
      "chunk:  41%|████▏     | 835/2018 [00:01<00:03, 316.88it/s, now=None]\u001b[A\n",
      "chunk:  43%|████▎     | 871/2018 [00:02<00:03, 298.54it/s, now=None]\u001b[A\n",
      "chunk:  45%|████▌     | 918/2018 [00:02<00:03, 302.66it/s, now=None]\u001b[A\n",
      "chunk:  48%|████▊     | 969/2018 [00:02<00:03, 322.60it/s, now=None]\u001b[A\n",
      "chunk:  51%|█████     | 1020/2018 [00:02<00:03, 298.83it/s, now=None]\u001b[A\n",
      "chunk:  53%|█████▎    | 1071/2018 [00:02<00:03, 312.78it/s, now=None]\u001b[A\n",
      "chunk:  56%|█████▌    | 1122/2018 [00:02<00:02, 351.18it/s, now=None]\u001b[A\n",
      "chunk:  61%|██████    | 1224/2018 [00:02<00:02, 368.25it/s, now=None]\u001b[A\n",
      "chunk:  63%|██████▎   | 1275/2018 [00:03<00:02, 310.64it/s, now=None]\u001b[A\n",
      "chunk:  66%|██████▌   | 1326/2018 [00:03<00:02, 300.45it/s, now=None]\u001b[A\n",
      "chunk:  68%|██████▊   | 1377/2018 [00:03<00:01, 322.93it/s, now=None]\u001b[A\n",
      "chunk:  73%|███████▎  | 1479/2018 [00:03<00:01, 398.16it/s, now=None]\u001b[A\n",
      "chunk:  76%|███████▌  | 1530/2018 [00:03<00:01, 418.06it/s, now=None]\u001b[A\n",
      "chunk:  78%|███████▊  | 1581/2018 [00:03<00:01, 362.29it/s, now=None]\u001b[A\n",
      "chunk:  81%|████████  | 1632/2018 [00:04<00:01, 353.73it/s, now=None]\u001b[A\n",
      "chunk:  83%|████████▎ | 1683/2018 [00:04<00:00, 368.34it/s, now=None]\u001b[A\n",
      "chunk:  86%|████████▌ | 1734/2018 [00:04<00:00, 365.21it/s, now=None]\u001b[A\n",
      "chunk:  91%|█████████ | 1836/2018 [00:04<00:00, 398.24it/s, now=None]\u001b[A\n",
      "chunk:  94%|█████████▎| 1887/2018 [00:04<00:00, 404.49it/s, now=None]\u001b[A\n",
      "chunk:  99%|█████████▊| 1989/2018 [00:04<00:00, 469.12it/s, now=None]\u001b[A\n",
      "chunk:   1%|▏         | 29/2121 [7:09:39<516:34:47, 888.95s/it, now=None]"
     ]
    },
    {
     "name": "stdout",
     "output_type": "stream",
     "text": [
      "MoviePy - Done.\n"
     ]
    },
    {
     "name": "stderr",
     "output_type": "stream",
     "text": [
      "chunk:   1%|▏         | 29/2121 [7:09:40<516:35:34, 888.97s/it, now=None]\n",
      "chunk:   0%|          | 0/2495 [00:00<?, ?it/s, now=None]\u001b[A"
     ]
    },
    {
     "name": "stdout",
     "output_type": "stream",
     "text": [
      "MoviePy - Writing audio in /home/jupyter/datasets/amigos/audio/Exp1_P26_audio/P26_5_audio.wav\n"
     ]
    },
    {
     "name": "stderr",
     "output_type": "stream",
     "text": [
      "\n",
      "chunk:   4%|▍         | 102/2495 [00:00<00:02, 884.95it/s, now=None]\u001b[A\n",
      "chunk:   6%|▌         | 153/2495 [00:00<00:04, 523.16it/s, now=None]\u001b[A\n",
      "chunk:   8%|▊         | 204/2495 [00:00<00:06, 353.19it/s, now=None]\u001b[A\n",
      "chunk:  10%|█         | 255/2495 [00:00<00:07, 288.66it/s, now=None]\u001b[A\n",
      "chunk:  12%|█▏        | 306/2495 [00:00<00:06, 330.16it/s, now=None]\u001b[A\n",
      "chunk:  14%|█▍        | 357/2495 [00:01<00:07, 297.34it/s, now=None]\u001b[A\n",
      "chunk:  16%|█▋        | 408/2495 [00:01<00:06, 321.48it/s, now=None]\u001b[A\n",
      "chunk:  18%|█▊        | 459/2495 [00:01<00:05, 356.45it/s, now=None]\u001b[A\n",
      "chunk:  20%|██        | 510/2495 [00:01<00:06, 305.41it/s, now=None]\u001b[A\n",
      "chunk:  24%|██▍       | 597/2495 [00:01<00:05, 379.24it/s, now=None]\u001b[A\n",
      "chunk:  27%|██▋       | 663/2495 [00:01<00:05, 316.06it/s, now=None]\u001b[A\n",
      "chunk:  29%|██▊       | 714/2495 [00:02<00:05, 319.35it/s, now=None]\u001b[A\n",
      "chunk:  31%|███       | 765/2495 [00:02<00:05, 337.92it/s, now=None]\u001b[A\n",
      "chunk:  33%|███▎      | 816/2495 [00:02<00:05, 333.24it/s, now=None]\u001b[A\n",
      "chunk:  35%|███▍      | 867/2495 [00:02<00:04, 351.95it/s, now=None]\u001b[A\n",
      "chunk:  37%|███▋      | 918/2495 [00:02<00:04, 354.90it/s, now=None]\u001b[A\n",
      "chunk:  39%|███▉      | 969/2495 [00:02<00:05, 286.17it/s, now=None]\u001b[A\n",
      "chunk:  41%|████      | 1020/2495 [00:03<00:05, 270.40it/s, now=None]\u001b[A\n",
      "chunk:  44%|████▍     | 1093/2495 [00:03<00:04, 333.31it/s, now=None]\u001b[A\n",
      "chunk:  47%|████▋     | 1173/2495 [00:03<00:03, 364.09it/s, now=None]\u001b[A\n",
      "chunk:  51%|█████     | 1275/2495 [00:03<00:02, 415.77it/s, now=None]\u001b[A\n",
      "chunk:  53%|█████▎    | 1326/2495 [00:03<00:03, 360.95it/s, now=None]\u001b[A\n",
      "chunk:  57%|█████▋    | 1428/2495 [00:03<00:02, 442.66it/s, now=None]\u001b[A\n",
      "chunk:  61%|██████▏   | 1530/2495 [00:04<00:02, 454.42it/s, now=None]\u001b[A\n",
      "chunk:  65%|██████▌   | 1632/2495 [00:04<00:01, 478.01it/s, now=None]\u001b[A\n",
      "chunk:  68%|██████▊   | 1687/2495 [00:04<00:01, 432.83it/s, now=None]\u001b[A\n",
      "chunk:  70%|██████▉   | 1737/2495 [00:04<00:01, 423.24it/s, now=None]\u001b[A\n",
      "chunk:  74%|███████▎  | 1836/2495 [00:04<00:01, 419.54it/s, now=None]\u001b[A\n",
      "chunk:  77%|███████▋  | 1911/2495 [00:04<00:01, 483.33it/s, now=None]\u001b[A\n",
      "chunk:  81%|████████  | 2018/2495 [00:05<00:00, 578.43it/s, now=None]\u001b[A\n",
      "chunk:  84%|████████▎ | 2088/2495 [00:05<00:00, 606.74it/s, now=None]\u001b[A\n",
      "chunk:  86%|████████▋ | 2158/2495 [00:05<00:00, 575.40it/s, now=None]\u001b[A\n",
      "chunk:  89%|████████▉ | 2222/2495 [00:05<00:00, 304.52it/s, now=None]\u001b[A\n",
      "chunk:  91%|█████████ | 2272/2495 [00:05<00:00, 293.91it/s, now=None]\u001b[A\n",
      "chunk:  94%|█████████▍| 2346/2495 [00:06<00:00, 309.89it/s, now=None]\u001b[A\n",
      "chunk:  96%|█████████▌| 2397/2495 [00:06<00:00, 308.94it/s, now=None]\u001b[A\n",
      "chunk:   1%|▏         | 29/2121 [7:09:46<516:43:17, 889.20s/it, now=None]"
     ]
    },
    {
     "name": "stdout",
     "output_type": "stream",
     "text": [
      "MoviePy - Done.\n"
     ]
    },
    {
     "name": "stderr",
     "output_type": "stream",
     "text": [
      "chunk:   1%|▏         | 29/2121 [7:09:47<516:44:08, 889.22s/it, now=None]\n",
      "chunk:   0%|          | 0/1422 [00:00<?, ?it/s, now=None]\u001b[A\n"
     ]
    },
    {
     "name": "stdout",
     "output_type": "stream",
     "text": [
      "MoviePy - Writing audio in /home/jupyter/datasets/amigos/audio/Exp1_P26_audio/P26_58_audio.wav\n"
     ]
    },
    {
     "name": "stderr",
     "output_type": "stream",
     "text": [
      "chunk:  11%|█         | 153/1422 [00:00<00:01, 839.16it/s, now=None]\u001b[A\n",
      "chunk:  14%|█▍        | 204/1422 [00:00<00:02, 590.72it/s, now=None]\u001b[A\n",
      "chunk:  18%|█▊        | 255/1422 [00:00<00:02, 487.31it/s, now=None]\u001b[A\n",
      "chunk:  22%|██▏       | 306/1422 [00:00<00:02, 438.25it/s, now=None]\u001b[A\n",
      "chunk:  25%|██▌       | 357/1422 [00:00<00:02, 376.60it/s, now=None]\u001b[A\n",
      "chunk:  29%|██▊       | 408/1422 [00:00<00:02, 400.05it/s, now=None]\u001b[A\n",
      "chunk:  36%|███▌      | 510/1422 [00:01<00:01, 458.73it/s, now=None]\u001b[A\n",
      "chunk:  39%|███▉      | 561/1422 [00:01<00:01, 455.35it/s, now=None]\u001b[A\n",
      "chunk:  43%|████▎     | 612/1422 [00:01<00:01, 408.26it/s, now=None]\u001b[A\n",
      "chunk:  50%|█████     | 714/1422 [00:01<00:01, 445.38it/s, now=None]\u001b[A\n",
      "chunk:  57%|█████▋    | 816/1422 [00:01<00:01, 486.28it/s, now=None]\u001b[A\n",
      "chunk:  61%|██████    | 867/1422 [00:01<00:01, 439.59it/s, now=None]\u001b[A\n",
      "chunk:  65%|██████▍   | 918/1422 [00:01<00:01, 432.74it/s, now=None]\u001b[A\n",
      "chunk:  68%|██████▊   | 969/1422 [00:02<00:01, 398.86it/s, now=None]\u001b[A\n",
      "chunk:  75%|███████▌  | 1071/1422 [00:02<00:00, 469.38it/s, now=None]\u001b[A\n",
      "chunk:  79%|███████▉  | 1125/1422 [00:02<00:00, 400.06it/s, now=None]\u001b[A\n",
      "chunk:  82%|████████▏ | 1173/1422 [00:02<00:00, 342.14it/s, now=None]\u001b[A\n",
      "chunk:  86%|████████▌ | 1224/1422 [00:02<00:00, 348.23it/s, now=None]\u001b[A\n",
      "chunk:  90%|████████▉ | 1275/1422 [00:02<00:00, 324.73it/s, now=None]\u001b[A\n",
      "chunk:  93%|█████████▎| 1326/1422 [00:03<00:00, 345.66it/s, now=None]\u001b[A\n",
      "chunk:  97%|█████████▋| 1377/1422 [00:03<00:00, 360.72it/s, now=None]\u001b[A\n",
      "chunk:   1%|▏         | 29/2121 [7:09:50<516:47:59, 889.33s/it, now=None]"
     ]
    },
    {
     "name": "stdout",
     "output_type": "stream",
     "text": [
      "MoviePy - Done.\n"
     ]
    },
    {
     "name": "stderr",
     "output_type": "stream",
     "text": [
      "chunk:   1%|▏         | 29/2121 [7:09:51<516:48:59, 889.36s/it, now=None]\n",
      "chunk:   0%|          | 0/2269 [00:00<?, ?it/s, now=None]\u001b[A\n",
      "chunk:   7%|▋         | 149/2269 [00:00<00:01, 1489.47it/s, now=None]\u001b[A"
     ]
    },
    {
     "name": "stdout",
     "output_type": "stream",
     "text": [
      "MoviePy - Writing audio in /home/jupyter/datasets/amigos/audio/Exp1_P26_audio/P26_80_audio.wav\n"
     ]
    },
    {
     "name": "stderr",
     "output_type": "stream",
     "text": [
      "\n",
      "chunk:   9%|▊         | 194/2269 [00:00<00:03, 669.63it/s, now=None] \u001b[A\n",
      "chunk:  10%|█         | 235/2269 [00:00<00:06, 336.97it/s, now=None]\u001b[A\n",
      "chunk:  12%|█▏        | 268/2269 [00:00<00:06, 332.99it/s, now=None]\u001b[A\n",
      "chunk:  13%|█▎        | 306/2269 [00:00<00:07, 255.37it/s, now=None]\u001b[A\n",
      "chunk:  16%|█▌        | 357/2269 [00:01<00:08, 220.93it/s, now=None]\u001b[A\n",
      "chunk:  20%|██        | 459/2269 [00:01<00:06, 276.44it/s, now=None]\u001b[A\n",
      "chunk:  22%|██▏       | 510/2269 [00:01<00:05, 311.54it/s, now=None]\u001b[A\n",
      "chunk:  27%|██▋       | 612/2269 [00:01<00:04, 368.84it/s, now=None]\u001b[A\n",
      "chunk:  29%|██▉       | 663/2269 [00:01<00:06, 259.53it/s, now=None]\u001b[A\n",
      "chunk:  31%|███▏      | 714/2269 [00:02<00:05, 275.38it/s, now=None]\u001b[A\n",
      "chunk:  34%|███▎      | 765/2269 [00:02<00:04, 308.49it/s, now=None]\u001b[A\n",
      "chunk:  38%|███▊      | 867/2269 [00:02<00:03, 363.06it/s, now=None]\u001b[A\n",
      "chunk:  40%|████      | 918/2269 [00:02<00:03, 361.35it/s, now=None]\u001b[A\n",
      "chunk:  45%|████▍     | 1013/2269 [00:02<00:02, 443.80it/s, now=None]\u001b[A\n",
      "chunk:  47%|████▋     | 1072/2269 [00:03<00:04, 239.68it/s, now=None]\u001b[A\n",
      "chunk:  49%|████▉     | 1122/2269 [00:03<00:04, 264.02it/s, now=None]\u001b[A\n",
      "chunk:  52%|█████▏    | 1173/2269 [00:03<00:03, 299.50it/s, now=None]\u001b[A\n",
      "chunk:  54%|█████▍    | 1224/2269 [00:03<00:03, 322.45it/s, now=None]\u001b[A\n",
      "chunk:  56%|█████▌    | 1275/2269 [00:03<00:02, 351.32it/s, now=None]\u001b[A\n",
      "chunk:  58%|█████▊    | 1326/2269 [00:03<00:02, 368.55it/s, now=None]\u001b[A\n",
      "chunk:  61%|██████    | 1377/2269 [00:03<00:02, 370.67it/s, now=None]\u001b[A\n",
      "chunk:  65%|██████▍   | 1469/2269 [00:03<00:01, 451.56it/s, now=None]\u001b[A\n",
      "chunk:  67%|██████▋   | 1526/2269 [00:04<00:01, 426.96it/s, now=None]\u001b[A\n",
      "chunk:  70%|██████▉   | 1577/2269 [00:04<00:01, 446.09it/s, now=None]\u001b[A\n",
      "chunk:  72%|███████▏  | 1632/2269 [00:04<00:01, 353.89it/s, now=None]\u001b[A\n",
      "chunk:  74%|███████▍  | 1683/2269 [00:04<00:01, 369.59it/s, now=None]\u001b[A\n",
      "chunk:  76%|███████▋  | 1734/2269 [00:04<00:01, 310.52it/s, now=None]\u001b[A\n",
      "chunk:  79%|███████▉  | 1800/2269 [00:04<00:01, 369.14it/s, now=None]\u001b[A\n",
      "chunk:  83%|████████▎ | 1887/2269 [00:05<00:00, 419.82it/s, now=None]\u001b[A\n",
      "chunk:  85%|████████▌ | 1938/2269 [00:05<00:00, 407.03it/s, now=None]\u001b[A\n",
      "chunk:  90%|████████▉ | 2040/2269 [00:05<00:00, 439.65it/s, now=None]\u001b[A\n",
      "chunk:  92%|█████████▏| 2091/2269 [00:05<00:00, 399.39it/s, now=None]\u001b[A\n",
      "chunk:  96%|█████████▋| 2186/2269 [00:05<00:00, 483.44it/s, now=None]\u001b[A\n",
      "chunk:  99%|█████████▉| 2246/2269 [00:05<00:00, 391.41it/s, now=None]\u001b[A\n",
      "chunk:   1%|▏         | 29/2121 [7:09:57<516:56:02, 889.56s/it, now=None]"
     ]
    },
    {
     "name": "stdout",
     "output_type": "stream",
     "text": [
      "MoviePy - Done.\n"
     ]
    },
    {
     "name": "stderr",
     "output_type": "stream",
     "text": [
      "chunk:   1%|▏         | 29/2121 [7:09:58<516:57:00, 889.59s/it, now=None]\n",
      "chunk:   0%|          | 0/1671 [00:00<?, ?it/s, now=None]\u001b[A\n",
      "chunk:   9%|▉         | 153/1671 [00:00<00:01, 1394.36it/s, now=None]\u001b[A"
     ]
    },
    {
     "name": "stdout",
     "output_type": "stream",
     "text": [
      "MoviePy - Writing audio in /home/jupyter/datasets/amigos/audio/Exp1_P26_audio/P26_9_audio.wav\n"
     ]
    },
    {
     "name": "stderr",
     "output_type": "stream",
     "text": [
      "\n",
      "chunk:  12%|█▏        | 204/1671 [00:00<00:02, 667.24it/s, now=None] \u001b[A\n",
      "chunk:  18%|█▊        | 306/1671 [00:00<00:02, 530.32it/s, now=None]\u001b[A\n",
      "chunk:  24%|██▍       | 408/1671 [00:00<00:02, 526.11it/s, now=None]\u001b[A\n",
      "chunk:  27%|██▋       | 459/1671 [00:00<00:02, 508.96it/s, now=None]\u001b[A\n",
      "chunk:  31%|███       | 510/1671 [00:00<00:02, 469.61it/s, now=None]\u001b[A\n",
      "chunk:  34%|███▎      | 561/1671 [00:01<00:02, 452.06it/s, now=None]\u001b[A\n",
      "chunk:  40%|███▉      | 663/1671 [00:01<00:02, 427.41it/s, now=None]\u001b[A\n",
      "chunk:  43%|████▎     | 714/1671 [00:01<00:02, 408.03it/s, now=None]\u001b[A\n",
      "chunk:  46%|████▌     | 765/1671 [00:01<00:02, 365.08it/s, now=None]\u001b[A\n",
      "chunk:  52%|█████▏    | 867/1671 [00:01<00:01, 414.23it/s, now=None]\u001b[A\n",
      "chunk:  58%|█████▊    | 969/1671 [00:02<00:01, 458.18it/s, now=None]\u001b[A\n",
      "chunk:  61%|██████    | 1020/1671 [00:02<00:01, 451.05it/s, now=None]\u001b[A\n",
      "chunk:  67%|██████▋   | 1122/1671 [00:02<00:01, 453.94it/s, now=None]\u001b[A\n",
      "chunk:  73%|███████▎  | 1224/1671 [00:02<00:00, 487.61it/s, now=None]\u001b[A\n",
      "chunk:  77%|███████▋  | 1279/1671 [00:02<00:00, 504.62it/s, now=None]\u001b[A\n",
      "chunk:  80%|███████▉  | 1331/1671 [00:02<00:00, 486.53it/s, now=None]\u001b[A\n",
      "chunk:  83%|████████▎ | 1381/1671 [00:02<00:00, 464.67it/s, now=None]\u001b[A\n",
      "chunk:  89%|████████▊ | 1479/1671 [00:03<00:00, 510.97it/s, now=None]\u001b[A\n",
      "chunk:  92%|█████████▏| 1533/1671 [00:03<00:00, 486.03it/s, now=None]\u001b[A\n",
      "chunk:  95%|█████████▍| 1584/1671 [00:03<00:00, 403.47it/s, now=None]\u001b[A\n",
      "chunk:   1%|▏         | 29/2121 [7:10:01<517:01:07, 889.71s/it, now=None]"
     ]
    },
    {
     "name": "stdout",
     "output_type": "stream",
     "text": [
      "MoviePy - Done.\n"
     ]
    },
    {
     "name": "stderr",
     "output_type": "stream",
     "text": [
      "chunk:   1%|▏         | 29/2121 [7:10:02<517:02:14, 889.74s/it, now=None]\n",
      "chunk:   0%|          | 0/2124 [00:00<?, ?it/s, now=None]\u001b[A"
     ]
    },
    {
     "name": "stdout",
     "output_type": "stream",
     "text": [
      "MoviePy - Writing audio in /home/jupyter/datasets/amigos/audio/Exp1_P27_audio/P27_10_audio.wav\n"
     ]
    },
    {
     "name": "stderr",
     "output_type": "stream",
     "text": [
      "\n",
      "chunk:   5%|▍         | 102/2124 [00:00<00:05, 368.14it/s, now=None]\u001b[A\n",
      "chunk:   7%|▋         | 153/2124 [00:00<00:06, 308.45it/s, now=None]\u001b[A\n",
      "chunk:  10%|▉         | 204/2124 [00:00<00:07, 248.70it/s, now=None]\u001b[A\n",
      "chunk:  12%|█▏        | 255/2124 [00:01<00:07, 235.09it/s, now=None]\u001b[A\n",
      "chunk:  14%|█▍        | 306/2124 [00:01<00:06, 272.88it/s, now=None]\u001b[A\n",
      "chunk:  17%|█▋        | 357/2124 [00:01<00:06, 290.19it/s, now=None]\u001b[A\n",
      "chunk:  19%|█▉        | 408/2124 [00:01<00:06, 267.13it/s, now=None]\u001b[A\n",
      "chunk:  22%|██▏       | 459/2124 [00:01<00:05, 277.78it/s, now=None]\u001b[A\n",
      "chunk:  24%|██▍       | 510/2124 [00:01<00:05, 271.79it/s, now=None]\u001b[A\n",
      "chunk:  26%|██▋       | 561/2124 [00:02<00:05, 308.58it/s, now=None]\u001b[A\n",
      "chunk:  29%|██▉       | 612/2124 [00:02<00:04, 329.19it/s, now=None]\u001b[A\n",
      "chunk:  31%|███       | 663/2124 [00:02<00:04, 312.41it/s, now=None]\u001b[A\n",
      "chunk:  36%|███▌      | 765/2124 [00:02<00:04, 320.85it/s, now=None]\u001b[A\n",
      "chunk:  38%|███▊      | 816/2124 [00:02<00:04, 290.59it/s, now=None]\u001b[A\n",
      "chunk:  41%|████      | 867/2124 [00:03<00:04, 281.63it/s, now=None]\u001b[A\n",
      "chunk:  43%|████▎     | 918/2124 [00:03<00:03, 314.81it/s, now=None]\u001b[A\n",
      "chunk:  46%|████▌     | 969/2124 [00:03<00:04, 269.06it/s, now=None]\u001b[A\n",
      "chunk:  48%|████▊     | 1020/2124 [00:03<00:04, 268.19it/s, now=None]\u001b[A\n",
      "chunk:  50%|█████     | 1071/2124 [00:03<00:04, 233.15it/s, now=None]\u001b[A\n",
      "chunk:  53%|█████▎    | 1122/2124 [00:04<00:04, 242.29it/s, now=None]\u001b[A\n",
      "chunk:  55%|█████▌    | 1173/2124 [00:04<00:03, 261.77it/s, now=None]\u001b[A\n",
      "chunk:  58%|█████▊    | 1224/2124 [00:04<00:03, 283.11it/s, now=None]\u001b[A\n",
      "chunk:  60%|██████    | 1275/2124 [00:04<00:03, 239.93it/s, now=None]\u001b[A\n",
      "chunk:  62%|██████▏   | 1326/2124 [00:04<00:03, 264.46it/s, now=None]\u001b[A\n",
      "chunk:  65%|██████▍   | 1377/2124 [00:05<00:02, 265.80it/s, now=None]\u001b[A\n",
      "chunk:  67%|██████▋   | 1428/2124 [00:05<00:02, 259.11it/s, now=None]\u001b[A\n",
      "chunk:  70%|██████▉   | 1479/2124 [00:05<00:02, 291.80it/s, now=None]\u001b[A\n",
      "chunk:  72%|███████▏  | 1530/2124 [00:05<00:01, 332.64it/s, now=None]\u001b[A\n",
      "chunk:  74%|███████▍  | 1582/2124 [00:05<00:01, 372.84it/s, now=None]\u001b[A\n",
      "chunk:  77%|███████▋  | 1632/2124 [00:05<00:01, 326.34it/s, now=None]\u001b[A\n",
      "chunk:  79%|███████▉  | 1683/2124 [00:05<00:01, 299.17it/s, now=None]\u001b[A\n",
      "chunk:  82%|████████▏ | 1734/2124 [00:06<00:01, 308.28it/s, now=None]\u001b[A\n",
      "chunk:  84%|████████▍ | 1785/2124 [00:06<00:01, 274.49it/s, now=None]\u001b[A\n",
      "chunk:  87%|████████▋ | 1838/2124 [00:06<00:00, 320.70it/s, now=None]\u001b[A\n",
      "chunk:  89%|████████▉ | 1887/2124 [00:06<00:00, 299.77it/s, now=None]\u001b[A\n",
      "chunk:  91%|█████████ | 1938/2124 [00:06<00:00, 239.40it/s, now=None]\u001b[A\n",
      "chunk:  94%|█████████▎| 1989/2124 [00:07<00:00, 260.74it/s, now=None]\u001b[A\n",
      "chunk:  96%|█████████▌| 2040/2124 [00:07<00:00, 263.29it/s, now=None]\u001b[A\n",
      "chunk:   1%|▏         | 29/2121 [7:10:09<517:11:02, 889.99s/it, now=None]"
     ]
    },
    {
     "name": "stdout",
     "output_type": "stream",
     "text": [
      "MoviePy - Done.\n"
     ]
    },
    {
     "name": "stderr",
     "output_type": "stream",
     "text": [
      "chunk:   1%|▏         | 29/2121 [7:10:10<517:12:10, 890.02s/it, now=None]\n",
      "chunk:   0%|          | 0/1261 [00:00<?, ?it/s, now=None]\u001b[A\n",
      "chunk:   8%|▊         | 102/1261 [00:00<00:01, 735.37it/s, now=None]\u001b[A"
     ]
    },
    {
     "name": "stdout",
     "output_type": "stream",
     "text": [
      "MoviePy - Writing audio in /home/jupyter/datasets/amigos/audio/Exp1_P27_audio/P27_13_audio.wav\n"
     ]
    },
    {
     "name": "stderr",
     "output_type": "stream",
     "text": [
      "\n",
      "chunk:  12%|█▏        | 153/1261 [00:00<00:01, 562.61it/s, now=None]\u001b[A\n",
      "chunk:  16%|█▌        | 204/1261 [00:00<00:02, 411.49it/s, now=None]\u001b[A\n",
      "chunk:  20%|██        | 255/1261 [00:00<00:02, 372.80it/s, now=None]\u001b[A\n",
      "chunk:  24%|██▍       | 306/1261 [00:00<00:02, 379.20it/s, now=None]\u001b[A\n",
      "chunk:  28%|██▊       | 357/1261 [00:00<00:02, 394.06it/s, now=None]\u001b[A\n",
      "chunk:  32%|███▏      | 408/1261 [00:01<00:02, 364.75it/s, now=None]\u001b[A\n",
      "chunk:  36%|███▋      | 459/1261 [00:01<00:02, 390.75it/s, now=None]\u001b[A\n",
      "chunk:  40%|████      | 510/1261 [00:01<00:01, 378.82it/s, now=None]\u001b[A\n",
      "chunk:  44%|████▍     | 561/1261 [00:01<00:02, 339.28it/s, now=None]\u001b[A\n",
      "chunk:  49%|████▊     | 612/1261 [00:01<00:01, 366.74it/s, now=None]\u001b[A\n",
      "chunk:  53%|█████▎    | 663/1261 [00:01<00:01, 382.36it/s, now=None]\u001b[A\n",
      "chunk:  57%|█████▋    | 714/1261 [00:01<00:01, 295.90it/s, now=None]\u001b[A\n",
      "chunk:  61%|██████    | 765/1261 [00:02<00:01, 281.41it/s, now=None]\u001b[A\n",
      "chunk:  65%|██████▍   | 816/1261 [00:02<00:01, 269.16it/s, now=None]\u001b[A\n",
      "chunk:  69%|██████▉   | 867/1261 [00:02<00:01, 225.91it/s, now=None]\u001b[A\n",
      "chunk:  74%|███████▍  | 930/1261 [00:02<00:01, 279.73it/s, now=None]\u001b[A\n",
      "chunk:  77%|███████▋  | 969/1261 [00:02<00:01, 276.68it/s, now=None]\u001b[A\n",
      "chunk:  81%|████████  | 1020/1261 [00:03<00:00, 275.35it/s, now=None]\u001b[A\n",
      "chunk:  85%|████████▍ | 1071/1261 [00:03<00:00, 256.76it/s, now=None]\u001b[A\n",
      "chunk:  89%|████████▉ | 1122/1261 [00:03<00:00, 281.15it/s, now=None]\u001b[A\n",
      "chunk:  97%|█████████▋| 1224/1261 [00:03<00:00, 345.93it/s, now=None]\u001b[A\n",
      "chunk:   1%|▏         | 29/2121 [7:10:14<517:16:36, 890.15s/it, now=None]"
     ]
    },
    {
     "name": "stdout",
     "output_type": "stream",
     "text": [
      "MoviePy - Done.\n"
     ]
    },
    {
     "name": "stderr",
     "output_type": "stream",
     "text": [
      "chunk:   1%|▏         | 29/2121 [7:10:15<517:17:51, 890.19s/it, now=None]\n",
      "chunk:   0%|          | 0/2703 [00:00<?, ?it/s, now=None]\u001b[A\n",
      "chunk:   4%|▍         | 102/2703 [00:00<00:04, 609.12it/s, now=None]\u001b[A"
     ]
    },
    {
     "name": "stdout",
     "output_type": "stream",
     "text": [
      "MoviePy - Writing audio in /home/jupyter/datasets/amigos/audio/Exp1_P27_audio/P27_138_audio.wav\n"
     ]
    },
    {
     "name": "stderr",
     "output_type": "stream",
     "text": [
      "\n",
      "chunk:   6%|▌         | 153/2703 [00:00<00:07, 352.38it/s, now=None]\u001b[A\n",
      "chunk:   8%|▊         | 204/2703 [00:00<00:08, 301.20it/s, now=None]\u001b[A\n",
      "chunk:   9%|▉         | 255/2703 [00:00<00:09, 271.56it/s, now=None]\u001b[A\n",
      "chunk:  11%|█▏        | 306/2703 [00:01<00:07, 309.43it/s, now=None]\u001b[A\n",
      "chunk:  13%|█▎        | 357/2703 [00:01<00:07, 315.03it/s, now=None]\u001b[A\n",
      "chunk:  16%|█▌        | 431/2703 [00:01<00:05, 380.59it/s, now=None]\u001b[A\n",
      "chunk:  19%|█▉        | 510/2703 [00:01<00:06, 340.10it/s, now=None]\u001b[A\n",
      "chunk:  21%|██        | 561/2703 [00:01<00:06, 307.08it/s, now=None]\u001b[A\n",
      "chunk:  23%|██▎       | 612/2703 [00:01<00:07, 294.65it/s, now=None]\u001b[A\n",
      "chunk:  25%|██▍       | 663/2703 [00:02<00:06, 336.59it/s, now=None]\u001b[A\n",
      "chunk:  26%|██▋       | 714/2703 [00:02<00:06, 287.34it/s, now=None]\u001b[A\n",
      "chunk:  28%|██▊       | 765/2703 [00:02<00:07, 276.18it/s, now=None]\u001b[A\n",
      "chunk:  30%|███       | 816/2703 [00:02<00:07, 246.65it/s, now=None]\u001b[A\n",
      "chunk:  32%|███▏      | 867/2703 [00:02<00:07, 241.36it/s, now=None]\u001b[A\n",
      "chunk:  34%|███▍      | 918/2703 [00:03<00:06, 260.60it/s, now=None]\u001b[A\n",
      "chunk:  37%|███▋      | 1005/2703 [00:03<00:05, 329.89it/s, now=None]\u001b[A\n",
      "chunk:  39%|███▉      | 1051/2703 [00:03<00:04, 360.29it/s, now=None]\u001b[A\n",
      "chunk:  41%|████      | 1097/2703 [00:03<00:04, 337.12it/s, now=None]\u001b[A\n",
      "chunk:  42%|████▏     | 1138/2703 [00:03<00:05, 289.12it/s, now=None]\u001b[A\n",
      "chunk:  45%|████▌     | 1224/2703 [00:03<00:04, 344.60it/s, now=None]\u001b[A\n",
      "chunk:  47%|████▋     | 1275/2703 [00:04<00:05, 264.51it/s, now=None]\u001b[A\n",
      "chunk:  49%|████▉     | 1326/2703 [00:04<00:04, 287.99it/s, now=None]\u001b[A\n",
      "chunk:  51%|█████     | 1377/2703 [00:04<00:04, 324.85it/s, now=None]\u001b[A\n",
      "chunk:  53%|█████▎    | 1428/2703 [00:04<00:03, 360.19it/s, now=None]\u001b[A\n",
      "chunk:  55%|█████▍    | 1479/2703 [00:04<00:03, 371.82it/s, now=None]\u001b[A\n",
      "chunk:  57%|█████▋    | 1530/2703 [00:04<00:03, 321.32it/s, now=None]\u001b[A\n",
      "chunk:  58%|█████▊    | 1581/2703 [00:04<00:03, 327.20it/s, now=None]\u001b[A\n",
      "chunk:  60%|██████    | 1632/2703 [00:05<00:04, 264.51it/s, now=None]\u001b[A\n",
      "chunk:  62%|██████▏   | 1683/2703 [00:05<00:03, 291.65it/s, now=None]\u001b[A\n",
      "chunk:  64%|██████▍   | 1734/2703 [00:05<00:03, 297.37it/s, now=None]\u001b[A\n",
      "chunk:  68%|██████▊   | 1836/2703 [00:05<00:02, 323.55it/s, now=None]\u001b[A\n",
      "chunk:  70%|██████▉   | 1887/2703 [00:05<00:02, 326.12it/s, now=None]\u001b[A\n",
      "chunk:  72%|███████▏  | 1938/2703 [00:06<00:02, 350.14it/s, now=None]\u001b[A\n",
      "chunk:  74%|███████▎  | 1989/2703 [00:06<00:02, 336.36it/s, now=None]\u001b[A\n",
      "chunk:  75%|███████▌  | 2040/2703 [00:06<00:02, 331.28it/s, now=None]\u001b[A\n",
      "chunk:  77%|███████▋  | 2091/2703 [00:06<00:01, 342.24it/s, now=None]\u001b[A\n",
      "chunk:  79%|███████▉  | 2142/2703 [00:06<00:01, 321.66it/s, now=None]\u001b[A\n",
      "chunk:  81%|████████  | 2193/2703 [00:06<00:01, 322.88it/s, now=None]\u001b[A\n",
      "chunk:  83%|████████▎ | 2244/2703 [00:07<00:01, 258.21it/s, now=None]\u001b[A\n",
      "chunk:  85%|████████▍ | 2295/2703 [00:07<00:01, 234.37it/s, now=None]\u001b[A\n",
      "chunk:  87%|████████▋ | 2346/2703 [00:07<00:01, 263.99it/s, now=None]\u001b[A\n",
      "chunk:  89%|████████▊ | 2397/2703 [00:07<00:01, 251.36it/s, now=None]\u001b[A\n",
      "chunk:  91%|█████████ | 2448/2703 [00:07<00:00, 255.30it/s, now=None]\u001b[A\n",
      "chunk:  92%|█████████▏| 2499/2703 [00:08<00:00, 243.37it/s, now=None]\u001b[A\n",
      "chunk:  94%|█████████▍| 2550/2703 [00:08<00:00, 227.29it/s, now=None]\u001b[A\n",
      "chunk:  96%|█████████▌| 2601/2703 [00:08<00:00, 270.12it/s, now=None]\u001b[A\n",
      "chunk:  98%|█████████▊| 2652/2703 [00:08<00:00, 288.71it/s, now=None]\u001b[A\n",
      "chunk:   1%|▏         | 29/2121 [7:10:24<517:28:23, 890.49s/it, now=None]"
     ]
    },
    {
     "name": "stdout",
     "output_type": "stream",
     "text": [
      "MoviePy - Done.\n"
     ]
    },
    {
     "name": "stderr",
     "output_type": "stream",
     "text": [
      "chunk:   1%|▏         | 29/2121 [7:10:25<517:29:29, 890.52s/it, now=None]\n",
      "chunk:   0%|          | 0/1832 [00:00<?, ?it/s, now=None]\u001b[A"
     ]
    },
    {
     "name": "stdout",
     "output_type": "stream",
     "text": [
      "MoviePy - Writing audio in /home/jupyter/datasets/amigos/audio/Exp1_P27_audio/P27_18_audio.wav\n"
     ]
    },
    {
     "name": "stderr",
     "output_type": "stream",
     "text": [
      "\n",
      "chunk:   6%|▌         | 102/1832 [00:00<00:03, 457.47it/s, now=None]\u001b[A\n",
      "chunk:   8%|▊         | 153/1832 [00:00<00:05, 309.04it/s, now=None]\u001b[A\n",
      "chunk:  11%|█         | 204/1832 [00:00<00:05, 302.35it/s, now=None]\u001b[A\n",
      "chunk:  14%|█▍        | 255/1832 [00:00<00:06, 253.92it/s, now=None]\u001b[A\n",
      "chunk:  17%|█▋        | 306/1832 [00:01<00:07, 214.87it/s, now=None]\u001b[A\n",
      "chunk:  19%|█▉        | 357/1832 [00:01<00:05, 252.68it/s, now=None]\u001b[A\n",
      "chunk:  22%|██▏       | 408/1832 [00:01<00:05, 283.00it/s, now=None]\u001b[A\n",
      "chunk:  25%|██▌       | 459/1832 [00:01<00:04, 304.99it/s, now=None]\u001b[A\n",
      "chunk:  28%|██▊       | 510/1832 [00:01<00:04, 297.94it/s, now=None]\u001b[A\n",
      "chunk:  31%|███       | 561/1832 [00:02<00:04, 300.64it/s, now=None]\u001b[A\n",
      "chunk:  33%|███▎      | 612/1832 [00:02<00:04, 301.38it/s, now=None]\u001b[A\n",
      "chunk:  38%|███▊      | 705/1832 [00:02<00:02, 377.96it/s, now=None]\u001b[A\n",
      "chunk:  41%|████      | 755/1832 [00:02<00:03, 279.88it/s, now=None]\u001b[A\n",
      "chunk:  43%|████▎     | 795/1832 [00:02<00:03, 277.23it/s, now=None]\u001b[A\n",
      "chunk:  47%|████▋     | 867/1832 [00:03<00:03, 267.02it/s, now=None]\u001b[A\n",
      "chunk:  50%|█████     | 918/1832 [00:03<00:03, 274.30it/s, now=None]\u001b[A\n",
      "chunk:  55%|█████▍    | 1003/1832 [00:03<00:02, 344.22it/s, now=None]\u001b[A\n",
      "chunk:  57%|█████▋    | 1051/1832 [00:03<00:02, 293.33it/s, now=None]\u001b[A\n",
      "chunk:  60%|█████▉    | 1091/1832 [00:03<00:02, 260.29it/s, now=None]\u001b[A\n",
      "chunk:  61%|██████▏   | 1126/1832 [00:03<00:03, 204.30it/s, now=None]\u001b[A\n",
      "chunk:  64%|██████▍   | 1173/1832 [00:04<00:02, 235.09it/s, now=None]\u001b[A\n",
      "chunk:  67%|██████▋   | 1224/1832 [00:04<00:03, 162.69it/s, now=None]\u001b[A\n",
      "chunk:  70%|██████▉   | 1275/1832 [00:04<00:03, 171.42it/s, now=None]\u001b[A\n",
      "chunk:  75%|███████▍  | 1369/1832 [00:04<00:02, 227.11it/s, now=None]\u001b[A\n",
      "chunk:  77%|███████▋  | 1414/1832 [00:05<00:02, 197.00it/s, now=None]\u001b[A\n",
      "chunk:  79%|███████▉  | 1450/1832 [00:05<00:01, 208.19it/s, now=None]\u001b[A\n",
      "chunk:  82%|████████▏ | 1506/1832 [00:05<00:01, 256.48it/s, now=None]\u001b[A\n",
      "chunk:  84%|████████▍ | 1546/1832 [00:05<00:01, 197.98it/s, now=None]\u001b[A\n",
      "chunk:  86%|████████▋ | 1581/1832 [00:06<00:01, 159.65it/s, now=None]\u001b[A\n",
      "chunk:  89%|████████▉ | 1632/1832 [00:06<00:01, 192.34it/s, now=None]\u001b[A\n",
      "chunk:  92%|█████████▏| 1683/1832 [00:06<00:00, 222.82it/s, now=None]\u001b[A\n",
      "chunk:  95%|█████████▍| 1734/1832 [00:06<00:00, 199.33it/s, now=None]\u001b[A\n",
      "chunk:  97%|█████████▋| 1785/1832 [00:07<00:00, 195.51it/s, now=None]\u001b[A\n",
      "chunk:   1%|▏         | 29/2121 [7:10:32<517:38:00, 890.76s/it, now=None]"
     ]
    },
    {
     "name": "stdout",
     "output_type": "stream",
     "text": [
      "MoviePy - Done.\n"
     ]
    },
    {
     "name": "stderr",
     "output_type": "stream",
     "text": [
      "chunk:   1%|▏         | 29/2121 [7:10:32<517:38:58, 890.79s/it, now=None]\n",
      "chunk:   0%|          | 0/2788 [00:00<?, ?it/s, now=None]\u001b[A\n"
     ]
    },
    {
     "name": "stdout",
     "output_type": "stream",
     "text": [
      "MoviePy - Writing audio in /home/jupyter/datasets/amigos/audio/Exp1_P27_audio/P27_19_audio.wav\n"
     ]
    },
    {
     "name": "stderr",
     "output_type": "stream",
     "text": [
      "chunk:   4%|▎         | 102/2788 [00:00<00:04, 563.14it/s, now=None]\u001b[A\n",
      "chunk:   5%|▌         | 153/2788 [00:00<00:07, 353.24it/s, now=None]\u001b[A\n",
      "chunk:   7%|▋         | 204/2788 [00:00<00:09, 259.11it/s, now=None]\u001b[A\n",
      "chunk:   9%|▉         | 255/2788 [00:00<00:10, 250.71it/s, now=None]\u001b[A\n",
      "chunk:  11%|█         | 306/2788 [00:01<00:09, 255.20it/s, now=None]\u001b[A\n",
      "chunk:  13%|█▎        | 357/2788 [00:01<00:08, 270.22it/s, now=None]\u001b[A\n",
      "chunk:  15%|█▍        | 408/2788 [00:01<00:10, 222.54it/s, now=None]\u001b[A\n",
      "chunk:  16%|█▋        | 459/2788 [00:01<00:11, 202.90it/s, now=None]\u001b[A\n",
      "chunk:  18%|█▊        | 510/2788 [00:02<00:13, 164.34it/s, now=None]\u001b[A\n",
      "chunk:  20%|██        | 561/2788 [00:02<00:11, 197.43it/s, now=None]\u001b[A\n",
      "chunk:  22%|██▏       | 612/2788 [00:02<00:09, 234.98it/s, now=None]\u001b[A\n",
      "chunk:  24%|██▍       | 663/2788 [00:02<00:08, 260.77it/s, now=None]\u001b[A\n",
      "chunk:  26%|██▌       | 714/2788 [00:02<00:07, 280.60it/s, now=None]\u001b[A\n",
      "chunk:  27%|██▋       | 765/2788 [00:03<00:07, 282.22it/s, now=None]\u001b[A\n",
      "chunk:  29%|██▉       | 816/2788 [00:03<00:06, 298.43it/s, now=None]\u001b[A\n",
      "chunk:  31%|███       | 867/2788 [00:03<00:07, 264.28it/s, now=None]\u001b[A\n",
      "chunk:  33%|███▎      | 918/2788 [00:03<00:06, 284.45it/s, now=None]\u001b[A\n",
      "chunk:  35%|███▍      | 969/2788 [00:03<00:07, 259.20it/s, now=None]\u001b[A\n",
      "chunk:  37%|███▋      | 1020/2788 [00:04<00:06, 266.61it/s, now=None]\u001b[A\n",
      "chunk:  38%|███▊      | 1071/2788 [00:04<00:06, 259.00it/s, now=None]\u001b[A\n",
      "chunk:  42%|████▏     | 1173/2788 [00:04<00:05, 293.52it/s, now=None]\u001b[A\n",
      "chunk:  44%|████▍     | 1224/2788 [00:04<00:05, 298.74it/s, now=None]\u001b[A\n",
      "chunk:  46%|████▌     | 1275/2788 [00:04<00:05, 297.42it/s, now=None]\u001b[A\n",
      "chunk:  48%|████▊     | 1326/2788 [00:05<00:05, 281.47it/s, now=None]\u001b[A\n",
      "chunk:  49%|████▉     | 1377/2788 [00:05<00:05, 249.28it/s, now=None]\u001b[A\n",
      "chunk:  51%|█████     | 1428/2788 [00:05<00:05, 246.38it/s, now=None]\u001b[A\n",
      "chunk:  53%|█████▎    | 1479/2788 [00:05<00:05, 250.48it/s, now=None]\u001b[A\n",
      "chunk:  55%|█████▍    | 1530/2788 [00:05<00:04, 253.37it/s, now=None]\u001b[A\n",
      "chunk:  57%|█████▋    | 1581/2788 [00:06<00:05, 225.40it/s, now=None]\u001b[A\n",
      "chunk:  59%|█████▊    | 1632/2788 [00:06<00:05, 218.40it/s, now=None]\u001b[A\n",
      "chunk:  60%|██████    | 1683/2788 [00:06<00:04, 228.99it/s, now=None]\u001b[A\n",
      "chunk:  62%|██████▏   | 1734/2788 [00:07<00:06, 161.63it/s, now=None]\u001b[A\n",
      "chunk:  64%|██████▍   | 1785/2788 [00:07<00:05, 170.69it/s, now=None]\u001b[A\n",
      "chunk:  66%|██████▌   | 1836/2788 [00:07<00:05, 160.84it/s, now=None]\u001b[A\n",
      "chunk:  68%|██████▊   | 1887/2788 [00:08<00:05, 177.73it/s, now=None]\u001b[A\n",
      "chunk:  70%|██████▉   | 1938/2788 [00:08<00:04, 204.40it/s, now=None]\u001b[A\n",
      "chunk:  71%|███████▏  | 1989/2788 [00:08<00:03, 225.70it/s, now=None]\u001b[A\n",
      "chunk:  73%|███████▎  | 2040/2788 [00:08<00:03, 246.63it/s, now=None]\u001b[A\n",
      "chunk:  75%|███████▌  | 2091/2788 [00:08<00:03, 228.92it/s, now=None]\u001b[A\n",
      "chunk:  77%|███████▋  | 2142/2788 [00:09<00:03, 212.89it/s, now=None]\u001b[A\n",
      "chunk:  79%|███████▊  | 2193/2788 [00:09<00:02, 219.64it/s, now=None]\u001b[A\n",
      "chunk:  80%|████████  | 2244/2788 [00:09<00:02, 197.68it/s, now=None]\u001b[A\n",
      "chunk:  82%|████████▏ | 2295/2788 [00:09<00:02, 208.17it/s, now=None]\u001b[A\n",
      "chunk:  84%|████████▍ | 2346/2788 [00:09<00:01, 235.67it/s, now=None]\u001b[A\n",
      "chunk:  86%|████████▌ | 2397/2788 [00:10<00:01, 213.25it/s, now=None]\u001b[A\n",
      "chunk:  88%|████████▊ | 2448/2788 [00:10<00:02, 169.21it/s, now=None]\u001b[A\n",
      "chunk:  90%|████████▉ | 2499/2788 [00:10<00:01, 190.90it/s, now=None]\u001b[A\n",
      "chunk:  91%|█████████▏| 2550/2788 [00:11<00:01, 182.37it/s, now=None]\u001b[A\n",
      "chunk:  93%|█████████▎| 2601/2788 [00:11<00:00, 202.66it/s, now=None]\u001b[A\n",
      "chunk:  95%|█████████▌| 2652/2788 [00:11<00:00, 203.64it/s, now=None]\u001b[A\n",
      "chunk:  97%|█████████▋| 2703/2788 [00:11<00:00, 219.93it/s, now=None]\u001b[A\n",
      "chunk:   1%|▏         | 29/2121 [7:10:44<517:53:20, 891.20s/it, now=None]"
     ]
    },
    {
     "name": "stdout",
     "output_type": "stream",
     "text": [
      "MoviePy - Done.\n"
     ]
    },
    {
     "name": "stderr",
     "output_type": "stream",
     "text": [
      "chunk:   1%|▏         | 29/2121 [7:10:46<517:54:49, 891.25s/it, now=None]\n",
      "chunk:   0%|          | 0/1449 [00:00<?, ?it/s, now=None]\u001b[A"
     ]
    },
    {
     "name": "stdout",
     "output_type": "stream",
     "text": [
      "MoviePy - Writing audio in /home/jupyter/datasets/amigos/audio/Exp1_P27_audio/P27_20_audio.wav\n"
     ]
    },
    {
     "name": "stderr",
     "output_type": "stream",
     "text": [
      "\n",
      "chunk:   7%|▋         | 102/1449 [00:00<00:03, 402.96it/s, now=None]\u001b[A\n",
      "chunk:  11%|█         | 153/1449 [00:00<00:04, 294.51it/s, now=None]\u001b[A\n",
      "chunk:  14%|█▍        | 204/1449 [00:00<00:05, 243.96it/s, now=None]\u001b[A\n",
      "chunk:  18%|█▊        | 255/1449 [00:01<00:05, 223.91it/s, now=None]\u001b[A\n",
      "chunk:  21%|██        | 306/1449 [00:01<00:04, 265.30it/s, now=None]\u001b[A\n",
      "chunk:  28%|██▊       | 408/1449 [00:01<00:03, 313.52it/s, now=None]\u001b[A\n",
      "chunk:  32%|███▏      | 459/1449 [00:01<00:02, 343.01it/s, now=None]\u001b[A\n",
      "chunk:  35%|███▌      | 510/1449 [00:01<00:02, 342.71it/s, now=None]\u001b[A\n",
      "chunk:  39%|███▊      | 561/1449 [00:01<00:02, 376.13it/s, now=None]\u001b[A\n",
      "chunk:  42%|████▏     | 612/1449 [00:01<00:02, 311.90it/s, now=None]\u001b[A\n",
      "chunk:  46%|████▌     | 663/1449 [00:02<00:02, 344.11it/s, now=None]\u001b[A\n",
      "chunk:  49%|████▉     | 714/1449 [00:02<00:02, 312.87it/s, now=None]\u001b[A\n",
      "chunk:  53%|█████▎    | 765/1449 [00:02<00:02, 315.98it/s, now=None]\u001b[A\n",
      "chunk:  56%|█████▋    | 816/1449 [00:02<00:02, 291.90it/s, now=None]\u001b[A\n",
      "chunk:  60%|█████▉    | 867/1449 [00:02<00:01, 310.06it/s, now=None]\u001b[A\n",
      "chunk:  67%|██████▋   | 969/1449 [00:03<00:01, 334.70it/s, now=None]\u001b[A\n",
      "chunk:  70%|███████   | 1020/1449 [00:03<00:01, 271.29it/s, now=None]\u001b[A\n",
      "chunk:  74%|███████▍  | 1071/1449 [00:03<00:01, 228.62it/s, now=None]\u001b[A\n",
      "chunk:  77%|███████▋  | 1122/1449 [00:03<00:01, 211.48it/s, now=None]\u001b[A\n",
      "chunk:  81%|████████  | 1173/1449 [00:04<00:01, 226.24it/s, now=None]\u001b[A\n",
      "chunk:  84%|████████▍ | 1224/1449 [00:04<00:00, 251.12it/s, now=None]\u001b[A\n",
      "chunk:  88%|████████▊ | 1275/1449 [00:04<00:00, 240.37it/s, now=None]\u001b[A\n",
      "chunk:  92%|█████████▏| 1326/1449 [00:04<00:00, 248.93it/s, now=None]\u001b[A\n",
      "chunk:  95%|█████████▌| 1377/1449 [00:04<00:00, 246.87it/s, now=None]\u001b[A\n",
      "chunk:   1%|▏         | 29/2121 [7:10:51<518:00:49, 891.42s/it, now=None]"
     ]
    },
    {
     "name": "stdout",
     "output_type": "stream",
     "text": [
      "MoviePy - Done.\n"
     ]
    },
    {
     "name": "stderr",
     "output_type": "stream",
     "text": [
      "chunk:   1%|▏         | 29/2121 [7:10:51<518:01:47, 891.45s/it, now=None]\n",
      "chunk:   0%|          | 0/2467 [00:00<?, ?it/s, now=None]\u001b[A"
     ]
    },
    {
     "name": "stdout",
     "output_type": "stream",
     "text": [
      "MoviePy - Writing audio in /home/jupyter/datasets/amigos/audio/Exp1_P27_audio/P27_23_audio.wav\n"
     ]
    },
    {
     "name": "stderr",
     "output_type": "stream",
     "text": [
      "\n",
      "chunk:   4%|▍         | 102/2467 [00:00<00:05, 440.15it/s, now=None]\u001b[A\n",
      "chunk:   6%|▌         | 153/2467 [00:00<00:06, 371.00it/s, now=None]\u001b[A\n",
      "chunk:   8%|▊         | 204/2467 [00:00<00:06, 364.02it/s, now=None]\u001b[A\n",
      "chunk:  10%|█         | 255/2467 [00:00<00:06, 349.17it/s, now=None]\u001b[A\n",
      "chunk:  12%|█▏        | 306/2467 [00:00<00:06, 358.37it/s, now=None]\u001b[A\n",
      "chunk:  15%|█▌        | 376/2467 [00:00<00:04, 419.70it/s, now=None]\u001b[A\n",
      "chunk:  17%|█▋        | 418/2467 [00:01<00:05, 357.19it/s, now=None]\u001b[A\n",
      "chunk:  19%|█▊        | 459/2467 [00:01<00:06, 329.40it/s, now=None]\u001b[A\n",
      "chunk:  21%|██        | 510/2467 [00:01<00:05, 349.27it/s, now=None]\u001b[A\n",
      "chunk:  23%|██▎       | 560/2467 [00:01<00:05, 366.31it/s, now=None]\u001b[A\n",
      "chunk:  25%|██▍       | 611/2467 [00:01<00:05, 338.20it/s, now=None]\u001b[A\n",
      "chunk:  27%|██▋       | 662/2467 [00:01<00:05, 344.44it/s, now=None]\u001b[A\n",
      "chunk:  31%|███       | 764/2467 [00:02<00:04, 371.98it/s, now=None]\u001b[A\n",
      "chunk:  33%|███▎      | 815/2467 [00:02<00:04, 378.97it/s, now=None]\u001b[A\n",
      "chunk:  37%|███▋      | 917/2467 [00:02<00:04, 380.86it/s, now=None]\u001b[A\n",
      "chunk:  39%|███▉      | 968/2467 [00:02<00:04, 329.14it/s, now=None]\u001b[A\n",
      "chunk:  41%|████▏     | 1019/2467 [00:02<00:04, 292.46it/s, now=None]\u001b[A\n",
      "chunk:  43%|████▎     | 1069/2467 [00:03<00:05, 251.03it/s, now=None]\u001b[A\n",
      "chunk:  45%|████▌     | 1120/2467 [00:03<00:04, 279.01it/s, now=None]\u001b[A\n",
      "chunk:  47%|████▋     | 1171/2467 [00:03<00:04, 310.25it/s, now=None]\u001b[A\n",
      "chunk:  50%|████▉     | 1222/2467 [00:03<00:03, 311.49it/s, now=None]\u001b[A\n",
      "chunk:  52%|█████▏    | 1273/2467 [00:03<00:03, 304.87it/s, now=None]\u001b[A\n",
      "chunk:  56%|█████▌    | 1375/2467 [00:03<00:03, 338.55it/s, now=None]\u001b[A\n",
      "chunk:  58%|█████▊    | 1426/2467 [00:04<00:02, 367.37it/s, now=None]\u001b[A\n",
      "chunk:  60%|█████▉    | 1477/2467 [00:04<00:02, 383.61it/s, now=None]\u001b[A\n",
      "chunk:  62%|██████▏   | 1528/2467 [00:04<00:03, 268.40it/s, now=None]\u001b[A\n",
      "chunk:  64%|██████▍   | 1578/2467 [00:04<00:03, 269.63it/s, now=None]\u001b[A\n",
      "chunk:  66%|██████▌   | 1629/2467 [00:04<00:02, 279.83it/s, now=None]\u001b[A\n",
      "chunk:  68%|██████▊   | 1680/2467 [00:05<00:02, 287.51it/s, now=None]\u001b[A\n",
      "chunk:  70%|███████   | 1731/2467 [00:05<00:02, 266.03it/s, now=None]\u001b[A\n",
      "chunk:  72%|███████▏  | 1782/2467 [00:05<00:02, 245.61it/s, now=None]\u001b[A\n",
      "chunk:  74%|███████▍  | 1833/2467 [00:05<00:02, 267.96it/s, now=None]\u001b[A\n",
      "chunk:  76%|███████▋  | 1884/2467 [00:05<00:02, 274.85it/s, now=None]\u001b[A\n",
      "chunk:  78%|███████▊  | 1935/2467 [00:05<00:01, 295.01it/s, now=None]\u001b[A\n",
      "chunk:  81%|████████  | 1986/2467 [00:06<00:01, 272.39it/s, now=None]\u001b[A\n",
      "chunk:  83%|████████▎ | 2036/2467 [00:06<00:01, 267.39it/s, now=None]\u001b[A\n",
      "chunk:  85%|████████▍ | 2087/2467 [00:06<00:01, 225.35it/s, now=None]\u001b[A\n",
      "chunk:  87%|████████▋ | 2138/2467 [00:06<00:01, 220.24it/s, now=None]\u001b[A\n",
      "chunk:  89%|████████▊ | 2189/2467 [00:07<00:01, 248.91it/s, now=None]\u001b[A\n",
      "chunk:  91%|█████████ | 2240/2467 [00:07<00:00, 243.54it/s, now=None]\u001b[A\n",
      "chunk:  93%|█████████▎| 2291/2467 [00:07<00:00, 265.71it/s, now=None]\u001b[A\n",
      "chunk:  95%|█████████▍| 2342/2467 [00:07<00:00, 288.53it/s, now=None]\u001b[A\n",
      "chunk:  97%|█████████▋| 2393/2467 [00:07<00:00, 265.27it/s, now=None]\u001b[A\n",
      "chunk:   1%|▏         | 29/2121 [7:10:59<518:11:18, 891.72s/it, now=None]"
     ]
    },
    {
     "name": "stdout",
     "output_type": "stream",
     "text": [
      "MoviePy - Done.\n"
     ]
    },
    {
     "name": "stderr",
     "output_type": "stream",
     "text": [
      "chunk:   1%|▏         | 29/2121 [7:11:00<518:12:18, 891.75s/it, now=None]\n",
      "chunk:   0%|          | 0/1684 [00:00<?, ?it/s, now=None]\u001b[A\n",
      "chunk:   6%|▌         | 102/1684 [00:00<00:02, 778.44it/s, now=None]\u001b[A"
     ]
    },
    {
     "name": "stdout",
     "output_type": "stream",
     "text": [
      "MoviePy - Writing audio in /home/jupyter/datasets/amigos/audio/Exp1_P27_audio/P27_30_audio.wav\n"
     ]
    },
    {
     "name": "stderr",
     "output_type": "stream",
     "text": [
      "\n",
      "chunk:   9%|▉         | 153/1684 [00:00<00:04, 362.98it/s, now=None]\u001b[A\n",
      "chunk:  12%|█▏        | 204/1684 [00:00<00:04, 304.18it/s, now=None]\u001b[A\n",
      "chunk:  15%|█▌        | 255/1684 [00:00<00:04, 298.29it/s, now=None]\u001b[A\n",
      "chunk:  18%|█▊        | 306/1684 [00:01<00:04, 279.91it/s, now=None]\u001b[A\n",
      "chunk:  21%|██        | 357/1684 [00:01<00:05, 254.30it/s, now=None]\u001b[A\n",
      "chunk:  24%|██▍       | 408/1684 [00:01<00:05, 240.31it/s, now=None]\u001b[A\n",
      "chunk:  27%|██▋       | 459/1684 [00:01<00:04, 251.93it/s, now=None]\u001b[A\n",
      "chunk:  30%|███       | 510/1684 [00:01<00:04, 251.77it/s, now=None]\u001b[A\n",
      "chunk:  33%|███▎      | 561/1684 [00:02<00:05, 215.47it/s, now=None]\u001b[A\n",
      "chunk:  36%|███▋      | 612/1684 [00:02<00:04, 228.88it/s, now=None]\u001b[A\n",
      "chunk:  39%|███▉      | 663/1684 [00:02<00:03, 259.87it/s, now=None]\u001b[A\n",
      "chunk:  42%|████▏     | 714/1684 [00:02<00:03, 282.35it/s, now=None]\u001b[A\n",
      "chunk:  45%|████▌     | 765/1684 [00:02<00:03, 285.12it/s, now=None]\u001b[A\n",
      "chunk:  48%|████▊     | 816/1684 [00:03<00:02, 315.14it/s, now=None]\u001b[A\n",
      "chunk:  51%|█████▏    | 867/1684 [00:03<00:02, 319.98it/s, now=None]\u001b[A\n",
      "chunk:  55%|█████▍    | 918/1684 [00:03<00:02, 324.72it/s, now=None]\u001b[A\n",
      "chunk:  58%|█████▊    | 969/1684 [00:03<00:02, 271.84it/s, now=None]\u001b[A\n",
      "chunk:  61%|██████    | 1020/1684 [00:03<00:02, 297.23it/s, now=None]\u001b[A\n",
      "chunk:  64%|██████▎   | 1071/1684 [00:03<00:01, 314.37it/s, now=None]\u001b[A\n",
      "chunk:  67%|██████▋   | 1122/1684 [00:04<00:01, 307.37it/s, now=None]\u001b[A\n",
      "chunk:  70%|██████▉   | 1173/1684 [00:04<00:01, 310.63it/s, now=None]\u001b[A\n",
      "chunk:  73%|███████▎  | 1224/1684 [00:04<00:01, 348.22it/s, now=None]\u001b[A\n",
      "chunk:  76%|███████▌  | 1275/1684 [00:04<00:01, 356.95it/s, now=None]\u001b[A\n",
      "chunk:  79%|███████▊  | 1326/1684 [00:04<00:01, 334.29it/s, now=None]\u001b[A\n",
      "chunk:  82%|████████▏ | 1377/1684 [00:04<00:00, 339.52it/s, now=None]\u001b[A\n",
      "chunk:  85%|████████▍ | 1428/1684 [00:04<00:00, 303.12it/s, now=None]\u001b[A\n",
      "chunk:  88%|████████▊ | 1479/1684 [00:05<00:00, 325.78it/s, now=None]\u001b[A\n",
      "chunk:  91%|█████████ | 1530/1684 [00:05<00:00, 354.06it/s, now=None]\u001b[A\n",
      "chunk:  94%|█████████▍| 1581/1684 [00:05<00:00, 386.24it/s, now=None]\u001b[A\n",
      "chunk:  97%|█████████▋| 1632/1684 [00:05<00:00, 369.52it/s, now=None]\u001b[A\n",
      "chunk:   1%|▏         | 29/2121 [7:11:06<518:18:54, 891.94s/it, now=None]"
     ]
    },
    {
     "name": "stdout",
     "output_type": "stream",
     "text": [
      "MoviePy - Done.\n"
     ]
    },
    {
     "name": "stderr",
     "output_type": "stream",
     "text": [
      "chunk:   1%|▏         | 29/2121 [7:11:07<518:20:04, 891.97s/it, now=None]\n",
      "chunk:   0%|          | 0/3436 [00:00<?, ?it/s, now=None]\u001b[A\n",
      "chunk:   3%|▎         | 102/3436 [00:00<00:03, 910.06it/s, now=None]\u001b[A"
     ]
    },
    {
     "name": "stdout",
     "output_type": "stream",
     "text": [
      "MoviePy - Writing audio in /home/jupyter/datasets/amigos/audio/Exp1_P27_audio/P27_31_audio.wav\n"
     ]
    },
    {
     "name": "stderr",
     "output_type": "stream",
     "text": [
      "\n",
      "chunk:   4%|▍         | 153/3436 [00:00<00:10, 319.12it/s, now=None]\u001b[A\n",
      "chunk:   6%|▌         | 204/3436 [00:00<00:11, 278.46it/s, now=None]\u001b[A\n",
      "chunk:   7%|▋         | 255/3436 [00:00<00:11, 281.31it/s, now=None]\u001b[A\n",
      "chunk:   9%|▉         | 306/3436 [00:01<00:10, 300.96it/s, now=None]\u001b[A\n",
      "chunk:  10%|█         | 357/3436 [00:01<00:10, 306.80it/s, now=None]\u001b[A\n",
      "chunk:  12%|█▏        | 408/3436 [00:01<00:10, 277.63it/s, now=None]\u001b[A\n",
      "chunk:  13%|█▎        | 459/3436 [00:01<00:10, 272.55it/s, now=None]\u001b[A\n",
      "chunk:  15%|█▍        | 510/3436 [00:01<00:10, 269.67it/s, now=None]\u001b[A\n",
      "chunk:  16%|█▋        | 561/3436 [00:02<00:10, 281.51it/s, now=None]\u001b[A\n",
      "chunk:  18%|█▊        | 612/3436 [00:02<00:12, 224.64it/s, now=None]\u001b[A\n",
      "chunk:  19%|█▉        | 663/3436 [00:02<00:10, 269.43it/s, now=None]\u001b[A\n",
      "chunk:  21%|██        | 714/3436 [00:02<00:14, 192.14it/s, now=None]\u001b[A\n",
      "chunk:  22%|██▏       | 765/3436 [00:03<00:12, 220.39it/s, now=None]\u001b[A\n",
      "chunk:  24%|██▎       | 816/3436 [00:03<00:11, 229.49it/s, now=None]\u001b[A\n",
      "chunk:  25%|██▌       | 867/3436 [00:03<00:11, 232.58it/s, now=None]\u001b[A\n",
      "chunk:  27%|██▋       | 918/3436 [00:03<00:09, 255.99it/s, now=None]\u001b[A\n",
      "chunk:  28%|██▊       | 969/3436 [00:03<00:08, 300.13it/s, now=None]\u001b[A\n",
      "chunk:  30%|██▉       | 1020/3436 [00:03<00:07, 326.63it/s, now=None]\u001b[A\n",
      "chunk:  31%|███       | 1071/3436 [00:04<00:08, 275.38it/s, now=None]\u001b[A\n",
      "chunk:  33%|███▎      | 1122/3436 [00:04<00:10, 224.72it/s, now=None]\u001b[A\n",
      "chunk:  34%|███▍      | 1173/3436 [00:04<00:09, 250.98it/s, now=None]\u001b[A\n",
      "chunk:  36%|███▌      | 1224/3436 [00:04<00:08, 262.55it/s, now=None]\u001b[A\n",
      "chunk:  37%|███▋      | 1275/3436 [00:04<00:09, 239.93it/s, now=None]\u001b[A\n",
      "chunk:  39%|███▊      | 1326/3436 [00:05<00:08, 244.37it/s, now=None]\u001b[A\n",
      "chunk:  40%|████      | 1377/3436 [00:05<00:08, 231.19it/s, now=None]\u001b[A\n",
      "chunk:  43%|████▎     | 1479/3436 [00:05<00:07, 251.87it/s, now=None]\u001b[A\n",
      "chunk:  45%|████▍     | 1530/3436 [00:05<00:06, 276.11it/s, now=None]\u001b[A\n",
      "chunk:  46%|████▌     | 1581/3436 [00:06<00:06, 268.41it/s, now=None]\u001b[A\n",
      "chunk:  47%|████▋     | 1632/3436 [00:06<00:06, 266.35it/s, now=None]\u001b[A\n",
      "chunk:  49%|████▉     | 1683/3436 [00:06<00:08, 213.06it/s, now=None]\u001b[A\n",
      "chunk:  50%|█████     | 1734/3436 [00:06<00:08, 203.82it/s, now=None]\u001b[A\n",
      "chunk:  52%|█████▏    | 1785/3436 [00:07<00:08, 200.19it/s, now=None]\u001b[A\n",
      "chunk:  53%|█████▎    | 1836/3436 [00:07<00:07, 202.02it/s, now=None]\u001b[A\n",
      "chunk:  55%|█████▍    | 1887/3436 [00:07<00:06, 228.78it/s, now=None]\u001b[A\n",
      "chunk:  58%|█████▊    | 1989/3436 [00:07<00:05, 276.23it/s, now=None]\u001b[A\n",
      "chunk:  60%|██████    | 2078/3436 [00:07<00:03, 348.23it/s, now=None]\u001b[A\n",
      "chunk:  62%|██████▏   | 2128/3436 [00:08<00:03, 342.74it/s, now=None]\u001b[A\n",
      "chunk:  63%|██████▎   | 2173/3436 [00:08<00:03, 360.37it/s, now=None]\u001b[A\n",
      "chunk:  65%|██████▌   | 2244/3436 [00:08<00:02, 407.59it/s, now=None]\u001b[A\n",
      "chunk:  67%|██████▋   | 2295/3436 [00:08<00:02, 410.51it/s, now=None]\u001b[A\n",
      "chunk:  68%|██████▊   | 2346/3436 [00:08<00:02, 425.52it/s, now=None]\u001b[A\n",
      "chunk:  71%|███████   | 2448/3436 [00:08<00:02, 418.46it/s, now=None]\u001b[A\n",
      "chunk:  74%|███████▍  | 2551/3436 [00:08<00:01, 508.91it/s, now=None]\u001b[A\n",
      "chunk:  76%|███████▌  | 2613/3436 [00:08<00:01, 488.39it/s, now=None]\u001b[A\n",
      "chunk:  78%|███████▊  | 2670/3436 [00:09<00:01, 492.47it/s, now=None]\u001b[A\n",
      "chunk:  79%|███████▉  | 2725/3436 [00:09<00:01, 419.95it/s, now=None]\u001b[A\n",
      "chunk:  81%|████████  | 2773/3436 [00:09<00:02, 307.84it/s, now=None]\u001b[A\n",
      "chunk:  83%|████████▎ | 2856/3436 [00:09<00:01, 347.39it/s, now=None]\u001b[A\n",
      "chunk:  85%|████████▍ | 2907/3436 [00:09<00:01, 311.08it/s, now=None]\u001b[A\n",
      "chunk:  86%|████████▌ | 2958/3436 [00:10<00:01, 282.47it/s, now=None]\u001b[A\n",
      "chunk:  88%|████████▊ | 3009/3436 [00:10<00:01, 289.34it/s, now=None]\u001b[A\n",
      "chunk:  89%|████████▉ | 3060/3436 [00:10<00:01, 247.55it/s, now=None]\u001b[A\n",
      "chunk:  91%|█████████ | 3111/3436 [00:10<00:01, 268.86it/s, now=None]\u001b[A\n",
      "chunk:  92%|█████████▏| 3162/3436 [00:10<00:00, 277.10it/s, now=None]\u001b[A\n",
      "chunk:  94%|█████████▎| 3213/3436 [00:11<00:00, 305.63it/s, now=None]\u001b[A\n",
      "chunk:  95%|█████████▍| 3264/3436 [00:11<00:00, 287.65it/s, now=None]\u001b[A\n",
      "chunk:  96%|█████████▋| 3315/3436 [00:11<00:00, 315.89it/s, now=None]\u001b[A\n",
      "chunk:  98%|█████████▊| 3366/3436 [00:11<00:00, 288.42it/s, now=None]\u001b[A\n",
      "chunk:   1%|▏         | 29/2121 [7:11:18<518:34:04, 892.37s/it, now=None]"
     ]
    },
    {
     "name": "stdout",
     "output_type": "stream",
     "text": [
      "MoviePy - Done.\n"
     ]
    },
    {
     "name": "stderr",
     "output_type": "stream",
     "text": [
      "chunk:   1%|▏         | 29/2121 [7:11:19<518:35:13, 892.41s/it, now=None]\n",
      "chunk:   0%|          | 0/1462 [00:00<?, ?it/s, now=None]\u001b[A\n",
      "chunk:   7%|▋         | 102/1462 [00:00<00:01, 683.68it/s, now=None]\u001b[A"
     ]
    },
    {
     "name": "stdout",
     "output_type": "stream",
     "text": [
      "MoviePy - Writing audio in /home/jupyter/datasets/amigos/audio/Exp1_P27_audio/P27_34_audio.wav\n"
     ]
    },
    {
     "name": "stderr",
     "output_type": "stream",
     "text": [
      "\n",
      "chunk:  10%|█         | 153/1462 [00:00<00:02, 496.86it/s, now=None]\u001b[A\n",
      "chunk:  17%|█▋        | 255/1462 [00:00<00:02, 482.96it/s, now=None]\u001b[A\n",
      "chunk:  21%|██        | 306/1462 [00:00<00:02, 418.68it/s, now=None]\u001b[A\n",
      "chunk:  24%|██▍       | 357/1462 [00:00<00:02, 398.35it/s, now=None]\u001b[A\n",
      "chunk:  28%|██▊       | 408/1462 [00:00<00:02, 413.56it/s, now=None]\u001b[A\n",
      "chunk:  31%|███▏      | 459/1462 [00:01<00:02, 393.43it/s, now=None]\u001b[A\n",
      "chunk:  35%|███▍      | 510/1462 [00:01<00:02, 367.08it/s, now=None]\u001b[A\n",
      "chunk:  41%|████      | 600/1462 [00:01<00:01, 446.30it/s, now=None]\u001b[A\n",
      "chunk:  45%|████▍     | 652/1462 [00:01<00:02, 362.44it/s, now=None]\u001b[A\n",
      "chunk:  49%|████▉     | 714/1462 [00:01<00:02, 313.50it/s, now=None]\u001b[A\n",
      "chunk:  52%|█████▏    | 765/1462 [00:01<00:01, 354.46it/s, now=None]\u001b[A\n",
      "chunk:  56%|█████▌    | 816/1462 [00:02<00:02, 271.73it/s, now=None]\u001b[A\n",
      "chunk:  63%|██████▎   | 918/1462 [00:02<00:01, 337.68it/s, now=None]\u001b[A\n",
      "chunk:  66%|██████▋   | 969/1462 [00:02<00:01, 300.44it/s, now=None]\u001b[A\n",
      "chunk:  70%|██████▉   | 1020/1462 [00:02<00:01, 319.03it/s, now=None]\u001b[A\n",
      "chunk:  73%|███████▎  | 1071/1462 [00:02<00:01, 293.95it/s, now=None]\u001b[A\n",
      "chunk:  77%|███████▋  | 1122/1462 [00:03<00:01, 261.01it/s, now=None]\u001b[A\n",
      "chunk:  80%|████████  | 1173/1462 [00:03<00:00, 297.40it/s, now=None]\u001b[A\n",
      "chunk:  84%|████████▍ | 1225/1462 [00:03<00:00, 341.07it/s, now=None]\u001b[A\n",
      "chunk:  87%|████████▋ | 1275/1462 [00:03<00:00, 349.89it/s, now=None]\u001b[A\n",
      "chunk:  91%|█████████ | 1326/1462 [00:03<00:00, 322.14it/s, now=None]\u001b[A\n",
      "chunk:  94%|█████████▍| 1377/1462 [00:03<00:00, 286.55it/s, now=None]\u001b[A\n",
      "chunk:  98%|█████████▊| 1428/1462 [00:04<00:00, 259.72it/s, now=None]\u001b[A\n",
      "chunk:   1%|▏         | 29/2121 [7:11:23<518:40:16, 892.55s/it, now=None]"
     ]
    },
    {
     "name": "stdout",
     "output_type": "stream",
     "text": [
      "MoviePy - Done.\n"
     ]
    },
    {
     "name": "stderr",
     "output_type": "stream",
     "text": [
      "chunk:   1%|▏         | 29/2121 [7:11:24<518:41:10, 892.58s/it, now=None]\n",
      "chunk:   0%|          | 0/1513 [00:00<?, ?it/s, now=None]\u001b[A\n",
      "chunk:   9%|▉         | 137/1513 [00:00<00:01, 1368.31it/s, now=None]\u001b[A"
     ]
    },
    {
     "name": "stdout",
     "output_type": "stream",
     "text": [
      "MoviePy - Writing audio in /home/jupyter/datasets/amigos/audio/Exp1_P27_audio/P27_36_audio.wav\n"
     ]
    },
    {
     "name": "stderr",
     "output_type": "stream",
     "text": [
      "\n",
      "chunk:  12%|█▏        | 179/1513 [00:00<00:02, 541.99it/s, now=None] \u001b[A\n",
      "chunk:  14%|█▍        | 215/1513 [00:00<00:03, 392.28it/s, now=None]\u001b[A\n",
      "chunk:  17%|█▋        | 255/1513 [00:00<00:03, 333.08it/s, now=None]\u001b[A\n",
      "chunk:  20%|██        | 306/1513 [00:00<00:04, 282.87it/s, now=None]\u001b[A\n",
      "chunk:  24%|██▎       | 357/1513 [00:01<00:04, 264.90it/s, now=None]\u001b[A\n",
      "chunk:  30%|███       | 459/1513 [00:01<00:03, 290.20it/s, now=None]\u001b[A\n",
      "chunk:  34%|███▎      | 510/1513 [00:01<00:03, 328.55it/s, now=None]\u001b[A\n",
      "chunk:  37%|███▋      | 561/1513 [00:01<00:03, 308.71it/s, now=None]\u001b[A\n",
      "chunk:  40%|████      | 612/1513 [00:01<00:02, 314.44it/s, now=None]\u001b[A\n",
      "chunk:  47%|████▋     | 714/1513 [00:01<00:02, 371.58it/s, now=None]\u001b[A\n",
      "chunk:  51%|█████     | 765/1513 [00:02<00:02, 353.63it/s, now=None]\u001b[A\n",
      "chunk:  56%|█████▋    | 852/1513 [00:02<00:01, 430.21it/s, now=None]\u001b[A\n",
      "chunk:  60%|█████▉    | 906/1513 [00:02<00:01, 448.10it/s, now=None]\u001b[A\n",
      "chunk:  63%|██████▎   | 959/1513 [00:02<00:01, 421.60it/s, now=None]\u001b[A\n",
      "chunk:  67%|██████▋   | 1007/1513 [00:02<00:01, 412.15it/s, now=None]\u001b[A\n",
      "chunk:  70%|██████▉   | 1053/1513 [00:02<00:01, 402.97it/s, now=None]\u001b[A\n",
      "chunk:  73%|███████▎  | 1097/1513 [00:02<00:01, 323.55it/s, now=None]\u001b[A\n",
      "chunk:  75%|███████▍  | 1134/1513 [00:03<00:01, 283.10it/s, now=None]\u001b[A\n",
      "chunk:  81%|████████  | 1224/1513 [00:03<00:00, 326.84it/s, now=None]\u001b[A\n",
      "chunk:  84%|████████▍ | 1275/1513 [00:03<00:00, 321.30it/s, now=None]\u001b[A\n",
      "chunk:  88%|████████▊ | 1326/1513 [00:03<00:00, 282.77it/s, now=None]\u001b[A\n",
      "chunk:  91%|█████████ | 1377/1513 [00:03<00:00, 312.11it/s, now=None]\u001b[A\n",
      "chunk:  94%|█████████▍| 1428/1513 [00:03<00:00, 343.78it/s, now=None]\u001b[A\n",
      "chunk:  98%|█████████▊| 1479/1513 [00:04<00:00, 361.91it/s, now=None]\u001b[A\n",
      "chunk:   1%|▏         | 29/2121 [7:11:28<518:46:01, 892.72s/it, now=None]"
     ]
    },
    {
     "name": "stdout",
     "output_type": "stream",
     "text": [
      "MoviePy - Done.\n"
     ]
    },
    {
     "name": "stderr",
     "output_type": "stream",
     "text": [
      "chunk:   1%|▏         | 29/2121 [7:11:29<518:47:07, 892.75s/it, now=None]\n",
      "chunk:   0%|          | 0/2015 [00:00<?, ?it/s, now=None]\u001b[A"
     ]
    },
    {
     "name": "stdout",
     "output_type": "stream",
     "text": [
      "MoviePy - Writing audio in /home/jupyter/datasets/amigos/audio/Exp1_P27_audio/P27_4_audio.wav\n"
     ]
    },
    {
     "name": "stderr",
     "output_type": "stream",
     "text": [
      "\n",
      "chunk:   5%|▌         | 102/2015 [00:00<00:04, 422.49it/s, now=None]\u001b[A\n",
      "chunk:   8%|▊         | 153/2015 [00:00<00:05, 338.20it/s, now=None]\u001b[A\n",
      "chunk:  10%|█         | 204/2015 [00:00<00:07, 242.55it/s, now=None]\u001b[A\n",
      "chunk:  13%|█▎        | 255/2015 [00:01<00:09, 190.89it/s, now=None]\u001b[A\n",
      "chunk:  15%|█▌        | 306/2015 [00:01<00:08, 207.34it/s, now=None]\u001b[A\n",
      "chunk:  20%|█▉        | 395/2015 [00:01<00:06, 269.28it/s, now=None]\u001b[A\n",
      "chunk:  22%|██▏       | 435/2015 [00:01<00:06, 235.36it/s, now=None]\u001b[A\n",
      "chunk:  23%|██▎       | 468/2015 [00:01<00:07, 203.23it/s, now=None]\u001b[A\n",
      "chunk:  25%|██▌       | 510/2015 [00:02<00:06, 226.96it/s, now=None]\u001b[A\n",
      "chunk:  28%|██▊       | 561/2015 [00:02<00:06, 227.06it/s, now=None]\u001b[A\n",
      "chunk:  30%|███       | 612/2015 [00:02<00:06, 224.49it/s, now=None]\u001b[A\n",
      "chunk:  35%|███▌      | 714/2015 [00:02<00:04, 272.27it/s, now=None]\u001b[A\n",
      "chunk:  38%|███▊      | 765/2015 [00:02<00:04, 272.74it/s, now=None]\u001b[A\n",
      "chunk:  40%|████      | 816/2015 [00:03<00:04, 266.13it/s, now=None]\u001b[A\n",
      "chunk:  43%|████▎     | 867/2015 [00:03<00:04, 276.06it/s, now=None]\u001b[A\n",
      "chunk:  46%|████▌     | 918/2015 [00:03<00:04, 253.74it/s, now=None]\u001b[A\n",
      "chunk:  48%|████▊     | 969/2015 [00:03<00:04, 243.39it/s, now=None]\u001b[A\n",
      "chunk:  51%|█████     | 1020/2015 [00:04<00:04, 226.19it/s, now=None]\u001b[A\n",
      "chunk:  53%|█████▎    | 1071/2015 [00:04<00:03, 239.82it/s, now=None]\u001b[A\n",
      "chunk:  56%|█████▌    | 1122/2015 [00:04<00:03, 257.09it/s, now=None]\u001b[A\n",
      "chunk:  58%|█████▊    | 1173/2015 [00:04<00:03, 262.38it/s, now=None]\u001b[A\n",
      "chunk:  61%|██████    | 1224/2015 [00:04<00:02, 272.05it/s, now=None]\u001b[A\n",
      "chunk:  65%|██████▌   | 1317/2015 [00:04<00:02, 345.30it/s, now=None]\u001b[A\n",
      "chunk:  68%|██████▊   | 1365/2015 [00:04<00:01, 326.55it/s, now=None]\u001b[A\n",
      "chunk:  70%|██████▉   | 1407/2015 [00:05<00:01, 327.83it/s, now=None]\u001b[A\n",
      "chunk:  73%|███████▎  | 1475/2015 [00:05<00:01, 388.10it/s, now=None]\u001b[A\n",
      "chunk:  76%|███████▌  | 1523/2015 [00:05<00:01, 323.29it/s, now=None]\u001b[A\n",
      "chunk:  78%|███████▊  | 1564/2015 [00:05<00:01, 304.00it/s, now=None]\u001b[A\n",
      "chunk:  79%|███████▉  | 1601/2015 [00:05<00:01, 245.01it/s, now=None]\u001b[A\n",
      "chunk:  81%|████████  | 1632/2015 [00:05<00:01, 209.84it/s, now=None]\u001b[A\n",
      "chunk:  84%|████████▎ | 1683/2015 [00:06<00:01, 248.49it/s, now=None]\u001b[A\n",
      "chunk:  86%|████████▌ | 1734/2015 [00:06<00:00, 284.03it/s, now=None]\u001b[A\n",
      "chunk:  89%|████████▊ | 1785/2015 [00:06<00:00, 267.55it/s, now=None]\u001b[A\n",
      "chunk:  91%|█████████ | 1836/2015 [00:06<00:00, 273.41it/s, now=None]\u001b[A\n",
      "chunk:  94%|█████████▎| 1887/2015 [00:06<00:00, 259.81it/s, now=None]\u001b[A\n",
      "chunk:  96%|█████████▌| 1938/2015 [00:06<00:00, 297.90it/s, now=None]\u001b[A\n",
      "chunk:  99%|█████████▊| 1989/2015 [00:07<00:00, 323.60it/s, now=None]\u001b[A\n",
      "chunk:   1%|▏         | 29/2121 [7:11:36<518:55:39, 892.99s/it, now=None]"
     ]
    },
    {
     "name": "stdout",
     "output_type": "stream",
     "text": [
      "MoviePy - Done.\n"
     ]
    },
    {
     "name": "stderr",
     "output_type": "stream",
     "text": [
      "chunk:   1%|▏         | 29/2121 [7:11:37<518:56:44, 893.02s/it, now=None]\n",
      "chunk:   0%|          | 0/2481 [00:00<?, ?it/s, now=None]\u001b[A\n",
      "chunk:   4%|▍         | 102/2481 [00:00<00:02, 876.34it/s, now=None]\u001b[A"
     ]
    },
    {
     "name": "stdout",
     "output_type": "stream",
     "text": [
      "MoviePy - Writing audio in /home/jupyter/datasets/amigos/audio/Exp1_P27_audio/P27_5_audio.wav\n"
     ]
    },
    {
     "name": "stderr",
     "output_type": "stream",
     "text": [
      "\n",
      "chunk:   6%|▌         | 153/2481 [00:00<00:07, 295.85it/s, now=None]\u001b[A\n",
      "chunk:   8%|▊         | 204/2481 [00:00<00:08, 259.85it/s, now=None]\u001b[A\n",
      "chunk:  10%|█         | 255/2481 [00:01<00:09, 242.34it/s, now=None]\u001b[A\n",
      "chunk:  12%|█▏        | 306/2481 [00:01<00:08, 255.07it/s, now=None]\u001b[A\n",
      "chunk:  14%|█▍        | 357/2481 [00:01<00:07, 285.25it/s, now=None]\u001b[A\n",
      "chunk:  16%|█▋        | 408/2481 [00:01<00:06, 321.17it/s, now=None]\u001b[A\n",
      "chunk:  21%|██        | 510/2481 [00:01<00:05, 347.14it/s, now=None]\u001b[A\n",
      "chunk:  23%|██▎       | 561/2481 [00:01<00:06, 312.20it/s, now=None]\u001b[A\n",
      "chunk:  25%|██▍       | 612/2481 [00:02<00:08, 228.83it/s, now=None]\u001b[A\n",
      "chunk:  27%|██▋       | 663/2481 [00:02<00:08, 214.09it/s, now=None]\u001b[A\n",
      "chunk:  29%|██▉       | 714/2481 [00:02<00:09, 192.53it/s, now=None]\u001b[A\n",
      "chunk:  31%|███       | 765/2481 [00:03<00:08, 199.89it/s, now=None]\u001b[A\n",
      "chunk:  33%|███▎      | 816/2481 [00:03<00:07, 215.45it/s, now=None]\u001b[A\n",
      "chunk:  35%|███▍      | 867/2481 [00:03<00:07, 225.59it/s, now=None]\u001b[A\n",
      "chunk:  37%|███▋      | 918/2481 [00:03<00:06, 240.57it/s, now=None]\u001b[A\n",
      "chunk:  39%|███▉      | 969/2481 [00:03<00:05, 274.40it/s, now=None]\u001b[A\n",
      "chunk:  41%|████      | 1020/2481 [00:04<00:07, 196.88it/s, now=None]\u001b[A\n",
      "chunk:  43%|████▎     | 1071/2481 [00:04<00:06, 213.96it/s, now=None]\u001b[A\n",
      "chunk:  45%|████▌     | 1122/2481 [00:04<00:06, 203.98it/s, now=None]\u001b[A\n",
      "chunk:  47%|████▋     | 1173/2481 [00:04<00:06, 216.27it/s, now=None]\u001b[A\n",
      "chunk:  51%|█████▏    | 1275/2481 [00:05<00:04, 252.20it/s, now=None]\u001b[A\n",
      "chunk:  53%|█████▎    | 1326/2481 [00:05<00:04, 261.75it/s, now=None]\u001b[A\n",
      "chunk:  56%|█████▌    | 1377/2481 [00:05<00:05, 216.37it/s, now=None]\u001b[A\n",
      "chunk:  58%|█████▊    | 1428/2481 [00:05<00:05, 202.06it/s, now=None]\u001b[A\n",
      "chunk:  60%|█████▉    | 1479/2481 [00:06<00:04, 211.05it/s, now=None]\u001b[A\n",
      "chunk:  62%|██████▏   | 1530/2481 [00:06<00:03, 246.51it/s, now=None]\u001b[A\n",
      "chunk:  64%|██████▎   | 1581/2481 [00:06<00:04, 210.45it/s, now=None]\u001b[A\n",
      "chunk:  66%|██████▌   | 1632/2481 [00:06<00:03, 219.11it/s, now=None]\u001b[A\n",
      "chunk:  68%|██████▊   | 1683/2481 [00:07<00:03, 205.77it/s, now=None]\u001b[A\n",
      "chunk:  70%|██████▉   | 1734/2481 [00:07<00:03, 231.52it/s, now=None]\u001b[A\n",
      "chunk:  72%|███████▏  | 1785/2481 [00:07<00:02, 266.95it/s, now=None]\u001b[A\n",
      "chunk:  74%|███████▍  | 1836/2481 [00:07<00:02, 283.98it/s, now=None]\u001b[A\n",
      "chunk:  76%|███████▌  | 1887/2481 [00:07<00:02, 282.86it/s, now=None]\u001b[A\n",
      "chunk:  78%|███████▊  | 1938/2481 [00:07<00:02, 249.15it/s, now=None]\u001b[A\n",
      "chunk:  80%|████████  | 1989/2481 [00:08<00:01, 263.40it/s, now=None]\u001b[A\n",
      "chunk:  82%|████████▏ | 2040/2481 [00:08<00:01, 296.18it/s, now=None]\u001b[A\n",
      "chunk:  86%|████████▋ | 2142/2481 [00:08<00:01, 324.49it/s, now=None]\u001b[A\n",
      "chunk:  88%|████████▊ | 2193/2481 [00:08<00:00, 308.89it/s, now=None]\u001b[A\n",
      "chunk:  90%|█████████ | 2244/2481 [00:08<00:00, 291.02it/s, now=None]\u001b[A\n",
      "chunk:  93%|█████████▎| 2295/2481 [00:09<00:00, 273.25it/s, now=None]\u001b[A\n",
      "chunk:  95%|█████████▍| 2346/2481 [00:09<00:00, 280.27it/s, now=None]\u001b[A\n",
      "chunk:  97%|█████████▋| 2397/2481 [00:09<00:00, 302.13it/s, now=None]\u001b[A\n",
      "chunk:   1%|▏         | 29/2121 [7:11:47<519:08:11, 893.35s/it, now=None]"
     ]
    },
    {
     "name": "stdout",
     "output_type": "stream",
     "text": [
      "MoviePy - Done.\n"
     ]
    },
    {
     "name": "stderr",
     "output_type": "stream",
     "text": [
      "chunk:   1%|▏         | 29/2121 [7:11:48<519:09:17, 893.38s/it, now=None]\n",
      "chunk:   0%|          | 0/1428 [00:00<?, ?it/s, now=None]\u001b[A\n",
      "chunk:   9%|▊         | 123/1428 [00:00<00:01, 1227.62it/s, now=None]\u001b[A"
     ]
    },
    {
     "name": "stdout",
     "output_type": "stream",
     "text": [
      "MoviePy - Writing audio in /home/jupyter/datasets/amigos/audio/Exp1_P27_audio/P27_58_audio.wav\n"
     ]
    },
    {
     "name": "stderr",
     "output_type": "stream",
     "text": [
      "\n",
      "chunk:  11%|█         | 160/1428 [00:00<00:02, 629.17it/s, now=None] \u001b[A\n",
      "chunk:  14%|█▍        | 204/1428 [00:00<00:02, 498.41it/s, now=None]\u001b[A\n",
      "chunk:  18%|█▊        | 255/1428 [00:00<00:03, 371.67it/s, now=None]\u001b[A\n",
      "chunk:  21%|██▏       | 306/1428 [00:00<00:03, 340.05it/s, now=None]\u001b[A\n",
      "chunk:  25%|██▌       | 357/1428 [00:01<00:03, 286.18it/s, now=None]\u001b[A\n",
      "chunk:  29%|██▊       | 408/1428 [00:01<00:03, 277.64it/s, now=None]\u001b[A\n",
      "chunk:  32%|███▏      | 459/1428 [00:01<00:03, 275.30it/s, now=None]\u001b[A\n",
      "chunk:  36%|███▌      | 510/1428 [00:01<00:03, 248.04it/s, now=None]\u001b[A\n",
      "chunk:  39%|███▉      | 561/1428 [00:01<00:03, 275.67it/s, now=None]\u001b[A\n",
      "chunk:  43%|████▎     | 612/1428 [00:01<00:02, 283.27it/s, now=None]\u001b[A\n",
      "chunk:  46%|████▋     | 663/1428 [00:02<00:02, 326.01it/s, now=None]\u001b[A\n",
      "chunk:  50%|█████     | 714/1428 [00:02<00:02, 324.62it/s, now=None]\u001b[A\n",
      "chunk:  54%|█████▎    | 765/1428 [00:02<00:02, 304.31it/s, now=None]\u001b[A\n",
      "chunk:  57%|█████▋    | 816/1428 [00:02<00:02, 290.56it/s, now=None]\u001b[A\n",
      "chunk:  61%|██████    | 867/1428 [00:02<00:02, 270.12it/s, now=None]\u001b[A\n",
      "chunk:  64%|██████▍   | 918/1428 [00:03<00:02, 229.15it/s, now=None]\u001b[A\n",
      "chunk:  68%|██████▊   | 969/1428 [00:03<00:01, 242.96it/s, now=None]\u001b[A\n",
      "chunk:  71%|███████▏  | 1020/1428 [00:03<00:02, 177.78it/s, now=None]\u001b[A\n",
      "chunk:  75%|███████▌  | 1071/1428 [00:04<00:01, 179.45it/s, now=None]\u001b[A\n",
      "chunk:  79%|███████▊  | 1122/1428 [00:04<00:01, 213.36it/s, now=None]\u001b[A\n",
      "chunk:  82%|████████▏ | 1173/1428 [00:04<00:01, 235.65it/s, now=None]\u001b[A\n",
      "chunk:  86%|████████▌ | 1224/1428 [00:04<00:00, 243.80it/s, now=None]\u001b[A\n",
      "chunk:  89%|████████▉ | 1275/1428 [00:04<00:00, 264.72it/s, now=None]\u001b[A\n",
      "chunk:  93%|█████████▎| 1326/1428 [00:04<00:00, 280.96it/s, now=None]\u001b[A\n",
      "chunk:  96%|█████████▋| 1377/1428 [00:05<00:00, 287.17it/s, now=None]\u001b[A\n",
      "chunk:   1%|▏         | 29/2121 [7:11:53<519:15:20, 893.56s/it, now=None]"
     ]
    },
    {
     "name": "stdout",
     "output_type": "stream",
     "text": [
      "MoviePy - Done.\n"
     ]
    },
    {
     "name": "stderr",
     "output_type": "stream",
     "text": [
      "chunk:   1%|▏         | 29/2121 [7:11:54<519:16:22, 893.59s/it, now=None]\n",
      "chunk:   0%|          | 0/2261 [00:00<?, ?it/s, now=None]\u001b[A\n",
      "chunk:   5%|▍         | 102/2261 [00:00<00:02, 831.55it/s, now=None]\u001b[A"
     ]
    },
    {
     "name": "stdout",
     "output_type": "stream",
     "text": [
      "MoviePy - Writing audio in /home/jupyter/datasets/amigos/audio/Exp1_P27_audio/P27_80_audio.wav\n"
     ]
    },
    {
     "name": "stderr",
     "output_type": "stream",
     "text": [
      "\n",
      "chunk:   7%|▋         | 153/2261 [00:00<00:05, 370.44it/s, now=None]\u001b[A\n",
      "chunk:   9%|▉         | 204/2261 [00:00<00:06, 306.68it/s, now=None]\u001b[A\n",
      "chunk:  11%|█▏        | 255/2261 [00:00<00:07, 276.94it/s, now=None]\u001b[A\n",
      "chunk:  14%|█▎        | 306/2261 [00:01<00:07, 265.14it/s, now=None]\u001b[A\n",
      "chunk:  16%|█▌        | 357/2261 [00:01<00:07, 246.35it/s, now=None]\u001b[A\n",
      "chunk:  18%|█▊        | 408/2261 [00:01<00:07, 249.28it/s, now=None]\u001b[A\n",
      "chunk:  20%|██        | 459/2261 [00:01<00:08, 208.51it/s, now=None]\u001b[A\n",
      "chunk:  23%|██▎       | 510/2261 [00:02<00:07, 248.17it/s, now=None]\u001b[A\n",
      "chunk:  25%|██▍       | 561/2261 [00:02<00:05, 283.68it/s, now=None]\u001b[A\n",
      "chunk:  29%|██▊       | 647/2261 [00:02<00:04, 354.97it/s, now=None]\u001b[A\n",
      "chunk:  31%|███       | 696/2261 [00:02<00:05, 308.27it/s, now=None]\u001b[A\n",
      "chunk:  33%|███▎      | 737/2261 [00:02<00:05, 293.18it/s, now=None]\u001b[A\n",
      "chunk:  34%|███▍      | 774/2261 [00:03<00:09, 156.49it/s, now=None]\u001b[A\n",
      "chunk:  36%|███▌      | 816/2261 [00:03<00:10, 137.21it/s, now=None]\u001b[A\n",
      "chunk:  38%|███▊      | 867/2261 [00:03<00:08, 156.57it/s, now=None]\u001b[A\n",
      "chunk:  41%|████      | 918/2261 [00:03<00:06, 195.29it/s, now=None]\u001b[A\n",
      "chunk:  43%|████▎     | 969/2261 [00:04<00:06, 209.37it/s, now=None]\u001b[A\n",
      "chunk:  45%|████▌     | 1020/2261 [00:04<00:05, 233.42it/s, now=None]\u001b[A\n",
      "chunk:  49%|████▊     | 1099/2261 [00:04<00:03, 295.97it/s, now=None]\u001b[A\n",
      "chunk:  51%|█████     | 1144/2261 [00:04<00:03, 292.86it/s, now=None]\u001b[A\n",
      "chunk:  52%|█████▏    | 1184/2261 [00:04<00:03, 275.54it/s, now=None]\u001b[A\n",
      "chunk:  56%|█████▋    | 1275/2261 [00:04<00:03, 302.81it/s, now=None]\u001b[A\n",
      "chunk:  59%|█████▊    | 1326/2261 [00:04<00:02, 332.49it/s, now=None]\u001b[A\n",
      "chunk:  61%|██████    | 1377/2261 [00:05<00:02, 305.01it/s, now=None]\u001b[A\n",
      "chunk:  63%|██████▎   | 1428/2261 [00:05<00:02, 344.05it/s, now=None]\u001b[A\n",
      "chunk:  65%|██████▌   | 1479/2261 [00:05<00:02, 316.98it/s, now=None]\u001b[A\n",
      "chunk:  68%|██████▊   | 1530/2261 [00:05<00:02, 291.35it/s, now=None]\u001b[A\n",
      "chunk:  70%|██████▉   | 1581/2261 [00:05<00:02, 269.23it/s, now=None]\u001b[A\n",
      "chunk:  72%|███████▏  | 1632/2261 [00:05<00:02, 311.91it/s, now=None]\u001b[A\n",
      "chunk:  74%|███████▍  | 1683/2261 [00:06<00:01, 299.07it/s, now=None]\u001b[A\n",
      "chunk:  77%|███████▋  | 1734/2261 [00:06<00:01, 280.29it/s, now=None]\u001b[A\n",
      "chunk:  79%|███████▉  | 1785/2261 [00:06<00:01, 293.28it/s, now=None]\u001b[A\n",
      "chunk:  81%|████████  | 1836/2261 [00:06<00:01, 247.05it/s, now=None]\u001b[A\n",
      "chunk:  83%|████████▎ | 1887/2261 [00:07<00:01, 232.78it/s, now=None]\u001b[A\n",
      "chunk:  86%|████████▌ | 1938/2261 [00:07<00:01, 205.33it/s, now=None]\u001b[A\n",
      "chunk:  88%|████████▊ | 1989/2261 [00:07<00:01, 198.94it/s, now=None]\u001b[A\n",
      "chunk:  90%|█████████ | 2040/2261 [00:07<00:00, 233.24it/s, now=None]\u001b[A\n",
      "chunk:  92%|█████████▏| 2091/2261 [00:07<00:00, 250.61it/s, now=None]\u001b[A\n",
      "chunk:  95%|█████████▍| 2142/2261 [00:08<00:00, 250.31it/s, now=None]\u001b[A\n",
      "chunk:  97%|█████████▋| 2193/2261 [00:08<00:00, 210.02it/s, now=None]\u001b[A\n",
      "chunk:  99%|█████████▉| 2244/2261 [00:08<00:00, 250.41it/s, now=None]\u001b[A\n",
      "chunk:   1%|▏         | 29/2121 [7:12:02<519:26:44, 893.88s/it, now=None]"
     ]
    },
    {
     "name": "stdout",
     "output_type": "stream",
     "text": [
      "MoviePy - Done.\n"
     ]
    },
    {
     "name": "stderr",
     "output_type": "stream",
     "text": [
      "chunk:   1%|▏         | 29/2121 [7:12:03<519:27:45, 893.91s/it, now=None]\n",
      "chunk:   0%|          | 0/1677 [00:00<?, ?it/s, now=None]\u001b[A"
     ]
    },
    {
     "name": "stdout",
     "output_type": "stream",
     "text": [
      "MoviePy - Writing audio in /home/jupyter/datasets/amigos/audio/Exp1_P27_audio/P27_9_audio.wav\n"
     ]
    },
    {
     "name": "stderr",
     "output_type": "stream",
     "text": [
      "\n",
      "chunk:   6%|▌         | 102/1677 [00:00<00:03, 415.62it/s, now=None]\u001b[A\n",
      "chunk:   9%|▉         | 153/1677 [00:00<00:04, 322.86it/s, now=None]\u001b[A\n",
      "chunk:  12%|█▏        | 204/1677 [00:00<00:05, 288.14it/s, now=None]\u001b[A\n",
      "chunk:  15%|█▌        | 255/1677 [00:00<00:04, 285.78it/s, now=None]\u001b[A\n",
      "chunk:  18%|█▊        | 306/1677 [00:01<00:04, 280.88it/s, now=None]\u001b[A\n",
      "chunk:  21%|██▏       | 357/1677 [00:01<00:04, 311.63it/s, now=None]\u001b[A\n",
      "chunk:  24%|██▍       | 408/1677 [00:01<00:04, 283.54it/s, now=None]\u001b[A\n",
      "chunk:  27%|██▋       | 459/1677 [00:01<00:04, 260.08it/s, now=None]\u001b[A\n",
      "chunk:  30%|███       | 510/1677 [00:01<00:04, 257.02it/s, now=None]\u001b[A\n",
      "chunk:  33%|███▎      | 561/1677 [00:02<00:05, 209.04it/s, now=None]\u001b[A\n",
      "chunk:  36%|███▋      | 612/1677 [00:02<00:04, 247.16it/s, now=None]\u001b[A\n",
      "chunk:  40%|███▉      | 663/1677 [00:02<00:03, 281.11it/s, now=None]\u001b[A\n",
      "chunk:  43%|████▎     | 714/1677 [00:02<00:03, 299.91it/s, now=None]\u001b[A\n",
      "chunk:  49%|████▊     | 816/1677 [00:02<00:02, 353.04it/s, now=None]\u001b[A\n",
      "chunk:  52%|█████▏    | 867/1677 [00:02<00:02, 342.49it/s, now=None]\u001b[A\n",
      "chunk:  55%|█████▍    | 918/1677 [00:03<00:02, 376.78it/s, now=None]\u001b[A\n",
      "chunk:  58%|█████▊    | 969/1677 [00:03<00:01, 370.80it/s, now=None]\u001b[A\n",
      "chunk:  61%|██████    | 1020/1677 [00:03<00:01, 396.74it/s, now=None]\u001b[A\n",
      "chunk:  64%|██████▍   | 1071/1677 [00:03<00:01, 412.39it/s, now=None]\u001b[A\n",
      "chunk:  67%|██████▋   | 1122/1677 [00:03<00:01, 373.08it/s, now=None]\u001b[A\n",
      "chunk:  73%|███████▎  | 1224/1677 [00:03<00:01, 403.37it/s, now=None]\u001b[A\n",
      "chunk:  76%|███████▌  | 1275/1677 [00:03<00:01, 386.76it/s, now=None]\u001b[A\n",
      "chunk:  79%|███████▉  | 1326/1677 [00:04<00:00, 353.74it/s, now=None]\u001b[A\n",
      "chunk:  82%|████████▏ | 1377/1677 [00:04<00:00, 315.86it/s, now=None]\u001b[A\n",
      "chunk:  85%|████████▌ | 1428/1677 [00:04<00:00, 315.79it/s, now=None]\u001b[A\n",
      "chunk:  88%|████████▊ | 1479/1677 [00:04<00:00, 292.86it/s, now=None]\u001b[A\n",
      "chunk:  91%|█████████ | 1530/1677 [00:04<00:00, 310.31it/s, now=None]\u001b[A\n",
      "chunk:  94%|█████████▍| 1581/1677 [00:04<00:00, 330.45it/s, now=None]\u001b[A\n",
      "chunk:  97%|█████████▋| 1632/1677 [00:05<00:00, 335.95it/s, now=None]\u001b[A\n",
      "chunk:   1%|▏         | 29/2121 [7:12:08<519:34:01, 894.09s/it, now=None]"
     ]
    },
    {
     "name": "stdout",
     "output_type": "stream",
     "text": [
      "MoviePy - Done.\n"
     ]
    },
    {
     "name": "stderr",
     "output_type": "stream",
     "text": [
      "chunk:   1%|▏         | 29/2121 [7:12:09<519:35:12, 894.13s/it, now=None]\n",
      "chunk:   0%|          | 0/2129 [00:00<?, ?it/s, now=None]\u001b[A\n",
      "chunk:   5%|▍         | 102/2129 [00:00<00:03, 579.28it/s, now=None]\u001b[A"
     ]
    },
    {
     "name": "stdout",
     "output_type": "stream",
     "text": [
      "MoviePy - Writing audio in /home/jupyter/datasets/amigos/audio/Exp1_P28_audio/P28_10_audio.wav\n"
     ]
    },
    {
     "name": "stderr",
     "output_type": "stream",
     "text": [
      "\n",
      "chunk:   7%|▋         | 153/2129 [00:00<00:04, 419.28it/s, now=None]\u001b[A\n",
      "chunk:  10%|▉         | 204/2129 [00:00<00:04, 403.19it/s, now=None]\u001b[A\n",
      "chunk:  12%|█▏        | 255/2129 [00:00<00:04, 414.55it/s, now=None]\u001b[A\n",
      "chunk:  14%|█▍        | 306/2129 [00:00<00:04, 402.43it/s, now=None]\u001b[A\n",
      "chunk:  17%|█▋        | 357/2129 [00:00<00:05, 349.65it/s, now=None]\u001b[A\n",
      "chunk:  19%|█▉        | 408/2129 [00:01<00:04, 373.18it/s, now=None]\u001b[A\n",
      "chunk:  22%|██▏       | 459/2129 [00:01<00:05, 323.99it/s, now=None]\u001b[A\n",
      "chunk:  24%|██▍       | 510/2129 [00:01<00:04, 349.95it/s, now=None]\u001b[A\n",
      "chunk:  26%|██▋       | 561/2129 [00:01<00:05, 311.94it/s, now=None]\u001b[A\n",
      "chunk:  29%|██▊       | 612/2129 [00:01<00:04, 351.08it/s, now=None]\u001b[A\n",
      "chunk:  31%|███       | 663/2129 [00:01<00:03, 371.54it/s, now=None]\u001b[A\n",
      "chunk:  34%|███▎      | 714/2129 [00:02<00:04, 326.28it/s, now=None]\u001b[A\n",
      "chunk:  36%|███▌      | 765/2129 [00:02<00:04, 334.57it/s, now=None]\u001b[A\n",
      "chunk:  38%|███▊      | 816/2129 [00:02<00:04, 277.19it/s, now=None]\u001b[A\n",
      "chunk:  41%|████      | 867/2129 [00:02<00:04, 269.69it/s, now=None]\u001b[A\n",
      "chunk:  43%|████▎     | 918/2129 [00:02<00:04, 247.02it/s, now=None]\u001b[A\n",
      "chunk:  46%|████▌     | 969/2129 [00:03<00:04, 272.64it/s, now=None]\u001b[A\n",
      "chunk:  48%|████▊     | 1020/2129 [00:03<00:03, 291.72it/s, now=None]\u001b[A\n",
      "chunk:  50%|█████     | 1071/2129 [00:03<00:03, 316.69it/s, now=None]\u001b[A\n",
      "chunk:  53%|█████▎    | 1122/2129 [00:03<00:03, 309.78it/s, now=None]\u001b[A\n",
      "chunk:  55%|█████▌    | 1173/2129 [00:03<00:03, 307.76it/s, now=None]\u001b[A\n",
      "chunk:  57%|█████▋    | 1224/2129 [00:03<00:02, 348.21it/s, now=None]\u001b[A\n",
      "chunk:  60%|█████▉    | 1275/2129 [00:03<00:02, 325.54it/s, now=None]\u001b[A\n",
      "chunk:  62%|██████▏   | 1326/2129 [00:04<00:02, 313.62it/s, now=None]\u001b[A\n",
      "chunk:  65%|██████▍   | 1377/2129 [00:04<00:02, 294.65it/s, now=None]\u001b[A\n",
      "chunk:  67%|██████▋   | 1428/2129 [00:04<00:02, 313.68it/s, now=None]\u001b[A\n",
      "chunk:  69%|██████▉   | 1479/2129 [00:04<00:02, 289.07it/s, now=None]\u001b[A\n",
      "chunk:  72%|███████▏  | 1530/2129 [00:04<00:02, 259.85it/s, now=None]\u001b[A\n",
      "chunk:  74%|███████▍  | 1581/2129 [00:05<00:01, 287.98it/s, now=None]\u001b[A\n",
      "chunk:  77%|███████▋  | 1632/2129 [00:05<00:02, 238.42it/s, now=None]\u001b[A\n",
      "chunk:  79%|███████▉  | 1683/2129 [00:05<00:02, 205.18it/s, now=None]\u001b[A\n",
      "chunk:  81%|████████▏ | 1734/2129 [00:05<00:01, 225.22it/s, now=None]\u001b[A\n",
      "chunk:  84%|████████▍ | 1785/2129 [00:05<00:01, 237.14it/s, now=None]\u001b[A\n",
      "chunk:  86%|████████▌ | 1836/2129 [00:06<00:01, 242.08it/s, now=None]\u001b[A\n",
      "chunk:  91%|█████████ | 1938/2129 [00:06<00:00, 272.90it/s, now=None]\u001b[A\n",
      "chunk:  94%|█████████▍| 2004/2129 [00:06<00:00, 331.11it/s, now=None]\u001b[A\n",
      "chunk:  96%|█████████▌| 2045/2129 [00:06<00:00, 227.98it/s, now=None]\u001b[A\n",
      "chunk:  98%|█████████▊| 2091/2129 [00:07<00:00, 239.55it/s, now=None]\u001b[A\n",
      "chunk:   1%|▏         | 29/2121 [7:12:16<519:43:42, 894.37s/it, now=None]"
     ]
    },
    {
     "name": "stdout",
     "output_type": "stream",
     "text": [
      "MoviePy - Done.\n"
     ]
    },
    {
     "name": "stderr",
     "output_type": "stream",
     "text": [
      "chunk:   1%|▏         | 29/2121 [7:12:17<519:44:36, 894.40s/it, now=None]\n",
      "chunk:   0%|          | 0/1269 [00:00<?, ?it/s, now=None]\u001b[A\n",
      "chunk:   8%|▊         | 102/1269 [00:00<00:01, 684.90it/s, now=None]\u001b[A"
     ]
    },
    {
     "name": "stdout",
     "output_type": "stream",
     "text": [
      "MoviePy - Writing audio in /home/jupyter/datasets/amigos/audio/Exp1_P28_audio/P28_13_audio.wav\n"
     ]
    },
    {
     "name": "stderr",
     "output_type": "stream",
     "text": [
      "\n",
      "chunk:  12%|█▏        | 153/1269 [00:00<00:03, 319.34it/s, now=None]\u001b[A\n",
      "chunk:  16%|█▌        | 204/1269 [00:00<00:03, 295.98it/s, now=None]\u001b[A\n",
      "chunk:  20%|██        | 255/1269 [00:00<00:03, 300.61it/s, now=None]\u001b[A\n",
      "chunk:  24%|██▍       | 306/1269 [00:00<00:02, 341.47it/s, now=None]\u001b[A\n",
      "chunk:  28%|██▊       | 357/1269 [00:01<00:02, 339.34it/s, now=None]\u001b[A\n",
      "chunk:  32%|███▏      | 408/1269 [00:01<00:02, 349.21it/s, now=None]\u001b[A\n",
      "chunk:  36%|███▌      | 459/1269 [00:01<00:02, 330.87it/s, now=None]\u001b[A\n",
      "chunk:  40%|████      | 510/1269 [00:01<00:02, 270.93it/s, now=None]\u001b[A\n",
      "chunk:  44%|████▍     | 561/1269 [00:01<00:02, 272.09it/s, now=None]\u001b[A\n",
      "chunk:  48%|████▊     | 612/1269 [00:02<00:02, 280.30it/s, now=None]\u001b[A\n",
      "chunk:  52%|█████▏    | 663/1269 [00:02<00:01, 320.38it/s, now=None]\u001b[A\n",
      "chunk:  56%|█████▋    | 714/1269 [00:02<00:02, 275.30it/s, now=None]\u001b[A\n",
      "chunk:  60%|██████    | 765/1269 [00:02<00:01, 287.45it/s, now=None]\u001b[A\n",
      "chunk:  64%|██████▍   | 816/1269 [00:02<00:01, 287.34it/s, now=None]\u001b[A\n",
      "chunk:  68%|██████▊   | 867/1269 [00:02<00:01, 277.57it/s, now=None]\u001b[A\n",
      "chunk:  72%|███████▏  | 918/1269 [00:03<00:01, 285.90it/s, now=None]\u001b[A\n",
      "chunk:  76%|███████▋  | 969/1269 [00:03<00:01, 266.60it/s, now=None]\u001b[A\n",
      "chunk:  80%|████████  | 1020/1269 [00:03<00:00, 302.14it/s, now=None]\u001b[A\n",
      "chunk:  84%|████████▍ | 1071/1269 [00:03<00:00, 287.66it/s, now=None]\u001b[A\n",
      "chunk:  88%|████████▊ | 1122/1269 [00:03<00:00, 315.72it/s, now=None]\u001b[A\n",
      "chunk:  92%|█████████▏| 1173/1269 [00:03<00:00, 323.90it/s, now=None]\u001b[A\n",
      "chunk:  96%|█████████▋| 1224/1269 [00:04<00:00, 330.20it/s, now=None]\u001b[A\n",
      "chunk:   1%|▏         | 29/2121 [7:12:21<519:49:32, 894.54s/it, now=None]"
     ]
    },
    {
     "name": "stdout",
     "output_type": "stream",
     "text": [
      "MoviePy - Done.\n"
     ]
    },
    {
     "name": "stderr",
     "output_type": "stream",
     "text": [
      "chunk:   1%|▏         | 29/2121 [7:12:22<519:50:38, 894.57s/it, now=None]\n",
      "chunk:   0%|          | 0/2714 [00:00<?, ?it/s, now=None]\u001b[A\n",
      "chunk:   4%|▍         | 102/2714 [00:00<00:04, 624.58it/s, now=None]\u001b[A"
     ]
    },
    {
     "name": "stdout",
     "output_type": "stream",
     "text": [
      "MoviePy - Writing audio in /home/jupyter/datasets/amigos/audio/Exp1_P28_audio/P28_138_audio.wav\n"
     ]
    },
    {
     "name": "stderr",
     "output_type": "stream",
     "text": [
      "\n",
      "chunk:   6%|▌         | 153/2714 [00:00<00:05, 451.40it/s, now=None]\u001b[A\n",
      "chunk:   8%|▊         | 204/2714 [00:00<00:06, 360.88it/s, now=None]\u001b[A\n",
      "chunk:   9%|▉         | 255/2714 [00:00<00:08, 300.31it/s, now=None]\u001b[A\n",
      "chunk:  11%|█▏        | 306/2714 [00:01<00:08, 277.56it/s, now=None]\u001b[A\n",
      "chunk:  15%|█▌        | 408/2714 [00:01<00:07, 311.32it/s, now=None]\u001b[A\n",
      "chunk:  17%|█▋        | 459/2714 [00:01<00:06, 341.78it/s, now=None]\u001b[A\n",
      "chunk:  19%|█▉        | 510/2714 [00:01<00:06, 326.43it/s, now=None]\u001b[A\n",
      "chunk:  21%|██        | 561/2714 [00:01<00:07, 302.57it/s, now=None]\u001b[A\n",
      "chunk:  23%|██▎       | 612/2714 [00:02<00:08, 236.44it/s, now=None]\u001b[A\n",
      "chunk:  24%|██▍       | 663/2714 [00:02<00:08, 244.78it/s, now=None]\u001b[A\n",
      "chunk:  26%|██▋       | 714/2714 [00:02<00:08, 242.12it/s, now=None]\u001b[A\n",
      "chunk:  28%|██▊       | 765/2714 [00:02<00:06, 284.30it/s, now=None]\u001b[A\n",
      "chunk:  30%|███       | 816/2714 [00:02<00:05, 317.99it/s, now=None]\u001b[A\n",
      "chunk:  32%|███▏      | 867/2714 [00:03<00:07, 236.05it/s, now=None]\u001b[A\n",
      "chunk:  34%|███▍      | 918/2714 [00:03<00:07, 253.18it/s, now=None]\u001b[A\n",
      "chunk:  36%|███▌      | 969/2714 [00:03<00:06, 259.11it/s, now=None]\u001b[A\n",
      "chunk:  39%|███▉      | 1071/2714 [00:03<00:05, 294.78it/s, now=None]\u001b[A\n",
      "chunk:  41%|████▏     | 1122/2714 [00:03<00:04, 321.18it/s, now=None]\u001b[A\n",
      "chunk:  43%|████▎     | 1173/2714 [00:03<00:04, 359.00it/s, now=None]\u001b[A\n",
      "chunk:  45%|████▌     | 1224/2714 [00:04<00:04, 333.06it/s, now=None]\u001b[A\n",
      "chunk:  47%|████▋     | 1275/2714 [00:04<00:05, 240.98it/s, now=None]\u001b[A\n",
      "chunk:  49%|████▉     | 1326/2714 [00:04<00:06, 222.40it/s, now=None]\u001b[A\n",
      "chunk:  51%|█████     | 1377/2714 [00:04<00:06, 205.03it/s, now=None]\u001b[A\n",
      "chunk:  53%|█████▎    | 1428/2714 [00:05<00:05, 229.99it/s, now=None]\u001b[A\n",
      "chunk:  54%|█████▍    | 1479/2714 [00:05<00:04, 260.52it/s, now=None]\u001b[A\n",
      "chunk:  56%|█████▋    | 1530/2714 [00:05<00:04, 251.50it/s, now=None]\u001b[A\n",
      "chunk:  58%|█████▊    | 1581/2714 [00:05<00:04, 240.44it/s, now=None]\u001b[A\n",
      "chunk:  60%|██████    | 1632/2714 [00:05<00:04, 237.26it/s, now=None]\u001b[A\n",
      "chunk:  62%|██████▏   | 1683/2714 [00:06<00:04, 227.05it/s, now=None]\u001b[A\n",
      "chunk:  64%|██████▍   | 1734/2714 [00:06<00:03, 257.63it/s, now=None]\u001b[A\n",
      "chunk:  66%|██████▌   | 1785/2714 [00:06<00:03, 241.64it/s, now=None]\u001b[A\n",
      "chunk:  68%|██████▊   | 1836/2714 [00:06<00:03, 234.34it/s, now=None]\u001b[A\n",
      "chunk:  70%|██████▉   | 1887/2714 [00:07<00:03, 207.71it/s, now=None]\u001b[A\n",
      "chunk:  71%|███████▏  | 1938/2714 [00:07<00:03, 227.39it/s, now=None]\u001b[A\n",
      "chunk:  73%|███████▎  | 1989/2714 [00:07<00:02, 270.58it/s, now=None]\u001b[A\n",
      "chunk:  75%|███████▌  | 2040/2714 [00:07<00:02, 298.49it/s, now=None]\u001b[A\n",
      "chunk:  77%|███████▋  | 2091/2714 [00:07<00:02, 300.57it/s, now=None]\u001b[A\n",
      "chunk:  79%|███████▉  | 2142/2714 [00:07<00:01, 304.30it/s, now=None]\u001b[A\n",
      "chunk:  81%|████████  | 2193/2714 [00:08<00:01, 277.93it/s, now=None]\u001b[A\n",
      "chunk:  83%|████████▎ | 2244/2714 [00:08<00:01, 263.75it/s, now=None]\u001b[A\n",
      "chunk:  85%|████████▍ | 2295/2714 [00:08<00:01, 269.61it/s, now=None]\u001b[A\n",
      "chunk:  86%|████████▋ | 2346/2714 [00:08<00:01, 243.07it/s, now=None]\u001b[A\n",
      "chunk:  88%|████████▊ | 2397/2714 [00:09<00:01, 206.70it/s, now=None]\u001b[A\n",
      "chunk:  90%|█████████ | 2448/2714 [00:09<00:01, 193.21it/s, now=None]\u001b[A\n",
      "chunk:  92%|█████████▏| 2499/2714 [00:09<00:01, 201.80it/s, now=None]\u001b[A\n",
      "chunk:  94%|█████████▍| 2550/2714 [00:09<00:00, 223.98it/s, now=None]\u001b[A\n",
      "chunk:  96%|█████████▌| 2601/2714 [00:09<00:00, 264.62it/s, now=None]\u001b[A\n",
      "chunk:  98%|█████████▊| 2652/2714 [00:10<00:00, 261.65it/s, now=None]\u001b[A\n",
      "chunk:   1%|▏         | 29/2121 [7:12:32<520:02:47, 894.92s/it, now=None]"
     ]
    },
    {
     "name": "stdout",
     "output_type": "stream",
     "text": [
      "MoviePy - Done.\n"
     ]
    },
    {
     "name": "stderr",
     "output_type": "stream",
     "text": [
      "chunk:   1%|▏         | 29/2121 [7:12:33<520:03:38, 894.94s/it, now=None]\n",
      "chunk:   0%|          | 0/1846 [00:00<?, ?it/s, now=None]\u001b[A\n"
     ]
    },
    {
     "name": "stdout",
     "output_type": "stream",
     "text": [
      "MoviePy - Writing audio in /home/jupyter/datasets/amigos/audio/Exp1_P28_audio/P28_18_audio.wav\n"
     ]
    },
    {
     "name": "stderr",
     "output_type": "stream",
     "text": [
      "chunk:   8%|▊         | 153/1846 [00:00<00:02, 838.59it/s, now=None]\u001b[A\n",
      "chunk:  11%|█         | 204/1846 [00:00<00:02, 561.40it/s, now=None]\u001b[A\n",
      "chunk:  14%|█▍        | 255/1846 [00:00<00:03, 465.08it/s, now=None]\u001b[A\n",
      "chunk:  17%|█▋        | 306/1846 [00:00<00:03, 444.82it/s, now=None]\u001b[A\n",
      "chunk:  19%|█▉        | 357/1846 [00:00<00:04, 363.59it/s, now=None]\u001b[A\n",
      "chunk:  22%|██▏       | 408/1846 [00:00<00:03, 370.23it/s, now=None]\u001b[A\n",
      "chunk:  25%|██▍       | 459/1846 [00:01<00:04, 304.19it/s, now=None]\u001b[A\n",
      "chunk:  28%|██▊       | 510/1846 [00:01<00:04, 306.66it/s, now=None]\u001b[A\n",
      "chunk:  30%|███       | 561/1846 [00:01<00:04, 302.38it/s, now=None]\u001b[A\n",
      "chunk:  33%|███▎      | 612/1846 [00:01<00:04, 257.16it/s, now=None]\u001b[A\n",
      "chunk:  36%|███▌      | 663/1846 [00:01<00:04, 287.49it/s, now=None]\u001b[A\n",
      "chunk:  41%|████      | 752/1846 [00:02<00:03, 360.71it/s, now=None]\u001b[A\n",
      "chunk:  43%|████▎     | 801/1846 [00:02<00:02, 356.28it/s, now=None]\u001b[A\n",
      "chunk:  47%|████▋     | 867/1846 [00:02<00:03, 319.60it/s, now=None]\u001b[A\n",
      "chunk:  50%|████▉     | 918/1846 [00:02<00:03, 303.97it/s, now=None]\u001b[A\n",
      "chunk:  52%|█████▏    | 969/1846 [00:02<00:03, 285.82it/s, now=None]\u001b[A\n",
      "chunk:  55%|█████▌    | 1020/1846 [00:02<00:02, 323.88it/s, now=None]\u001b[A\n",
      "chunk:  58%|█████▊    | 1071/1846 [00:03<00:02, 355.40it/s, now=None]\u001b[A\n",
      "chunk:  61%|██████    | 1122/1846 [00:03<00:02, 325.46it/s, now=None]\u001b[A\n",
      "chunk:  64%|██████▎   | 1173/1846 [00:03<00:02, 230.61it/s, now=None]\u001b[A\n",
      "chunk:  66%|██████▋   | 1224/1846 [00:03<00:02, 248.13it/s, now=None]\u001b[A\n",
      "chunk:  69%|██████▉   | 1275/1846 [00:03<00:02, 269.96it/s, now=None]\u001b[A\n",
      "chunk:  72%|███████▏  | 1326/1846 [00:04<00:01, 298.33it/s, now=None]\u001b[A\n",
      "chunk:  75%|███████▍  | 1377/1846 [00:04<00:01, 289.17it/s, now=None]\u001b[A\n",
      "chunk:  77%|███████▋  | 1428/1846 [00:04<00:01, 298.17it/s, now=None]\u001b[A\n",
      "chunk:  80%|████████  | 1479/1846 [00:04<00:01, 295.00it/s, now=None]\u001b[A\n",
      "chunk:  83%|████████▎ | 1530/1846 [00:04<00:00, 322.96it/s, now=None]\u001b[A\n",
      "chunk:  86%|████████▌ | 1581/1846 [00:04<00:00, 292.55it/s, now=None]\u001b[A\n",
      "chunk:  88%|████████▊ | 1632/1846 [00:05<00:00, 232.69it/s, now=None]\u001b[A\n",
      "chunk:  91%|█████████ | 1683/1846 [00:05<00:00, 235.64it/s, now=None]\u001b[A\n",
      "chunk:  94%|█████████▍| 1734/1846 [00:05<00:00, 200.95it/s, now=None]\u001b[A\n",
      "chunk:  97%|█████████▋| 1785/1846 [00:05<00:00, 228.03it/s, now=None]\u001b[A\n",
      "chunk:   1%|▏         | 29/2121 [7:12:39<520:10:49, 895.15s/it, now=None]"
     ]
    },
    {
     "name": "stdout",
     "output_type": "stream",
     "text": [
      "MoviePy - Done.\n"
     ]
    },
    {
     "name": "stderr",
     "output_type": "stream",
     "text": [
      "chunk:   1%|▏         | 29/2121 [7:12:40<520:11:56, 895.18s/it, now=None]\n",
      "chunk:   0%|          | 0/2796 [00:00<?, ?it/s, now=None]\u001b[A"
     ]
    },
    {
     "name": "stdout",
     "output_type": "stream",
     "text": [
      "MoviePy - Writing audio in /home/jupyter/datasets/amigos/audio/Exp1_P28_audio/P28_19_audio.wav\n"
     ]
    },
    {
     "name": "stderr",
     "output_type": "stream",
     "text": [
      "\n",
      "chunk:   4%|▎         | 102/2796 [00:00<00:12, 217.47it/s, now=None]\u001b[A\n",
      "chunk:   5%|▌         | 153/2796 [00:00<00:13, 195.80it/s, now=None]\u001b[A\n",
      "chunk:   7%|▋         | 204/2796 [00:01<00:12, 207.26it/s, now=None]\u001b[A\n",
      "chunk:   9%|▉         | 255/2796 [00:01<00:12, 200.06it/s, now=None]\u001b[A\n",
      "chunk:  11%|█         | 306/2796 [00:01<00:12, 195.80it/s, now=None]\u001b[A\n",
      "chunk:  13%|█▎        | 357/2796 [00:01<00:12, 198.04it/s, now=None]\u001b[A\n",
      "chunk:  15%|█▍        | 408/2796 [00:02<00:13, 171.32it/s, now=None]\u001b[A\n",
      "chunk:  16%|█▋        | 459/2796 [00:02<00:13, 175.84it/s, now=None]\u001b[A\n",
      "chunk:  18%|█▊        | 510/2796 [00:02<00:13, 173.09it/s, now=None]\u001b[A\n",
      "chunk:  20%|██        | 561/2796 [00:03<00:12, 173.24it/s, now=None]\u001b[A\n",
      "chunk:  22%|██▏       | 612/2796 [00:03<00:10, 206.92it/s, now=None]\u001b[A\n",
      "chunk:  24%|██▎       | 663/2796 [00:03<00:10, 212.86it/s, now=None]\u001b[A\n",
      "chunk:  26%|██▌       | 714/2796 [00:03<00:10, 189.38it/s, now=None]\u001b[A\n",
      "chunk:  27%|██▋       | 765/2796 [00:03<00:09, 210.43it/s, now=None]\u001b[A\n",
      "chunk:  29%|██▉       | 816/2796 [00:04<00:08, 235.54it/s, now=None]\u001b[A\n",
      "chunk:  31%|███       | 867/2796 [00:04<00:09, 210.12it/s, now=None]\u001b[A\n",
      "chunk:  33%|███▎      | 918/2796 [00:04<00:07, 255.00it/s, now=None]\u001b[A\n",
      "chunk:  35%|███▍      | 969/2796 [00:04<00:08, 214.11it/s, now=None]\u001b[A\n",
      "chunk:  36%|███▋      | 1020/2796 [00:05<00:08, 220.56it/s, now=None]\u001b[A\n",
      "chunk:  38%|███▊      | 1071/2796 [00:05<00:07, 229.24it/s, now=None]\u001b[A\n",
      "chunk:  40%|████      | 1122/2796 [00:05<00:06, 246.00it/s, now=None]\u001b[A\n",
      "chunk:  42%|████▏     | 1173/2796 [00:05<00:06, 232.78it/s, now=None]\u001b[A\n",
      "chunk:  44%|████▍     | 1224/2796 [00:05<00:07, 223.44it/s, now=None]\u001b[A\n",
      "chunk:  46%|████▌     | 1275/2796 [00:06<00:07, 193.68it/s, now=None]\u001b[A\n",
      "chunk:  47%|████▋     | 1326/2796 [00:06<00:07, 193.57it/s, now=None]\u001b[A\n",
      "chunk:  49%|████▉     | 1377/2796 [00:06<00:06, 211.68it/s, now=None]\u001b[A\n",
      "chunk:  51%|█████     | 1428/2796 [00:06<00:06, 218.68it/s, now=None]\u001b[A\n",
      "chunk:  53%|█████▎    | 1479/2796 [00:07<00:06, 206.09it/s, now=None]\u001b[A\n",
      "chunk:  55%|█████▍    | 1530/2796 [00:07<00:05, 214.74it/s, now=None]\u001b[A\n",
      "chunk:  57%|█████▋    | 1581/2796 [00:07<00:05, 220.45it/s, now=None]\u001b[A\n",
      "chunk:  58%|█████▊    | 1632/2796 [00:07<00:04, 233.97it/s, now=None]\u001b[A\n",
      "chunk:  60%|██████    | 1683/2796 [00:08<00:04, 240.49it/s, now=None]\u001b[A\n",
      "chunk:  62%|██████▏   | 1734/2796 [00:08<00:04, 239.42it/s, now=None]\u001b[A\n",
      "chunk:  64%|██████▍   | 1785/2796 [00:08<00:04, 208.30it/s, now=None]\u001b[A\n",
      "chunk:  66%|██████▌   | 1836/2796 [00:08<00:04, 208.35it/s, now=None]\u001b[A\n",
      "chunk:  67%|██████▋   | 1887/2796 [00:09<00:04, 206.67it/s, now=None]\u001b[A\n",
      "chunk:  69%|██████▉   | 1938/2796 [00:09<00:03, 239.93it/s, now=None]\u001b[A\n",
      "chunk:  71%|███████   | 1989/2796 [00:09<00:03, 254.87it/s, now=None]\u001b[A\n",
      "chunk:  73%|███████▎  | 2040/2796 [00:09<00:02, 260.75it/s, now=None]\u001b[A\n",
      "chunk:  75%|███████▍  | 2091/2796 [00:09<00:02, 302.55it/s, now=None]\u001b[A\n",
      "chunk:  77%|███████▋  | 2142/2796 [00:09<00:02, 300.93it/s, now=None]\u001b[A\n",
      "chunk:  78%|███████▊  | 2193/2796 [00:09<00:01, 318.95it/s, now=None]\u001b[A\n",
      "chunk:  82%|████████▏ | 2295/2796 [00:10<00:01, 385.68it/s, now=None]\u001b[A\n",
      "chunk:  86%|████████▌ | 2397/2796 [00:10<00:00, 415.31it/s, now=None]\u001b[A\n",
      "chunk:  88%|████████▊ | 2448/2796 [00:10<00:00, 438.26it/s, now=None]\u001b[A\n",
      "chunk:  89%|████████▉ | 2499/2796 [00:10<00:00, 374.39it/s, now=None]\u001b[A\n",
      "chunk:  91%|█████████ | 2550/2796 [00:10<00:00, 389.34it/s, now=None]\u001b[A\n",
      "chunk:  93%|█████████▎| 2601/2796 [00:10<00:00, 354.03it/s, now=None]\u001b[A\n",
      "chunk:  95%|█████████▍| 2652/2796 [00:11<00:00, 298.93it/s, now=None]\u001b[A\n",
      "chunk:  97%|█████████▋| 2703/2796 [00:11<00:00, 261.35it/s, now=None]\u001b[A\n",
      "chunk:  98%|█████████▊| 2754/2796 [00:11<00:00, 267.21it/s, now=None]\u001b[A\n",
      "chunk:   1%|▏         | 29/2121 [7:12:51<520:25:51, 895.58s/it, now=None]"
     ]
    },
    {
     "name": "stdout",
     "output_type": "stream",
     "text": [
      "MoviePy - Done.\n"
     ]
    },
    {
     "name": "stderr",
     "output_type": "stream",
     "text": [
      "chunk:   1%|▏         | 29/2121 [7:12:52<520:26:57, 895.61s/it, now=None]\n",
      "chunk:   0%|          | 0/1452 [00:00<?, ?it/s, now=None]\u001b[A\n",
      "chunk:   7%|▋         | 102/1452 [00:00<00:01, 1008.88it/s, now=None]\u001b[A"
     ]
    },
    {
     "name": "stdout",
     "output_type": "stream",
     "text": [
      "MoviePy - Writing audio in /home/jupyter/datasets/amigos/audio/Exp1_P28_audio/P28_20_audio.wav\n"
     ]
    },
    {
     "name": "stderr",
     "output_type": "stream",
     "text": [
      "\n",
      "chunk:  11%|█         | 153/1452 [00:00<00:02, 433.89it/s, now=None] \u001b[A\n",
      "chunk:  14%|█▍        | 204/1452 [00:00<00:03, 362.11it/s, now=None]\u001b[A\n",
      "chunk:  18%|█▊        | 255/1452 [00:00<00:03, 355.73it/s, now=None]\u001b[A\n",
      "chunk:  21%|██        | 306/1452 [00:00<00:03, 364.13it/s, now=None]\u001b[A\n",
      "chunk:  25%|██▍       | 357/1452 [00:00<00:02, 370.12it/s, now=None]\u001b[A\n",
      "chunk:  28%|██▊       | 408/1452 [00:01<00:02, 368.70it/s, now=None]\u001b[A\n",
      "chunk:  32%|███▏      | 459/1452 [00:01<00:02, 375.29it/s, now=None]\u001b[A\n",
      "chunk:  35%|███▌      | 510/1452 [00:01<00:03, 266.46it/s, now=None]\u001b[A\n",
      "chunk:  39%|███▊      | 561/1452 [00:01<00:03, 282.04it/s, now=None]\u001b[A\n",
      "chunk:  42%|████▏     | 612/1452 [00:01<00:02, 307.04it/s, now=None]\u001b[A\n",
      "chunk:  47%|████▋     | 686/1452 [00:01<00:02, 372.36it/s, now=None]\u001b[A\n",
      "chunk:  50%|█████     | 732/1452 [00:02<00:02, 271.84it/s, now=None]\u001b[A\n",
      "chunk:  53%|█████▎    | 769/1452 [00:02<00:02, 253.47it/s, now=None]\u001b[A\n",
      "chunk:  56%|█████▌    | 816/1452 [00:02<00:02, 215.32it/s, now=None]\u001b[A\n",
      "chunk:  60%|█████▉    | 867/1452 [00:02<00:02, 223.61it/s, now=None]\u001b[A\n",
      "chunk:  63%|██████▎   | 918/1452 [00:03<00:02, 241.95it/s, now=None]\u001b[A\n",
      "chunk:  67%|██████▋   | 969/1452 [00:03<00:01, 244.82it/s, now=None]\u001b[A\n",
      "chunk:  70%|███████   | 1020/1452 [00:03<00:01, 265.76it/s, now=None]\u001b[A\n",
      "chunk:  74%|███████▍  | 1071/1452 [00:03<00:01, 235.16it/s, now=None]\u001b[A\n",
      "chunk:  77%|███████▋  | 1122/1452 [00:03<00:01, 241.57it/s, now=None]\u001b[A\n",
      "chunk:  81%|████████  | 1173/1452 [00:04<00:01, 214.26it/s, now=None]\u001b[A\n",
      "chunk:  84%|████████▍ | 1224/1452 [00:04<00:00, 230.54it/s, now=None]\u001b[A\n",
      "chunk:  88%|████████▊ | 1275/1452 [00:04<00:00, 221.49it/s, now=None]\u001b[A\n",
      "chunk:  91%|█████████▏| 1326/1452 [00:05<00:00, 169.08it/s, now=None]\u001b[A\n",
      "chunk:  95%|█████████▍| 1377/1452 [00:05<00:00, 177.86it/s, now=None]\u001b[A\n",
      "chunk:   1%|▏         | 29/2121 [7:12:58<520:33:29, 895.80s/it, now=None]"
     ]
    },
    {
     "name": "stdout",
     "output_type": "stream",
     "text": [
      "MoviePy - Done.\n"
     ]
    },
    {
     "name": "stderr",
     "output_type": "stream",
     "text": [
      "chunk:   1%|▏         | 29/2121 [7:12:59<520:34:33, 895.83s/it, now=None]\n",
      "chunk:   0%|          | 0/2476 [00:00<?, ?it/s, now=None]\u001b[A\n",
      "chunk:   6%|▌         | 153/2476 [00:00<00:02, 948.25it/s, now=None]\u001b[A"
     ]
    },
    {
     "name": "stdout",
     "output_type": "stream",
     "text": [
      "MoviePy - Writing audio in /home/jupyter/datasets/amigos/audio/Exp1_P28_audio/P28_23_audio.wav\n"
     ]
    },
    {
     "name": "stderr",
     "output_type": "stream",
     "text": [
      "\n",
      "chunk:   8%|▊         | 204/2476 [00:00<00:03, 719.00it/s, now=None]\u001b[A\n",
      "chunk:  10%|█         | 255/2476 [00:00<00:04, 513.40it/s, now=None]\u001b[A\n",
      "chunk:  12%|█▏        | 306/2476 [00:00<00:05, 416.10it/s, now=None]\u001b[A\n",
      "chunk:  14%|█▍        | 357/2476 [00:00<00:05, 398.04it/s, now=None]\u001b[A\n",
      "chunk:  16%|█▋        | 408/2476 [00:00<00:05, 367.93it/s, now=None]\u001b[A\n",
      "chunk:  19%|█▊        | 459/2476 [00:01<00:05, 355.67it/s, now=None]\u001b[A\n",
      "chunk:  21%|██        | 510/2476 [00:01<00:06, 289.97it/s, now=None]\u001b[A\n",
      "chunk:  23%|██▎       | 561/2476 [00:01<00:05, 319.86it/s, now=None]\u001b[A\n",
      "chunk:  26%|██▋       | 653/2476 [00:01<00:04, 397.64it/s, now=None]\u001b[A\n",
      "chunk:  28%|██▊       | 704/2476 [00:01<00:04, 387.55it/s, now=None]\u001b[A\n",
      "chunk:  30%|███       | 751/2476 [00:01<00:04, 390.88it/s, now=None]\u001b[A\n",
      "chunk:  32%|███▏      | 796/2476 [00:01<00:04, 363.81it/s, now=None]\u001b[A\n",
      "chunk:  34%|███▍      | 837/2476 [00:02<00:07, 217.13it/s, now=None]\u001b[A\n",
      "chunk:  35%|███▌      | 869/2476 [00:02<00:09, 165.36it/s, now=None]\u001b[A\n",
      "chunk:  37%|███▋      | 918/2476 [00:02<00:08, 185.46it/s, now=None]\u001b[A\n",
      "chunk:  39%|███▉      | 969/2476 [00:02<00:06, 218.63it/s, now=None]\u001b[A\n",
      "chunk:  41%|████      | 1020/2476 [00:03<00:05, 251.86it/s, now=None]\u001b[A\n",
      "chunk:  43%|████▎     | 1071/2476 [00:03<00:04, 285.60it/s, now=None]\u001b[A\n",
      "chunk:  45%|████▌     | 1122/2476 [00:03<00:04, 284.29it/s, now=None]\u001b[A\n",
      "chunk:  47%|████▋     | 1173/2476 [00:03<00:04, 315.45it/s, now=None]\u001b[A\n",
      "chunk:  49%|████▉     | 1224/2476 [00:03<00:03, 317.54it/s, now=None]\u001b[A\n",
      "chunk:  51%|█████▏    | 1275/2476 [00:03<00:04, 280.68it/s, now=None]\u001b[A\n",
      "chunk:  54%|█████▎    | 1326/2476 [00:04<00:04, 284.84it/s, now=None]\u001b[A\n",
      "chunk:  56%|█████▌    | 1377/2476 [00:04<00:03, 294.21it/s, now=None]\u001b[A\n",
      "chunk:  58%|█████▊    | 1428/2476 [00:04<00:04, 259.78it/s, now=None]\u001b[A\n",
      "chunk:  60%|█████▉    | 1479/2476 [00:04<00:03, 289.11it/s, now=None]\u001b[A\n",
      "chunk:  62%|██████▏   | 1530/2476 [00:04<00:03, 303.77it/s, now=None]\u001b[A\n",
      "chunk:  64%|██████▍   | 1581/2476 [00:04<00:02, 329.22it/s, now=None]\u001b[A\n",
      "chunk:  66%|██████▌   | 1632/2476 [00:05<00:02, 317.27it/s, now=None]\u001b[A\n",
      "chunk:  68%|██████▊   | 1683/2476 [00:05<00:02, 309.56it/s, now=None]\u001b[A\n",
      "chunk:  70%|███████   | 1734/2476 [00:05<00:02, 284.25it/s, now=None]\u001b[A\n",
      "chunk:  72%|███████▏  | 1785/2476 [00:05<00:02, 316.38it/s, now=None]\u001b[A\n",
      "chunk:  74%|███████▍  | 1836/2476 [00:05<00:02, 216.67it/s, now=None]\u001b[A\n",
      "chunk:  76%|███████▌  | 1887/2476 [00:06<00:02, 198.54it/s, now=None]\u001b[A\n",
      "chunk:  78%|███████▊  | 1938/2476 [00:06<00:02, 201.13it/s, now=None]\u001b[A\n",
      "chunk:  80%|████████  | 1989/2476 [00:06<00:02, 212.74it/s, now=None]\u001b[A\n",
      "chunk:  82%|████████▏ | 2040/2476 [00:06<00:01, 256.86it/s, now=None]\u001b[A\n",
      "chunk:  84%|████████▍ | 2091/2476 [00:07<00:01, 259.39it/s, now=None]\u001b[A\n",
      "chunk:  87%|████████▋ | 2142/2476 [00:07<00:01, 261.13it/s, now=None]\u001b[A\n",
      "chunk:  89%|████████▊ | 2193/2476 [00:07<00:01, 275.26it/s, now=None]\u001b[A\n",
      "chunk:  91%|█████████ | 2244/2476 [00:07<00:00, 301.74it/s, now=None]\u001b[A\n",
      "chunk:  93%|█████████▎| 2295/2476 [00:07<00:00, 319.90it/s, now=None]\u001b[A\n",
      "chunk:  95%|█████████▍| 2346/2476 [00:07<00:00, 295.03it/s, now=None]\u001b[A\n",
      "chunk:  97%|█████████▋| 2397/2476 [00:08<00:00, 253.28it/s, now=None]\u001b[A\n",
      "chunk:  99%|█████████▉| 2448/2476 [00:08<00:00, 276.29it/s, now=None]\u001b[A\n",
      "chunk:   1%|▏         | 29/2121 [7:13:07<520:44:31, 896.11s/it, now=None]"
     ]
    },
    {
     "name": "stdout",
     "output_type": "stream",
     "text": [
      "MoviePy - Done.\n"
     ]
    },
    {
     "name": "stderr",
     "output_type": "stream",
     "text": [
      "chunk:   1%|▏         | 29/2121 [7:13:08<520:45:29, 896.14s/it, now=None]\n",
      "chunk:   0%|          | 0/1690 [00:00<?, ?it/s, now=None]\u001b[A\n",
      "chunk:   6%|▌         | 102/1690 [00:00<00:02, 730.64it/s, now=None]\u001b[A"
     ]
    },
    {
     "name": "stdout",
     "output_type": "stream",
     "text": [
      "MoviePy - Writing audio in /home/jupyter/datasets/amigos/audio/Exp1_P28_audio/P28_30_audio.wav\n"
     ]
    },
    {
     "name": "stderr",
     "output_type": "stream",
     "text": [
      "\n",
      "chunk:   9%|▉         | 153/1690 [00:00<00:03, 501.27it/s, now=None]\u001b[A\n",
      "chunk:  12%|█▏        | 204/1690 [00:00<00:03, 395.48it/s, now=None]\u001b[A\n",
      "chunk:  15%|█▌        | 255/1690 [00:00<00:03, 369.48it/s, now=None]\u001b[A\n",
      "chunk:  18%|█▊        | 306/1690 [00:00<00:05, 261.81it/s, now=None]\u001b[A\n",
      "chunk:  23%|██▎       | 385/1690 [00:01<00:03, 327.48it/s, now=None]\u001b[A\n",
      "chunk:  25%|██▌       | 426/1690 [00:01<00:04, 283.76it/s, now=None]\u001b[A\n",
      "chunk:  27%|██▋       | 461/1690 [00:01<00:05, 219.98it/s, now=None]\u001b[A\n",
      "chunk:  30%|███       | 510/1690 [00:01<00:04, 243.83it/s, now=None]\u001b[A\n",
      "chunk:  33%|███▎      | 561/1690 [00:01<00:04, 249.19it/s, now=None]\u001b[A\n",
      "chunk:  36%|███▌      | 612/1690 [00:02<00:04, 269.10it/s, now=None]\u001b[A\n",
      "chunk:  39%|███▉      | 663/1690 [00:02<00:03, 272.83it/s, now=None]\u001b[A\n",
      "chunk:  42%|████▏     | 714/1690 [00:02<00:03, 256.19it/s, now=None]\u001b[A\n",
      "chunk:  45%|████▌     | 765/1690 [00:02<00:03, 251.38it/s, now=None]\u001b[A\n",
      "chunk:  48%|████▊     | 816/1690 [00:02<00:03, 225.12it/s, now=None]\u001b[A\n",
      "chunk:  51%|█████▏    | 867/1690 [00:03<00:03, 216.26it/s, now=None]\u001b[A\n",
      "chunk:  54%|█████▍    | 918/1690 [00:03<00:03, 245.89it/s, now=None]\u001b[A\n",
      "chunk:  57%|█████▋    | 969/1690 [00:03<00:02, 278.79it/s, now=None]\u001b[A\n",
      "chunk:  60%|██████    | 1020/1690 [00:03<00:02, 291.50it/s, now=None]\u001b[A\n",
      "chunk:  63%|██████▎   | 1071/1690 [00:03<00:02, 252.13it/s, now=None]\u001b[A\n",
      "chunk:  66%|██████▋   | 1122/1690 [00:04<00:02, 208.20it/s, now=None]\u001b[A\n",
      "chunk:  69%|██████▉   | 1173/1690 [00:04<00:02, 242.75it/s, now=None]\u001b[A\n",
      "chunk:  72%|███████▏  | 1224/1690 [00:04<00:01, 247.10it/s, now=None]\u001b[A\n",
      "chunk:  75%|███████▌  | 1275/1690 [00:04<00:01, 233.52it/s, now=None]\u001b[A\n",
      "chunk:  78%|███████▊  | 1326/1690 [00:04<00:01, 252.09it/s, now=None]\u001b[A\n",
      "chunk:  81%|████████▏ | 1377/1690 [00:05<00:01, 244.97it/s, now=None]\u001b[A\n",
      "chunk:  84%|████████▍ | 1428/1690 [00:05<00:01, 248.50it/s, now=None]\u001b[A\n",
      "chunk:  88%|████████▊ | 1479/1690 [00:05<00:00, 263.79it/s, now=None]\u001b[A\n",
      "chunk:  91%|█████████ | 1530/1690 [00:05<00:00, 295.42it/s, now=None]\u001b[A\n",
      "chunk:  94%|█████████▎| 1581/1690 [00:05<00:00, 303.07it/s, now=None]\u001b[A\n",
      "chunk:  97%|█████████▋| 1632/1690 [00:06<00:00, 282.10it/s, now=None]\u001b[A\n",
      "chunk:   1%|▏         | 29/2121 [7:13:14<520:52:48, 896.35s/it, now=None]"
     ]
    },
    {
     "name": "stdout",
     "output_type": "stream",
     "text": [
      "MoviePy - Done.\n"
     ]
    },
    {
     "name": "stderr",
     "output_type": "stream",
     "text": [
      "chunk:   1%|▏         | 29/2121 [7:13:15<520:54:07, 896.39s/it, now=None]\n",
      "chunk:   0%|          | 0/3449 [00:00<?, ?it/s, now=None]\u001b[A\n",
      "chunk:   3%|▎         | 102/3449 [00:00<00:03, 1013.11it/s, now=None]\u001b[A"
     ]
    },
    {
     "name": "stdout",
     "output_type": "stream",
     "text": [
      "MoviePy - Writing audio in /home/jupyter/datasets/amigos/audio/Exp1_P28_audio/P28_31_audio.wav\n"
     ]
    },
    {
     "name": "stderr",
     "output_type": "stream",
     "text": [
      "\n",
      "chunk:   4%|▍         | 153/3449 [00:00<00:05, 571.14it/s, now=None] \u001b[A\n",
      "chunk:   6%|▌         | 204/3449 [00:00<00:09, 357.57it/s, now=None]\u001b[A\n",
      "chunk:   7%|▋         | 255/3449 [00:00<00:10, 315.86it/s, now=None]\u001b[A\n",
      "chunk:   9%|▉         | 306/3449 [00:00<00:09, 314.59it/s, now=None]\u001b[A\n",
      "chunk:  10%|█         | 357/3449 [00:01<00:08, 345.10it/s, now=None]\u001b[A\n",
      "chunk:  12%|█▏        | 408/3449 [00:01<00:08, 344.63it/s, now=None]\u001b[A\n",
      "chunk:  13%|█▎        | 459/3449 [00:01<00:09, 318.25it/s, now=None]\u001b[A\n",
      "chunk:  15%|█▍        | 510/3449 [00:01<00:08, 344.75it/s, now=None]\u001b[A\n",
      "chunk:  16%|█▋        | 561/3449 [00:01<00:11, 251.71it/s, now=None]\u001b[A\n",
      "chunk:  18%|█▊        | 612/3449 [00:01<00:09, 285.53it/s, now=None]\u001b[A\n",
      "chunk:  19%|█▉        | 663/3449 [00:02<00:09, 308.17it/s, now=None]\u001b[A\n",
      "chunk:  21%|██        | 714/3449 [00:02<00:10, 268.37it/s, now=None]\u001b[A\n",
      "chunk:  22%|██▏       | 765/3449 [00:02<00:09, 275.70it/s, now=None]\u001b[A\n",
      "chunk:  24%|██▎       | 816/3449 [00:02<00:10, 245.68it/s, now=None]\u001b[A\n",
      "chunk:  25%|██▌       | 867/3449 [00:03<00:13, 195.45it/s, now=None]\u001b[A\n",
      "chunk:  27%|██▋       | 918/3449 [00:03<00:13, 188.02it/s, now=None]\u001b[A\n",
      "chunk:  30%|██▉       | 1020/3449 [00:03<00:10, 239.35it/s, now=None]\u001b[A\n",
      "chunk:  33%|███▎      | 1122/3449 [00:03<00:07, 295.71it/s, now=None]\u001b[A\n",
      "chunk:  35%|███▌      | 1224/3449 [00:03<00:06, 358.10it/s, now=None]\u001b[A\n",
      "chunk:  37%|███▋      | 1276/3449 [00:03<00:05, 394.73it/s, now=None]\u001b[A\n",
      "chunk:  40%|███▉      | 1377/3449 [00:04<00:04, 436.09it/s, now=None]\u001b[A\n",
      "chunk:  41%|████▏     | 1431/3449 [00:04<00:04, 420.58it/s, now=None]\u001b[A\n",
      "chunk:  43%|████▎     | 1481/3449 [00:04<00:04, 436.37it/s, now=None]\u001b[A\n",
      "chunk:  44%|████▍     | 1530/3449 [00:04<00:04, 417.16it/s, now=None]\u001b[A\n",
      "chunk:  47%|████▋     | 1632/3449 [00:04<00:04, 445.73it/s, now=None]\u001b[A\n",
      "chunk:  49%|████▉     | 1683/3449 [00:04<00:04, 421.73it/s, now=None]\u001b[A\n",
      "chunk:  50%|█████     | 1734/3449 [00:05<00:04, 370.88it/s, now=None]\u001b[A\n",
      "chunk:  52%|█████▏    | 1785/3449 [00:05<00:04, 369.07it/s, now=None]\u001b[A\n",
      "chunk:  53%|█████▎    | 1836/3449 [00:05<00:04, 333.31it/s, now=None]\u001b[A\n",
      "chunk:  55%|█████▍    | 1887/3449 [00:05<00:04, 351.93it/s, now=None]\u001b[A\n",
      "chunk:  56%|█████▌    | 1938/3449 [00:05<00:04, 314.77it/s, now=None]\u001b[A\n",
      "chunk:  58%|█████▊    | 1989/3449 [00:05<00:04, 327.57it/s, now=None]\u001b[A\n",
      "chunk:  61%|██████    | 2091/3449 [00:06<00:04, 331.03it/s, now=None]\u001b[A\n",
      "chunk:  62%|██████▏   | 2142/3449 [00:06<00:03, 344.71it/s, now=None]\u001b[A\n",
      "chunk:  64%|██████▎   | 2193/3449 [00:06<00:04, 296.27it/s, now=None]\u001b[A\n",
      "chunk:  67%|██████▋   | 2295/3449 [00:06<00:03, 323.85it/s, now=None]\u001b[A\n",
      "chunk:  69%|██████▉   | 2395/3449 [00:06<00:02, 406.22it/s, now=None]\u001b[A\n",
      "chunk:  71%|███████   | 2450/3449 [00:07<00:03, 251.44it/s, now=None]\u001b[A\n",
      "chunk:  72%|███████▏  | 2499/3449 [00:07<00:03, 239.04it/s, now=None]\u001b[A\n",
      "chunk:  74%|███████▍  | 2550/3449 [00:07<00:03, 258.83it/s, now=None]\u001b[A\n",
      "chunk:  75%|███████▌  | 2601/3449 [00:07<00:03, 254.19it/s, now=None]\u001b[A\n",
      "chunk:  77%|███████▋  | 2652/3449 [00:08<00:02, 276.84it/s, now=None]\u001b[A\n",
      "chunk:  78%|███████▊  | 2703/3449 [00:08<00:02, 293.74it/s, now=None]\u001b[A\n",
      "chunk:  80%|███████▉  | 2754/3449 [00:08<00:02, 318.59it/s, now=None]\u001b[A\n",
      "chunk:  81%|████████▏ | 2805/3449 [00:08<00:01, 342.88it/s, now=None]\u001b[A\n",
      "chunk:  83%|████████▎ | 2856/3449 [00:08<00:01, 342.35it/s, now=None]\u001b[A\n",
      "chunk:  84%|████████▍ | 2907/3449 [00:08<00:01, 336.00it/s, now=None]\u001b[A\n",
      "chunk:  86%|████████▌ | 2958/3449 [00:08<00:01, 301.11it/s, now=None]\u001b[A\n",
      "chunk:  87%|████████▋ | 3009/3449 [00:09<00:01, 284.07it/s, now=None]\u001b[A\n",
      "chunk:  90%|█████████ | 3111/3449 [00:09<00:00, 344.60it/s, now=None]\u001b[A\n",
      "chunk:  93%|█████████▎| 3213/3449 [00:09<00:00, 428.05it/s, now=None]\u001b[A\n",
      "chunk:  95%|█████████▍| 3272/3449 [00:09<00:00, 418.95it/s, now=None]\u001b[A\n",
      "chunk:  96%|█████████▋| 3325/3449 [00:09<00:00, 372.18it/s, now=None]\u001b[A\n",
      "chunk:  98%|█████████▊| 3371/3449 [00:10<00:00, 260.61it/s, now=None]\u001b[A\n",
      "chunk:   1%|▏         | 29/2121 [7:13:25<521:06:15, 896.74s/it, now=None]"
     ]
    },
    {
     "name": "stdout",
     "output_type": "stream",
     "text": [
      "MoviePy - Done.\n"
     ]
    },
    {
     "name": "stderr",
     "output_type": "stream",
     "text": [
      "chunk:   1%|▏         | 29/2121 [7:13:26<521:07:15, 896.77s/it, now=None]\n",
      "chunk:   0%|          | 0/1470 [00:00<?, ?it/s, now=None]\u001b[A\n",
      "chunk:   7%|▋         | 102/1470 [00:00<00:02, 565.77it/s, now=None]\u001b[A"
     ]
    },
    {
     "name": "stdout",
     "output_type": "stream",
     "text": [
      "MoviePy - Writing audio in /home/jupyter/datasets/amigos/audio/Exp1_P28_audio/P28_34_audio.wav\n"
     ]
    },
    {
     "name": "stderr",
     "output_type": "stream",
     "text": [
      "\n",
      "chunk:  10%|█         | 153/1470 [00:00<00:03, 395.57it/s, now=None]\u001b[A\n",
      "chunk:  14%|█▍        | 204/1470 [00:00<00:04, 309.96it/s, now=None]\u001b[A\n",
      "chunk:  17%|█▋        | 255/1470 [00:00<00:04, 274.59it/s, now=None]\u001b[A\n",
      "chunk:  21%|██        | 306/1470 [00:01<00:04, 272.03it/s, now=None]\u001b[A\n",
      "chunk:  24%|██▍       | 357/1470 [00:01<00:05, 210.94it/s, now=None]\u001b[A\n",
      "chunk:  28%|██▊       | 408/1470 [00:01<00:05, 205.96it/s, now=None]\u001b[A\n",
      "chunk:  31%|███       | 459/1470 [00:01<00:04, 237.12it/s, now=None]\u001b[A\n",
      "chunk:  35%|███▍      | 510/1470 [00:02<00:03, 250.48it/s, now=None]\u001b[A\n",
      "chunk:  38%|███▊      | 561/1470 [00:02<00:03, 244.93it/s, now=None]\u001b[A\n",
      "chunk:  42%|████▏     | 612/1470 [00:02<00:03, 263.54it/s, now=None]\u001b[A\n",
      "chunk:  45%|████▌     | 663/1470 [00:02<00:02, 299.56it/s, now=None]\u001b[A\n",
      "chunk:  49%|████▊     | 714/1470 [00:02<00:02, 331.95it/s, now=None]\u001b[A\n",
      "chunk:  52%|█████▏    | 765/1470 [00:02<00:02, 341.24it/s, now=None]\u001b[A\n",
      "chunk:  56%|█████▌    | 816/1470 [00:02<00:02, 322.84it/s, now=None]\u001b[A\n",
      "chunk:  62%|██████▏   | 918/1470 [00:03<00:01, 366.87it/s, now=None]\u001b[A\n",
      "chunk:  66%|██████▌   | 969/1470 [00:03<00:01, 301.66it/s, now=None]\u001b[A\n",
      "chunk:  69%|██████▉   | 1020/1470 [00:03<00:01, 282.66it/s, now=None]\u001b[A\n",
      "chunk:  73%|███████▎  | 1071/1470 [00:03<00:01, 282.24it/s, now=None]\u001b[A\n",
      "chunk:  76%|███████▋  | 1122/1470 [00:04<00:01, 236.42it/s, now=None]\u001b[A\n",
      "chunk:  80%|███████▉  | 1173/1470 [00:04<00:01, 234.88it/s, now=None]\u001b[A\n",
      "chunk:  83%|████████▎ | 1224/1470 [00:04<00:00, 271.60it/s, now=None]\u001b[A\n",
      "chunk:  87%|████████▋ | 1275/1470 [00:04<00:00, 280.63it/s, now=None]\u001b[A\n",
      "chunk:  91%|█████████ | 1339/1470 [00:04<00:00, 337.46it/s, now=None]\u001b[A\n",
      "chunk:  94%|█████████▍| 1380/1470 [00:04<00:00, 269.49it/s, now=None]\u001b[A\n",
      "chunk:  97%|█████████▋| 1428/1470 [00:05<00:00, 284.99it/s, now=None]\u001b[A\n",
      "chunk:   1%|▏         | 29/2121 [7:13:31<521:13:21, 896.94s/it, now=None]"
     ]
    },
    {
     "name": "stdout",
     "output_type": "stream",
     "text": [
      "MoviePy - Done.\n"
     ]
    },
    {
     "name": "stderr",
     "output_type": "stream",
     "text": [
      "chunk:   1%|▏         | 29/2121 [7:13:32<521:14:31, 896.98s/it, now=None]\n",
      "chunk:   0%|          | 0/1520 [00:00<?, ?it/s, now=None]\u001b[A"
     ]
    },
    {
     "name": "stdout",
     "output_type": "stream",
     "text": [
      "MoviePy - Writing audio in /home/jupyter/datasets/amigos/audio/Exp1_P28_audio/P28_36_audio.wav\n"
     ]
    },
    {
     "name": "stderr",
     "output_type": "stream",
     "text": [
      "\n",
      "chunk:   7%|▋         | 102/1520 [00:00<00:03, 408.53it/s, now=None]\u001b[A\n",
      "chunk:  10%|█         | 153/1520 [00:00<00:05, 271.80it/s, now=None]\u001b[A\n",
      "chunk:  13%|█▎        | 204/1520 [00:00<00:04, 286.42it/s, now=None]\u001b[A\n",
      "chunk:  17%|█▋        | 255/1520 [00:00<00:04, 275.48it/s, now=None]\u001b[A\n",
      "chunk:  20%|██        | 306/1520 [00:01<00:04, 248.25it/s, now=None]\u001b[A\n",
      "chunk:  23%|██▎       | 357/1520 [00:01<00:06, 189.53it/s, now=None]\u001b[A\n",
      "chunk:  27%|██▋       | 408/1520 [00:01<00:05, 185.63it/s, now=None]\u001b[A\n",
      "chunk:  30%|███       | 459/1520 [00:02<00:05, 206.61it/s, now=None]\u001b[A\n",
      "chunk:  34%|███▎      | 510/1520 [00:02<00:04, 206.79it/s, now=None]\u001b[A\n",
      "chunk:  37%|███▋      | 561/1520 [00:02<00:04, 237.94it/s, now=None]\u001b[A\n",
      "chunk:  44%|████▎     | 663/1520 [00:02<00:03, 263.62it/s, now=None]\u001b[A\n",
      "chunk:  47%|████▋     | 714/1520 [00:03<00:03, 232.79it/s, now=None]\u001b[A\n",
      "chunk:  50%|█████     | 765/1520 [00:03<00:03, 204.81it/s, now=None]\u001b[A\n",
      "chunk:  54%|█████▎    | 816/1520 [00:03<00:03, 207.29it/s, now=None]\u001b[A\n",
      "chunk:  57%|█████▋    | 867/1520 [00:03<00:03, 201.51it/s, now=None]\u001b[A\n",
      "chunk:  60%|██████    | 918/1520 [00:04<00:02, 203.67it/s, now=None]\u001b[A\n",
      "chunk:  64%|██████▍   | 969/1520 [00:04<00:02, 237.15it/s, now=None]\u001b[A\n",
      "chunk:  67%|██████▋   | 1020/1520 [00:04<00:02, 249.73it/s, now=None]\u001b[A\n",
      "chunk:  70%|███████   | 1071/1520 [00:04<00:01, 264.49it/s, now=None]\u001b[A\n",
      "chunk:  77%|███████▋  | 1173/1520 [00:04<00:01, 328.24it/s, now=None]\u001b[A\n",
      "chunk:  81%|████████  | 1224/1520 [00:04<00:00, 356.56it/s, now=None]\u001b[A\n",
      "chunk:  87%|████████▋ | 1326/1520 [00:05<00:00, 371.84it/s, now=None]\u001b[A\n",
      "chunk:  91%|█████████ | 1377/1520 [00:05<00:00, 333.50it/s, now=None]\u001b[A\n",
      "chunk:  94%|█████████▍| 1428/1520 [00:05<00:00, 301.72it/s, now=None]\u001b[A\n",
      "chunk:  97%|█████████▋| 1479/1520 [00:05<00:00, 304.34it/s, now=None]\u001b[A\n",
      "chunk:   1%|▏         | 29/2121 [7:13:37<521:21:21, 897.17s/it, now=None]"
     ]
    },
    {
     "name": "stdout",
     "output_type": "stream",
     "text": [
      "MoviePy - Done.\n"
     ]
    },
    {
     "name": "stderr",
     "output_type": "stream",
     "text": [
      "chunk:   1%|▏         | 29/2121 [7:13:38<521:22:19, 897.20s/it, now=None]\n",
      "chunk:   0%|          | 0/2020 [00:00<?, ?it/s, now=None]\u001b[A\n",
      "chunk:   5%|▌         | 102/2020 [00:00<00:02, 914.78it/s, now=None]\u001b[A"
     ]
    },
    {
     "name": "stdout",
     "output_type": "stream",
     "text": [
      "MoviePy - Writing audio in /home/jupyter/datasets/amigos/audio/Exp1_P28_audio/P28_4_audio.wav\n"
     ]
    },
    {
     "name": "stderr",
     "output_type": "stream",
     "text": [
      "\n",
      "chunk:  10%|█         | 204/2020 [00:00<00:02, 835.72it/s, now=None]\u001b[A\n",
      "chunk:  15%|█▌        | 306/2020 [00:00<00:02, 615.69it/s, now=None]\u001b[A\n",
      "chunk:  20%|██        | 414/2020 [00:00<00:02, 706.62it/s, now=None]\u001b[A\n",
      "chunk:  25%|██▌       | 510/2020 [00:00<00:02, 741.97it/s, now=None]\u001b[A\n",
      "chunk:  29%|██▊       | 578/2020 [00:00<00:02, 702.73it/s, now=None]\u001b[A\n",
      "chunk:  33%|███▎      | 663/2020 [00:01<00:02, 556.22it/s, now=None]\u001b[A\n",
      "chunk:  36%|███▌      | 721/2020 [00:01<00:02, 504.76it/s, now=None]\u001b[A\n",
      "chunk:  38%|███▊      | 774/2020 [00:01<00:03, 362.27it/s, now=None]\u001b[A\n",
      "chunk:  40%|████      | 818/2020 [00:01<00:03, 367.74it/s, now=None]\u001b[A\n",
      "chunk:  45%|████▌     | 918/2020 [00:01<00:02, 407.19it/s, now=None]\u001b[A\n",
      "chunk:  48%|████▊     | 969/2020 [00:01<00:02, 403.44it/s, now=None]\u001b[A\n",
      "chunk:  52%|█████▏    | 1051/2020 [00:01<00:02, 475.82it/s, now=None]\u001b[A\n",
      "chunk:  56%|█████▌    | 1122/2020 [00:02<00:01, 481.42it/s, now=None]\u001b[A\n",
      "chunk:  62%|██████▏   | 1247/2020 [00:02<00:01, 590.21it/s, now=None]\u001b[A\n",
      "chunk:  66%|██████▌   | 1326/2020 [00:02<00:01, 570.55it/s, now=None]\u001b[A\n",
      "chunk:  71%|███████   | 1428/2020 [00:02<00:01, 571.34it/s, now=None]\u001b[A\n",
      "chunk:  74%|███████▍  | 1494/2020 [00:02<00:01, 520.42it/s, now=None]\u001b[A\n",
      "chunk:  77%|███████▋  | 1553/2020 [00:02<00:01, 413.36it/s, now=None]\u001b[A\n",
      "chunk:  79%|███████▉  | 1603/2020 [00:03<00:01, 369.59it/s, now=None]\u001b[A\n",
      "chunk:  82%|████████▏ | 1647/2020 [00:03<00:01, 295.70it/s, now=None]\u001b[A\n",
      "chunk:  86%|████████▌ | 1734/2020 [00:03<00:00, 324.59it/s, now=None]\u001b[A\n",
      "chunk:  88%|████████▊ | 1785/2020 [00:03<00:00, 332.68it/s, now=None]\u001b[A\n",
      "chunk:  91%|█████████ | 1836/2020 [00:03<00:00, 346.37it/s, now=None]\u001b[A\n",
      "chunk:  93%|█████████▎| 1887/2020 [00:04<00:00, 273.24it/s, now=None]\u001b[A\n",
      "chunk:  96%|█████████▌| 1938/2020 [00:04<00:00, 242.83it/s, now=None]\u001b[A\n",
      "chunk:   1%|▏         | 29/2121 [7:13:43<521:27:39, 897.35s/it, now=None]"
     ]
    },
    {
     "name": "stdout",
     "output_type": "stream",
     "text": [
      "MoviePy - Done.\n"
     ]
    },
    {
     "name": "stderr",
     "output_type": "stream",
     "text": [
      "chunk:   1%|▏         | 29/2121 [7:13:44<521:28:46, 897.38s/it, now=None]\n",
      "chunk:   0%|          | 0/2489 [00:00<?, ?it/s, now=None]\u001b[A\n",
      "chunk:   4%|▍         | 102/2489 [00:00<00:03, 691.23it/s, now=None]\u001b[A"
     ]
    },
    {
     "name": "stdout",
     "output_type": "stream",
     "text": [
      "MoviePy - Writing audio in /home/jupyter/datasets/amigos/audio/Exp1_P28_audio/P28_5_audio.wav\n"
     ]
    },
    {
     "name": "stderr",
     "output_type": "stream",
     "text": [
      "\n",
      "chunk:   6%|▌         | 153/2489 [00:00<00:03, 611.79it/s, now=None]\u001b[A\n",
      "chunk:   8%|▊         | 204/2489 [00:00<00:05, 416.47it/s, now=None]\u001b[A\n",
      "chunk:  10%|█         | 255/2489 [00:00<00:06, 326.62it/s, now=None]\u001b[A\n",
      "chunk:  12%|█▏        | 306/2489 [00:01<00:08, 252.96it/s, now=None]\u001b[A\n",
      "chunk:  14%|█▍        | 357/2489 [00:01<00:07, 286.70it/s, now=None]\u001b[A\n",
      "chunk:  16%|█▋        | 408/2489 [00:01<00:07, 278.44it/s, now=None]\u001b[A\n",
      "chunk:  18%|█▊        | 459/2489 [00:01<00:09, 218.26it/s, now=None]\u001b[A\n",
      "chunk:  20%|██        | 510/2489 [00:01<00:10, 196.90it/s, now=None]\u001b[A\n",
      "chunk:  23%|██▎       | 561/2489 [00:02<00:09, 199.52it/s, now=None]\u001b[A\n",
      "chunk:  25%|██▍       | 612/2489 [00:02<00:08, 214.69it/s, now=None]\u001b[A\n",
      "chunk:  27%|██▋       | 663/2489 [00:02<00:07, 237.16it/s, now=None]\u001b[A\n",
      "chunk:  29%|██▊       | 714/2489 [00:02<00:06, 269.86it/s, now=None]\u001b[A\n",
      "chunk:  31%|███       | 765/2489 [00:02<00:06, 264.23it/s, now=None]\u001b[A\n",
      "chunk:  33%|███▎      | 816/2489 [00:03<00:06, 256.59it/s, now=None]\u001b[A\n",
      "chunk:  35%|███▍      | 867/2489 [00:03<00:06, 265.21it/s, now=None]\u001b[A\n",
      "chunk:  37%|███▋      | 918/2489 [00:03<00:06, 229.73it/s, now=None]\u001b[A\n",
      "chunk:  39%|███▉      | 969/2489 [00:03<00:07, 190.94it/s, now=None]\u001b[A\n",
      "chunk:  41%|████      | 1020/2489 [00:04<00:09, 157.13it/s, now=None]\u001b[A\n",
      "chunk:  43%|████▎     | 1071/2489 [00:04<00:08, 159.98it/s, now=None]\u001b[A\n",
      "chunk:  45%|████▌     | 1122/2489 [00:04<00:07, 177.67it/s, now=None]\u001b[A\n",
      "chunk:  47%|████▋     | 1173/2489 [00:05<00:06, 189.19it/s, now=None]\u001b[A\n",
      "chunk:  49%|████▉     | 1224/2489 [00:05<00:05, 214.78it/s, now=None]\u001b[A\n",
      "chunk:  51%|█████     | 1275/2489 [00:05<00:05, 233.75it/s, now=None]\u001b[A\n",
      "chunk:  53%|█████▎    | 1326/2489 [00:05<00:05, 215.74it/s, now=None]\u001b[A\n",
      "chunk:  55%|█████▌    | 1377/2489 [00:06<00:04, 227.71it/s, now=None]\u001b[A\n",
      "chunk:  57%|█████▋    | 1428/2489 [00:06<00:04, 248.15it/s, now=None]\u001b[A\n",
      "chunk:  59%|█████▉    | 1479/2489 [00:06<00:03, 261.62it/s, now=None]\u001b[A\n",
      "chunk:  61%|██████▏   | 1530/2489 [00:06<00:03, 256.29it/s, now=None]\u001b[A\n",
      "chunk:  64%|██████▎   | 1581/2489 [00:06<00:03, 272.41it/s, now=None]\u001b[A\n",
      "chunk:  66%|██████▌   | 1632/2489 [00:06<00:03, 242.83it/s, now=None]\u001b[A\n",
      "chunk:  68%|██████▊   | 1683/2489 [00:07<00:03, 255.18it/s, now=None]\u001b[A\n",
      "chunk:  70%|██████▉   | 1734/2489 [00:07<00:03, 234.80it/s, now=None]\u001b[A\n",
      "chunk:  72%|███████▏  | 1785/2489 [00:07<00:03, 218.12it/s, now=None]\u001b[A\n",
      "chunk:  74%|███████▍  | 1836/2489 [00:07<00:02, 233.29it/s, now=None]\u001b[A\n",
      "chunk:  76%|███████▌  | 1887/2489 [00:08<00:02, 240.96it/s, now=None]\u001b[A\n",
      "chunk:  78%|███████▊  | 1938/2489 [00:08<00:02, 233.12it/s, now=None]\u001b[A\n",
      "chunk:  82%|████████▏ | 2035/2489 [00:08<00:01, 301.89it/s, now=None]\u001b[A\n",
      "chunk:  84%|████████▎ | 2081/2489 [00:08<00:01, 275.20it/s, now=None]\u001b[A\n",
      "chunk:  86%|████████▌ | 2142/2489 [00:08<00:01, 279.59it/s, now=None]\u001b[A\n",
      "chunk:  88%|████████▊ | 2193/2489 [00:09<00:01, 220.95it/s, now=None]\u001b[A\n",
      "chunk:  90%|█████████ | 2244/2489 [00:09<00:01, 218.99it/s, now=None]\u001b[A\n",
      "chunk:  92%|█████████▏| 2295/2489 [00:09<00:00, 242.16it/s, now=None]\u001b[A\n",
      "chunk:  94%|█████████▍| 2346/2489 [00:09<00:00, 287.41it/s, now=None]\u001b[A\n",
      "chunk:  97%|█████████▋| 2421/2489 [00:09<00:00, 352.60it/s, now=None]\u001b[A\n",
      "chunk:  99%|█████████▉| 2469/2489 [00:09<00:00, 357.81it/s, now=None]\u001b[A\n",
      "chunk:   1%|▏         | 29/2121 [7:13:54<521:40:40, 897.72s/it, now=None]"
     ]
    },
    {
     "name": "stdout",
     "output_type": "stream",
     "text": [
      "MoviePy - Done.\n"
     ]
    },
    {
     "name": "stderr",
     "output_type": "stream",
     "text": [
      "chunk:   1%|▏         | 29/2121 [7:13:54<521:41:36, 897.75s/it, now=None]\n",
      "chunk:   0%|          | 0/1430 [00:00<?, ?it/s, now=None]\u001b[A\n",
      "chunk:   7%|▋         | 102/1430 [00:00<00:01, 1004.31it/s, now=None]\u001b[A"
     ]
    },
    {
     "name": "stdout",
     "output_type": "stream",
     "text": [
      "MoviePy - Writing audio in /home/jupyter/datasets/amigos/audio/Exp1_P28_audio/P28_58_audio.wav\n"
     ]
    },
    {
     "name": "stderr",
     "output_type": "stream",
     "text": [
      "\n",
      "chunk:  11%|█         | 153/1430 [00:00<00:02, 474.94it/s, now=None] \u001b[A\n",
      "chunk:  14%|█▍        | 204/1430 [00:00<00:03, 371.27it/s, now=None]\u001b[A\n",
      "chunk:  18%|█▊        | 255/1430 [00:00<00:03, 326.83it/s, now=None]\u001b[A\n",
      "chunk:  21%|██▏       | 306/1430 [00:00<00:03, 318.79it/s, now=None]\u001b[A\n",
      "chunk:  25%|██▍       | 357/1430 [00:01<00:03, 308.79it/s, now=None]\u001b[A\n",
      "chunk:  29%|██▊       | 408/1430 [00:01<00:03, 324.08it/s, now=None]\u001b[A\n",
      "chunk:  32%|███▏      | 459/1430 [00:01<00:02, 353.05it/s, now=None]\u001b[A\n",
      "chunk:  36%|███▌      | 510/1430 [00:01<00:03, 278.35it/s, now=None]\u001b[A\n",
      "chunk:  39%|███▉      | 561/1430 [00:01<00:03, 284.20it/s, now=None]\u001b[A\n",
      "chunk:  43%|████▎     | 612/1430 [00:01<00:02, 298.01it/s, now=None]\u001b[A\n",
      "chunk:  46%|████▋     | 663/1430 [00:02<00:02, 339.53it/s, now=None]\u001b[A\n",
      "chunk:  50%|████▉     | 714/1430 [00:02<00:02, 346.31it/s, now=None]\u001b[A\n",
      "chunk:  53%|█████▎    | 765/1430 [00:02<00:01, 348.34it/s, now=None]\u001b[A\n",
      "chunk:  57%|█████▋    | 816/1430 [00:02<00:01, 340.16it/s, now=None]\u001b[A\n",
      "chunk:  61%|██████    | 867/1430 [00:02<00:01, 334.09it/s, now=None]\u001b[A\n",
      "chunk:  64%|██████▍   | 918/1430 [00:02<00:01, 311.63it/s, now=None]\u001b[A\n",
      "chunk:  68%|██████▊   | 969/1430 [00:03<00:01, 298.83it/s, now=None]\u001b[A\n",
      "chunk:  71%|███████▏  | 1020/1430 [00:03<00:01, 261.78it/s, now=None]\u001b[A\n",
      "chunk:  75%|███████▍  | 1071/1430 [00:03<00:01, 242.93it/s, now=None]\u001b[A\n",
      "chunk:  78%|███████▊  | 1122/1430 [00:03<00:01, 251.70it/s, now=None]\u001b[A\n",
      "chunk:  82%|████████▏ | 1173/1430 [00:03<00:00, 264.16it/s, now=None]\u001b[A\n",
      "chunk:  86%|████████▌ | 1224/1430 [00:04<00:00, 289.14it/s, now=None]\u001b[A\n",
      "chunk:  89%|████████▉ | 1275/1430 [00:04<00:00, 269.73it/s, now=None]\u001b[A\n",
      "chunk:  93%|█████████▎| 1326/1430 [00:04<00:00, 267.28it/s, now=None]\u001b[A\n",
      "chunk:  96%|█████████▋| 1377/1430 [00:04<00:00, 283.44it/s, now=None]\u001b[A\n",
      "chunk:   1%|▏         | 29/2121 [7:13:59<521:47:10, 897.91s/it, now=None]"
     ]
    },
    {
     "name": "stdout",
     "output_type": "stream",
     "text": [
      "MoviePy - Done.\n"
     ]
    },
    {
     "name": "stderr",
     "output_type": "stream",
     "text": [
      "chunk:   1%|▏         | 29/2121 [7:14:00<521:48:06, 897.94s/it, now=None]\n",
      "chunk:   0%|          | 0/2266 [00:00<?, ?it/s, now=None]\u001b[A\n",
      "chunk:   5%|▍         | 102/2266 [00:00<00:02, 842.67it/s, now=None]\u001b[A"
     ]
    },
    {
     "name": "stdout",
     "output_type": "stream",
     "text": [
      "MoviePy - Writing audio in /home/jupyter/datasets/amigos/audio/Exp1_P28_audio/P28_80_audio.wav\n"
     ]
    },
    {
     "name": "stderr",
     "output_type": "stream",
     "text": [
      "\n",
      "chunk:   7%|▋         | 153/2266 [00:00<00:04, 461.95it/s, now=None]\u001b[A\n",
      "chunk:   9%|▉         | 204/2266 [00:00<00:04, 419.30it/s, now=None]\u001b[A\n",
      "chunk:  11%|█▏        | 255/2266 [00:00<00:05, 376.77it/s, now=None]\u001b[A\n",
      "chunk:  14%|█▎        | 306/2266 [00:00<00:05, 390.96it/s, now=None]\u001b[A\n",
      "chunk:  16%|█▌        | 357/2266 [00:00<00:05, 344.70it/s, now=None]\u001b[A\n",
      "chunk:  18%|█▊        | 408/2266 [00:01<00:07, 235.18it/s, now=None]\u001b[A\n",
      "chunk:  20%|██        | 459/2266 [00:01<00:09, 184.07it/s, now=None]\u001b[A\n",
      "chunk:  23%|██▎       | 510/2266 [00:01<00:07, 227.60it/s, now=None]\u001b[A\n",
      "chunk:  25%|██▍       | 561/2266 [00:01<00:06, 265.65it/s, now=None]\u001b[A\n",
      "chunk:  27%|██▋       | 612/2266 [00:02<00:05, 279.18it/s, now=None]\u001b[A\n",
      "chunk:  29%|██▉       | 663/2266 [00:02<00:06, 244.81it/s, now=None]\u001b[A\n",
      "chunk:  32%|███▏      | 714/2266 [00:02<00:05, 260.41it/s, now=None]\u001b[A\n",
      "chunk:  34%|███▍      | 765/2266 [00:03<00:08, 176.48it/s, now=None]\u001b[A\n",
      "chunk:  36%|███▌      | 816/2266 [00:03<00:07, 189.43it/s, now=None]\u001b[A\n",
      "chunk:  38%|███▊      | 867/2266 [00:03<00:09, 141.98it/s, now=None]\u001b[A\n",
      "chunk:  41%|████      | 918/2266 [00:04<00:08, 150.36it/s, now=None]\u001b[A\n",
      "chunk:  43%|████▎     | 969/2266 [00:04<00:07, 167.33it/s, now=None]\u001b[A\n",
      "chunk:  45%|████▌     | 1020/2266 [00:04<00:06, 182.59it/s, now=None]\u001b[A\n",
      "chunk:  47%|████▋     | 1071/2266 [00:04<00:06, 189.08it/s, now=None]\u001b[A\n",
      "chunk:  50%|████▉     | 1122/2266 [00:04<00:05, 225.11it/s, now=None]\u001b[A\n",
      "chunk:  52%|█████▏    | 1173/2266 [00:05<00:04, 221.54it/s, now=None]\u001b[A\n",
      "chunk:  54%|█████▍    | 1224/2266 [00:05<00:04, 235.89it/s, now=None]\u001b[A\n",
      "chunk:  56%|█████▋    | 1275/2266 [00:05<00:04, 220.30it/s, now=None]\u001b[A\n",
      "chunk:  61%|██████    | 1377/2266 [00:05<00:03, 260.39it/s, now=None]\u001b[A\n",
      "chunk:  63%|██████▎   | 1428/2266 [00:06<00:02, 282.98it/s, now=None]\u001b[A\n",
      "chunk:  65%|██████▌   | 1479/2266 [00:06<00:02, 289.34it/s, now=None]\u001b[A\n",
      "chunk:  68%|██████▊   | 1530/2266 [00:06<00:02, 326.07it/s, now=None]\u001b[A\n",
      "chunk:  70%|██████▉   | 1581/2266 [00:06<00:02, 252.57it/s, now=None]\u001b[A\n",
      "chunk:  72%|███████▏  | 1636/2266 [00:06<00:02, 301.39it/s, now=None]\u001b[A\n",
      "chunk:  74%|███████▍  | 1683/2266 [00:06<00:02, 283.74it/s, now=None]\u001b[A\n",
      "chunk:  77%|███████▋  | 1734/2266 [00:07<00:01, 277.73it/s, now=None]\u001b[A\n",
      "chunk:  79%|███████▉  | 1785/2266 [00:07<00:02, 230.57it/s, now=None]\u001b[A\n",
      "chunk:  81%|████████  | 1836/2266 [00:07<00:01, 260.06it/s, now=None]\u001b[A\n",
      "chunk:  83%|████████▎ | 1887/2266 [00:07<00:01, 253.72it/s, now=None]\u001b[A\n",
      "chunk:  86%|████████▌ | 1938/2266 [00:08<00:01, 235.16it/s, now=None]\u001b[A\n",
      "chunk:  88%|████████▊ | 1989/2266 [00:08<00:01, 242.28it/s, now=None]\u001b[A\n",
      "chunk:  90%|█████████ | 2040/2266 [00:08<00:01, 200.94it/s, now=None]\u001b[A\n",
      "chunk:  92%|█████████▏| 2091/2266 [00:08<00:00, 198.22it/s, now=None]\u001b[A\n",
      "chunk:  95%|█████████▍| 2142/2266 [00:09<00:00, 205.51it/s, now=None]\u001b[A\n",
      "chunk:  97%|█████████▋| 2193/2266 [00:09<00:00, 206.56it/s, now=None]\u001b[A\n",
      "chunk:  99%|█████████▉| 2244/2266 [00:09<00:00, 238.03it/s, now=None]\u001b[A\n",
      "chunk:   1%|▏         | 29/2121 [7:14:09<521:59:30, 898.27s/it, now=None]"
     ]
    },
    {
     "name": "stdout",
     "output_type": "stream",
     "text": [
      "MoviePy - Done.\n"
     ]
    },
    {
     "name": "stderr",
     "output_type": "stream",
     "text": [
      "chunk:   1%|▏         | 29/2121 [7:14:10<522:00:28, 898.29s/it, now=None]\n",
      "chunk:   0%|          | 0/1682 [00:00<?, ?it/s, now=None]\u001b[A\n",
      "chunk:   6%|▌         | 102/1682 [00:00<00:02, 646.27it/s, now=None]\u001b[A"
     ]
    },
    {
     "name": "stdout",
     "output_type": "stream",
     "text": [
      "MoviePy - Writing audio in /home/jupyter/datasets/amigos/audio/Exp1_P28_audio/P28_9_audio.wav\n"
     ]
    },
    {
     "name": "stderr",
     "output_type": "stream",
     "text": [
      "\n",
      "chunk:  12%|█▏        | 198/1682 [00:00<00:02, 716.22it/s, now=None]\u001b[A\n",
      "chunk:  14%|█▍        | 241/1682 [00:00<00:03, 366.37it/s, now=None]\u001b[A\n",
      "chunk:  16%|█▋        | 276/1682 [00:00<00:04, 315.11it/s, now=None]\u001b[A\n",
      "chunk:  18%|█▊        | 308/1682 [00:00<00:04, 287.08it/s, now=None]\u001b[A\n",
      "chunk:  21%|██        | 357/1682 [00:01<00:04, 267.34it/s, now=None]\u001b[A\n",
      "chunk:  24%|██▍       | 408/1682 [00:01<00:04, 301.63it/s, now=None]\u001b[A\n",
      "chunk:  27%|██▋       | 459/1682 [00:01<00:03, 319.24it/s, now=None]\u001b[A\n",
      "chunk:  30%|███       | 510/1682 [00:01<00:04, 258.06it/s, now=None]\u001b[A\n",
      "chunk:  36%|███▋      | 612/1682 [00:01<00:03, 306.09it/s, now=None]\u001b[A\n",
      "chunk:  39%|███▉      | 663/1682 [00:01<00:03, 307.16it/s, now=None]\u001b[A\n",
      "chunk:  42%|████▏     | 714/1682 [00:02<00:03, 307.51it/s, now=None]\u001b[A\n",
      "chunk:  45%|████▌     | 765/1682 [00:02<00:03, 248.00it/s, now=None]\u001b[A\n",
      "chunk:  49%|████▊     | 816/1682 [00:02<00:03, 245.06it/s, now=None]\u001b[A\n",
      "chunk:  52%|█████▏    | 867/1682 [00:02<00:03, 225.68it/s, now=None]\u001b[A\n",
      "chunk:  55%|█████▍    | 918/1682 [00:03<00:03, 216.15it/s, now=None]\u001b[A\n",
      "chunk:  58%|█████▊    | 969/1682 [00:03<00:02, 239.29it/s, now=None]\u001b[A\n",
      "chunk:  61%|██████    | 1020/1682 [00:03<00:02, 240.54it/s, now=None]\u001b[A\n",
      "chunk:  64%|██████▎   | 1071/1682 [00:03<00:02, 259.21it/s, now=None]\u001b[A\n",
      "chunk:  67%|██████▋   | 1122/1682 [00:03<00:02, 217.20it/s, now=None]\u001b[A\n",
      "chunk:  70%|██████▉   | 1173/1682 [00:04<00:02, 173.97it/s, now=None]\u001b[A\n",
      "chunk:  73%|███████▎  | 1224/1682 [00:04<00:02, 185.62it/s, now=None]\u001b[A\n",
      "chunk:  76%|███████▌  | 1275/1682 [00:04<00:01, 218.10it/s, now=None]\u001b[A\n",
      "chunk:  79%|███████▉  | 1326/1682 [00:04<00:01, 249.22it/s, now=None]\u001b[A\n",
      "chunk:  82%|████████▏ | 1377/1682 [00:05<00:01, 270.86it/s, now=None]\u001b[A\n",
      "chunk:  85%|████████▍ | 1428/1682 [00:05<00:00, 291.90it/s, now=None]\u001b[A\n",
      "chunk:  88%|████████▊ | 1479/1682 [00:05<00:00, 290.18it/s, now=None]\u001b[A\n",
      "chunk:  91%|█████████ | 1530/1682 [00:05<00:00, 242.59it/s, now=None]\u001b[A\n",
      "chunk:  94%|█████████▍| 1581/1682 [00:05<00:00, 223.06it/s, now=None]\u001b[A\n",
      "chunk:  97%|█████████▋| 1632/1682 [00:06<00:00, 185.02it/s, now=None]\u001b[A\n",
      "chunk:   1%|▏         | 29/2121 [7:14:16<522:08:06, 898.51s/it, now=None]"
     ]
    },
    {
     "name": "stdout",
     "output_type": "stream",
     "text": [
      "MoviePy - Done.\n"
     ]
    },
    {
     "name": "stderr",
     "output_type": "stream",
     "text": [
      "chunk:   1%|▏         | 29/2121 [7:14:17<522:09:13, 898.54s/it, now=None]\n",
      "chunk:   0%|          | 0/2118 [00:00<?, ?it/s, now=None]\u001b[A\n",
      "chunk:   7%|▋         | 152/2118 [00:00<00:01, 1518.35it/s, now=None]\u001b[A"
     ]
    },
    {
     "name": "stdout",
     "output_type": "stream",
     "text": [
      "MoviePy - Writing audio in /home/jupyter/datasets/amigos/audio/Exp1_P29_audio/P29_10_audio.wav\n"
     ]
    },
    {
     "name": "stderr",
     "output_type": "stream",
     "text": [
      "\n",
      "chunk:   9%|▉         | 198/2118 [00:00<00:02, 783.96it/s, now=None] \u001b[A\n",
      "chunk:  11%|█▏        | 241/2118 [00:00<00:04, 457.04it/s, now=None]\u001b[A\n",
      "chunk:  13%|█▎        | 279/2118 [00:00<00:05, 343.65it/s, now=None]\u001b[A\n",
      "chunk:  15%|█▍        | 312/2118 [00:00<00:05, 304.07it/s, now=None]\u001b[A\n",
      "chunk:  17%|█▋        | 357/2118 [00:00<00:07, 249.04it/s, now=None]\u001b[A\n",
      "chunk:  19%|█▉        | 408/2118 [00:01<00:07, 239.21it/s, now=None]\u001b[A\n",
      "chunk:  22%|██▏       | 459/2118 [00:01<00:07, 232.30it/s, now=None]\u001b[A\n",
      "chunk:  24%|██▍       | 510/2118 [00:01<00:07, 225.56it/s, now=None]\u001b[A\n",
      "chunk:  26%|██▋       | 561/2118 [00:01<00:05, 261.97it/s, now=None]\u001b[A\n",
      "chunk:  29%|██▉       | 612/2118 [00:01<00:05, 268.40it/s, now=None]\u001b[A\n",
      "chunk:  31%|███▏      | 663/2118 [00:02<00:04, 296.71it/s, now=None]\u001b[A\n",
      "chunk:  34%|███▎      | 714/2118 [00:02<00:04, 303.98it/s, now=None]\u001b[A\n",
      "chunk:  36%|███▌      | 765/2118 [00:02<00:04, 321.21it/s, now=None]\u001b[A\n",
      "chunk:  39%|███▊      | 816/2118 [00:02<00:04, 293.37it/s, now=None]\u001b[A\n",
      "chunk:  41%|████      | 867/2118 [00:02<00:03, 334.21it/s, now=None]\u001b[A\n",
      "chunk:  43%|████▎     | 918/2118 [00:02<00:04, 292.66it/s, now=None]\u001b[A\n",
      "chunk:  46%|████▌     | 969/2118 [00:03<00:05, 224.58it/s, now=None]\u001b[A\n",
      "chunk:  48%|████▊     | 1020/2118 [00:03<00:04, 228.69it/s, now=None]\u001b[A\n",
      "chunk:  51%|█████     | 1071/2118 [00:03<00:04, 232.27it/s, now=None]\u001b[A\n",
      "chunk:  53%|█████▎    | 1122/2118 [00:03<00:03, 266.53it/s, now=None]\u001b[A\n",
      "chunk:  55%|█████▌    | 1173/2118 [00:03<00:03, 299.62it/s, now=None]\u001b[A\n",
      "chunk:  58%|█████▊    | 1224/2118 [00:04<00:03, 277.48it/s, now=None]\u001b[A\n",
      "chunk:  60%|██████    | 1275/2118 [00:04<00:03, 234.93it/s, now=None]\u001b[A\n",
      "chunk:  63%|██████▎   | 1326/2118 [00:04<00:03, 251.77it/s, now=None]\u001b[A\n",
      "chunk:  65%|██████▌   | 1377/2118 [00:04<00:02, 272.98it/s, now=None]\u001b[A\n",
      "chunk:  67%|██████▋   | 1428/2118 [00:04<00:02, 291.70it/s, now=None]\u001b[A\n",
      "chunk:  70%|██████▉   | 1479/2118 [00:05<00:02, 252.25it/s, now=None]\u001b[A\n",
      "chunk:  72%|███████▏  | 1530/2118 [00:05<00:02, 272.01it/s, now=None]\u001b[A\n",
      "chunk:  75%|███████▍  | 1581/2118 [00:05<00:01, 287.22it/s, now=None]\u001b[A\n",
      "chunk:  79%|███████▉  | 1683/2118 [00:05<00:01, 333.95it/s, now=None]\u001b[A\n",
      "chunk:  82%|████████▏ | 1734/2118 [00:05<00:01, 275.16it/s, now=None]\u001b[A\n",
      "chunk:  84%|████████▍ | 1785/2118 [00:06<00:01, 249.31it/s, now=None]\u001b[A\n",
      "chunk:  87%|████████▋ | 1836/2118 [00:06<00:01, 246.43it/s, now=None]\u001b[A\n",
      "chunk:  89%|████████▉ | 1887/2118 [00:06<00:00, 270.25it/s, now=None]\u001b[A\n",
      "chunk:  92%|█████████▏| 1938/2118 [00:06<00:00, 297.55it/s, now=None]\u001b[A\n",
      "chunk:  94%|█████████▍| 1989/2118 [00:06<00:00, 291.90it/s, now=None]\u001b[A\n",
      "chunk:  96%|█████████▋| 2040/2118 [00:07<00:00, 221.79it/s, now=None]\u001b[A\n",
      "chunk:   1%|▏         | 29/2121 [7:14:25<522:18:05, 898.80s/it, now=None]"
     ]
    },
    {
     "name": "stdout",
     "output_type": "stream",
     "text": [
      "MoviePy - Done.\n"
     ]
    },
    {
     "name": "stderr",
     "output_type": "stream",
     "text": [
      "chunk:   1%|▏         | 29/2121 [7:14:25<522:18:59, 898.82s/it, now=None]\n",
      "chunk:   0%|          | 0/1261 [00:00<?, ?it/s, now=None]\u001b[A\n",
      "chunk:   8%|▊         | 102/1261 [00:00<00:01, 965.00it/s, now=None]\u001b[A"
     ]
    },
    {
     "name": "stdout",
     "output_type": "stream",
     "text": [
      "MoviePy - Writing audio in /home/jupyter/datasets/amigos/audio/Exp1_P29_audio/P29_13_audio.wav\n"
     ]
    },
    {
     "name": "stderr",
     "output_type": "stream",
     "text": [
      "\n",
      "chunk:  12%|█▏        | 153/1261 [00:00<00:01, 629.18it/s, now=None]\u001b[A\n",
      "chunk:  16%|█▌        | 204/1261 [00:00<00:02, 507.62it/s, now=None]\u001b[A\n",
      "chunk:  20%|██        | 255/1261 [00:00<00:02, 378.61it/s, now=None]\u001b[A\n",
      "chunk:  24%|██▍       | 306/1261 [00:00<00:03, 311.31it/s, now=None]\u001b[A\n",
      "chunk:  28%|██▊       | 357/1261 [00:00<00:02, 340.80it/s, now=None]\u001b[A\n",
      "chunk:  32%|███▏      | 408/1261 [00:01<00:02, 336.96it/s, now=None]\u001b[A\n",
      "chunk:  36%|███▋      | 459/1261 [00:01<00:02, 280.51it/s, now=None]\u001b[A\n",
      "chunk:  40%|████      | 510/1261 [00:01<00:02, 287.94it/s, now=None]\u001b[A\n",
      "chunk:  44%|████▍     | 561/1261 [00:01<00:02, 309.11it/s, now=None]\u001b[A\n",
      "chunk:  49%|████▊     | 612/1261 [00:02<00:03, 210.74it/s, now=None]\u001b[A\n",
      "chunk:  53%|█████▎    | 663/1261 [00:02<00:02, 231.94it/s, now=None]\u001b[A\n",
      "chunk:  57%|█████▋    | 714/1261 [00:02<00:02, 250.16it/s, now=None]\u001b[A\n",
      "chunk:  61%|██████    | 765/1261 [00:02<00:02, 240.36it/s, now=None]\u001b[A\n",
      "chunk:  65%|██████▍   | 816/1261 [00:02<00:01, 229.50it/s, now=None]\u001b[A\n",
      "chunk:  69%|██████▉   | 867/1261 [00:03<00:01, 239.87it/s, now=None]\u001b[A\n",
      "chunk:  73%|███████▎  | 918/1261 [00:03<00:01, 241.84it/s, now=None]\u001b[A\n",
      "chunk:  77%|███████▋  | 969/1261 [00:03<00:01, 248.63it/s, now=None]\u001b[A\n",
      "chunk:  84%|████████▎ | 1056/1261 [00:03<00:00, 316.37it/s, now=None]\u001b[A\n",
      "chunk:  87%|████████▋ | 1100/1261 [00:03<00:00, 335.92it/s, now=None]\u001b[A\n",
      "chunk:  91%|█████████ | 1143/1261 [00:03<00:00, 312.99it/s, now=None]\u001b[A\n",
      "chunk:  94%|█████████▎| 1181/1261 [00:04<00:00, 294.25it/s, now=None]\u001b[A\n",
      "chunk:   1%|▏         | 29/2121 [7:14:30<522:23:56, 898.97s/it, now=None]"
     ]
    },
    {
     "name": "stdout",
     "output_type": "stream",
     "text": [
      "MoviePy - Done.\n"
     ]
    },
    {
     "name": "stderr",
     "output_type": "stream",
     "text": [
      "chunk:   1%|▏         | 29/2121 [7:14:30<522:25:00, 899.00s/it, now=None]\n",
      "chunk:   0%|          | 0/2703 [00:00<?, ?it/s, now=None]\u001b[A"
     ]
    },
    {
     "name": "stdout",
     "output_type": "stream",
     "text": [
      "MoviePy - Writing audio in /home/jupyter/datasets/amigos/audio/Exp1_P29_audio/P29_138_audio.wav\n"
     ]
    },
    {
     "name": "stderr",
     "output_type": "stream",
     "text": [
      "\n",
      "chunk:   4%|▍         | 102/2703 [00:00<00:06, 420.54it/s, now=None]\u001b[A\n",
      "chunk:   6%|▌         | 153/2703 [00:00<00:07, 345.13it/s, now=None]\u001b[A\n",
      "chunk:   8%|▊         | 204/2703 [00:00<00:08, 298.67it/s, now=None]\u001b[A\n",
      "chunk:   9%|▉         | 255/2703 [00:00<00:08, 298.99it/s, now=None]\u001b[A\n",
      "chunk:  11%|█▏        | 306/2703 [00:01<00:07, 307.98it/s, now=None]\u001b[A\n",
      "chunk:  13%|█▎        | 357/2703 [00:01<00:06, 340.34it/s, now=None]\u001b[A\n",
      "chunk:  16%|█▋        | 440/2703 [00:01<00:05, 413.43it/s, now=None]\u001b[A\n",
      "chunk:  18%|█▊        | 487/2703 [00:01<00:06, 333.29it/s, now=None]\u001b[A\n",
      "chunk:  19%|█▉        | 527/2703 [00:01<00:07, 299.36it/s, now=None]\u001b[A\n",
      "chunk:  21%|██        | 572/2703 [00:01<00:06, 332.70it/s, now=None]\u001b[A\n",
      "chunk:  23%|██▎       | 612/2703 [00:01<00:07, 287.05it/s, now=None]\u001b[A\n",
      "chunk:  26%|██▋       | 714/2703 [00:02<00:06, 328.68it/s, now=None]\u001b[A\n",
      "chunk:  28%|██▊       | 765/2703 [00:02<00:05, 344.58it/s, now=None]\u001b[A\n",
      "chunk:  30%|███       | 816/2703 [00:02<00:05, 335.28it/s, now=None]\u001b[A\n",
      "chunk:  32%|███▏      | 867/2703 [00:02<00:05, 356.82it/s, now=None]\u001b[A\n",
      "chunk:  34%|███▍      | 918/2703 [00:02<00:05, 343.00it/s, now=None]\u001b[A\n",
      "chunk:  36%|███▌      | 975/2703 [00:02<00:04, 389.45it/s, now=None]\u001b[A\n",
      "chunk:  38%|███▊      | 1020/2703 [00:02<00:04, 361.35it/s, now=None]\u001b[A\n",
      "chunk:  40%|███▉      | 1071/2703 [00:03<00:04, 374.86it/s, now=None]\u001b[A\n",
      "chunk:  42%|████▏     | 1122/2703 [00:03<00:04, 390.40it/s, now=None]\u001b[A\n",
      "chunk:  43%|████▎     | 1173/2703 [00:03<00:04, 368.92it/s, now=None]\u001b[A\n",
      "chunk:  47%|████▋     | 1269/2703 [00:03<00:03, 452.40it/s, now=None]\u001b[A\n",
      "chunk:  49%|████▉     | 1326/2703 [00:03<00:03, 397.36it/s, now=None]\u001b[A\n",
      "chunk:  51%|█████     | 1378/2703 [00:03<00:03, 427.53it/s, now=None]\u001b[A\n",
      "chunk:  53%|█████▎    | 1428/2703 [00:03<00:03, 347.12it/s, now=None]\u001b[A\n",
      "chunk:  55%|█████▍    | 1479/2703 [00:04<00:04, 290.65it/s, now=None]\u001b[A\n",
      "chunk:  57%|█████▋    | 1530/2703 [00:04<00:03, 303.31it/s, now=None]\u001b[A\n",
      "chunk:  58%|█████▊    | 1581/2703 [00:04<00:03, 313.35it/s, now=None]\u001b[A\n",
      "chunk:  60%|██████    | 1632/2703 [00:04<00:03, 314.27it/s, now=None]\u001b[A\n",
      "chunk:  62%|██████▏   | 1683/2703 [00:04<00:03, 307.96it/s, now=None]\u001b[A\n",
      "chunk:  64%|██████▍   | 1734/2703 [00:04<00:03, 305.31it/s, now=None]\u001b[A\n",
      "chunk:  66%|██████▌   | 1785/2703 [00:05<00:02, 312.43it/s, now=None]\u001b[A\n",
      "chunk:  68%|██████▊   | 1836/2703 [00:05<00:02, 343.32it/s, now=None]\u001b[A\n",
      "chunk:  70%|██████▉   | 1887/2703 [00:05<00:03, 253.86it/s, now=None]\u001b[A\n",
      "chunk:  72%|███████▏  | 1938/2703 [00:05<00:02, 298.84it/s, now=None]\u001b[A\n",
      "chunk:  74%|███████▎  | 1989/2703 [00:05<00:02, 292.33it/s, now=None]\u001b[A\n",
      "chunk:  75%|███████▌  | 2040/2703 [00:05<00:02, 324.76it/s, now=None]\u001b[A\n",
      "chunk:  79%|███████▉  | 2142/2703 [00:06<00:01, 357.10it/s, now=None]\u001b[A\n",
      "chunk:  81%|████████  | 2193/2703 [00:06<00:01, 359.83it/s, now=None]\u001b[A\n",
      "chunk:  83%|████████▎ | 2244/2703 [00:06<00:01, 323.32it/s, now=None]\u001b[A\n",
      "chunk:  85%|████████▍ | 2295/2703 [00:06<00:01, 244.02it/s, now=None]\u001b[A\n",
      "chunk:  87%|████████▋ | 2346/2703 [00:06<00:01, 264.36it/s, now=None]\u001b[A\n",
      "chunk:  89%|████████▊ | 2397/2703 [00:07<00:01, 284.07it/s, now=None]\u001b[A\n",
      "chunk:  91%|█████████ | 2448/2703 [00:07<00:00, 261.74it/s, now=None]\u001b[A\n",
      "chunk:  92%|█████████▏| 2499/2703 [00:07<00:00, 236.19it/s, now=None]\u001b[A\n",
      "chunk:  94%|█████████▍| 2550/2703 [00:07<00:00, 242.36it/s, now=None]\u001b[A\n",
      "chunk:  96%|█████████▌| 2601/2703 [00:08<00:00, 231.59it/s, now=None]\u001b[A\n",
      "chunk:  98%|█████████▊| 2652/2703 [00:08<00:00, 252.19it/s, now=None]\u001b[A\n",
      "chunk:   1%|▏         | 29/2121 [7:14:39<522:35:02, 899.28s/it, now=None]"
     ]
    },
    {
     "name": "stdout",
     "output_type": "stream",
     "text": [
      "MoviePy - Done.\n"
     ]
    },
    {
     "name": "stderr",
     "output_type": "stream",
     "text": [
      "chunk:   1%|▏         | 29/2121 [7:14:39<522:35:52, 899.31s/it, now=None]\n",
      "chunk:   0%|          | 0/1835 [00:00<?, ?it/s, now=None]\u001b[A\n",
      "chunk:   6%|▌         | 102/1835 [00:00<00:02, 707.19it/s, now=None]\u001b[A"
     ]
    },
    {
     "name": "stdout",
     "output_type": "stream",
     "text": [
      "MoviePy - Writing audio in /home/jupyter/datasets/amigos/audio/Exp1_P29_audio/P29_18_audio.wav\n"
     ]
    },
    {
     "name": "stderr",
     "output_type": "stream",
     "text": [
      "\n",
      "chunk:   8%|▊         | 153/1835 [00:00<00:07, 226.42it/s, now=None]\u001b[A\n",
      "chunk:  11%|█         | 204/1835 [00:00<00:07, 217.39it/s, now=None]\u001b[A\n",
      "chunk:  14%|█▍        | 255/1835 [00:01<00:07, 197.65it/s, now=None]\u001b[A\n",
      "chunk:  17%|█▋        | 306/1835 [00:01<00:06, 226.24it/s, now=None]\u001b[A\n",
      "chunk:  19%|█▉        | 357/1835 [00:01<00:05, 270.83it/s, now=None]\u001b[A\n",
      "chunk:  22%|██▏       | 408/1835 [00:01<00:05, 280.42it/s, now=None]\u001b[A\n",
      "chunk:  25%|██▌       | 459/1835 [00:01<00:04, 296.57it/s, now=None]\u001b[A\n",
      "chunk:  30%|███       | 559/1835 [00:01<00:03, 375.89it/s, now=None]\u001b[A\n",
      "chunk:  33%|███▎      | 612/1835 [00:02<00:03, 387.86it/s, now=None]\u001b[A\n",
      "chunk:  39%|███▉      | 714/1835 [00:02<00:02, 445.10it/s, now=None]\u001b[A\n",
      "chunk:  44%|████▍     | 816/1835 [00:02<00:02, 384.84it/s, now=None]\u001b[A\n",
      "chunk:  47%|████▋     | 867/1835 [00:02<00:03, 309.42it/s, now=None]\u001b[A\n",
      "chunk:  50%|█████     | 918/1835 [00:03<00:03, 246.53it/s, now=None]\u001b[A\n",
      "chunk:  53%|█████▎    | 969/1835 [00:03<00:04, 203.64it/s, now=None]\u001b[A\n",
      "chunk:  56%|█████▌    | 1020/1835 [00:03<00:03, 247.95it/s, now=None]\u001b[A\n",
      "chunk:  58%|█████▊    | 1071/1835 [00:03<00:03, 200.25it/s, now=None]\u001b[A\n",
      "chunk:  61%|██████    | 1122/1835 [00:04<00:03, 219.83it/s, now=None]\u001b[A\n",
      "chunk:  64%|██████▍   | 1173/1835 [00:04<00:02, 252.41it/s, now=None]\u001b[A\n",
      "chunk:  67%|██████▋   | 1224/1835 [00:04<00:02, 234.42it/s, now=None]\u001b[A\n",
      "chunk:  69%|██████▉   | 1275/1835 [00:04<00:02, 252.55it/s, now=None]\u001b[A\n",
      "chunk:  72%|███████▏  | 1326/1835 [00:04<00:01, 270.14it/s, now=None]\u001b[A\n",
      "chunk:  75%|███████▌  | 1377/1835 [00:05<00:01, 274.79it/s, now=None]\u001b[A\n",
      "chunk:  78%|███████▊  | 1428/1835 [00:05<00:01, 289.86it/s, now=None]\u001b[A\n",
      "chunk:  81%|████████  | 1479/1835 [00:05<00:01, 290.89it/s, now=None]\u001b[A\n",
      "chunk:  83%|████████▎ | 1530/1835 [00:05<00:01, 277.33it/s, now=None]\u001b[A\n",
      "chunk:  86%|████████▌ | 1581/1835 [00:05<00:00, 267.70it/s, now=None]\u001b[A\n",
      "chunk:  89%|████████▉ | 1632/1835 [00:05<00:00, 274.76it/s, now=None]\u001b[A\n",
      "chunk:  94%|█████████▍| 1734/1835 [00:06<00:00, 310.50it/s, now=None]\u001b[A\n",
      "chunk:  97%|█████████▋| 1785/1835 [00:06<00:00, 330.44it/s, now=None]\u001b[A\n",
      "chunk:   1%|▏         | 29/2121 [7:14:46<522:43:29, 899.53s/it, now=None]"
     ]
    },
    {
     "name": "stdout",
     "output_type": "stream",
     "text": [
      "MoviePy - Done.\n"
     ]
    },
    {
     "name": "stderr",
     "output_type": "stream",
     "text": [
      "chunk:   1%|▏         | 29/2121 [7:14:47<522:44:27, 899.55s/it, now=None]\n",
      "chunk:   0%|          | 0/2796 [00:00<?, ?it/s, now=None]\u001b[A\n",
      "chunk:   5%|▌         | 153/2796 [00:00<00:02, 895.34it/s, now=None]\u001b[A"
     ]
    },
    {
     "name": "stdout",
     "output_type": "stream",
     "text": [
      "MoviePy - Writing audio in /home/jupyter/datasets/amigos/audio/Exp1_P29_audio/P29_19_audio.wav\n"
     ]
    },
    {
     "name": "stderr",
     "output_type": "stream",
     "text": [
      "\n",
      "chunk:   7%|▋         | 204/2796 [00:00<00:04, 530.84it/s, now=None]\u001b[A\n",
      "chunk:   9%|▉         | 255/2796 [00:00<00:05, 456.21it/s, now=None]\u001b[A\n",
      "chunk:  11%|█         | 306/2796 [00:00<00:06, 412.12it/s, now=None]\u001b[A\n",
      "chunk:  13%|█▎        | 357/2796 [00:00<00:05, 418.78it/s, now=None]\u001b[A\n",
      "chunk:  15%|█▍        | 408/2796 [00:00<00:06, 394.36it/s, now=None]\u001b[A\n",
      "chunk:  16%|█▋        | 459/2796 [00:01<00:06, 356.02it/s, now=None]\u001b[A\n",
      "chunk:  18%|█▊        | 510/2796 [00:01<00:06, 352.69it/s, now=None]\u001b[A\n",
      "chunk:  21%|██        | 589/2796 [00:01<00:05, 422.88it/s, now=None]\u001b[A\n",
      "chunk:  23%|██▎       | 637/2796 [00:01<00:05, 404.56it/s, now=None]\u001b[A\n",
      "chunk:  24%|██▍       | 681/2796 [00:01<00:06, 331.45it/s, now=None]\u001b[A\n",
      "chunk:  26%|██▌       | 719/2796 [00:01<00:06, 323.60it/s, now=None]\u001b[A\n",
      "chunk:  29%|██▉       | 816/2796 [00:01<00:05, 357.04it/s, now=None]\u001b[A\n",
      "chunk:  31%|███       | 867/2796 [00:02<00:05, 338.98it/s, now=None]\u001b[A\n",
      "chunk:  33%|███▎      | 918/2796 [00:02<00:06, 282.67it/s, now=None]\u001b[A\n",
      "chunk:  35%|███▍      | 969/2796 [00:02<00:05, 322.14it/s, now=None]\u001b[A\n",
      "chunk:  36%|███▋      | 1020/2796 [00:02<00:05, 307.25it/s, now=None]\u001b[A\n",
      "chunk:  38%|███▊      | 1071/2796 [00:02<00:05, 323.37it/s, now=None]\u001b[A\n",
      "chunk:  40%|████      | 1122/2796 [00:03<00:05, 280.75it/s, now=None]\u001b[A\n",
      "chunk:  42%|████▏     | 1173/2796 [00:03<00:05, 306.71it/s, now=None]\u001b[A\n",
      "chunk:  46%|████▌     | 1275/2796 [00:03<00:04, 347.80it/s, now=None]\u001b[A\n",
      "chunk:  47%|████▋     | 1326/2796 [00:03<00:04, 330.80it/s, now=None]\u001b[A\n",
      "chunk:  49%|████▉     | 1377/2796 [00:03<00:04, 320.00it/s, now=None]\u001b[A\n",
      "chunk:  51%|█████     | 1428/2796 [00:03<00:04, 337.03it/s, now=None]\u001b[A\n",
      "chunk:  53%|█████▎    | 1479/2796 [00:04<00:03, 343.98it/s, now=None]\u001b[A\n",
      "chunk:  55%|█████▍    | 1530/2796 [00:04<00:03, 352.70it/s, now=None]\u001b[A\n",
      "chunk:  57%|█████▋    | 1581/2796 [00:04<00:03, 369.40it/s, now=None]\u001b[A\n",
      "chunk:  58%|█████▊    | 1632/2796 [00:04<00:03, 360.14it/s, now=None]\u001b[A\n",
      "chunk:  60%|██████    | 1683/2796 [00:04<00:03, 347.54it/s, now=None]\u001b[A\n",
      "chunk:  62%|██████▏   | 1734/2796 [00:04<00:03, 337.49it/s, now=None]\u001b[A\n",
      "chunk:  66%|██████▌   | 1836/2796 [00:04<00:02, 363.56it/s, now=None]\u001b[A\n",
      "chunk:  67%|██████▋   | 1887/2796 [00:05<00:02, 314.33it/s, now=None]\u001b[A\n",
      "chunk:  71%|███████   | 1986/2796 [00:05<00:02, 395.20it/s, now=None]\u001b[A\n",
      "chunk:  73%|███████▎  | 2039/2796 [00:05<00:02, 363.22it/s, now=None]\u001b[A\n",
      "chunk:  75%|███████▍  | 2091/2796 [00:05<00:02, 315.42it/s, now=None]\u001b[A\n",
      "chunk:  77%|███████▋  | 2142/2796 [00:05<00:01, 331.62it/s, now=None]\u001b[A\n",
      "chunk:  79%|███████▊  | 2200/2796 [00:05<00:01, 380.40it/s, now=None]\u001b[A\n",
      "chunk:  80%|████████  | 2245/2796 [00:06<00:01, 372.66it/s, now=None]\u001b[A\n",
      "chunk:  82%|████████▏ | 2295/2796 [00:06<00:01, 386.19it/s, now=None]\u001b[A\n",
      "chunk:  84%|████████▍ | 2346/2796 [00:06<00:01, 363.61it/s, now=None]\u001b[A\n",
      "chunk:  86%|████████▌ | 2397/2796 [00:06<00:01, 354.22it/s, now=None]\u001b[A\n",
      "chunk:  88%|████████▊ | 2448/2796 [00:06<00:00, 358.66it/s, now=None]\u001b[A\n",
      "chunk:  89%|████████▉ | 2499/2796 [00:06<00:00, 347.26it/s, now=None]\u001b[A\n",
      "chunk:  91%|█████████ | 2550/2796 [00:06<00:00, 330.95it/s, now=None]\u001b[A\n",
      "chunk:  93%|█████████▎| 2601/2796 [00:07<00:00, 292.25it/s, now=None]\u001b[A\n",
      "chunk:  95%|█████████▍| 2652/2796 [00:07<00:00, 221.46it/s, now=None]\u001b[A\n",
      "chunk:  97%|█████████▋| 2703/2796 [00:07<00:00, 256.94it/s, now=None]\u001b[A\n",
      "chunk:  98%|█████████▊| 2754/2796 [00:07<00:00, 297.13it/s, now=None]\u001b[A\n",
      "chunk:   1%|▏         | 29/2121 [7:14:54<522:53:50, 899.82s/it, now=None]"
     ]
    },
    {
     "name": "stdout",
     "output_type": "stream",
     "text": [
      "MoviePy - Done.\n"
     ]
    },
    {
     "name": "stderr",
     "output_type": "stream",
     "text": [
      "chunk:   1%|▏         | 29/2121 [7:14:55<522:54:51, 899.85s/it, now=None]\n",
      "chunk:   0%|          | 0/1454 [00:00<?, ?it/s, now=None]\u001b[A\n",
      "chunk:  10%|▉         | 142/1454 [00:00<00:00, 1417.89it/s, now=None]\u001b[A"
     ]
    },
    {
     "name": "stdout",
     "output_type": "stream",
     "text": [
      "MoviePy - Writing audio in /home/jupyter/datasets/amigos/audio/Exp1_P29_audio/P29_20_audio.wav\n"
     ]
    },
    {
     "name": "stderr",
     "output_type": "stream",
     "text": [
      "\n",
      "chunk:  14%|█▍        | 204/1454 [00:00<00:01, 868.99it/s, now=None] \u001b[A\n",
      "chunk:  18%|█▊        | 255/1454 [00:00<00:01, 619.53it/s, now=None]\u001b[A\n",
      "chunk:  25%|██▍       | 357/1454 [00:00<00:01, 654.97it/s, now=None]\u001b[A\n",
      "chunk:  28%|██▊       | 409/1454 [00:00<00:01, 599.41it/s, now=None]\u001b[A\n",
      "chunk:  34%|███▍      | 500/1454 [00:00<00:01, 667.48it/s, now=None]\u001b[A\n",
      "chunk:  39%|███▉      | 564/1454 [00:00<00:02, 430.29it/s, now=None]\u001b[A\n",
      "chunk:  42%|████▏     | 616/1454 [00:01<00:02, 411.46it/s, now=None]\u001b[A\n",
      "chunk:  46%|████▌     | 664/1454 [00:01<00:02, 349.07it/s, now=None]\u001b[A\n",
      "chunk:  49%|████▉     | 714/1454 [00:01<00:02, 290.98it/s, now=None]\u001b[A\n",
      "chunk:  53%|█████▎    | 765/1454 [00:01<00:02, 274.91it/s, now=None]\u001b[A\n",
      "chunk:  56%|█████▌    | 816/1454 [00:02<00:02, 230.42it/s, now=None]\u001b[A\n",
      "chunk:  60%|█████▉    | 867/1454 [00:02<00:02, 247.43it/s, now=None]\u001b[A\n",
      "chunk:  63%|██████▎   | 918/1454 [00:02<00:01, 292.00it/s, now=None]\u001b[A\n",
      "chunk:  70%|███████   | 1020/1454 [00:02<00:01, 308.94it/s, now=None]\u001b[A\n",
      "chunk:  74%|███████▎  | 1071/1454 [00:02<00:01, 265.08it/s, now=None]\u001b[A\n",
      "chunk:  77%|███████▋  | 1122/1454 [00:03<00:01, 238.88it/s, now=None]\u001b[A\n",
      "chunk:  81%|████████  | 1173/1454 [00:03<00:01, 278.35it/s, now=None]\u001b[A\n",
      "chunk:  84%|████████▍ | 1224/1454 [00:03<00:00, 266.57it/s, now=None]\u001b[A\n",
      "chunk:  88%|████████▊ | 1275/1454 [00:03<00:00, 285.39it/s, now=None]\u001b[A\n",
      "chunk:  91%|█████████ | 1326/1454 [00:03<00:00, 279.22it/s, now=None]\u001b[A\n",
      "chunk:  95%|█████████▍| 1377/1454 [00:03<00:00, 281.56it/s, now=None]\u001b[A\n",
      "chunk:  98%|█████████▊| 1428/1454 [00:04<00:00, 275.35it/s, now=None]\u001b[A\n",
      "chunk:   1%|▏         | 29/2121 [7:14:59<522:59:54, 900.00s/it, now=None]"
     ]
    },
    {
     "name": "stdout",
     "output_type": "stream",
     "text": [
      "MoviePy - Done.\n"
     ]
    },
    {
     "name": "stderr",
     "output_type": "stream",
     "text": [
      "chunk:   1%|▏         | 29/2121 [7:15:00<523:00:59, 900.03s/it, now=None]\n",
      "chunk:   0%|          | 0/2467 [00:00<?, ?it/s, now=None]\u001b[A\n",
      "chunk:   5%|▍         | 122/2467 [00:00<00:01, 1217.98it/s, now=None]\u001b[A"
     ]
    },
    {
     "name": "stdout",
     "output_type": "stream",
     "text": [
      "MoviePy - Writing audio in /home/jupyter/datasets/amigos/audio/Exp1_P29_audio/P29_23_audio.wav\n"
     ]
    },
    {
     "name": "stderr",
     "output_type": "stream",
     "text": [
      "\n",
      "chunk:   6%|▋         | 159/2467 [00:00<00:05, 441.84it/s, now=None] \u001b[A\n",
      "chunk:   8%|▊         | 204/2467 [00:00<00:06, 341.28it/s, now=None]\u001b[A\n",
      "chunk:  10%|█         | 255/2467 [00:00<00:06, 356.74it/s, now=None]\u001b[A\n",
      "chunk:  12%|█▏        | 306/2467 [00:00<00:08, 262.89it/s, now=None]\u001b[A\n",
      "chunk:  14%|█▍        | 357/2467 [00:01<00:08, 260.03it/s, now=None]\u001b[A\n",
      "chunk:  17%|█▋        | 408/2467 [00:01<00:07, 291.93it/s, now=None]\u001b[A\n",
      "chunk:  19%|█▊        | 459/2467 [00:01<00:07, 257.37it/s, now=None]\u001b[A\n",
      "chunk:  23%|██▎       | 560/2467 [00:01<00:06, 289.79it/s, now=None]\u001b[A\n",
      "chunk:  25%|██▍       | 611/2467 [00:01<00:06, 298.71it/s, now=None]\u001b[A\n",
      "chunk:  27%|██▋       | 662/2467 [00:02<00:05, 334.31it/s, now=None]\u001b[A\n",
      "chunk:  29%|██▉       | 713/2467 [00:02<00:05, 338.83it/s, now=None]\u001b[A\n",
      "chunk:  31%|███       | 764/2467 [00:02<00:05, 316.04it/s, now=None]\u001b[A\n",
      "chunk:  33%|███▎      | 815/2467 [00:02<00:04, 343.00it/s, now=None]\u001b[A\n",
      "chunk:  35%|███▌      | 866/2467 [00:02<00:05, 272.53it/s, now=None]\u001b[A\n",
      "chunk:  37%|███▋      | 917/2467 [00:02<00:05, 280.73it/s, now=None]\u001b[A\n",
      "chunk:  39%|███▉      | 968/2467 [00:03<00:05, 261.74it/s, now=None]\u001b[A\n",
      "chunk:  41%|████▏     | 1019/2467 [00:03<00:04, 294.03it/s, now=None]\u001b[A\n",
      "chunk:  43%|████▎     | 1069/2467 [00:03<00:04, 330.37it/s, now=None]\u001b[A\n",
      "chunk:  47%|████▋     | 1171/2467 [00:03<00:03, 335.79it/s, now=None]\u001b[A\n",
      "chunk:  51%|█████     | 1260/2467 [00:03<00:02, 412.93it/s, now=None]\u001b[A\n",
      "chunk:  53%|█████▎    | 1312/2467 [00:03<00:02, 420.85it/s, now=None]\u001b[A\n",
      "chunk:  55%|█████▌    | 1362/2467 [00:04<00:02, 419.12it/s, now=None]\u001b[A\n",
      "chunk:  57%|█████▋    | 1410/2467 [00:04<00:02, 425.61it/s, now=None]\u001b[A\n",
      "chunk:  59%|█████▉    | 1457/2467 [00:04<00:02, 347.51it/s, now=None]\u001b[A\n",
      "chunk:  62%|██████▏   | 1528/2467 [00:04<00:02, 357.46it/s, now=None]\u001b[A\n",
      "chunk:  64%|██████▍   | 1584/2467 [00:04<00:02, 400.94it/s, now=None]\u001b[A\n",
      "chunk:  66%|██████▌   | 1629/2467 [00:04<00:02, 393.28it/s, now=None]\u001b[A\n",
      "chunk:  68%|██████▊   | 1680/2467 [00:04<00:02, 336.37it/s, now=None]\u001b[A\n",
      "chunk:  72%|███████▏  | 1782/2467 [00:05<00:01, 354.48it/s, now=None]\u001b[A\n",
      "chunk:  74%|███████▍  | 1833/2467 [00:05<00:02, 303.63it/s, now=None]\u001b[A\n",
      "chunk:  76%|███████▋  | 1884/2467 [00:05<00:01, 317.73it/s, now=None]\u001b[A\n",
      "chunk:  78%|███████▊  | 1935/2467 [00:05<00:01, 279.32it/s, now=None]\u001b[A\n",
      "chunk:  81%|████████  | 1986/2467 [00:05<00:01, 284.21it/s, now=None]\u001b[A\n",
      "chunk:  83%|████████▎ | 2036/2467 [00:06<00:01, 280.57it/s, now=None]\u001b[A\n",
      "chunk:  85%|████████▍ | 2087/2467 [00:06<00:01, 274.82it/s, now=None]\u001b[A\n",
      "chunk:  87%|████████▋ | 2138/2467 [00:06<00:01, 264.75it/s, now=None]\u001b[A\n",
      "chunk:  89%|████████▊ | 2189/2467 [00:06<00:01, 255.26it/s, now=None]\u001b[A\n",
      "chunk:  91%|█████████ | 2240/2467 [00:06<00:00, 275.07it/s, now=None]\u001b[A\n",
      "chunk:  93%|█████████▎| 2291/2467 [00:07<00:00, 227.45it/s, now=None]\u001b[A\n",
      "chunk:  95%|█████████▍| 2342/2467 [00:07<00:00, 232.67it/s, now=None]\u001b[A\n",
      "chunk:  97%|█████████▋| 2393/2467 [00:07<00:00, 163.27it/s, now=None]\u001b[A\n",
      "chunk:   1%|▏         | 29/2121 [7:15:08<523:10:43, 900.31s/it, now=None]"
     ]
    },
    {
     "name": "stdout",
     "output_type": "stream",
     "text": [
      "MoviePy - Done.\n"
     ]
    },
    {
     "name": "stderr",
     "output_type": "stream",
     "text": [
      "chunk:   1%|▏         | 29/2121 [7:15:09<523:11:49, 900.34s/it, now=None]\n",
      "chunk:   0%|          | 0/1687 [00:00<?, ?it/s, now=None]\u001b[A\n",
      "chunk:   6%|▌         | 102/1687 [00:00<00:01, 937.45it/s, now=None]\u001b[A"
     ]
    },
    {
     "name": "stdout",
     "output_type": "stream",
     "text": [
      "MoviePy - Writing audio in /home/jupyter/datasets/amigos/audio/Exp1_P29_audio/P29_30_audio.wav\n"
     ]
    },
    {
     "name": "stderr",
     "output_type": "stream",
     "text": [
      "\n",
      "chunk:   9%|▉         | 153/1687 [00:00<00:03, 422.84it/s, now=None]\u001b[A\n",
      "chunk:  12%|█▏        | 204/1687 [00:00<00:04, 351.19it/s, now=None]\u001b[A\n",
      "chunk:  15%|█▌        | 255/1687 [00:00<00:04, 286.95it/s, now=None]\u001b[A\n",
      "chunk:  18%|█▊        | 306/1687 [00:01<00:05, 272.39it/s, now=None]\u001b[A\n",
      "chunk:  21%|██        | 357/1687 [00:01<00:04, 281.53it/s, now=None]\u001b[A\n",
      "chunk:  24%|██▍       | 408/1687 [00:01<00:04, 304.35it/s, now=None]\u001b[A\n",
      "chunk:  27%|██▋       | 459/1687 [00:01<00:05, 222.38it/s, now=None]\u001b[A\n",
      "chunk:  30%|███       | 510/1687 [00:01<00:04, 238.13it/s, now=None]\u001b[A\n",
      "chunk:  33%|███▎      | 561/1687 [00:02<00:05, 207.48it/s, now=None]\u001b[A\n",
      "chunk:  36%|███▋      | 612/1687 [00:02<00:05, 211.22it/s, now=None]\u001b[A\n",
      "chunk:  39%|███▉      | 663/1687 [00:02<00:04, 247.11it/s, now=None]\u001b[A\n",
      "chunk:  42%|████▏     | 714/1687 [00:02<00:03, 270.48it/s, now=None]\u001b[A\n",
      "chunk:  45%|████▌     | 765/1687 [00:02<00:03, 274.10it/s, now=None]\u001b[A\n",
      "chunk:  48%|████▊     | 816/1687 [00:03<00:03, 272.66it/s, now=None]\u001b[A\n",
      "chunk:  51%|█████▏    | 867/1687 [00:03<00:03, 257.01it/s, now=None]\u001b[A\n",
      "chunk:  54%|█████▍    | 918/1687 [00:03<00:02, 293.65it/s, now=None]\u001b[A\n",
      "chunk:  57%|█████▋    | 969/1687 [00:03<00:02, 318.92it/s, now=None]\u001b[A\n",
      "chunk:  60%|██████    | 1020/1687 [00:03<00:02, 309.64it/s, now=None]\u001b[A\n",
      "chunk:  63%|██████▎   | 1071/1687 [00:03<00:01, 341.75it/s, now=None]\u001b[A\n",
      "chunk:  67%|██████▋   | 1122/1687 [00:03<00:01, 354.69it/s, now=None]\u001b[A\n",
      "chunk:  71%|███████   | 1198/1687 [00:04<00:01, 422.25it/s, now=None]\u001b[A\n",
      "chunk:  74%|███████▍  | 1247/1687 [00:04<00:01, 359.47it/s, now=None]\u001b[A\n",
      "chunk:  76%|███████▋  | 1290/1687 [00:04<00:01, 316.75it/s, now=None]\u001b[A\n",
      "chunk:  79%|███████▊  | 1327/1687 [00:04<00:01, 246.01it/s, now=None]\u001b[A\n",
      "chunk:  82%|████████▏ | 1377/1687 [00:04<00:01, 285.88it/s, now=None]\u001b[A\n",
      "chunk:  85%|████████▍ | 1428/1687 [00:05<00:00, 262.20it/s, now=None]\u001b[A\n",
      "chunk:  88%|████████▊ | 1479/1687 [00:05<00:00, 221.20it/s, now=None]\u001b[A\n",
      "chunk:  91%|█████████ | 1530/1687 [00:05<00:00, 231.25it/s, now=None]\u001b[A\n",
      "chunk:  94%|█████████▎| 1581/1687 [00:05<00:00, 272.78it/s, now=None]\u001b[A\n",
      "chunk:  97%|█████████▋| 1632/1687 [00:05<00:00, 283.11it/s, now=None]\u001b[A\n",
      "chunk:   1%|▏         | 29/2121 [7:15:15<523:18:50, 900.54s/it, now=None]"
     ]
    },
    {
     "name": "stdout",
     "output_type": "stream",
     "text": [
      "MoviePy - Done.\n"
     ]
    },
    {
     "name": "stderr",
     "output_type": "stream",
     "text": [
      "chunk:   1%|▏         | 29/2121 [7:15:16<523:19:50, 900.57s/it, now=None]\n",
      "chunk:   0%|          | 0/3436 [00:00<?, ?it/s, now=None]\u001b[A\n",
      "chunk:   3%|▎         | 102/3436 [00:00<00:03, 935.82it/s, now=None]\u001b[A"
     ]
    },
    {
     "name": "stdout",
     "output_type": "stream",
     "text": [
      "MoviePy - Writing audio in /home/jupyter/datasets/amigos/audio/Exp1_P29_audio/P29_31_audio.wav\n"
     ]
    },
    {
     "name": "stderr",
     "output_type": "stream",
     "text": [
      "\n",
      "chunk:   6%|▌         | 204/3436 [00:00<00:06, 532.25it/s, now=None]\u001b[A\n",
      "chunk:   7%|▋         | 255/3436 [00:00<00:07, 433.47it/s, now=None]\u001b[A\n",
      "chunk:   9%|▉         | 306/3436 [00:00<00:08, 377.52it/s, now=None]\u001b[A\n",
      "chunk:  10%|█         | 357/3436 [00:00<00:08, 378.13it/s, now=None]\u001b[A\n",
      "chunk:  13%|█▎        | 459/3436 [00:01<00:07, 408.94it/s, now=None]\u001b[A\n",
      "chunk:  15%|█▍        | 510/3436 [00:01<00:07, 413.60it/s, now=None]\u001b[A\n",
      "chunk:  16%|█▋        | 561/3436 [00:01<00:06, 433.57it/s, now=None]\u001b[A\n",
      "chunk:  18%|█▊        | 612/3436 [00:01<00:06, 422.17it/s, now=None]\u001b[A\n",
      "chunk:  19%|█▉        | 663/3436 [00:01<00:08, 344.31it/s, now=None]\u001b[A\n",
      "chunk:  21%|██        | 714/3436 [00:01<00:08, 316.45it/s, now=None]\u001b[A\n",
      "chunk:  22%|██▏       | 765/3436 [00:02<00:09, 282.04it/s, now=None]\u001b[A\n",
      "chunk:  24%|██▎       | 816/3436 [00:02<00:09, 279.59it/s, now=None]\u001b[A\n",
      "chunk:  25%|██▌       | 867/3436 [00:02<00:09, 283.18it/s, now=None]\u001b[A\n",
      "chunk:  27%|██▋       | 918/3436 [00:02<00:08, 301.64it/s, now=None]\u001b[A\n",
      "chunk:  28%|██▊       | 969/3436 [00:02<00:08, 306.97it/s, now=None]\u001b[A\n",
      "chunk:  30%|██▉       | 1020/3436 [00:02<00:07, 332.37it/s, now=None]\u001b[A\n",
      "chunk:  31%|███       | 1071/3436 [00:03<00:06, 366.67it/s, now=None]\u001b[A\n",
      "chunk:  34%|███▍      | 1165/3436 [00:03<00:05, 448.67it/s, now=None]\u001b[A\n",
      "chunk:  36%|███▌      | 1221/3436 [00:03<00:06, 347.78it/s, now=None]\u001b[A\n",
      "chunk:  37%|███▋      | 1267/3436 [00:03<00:06, 351.13it/s, now=None]\u001b[A\n",
      "chunk:  38%|███▊      | 1310/3436 [00:03<00:08, 240.99it/s, now=None]\u001b[A\n",
      "chunk:  39%|███▉      | 1344/3436 [00:04<00:11, 185.67it/s, now=None]\u001b[A\n",
      "chunk:  40%|████      | 1377/3436 [00:04<00:11, 182.60it/s, now=None]\u001b[A\n",
      "chunk:  42%|████▏     | 1428/3436 [00:04<00:09, 214.70it/s, now=None]\u001b[A\n",
      "chunk:  43%|████▎     | 1479/3436 [00:04<00:08, 239.79it/s, now=None]\u001b[A\n",
      "chunk:  45%|████▍     | 1530/3436 [00:04<00:06, 275.75it/s, now=None]\u001b[A\n",
      "chunk:  46%|████▌     | 1581/3436 [00:04<00:06, 305.91it/s, now=None]\u001b[A\n",
      "chunk:  49%|████▉     | 1683/3436 [00:05<00:04, 355.20it/s, now=None]\u001b[A\n",
      "chunk:  50%|█████     | 1734/3436 [00:05<00:04, 379.50it/s, now=None]\u001b[A\n",
      "chunk:  52%|█████▏    | 1785/3436 [00:05<00:05, 313.84it/s, now=None]\u001b[A\n",
      "chunk:  53%|█████▎    | 1836/3436 [00:05<00:05, 312.03it/s, now=None]\u001b[A\n",
      "chunk:  56%|█████▋    | 1938/3436 [00:05<00:04, 367.81it/s, now=None]\u001b[A\n",
      "chunk:  58%|█████▊    | 1989/3436 [00:05<00:03, 382.66it/s, now=None]\u001b[A\n",
      "chunk:  59%|█████▉    | 2040/3436 [00:05<00:03, 407.41it/s, now=None]\u001b[A\n",
      "chunk:  61%|██████    | 2091/3436 [00:06<00:03, 353.42it/s, now=None]\u001b[A\n",
      "chunk:  62%|██████▏   | 2142/3436 [00:06<00:03, 380.70it/s, now=None]\u001b[A\n",
      "chunk:  64%|██████▍   | 2216/3436 [00:06<00:02, 445.56it/s, now=None]\u001b[A\n",
      "chunk:  66%|██████▌   | 2268/3436 [00:06<00:02, 395.94it/s, now=None]\u001b[A\n",
      "chunk:  67%|██████▋   | 2314/3436 [00:06<00:03, 321.94it/s, now=None]\u001b[A\n",
      "chunk:  68%|██████▊   | 2353/3436 [00:06<00:03, 317.41it/s, now=None]\u001b[A\n",
      "chunk:  70%|██████▉   | 2397/3436 [00:06<00:03, 290.98it/s, now=None]\u001b[A\n",
      "chunk:  71%|███████   | 2448/3436 [00:07<00:03, 265.29it/s, now=None]\u001b[A\n",
      "chunk:  73%|███████▎  | 2504/3436 [00:07<00:02, 314.93it/s, now=None]\u001b[A\n",
      "chunk:  74%|███████▍  | 2550/3436 [00:07<00:02, 320.35it/s, now=None]\u001b[A\n",
      "chunk:  76%|███████▌  | 2601/3436 [00:07<00:02, 351.83it/s, now=None]\u001b[A\n",
      "chunk:  77%|███████▋  | 2652/3436 [00:07<00:02, 370.21it/s, now=None]\u001b[A\n",
      "chunk:  79%|███████▊  | 2703/3436 [00:07<00:02, 319.68it/s, now=None]\u001b[A\n",
      "chunk:  80%|████████  | 2760/3436 [00:08<00:01, 368.19it/s, now=None]\u001b[A\n",
      "chunk:  82%|████████▏ | 2805/3436 [00:08<00:01, 388.94it/s, now=None]\u001b[A\n",
      "chunk:  83%|████████▎ | 2856/3436 [00:08<00:01, 326.70it/s, now=None]\u001b[A\n",
      "chunk:  85%|████████▍ | 2907/3436 [00:08<00:01, 306.44it/s, now=None]\u001b[A\n",
      "chunk:  86%|████████▌ | 2958/3436 [00:08<00:01, 328.89it/s, now=None]\u001b[A\n",
      "chunk:  88%|████████▊ | 3009/3436 [00:08<00:01, 321.93it/s, now=None]\u001b[A\n",
      "chunk:  89%|████████▉ | 3060/3436 [00:08<00:01, 310.16it/s, now=None]\u001b[A\n",
      "chunk:  91%|█████████ | 3111/3436 [00:09<00:01, 301.47it/s, now=None]\u001b[A\n",
      "chunk:  92%|█████████▏| 3162/3436 [00:09<00:00, 325.37it/s, now=None]\u001b[A\n",
      "chunk:  94%|█████████▎| 3213/3436 [00:09<00:00, 327.86it/s, now=None]\u001b[A\n",
      "chunk:  95%|█████████▍| 3264/3436 [00:09<00:00, 345.67it/s, now=None]\u001b[A\n",
      "chunk:  96%|█████████▋| 3315/3436 [00:09<00:00, 361.87it/s, now=None]\u001b[A\n",
      "chunk:  98%|█████████▊| 3366/3436 [00:09<00:00, 291.54it/s, now=None]\u001b[A\n",
      "chunk:   1%|▏         | 29/2121 [7:15:26<523:31:54, 900.92s/it, now=None]"
     ]
    },
    {
     "name": "stdout",
     "output_type": "stream",
     "text": [
      "MoviePy - Done.\n"
     ]
    },
    {
     "name": "stderr",
     "output_type": "stream",
     "text": [
      "chunk:   1%|▏         | 29/2121 [7:15:27<523:32:44, 900.94s/it, now=None]\n",
      "chunk:   0%|          | 0/1467 [00:00<?, ?it/s, now=None]\u001b[A"
     ]
    },
    {
     "name": "stdout",
     "output_type": "stream",
     "text": [
      "MoviePy - Writing audio in /home/jupyter/datasets/amigos/audio/Exp1_P29_audio/P29_34_audio.wav\n"
     ]
    },
    {
     "name": "stderr",
     "output_type": "stream",
     "text": [
      "\n",
      "chunk:   7%|▋         | 102/1467 [00:00<00:02, 488.98it/s, now=None]\u001b[A\n",
      "chunk:  10%|█         | 153/1467 [00:00<00:02, 456.33it/s, now=None]\u001b[A\n",
      "chunk:  14%|█▍        | 204/1467 [00:00<00:03, 387.44it/s, now=None]\u001b[A\n",
      "chunk:  17%|█▋        | 255/1467 [00:00<00:03, 358.86it/s, now=None]\u001b[A\n",
      "chunk:  21%|██        | 306/1467 [00:00<00:03, 323.66it/s, now=None]\u001b[A\n",
      "chunk:  28%|██▊       | 408/1467 [00:01<00:02, 381.62it/s, now=None]\u001b[A\n",
      "chunk:  31%|███▏      | 459/1467 [00:01<00:02, 403.69it/s, now=None]\u001b[A\n",
      "chunk:  35%|███▍      | 510/1467 [00:01<00:02, 331.82it/s, now=None]\u001b[A\n",
      "chunk:  38%|███▊      | 561/1467 [00:01<00:02, 333.74it/s, now=None]\u001b[A\n",
      "chunk:  42%|████▏     | 612/1467 [00:01<00:02, 328.73it/s, now=None]\u001b[A\n",
      "chunk:  45%|████▌     | 663/1467 [00:01<00:02, 340.67it/s, now=None]\u001b[A\n",
      "chunk:  49%|████▊     | 714/1467 [00:01<00:02, 371.15it/s, now=None]\u001b[A\n",
      "chunk:  52%|█████▏    | 765/1467 [00:02<00:01, 383.14it/s, now=None]\u001b[A\n",
      "chunk:  56%|█████▌    | 816/1467 [00:02<00:01, 392.88it/s, now=None]\u001b[A\n",
      "chunk:  59%|█████▉    | 867/1467 [00:02<00:01, 339.40it/s, now=None]\u001b[A\n",
      "chunk:  63%|██████▎   | 918/1467 [00:02<00:01, 351.88it/s, now=None]\u001b[A\n",
      "chunk:  66%|██████▌   | 969/1467 [00:02<00:01, 385.13it/s, now=None]\u001b[A\n",
      "chunk:  73%|███████▎  | 1071/1467 [00:02<00:00, 404.85it/s, now=None]\u001b[A\n",
      "chunk:  76%|███████▋  | 1122/1467 [00:02<00:00, 425.06it/s, now=None]\u001b[A\n",
      "chunk:  80%|███████▉  | 1173/1467 [00:03<00:00, 399.52it/s, now=None]\u001b[A\n",
      "chunk:  83%|████████▎ | 1224/1467 [00:03<00:00, 371.29it/s, now=None]\u001b[A\n",
      "chunk:  87%|████████▋ | 1275/1467 [00:03<00:00, 361.45it/s, now=None]\u001b[A\n",
      "chunk:  91%|█████████ | 1335/1467 [00:03<00:00, 410.28it/s, now=None]\u001b[A\n",
      "chunk:  94%|█████████▍| 1379/1467 [00:03<00:00, 345.57it/s, now=None]\u001b[A\n",
      "chunk:   1%|▏         | 29/2121 [7:15:30<523:37:15, 901.07s/it, now=None]"
     ]
    },
    {
     "name": "stdout",
     "output_type": "stream",
     "text": [
      "MoviePy - Done.\n"
     ]
    },
    {
     "name": "stderr",
     "output_type": "stream",
     "text": [
      "chunk:   1%|▏         | 29/2121 [7:15:31<523:38:09, 901.09s/it, now=None]\n",
      "chunk:   0%|          | 0/1512 [00:00<?, ?it/s, now=None]\u001b[A\n",
      "chunk:  10%|█         | 153/1512 [00:00<00:01, 987.88it/s, now=None]\u001b[A"
     ]
    },
    {
     "name": "stdout",
     "output_type": "stream",
     "text": [
      "MoviePy - Writing audio in /home/jupyter/datasets/amigos/audio/Exp1_P29_audio/P29_36_audio.wav\n"
     ]
    },
    {
     "name": "stderr",
     "output_type": "stream",
     "text": [
      "\n",
      "chunk:  13%|█▎        | 204/1512 [00:00<00:01, 769.93it/s, now=None]\u001b[A\n",
      "chunk:  20%|██        | 306/1512 [00:00<00:01, 730.82it/s, now=None]\u001b[A\n",
      "chunk:  24%|██▎       | 357/1512 [00:00<00:01, 623.26it/s, now=None]\u001b[A\n",
      "chunk:  28%|██▊       | 421/1512 [00:00<00:01, 628.00it/s, now=None]\u001b[A\n",
      "chunk:  31%|███       | 472/1512 [00:00<00:02, 461.27it/s, now=None]\u001b[A\n",
      "chunk:  34%|███▍      | 517/1512 [00:00<00:02, 354.23it/s, now=None]\u001b[A\n",
      "chunk:  40%|████      | 612/1512 [00:01<00:02, 367.03it/s, now=None]\u001b[A\n",
      "chunk:  44%|████▍     | 663/1512 [00:01<00:02, 382.58it/s, now=None]\u001b[A\n",
      "chunk:  47%|████▋     | 714/1512 [00:01<00:02, 330.68it/s, now=None]\u001b[A\n",
      "chunk:  51%|█████     | 765/1512 [00:01<00:02, 363.65it/s, now=None]\u001b[A\n",
      "chunk:  54%|█████▍    | 816/1512 [00:01<00:02, 258.16it/s, now=None]\u001b[A\n",
      "chunk:  57%|█████▋    | 867/1512 [00:02<00:02, 227.63it/s, now=None]\u001b[A\n",
      "chunk:  61%|██████    | 918/1512 [00:02<00:02, 231.04it/s, now=None]\u001b[A\n",
      "chunk:  64%|██████▍   | 969/1512 [00:02<00:02, 237.13it/s, now=None]\u001b[A\n",
      "chunk:  67%|██████▋   | 1020/1512 [00:02<00:01, 274.68it/s, now=None]\u001b[A\n",
      "chunk:  71%|███████   | 1071/1512 [00:02<00:01, 304.10it/s, now=None]\u001b[A\n",
      "chunk:  74%|███████▍  | 1122/1512 [00:03<00:01, 303.70it/s, now=None]\u001b[A\n",
      "chunk:  78%|███████▊  | 1173/1512 [00:03<00:01, 328.06it/s, now=None]\u001b[A\n",
      "chunk:  81%|████████  | 1224/1512 [00:03<00:00, 321.19it/s, now=None]\u001b[A\n",
      "chunk:  84%|████████▍ | 1275/1512 [00:03<00:00, 301.03it/s, now=None]\u001b[A\n",
      "chunk:  90%|████████▉ | 1358/1512 [00:03<00:00, 372.11it/s, now=None]\u001b[A\n",
      "chunk:  93%|█████████▎| 1405/1512 [00:03<00:00, 283.36it/s, now=None]\u001b[A\n",
      "chunk:  96%|█████████▌| 1444/1512 [00:04<00:00, 285.81it/s, now=None]\u001b[A\n",
      "chunk:   1%|▏         | 29/2121 [7:15:35<523:43:12, 901.24s/it, now=None]"
     ]
    },
    {
     "name": "stdout",
     "output_type": "stream",
     "text": [
      "MoviePy - Done.\n"
     ]
    },
    {
     "name": "stderr",
     "output_type": "stream",
     "text": [
      "chunk:   1%|▏         | 29/2121 [7:15:36<523:43:56, 901.26s/it, now=None]\n",
      "chunk:   0%|          | 0/2015 [00:00<?, ?it/s, now=None]\u001b[A"
     ]
    },
    {
     "name": "stdout",
     "output_type": "stream",
     "text": [
      "MoviePy - Writing audio in /home/jupyter/datasets/amigos/audio/Exp1_P29_audio/P29_4_audio.wav\n"
     ]
    },
    {
     "name": "stderr",
     "output_type": "stream",
     "text": [
      "\n",
      "chunk:   8%|▊         | 153/2015 [00:00<00:03, 523.24it/s, now=None]\u001b[A\n",
      "chunk:  10%|█         | 204/2015 [00:00<00:04, 400.76it/s, now=None]\u001b[A\n",
      "chunk:  13%|█▎        | 255/2015 [00:00<00:05, 348.11it/s, now=None]\u001b[A\n",
      "chunk:  15%|█▌        | 306/2015 [00:00<00:05, 322.41it/s, now=None]\u001b[A\n",
      "chunk:  18%|█▊        | 357/2015 [00:00<00:04, 358.72it/s, now=None]\u001b[A\n",
      "chunk:  20%|██        | 408/2015 [00:01<00:04, 370.27it/s, now=None]\u001b[A\n",
      "chunk:  23%|██▎       | 459/2015 [00:01<00:03, 397.37it/s, now=None]\u001b[A\n",
      "chunk:  25%|██▌       | 510/2015 [00:01<00:04, 338.39it/s, now=None]\u001b[A\n",
      "chunk:  28%|██▊       | 561/2015 [00:01<00:04, 329.62it/s, now=None]\u001b[A\n",
      "chunk:  30%|███       | 612/2015 [00:01<00:03, 351.97it/s, now=None]\u001b[A\n",
      "chunk:  35%|███▌      | 714/2015 [00:01<00:03, 348.12it/s, now=None]\u001b[A\n",
      "chunk:  39%|███▊      | 780/2015 [00:02<00:03, 405.54it/s, now=None]\u001b[A\n",
      "chunk:  41%|████      | 825/2015 [00:02<00:03, 308.72it/s, now=None]\u001b[A\n",
      "chunk:  43%|████▎     | 867/2015 [00:02<00:04, 263.65it/s, now=None]\u001b[A\n",
      "chunk:  46%|████▌     | 918/2015 [00:02<00:03, 296.95it/s, now=None]\u001b[A\n",
      "chunk:  48%|████▊     | 969/2015 [00:02<00:03, 283.44it/s, now=None]\u001b[A\n",
      "chunk:  51%|█████     | 1020/2015 [00:02<00:03, 305.83it/s, now=None]\u001b[A\n",
      "chunk:  53%|█████▎    | 1071/2015 [00:03<00:03, 303.33it/s, now=None]\u001b[A\n",
      "chunk:  56%|█████▌    | 1122/2015 [00:03<00:02, 333.98it/s, now=None]\u001b[A\n",
      "chunk:  58%|█████▊    | 1173/2015 [00:03<00:02, 325.64it/s, now=None]\u001b[A\n",
      "chunk:  61%|██████    | 1224/2015 [00:03<00:03, 229.55it/s, now=None]\u001b[A\n",
      "chunk:  63%|██████▎   | 1275/2015 [00:04<00:03, 213.34it/s, now=None]\u001b[A\n",
      "chunk:  66%|██████▌   | 1326/2015 [00:04<00:03, 201.54it/s, now=None]\u001b[A\n",
      "chunk:  68%|██████▊   | 1377/2015 [00:04<00:03, 211.60it/s, now=None]\u001b[A\n",
      "chunk:  71%|███████   | 1428/2015 [00:04<00:02, 229.68it/s, now=None]\u001b[A\n",
      "chunk:  73%|███████▎  | 1479/2015 [00:05<00:02, 227.66it/s, now=None]\u001b[A\n",
      "chunk:  76%|███████▌  | 1530/2015 [00:05<00:01, 248.71it/s, now=None]\u001b[A\n",
      "chunk:  78%|███████▊  | 1581/2015 [00:05<00:01, 254.23it/s, now=None]\u001b[A\n",
      "chunk:  81%|████████  | 1632/2015 [00:05<00:01, 294.74it/s, now=None]\u001b[A\n",
      "chunk:  85%|████████▍ | 1706/2015 [00:05<00:00, 359.58it/s, now=None]\u001b[A\n",
      "chunk:  87%|████████▋ | 1752/2015 [00:05<00:00, 309.43it/s, now=None]\u001b[A\n",
      "chunk:  89%|████████▉ | 1791/2015 [00:05<00:00, 260.65it/s, now=None]\u001b[A\n",
      "chunk:  93%|█████████▎| 1871/2015 [00:06<00:00, 326.68it/s, now=None]\u001b[A\n",
      "chunk:  95%|█████████▌| 1918/2015 [00:06<00:00, 355.49it/s, now=None]\u001b[A\n",
      "chunk:  98%|█████████▊| 1965/2015 [00:06<00:00, 367.49it/s, now=None]\u001b[A\n",
      "chunk:   1%|▏         | 29/2121 [7:15:42<523:51:36, 901.48s/it, now=None]"
     ]
    },
    {
     "name": "stdout",
     "output_type": "stream",
     "text": [
      "MoviePy - Done.\n"
     ]
    },
    {
     "name": "stderr",
     "output_type": "stream",
     "text": [
      "chunk:   1%|▏         | 29/2121 [7:15:43<523:52:52, 901.52s/it, now=None]\n",
      "chunk:   0%|          | 0/2489 [00:00<?, ?it/s, now=None]\u001b[A\n",
      "chunk:   4%|▍         | 102/2489 [00:00<00:02, 847.84it/s, now=None]\u001b[A"
     ]
    },
    {
     "name": "stdout",
     "output_type": "stream",
     "text": [
      "MoviePy - Writing audio in /home/jupyter/datasets/amigos/audio/Exp1_P29_audio/P29_5_audio.wav\n"
     ]
    },
    {
     "name": "stderr",
     "output_type": "stream",
     "text": [
      "\n",
      "chunk:   6%|▌         | 153/2489 [00:00<00:04, 557.49it/s, now=None]\u001b[A\n",
      "chunk:   8%|▊         | 204/2489 [00:00<00:04, 532.61it/s, now=None]\u001b[A\n",
      "chunk:  10%|█         | 255/2489 [00:00<00:05, 406.14it/s, now=None]\u001b[A\n",
      "chunk:  12%|█▏        | 306/2489 [00:00<00:05, 392.22it/s, now=None]\u001b[A\n",
      "chunk:  16%|█▋        | 408/2489 [00:00<00:04, 451.75it/s, now=None]\u001b[A\n",
      "chunk:  18%|█▊        | 459/2489 [00:01<00:04, 428.61it/s, now=None]\u001b[A\n",
      "chunk:  20%|██        | 510/2489 [00:01<00:04, 427.94it/s, now=None]\u001b[A\n",
      "chunk:  23%|██▎       | 575/2489 [00:01<00:04, 476.73it/s, now=None]\u001b[A\n",
      "chunk:  25%|██▌       | 625/2489 [00:01<00:03, 483.26it/s, now=None]\u001b[A\n",
      "chunk:  27%|██▋       | 675/2489 [00:01<00:03, 485.35it/s, now=None]\u001b[A\n",
      "chunk:  29%|██▉       | 725/2489 [00:01<00:03, 479.81it/s, now=None]\u001b[A\n",
      "chunk:  33%|███▎      | 816/2489 [00:01<00:03, 517.61it/s, now=None]\u001b[A\n",
      "chunk:  35%|███▍      | 869/2489 [00:01<00:04, 381.40it/s, now=None]\u001b[A\n",
      "chunk:  37%|███▋      | 918/2489 [00:02<00:04, 332.70it/s, now=None]\u001b[A\n",
      "chunk:  39%|███▉      | 969/2489 [00:02<00:04, 353.78it/s, now=None]\u001b[A\n",
      "chunk:  41%|████      | 1020/2489 [00:02<00:04, 332.70it/s, now=None]\u001b[A\n",
      "chunk:  43%|████▎     | 1078/2489 [00:02<00:03, 381.50it/s, now=None]\u001b[A\n",
      "chunk:  46%|████▋     | 1156/2489 [00:02<00:02, 450.39it/s, now=None]\u001b[A\n",
      "chunk:  49%|████▉     | 1224/2489 [00:02<00:03, 351.96it/s, now=None]\u001b[A\n",
      "chunk:  51%|█████     | 1275/2489 [00:03<00:03, 365.32it/s, now=None]\u001b[A\n",
      "chunk:  53%|█████▎    | 1326/2489 [00:03<00:03, 363.68it/s, now=None]\u001b[A\n",
      "chunk:  57%|█████▋    | 1415/2489 [00:03<00:02, 441.99it/s, now=None]\u001b[A\n",
      "chunk:  59%|█████▉    | 1471/2489 [00:03<00:02, 468.45it/s, now=None]\u001b[A\n",
      "chunk:  61%|██████▏   | 1527/2489 [00:03<00:02, 413.27it/s, now=None]\u001b[A\n",
      "chunk:  63%|██████▎   | 1576/2489 [00:03<00:02, 398.39it/s, now=None]\u001b[A\n",
      "chunk:  65%|██████▌   | 1621/2489 [00:03<00:02, 367.37it/s, now=None]\u001b[A\n",
      "chunk:  67%|██████▋   | 1668/2489 [00:03<00:02, 392.95it/s, now=None]\u001b[A\n",
      "chunk:  69%|██████▊   | 1711/2489 [00:04<00:02, 312.50it/s, now=None]\u001b[A\n",
      "chunk:  70%|███████   | 1748/2489 [00:04<00:02, 313.67it/s, now=None]\u001b[A\n",
      "chunk:  72%|███████▏  | 1785/2489 [00:04<00:02, 257.90it/s, now=None]\u001b[A\n",
      "chunk:  74%|███████▍  | 1836/2489 [00:04<00:02, 255.64it/s, now=None]\u001b[A\n",
      "chunk:  76%|███████▌  | 1887/2489 [00:04<00:02, 281.35it/s, now=None]\u001b[A\n",
      "chunk:  78%|███████▊  | 1938/2489 [00:05<00:02, 244.48it/s, now=None]\u001b[A\n",
      "chunk:  80%|███████▉  | 1989/2489 [00:05<00:01, 262.42it/s, now=None]\u001b[A\n",
      "chunk:  82%|████████▏ | 2040/2489 [00:05<00:01, 301.38it/s, now=None]\u001b[A\n",
      "chunk:  84%|████████▍ | 2091/2489 [00:05<00:01, 341.34it/s, now=None]\u001b[A\n",
      "chunk:  86%|████████▌ | 2142/2489 [00:05<00:00, 378.36it/s, now=None]\u001b[A\n",
      "chunk:  90%|█████████ | 2244/2489 [00:05<00:00, 418.25it/s, now=None]\u001b[A\n",
      "chunk:  94%|█████████▍| 2334/2489 [00:05<00:00, 498.19it/s, now=None]\u001b[A\n",
      "chunk:  97%|█████████▋| 2405/2489 [00:05<00:00, 547.15it/s, now=None]\u001b[A\n",
      "chunk: 100%|█████████▉| 2483/2489 [00:06<00:00, 600.65it/s, now=None]\u001b[A\n",
      "chunk:   1%|▏         | 29/2121 [7:15:50<524:00:07, 901.72s/it, now=None]"
     ]
    },
    {
     "name": "stdout",
     "output_type": "stream",
     "text": [
      "MoviePy - Done.\n"
     ]
    },
    {
     "name": "stderr",
     "output_type": "stream",
     "text": [
      "chunk:   1%|▏         | 29/2121 [7:15:50<524:01:09, 901.75s/it, now=None]\n",
      "chunk:   0%|          | 0/1422 [00:00<?, ?it/s, now=None]\u001b[A\n",
      "chunk:   7%|▋         | 102/1422 [00:00<00:02, 599.58it/s, now=None]\u001b[A"
     ]
    },
    {
     "name": "stdout",
     "output_type": "stream",
     "text": [
      "MoviePy - Writing audio in /home/jupyter/datasets/amigos/audio/Exp1_P29_audio/P29_58_audio.wav\n"
     ]
    },
    {
     "name": "stderr",
     "output_type": "stream",
     "text": [
      "\n",
      "chunk:  11%|█         | 153/1422 [00:00<00:02, 538.06it/s, now=None]\u001b[A\n",
      "chunk:  14%|█▍        | 204/1422 [00:00<00:02, 500.27it/s, now=None]\u001b[A\n",
      "chunk:  18%|█▊        | 255/1422 [00:00<00:03, 386.87it/s, now=None]\u001b[A\n",
      "chunk:  22%|██▏       | 306/1422 [00:00<00:03, 354.26it/s, now=None]\u001b[A\n",
      "chunk:  25%|██▌       | 357/1422 [00:00<00:03, 333.64it/s, now=None]\u001b[A\n",
      "chunk:  29%|██▊       | 408/1422 [00:01<00:02, 358.70it/s, now=None]\u001b[A\n",
      "chunk:  34%|███▎      | 477/1422 [00:01<00:02, 418.93it/s, now=None]\u001b[A\n",
      "chunk:  37%|███▋      | 522/1422 [00:01<00:02, 397.77it/s, now=None]\u001b[A\n",
      "chunk:  40%|███▉      | 564/1422 [00:01<00:02, 298.85it/s, now=None]\u001b[A\n",
      "chunk:  43%|████▎     | 612/1422 [00:01<00:02, 324.68it/s, now=None]\u001b[A\n",
      "chunk:  47%|████▋     | 663/1422 [00:01<00:02, 336.02it/s, now=None]\u001b[A\n",
      "chunk:  54%|█████▍    | 765/1422 [00:02<00:01, 349.36it/s, now=None]\u001b[A\n",
      "chunk:  57%|█████▋    | 816/1422 [00:02<00:02, 285.67it/s, now=None]\u001b[A\n",
      "chunk:  61%|██████    | 867/1422 [00:02<00:01, 298.35it/s, now=None]\u001b[A\n",
      "chunk:  65%|██████▍   | 918/1422 [00:02<00:01, 274.29it/s, now=None]\u001b[A\n",
      "chunk:  68%|██████▊   | 969/1422 [00:02<00:01, 249.78it/s, now=None]\u001b[A\n",
      "chunk:  72%|███████▏  | 1020/1422 [00:03<00:01, 290.53it/s, now=None]\u001b[A\n",
      "chunk:  75%|███████▌  | 1071/1422 [00:03<00:01, 228.14it/s, now=None]\u001b[A\n",
      "chunk:  79%|███████▉  | 1122/1422 [00:03<00:01, 243.48it/s, now=None]\u001b[A\n",
      "chunk:  82%|████████▏ | 1173/1422 [00:03<00:00, 270.66it/s, now=None]\u001b[A\n",
      "chunk:  90%|████████▉ | 1275/1422 [00:03<00:00, 346.36it/s, now=None]\u001b[A\n",
      "chunk:  97%|█████████▋| 1377/1422 [00:03<00:00, 429.43it/s, now=None]\u001b[A\n",
      "chunk:   1%|▏         | 29/2121 [7:15:54<524:05:52, 901.89s/it, now=None]"
     ]
    },
    {
     "name": "stdout",
     "output_type": "stream",
     "text": [
      "MoviePy - Done.\n"
     ]
    },
    {
     "name": "stderr",
     "output_type": "stream",
     "text": [
      "chunk:   1%|▏         | 29/2121 [7:15:55<524:07:13, 901.93s/it, now=None]\n",
      "chunk:   0%|          | 0/2265 [00:00<?, ?it/s, now=None]\u001b[A"
     ]
    },
    {
     "name": "stdout",
     "output_type": "stream",
     "text": [
      "MoviePy - Writing audio in /home/jupyter/datasets/amigos/audio/Exp1_P29_audio/P29_80_audio.wav\n"
     ]
    },
    {
     "name": "stderr",
     "output_type": "stream",
     "text": [
      "\n",
      "chunk:   5%|▍         | 102/2265 [00:00<00:05, 402.43it/s, now=None]\u001b[A\n",
      "chunk:   7%|▋         | 153/2265 [00:00<00:06, 330.43it/s, now=None]\u001b[A\n",
      "chunk:  11%|█▏        | 255/2265 [00:00<00:06, 330.16it/s, now=None]\u001b[A\n",
      "chunk:  14%|█▎        | 306/2265 [00:00<00:06, 323.02it/s, now=None]\u001b[A\n",
      "chunk:  16%|█▌        | 357/2265 [00:01<00:06, 278.91it/s, now=None]\u001b[A\n",
      "chunk:  18%|█▊        | 408/2265 [00:01<00:06, 288.52it/s, now=None]\u001b[A\n",
      "chunk:  23%|██▎       | 510/2265 [00:01<00:04, 355.11it/s, now=None]\u001b[A\n",
      "chunk:  27%|██▋       | 612/2265 [00:01<00:04, 389.41it/s, now=None]\u001b[A\n",
      "chunk:  32%|███▏      | 714/2265 [00:01<00:03, 424.80it/s, now=None]\u001b[A\n",
      "chunk:  38%|███▊      | 867/2265 [00:02<00:02, 504.42it/s, now=None]\u001b[A\n",
      "chunk:  41%|████      | 927/2265 [00:02<00:02, 512.86it/s, now=None]\u001b[A\n",
      "chunk:  45%|████▌     | 1020/2265 [00:02<00:02, 561.14it/s, now=None]\u001b[A\n",
      "chunk:  48%|████▊     | 1083/2265 [00:02<00:02, 522.50it/s, now=None]\u001b[A\n",
      "chunk:  52%|█████▏    | 1173/2265 [00:02<00:01, 579.60it/s, now=None]\u001b[A\n",
      "chunk:  55%|█████▍    | 1237/2265 [00:02<00:01, 560.00it/s, now=None]\u001b[A\n",
      "chunk:  59%|█████▊    | 1326/2265 [00:02<00:01, 598.99it/s, now=None]\u001b[A\n",
      "chunk:  63%|██████▎   | 1428/2265 [00:02<00:01, 601.03it/s, now=None]\u001b[A\n",
      "chunk:  68%|██████▊   | 1530/2265 [00:03<00:01, 673.42it/s, now=None]\u001b[A\n",
      "chunk:  72%|███████▏  | 1632/2265 [00:03<00:00, 735.63it/s, now=None]\u001b[A\n",
      "chunk:  76%|███████▌  | 1711/2265 [00:03<00:00, 719.15it/s, now=None]\u001b[A\n",
      "chunk:  79%|███████▉  | 1787/2265 [00:03<00:00, 562.95it/s, now=None]\u001b[A\n",
      "chunk:  82%|████████▏ | 1851/2265 [00:03<00:00, 578.43it/s, now=None]\u001b[A\n",
      "chunk:  86%|████████▌ | 1938/2265 [00:03<00:00, 555.33it/s, now=None]\u001b[A\n",
      "chunk:  88%|████████▊ | 1998/2265 [00:03<00:00, 418.00it/s, now=None]\u001b[A\n",
      "chunk:  90%|█████████ | 2048/2265 [00:04<00:00, 407.46it/s, now=None]\u001b[A\n",
      "chunk:  92%|█████████▏| 2095/2265 [00:04<00:00, 355.46it/s, now=None]\u001b[A\n",
      "chunk:  95%|█████████▍| 2142/2265 [00:04<00:00, 338.40it/s, now=None]\u001b[A\n",
      "chunk:  97%|█████████▋| 2193/2265 [00:04<00:00, 275.52it/s, now=None]\u001b[A\n",
      "chunk:   1%|▏         | 29/2121 [7:16:00<524:13:02, 902.09s/it, now=None]"
     ]
    },
    {
     "name": "stdout",
     "output_type": "stream",
     "text": [
      "MoviePy - Done.\n"
     ]
    },
    {
     "name": "stderr",
     "output_type": "stream",
     "text": [
      "chunk:   1%|▏         | 29/2121 [7:16:01<524:13:51, 902.12s/it, now=None]\n",
      "chunk:   0%|          | 0/1675 [00:00<?, ?it/s, now=None]\u001b[A\n",
      "chunk:   7%|▋         | 112/1675 [00:00<00:01, 1118.75it/s, now=None]\u001b[A"
     ]
    },
    {
     "name": "stdout",
     "output_type": "stream",
     "text": [
      "MoviePy - Writing audio in /home/jupyter/datasets/amigos/audio/Exp1_P29_audio/P29_9_audio.wav\n"
     ]
    },
    {
     "name": "stderr",
     "output_type": "stream",
     "text": [
      "\n",
      "chunk:   9%|▉         | 153/1675 [00:00<00:04, 346.00it/s, now=None] \u001b[A\n",
      "chunk:  12%|█▏        | 204/1675 [00:00<00:06, 231.50it/s, now=None]\u001b[A\n",
      "chunk:  15%|█▌        | 255/1675 [00:01<00:07, 191.36it/s, now=None]\u001b[A\n",
      "chunk:  18%|█▊        | 306/1675 [00:01<00:07, 172.64it/s, now=None]\u001b[A\n",
      "chunk:  21%|██▏       | 357/1675 [00:01<00:07, 187.96it/s, now=None]\u001b[A\n",
      "chunk:  24%|██▍       | 408/1675 [00:01<00:05, 217.45it/s, now=None]\u001b[A\n",
      "chunk:  27%|██▋       | 459/1675 [00:02<00:04, 255.48it/s, now=None]\u001b[A\n",
      "chunk:  33%|███▎      | 561/1675 [00:02<00:03, 291.72it/s, now=None]\u001b[A\n",
      "chunk:  37%|███▋      | 612/1675 [00:02<00:03, 304.68it/s, now=None]\u001b[A\n",
      "chunk:  40%|███▉      | 663/1675 [00:02<00:02, 338.86it/s, now=None]\u001b[A\n",
      "chunk:  43%|████▎     | 714/1675 [00:02<00:03, 309.81it/s, now=None]\u001b[A\n",
      "chunk:  46%|████▌     | 765/1675 [00:02<00:03, 275.92it/s, now=None]\u001b[A\n",
      "chunk:  49%|████▊     | 816/1675 [00:03<00:02, 319.64it/s, now=None]\u001b[A\n",
      "chunk:  52%|█████▏    | 867/1675 [00:03<00:02, 273.59it/s, now=None]\u001b[A\n",
      "chunk:  55%|█████▍    | 918/1675 [00:03<00:02, 304.82it/s, now=None]\u001b[A\n",
      "chunk:  58%|█████▊    | 969/1675 [00:03<00:02, 257.35it/s, now=None]\u001b[A\n",
      "chunk:  61%|██████    | 1020/1675 [00:03<00:02, 278.01it/s, now=None]\u001b[A\n",
      "chunk:  64%|██████▍   | 1071/1675 [00:03<00:02, 295.17it/s, now=None]\u001b[A\n",
      "chunk:  67%|██████▋   | 1122/1675 [00:04<00:02, 242.49it/s, now=None]\u001b[A\n",
      "chunk:  70%|███████   | 1173/1675 [00:04<00:02, 216.01it/s, now=None]\u001b[A\n",
      "chunk:  73%|███████▎  | 1224/1675 [00:04<00:01, 231.09it/s, now=None]\u001b[A\n",
      "chunk:  76%|███████▌  | 1275/1675 [00:04<00:01, 257.99it/s, now=None]\u001b[A\n",
      "chunk:  79%|███████▉  | 1326/1675 [00:05<00:01, 253.31it/s, now=None]\u001b[A\n",
      "chunk:  82%|████████▏ | 1377/1675 [00:05<00:01, 279.11it/s, now=None]\u001b[A\n",
      "chunk:  85%|████████▌ | 1428/1675 [00:05<00:00, 280.16it/s, now=None]\u001b[A\n",
      "chunk:  88%|████████▊ | 1479/1675 [00:05<00:00, 304.23it/s, now=None]\u001b[A\n",
      "chunk:  91%|█████████▏| 1530/1675 [00:05<00:00, 343.89it/s, now=None]\u001b[A\n",
      "chunk:  94%|█████████▍| 1581/1675 [00:05<00:00, 332.06it/s, now=None]\u001b[A\n",
      "chunk:  97%|█████████▋| 1632/1675 [00:05<00:00, 360.01it/s, now=None]\u001b[A\n",
      "chunk:   1%|▏         | 29/2121 [7:16:07<524:21:03, 902.32s/it, now=None]"
     ]
    },
    {
     "name": "stdout",
     "output_type": "stream",
     "text": [
      "MoviePy - Done.\n"
     ]
    },
    {
     "name": "stderr",
     "output_type": "stream",
     "text": [
      "chunk:   1%|▏         | 29/2121 [7:16:08<524:22:06, 902.35s/it, now=None]\n",
      "chunk:   0%|          | 0/2118 [00:00<?, ?it/s, now=None]\u001b[A\n",
      "chunk:   5%|▍         | 102/2118 [00:00<00:02, 813.16it/s, now=None]\u001b[A"
     ]
    },
    {
     "name": "stdout",
     "output_type": "stream",
     "text": [
      "MoviePy - Writing audio in /home/jupyter/datasets/amigos/audio/Exp1_P30_audio/P30_10_audio.wav\n"
     ]
    },
    {
     "name": "stderr",
     "output_type": "stream",
     "text": [
      "\n",
      "chunk:   7%|▋         | 153/2118 [00:00<00:03, 513.86it/s, now=None]\u001b[A\n",
      "chunk:  10%|▉         | 204/2118 [00:00<00:05, 373.35it/s, now=None]\u001b[A\n",
      "chunk:  12%|█▏        | 255/2118 [00:00<00:05, 326.79it/s, now=None]\u001b[A\n",
      "chunk:  14%|█▍        | 306/2118 [00:00<00:05, 320.43it/s, now=None]\u001b[A\n",
      "chunk:  17%|█▋        | 357/2118 [00:01<00:05, 339.84it/s, now=None]\u001b[A\n",
      "chunk:  19%|█▉        | 408/2118 [00:01<00:04, 360.34it/s, now=None]\u001b[A\n",
      "chunk:  22%|██▏       | 459/2118 [00:01<00:07, 236.45it/s, now=None]\u001b[A\n",
      "chunk:  24%|██▍       | 510/2118 [00:01<00:06, 262.44it/s, now=None]\u001b[A\n",
      "chunk:  26%|██▋       | 561/2118 [00:01<00:05, 286.75it/s, now=None]\u001b[A\n",
      "chunk:  29%|██▉       | 612/2118 [00:01<00:04, 321.88it/s, now=None]\u001b[A\n",
      "chunk:  31%|███▏      | 663/2118 [00:02<00:04, 328.42it/s, now=None]\u001b[A\n",
      "chunk:  34%|███▎      | 714/2118 [00:02<00:04, 315.39it/s, now=None]\u001b[A\n",
      "chunk:  36%|███▌      | 765/2118 [00:02<00:03, 354.43it/s, now=None]\u001b[A\n",
      "chunk:  39%|███▊      | 816/2118 [00:02<00:03, 337.71it/s, now=None]\u001b[A\n",
      "chunk:  41%|████      | 867/2118 [00:02<00:03, 347.84it/s, now=None]\u001b[A\n",
      "chunk:  43%|████▎     | 918/2118 [00:02<00:04, 265.23it/s, now=None]\u001b[A\n",
      "chunk:  46%|████▌     | 969/2118 [00:03<00:05, 202.11it/s, now=None]\u001b[A\n",
      "chunk:  48%|████▊     | 1020/2118 [00:03<00:04, 224.22it/s, now=None]\u001b[A\n",
      "chunk:  51%|█████     | 1071/2118 [00:03<00:04, 242.20it/s, now=None]\u001b[A\n",
      "chunk:  53%|█████▎    | 1122/2118 [00:03<00:03, 270.70it/s, now=None]\u001b[A\n",
      "chunk:  55%|█████▌    | 1173/2118 [00:03<00:03, 288.49it/s, now=None]\u001b[A\n",
      "chunk:  58%|█████▊    | 1224/2118 [00:04<00:03, 296.34it/s, now=None]\u001b[A\n",
      "chunk:  60%|██████    | 1275/2118 [00:04<00:03, 258.88it/s, now=None]\u001b[A\n",
      "chunk:  65%|██████▌   | 1377/2118 [00:04<00:02, 285.37it/s, now=None]\u001b[A\n",
      "chunk:  67%|██████▋   | 1428/2118 [00:04<00:02, 322.40it/s, now=None]\u001b[A\n",
      "chunk:  72%|███████▏  | 1523/2118 [00:04<00:01, 402.09it/s, now=None]\u001b[A\n",
      "chunk:  74%|███████▍  | 1577/2118 [00:05<00:01, 339.32it/s, now=None]\u001b[A\n",
      "chunk:  77%|███████▋  | 1622/2118 [00:05<00:01, 357.16it/s, now=None]\u001b[A\n",
      "chunk:  79%|███████▊  | 1666/2118 [00:05<00:01, 357.11it/s, now=None]\u001b[A\n",
      "chunk:  81%|████████  | 1708/2118 [00:05<00:01, 337.87it/s, now=None]\u001b[A\n",
      "chunk:  84%|████████▍ | 1785/2118 [00:05<00:00, 353.41it/s, now=None]\u001b[A\n",
      "chunk:  87%|████████▋ | 1836/2118 [00:05<00:01, 278.17it/s, now=None]\u001b[A\n",
      "chunk:  89%|████████▉ | 1887/2118 [00:06<00:00, 278.92it/s, now=None]\u001b[A\n",
      "chunk:  92%|█████████▏| 1938/2118 [00:06<00:00, 239.17it/s, now=None]\u001b[A\n",
      "chunk:  94%|█████████▍| 1989/2118 [00:06<00:00, 205.15it/s, now=None]\u001b[A\n",
      "chunk:  96%|█████████▋| 2040/2118 [00:06<00:00, 216.96it/s, now=None]\u001b[A\n",
      "chunk:   1%|▏         | 29/2121 [7:16:15<524:30:33, 902.60s/it, now=None]"
     ]
    },
    {
     "name": "stdout",
     "output_type": "stream",
     "text": [
      "MoviePy - Done.\n"
     ]
    },
    {
     "name": "stderr",
     "output_type": "stream",
     "text": [
      "chunk:   1%|▏         | 29/2121 [7:16:16<524:31:28, 902.62s/it, now=None]\n",
      "chunk:   0%|          | 0/1258 [00:00<?, ?it/s, now=None]\u001b[A"
     ]
    },
    {
     "name": "stdout",
     "output_type": "stream",
     "text": [
      "MoviePy - Writing audio in /home/jupyter/datasets/amigos/audio/Exp1_P30_audio/P30_13_audio.wav\n"
     ]
    },
    {
     "name": "stderr",
     "output_type": "stream",
     "text": [
      "\n",
      "chunk:   8%|▊         | 102/1258 [00:00<00:02, 534.16it/s, now=None]\u001b[A\n",
      "chunk:  12%|█▏        | 153/1258 [00:00<00:03, 325.76it/s, now=None]\u001b[A\n",
      "chunk:  16%|█▌        | 204/1258 [00:00<00:03, 315.70it/s, now=None]\u001b[A\n",
      "chunk:  20%|██        | 255/1258 [00:01<00:05, 191.59it/s, now=None]\u001b[A\n",
      "chunk:  24%|██▍       | 306/1258 [00:01<00:04, 196.91it/s, now=None]\u001b[A\n",
      "chunk:  28%|██▊       | 357/1258 [00:01<00:03, 226.91it/s, now=None]\u001b[A\n",
      "chunk:  32%|███▏      | 408/1258 [00:01<00:03, 269.78it/s, now=None]\u001b[A\n",
      "chunk:  36%|███▋      | 459/1258 [00:01<00:03, 262.23it/s, now=None]\u001b[A\n",
      "chunk:  41%|████      | 510/1258 [00:02<00:02, 252.39it/s, now=None]\u001b[A\n",
      "chunk:  45%|████▍     | 561/1258 [00:02<00:02, 251.26it/s, now=None]\u001b[A\n",
      "chunk:  49%|████▊     | 612/1258 [00:02<00:02, 269.91it/s, now=None]\u001b[A\n",
      "chunk:  53%|█████▎    | 663/1258 [00:02<00:02, 246.48it/s, now=None]\u001b[A\n",
      "chunk:  57%|█████▋    | 714/1258 [00:02<00:02, 248.73it/s, now=None]\u001b[A\n",
      "chunk:  61%|██████    | 765/1258 [00:03<00:01, 264.13it/s, now=None]\u001b[A\n",
      "chunk:  65%|██████▍   | 816/1258 [00:03<00:01, 271.31it/s, now=None]\u001b[A\n",
      "chunk:  69%|██████▉   | 867/1258 [00:03<00:01, 270.83it/s, now=None]\u001b[A\n",
      "chunk:  73%|███████▎  | 918/1258 [00:03<00:01, 286.43it/s, now=None]\u001b[A\n",
      "chunk:  77%|███████▋  | 969/1258 [00:03<00:00, 302.25it/s, now=None]\u001b[A\n",
      "chunk:  81%|████████  | 1020/1258 [00:04<00:00, 254.34it/s, now=None]\u001b[A\n",
      "chunk:  85%|████████▌ | 1071/1258 [00:04<00:00, 284.15it/s, now=None]\u001b[A\n",
      "chunk:  89%|████████▉ | 1122/1258 [00:04<00:00, 293.21it/s, now=None]\u001b[A\n",
      "chunk:   1%|▏         | 29/2121 [7:16:20<524:36:47, 902.78s/it, now=None]"
     ]
    },
    {
     "name": "stdout",
     "output_type": "stream",
     "text": [
      "MoviePy - Done.\n"
     ]
    },
    {
     "name": "stderr",
     "output_type": "stream",
     "text": [
      "chunk:   1%|▏         | 29/2121 [7:16:21<524:38:08, 902.81s/it, now=None]\n",
      "chunk:   0%|          | 0/2699 [00:00<?, ?it/s, now=None]\u001b[A"
     ]
    },
    {
     "name": "stdout",
     "output_type": "stream",
     "text": [
      "MoviePy - Writing audio in /home/jupyter/datasets/amigos/audio/Exp1_P30_audio/P30_138_audio.wav\n"
     ]
    },
    {
     "name": "stderr",
     "output_type": "stream",
     "text": [
      "\n",
      "chunk:   4%|▍         | 102/2699 [00:00<00:10, 248.75it/s, now=None]\u001b[A\n",
      "chunk:   6%|▌         | 153/2699 [00:00<00:11, 221.86it/s, now=None]\u001b[A\n",
      "chunk:   8%|▊         | 204/2699 [00:00<00:10, 243.37it/s, now=None]\u001b[A\n",
      "chunk:   9%|▉         | 255/2699 [00:01<00:10, 227.47it/s, now=None]\u001b[A\n",
      "chunk:  11%|█▏        | 306/2699 [00:01<00:09, 251.85it/s, now=None]\u001b[A\n",
      "chunk:  13%|█▎        | 357/2699 [00:01<00:09, 257.78it/s, now=None]\u001b[A\n",
      "chunk:  15%|█▌        | 408/2699 [00:01<00:09, 236.12it/s, now=None]\u001b[A\n",
      "chunk:  17%|█▋        | 459/2699 [00:01<00:08, 275.92it/s, now=None]\u001b[A\n",
      "chunk:  19%|█▉        | 515/2699 [00:01<00:06, 325.32it/s, now=None]\u001b[A\n",
      "chunk:  21%|██        | 561/2699 [00:02<00:06, 339.43it/s, now=None]\u001b[A\n",
      "chunk:  23%|██▎       | 612/2699 [00:02<00:05, 352.66it/s, now=None]\u001b[A\n",
      "chunk:  25%|██▍       | 663/2699 [00:02<00:07, 278.48it/s, now=None]\u001b[A\n",
      "chunk:  26%|██▋       | 714/2699 [00:02<00:06, 293.76it/s, now=None]\u001b[A\n",
      "chunk:  30%|███       | 816/2699 [00:02<00:05, 334.64it/s, now=None]\u001b[A\n",
      "chunk:  32%|███▏      | 867/2699 [00:02<00:05, 339.63it/s, now=None]\u001b[A\n",
      "chunk:  34%|███▍      | 918/2699 [00:03<00:05, 303.25it/s, now=None]\u001b[A\n",
      "chunk:  36%|███▌      | 969/2699 [00:03<00:05, 338.09it/s, now=None]\u001b[A\n",
      "chunk:  38%|███▊      | 1020/2699 [00:03<00:05, 307.32it/s, now=None]\u001b[A\n",
      "chunk:  40%|███▉      | 1071/2699 [00:03<00:06, 256.77it/s, now=None]\u001b[A\n",
      "chunk:  42%|████▏     | 1122/2699 [00:03<00:06, 243.83it/s, now=None]\u001b[A\n",
      "chunk:  45%|████▌     | 1224/2699 [00:04<00:05, 282.92it/s, now=None]\u001b[A\n",
      "chunk:  47%|████▋     | 1275/2699 [00:04<00:05, 282.80it/s, now=None]\u001b[A\n",
      "chunk:  49%|████▉     | 1326/2699 [00:04<00:06, 215.04it/s, now=None]\u001b[A\n",
      "chunk:  51%|█████     | 1377/2699 [00:04<00:05, 253.18it/s, now=None]\u001b[A\n",
      "chunk:  53%|█████▎    | 1428/2699 [00:05<00:05, 251.97it/s, now=None]\u001b[A\n",
      "chunk:  55%|█████▍    | 1479/2699 [00:05<00:04, 282.36it/s, now=None]\u001b[A\n",
      "chunk:  57%|█████▋    | 1530/2699 [00:05<00:04, 248.48it/s, now=None]\u001b[A\n",
      "chunk:  59%|█████▊    | 1581/2699 [00:05<00:04, 240.69it/s, now=None]\u001b[A\n",
      "chunk:  60%|██████    | 1632/2699 [00:05<00:03, 273.69it/s, now=None]\u001b[A\n",
      "chunk:  62%|██████▏   | 1683/2699 [00:06<00:04, 250.49it/s, now=None]\u001b[A\n",
      "chunk:  64%|██████▍   | 1734/2699 [00:06<00:03, 294.57it/s, now=None]\u001b[A\n",
      "chunk:  66%|██████▌   | 1785/2699 [00:06<00:02, 306.89it/s, now=None]\u001b[A\n",
      "chunk:  68%|██████▊   | 1836/2699 [00:06<00:02, 309.36it/s, now=None]\u001b[A\n",
      "chunk:  70%|██████▉   | 1887/2699 [00:06<00:02, 294.45it/s, now=None]\u001b[A\n",
      "chunk:  72%|███████▏  | 1938/2699 [00:06<00:02, 314.09it/s, now=None]\u001b[A\n",
      "chunk:  74%|███████▎  | 1989/2699 [00:07<00:02, 283.38it/s, now=None]\u001b[A\n",
      "chunk:  76%|███████▌  | 2040/2699 [00:07<00:02, 304.97it/s, now=None]\u001b[A\n",
      "chunk:  77%|███████▋  | 2091/2699 [00:07<00:02, 297.91it/s, now=None]\u001b[A\n",
      "chunk:  79%|███████▉  | 2142/2699 [00:07<00:01, 290.06it/s, now=None]\u001b[A\n",
      "chunk:  81%|████████▏ | 2193/2699 [00:07<00:01, 315.84it/s, now=None]\u001b[A\n",
      "chunk:  83%|████████▎ | 2244/2699 [00:07<00:01, 301.14it/s, now=None]\u001b[A\n",
      "chunk:  85%|████████▌ | 2295/2699 [00:07<00:01, 330.74it/s, now=None]\u001b[A\n",
      "chunk:  87%|████████▋ | 2346/2699 [00:08<00:01, 294.72it/s, now=None]\u001b[A\n",
      "chunk:  89%|████████▉ | 2397/2699 [00:08<00:01, 258.79it/s, now=None]\u001b[A\n",
      "chunk:  91%|█████████ | 2448/2699 [00:08<00:00, 271.20it/s, now=None]\u001b[A\n",
      "chunk:  93%|█████████▎| 2499/2699 [00:08<00:00, 238.22it/s, now=None]\u001b[A\n",
      "chunk:  94%|█████████▍| 2550/2699 [00:09<00:00, 263.37it/s, now=None]\u001b[A\n",
      "chunk:  96%|█████████▋| 2601/2699 [00:09<00:00, 236.40it/s, now=None]\u001b[A\n",
      "chunk:  98%|█████████▊| 2652/2699 [00:09<00:00, 226.66it/s, now=None]\u001b[A\n",
      "chunk:   1%|▏         | 29/2121 [7:16:31<524:49:39, 903.15s/it, now=None]"
     ]
    },
    {
     "name": "stdout",
     "output_type": "stream",
     "text": [
      "MoviePy - Done.\n"
     ]
    },
    {
     "name": "stderr",
     "output_type": "stream",
     "text": [
      "chunk:   1%|▏         | 29/2121 [7:16:32<524:50:46, 903.18s/it, now=None]\n",
      "chunk:   0%|          | 0/1831 [00:00<?, ?it/s, now=None]\u001b[A\n",
      "chunk:   6%|▌         | 102/1831 [00:00<00:02, 750.43it/s, now=None]\u001b[A"
     ]
    },
    {
     "name": "stdout",
     "output_type": "stream",
     "text": [
      "MoviePy - Writing audio in /home/jupyter/datasets/amigos/audio/Exp1_P30_audio/P30_18_audio.wav\n"
     ]
    },
    {
     "name": "stderr",
     "output_type": "stream",
     "text": [
      "\n",
      "chunk:   8%|▊         | 153/1831 [00:00<00:03, 516.40it/s, now=None]\u001b[A\n",
      "chunk:  11%|█         | 204/1831 [00:00<00:04, 376.36it/s, now=None]\u001b[A\n",
      "chunk:  14%|█▍        | 255/1831 [00:00<00:04, 328.93it/s, now=None]\u001b[A\n",
      "chunk:  17%|█▋        | 306/1831 [00:00<00:04, 329.78it/s, now=None]\u001b[A\n",
      "chunk:  19%|█▉        | 357/1831 [00:01<00:06, 231.75it/s, now=None]\u001b[A\n",
      "chunk:  22%|██▏       | 408/1831 [00:01<00:06, 227.20it/s, now=None]\u001b[A\n",
      "chunk:  25%|██▌       | 459/1831 [00:01<00:05, 255.31it/s, now=None]\u001b[A\n",
      "chunk:  30%|███       | 550/1831 [00:01<00:03, 325.52it/s, now=None]\u001b[A\n",
      "chunk:  33%|███▎      | 596/1831 [00:01<00:04, 292.40it/s, now=None]\u001b[A\n",
      "chunk:  35%|███▍      | 636/1831 [00:02<00:04, 280.85it/s, now=None]\u001b[A\n",
      "chunk:  37%|███▋      | 672/1831 [00:02<00:04, 264.59it/s, now=None]\u001b[A\n",
      "chunk:  39%|███▉      | 714/1831 [00:02<00:04, 263.71it/s, now=None]\u001b[A\n",
      "chunk:  42%|████▏     | 765/1831 [00:02<00:03, 292.03it/s, now=None]\u001b[A\n",
      "chunk:  45%|████▍     | 816/1831 [00:02<00:03, 288.64it/s, now=None]\u001b[A\n",
      "chunk:  47%|████▋     | 867/1831 [00:03<00:04, 220.51it/s, now=None]\u001b[A\n",
      "chunk:  50%|█████     | 918/1831 [00:03<00:03, 232.45it/s, now=None]\u001b[A\n",
      "chunk:  53%|█████▎    | 969/1831 [00:03<00:04, 202.14it/s, now=None]\u001b[A\n",
      "chunk:  56%|█████▌    | 1020/1831 [00:03<00:03, 234.41it/s, now=None]\u001b[A\n",
      "chunk:  58%|█████▊    | 1071/1831 [00:04<00:03, 214.55it/s, now=None]\u001b[A\n",
      "chunk:  61%|██████▏   | 1122/1831 [00:04<00:03, 200.20it/s, now=None]\u001b[A\n",
      "chunk:  64%|██████▍   | 1173/1831 [00:04<00:03, 182.26it/s, now=None]\u001b[A\n",
      "chunk:  67%|██████▋   | 1224/1831 [00:04<00:02, 206.57it/s, now=None]\u001b[A\n",
      "chunk:  70%|██████▉   | 1275/1831 [00:05<00:02, 219.71it/s, now=None]\u001b[A\n",
      "chunk:  75%|███████▌  | 1377/1831 [00:05<00:01, 232.29it/s, now=None]\u001b[A\n",
      "chunk:  78%|███████▊  | 1428/1831 [00:05<00:01, 246.45it/s, now=None]\u001b[A\n",
      "chunk:  81%|████████  | 1479/1831 [00:05<00:01, 224.65it/s, now=None]\u001b[A\n",
      "chunk:  84%|████████▎ | 1530/1831 [00:06<00:01, 230.24it/s, now=None]\u001b[A\n",
      "chunk:  89%|████████▉ | 1632/1831 [00:06<00:00, 276.20it/s, now=None]\u001b[A\n",
      "chunk:  94%|█████████▎| 1714/1831 [00:06<00:00, 344.72it/s, now=None]\u001b[A\n",
      "chunk:  96%|█████████▌| 1762/1831 [00:06<00:00, 351.83it/s, now=None]\u001b[A\n",
      "chunk:  99%|█████████▊| 1807/1831 [00:06<00:00, 364.45it/s, now=None]\u001b[A\n",
      "chunk:   1%|▏         | 29/2121 [7:16:38<524:58:44, 903.41s/it, now=None]"
     ]
    },
    {
     "name": "stdout",
     "output_type": "stream",
     "text": [
      "MoviePy - Done.\n"
     ]
    },
    {
     "name": "stderr",
     "output_type": "stream",
     "text": [
      "chunk:   1%|▏         | 29/2121 [7:16:39<524:59:48, 903.44s/it, now=None]\n",
      "chunk:   0%|          | 0/2790 [00:00<?, ?it/s, now=None]\u001b[A\n",
      "chunk:   4%|▎         | 102/2790 [00:00<00:02, 951.68it/s, now=None]\u001b[A"
     ]
    },
    {
     "name": "stdout",
     "output_type": "stream",
     "text": [
      "MoviePy - Writing audio in /home/jupyter/datasets/amigos/audio/Exp1_P30_audio/P30_19_audio.wav\n"
     ]
    },
    {
     "name": "stderr",
     "output_type": "stream",
     "text": [
      "\n",
      "chunk:   5%|▌         | 153/2790 [00:00<00:04, 634.41it/s, now=None]\u001b[A\n",
      "chunk:   7%|▋         | 204/2790 [00:00<00:05, 516.61it/s, now=None]\u001b[A\n",
      "chunk:   9%|▉         | 255/2790 [00:00<00:06, 394.08it/s, now=None]\u001b[A\n",
      "chunk:  11%|█         | 306/2790 [00:00<00:06, 378.29it/s, now=None]\u001b[A\n",
      "chunk:  13%|█▎        | 357/2790 [00:00<00:06, 395.86it/s, now=None]\u001b[A\n",
      "chunk:  15%|█▍        | 408/2790 [00:01<00:07, 313.06it/s, now=None]\u001b[A\n",
      "chunk:  16%|█▋        | 459/2790 [00:01<00:07, 309.71it/s, now=None]\u001b[A\n",
      "chunk:  18%|█▊        | 510/2790 [00:01<00:08, 277.16it/s, now=None]\u001b[A\n",
      "chunk:  20%|██        | 561/2790 [00:01<00:07, 287.05it/s, now=None]\u001b[A\n",
      "chunk:  22%|██▏       | 612/2790 [00:01<00:06, 311.20it/s, now=None]\u001b[A\n",
      "chunk:  26%|██▌       | 714/2790 [00:02<00:06, 342.36it/s, now=None]\u001b[A\n",
      "chunk:  27%|██▋       | 765/2790 [00:02<00:06, 298.78it/s, now=None]\u001b[A\n",
      "chunk:  31%|███       | 867/2790 [00:02<00:05, 339.24it/s, now=None]\u001b[A\n",
      "chunk:  33%|███▎      | 918/2790 [00:02<00:05, 344.81it/s, now=None]\u001b[A\n",
      "chunk:  35%|███▍      | 969/2790 [00:02<00:05, 347.64it/s, now=None]\u001b[A\n",
      "chunk:  37%|███▋      | 1020/2790 [00:02<00:05, 350.41it/s, now=None]\u001b[A\n",
      "chunk:  38%|███▊      | 1071/2790 [00:03<00:05, 302.35it/s, now=None]\u001b[A\n",
      "chunk:  40%|████      | 1122/2790 [00:03<00:07, 223.98it/s, now=None]\u001b[A\n",
      "chunk:  42%|████▏     | 1173/2790 [00:03<00:07, 221.79it/s, now=None]\u001b[A\n",
      "chunk:  44%|████▍     | 1224/2790 [00:03<00:07, 208.60it/s, now=None]\u001b[A\n",
      "chunk:  46%|████▌     | 1275/2790 [00:04<00:07, 202.33it/s, now=None]\u001b[A\n",
      "chunk:  48%|████▊     | 1326/2790 [00:04<00:07, 207.94it/s, now=None]\u001b[A\n",
      "chunk:  49%|████▉     | 1377/2790 [00:04<00:06, 207.22it/s, now=None]\u001b[A\n",
      "chunk:  51%|█████     | 1428/2790 [00:05<00:07, 193.91it/s, now=None]\u001b[A\n",
      "chunk:  53%|█████▎    | 1479/2790 [00:05<00:05, 237.20it/s, now=None]\u001b[A\n",
      "chunk:  55%|█████▍    | 1530/2790 [00:05<00:05, 218.29it/s, now=None]\u001b[A\n",
      "chunk:  57%|█████▋    | 1581/2790 [00:05<00:06, 195.48it/s, now=None]\u001b[A\n",
      "chunk:  58%|█████▊    | 1632/2790 [00:05<00:05, 205.92it/s, now=None]\u001b[A\n",
      "chunk:  60%|██████    | 1683/2790 [00:06<00:04, 238.99it/s, now=None]\u001b[A\n",
      "chunk:  62%|██████▏   | 1734/2790 [00:06<00:04, 250.14it/s, now=None]\u001b[A\n",
      "chunk:  66%|██████▌   | 1836/2790 [00:06<00:03, 278.21it/s, now=None]\u001b[A\n",
      "chunk:  68%|██████▊   | 1887/2790 [00:06<00:02, 301.20it/s, now=None]\u001b[A\n",
      "chunk:  69%|██████▉   | 1938/2790 [00:06<00:02, 306.58it/s, now=None]\u001b[A\n",
      "chunk:  73%|███████▎  | 2040/2790 [00:07<00:02, 353.40it/s, now=None]\u001b[A\n",
      "chunk:  77%|███████▋  | 2142/2790 [00:07<00:01, 361.92it/s, now=None]\u001b[A\n",
      "chunk:  79%|███████▊  | 2193/2790 [00:07<00:01, 372.84it/s, now=None]\u001b[A\n",
      "chunk:  81%|████████  | 2255/2790 [00:07<00:01, 423.35it/s, now=None]\u001b[A\n",
      "chunk:  83%|████████▎ | 2302/2790 [00:07<00:01, 389.86it/s, now=None]\u001b[A\n",
      "chunk:  86%|████████▌ | 2397/2790 [00:07<00:01, 370.65it/s, now=None]\u001b[A\n",
      "chunk:  88%|████████▊ | 2448/2790 [00:08<00:01, 313.23it/s, now=None]\u001b[A\n",
      "chunk:  90%|████████▉ | 2499/2790 [00:08<00:01, 286.60it/s, now=None]\u001b[A\n",
      "chunk:  91%|█████████▏| 2550/2790 [00:08<00:00, 311.54it/s, now=None]\u001b[A\n",
      "chunk:  95%|█████████▌| 2652/2790 [00:08<00:00, 366.43it/s, now=None]\u001b[A\n",
      "chunk:  97%|█████████▋| 2703/2790 [00:08<00:00, 390.19it/s, now=None]\u001b[A\n",
      "chunk:   1%|▏         | 29/2121 [7:16:48<525:10:25, 903.74s/it, now=None]"
     ]
    },
    {
     "name": "stdout",
     "output_type": "stream",
     "text": [
      "MoviePy - Done.\n"
     ]
    },
    {
     "name": "stderr",
     "output_type": "stream",
     "text": [
      "chunk:   1%|▏         | 29/2121 [7:16:49<525:11:42, 903.78s/it, now=None]\n",
      "chunk:   0%|          | 0/1443 [00:00<?, ?it/s, now=None]\u001b[A\n",
      "chunk:   7%|▋         | 102/1443 [00:00<00:01, 696.01it/s, now=None]\u001b[A"
     ]
    },
    {
     "name": "stdout",
     "output_type": "stream",
     "text": [
      "MoviePy - Writing audio in /home/jupyter/datasets/amigos/audio/Exp1_P30_audio/P30_20_audio.wav\n"
     ]
    },
    {
     "name": "stderr",
     "output_type": "stream",
     "text": [
      "\n",
      "chunk:  11%|█         | 153/1443 [00:00<00:02, 555.87it/s, now=None]\u001b[A\n",
      "chunk:  14%|█▍        | 204/1443 [00:00<00:03, 403.60it/s, now=None]\u001b[A\n",
      "chunk:  18%|█▊        | 255/1443 [00:00<00:02, 397.85it/s, now=None]\u001b[A\n",
      "chunk:  21%|██        | 306/1443 [00:00<00:02, 419.19it/s, now=None]\u001b[A\n",
      "chunk:  25%|██▍       | 357/1443 [00:00<00:02, 423.52it/s, now=None]\u001b[A\n",
      "chunk:  28%|██▊       | 408/1443 [00:00<00:02, 423.79it/s, now=None]\u001b[A\n",
      "chunk:  32%|███▏      | 459/1443 [00:01<00:03, 297.91it/s, now=None]\u001b[A\n",
      "chunk:  35%|███▌      | 510/1443 [00:01<00:02, 326.18it/s, now=None]\u001b[A\n",
      "chunk:  39%|███▉      | 561/1443 [00:01<00:02, 341.89it/s, now=None]\u001b[A\n",
      "chunk:  42%|████▏     | 612/1443 [00:01<00:03, 263.20it/s, now=None]\u001b[A\n",
      "chunk:  46%|████▌     | 663/1443 [00:02<00:03, 251.53it/s, now=None]\u001b[A\n",
      "chunk:  49%|████▉     | 714/1443 [00:02<00:02, 287.74it/s, now=None]\u001b[A\n",
      "chunk:  53%|█████▎    | 765/1443 [00:02<00:02, 236.79it/s, now=None]\u001b[A\n",
      "chunk:  57%|█████▋    | 816/1443 [00:02<00:02, 266.18it/s, now=None]\u001b[A\n",
      "chunk:  60%|██████    | 867/1443 [00:02<00:02, 239.75it/s, now=None]\u001b[A\n",
      "chunk:  64%|██████▎   | 918/1443 [00:03<00:02, 248.18it/s, now=None]\u001b[A\n",
      "chunk:  67%|██████▋   | 969/1443 [00:03<00:01, 266.86it/s, now=None]\u001b[A\n",
      "chunk:  71%|███████   | 1020/1443 [00:03<00:01, 267.32it/s, now=None]\u001b[A\n",
      "chunk:  74%|███████▍  | 1071/1443 [00:03<00:01, 282.84it/s, now=None]\u001b[A\n",
      "chunk:  78%|███████▊  | 1122/1443 [00:03<00:01, 287.84it/s, now=None]\u001b[A\n",
      "chunk:  81%|████████▏ | 1173/1443 [00:03<00:01, 258.34it/s, now=None]\u001b[A\n",
      "chunk:  85%|████████▍ | 1224/1443 [00:04<00:00, 287.21it/s, now=None]\u001b[A\n",
      "chunk:  92%|█████████▏| 1324/1443 [00:04<00:00, 365.30it/s, now=None]\u001b[A\n",
      "chunk:  95%|█████████▌| 1376/1443 [00:04<00:00, 328.22it/s, now=None]\u001b[A\n",
      "chunk:  98%|█████████▊| 1420/1443 [00:04<00:00, 337.34it/s, now=None]\u001b[A\n",
      "chunk:   1%|▏         | 29/2121 [7:16:54<525:17:09, 903.93s/it, now=None]"
     ]
    },
    {
     "name": "stdout",
     "output_type": "stream",
     "text": [
      "MoviePy - Done.\n"
     ]
    },
    {
     "name": "stderr",
     "output_type": "stream",
     "text": [
      "chunk:   1%|▏         | 29/2121 [7:16:54<525:18:03, 903.96s/it, now=None]\n",
      "chunk:   0%|          | 0/2467 [00:00<?, ?it/s, now=None]\u001b[A\n",
      "chunk:   5%|▌         | 124/2467 [00:00<00:01, 1239.22it/s, now=None]\u001b[A"
     ]
    },
    {
     "name": "stdout",
     "output_type": "stream",
     "text": [
      "MoviePy - Writing audio in /home/jupyter/datasets/amigos/audio/Exp1_P30_audio/P30_23_audio.wav\n"
     ]
    },
    {
     "name": "stderr",
     "output_type": "stream",
     "text": [
      "\n",
      "chunk:   7%|▋         | 162/2467 [00:00<00:04, 484.53it/s, now=None] \u001b[A\n",
      "chunk:   8%|▊         | 204/2467 [00:00<00:06, 352.58it/s, now=None]\u001b[A\n",
      "chunk:  10%|█         | 255/2467 [00:00<00:06, 365.74it/s, now=None]\u001b[A\n",
      "chunk:  14%|█▍        | 357/2467 [00:00<00:05, 402.74it/s, now=None]\u001b[A\n",
      "chunk:  19%|█▊        | 459/2467 [00:01<00:04, 425.57it/s, now=None]\u001b[A\n",
      "chunk:  21%|██        | 510/2467 [00:01<00:04, 396.23it/s, now=None]\u001b[A\n",
      "chunk:  25%|██▍       | 611/2467 [00:01<00:04, 443.14it/s, now=None]\u001b[A\n",
      "chunk:  27%|██▋       | 667/2467 [00:01<00:03, 472.25it/s, now=None]\u001b[A\n",
      "chunk:  31%|███       | 764/2467 [00:01<00:03, 554.55it/s, now=None]\u001b[A\n",
      "chunk:  35%|███▌      | 866/2467 [00:01<00:02, 586.97it/s, now=None]\u001b[A\n",
      "chunk:  38%|███▊      | 930/2467 [00:01<00:02, 517.19it/s, now=None]\u001b[A\n",
      "chunk:  40%|████      | 987/2467 [00:02<00:04, 364.87it/s, now=None]\u001b[A\n",
      "chunk:  42%|████▏     | 1034/2467 [00:02<00:04, 297.80it/s, now=None]\u001b[A\n",
      "chunk:  45%|████▍     | 1100/2467 [00:02<00:03, 356.46it/s, now=None]\u001b[A\n",
      "chunk:  46%|████▋     | 1147/2467 [00:02<00:04, 278.65it/s, now=None]\u001b[A\n",
      "chunk:  48%|████▊     | 1186/2467 [00:02<00:04, 263.75it/s, now=None]\u001b[A\n",
      "chunk:  50%|████▉     | 1222/2467 [00:03<00:05, 237.99it/s, now=None]\u001b[A\n",
      "chunk:  52%|█████▏    | 1273/2467 [00:03<00:05, 235.37it/s, now=None]\u001b[A\n",
      "chunk:  56%|█████▌    | 1375/2467 [00:03<00:03, 282.32it/s, now=None]\u001b[A\n",
      "chunk:  60%|█████▉    | 1477/2467 [00:03<00:02, 345.06it/s, now=None]\u001b[A\n",
      "chunk:  64%|██████▍   | 1578/2467 [00:03<00:02, 399.75it/s, now=None]\u001b[A\n",
      "chunk:  68%|██████▊   | 1680/2467 [00:03<00:01, 460.12it/s, now=None]\u001b[A\n",
      "chunk:  72%|███████▏  | 1782/2467 [00:04<00:01, 512.26it/s, now=None]\u001b[A\n",
      "chunk:  75%|███████▍  | 1843/2467 [00:04<00:01, 536.15it/s, now=None]\u001b[A\n",
      "chunk:  77%|███████▋  | 1904/2467 [00:04<00:01, 459.77it/s, now=None]\u001b[A\n",
      "chunk:  79%|███████▉  | 1957/2467 [00:04<00:01, 442.25it/s, now=None]\u001b[A\n",
      "chunk:  83%|████████▎ | 2036/2467 [00:04<00:00, 447.66it/s, now=None]\u001b[A\n",
      "chunk:  87%|████████▋ | 2138/2467 [00:04<00:00, 445.97it/s, now=None]\u001b[A\n",
      "chunk:  89%|████████▊ | 2189/2467 [00:04<00:00, 459.23it/s, now=None]\u001b[A\n",
      "chunk:  93%|█████████▎| 2291/2467 [00:05<00:00, 472.95it/s, now=None]\u001b[A\n",
      "chunk:  95%|█████████▍| 2342/2467 [00:05<00:00, 385.91it/s, now=None]\u001b[A\n",
      "chunk:  97%|█████████▋| 2393/2467 [00:05<00:00, 408.17it/s, now=None]\u001b[A\n",
      "chunk:   1%|▏         | 29/2121 [7:17:00<525:24:45, 904.15s/it, now=None]"
     ]
    },
    {
     "name": "stdout",
     "output_type": "stream",
     "text": [
      "MoviePy - Done.\n"
     ]
    },
    {
     "name": "stderr",
     "output_type": "stream",
     "text": [
      "chunk:   1%|▏         | 29/2121 [7:17:01<525:25:44, 904.18s/it, now=None]\n",
      "chunk:   0%|          | 0/1682 [00:00<?, ?it/s, now=None]\u001b[A\n",
      "chunk:   6%|▌         | 102/1682 [00:00<00:02, 610.23it/s, now=None]\u001b[A"
     ]
    },
    {
     "name": "stdout",
     "output_type": "stream",
     "text": [
      "MoviePy - Writing audio in /home/jupyter/datasets/amigos/audio/Exp1_P30_audio/P30_30_audio.wav\n"
     ]
    },
    {
     "name": "stderr",
     "output_type": "stream",
     "text": [
      "\n",
      "chunk:   9%|▉         | 153/1682 [00:00<00:04, 381.90it/s, now=None]\u001b[A\n",
      "chunk:  12%|█▏        | 204/1682 [00:00<00:04, 313.19it/s, now=None]\u001b[A\n",
      "chunk:  15%|█▌        | 255/1682 [00:01<00:07, 179.17it/s, now=None]\u001b[A\n",
      "chunk:  18%|█▊        | 306/1682 [00:01<00:06, 204.95it/s, now=None]\u001b[A\n",
      "chunk:  21%|██        | 357/1682 [00:01<00:06, 215.11it/s, now=None]\u001b[A\n",
      "chunk:  24%|██▍       | 408/1682 [00:01<00:05, 223.99it/s, now=None]\u001b[A\n",
      "chunk:  27%|██▋       | 459/1682 [00:02<00:06, 182.40it/s, now=None]\u001b[A\n",
      "chunk:  30%|███       | 510/1682 [00:02<00:05, 205.03it/s, now=None]\u001b[A\n",
      "chunk:  33%|███▎      | 561/1682 [00:02<00:05, 210.50it/s, now=None]\u001b[A\n",
      "chunk:  36%|███▋      | 612/1682 [00:02<00:05, 196.48it/s, now=None]\u001b[A\n",
      "chunk:  39%|███▉      | 663/1682 [00:03<00:05, 200.28it/s, now=None]\u001b[A\n",
      "chunk:  42%|████▏     | 714/1682 [00:03<00:04, 200.35it/s, now=None]\u001b[A\n",
      "chunk:  45%|████▌     | 765/1682 [00:03<00:03, 229.60it/s, now=None]\u001b[A\n",
      "chunk:  49%|████▊     | 816/1682 [00:03<00:03, 220.09it/s, now=None]\u001b[A\n",
      "chunk:  52%|█████▏    | 867/1682 [00:03<00:03, 238.28it/s, now=None]\u001b[A\n",
      "chunk:  55%|█████▍    | 918/1682 [00:04<00:03, 218.05it/s, now=None]\u001b[A\n",
      "chunk:  58%|█████▊    | 969/1682 [00:04<00:02, 244.43it/s, now=None]\u001b[A\n",
      "chunk:  61%|██████    | 1020/1682 [00:04<00:02, 242.19it/s, now=None]\u001b[A\n",
      "chunk:  64%|██████▎   | 1071/1682 [00:04<00:02, 239.39it/s, now=None]\u001b[A\n",
      "chunk:  67%|██████▋   | 1122/1682 [00:05<00:02, 248.62it/s, now=None]\u001b[A\n",
      "chunk:  70%|██████▉   | 1173/1682 [00:05<00:01, 270.51it/s, now=None]\u001b[A\n",
      "chunk:  73%|███████▎  | 1224/1682 [00:05<00:01, 289.92it/s, now=None]\u001b[A\n",
      "chunk:  76%|███████▌  | 1275/1682 [00:05<00:01, 238.46it/s, now=None]\u001b[A\n",
      "chunk:  79%|███████▉  | 1326/1682 [00:05<00:01, 225.45it/s, now=None]\u001b[A\n",
      "chunk:  82%|████████▏ | 1377/1682 [00:06<00:01, 252.32it/s, now=None]\u001b[A\n",
      "chunk:  85%|████████▍ | 1428/1682 [00:06<00:01, 195.55it/s, now=None]\u001b[A\n",
      "chunk:  88%|████████▊ | 1479/1682 [00:06<00:00, 222.90it/s, now=None]\u001b[A\n",
      "chunk:  91%|█████████ | 1530/1682 [00:06<00:00, 226.99it/s, now=None]\u001b[A\n",
      "chunk:  97%|█████████▋| 1632/1682 [00:06<00:00, 276.36it/s, now=None]\u001b[A\n",
      "chunk:   1%|▏         | 29/2121 [7:17:08<525:34:09, 904.42s/it, now=None]"
     ]
    },
    {
     "name": "stdout",
     "output_type": "stream",
     "text": [
      "MoviePy - Done.\n"
     ]
    },
    {
     "name": "stderr",
     "output_type": "stream",
     "text": [
      "chunk:   1%|▏         | 29/2121 [7:17:08<525:35:02, 904.45s/it, now=None]\n",
      "chunk:   0%|          | 0/3437 [00:00<?, ?it/s, now=None]\u001b[A\n",
      "chunk:   3%|▎         | 102/3437 [00:00<00:05, 578.91it/s, now=None]\u001b[A"
     ]
    },
    {
     "name": "stdout",
     "output_type": "stream",
     "text": [
      "MoviePy - Writing audio in /home/jupyter/datasets/amigos/audio/Exp1_P30_audio/P30_31_audio.wav\n"
     ]
    },
    {
     "name": "stderr",
     "output_type": "stream",
     "text": [
      "\n",
      "chunk:   4%|▍         | 153/3437 [00:00<00:07, 431.28it/s, now=None]\u001b[A\n",
      "chunk:   6%|▌         | 204/3437 [00:00<00:08, 394.44it/s, now=None]\u001b[A\n",
      "chunk:   7%|▋         | 255/3437 [00:00<00:09, 350.51it/s, now=None]\u001b[A\n",
      "chunk:   9%|▉         | 306/3437 [00:00<00:08, 362.80it/s, now=None]\u001b[A\n",
      "chunk:  10%|█         | 357/3437 [00:00<00:08, 379.95it/s, now=None]\u001b[A\n",
      "chunk:  13%|█▎        | 459/3437 [00:01<00:06, 436.18it/s, now=None]\u001b[A\n",
      "chunk:  16%|█▌        | 546/3437 [00:01<00:05, 512.90it/s, now=None]\u001b[A\n",
      "chunk:  18%|█▊        | 603/3437 [00:01<00:05, 494.67it/s, now=None]\u001b[A\n",
      "chunk:  19%|█▉        | 663/3437 [00:01<00:06, 428.10it/s, now=None]\u001b[A\n",
      "chunk:  21%|██        | 714/3437 [00:01<00:07, 353.28it/s, now=None]\u001b[A\n",
      "chunk:  22%|██▏       | 765/3437 [00:01<00:07, 362.32it/s, now=None]\u001b[A\n",
      "chunk:  24%|██▎       | 816/3437 [00:02<00:07, 330.77it/s, now=None]\u001b[A\n",
      "chunk:  25%|██▌       | 867/3437 [00:02<00:08, 308.02it/s, now=None]\u001b[A\n",
      "chunk:  27%|██▋       | 918/3437 [00:02<00:09, 254.81it/s, now=None]\u001b[A\n",
      "chunk:  28%|██▊       | 969/3437 [00:02<00:09, 260.63it/s, now=None]\u001b[A\n",
      "chunk:  30%|██▉       | 1020/3437 [00:02<00:10, 224.21it/s, now=None]\u001b[A\n",
      "chunk:  31%|███       | 1071/3437 [00:03<00:10, 233.74it/s, now=None]\u001b[A\n",
      "chunk:  33%|███▎      | 1122/3437 [00:03<00:09, 253.69it/s, now=None]\u001b[A\n",
      "chunk:  34%|███▍      | 1173/3437 [00:03<00:09, 231.59it/s, now=None]\u001b[A\n",
      "chunk:  36%|███▌      | 1224/3437 [00:03<00:09, 233.67it/s, now=None]\u001b[A\n",
      "chunk:  37%|███▋      | 1275/3437 [00:04<00:09, 229.48it/s, now=None]\u001b[A\n",
      "chunk:  39%|███▊      | 1326/3437 [00:04<00:08, 245.89it/s, now=None]\u001b[A\n",
      "chunk:  42%|████▏     | 1428/3437 [00:04<00:06, 299.88it/s, now=None]\u001b[A\n",
      "chunk:  43%|████▎     | 1479/3437 [00:04<00:05, 331.26it/s, now=None]\u001b[A\n",
      "chunk:  46%|████▌     | 1581/3437 [00:04<00:04, 376.69it/s, now=None]\u001b[A\n",
      "chunk:  47%|████▋     | 1632/3437 [00:04<00:04, 397.23it/s, now=None]\u001b[A\n",
      "chunk:  50%|█████     | 1735/3437 [00:04<00:03, 486.84it/s, now=None]\u001b[A\n",
      "chunk:  52%|█████▏    | 1797/3437 [00:05<00:03, 482.48it/s, now=None]\u001b[A\n",
      "chunk:  54%|█████▍    | 1868/3437 [00:05<00:02, 533.60it/s, now=None]\u001b[A\n",
      "chunk:  56%|█████▌    | 1930/3437 [00:05<00:03, 475.73it/s, now=None]\u001b[A\n",
      "chunk:  58%|█████▊    | 1985/3437 [00:05<00:03, 426.48it/s, now=None]\u001b[A\n",
      "chunk:  59%|█████▉    | 2034/3437 [00:05<00:04, 327.12it/s, now=None]\u001b[A\n",
      "chunk:  61%|██████    | 2091/3437 [00:05<00:03, 337.87it/s, now=None]\u001b[A\n",
      "chunk:  62%|██████▏   | 2142/3437 [00:05<00:03, 352.11it/s, now=None]\u001b[A\n",
      "chunk:  64%|██████▍   | 2193/3437 [00:06<00:03, 345.06it/s, now=None]\u001b[A\n",
      "chunk:  65%|██████▌   | 2244/3437 [00:06<00:04, 287.20it/s, now=None]\u001b[A\n",
      "chunk:  67%|██████▋   | 2295/3437 [00:06<00:03, 320.70it/s, now=None]\u001b[A\n",
      "chunk:  68%|██████▊   | 2346/3437 [00:06<00:03, 356.87it/s, now=None]\u001b[A\n",
      "chunk:  70%|██████▉   | 2397/3437 [00:06<00:03, 325.84it/s, now=None]\u001b[A\n",
      "chunk:  71%|███████   | 2448/3437 [00:06<00:03, 301.67it/s, now=None]\u001b[A\n",
      "chunk:  73%|███████▎  | 2499/3437 [00:07<00:02, 341.83it/s, now=None]\u001b[A\n",
      "chunk:  74%|███████▍  | 2550/3437 [00:07<00:02, 348.18it/s, now=None]\u001b[A\n",
      "chunk:  76%|███████▌  | 2601/3437 [00:07<00:02, 384.22it/s, now=None]\u001b[A\n",
      "chunk:  77%|███████▋  | 2652/3437 [00:07<00:02, 388.02it/s, now=None]\u001b[A\n",
      "chunk:  79%|███████▊  | 2703/3437 [00:07<00:01, 369.89it/s, now=None]\u001b[A\n",
      "chunk:  80%|████████  | 2754/3437 [00:07<00:01, 345.16it/s, now=None]\u001b[A\n",
      "chunk:  82%|████████▏ | 2805/3437 [00:07<00:01, 360.45it/s, now=None]\u001b[A\n",
      "chunk:  83%|████████▎ | 2856/3437 [00:08<00:02, 287.16it/s, now=None]\u001b[A\n",
      "chunk:  85%|████████▍ | 2907/3437 [00:08<00:01, 323.44it/s, now=None]\u001b[A\n",
      "chunk:  86%|████████▌ | 2958/3437 [00:08<00:01, 336.68it/s, now=None]\u001b[A\n",
      "chunk:  89%|████████▉ | 3060/3437 [00:08<00:01, 333.14it/s, now=None]\u001b[A\n",
      "chunk:  91%|█████████ | 3111/3437 [00:09<00:01, 267.02it/s, now=None]\u001b[A\n",
      "chunk:  92%|█████████▏| 3162/3437 [00:09<00:01, 258.85it/s, now=None]\u001b[A\n",
      "chunk:  93%|█████████▎| 3213/3437 [00:09<00:01, 214.06it/s, now=None]\u001b[A\n",
      "chunk:  95%|█████████▍| 3264/3437 [00:09<00:00, 242.42it/s, now=None]\u001b[A\n",
      "chunk:  96%|█████████▋| 3315/3437 [00:09<00:00, 249.77it/s, now=None]\u001b[A\n",
      "chunk:  98%|█████████▊| 3366/3437 [00:10<00:00, 268.98it/s, now=None]\u001b[A\n",
      "chunk:   1%|▏         | 29/2121 [7:17:19<525:47:15, 904.80s/it, now=None]"
     ]
    },
    {
     "name": "stdout",
     "output_type": "stream",
     "text": [
      "MoviePy - Done.\n"
     ]
    },
    {
     "name": "stderr",
     "output_type": "stream",
     "text": [
      "chunk:   1%|▏         | 29/2121 [7:17:19<525:48:13, 904.82s/it, now=None]\n",
      "chunk:   0%|          | 0/1462 [00:00<?, ?it/s, now=None]\u001b[A\n",
      "chunk:   9%|▊         | 127/1462 [00:00<00:01, 1267.77it/s, now=None]\u001b[A"
     ]
    },
    {
     "name": "stdout",
     "output_type": "stream",
     "text": [
      "MoviePy - Writing audio in /home/jupyter/datasets/amigos/audio/Exp1_P30_audio/P30_34_audio.wav\n"
     ]
    },
    {
     "name": "stderr",
     "output_type": "stream",
     "text": [
      "\n",
      "chunk:  11%|█▏        | 166/1462 [00:00<00:01, 650.90it/s, now=None] \u001b[A\n",
      "chunk:  14%|█▍        | 204/1462 [00:00<00:03, 385.03it/s, now=None]\u001b[A\n",
      "chunk:  17%|█▋        | 255/1462 [00:00<00:03, 306.97it/s, now=None]\u001b[A\n",
      "chunk:  23%|██▎       | 332/1462 [00:00<00:03, 374.50it/s, now=None]\u001b[A\n",
      "chunk:  26%|██▌       | 375/1462 [00:00<00:03, 322.09it/s, now=None]\u001b[A\n",
      "chunk:  28%|██▊       | 413/1462 [00:01<00:03, 317.61it/s, now=None]\u001b[A\n",
      "chunk:  31%|███▏      | 459/1462 [00:01<00:03, 252.97it/s, now=None]\u001b[A\n",
      "chunk:  35%|███▍      | 510/1462 [00:01<00:04, 212.92it/s, now=None]\u001b[A\n",
      "chunk:  38%|███▊      | 561/1462 [00:01<00:03, 250.98it/s, now=None]\u001b[A\n",
      "chunk:  42%|████▏     | 612/1462 [00:01<00:03, 272.60it/s, now=None]\u001b[A\n",
      "chunk:  45%|████▌     | 663/1462 [00:02<00:02, 292.53it/s, now=None]\u001b[A\n",
      "chunk:  49%|████▉     | 714/1462 [00:02<00:02, 298.56it/s, now=None]\u001b[A\n",
      "chunk:  52%|█████▏    | 765/1462 [00:02<00:02, 322.76it/s, now=None]\u001b[A\n",
      "chunk:  56%|█████▌    | 816/1462 [00:02<00:02, 308.95it/s, now=None]\u001b[A\n",
      "chunk:  59%|█████▉    | 867/1462 [00:02<00:01, 320.06it/s, now=None]\u001b[A\n",
      "chunk:  63%|██████▎   | 918/1462 [00:02<00:01, 323.85it/s, now=None]\u001b[A\n",
      "chunk:  66%|██████▋   | 969/1462 [00:03<00:01, 306.95it/s, now=None]\u001b[A\n",
      "chunk:  70%|██████▉   | 1020/1462 [00:03<00:01, 348.45it/s, now=None]\u001b[A\n",
      "chunk:  73%|███████▎  | 1071/1462 [00:03<00:01, 367.48it/s, now=None]\u001b[A\n",
      "chunk:  77%|███████▋  | 1122/1462 [00:03<00:01, 282.35it/s, now=None]\u001b[A\n",
      "chunk:  80%|████████  | 1173/1462 [00:03<00:00, 289.59it/s, now=None]\u001b[A\n",
      "chunk:  84%|████████▎ | 1224/1462 [00:03<00:00, 291.21it/s, now=None]\u001b[A\n",
      "chunk:  87%|████████▋ | 1275/1462 [00:04<00:00, 277.48it/s, now=None]\u001b[A\n",
      "chunk:  91%|█████████ | 1326/1462 [00:04<00:00, 284.47it/s, now=None]\u001b[A\n",
      "chunk:  94%|█████████▍| 1377/1462 [00:04<00:00, 316.12it/s, now=None]\u001b[A\n",
      "chunk: 100%|██████████| 1462/1462 [00:04<00:00, 389.41it/s, now=None]\u001b[A\n",
      "chunk:   1%|▏         | 29/2121 [7:17:24<525:53:37, 904.98s/it, now=None]"
     ]
    },
    {
     "name": "stdout",
     "output_type": "stream",
     "text": [
      "MoviePy - Done.\n"
     ]
    },
    {
     "name": "stderr",
     "output_type": "stream",
     "text": [
      "chunk:   1%|▏         | 29/2121 [7:17:25<525:54:25, 905.00s/it, now=None]\n",
      "chunk:   0%|          | 0/1507 [00:00<?, ?it/s, now=None]\u001b[A\n",
      "chunk:   7%|▋         | 102/1507 [00:00<00:01, 825.49it/s, now=None]\u001b[A"
     ]
    },
    {
     "name": "stdout",
     "output_type": "stream",
     "text": [
      "MoviePy - Writing audio in /home/jupyter/datasets/amigos/audio/Exp1_P30_audio/P30_36_audio.wav\n"
     ]
    },
    {
     "name": "stderr",
     "output_type": "stream",
     "text": [
      "\n",
      "chunk:  10%|█         | 153/1507 [00:00<00:03, 379.14it/s, now=None]\u001b[A\n",
      "chunk:  14%|█▎        | 204/1507 [00:00<00:04, 268.97it/s, now=None]\u001b[A\n",
      "chunk:  17%|█▋        | 255/1507 [00:00<00:04, 256.16it/s, now=None]\u001b[A\n",
      "chunk:  20%|██        | 306/1507 [00:01<00:04, 247.87it/s, now=None]\u001b[A\n",
      "chunk:  24%|██▎       | 357/1507 [00:01<00:04, 279.96it/s, now=None]\u001b[A\n",
      "chunk:  27%|██▋       | 408/1507 [00:01<00:03, 286.72it/s, now=None]\u001b[A\n",
      "chunk:  30%|███       | 459/1507 [00:01<00:04, 259.98it/s, now=None]\u001b[A\n",
      "chunk:  34%|███▍      | 510/1507 [00:01<00:03, 255.98it/s, now=None]\u001b[A\n",
      "chunk:  37%|███▋      | 561/1507 [00:02<00:03, 257.05it/s, now=None]\u001b[A\n",
      "chunk:  41%|████      | 612/1507 [00:02<00:03, 261.87it/s, now=None]\u001b[A\n",
      "chunk:  44%|████▍     | 663/1507 [00:02<00:03, 238.76it/s, now=None]\u001b[A\n",
      "chunk:  47%|████▋     | 714/1507 [00:02<00:03, 261.71it/s, now=None]\u001b[A\n",
      "chunk:  51%|█████     | 765/1507 [00:02<00:02, 268.10it/s, now=None]\u001b[A\n",
      "chunk:  54%|█████▍    | 816/1507 [00:03<00:02, 285.05it/s, now=None]\u001b[A\n",
      "chunk:  58%|█████▊    | 867/1507 [00:03<00:02, 273.39it/s, now=None]\u001b[A\n",
      "chunk:  61%|██████    | 918/1507 [00:03<00:01, 308.96it/s, now=None]\u001b[A\n",
      "chunk:  64%|██████▍   | 969/1507 [00:03<00:01, 330.28it/s, now=None]\u001b[A\n",
      "chunk:  71%|███████   | 1067/1507 [00:03<00:01, 412.19it/s, now=None]\u001b[A\n",
      "chunk:  74%|███████▍  | 1122/1507 [00:03<00:00, 405.37it/s, now=None]\u001b[A\n",
      "chunk:  78%|███████▊  | 1173/1507 [00:04<00:01, 259.24it/s, now=None]\u001b[A\n",
      "chunk:  81%|████████  | 1224/1507 [00:04<00:01, 249.69it/s, now=None]\u001b[A\n",
      "chunk:  85%|████████▍ | 1275/1507 [00:04<00:01, 228.58it/s, now=None]\u001b[A\n",
      "chunk:  88%|████████▊ | 1326/1507 [00:04<00:00, 250.65it/s, now=None]\u001b[A\n",
      "chunk:  91%|█████████▏| 1377/1507 [00:04<00:00, 294.05it/s, now=None]\u001b[A\n",
      "chunk:  95%|█████████▍| 1428/1507 [00:04<00:00, 313.70it/s, now=None]\u001b[A\n",
      "chunk:  98%|█████████▊| 1479/1507 [00:05<00:00, 318.37it/s, now=None]\u001b[A\n",
      "chunk:   1%|▏         | 29/2121 [7:17:30<526:00:39, 905.18s/it, now=None]"
     ]
    },
    {
     "name": "stdout",
     "output_type": "stream",
     "text": [
      "MoviePy - Done.\n"
     ]
    },
    {
     "name": "stderr",
     "output_type": "stream",
     "text": [
      "chunk:   1%|▏         | 29/2121 [7:17:31<526:01:38, 905.21s/it, now=None]\n",
      "chunk:   0%|          | 0/2010 [00:00<?, ?it/s, now=None]\u001b[A"
     ]
    },
    {
     "name": "stdout",
     "output_type": "stream",
     "text": [
      "MoviePy - Writing audio in /home/jupyter/datasets/amigos/audio/Exp1_P30_audio/P30_4_audio.wav\n"
     ]
    },
    {
     "name": "stderr",
     "output_type": "stream",
     "text": [
      "\n",
      "chunk:   8%|▊         | 153/2010 [00:00<00:02, 637.92it/s, now=None]\u001b[A\n",
      "chunk:  10%|█         | 204/2010 [00:00<00:03, 470.49it/s, now=None]\u001b[A\n",
      "chunk:  13%|█▎        | 255/2010 [00:00<00:05, 321.79it/s, now=None]\u001b[A\n",
      "chunk:  15%|█▌        | 306/2010 [00:00<00:06, 275.20it/s, now=None]\u001b[A\n",
      "chunk:  18%|█▊        | 357/2010 [00:01<00:05, 291.26it/s, now=None]\u001b[A\n",
      "chunk:  23%|██▎       | 459/2010 [00:01<00:04, 310.32it/s, now=None]\u001b[A\n",
      "chunk:  25%|██▌       | 510/2010 [00:01<00:04, 326.40it/s, now=None]\u001b[A\n",
      "chunk:  28%|██▊       | 561/2010 [00:01<00:04, 332.20it/s, now=None]\u001b[A\n",
      "chunk:  30%|███       | 612/2010 [00:01<00:04, 301.65it/s, now=None]\u001b[A\n",
      "chunk:  33%|███▎      | 663/2010 [00:01<00:04, 317.65it/s, now=None]\u001b[A\n",
      "chunk:  36%|███▌      | 714/2010 [00:02<00:04, 296.21it/s, now=None]\u001b[A\n",
      "chunk:  40%|███▉      | 794/2010 [00:02<00:03, 365.18it/s, now=None]\u001b[A\n",
      "chunk:  43%|████▎     | 867/2010 [00:02<00:03, 316.52it/s, now=None]\u001b[A\n",
      "chunk:  46%|████▌     | 918/2010 [00:02<00:03, 298.58it/s, now=None]\u001b[A\n",
      "chunk:  48%|████▊     | 969/2010 [00:03<00:04, 259.50it/s, now=None]\u001b[A\n",
      "chunk:  51%|█████     | 1020/2010 [00:03<00:03, 260.40it/s, now=None]\u001b[A\n",
      "chunk:  53%|█████▎    | 1071/2010 [00:03<00:03, 272.41it/s, now=None]\u001b[A\n",
      "chunk:  56%|█████▌    | 1122/2010 [00:03<00:02, 311.95it/s, now=None]\u001b[A\n",
      "chunk:  58%|█████▊    | 1173/2010 [00:03<00:02, 308.45it/s, now=None]\u001b[A\n",
      "chunk:  61%|██████    | 1224/2010 [00:04<00:03, 225.04it/s, now=None]\u001b[A\n",
      "chunk:  63%|██████▎   | 1275/2010 [00:04<00:03, 220.14it/s, now=None]\u001b[A\n",
      "chunk:  66%|██████▌   | 1326/2010 [00:04<00:03, 201.28it/s, now=None]\u001b[A\n",
      "chunk:  69%|██████▊   | 1377/2010 [00:04<00:03, 190.64it/s, now=None]\u001b[A\n",
      "chunk:  74%|███████▎  | 1479/2010 [00:05<00:02, 206.73it/s, now=None]\u001b[A\n",
      "chunk:  76%|███████▌  | 1530/2010 [00:05<00:02, 229.00it/s, now=None]\u001b[A\n",
      "chunk:  79%|███████▊  | 1581/2010 [00:05<00:01, 238.77it/s, now=None]\u001b[A\n",
      "chunk:  81%|████████  | 1632/2010 [00:05<00:01, 238.73it/s, now=None]\u001b[A\n",
      "chunk:  84%|████████▎ | 1683/2010 [00:05<00:01, 279.83it/s, now=None]\u001b[A\n",
      "chunk:  86%|████████▋ | 1734/2010 [00:06<00:00, 291.40it/s, now=None]\u001b[A\n",
      "chunk:  89%|████████▉ | 1785/2010 [00:06<00:00, 274.54it/s, now=None]\u001b[A\n",
      "chunk:  91%|█████████▏| 1836/2010 [00:06<00:00, 272.11it/s, now=None]\u001b[A\n",
      "chunk:  94%|█████████▍| 1887/2010 [00:06<00:00, 289.22it/s, now=None]\u001b[A\n",
      "chunk:  96%|█████████▋| 1938/2010 [00:06<00:00, 257.70it/s, now=None]\u001b[A\n",
      "chunk:   1%|▏         | 29/2121 [7:17:38<526:10:06, 905.45s/it, now=None]"
     ]
    },
    {
     "name": "stdout",
     "output_type": "stream",
     "text": [
      "MoviePy - Done.\n"
     ]
    },
    {
     "name": "stderr",
     "output_type": "stream",
     "text": [
      "chunk:   1%|▏         | 29/2121 [7:17:38<526:11:09, 905.48s/it, now=None]\n",
      "chunk:   0%|          | 0/2486 [00:00<?, ?it/s, now=None]\u001b[A\n",
      "chunk:   4%|▍         | 102/2486 [00:00<00:02, 802.80it/s, now=None]\u001b[A"
     ]
    },
    {
     "name": "stdout",
     "output_type": "stream",
     "text": [
      "MoviePy - Writing audio in /home/jupyter/datasets/amigos/audio/Exp1_P30_audio/P30_5_audio.wav\n"
     ]
    },
    {
     "name": "stderr",
     "output_type": "stream",
     "text": [
      "\n",
      "chunk:   6%|▌         | 153/2486 [00:00<00:05, 408.37it/s, now=None]\u001b[A\n",
      "chunk:   8%|▊         | 204/2486 [00:00<00:07, 295.04it/s, now=None]\u001b[A\n",
      "chunk:  10%|█         | 255/2486 [00:01<00:09, 229.32it/s, now=None]\u001b[A\n",
      "chunk:  12%|█▏        | 306/2486 [00:01<00:09, 231.37it/s, now=None]\u001b[A\n",
      "chunk:  16%|█▋        | 408/2486 [00:01<00:08, 253.83it/s, now=None]\u001b[A\n",
      "chunk:  18%|█▊        | 459/2486 [00:01<00:07, 259.21it/s, now=None]\u001b[A\n",
      "chunk:  21%|██        | 510/2486 [00:01<00:08, 236.82it/s, now=None]\u001b[A\n",
      "chunk:  23%|██▎       | 561/2486 [00:02<00:08, 235.66it/s, now=None]\u001b[A\n",
      "chunk:  25%|██▍       | 612/2486 [00:02<00:07, 250.48it/s, now=None]\u001b[A\n",
      "chunk:  27%|██▋       | 663/2486 [00:02<00:08, 218.72it/s, now=None]\u001b[A\n",
      "chunk:  29%|██▊       | 714/2486 [00:02<00:08, 208.85it/s, now=None]\u001b[A\n",
      "chunk:  31%|███       | 765/2486 [00:03<00:07, 245.81it/s, now=None]\u001b[A\n",
      "chunk:  33%|███▎      | 816/2486 [00:03<00:06, 266.29it/s, now=None]\u001b[A\n",
      "chunk:  35%|███▍      | 867/2486 [00:03<00:06, 257.22it/s, now=None]\u001b[A\n",
      "chunk:  37%|███▋      | 918/2486 [00:03<00:05, 294.97it/s, now=None]\u001b[A\n",
      "chunk:  39%|███▉      | 969/2486 [00:03<00:05, 257.31it/s, now=None]\u001b[A\n",
      "chunk:  41%|████      | 1020/2486 [00:04<00:05, 257.38it/s, now=None]\u001b[A\n",
      "chunk:  43%|████▎     | 1071/2486 [00:04<00:05, 248.39it/s, now=None]\u001b[A\n",
      "chunk:  45%|████▌     | 1122/2486 [00:04<00:05, 228.42it/s, now=None]\u001b[A\n",
      "chunk:  47%|████▋     | 1173/2486 [00:04<00:06, 188.33it/s, now=None]\u001b[A\n",
      "chunk:  49%|████▉     | 1224/2486 [00:05<00:07, 167.49it/s, now=None]\u001b[A\n",
      "chunk:  51%|█████▏    | 1275/2486 [00:05<00:06, 178.98it/s, now=None]\u001b[A\n",
      "chunk:  53%|█████▎    | 1326/2486 [00:05<00:06, 179.12it/s, now=None]\u001b[A\n",
      "chunk:  55%|█████▌    | 1377/2486 [00:05<00:05, 214.66it/s, now=None]\u001b[A\n",
      "chunk:  57%|█████▋    | 1428/2486 [00:06<00:04, 244.86it/s, now=None]\u001b[A\n",
      "chunk:  59%|█████▉    | 1479/2486 [00:06<00:03, 274.19it/s, now=None]\u001b[A\n",
      "chunk:  62%|██████▏   | 1530/2486 [00:06<00:03, 252.82it/s, now=None]\u001b[A\n",
      "chunk:  64%|██████▎   | 1581/2486 [00:06<00:03, 232.19it/s, now=None]\u001b[A\n",
      "chunk:  66%|██████▌   | 1632/2486 [00:06<00:03, 240.55it/s, now=None]\u001b[A\n",
      "chunk:  68%|██████▊   | 1683/2486 [00:07<00:03, 253.80it/s, now=None]\u001b[A\n",
      "chunk:  70%|██████▉   | 1734/2486 [00:07<00:02, 263.95it/s, now=None]\u001b[A\n",
      "chunk:  72%|███████▏  | 1785/2486 [00:07<00:02, 295.98it/s, now=None]\u001b[A\n",
      "chunk:  74%|███████▍  | 1836/2486 [00:07<00:02, 298.72it/s, now=None]\u001b[A\n",
      "chunk:  76%|███████▌  | 1887/2486 [00:07<00:02, 296.97it/s, now=None]\u001b[A\n",
      "chunk:  78%|███████▊  | 1938/2486 [00:07<00:01, 296.76it/s, now=None]\u001b[A\n",
      "chunk:  80%|████████  | 1989/2486 [00:07<00:01, 325.88it/s, now=None]\u001b[A\n",
      "chunk:  82%|████████▏ | 2040/2486 [00:08<00:02, 203.54it/s, now=None]\u001b[A\n",
      "chunk:  84%|████████▍ | 2091/2486 [00:08<00:01, 226.72it/s, now=None]\u001b[A\n",
      "chunk:  86%|████████▌ | 2142/2486 [00:08<00:01, 232.48it/s, now=None]\u001b[A\n",
      "chunk:  88%|████████▊ | 2193/2486 [00:09<00:01, 229.68it/s, now=None]\u001b[A\n",
      "chunk:  90%|█████████ | 2244/2486 [00:09<00:00, 266.43it/s, now=None]\u001b[A\n",
      "chunk:  92%|█████████▏| 2295/2486 [00:09<00:00, 270.58it/s, now=None]\u001b[A\n",
      "chunk:  94%|█████████▍| 2346/2486 [00:09<00:00, 283.08it/s, now=None]\u001b[A\n",
      "chunk:  96%|█████████▋| 2397/2486 [00:09<00:00, 324.49it/s, now=None]\u001b[A\n",
      "chunk:  98%|█████████▊| 2448/2486 [00:09<00:00, 307.39it/s, now=None]\u001b[A\n",
      "chunk:   1%|▏         | 29/2121 [7:17:48<526:23:00, 905.82s/it, now=None]"
     ]
    },
    {
     "name": "stdout",
     "output_type": "stream",
     "text": [
      "MoviePy - Done.\n"
     ]
    },
    {
     "name": "stderr",
     "output_type": "stream",
     "text": [
      "chunk:   1%|▏         | 29/2121 [7:17:49<526:23:59, 905.85s/it, now=None]\n",
      "chunk:   0%|          | 0/1425 [00:00<?, ?it/s, now=None]\u001b[A\n"
     ]
    },
    {
     "name": "stdout",
     "output_type": "stream",
     "text": [
      "MoviePy - Writing audio in /home/jupyter/datasets/amigos/audio/Exp1_P30_audio/P30_58_audio.wav\n"
     ]
    },
    {
     "name": "stderr",
     "output_type": "stream",
     "text": [
      "chunk:   7%|▋         | 102/1425 [00:00<00:02, 559.81it/s, now=None]\u001b[A\n",
      "chunk:  11%|█         | 153/1425 [00:00<00:02, 433.17it/s, now=None]\u001b[A\n",
      "chunk:  14%|█▍        | 204/1425 [00:00<00:03, 353.57it/s, now=None]\u001b[A\n",
      "chunk:  18%|█▊        | 255/1425 [00:00<00:04, 270.85it/s, now=None]\u001b[A\n",
      "chunk:  21%|██▏       | 306/1425 [00:01<00:04, 266.57it/s, now=None]\u001b[A\n",
      "chunk:  25%|██▌       | 357/1425 [00:01<00:03, 291.18it/s, now=None]\u001b[A\n",
      "chunk:  29%|██▊       | 408/1425 [00:01<00:04, 253.95it/s, now=None]\u001b[A\n",
      "chunk:  32%|███▏      | 459/1425 [00:01<00:03, 257.75it/s, now=None]\u001b[A\n",
      "chunk:  36%|███▌      | 510/1425 [00:01<00:03, 245.02it/s, now=None]\u001b[A\n",
      "chunk:  39%|███▉      | 561/1425 [00:02<00:03, 242.74it/s, now=None]\u001b[A\n",
      "chunk:  43%|████▎     | 612/1425 [00:02<00:03, 270.66it/s, now=None]\u001b[A\n",
      "chunk:  47%|████▋     | 663/1425 [00:02<00:02, 301.96it/s, now=None]\u001b[A\n",
      "chunk:  50%|█████     | 714/1425 [00:02<00:02, 257.80it/s, now=None]\u001b[A\n",
      "chunk:  54%|█████▎    | 765/1425 [00:02<00:02, 285.56it/s, now=None]\u001b[A\n",
      "chunk:  57%|█████▋    | 816/1425 [00:03<00:02, 254.07it/s, now=None]\u001b[A\n",
      "chunk:  61%|██████    | 867/1425 [00:03<00:02, 233.23it/s, now=None]\u001b[A\n",
      "chunk:  68%|██████▊   | 969/1425 [00:03<00:01, 282.36it/s, now=None]\u001b[A\n",
      "chunk:  72%|███████▏  | 1020/1425 [00:03<00:01, 314.77it/s, now=None]\u001b[A\n",
      "chunk:  75%|███████▌  | 1071/1425 [00:03<00:01, 251.54it/s, now=None]\u001b[A\n",
      "chunk:  79%|███████▊  | 1122/1425 [00:04<00:01, 251.33it/s, now=None]\u001b[A\n",
      "chunk:  82%|████████▏ | 1173/1425 [00:04<00:00, 288.42it/s, now=None]\u001b[A\n",
      "chunk:  86%|████████▌ | 1224/1425 [00:04<00:00, 291.00it/s, now=None]\u001b[A\n",
      "chunk:  89%|████████▉ | 1275/1425 [00:04<00:00, 327.92it/s, now=None]\u001b[A\n",
      "chunk:  93%|█████████▎| 1326/1425 [00:04<00:00, 311.41it/s, now=None]\u001b[A\n",
      "chunk:  97%|█████████▋| 1377/1425 [00:04<00:00, 350.05it/s, now=None]\u001b[A\n",
      "chunk:   1%|▏         | 29/2121 [7:17:54<526:29:44, 906.02s/it, now=None]"
     ]
    },
    {
     "name": "stdout",
     "output_type": "stream",
     "text": [
      "MoviePy - Done.\n"
     ]
    },
    {
     "name": "stderr",
     "output_type": "stream",
     "text": [
      "chunk:   1%|▏         | 29/2121 [7:17:55<526:30:39, 906.04s/it, now=None]\n",
      "chunk:   0%|          | 0/2256 [00:00<?, ?it/s, now=None]\u001b[A\n",
      "chunk:   5%|▍         | 102/2256 [00:00<00:02, 777.01it/s, now=None]\u001b[A"
     ]
    },
    {
     "name": "stdout",
     "output_type": "stream",
     "text": [
      "MoviePy - Writing audio in /home/jupyter/datasets/amigos/audio/Exp1_P30_audio/P30_80_audio.wav\n"
     ]
    },
    {
     "name": "stderr",
     "output_type": "stream",
     "text": [
      "\n",
      "chunk:   7%|▋         | 153/2256 [00:00<00:04, 506.23it/s, now=None]\u001b[A\n",
      "chunk:   9%|▉         | 204/2256 [00:00<00:05, 364.64it/s, now=None]\u001b[A\n",
      "chunk:  11%|█▏        | 255/2256 [00:00<00:05, 352.58it/s, now=None]\u001b[A\n",
      "chunk:  14%|█▎        | 306/2256 [00:00<00:05, 335.71it/s, now=None]\u001b[A\n",
      "chunk:  16%|█▌        | 357/2256 [00:01<00:05, 345.96it/s, now=None]\u001b[A\n",
      "chunk:  18%|█▊        | 408/2256 [00:01<00:05, 325.64it/s, now=None]\u001b[A\n",
      "chunk:  20%|██        | 459/2256 [00:01<00:05, 305.92it/s, now=None]\u001b[A\n",
      "chunk:  23%|██▎       | 510/2256 [00:01<00:06, 269.64it/s, now=None]\u001b[A\n",
      "chunk:  25%|██▍       | 561/2256 [00:01<00:06, 269.22it/s, now=None]\u001b[A\n",
      "chunk:  27%|██▋       | 612/2256 [00:02<00:06, 263.42it/s, now=None]\u001b[A\n",
      "chunk:  29%|██▉       | 663/2256 [00:02<00:05, 302.48it/s, now=None]\u001b[A\n",
      "chunk:  32%|███▏      | 714/2256 [00:02<00:05, 282.60it/s, now=None]\u001b[A\n",
      "chunk:  34%|███▍      | 765/2256 [00:02<00:05, 255.31it/s, now=None]\u001b[A\n",
      "chunk:  36%|███▌      | 816/2256 [00:02<00:05, 240.17it/s, now=None]\u001b[A\n",
      "chunk:  38%|███▊      | 867/2256 [00:02<00:05, 256.67it/s, now=None]\u001b[A\n",
      "chunk:  41%|████      | 918/2256 [00:03<00:05, 261.95it/s, now=None]\u001b[A\n",
      "chunk:  43%|████▎     | 969/2256 [00:03<00:05, 217.78it/s, now=None]\u001b[A\n",
      "chunk:  45%|████▌     | 1020/2256 [00:03<00:05, 240.82it/s, now=None]\u001b[A\n",
      "chunk:  47%|████▋     | 1071/2256 [00:03<00:05, 235.60it/s, now=None]\u001b[A\n",
      "chunk:  50%|████▉     | 1122/2256 [00:04<00:04, 255.42it/s, now=None]\u001b[A\n",
      "chunk:  52%|█████▏    | 1173/2256 [00:04<00:04, 248.50it/s, now=None]\u001b[A\n",
      "chunk:  54%|█████▍    | 1224/2256 [00:04<00:04, 257.14it/s, now=None]\u001b[A\n",
      "chunk:  57%|█████▋    | 1275/2256 [00:04<00:03, 266.66it/s, now=None]\u001b[A\n",
      "chunk:  59%|█████▉    | 1326/2256 [00:04<00:03, 303.40it/s, now=None]\u001b[A\n",
      "chunk:  61%|██████    | 1377/2256 [00:04<00:03, 271.48it/s, now=None]\u001b[A\n",
      "chunk:  63%|██████▎   | 1428/2256 [00:05<00:03, 260.68it/s, now=None]\u001b[A\n",
      "chunk:  66%|██████▌   | 1479/2256 [00:05<00:03, 243.38it/s, now=None]\u001b[A\n",
      "chunk:  68%|██████▊   | 1530/2256 [00:05<00:03, 205.66it/s, now=None]\u001b[A\n",
      "chunk:  70%|███████   | 1581/2256 [00:05<00:03, 215.58it/s, now=None]\u001b[A\n",
      "chunk:  72%|███████▏  | 1632/2256 [00:06<00:02, 255.94it/s, now=None]\u001b[A\n",
      "chunk:  75%|███████▍  | 1683/2256 [00:06<00:02, 275.21it/s, now=None]\u001b[A\n",
      "chunk:  77%|███████▋  | 1734/2256 [00:06<00:02, 216.20it/s, now=None]\u001b[A\n",
      "chunk:  79%|███████▉  | 1785/2256 [00:06<00:02, 206.11it/s, now=None]\u001b[A\n",
      "chunk:  81%|████████▏ | 1836/2256 [00:07<00:02, 198.54it/s, now=None]\u001b[A\n",
      "chunk:  84%|████████▎ | 1887/2256 [00:07<00:02, 172.92it/s, now=None]\u001b[A\n",
      "chunk:  86%|████████▌ | 1938/2256 [00:07<00:01, 180.59it/s, now=None]\u001b[A\n",
      "chunk:  88%|████████▊ | 1989/2256 [00:07<00:01, 206.17it/s, now=None]\u001b[A\n",
      "chunk:  90%|█████████ | 2040/2256 [00:08<00:00, 234.53it/s, now=None]\u001b[A\n",
      "chunk:  93%|█████████▎| 2091/2256 [00:08<00:00, 272.69it/s, now=None]\u001b[A\n",
      "chunk:  95%|█████████▍| 2142/2256 [00:08<00:00, 282.81it/s, now=None]\u001b[A\n",
      "chunk:  97%|█████████▋| 2193/2256 [00:08<00:00, 274.36it/s, now=None]\u001b[A\n",
      "chunk:   1%|▏         | 29/2121 [7:18:03<526:41:01, 906.34s/it, now=None]"
     ]
    },
    {
     "name": "stdout",
     "output_type": "stream",
     "text": [
      "MoviePy - Done.\n"
     ]
    },
    {
     "name": "stderr",
     "output_type": "stream",
     "text": [
      "chunk:   1%|▏         | 29/2121 [7:18:04<526:42:10, 906.37s/it, now=None]\n",
      "chunk:   0%|          | 0/1674 [00:00<?, ?it/s, now=None]\u001b[A\n",
      "chunk:   7%|▋         | 109/1674 [00:00<00:01, 1088.20it/s, now=None]\u001b[A"
     ]
    },
    {
     "name": "stdout",
     "output_type": "stream",
     "text": [
      "MoviePy - Writing audio in /home/jupyter/datasets/amigos/audio/Exp1_P30_audio/P30_9_audio.wav\n"
     ]
    },
    {
     "name": "stderr",
     "output_type": "stream",
     "text": [
      "\n",
      "chunk:   9%|▉         | 153/1674 [00:00<00:02, 552.86it/s, now=None] \u001b[A\n",
      "chunk:  12%|█▏        | 204/1674 [00:00<00:03, 447.19it/s, now=None]\u001b[A\n",
      "chunk:  15%|█▌        | 255/1674 [00:00<00:04, 333.66it/s, now=None]\u001b[A\n",
      "chunk:  18%|█▊        | 306/1674 [00:00<00:04, 318.36it/s, now=None]\u001b[A\n",
      "chunk:  21%|██▏       | 357/1674 [00:00<00:03, 333.58it/s, now=None]\u001b[A\n",
      "chunk:  24%|██▍       | 408/1674 [00:01<00:04, 308.87it/s, now=None]\u001b[A\n",
      "chunk:  27%|██▋       | 459/1674 [00:01<00:03, 338.09it/s, now=None]\u001b[A\n",
      "chunk:  30%|███       | 510/1674 [00:01<00:03, 298.68it/s, now=None]\u001b[A\n",
      "chunk:  34%|███▎      | 561/1674 [00:01<00:03, 280.75it/s, now=None]\u001b[A\n",
      "chunk:  37%|███▋      | 612/1674 [00:01<00:03, 295.58it/s, now=None]\u001b[A\n",
      "chunk:  40%|███▉      | 663/1674 [00:02<00:03, 266.18it/s, now=None]\u001b[A\n",
      "chunk:  43%|████▎     | 714/1674 [00:02<00:03, 243.12it/s, now=None]\u001b[A\n",
      "chunk:  46%|████▌     | 765/1674 [00:02<00:03, 259.99it/s, now=None]\u001b[A\n",
      "chunk:  49%|████▊     | 816/1674 [00:02<00:02, 301.53it/s, now=None]\u001b[A\n",
      "chunk:  52%|█████▏    | 867/1674 [00:02<00:02, 331.60it/s, now=None]\u001b[A\n",
      "chunk:  55%|█████▍    | 918/1674 [00:02<00:02, 339.23it/s, now=None]\u001b[A\n",
      "chunk:  58%|█████▊    | 969/1674 [00:03<00:02, 335.21it/s, now=None]\u001b[A\n",
      "chunk:  64%|██████▍   | 1071/1674 [00:03<00:01, 357.15it/s, now=None]\u001b[A\n",
      "chunk:  67%|██████▋   | 1122/1674 [00:03<00:01, 357.30it/s, now=None]\u001b[A\n",
      "chunk:  73%|███████▎  | 1224/1674 [00:03<00:01, 431.69it/s, now=None]\u001b[A\n",
      "chunk:  76%|███████▌  | 1275/1674 [00:03<00:00, 416.02it/s, now=None]\u001b[A\n",
      "chunk:  82%|████████▏ | 1377/1674 [00:03<00:00, 456.86it/s, now=None]\u001b[A\n",
      "chunk:  85%|████████▌ | 1428/1674 [00:04<00:00, 376.17it/s, now=None]\u001b[A\n",
      "chunk:  89%|████████▉ | 1496/1674 [00:04<00:00, 434.37it/s, now=None]\u001b[A\n",
      "chunk:  92%|█████████▏| 1547/1674 [00:04<00:00, 342.95it/s, now=None]\u001b[A\n",
      "chunk:  95%|█████████▍| 1590/1674 [00:04<00:00, 326.73it/s, now=None]\u001b[A\n",
      "chunk:  97%|█████████▋| 1632/1674 [00:04<00:00, 345.59it/s, now=None]\u001b[A\n",
      "chunk:   1%|▏         | 29/2121 [7:18:09<526:47:46, 906.53s/it, now=None]"
     ]
    },
    {
     "name": "stdout",
     "output_type": "stream",
     "text": [
      "MoviePy - Done.\n"
     ]
    },
    {
     "name": "stderr",
     "output_type": "stream",
     "text": [
      "chunk:   1%|▏         | 29/2121 [7:18:10<526:48:45, 906.56s/it, now=None]\n",
      "chunk:   0%|          | 0/2123 [00:00<?, ?it/s, now=None]\u001b[A\n",
      "chunk:   5%|▍         | 102/2123 [00:00<00:02, 862.96it/s, now=None]\u001b[A"
     ]
    },
    {
     "name": "stdout",
     "output_type": "stream",
     "text": [
      "MoviePy - Writing audio in /home/jupyter/datasets/amigos/audio/Exp1_P31_audio/P31_10_audio.wav\n"
     ]
    },
    {
     "name": "stderr",
     "output_type": "stream",
     "text": [
      "\n",
      "chunk:  10%|▉         | 203/2123 [00:00<00:02, 756.28it/s, now=None]\u001b[A\n",
      "chunk:  12%|█▏        | 254/2123 [00:00<00:02, 638.02it/s, now=None]\u001b[A\n",
      "chunk:  14%|█▍        | 305/2123 [00:00<00:03, 510.89it/s, now=None]\u001b[A\n",
      "chunk:  19%|█▉        | 406/2123 [00:00<00:02, 575.58it/s, now=None]\u001b[A\n",
      "chunk:  24%|██▎       | 503/2123 [00:00<00:02, 655.35it/s, now=None]\u001b[A\n",
      "chunk:  27%|██▋       | 568/2123 [00:00<00:02, 559.42it/s, now=None]\u001b[A\n",
      "chunk:  31%|███       | 658/2123 [00:01<00:02, 621.10it/s, now=None]\u001b[A\n",
      "chunk:  36%|███▌      | 759/2123 [00:01<00:02, 539.28it/s, now=None]\u001b[A\n",
      "chunk:  39%|███▊      | 818/2123 [00:01<00:02, 479.12it/s, now=None]\u001b[A\n",
      "chunk:  41%|████      | 874/2123 [00:01<00:02, 500.78it/s, now=None]\u001b[A\n",
      "chunk:  45%|████▌     | 961/2123 [00:01<00:02, 403.96it/s, now=None]\u001b[A\n",
      "chunk:  48%|████▊     | 1012/2123 [00:01<00:02, 401.58it/s, now=None]\u001b[A\n",
      "chunk:  50%|█████     | 1062/2123 [00:02<00:02, 368.86it/s, now=None]\u001b[A\n",
      "chunk:  52%|█████▏    | 1113/2123 [00:02<00:03, 323.16it/s, now=None]\u001b[A\n",
      "chunk:  55%|█████▍    | 1164/2123 [00:02<00:02, 358.86it/s, now=None]\u001b[A\n",
      "chunk:  60%|█████▉    | 1265/2123 [00:02<00:02, 417.31it/s, now=None]\u001b[A\n",
      "chunk:  62%|██████▏   | 1315/2123 [00:02<00:01, 422.72it/s, now=None]\u001b[A\n",
      "chunk:  67%|██████▋   | 1416/2123 [00:02<00:01, 470.07it/s, now=None]\u001b[A\n",
      "chunk:  69%|██████▉   | 1468/2123 [00:02<00:01, 472.30it/s, now=None]\u001b[A\n",
      "chunk:  72%|███████▏  | 1535/2123 [00:03<00:01, 517.84it/s, now=None]\u001b[A\n",
      "chunk:  76%|███████▌  | 1618/2123 [00:03<00:00, 530.23it/s, now=None]\u001b[A\n",
      "chunk:  80%|███████▉  | 1693/2123 [00:03<00:00, 581.29it/s, now=None]\u001b[A\n",
      "chunk:  83%|████████▎ | 1755/2123 [00:03<00:00, 579.53it/s, now=None]\u001b[A\n",
      "chunk:  86%|████████▌ | 1816/2123 [00:03<00:00, 475.50it/s, now=None]\u001b[A\n",
      "chunk:  88%|████████▊ | 1869/2123 [00:03<00:00, 478.35it/s, now=None]\u001b[A\n",
      "chunk:  90%|█████████ | 1921/2123 [00:03<00:00, 373.50it/s, now=None]\u001b[A\n",
      "chunk:  95%|█████████▍| 2010/2123 [00:04<00:00, 452.11it/s, now=None]\u001b[A\n",
      "chunk:  98%|█████████▊| 2073/2123 [00:04<00:00, 346.25it/s, now=None]\u001b[A\n",
      "chunk:   1%|▏         | 29/2121 [7:18:14<526:54:00, 906.71s/it, now=None]"
     ]
    },
    {
     "name": "stdout",
     "output_type": "stream",
     "text": [
      "MoviePy - Done.\n"
     ]
    },
    {
     "name": "stderr",
     "output_type": "stream",
     "text": [
      "chunk:   1%|▏         | 29/2121 [7:18:15<526:55:02, 906.74s/it, now=None]\n",
      "chunk:   0%|          | 0/1256 [00:00<?, ?it/s, now=None]\u001b[A\n",
      "chunk:   8%|▊         | 102/1256 [00:00<00:01, 941.05it/s, now=None]\u001b[A"
     ]
    },
    {
     "name": "stdout",
     "output_type": "stream",
     "text": [
      "MoviePy - Writing audio in /home/jupyter/datasets/amigos/audio/Exp1_P31_audio/P31_13_audio.wav\n"
     ]
    },
    {
     "name": "stderr",
     "output_type": "stream",
     "text": [
      "\n",
      "chunk:  12%|█▏        | 153/1256 [00:00<00:02, 490.66it/s, now=None]\u001b[A\n",
      "chunk:  16%|█▌        | 204/1256 [00:00<00:02, 406.25it/s, now=None]\u001b[A\n",
      "chunk:  20%|██        | 255/1256 [00:00<00:02, 356.95it/s, now=None]\u001b[A\n",
      "chunk:  24%|██▍       | 306/1256 [00:00<00:02, 379.86it/s, now=None]\u001b[A\n",
      "chunk:  28%|██▊       | 357/1256 [00:00<00:02, 366.70it/s, now=None]\u001b[A\n",
      "chunk:  32%|███▏      | 408/1256 [00:01<00:02, 322.34it/s, now=None]\u001b[A\n",
      "chunk:  37%|███▋      | 459/1256 [00:01<00:02, 347.87it/s, now=None]\u001b[A\n",
      "chunk:  41%|████      | 510/1256 [00:01<00:02, 298.06it/s, now=None]\u001b[A\n",
      "chunk:  45%|████▍     | 561/1256 [00:01<00:02, 256.67it/s, now=None]\u001b[A\n",
      "chunk:  49%|████▊     | 612/1256 [00:01<00:02, 275.53it/s, now=None]\u001b[A\n",
      "chunk:  53%|█████▎    | 663/1256 [00:02<00:02, 280.13it/s, now=None]\u001b[A\n",
      "chunk:  57%|█████▋    | 714/1256 [00:02<00:02, 268.55it/s, now=None]\u001b[A\n",
      "chunk:  64%|██████▍   | 803/1256 [00:02<00:01, 339.63it/s, now=None]\u001b[A\n",
      "chunk:  68%|██████▊   | 850/1256 [00:02<00:01, 302.97it/s, now=None]\u001b[A\n",
      "chunk:  71%|███████   | 890/1256 [00:02<00:01, 244.13it/s, now=None]\u001b[A\n",
      "chunk:  73%|███████▎  | 923/1256 [00:02<00:01, 250.45it/s, now=None]\u001b[A\n",
      "chunk:  77%|███████▋  | 969/1256 [00:03<00:01, 253.77it/s, now=None]\u001b[A\n",
      "chunk:  81%|████████  | 1020/1256 [00:03<00:00, 275.72it/s, now=None]\u001b[A\n",
      "chunk:  85%|████████▌ | 1071/1256 [00:03<00:00, 300.26it/s, now=None]\u001b[A\n",
      "chunk:  89%|████████▉ | 1122/1256 [00:03<00:00, 283.46it/s, now=None]\u001b[A\n",
      "chunk:  93%|█████████▎| 1173/1256 [00:03<00:00, 295.00it/s, now=None]\u001b[A\n",
      "chunk:   1%|▏         | 29/2121 [7:18:19<526:59:44, 906.88s/it, now=None]"
     ]
    },
    {
     "name": "stdout",
     "output_type": "stream",
     "text": [
      "MoviePy - Done.\n"
     ]
    },
    {
     "name": "stderr",
     "output_type": "stream",
     "text": [
      "chunk:   1%|▏         | 29/2121 [7:18:20<527:00:54, 906.91s/it, now=None]\n",
      "chunk:   0%|          | 0/2700 [00:00<?, ?it/s, now=None]\u001b[A"
     ]
    },
    {
     "name": "stdout",
     "output_type": "stream",
     "text": [
      "MoviePy - Writing audio in /home/jupyter/datasets/amigos/audio/Exp1_P31_audio/P31_138_audio.wav\n"
     ]
    },
    {
     "name": "stderr",
     "output_type": "stream",
     "text": [
      "\n",
      "chunk:   4%|▍         | 102/2700 [00:00<00:05, 511.81it/s, now=None]\u001b[A\n",
      "chunk:   6%|▌         | 153/2700 [00:00<00:08, 295.35it/s, now=None]\u001b[A\n",
      "chunk:   8%|▊         | 204/2700 [00:00<00:07, 335.20it/s, now=None]\u001b[A\n",
      "chunk:   9%|▉         | 255/2700 [00:00<00:08, 302.56it/s, now=None]\u001b[A\n",
      "chunk:  11%|█▏        | 306/2700 [00:00<00:07, 320.48it/s, now=None]\u001b[A\n",
      "chunk:  13%|█▎        | 357/2700 [00:01<00:06, 355.08it/s, now=None]\u001b[A\n",
      "chunk:  15%|█▌        | 408/2700 [00:01<00:06, 352.39it/s, now=None]\u001b[A\n",
      "chunk:  17%|█▋        | 459/2700 [00:01<00:05, 385.45it/s, now=None]\u001b[A\n",
      "chunk:  19%|█▉        | 510/2700 [00:01<00:05, 372.75it/s, now=None]\u001b[A\n",
      "chunk:  21%|██        | 561/2700 [00:01<00:06, 317.19it/s, now=None]\u001b[A\n",
      "chunk:  23%|██▎       | 612/2700 [00:01<00:07, 295.05it/s, now=None]\u001b[A\n",
      "chunk:  25%|██▍       | 663/2700 [00:02<00:06, 320.56it/s, now=None]\u001b[A\n",
      "chunk:  26%|██▋       | 714/2700 [00:02<00:07, 275.94it/s, now=None]\u001b[A\n",
      "chunk:  28%|██▊       | 765/2700 [00:02<00:07, 275.17it/s, now=None]\u001b[A\n",
      "chunk:  30%|███       | 816/2700 [00:02<00:06, 292.45it/s, now=None]\u001b[A\n",
      "chunk:  32%|███▏      | 867/2700 [00:02<00:06, 276.31it/s, now=None]\u001b[A\n",
      "chunk:  34%|███▍      | 918/2700 [00:03<00:07, 248.66it/s, now=None]\u001b[A\n",
      "chunk:  36%|███▌      | 969/2700 [00:03<00:06, 283.82it/s, now=None]\u001b[A\n",
      "chunk:  38%|███▊      | 1020/2700 [00:03<00:06, 249.63it/s, now=None]\u001b[A\n",
      "chunk:  40%|███▉      | 1071/2700 [00:03<00:07, 231.88it/s, now=None]\u001b[A\n",
      "chunk:  42%|████▏     | 1122/2700 [00:03<00:06, 227.55it/s, now=None]\u001b[A\n",
      "chunk:  43%|████▎     | 1173/2700 [00:04<00:06, 218.88it/s, now=None]\u001b[A\n",
      "chunk:  45%|████▌     | 1224/2700 [00:04<00:05, 253.60it/s, now=None]\u001b[A\n",
      "chunk:  47%|████▋     | 1280/2700 [00:04<00:04, 303.31it/s, now=None]\u001b[A\n",
      "chunk:  49%|████▉     | 1326/2700 [00:04<00:04, 336.34it/s, now=None]\u001b[A\n",
      "chunk:  52%|█████▏    | 1405/2700 [00:04<00:03, 406.21it/s, now=None]\u001b[A\n",
      "chunk:  54%|█████▍    | 1457/2700 [00:04<00:03, 403.79it/s, now=None]\u001b[A\n",
      "chunk:  56%|█████▌    | 1505/2700 [00:04<00:03, 324.94it/s, now=None]\u001b[A\n",
      "chunk:  57%|█████▋    | 1546/2700 [00:05<00:04, 267.28it/s, now=None]\u001b[A\n",
      "chunk:  59%|█████▊    | 1582/2700 [00:05<00:03, 289.65it/s, now=None]\u001b[A\n",
      "chunk:  61%|██████▏   | 1654/2700 [00:05<00:02, 352.88it/s, now=None]\u001b[A\n",
      "chunk:  63%|██████▎   | 1700/2700 [00:05<00:03, 255.60it/s, now=None]\u001b[A\n",
      "chunk:  64%|██████▍   | 1737/2700 [00:05<00:03, 255.50it/s, now=None]\u001b[A\n",
      "chunk:  66%|██████▌   | 1785/2700 [00:05<00:03, 284.49it/s, now=None]\u001b[A\n",
      "chunk:  68%|██████▊   | 1836/2700 [00:06<00:02, 307.82it/s, now=None]\u001b[A\n",
      "chunk:  70%|██████▉   | 1887/2700 [00:06<00:02, 281.99it/s, now=None]\u001b[A\n",
      "chunk:  72%|███████▏  | 1938/2700 [00:06<00:02, 265.05it/s, now=None]\u001b[A\n",
      "chunk:  74%|███████▎  | 1989/2700 [00:06<00:02, 242.08it/s, now=None]\u001b[A\n",
      "chunk:  76%|███████▌  | 2040/2700 [00:06<00:02, 250.80it/s, now=None]\u001b[A\n",
      "chunk:  79%|███████▉  | 2142/2700 [00:07<00:02, 247.40it/s, now=None]\u001b[A\n",
      "chunk:  81%|████████  | 2193/2700 [00:07<00:02, 248.16it/s, now=None]\u001b[A\n",
      "chunk:  83%|████████▎ | 2244/2700 [00:07<00:01, 272.29it/s, now=None]\u001b[A\n",
      "chunk:  85%|████████▌ | 2295/2700 [00:07<00:01, 297.99it/s, now=None]\u001b[A\n",
      "chunk:  89%|████████▉ | 2397/2700 [00:08<00:01, 289.13it/s, now=None]\u001b[A\n",
      "chunk:  91%|█████████ | 2448/2700 [00:08<00:00, 275.67it/s, now=None]\u001b[A\n",
      "chunk:  93%|█████████▎| 2499/2700 [00:08<00:00, 278.70it/s, now=None]\u001b[A\n",
      "chunk:  94%|█████████▍| 2550/2700 [00:08<00:00, 310.28it/s, now=None]\u001b[A\n",
      "chunk:  98%|█████████▊| 2652/2700 [00:08<00:00, 358.84it/s, now=None]\u001b[A\n",
      "chunk:   1%|▏         | 29/2121 [7:18:29<527:11:42, 907.22s/it, now=None]"
     ]
    },
    {
     "name": "stdout",
     "output_type": "stream",
     "text": [
      "MoviePy - Done.\n"
     ]
    },
    {
     "name": "stderr",
     "output_type": "stream",
     "text": [
      "chunk:   1%|▏         | 29/2121 [7:18:30<527:12:36, 907.25s/it, now=None]\n",
      "chunk:   0%|          | 0/1831 [00:00<?, ?it/s, now=None]\u001b[A"
     ]
    },
    {
     "name": "stdout",
     "output_type": "stream",
     "text": [
      "MoviePy - Writing audio in /home/jupyter/datasets/amigos/audio/Exp1_P31_audio/P31_18_audio.wav\n"
     ]
    },
    {
     "name": "stderr",
     "output_type": "stream",
     "text": [
      "\n",
      "chunk:   6%|▌         | 102/1831 [00:00<00:03, 496.35it/s, now=None]\u001b[A\n",
      "chunk:   8%|▊         | 153/1831 [00:00<00:05, 301.09it/s, now=None]\u001b[A\n",
      "chunk:  11%|█         | 204/1831 [00:00<00:06, 240.11it/s, now=None]\u001b[A\n",
      "chunk:  14%|█▍        | 255/1831 [00:01<00:06, 233.50it/s, now=None]\u001b[A\n",
      "chunk:  17%|█▋        | 306/1831 [00:01<00:05, 272.46it/s, now=None]\u001b[A\n",
      "chunk:  19%|█▉        | 357/1831 [00:01<00:05, 259.75it/s, now=None]\u001b[A\n",
      "chunk:  22%|██▏       | 408/1831 [00:01<00:04, 285.89it/s, now=None]\u001b[A\n",
      "chunk:  25%|██▌       | 459/1831 [00:01<00:04, 294.29it/s, now=None]\u001b[A\n",
      "chunk:  28%|██▊       | 510/1831 [00:01<00:04, 329.35it/s, now=None]\u001b[A\n",
      "chunk:  31%|███       | 561/1831 [00:02<00:04, 279.26it/s, now=None]\u001b[A\n",
      "chunk:  33%|███▎      | 612/1831 [00:02<00:05, 227.60it/s, now=None]\u001b[A\n",
      "chunk:  36%|███▌      | 663/1831 [00:02<00:05, 212.47it/s, now=None]\u001b[A\n",
      "chunk:  39%|███▉      | 714/1831 [00:02<00:04, 231.27it/s, now=None]\u001b[A\n",
      "chunk:  42%|████▏     | 765/1831 [00:02<00:04, 252.13it/s, now=None]\u001b[A\n",
      "chunk:  45%|████▍     | 816/1831 [00:03<00:04, 227.80it/s, now=None]\u001b[A\n",
      "chunk:  47%|████▋     | 867/1831 [00:03<00:03, 258.58it/s, now=None]\u001b[A\n",
      "chunk:  50%|█████     | 918/1831 [00:03<00:03, 298.47it/s, now=None]\u001b[A\n",
      "chunk:  54%|█████▍    | 994/1831 [00:03<00:02, 364.86it/s, now=None]\u001b[A\n",
      "chunk:  57%|█████▋    | 1041/1831 [00:03<00:02, 278.12it/s, now=None]\u001b[A\n",
      "chunk:  59%|█████▉    | 1079/1831 [00:04<00:02, 257.69it/s, now=None]\u001b[A\n",
      "chunk:  61%|██████▏   | 1122/1831 [00:04<00:02, 257.88it/s, now=None]\u001b[A\n",
      "chunk:  64%|██████▍   | 1173/1831 [00:04<00:02, 302.00it/s, now=None]\u001b[A\n",
      "chunk:  67%|██████▋   | 1229/1831 [00:04<00:01, 350.33it/s, now=None]\u001b[A\n",
      "chunk:  70%|██████▉   | 1275/1831 [00:04<00:02, 268.86it/s, now=None]\u001b[A\n",
      "chunk:  72%|███████▏  | 1326/1831 [00:04<00:01, 283.69it/s, now=None]\u001b[A\n",
      "chunk:  75%|███████▌  | 1377/1831 [00:05<00:01, 266.73it/s, now=None]\u001b[A\n",
      "chunk:  78%|███████▊  | 1428/1831 [00:05<00:01, 306.95it/s, now=None]\u001b[A\n",
      "chunk:  81%|████████  | 1479/1831 [00:05<00:01, 243.17it/s, now=None]\u001b[A\n",
      "chunk:  84%|████████▎ | 1530/1831 [00:05<00:01, 229.05it/s, now=None]\u001b[A\n",
      "chunk:  86%|████████▋ | 1581/1831 [00:05<00:00, 258.21it/s, now=None]\u001b[A\n",
      "chunk:  89%|████████▉ | 1632/1831 [00:06<00:00, 280.33it/s, now=None]\u001b[A\n",
      "chunk:  92%|█████████▏| 1683/1831 [00:06<00:00, 282.69it/s, now=None]\u001b[A\n",
      "chunk:   1%|▏         | 29/2121 [7:18:36<527:20:08, 907.46s/it, now=None]"
     ]
    },
    {
     "name": "stdout",
     "output_type": "stream",
     "text": [
      "MoviePy - Done.\n"
     ]
    },
    {
     "name": "stderr",
     "output_type": "stream",
     "text": [
      "chunk:   1%|▏         | 29/2121 [7:18:37<527:20:57, 907.48s/it, now=None]\n",
      "chunk:   0%|          | 0/2785 [00:00<?, ?it/s, now=None]\u001b[A\n"
     ]
    },
    {
     "name": "stdout",
     "output_type": "stream",
     "text": [
      "MoviePy - Writing audio in /home/jupyter/datasets/amigos/audio/Exp1_P31_audio/P31_19_audio.wav\n"
     ]
    },
    {
     "name": "stderr",
     "output_type": "stream",
     "text": [
      "chunk:   5%|▌         | 153/2785 [00:00<00:03, 843.00it/s, now=None]\u001b[A\n",
      "chunk:   7%|▋         | 204/2785 [00:00<00:05, 460.13it/s, now=None]\u001b[A\n",
      "chunk:   9%|▉         | 255/2785 [00:00<00:05, 435.20it/s, now=None]\u001b[A\n",
      "chunk:  11%|█         | 306/2785 [00:00<00:06, 379.90it/s, now=None]\u001b[A\n",
      "chunk:  13%|█▎        | 357/2785 [00:00<00:06, 389.31it/s, now=None]\u001b[A\n",
      "chunk:  15%|█▍        | 408/2785 [00:00<00:06, 385.10it/s, now=None]\u001b[A\n",
      "chunk:  16%|█▋        | 459/2785 [00:01<00:07, 309.65it/s, now=None]\u001b[A\n",
      "chunk:  18%|█▊        | 510/2785 [00:01<00:07, 288.14it/s, now=None]\u001b[A\n",
      "chunk:  20%|██        | 561/2785 [00:01<00:07, 297.81it/s, now=None]\u001b[A\n",
      "chunk:  22%|██▏       | 612/2785 [00:01<00:06, 327.00it/s, now=None]\u001b[A\n",
      "chunk:  24%|██▍       | 663/2785 [00:01<00:06, 322.27it/s, now=None]\u001b[A\n",
      "chunk:  26%|██▌       | 714/2785 [00:02<00:06, 312.44it/s, now=None]\u001b[A\n",
      "chunk:  27%|██▋       | 765/2785 [00:02<00:06, 320.24it/s, now=None]\u001b[A\n",
      "chunk:  29%|██▉       | 816/2785 [00:02<00:07, 277.45it/s, now=None]\u001b[A\n",
      "chunk:  31%|███       | 867/2785 [00:02<00:08, 226.57it/s, now=None]\u001b[A\n",
      "chunk:  33%|███▎      | 918/2785 [00:03<00:08, 210.77it/s, now=None]\u001b[A\n",
      "chunk:  35%|███▍      | 969/2785 [00:03<00:08, 204.03it/s, now=None]\u001b[A\n",
      "chunk:  37%|███▋      | 1020/2785 [00:03<00:08, 203.81it/s, now=None]\u001b[A\n",
      "chunk:  38%|███▊      | 1071/2785 [00:03<00:07, 237.05it/s, now=None]\u001b[A\n",
      "chunk:  40%|████      | 1122/2785 [00:03<00:06, 245.08it/s, now=None]\u001b[A\n",
      "chunk:  42%|████▏     | 1173/2785 [00:04<00:06, 261.20it/s, now=None]\u001b[A\n",
      "chunk:  44%|████▍     | 1224/2785 [00:04<00:06, 248.06it/s, now=None]\u001b[A\n",
      "chunk:  46%|████▌     | 1275/2785 [00:04<00:05, 268.77it/s, now=None]\u001b[A\n",
      "chunk:  48%|████▊     | 1326/2785 [00:04<00:05, 268.87it/s, now=None]\u001b[A\n",
      "chunk:  49%|████▉     | 1377/2785 [00:04<00:04, 292.84it/s, now=None]\u001b[A\n",
      "chunk:  51%|█████▏    | 1428/2785 [00:04<00:04, 275.43it/s, now=None]\u001b[A\n",
      "chunk:  54%|█████▍    | 1508/2785 [00:05<00:03, 342.83it/s, now=None]\u001b[A\n",
      "chunk:  57%|█████▋    | 1581/2785 [00:05<00:03, 325.54it/s, now=None]\u001b[A\n",
      "chunk:  59%|█████▊    | 1632/2785 [00:05<00:03, 344.75it/s, now=None]\u001b[A\n",
      "chunk:  60%|██████    | 1683/2785 [00:05<00:03, 303.25it/s, now=None]\u001b[A\n",
      "chunk:  62%|██████▏   | 1734/2785 [00:05<00:03, 332.74it/s, now=None]\u001b[A\n",
      "chunk:  64%|██████▍   | 1785/2785 [00:05<00:02, 357.30it/s, now=None]\u001b[A\n",
      "chunk:  66%|██████▌   | 1836/2785 [00:06<00:02, 344.28it/s, now=None]\u001b[A\n",
      "chunk:  68%|██████▊   | 1887/2785 [00:06<00:02, 374.64it/s, now=None]\u001b[A\n",
      "chunk:  70%|██████▉   | 1938/2785 [00:06<00:02, 404.92it/s, now=None]\u001b[A\n",
      "chunk:  71%|███████▏  | 1989/2785 [00:06<00:02, 346.07it/s, now=None]\u001b[A\n",
      "chunk:  74%|███████▍  | 2054/2785 [00:06<00:01, 402.44it/s, now=None]\u001b[A\n",
      "chunk:  77%|███████▋  | 2142/2785 [00:06<00:01, 397.79it/s, now=None]\u001b[A\n",
      "chunk:  79%|███████▊  | 2193/2785 [00:06<00:01, 410.28it/s, now=None]\u001b[A\n",
      "chunk:  81%|████████  | 2244/2785 [00:07<00:01, 368.64it/s, now=None]\u001b[A\n",
      "chunk:  82%|████████▏ | 2295/2785 [00:07<00:01, 386.30it/s, now=None]\u001b[A\n",
      "chunk:  84%|████████▍ | 2346/2785 [00:07<00:01, 414.11it/s, now=None]\u001b[A\n",
      "chunk:  86%|████████▌ | 2397/2785 [00:07<00:01, 320.78it/s, now=None]\u001b[A\n",
      "chunk:  88%|████████▊ | 2448/2785 [00:07<00:01, 273.32it/s, now=None]\u001b[A\n",
      "chunk:  90%|████████▉ | 2499/2785 [00:08<00:01, 254.12it/s, now=None]\u001b[A\n",
      "chunk:  92%|█████████▏| 2550/2785 [00:08<00:00, 243.67it/s, now=None]\u001b[A\n",
      "chunk:  93%|█████████▎| 2601/2785 [00:08<00:00, 230.64it/s, now=None]\u001b[A\n",
      "chunk:  95%|█████████▌| 2652/2785 [00:08<00:00, 213.70it/s, now=None]\u001b[A\n",
      "chunk:  97%|█████████▋| 2703/2785 [00:08<00:00, 235.25it/s, now=None]\u001b[A\n",
      "chunk:   1%|▏         | 29/2121 [7:18:46<527:31:49, 907.80s/it, now=None]"
     ]
    },
    {
     "name": "stdout",
     "output_type": "stream",
     "text": [
      "MoviePy - Done.\n"
     ]
    },
    {
     "name": "stderr",
     "output_type": "stream",
     "text": [
      "chunk:   1%|▏         | 29/2121 [7:18:47<527:33:10, 907.84s/it, now=None]\n",
      "chunk:   0%|          | 0/1449 [00:00<?, ?it/s, now=None]\u001b[A\n",
      "chunk:   7%|▋         | 102/1449 [00:00<00:01, 774.20it/s, now=None]\u001b[A"
     ]
    },
    {
     "name": "stdout",
     "output_type": "stream",
     "text": [
      "MoviePy - Writing audio in /home/jupyter/datasets/amigos/audio/Exp1_P31_audio/P31_20_audio.wav\n"
     ]
    },
    {
     "name": "stderr",
     "output_type": "stream",
     "text": [
      "\n",
      "chunk:  11%|█         | 153/1449 [00:00<00:02, 468.30it/s, now=None]\u001b[A\n",
      "chunk:  14%|█▍        | 204/1449 [00:00<00:03, 333.38it/s, now=None]\u001b[A\n",
      "chunk:  18%|█▊        | 255/1449 [00:00<00:03, 322.33it/s, now=None]\u001b[A\n",
      "chunk:  21%|██        | 306/1449 [00:01<00:05, 227.06it/s, now=None]\u001b[A\n",
      "chunk:  25%|██▍       | 357/1449 [00:01<00:05, 193.87it/s, now=None]\u001b[A\n",
      "chunk:  28%|██▊       | 408/1449 [00:01<00:04, 218.57it/s, now=None]\u001b[A\n",
      "chunk:  32%|███▏      | 459/1449 [00:01<00:04, 215.50it/s, now=None]\u001b[A\n",
      "chunk:  35%|███▌      | 510/1449 [00:02<00:04, 225.14it/s, now=None]\u001b[A\n",
      "chunk:  39%|███▊      | 561/1449 [00:02<00:03, 249.12it/s, now=None]\u001b[A\n",
      "chunk:  42%|████▏     | 612/1449 [00:02<00:03, 262.11it/s, now=None]\u001b[A\n",
      "chunk:  46%|████▌     | 663/1449 [00:02<00:03, 235.14it/s, now=None]\u001b[A\n",
      "chunk:  49%|████▉     | 714/1449 [00:02<00:03, 240.96it/s, now=None]\u001b[A\n",
      "chunk:  53%|█████▎    | 765/1449 [00:03<00:02, 245.93it/s, now=None]\u001b[A\n",
      "chunk:  56%|█████▋    | 816/1449 [00:03<00:02, 263.65it/s, now=None]\u001b[A\n",
      "chunk:  60%|█████▉    | 867/1449 [00:03<00:02, 282.16it/s, now=None]\u001b[A\n",
      "chunk:  63%|██████▎   | 918/1449 [00:03<00:01, 309.04it/s, now=None]\u001b[A\n",
      "chunk:  67%|██████▋   | 969/1449 [00:03<00:01, 250.52it/s, now=None]\u001b[A\n",
      "chunk:  70%|███████   | 1020/1449 [00:04<00:01, 228.33it/s, now=None]\u001b[A\n",
      "chunk:  74%|███████▍  | 1071/1449 [00:04<00:01, 200.32it/s, now=None]\u001b[A\n",
      "chunk:  77%|███████▋  | 1122/1449 [00:04<00:01, 215.97it/s, now=None]\u001b[A\n",
      "chunk:  81%|████████  | 1173/1449 [00:04<00:01, 219.28it/s, now=None]\u001b[A\n",
      "chunk:  84%|████████▍ | 1224/1449 [00:05<00:01, 215.15it/s, now=None]\u001b[A\n",
      "chunk:  88%|████████▊ | 1275/1449 [00:05<00:00, 206.30it/s, now=None]\u001b[A\n",
      "chunk:  92%|█████████▏| 1326/1449 [00:05<00:00, 192.55it/s, now=None]\u001b[A\n",
      "chunk:  95%|█████████▌| 1377/1449 [00:05<00:00, 233.45it/s, now=None]\u001b[A\n",
      "chunk:   1%|▏         | 29/2121 [7:18:53<527:40:12, 908.04s/it, now=None]"
     ]
    },
    {
     "name": "stdout",
     "output_type": "stream",
     "text": [
      "MoviePy - Done.\n"
     ]
    },
    {
     "name": "stderr",
     "output_type": "stream",
     "text": [
      "chunk:   1%|▏         | 29/2121 [7:18:53<527:41:01, 908.06s/it, now=None]\n",
      "chunk:   0%|          | 0/2473 [00:00<?, ?it/s, now=None]\u001b[A\n",
      "chunk:   4%|▍         | 102/2473 [00:00<00:03, 701.44it/s, now=None]\u001b[A"
     ]
    },
    {
     "name": "stdout",
     "output_type": "stream",
     "text": [
      "MoviePy - Writing audio in /home/jupyter/datasets/amigos/audio/Exp1_P31_audio/P31_23_audio.wav\n"
     ]
    },
    {
     "name": "stderr",
     "output_type": "stream",
     "text": [
      "\n",
      "chunk:   7%|▋         | 178/2473 [00:00<00:03, 717.97it/s, now=None]\u001b[A\n",
      "chunk:   9%|▊         | 216/2473 [00:00<00:07, 300.39it/s, now=None]\u001b[A\n",
      "chunk:  10%|█         | 255/2473 [00:00<00:07, 283.34it/s, now=None]\u001b[A\n",
      "chunk:  12%|█▏        | 306/2473 [00:00<00:07, 285.41it/s, now=None]\u001b[A\n",
      "chunk:  14%|█▍        | 357/2473 [00:01<00:07, 277.88it/s, now=None]\u001b[A\n",
      "chunk:  16%|█▋        | 408/2473 [00:01<00:09, 229.34it/s, now=None]\u001b[A\n",
      "chunk:  19%|█▊        | 459/2473 [00:01<00:09, 203.72it/s, now=None]\u001b[A\n",
      "chunk:  21%|██        | 510/2473 [00:02<00:10, 179.05it/s, now=None]\u001b[A\n",
      "chunk:  23%|██▎       | 561/2473 [00:02<00:11, 159.73it/s, now=None]\u001b[A\n",
      "chunk:  25%|██▍       | 612/2473 [00:02<00:09, 195.48it/s, now=None]\u001b[A\n",
      "chunk:  29%|██▉       | 714/2473 [00:02<00:06, 251.64it/s, now=None]\u001b[A\n",
      "chunk:  31%|███       | 765/2473 [00:02<00:06, 279.09it/s, now=None]\u001b[A\n",
      "chunk:  33%|███▎      | 816/2473 [00:03<00:05, 296.08it/s, now=None]\u001b[A\n",
      "chunk:  35%|███▌      | 867/2473 [00:03<00:04, 338.08it/s, now=None]\u001b[A\n",
      "chunk:  39%|███▉      | 969/2473 [00:03<00:03, 409.32it/s, now=None]\u001b[A\n",
      "chunk:  43%|████▎     | 1071/2473 [00:03<00:02, 477.16it/s, now=None]\u001b[A\n",
      "chunk:  47%|████▋     | 1173/2473 [00:03<00:02, 508.18it/s, now=None]\u001b[A\n",
      "chunk:  50%|████▉     | 1234/2473 [00:03<00:02, 414.68it/s, now=None]\u001b[A\n",
      "chunk:  54%|█████▎    | 1326/2473 [00:03<00:02, 405.90it/s, now=None]\u001b[A\n",
      "chunk:  56%|█████▌    | 1377/2473 [00:04<00:03, 292.98it/s, now=None]\u001b[A\n",
      "chunk:  58%|█████▊    | 1428/2473 [00:04<00:03, 261.91it/s, now=None]\u001b[A\n",
      "chunk:  60%|█████▉    | 1479/2473 [00:04<00:03, 252.69it/s, now=None]\u001b[A\n",
      "chunk:  62%|██████▏   | 1530/2473 [00:04<00:03, 284.49it/s, now=None]\u001b[A\n",
      "chunk:  64%|██████▍   | 1581/2473 [00:05<00:03, 239.57it/s, now=None]\u001b[A\n",
      "chunk:  66%|██████▌   | 1632/2473 [00:05<00:03, 260.29it/s, now=None]\u001b[A\n",
      "chunk:  68%|██████▊   | 1683/2473 [00:05<00:02, 297.30it/s, now=None]\u001b[A\n",
      "chunk:  70%|███████   | 1734/2473 [00:05<00:02, 304.46it/s, now=None]\u001b[A\n",
      "chunk:  74%|███████▍  | 1836/2473 [00:05<00:01, 368.58it/s, now=None]\u001b[A\n",
      "chunk:  78%|███████▊  | 1941/2473 [00:05<00:01, 457.60it/s, now=None]\u001b[A\n",
      "chunk:  81%|████████  | 2005/2473 [00:05<00:00, 494.91it/s, now=None]\u001b[A\n",
      "chunk:  85%|████████▍ | 2091/2473 [00:06<00:00, 527.28it/s, now=None]\u001b[A\n",
      "chunk:  89%|████████▊ | 2193/2473 [00:06<00:00, 566.10it/s, now=None]\u001b[A\n",
      "chunk:  91%|█████████▏| 2258/2473 [00:06<00:00, 583.63it/s, now=None]\u001b[A\n",
      "chunk:  95%|█████████▍| 2346/2473 [00:06<00:00, 584.89it/s, now=None]\u001b[A\n",
      "chunk:  99%|█████████▉| 2448/2473 [00:06<00:00, 652.49it/s, now=None]\u001b[A\n",
      "chunk:   1%|▏         | 29/2121 [7:19:00<527:48:58, 908.29s/it, now=None]"
     ]
    },
    {
     "name": "stdout",
     "output_type": "stream",
     "text": [
      "MoviePy - Done.\n"
     ]
    },
    {
     "name": "stderr",
     "output_type": "stream",
     "text": [
      "chunk:   1%|▏         | 29/2121 [7:19:01<527:50:01, 908.32s/it, now=None]\n",
      "chunk:   0%|          | 0/1687 [00:00<?, ?it/s, now=None]\u001b[A"
     ]
    },
    {
     "name": "stdout",
     "output_type": "stream",
     "text": [
      "MoviePy - Writing audio in /home/jupyter/datasets/amigos/audio/Exp1_P31_audio/P31_30_audio.wav\n"
     ]
    },
    {
     "name": "stderr",
     "output_type": "stream",
     "text": [
      "\n",
      "chunk:   6%|▌         | 102/1687 [00:00<00:04, 325.17it/s, now=None]\u001b[A\n",
      "chunk:   9%|▉         | 153/1687 [00:00<00:04, 309.99it/s, now=None]\u001b[A\n",
      "chunk:  12%|█▏        | 204/1687 [00:00<00:04, 347.78it/s, now=None]\u001b[A\n",
      "chunk:  15%|█▌        | 255/1687 [00:00<00:03, 372.50it/s, now=None]\u001b[A\n",
      "chunk:  21%|██        | 357/1687 [00:00<00:03, 386.80it/s, now=None]\u001b[A\n",
      "chunk:  24%|██▍       | 408/1687 [00:01<00:03, 379.57it/s, now=None]\u001b[A\n",
      "chunk:  27%|██▋       | 459/1687 [00:01<00:04, 297.18it/s, now=None]\u001b[A\n",
      "chunk:  30%|███       | 510/1687 [00:01<00:03, 327.88it/s, now=None]\u001b[A\n",
      "chunk:  33%|███▎      | 561/1687 [00:01<00:03, 320.64it/s, now=None]\u001b[A\n",
      "chunk:  36%|███▋      | 612/1687 [00:01<00:03, 273.28it/s, now=None]\u001b[A\n",
      "chunk:  39%|███▉      | 663/1687 [00:02<00:03, 298.02it/s, now=None]\u001b[A\n",
      "chunk:  42%|████▏     | 714/1687 [00:02<00:03, 272.36it/s, now=None]\u001b[A\n",
      "chunk:  45%|████▌     | 765/1687 [00:02<00:03, 277.07it/s, now=None]\u001b[A\n",
      "chunk:  48%|████▊     | 816/1687 [00:02<00:02, 299.75it/s, now=None]\u001b[A\n",
      "chunk:  51%|█████▏    | 867/1687 [00:02<00:02, 298.53it/s, now=None]\u001b[A\n",
      "chunk:  54%|█████▍    | 918/1687 [00:02<00:02, 283.40it/s, now=None]\u001b[A\n",
      "chunk:  57%|█████▋    | 969/1687 [00:03<00:02, 266.29it/s, now=None]\u001b[A\n",
      "chunk:  60%|██████    | 1020/1687 [00:03<00:02, 267.15it/s, now=None]\u001b[A\n",
      "chunk:  63%|██████▎   | 1071/1687 [00:03<00:02, 240.10it/s, now=None]\u001b[A\n",
      "chunk:  67%|██████▋   | 1122/1687 [00:03<00:02, 249.20it/s, now=None]\u001b[A\n",
      "chunk:  73%|███████▎  | 1224/1687 [00:03<00:01, 293.59it/s, now=None]\u001b[A\n",
      "chunk:  76%|███████▌  | 1275/1687 [00:04<00:01, 319.49it/s, now=None]\u001b[A\n",
      "chunk:  79%|███████▊  | 1326/1687 [00:04<00:01, 330.32it/s, now=None]\u001b[A\n",
      "chunk:  82%|████████▏ | 1377/1687 [00:04<00:00, 314.14it/s, now=None]\u001b[A\n",
      "chunk:  85%|████████▍ | 1428/1687 [00:04<00:00, 325.08it/s, now=None]\u001b[A\n",
      "chunk:  88%|████████▊ | 1479/1687 [00:04<00:00, 273.35it/s, now=None]\u001b[A\n",
      "chunk:  91%|█████████ | 1530/1687 [00:05<00:00, 211.55it/s, now=None]\u001b[A\n",
      "chunk:  94%|█████████▎| 1581/1687 [00:05<00:00, 140.30it/s, now=None]\u001b[A\n",
      "chunk:  97%|█████████▋| 1632/1687 [00:06<00:00, 161.19it/s, now=None]\u001b[A\n",
      "chunk:   1%|▏         | 29/2121 [7:19:07<527:57:29, 908.53s/it, now=None]"
     ]
    },
    {
     "name": "stdout",
     "output_type": "stream",
     "text": [
      "MoviePy - Done.\n"
     ]
    },
    {
     "name": "stderr",
     "output_type": "stream",
     "text": [
      "chunk:   1%|▏         | 29/2121 [7:19:08<527:58:20, 908.56s/it, now=None]\n",
      "chunk:   0%|          | 0/3439 [00:00<?, ?it/s, now=None]\u001b[A\n",
      "chunk:   3%|▎         | 102/3439 [00:00<00:04, 719.83it/s, now=None]\u001b[A"
     ]
    },
    {
     "name": "stdout",
     "output_type": "stream",
     "text": [
      "MoviePy - Writing audio in /home/jupyter/datasets/amigos/audio/Exp1_P31_audio/P31_31_audio.wav\n"
     ]
    },
    {
     "name": "stderr",
     "output_type": "stream",
     "text": [
      "\n",
      "chunk:   4%|▍         | 153/3439 [00:00<00:07, 425.42it/s, now=None]\u001b[A\n",
      "chunk:   6%|▌         | 204/3439 [00:00<00:08, 388.93it/s, now=None]\u001b[A\n",
      "chunk:   7%|▋         | 255/3439 [00:00<00:10, 303.88it/s, now=None]\u001b[A\n",
      "chunk:   9%|▉         | 306/3439 [00:00<00:10, 295.67it/s, now=None]\u001b[A\n",
      "chunk:  10%|█         | 357/3439 [00:01<00:10, 299.32it/s, now=None]\u001b[A\n",
      "chunk:  12%|█▏        | 408/3439 [00:01<00:13, 220.84it/s, now=None]\u001b[A\n",
      "chunk:  13%|█▎        | 459/3439 [00:01<00:15, 187.99it/s, now=None]\u001b[A\n",
      "chunk:  15%|█▍        | 510/3439 [00:02<00:15, 187.34it/s, now=None]\u001b[A\n",
      "chunk:  16%|█▋        | 561/3439 [00:02<00:14, 192.32it/s, now=None]\u001b[A\n",
      "chunk:  18%|█▊        | 612/3439 [00:02<00:13, 205.49it/s, now=None]\u001b[A\n",
      "chunk:  19%|█▉        | 663/3439 [00:02<00:12, 227.74it/s, now=None]\u001b[A\n",
      "chunk:  21%|██        | 714/3439 [00:03<00:14, 187.48it/s, now=None]\u001b[A\n",
      "chunk:  22%|██▏       | 765/3439 [00:03<00:16, 161.45it/s, now=None]\u001b[A\n",
      "chunk:  24%|██▎       | 816/3439 [00:03<00:14, 178.32it/s, now=None]\u001b[A\n",
      "chunk:  25%|██▌       | 867/3439 [00:03<00:13, 197.12it/s, now=None]\u001b[A\n",
      "chunk:  27%|██▋       | 918/3439 [00:04<00:10, 239.46it/s, now=None]\u001b[A\n",
      "chunk:  28%|██▊       | 969/3439 [00:04<00:10, 232.06it/s, now=None]\u001b[A\n",
      "chunk:  30%|██▉       | 1020/3439 [00:04<00:11, 204.33it/s, now=None]\u001b[A\n",
      "chunk:  31%|███       | 1071/3439 [00:04<00:11, 201.37it/s, now=None]\u001b[A\n",
      "chunk:  33%|███▎      | 1122/3439 [00:05<00:10, 217.84it/s, now=None]\u001b[A\n",
      "chunk:  34%|███▍      | 1173/3439 [00:05<00:10, 217.41it/s, now=None]\u001b[A\n",
      "chunk:  36%|███▌      | 1224/3439 [00:05<00:08, 250.76it/s, now=None]\u001b[A\n",
      "chunk:  39%|███▊      | 1326/3439 [00:05<00:07, 282.67it/s, now=None]\u001b[A\n",
      "chunk:  40%|████      | 1377/3439 [00:05<00:07, 278.59it/s, now=None]\u001b[A\n",
      "chunk:  42%|████▏     | 1428/3439 [00:06<00:07, 270.45it/s, now=None]\u001b[A\n",
      "chunk:  43%|████▎     | 1479/3439 [00:06<00:07, 279.49it/s, now=None]\u001b[A\n",
      "chunk:  44%|████▍     | 1530/3439 [00:06<00:06, 292.25it/s, now=None]\u001b[A\n",
      "chunk:  47%|████▋     | 1632/3439 [00:06<00:05, 332.97it/s, now=None]\u001b[A\n",
      "chunk:  49%|████▉     | 1683/3439 [00:06<00:05, 344.95it/s, now=None]\u001b[A\n",
      "chunk:  50%|█████     | 1734/3439 [00:06<00:04, 347.64it/s, now=None]\u001b[A\n",
      "chunk:  52%|█████▏    | 1785/3439 [00:07<00:04, 344.74it/s, now=None]\u001b[A\n",
      "chunk:  53%|█████▎    | 1836/3439 [00:07<00:07, 215.43it/s, now=None]\u001b[A\n",
      "chunk:  55%|█████▍    | 1887/3439 [00:07<00:06, 231.83it/s, now=None]\u001b[A\n",
      "chunk:  56%|█████▋    | 1938/3439 [00:07<00:05, 254.63it/s, now=None]\u001b[A\n",
      "chunk:  59%|█████▉    | 2040/3439 [00:08<00:04, 299.98it/s, now=None]\u001b[A\n",
      "chunk:  62%|██████▏   | 2142/3439 [00:08<00:03, 332.28it/s, now=None]\u001b[A\n",
      "chunk:  64%|██████▍   | 2193/3439 [00:08<00:04, 303.79it/s, now=None]\u001b[A\n",
      "chunk:  65%|██████▌   | 2244/3439 [00:08<00:04, 254.40it/s, now=None]\u001b[A\n",
      "chunk:  67%|██████▋   | 2295/3439 [00:09<00:04, 230.34it/s, now=None]\u001b[A\n",
      "chunk:  68%|██████▊   | 2346/3439 [00:09<00:04, 241.68it/s, now=None]\u001b[A\n",
      "chunk:  70%|██████▉   | 2397/3439 [00:09<00:03, 267.12it/s, now=None]\u001b[A\n",
      "chunk:  71%|███████   | 2448/3439 [00:09<00:04, 229.13it/s, now=None]\u001b[A\n",
      "chunk:  73%|███████▎  | 2499/3439 [00:09<00:03, 249.94it/s, now=None]\u001b[A\n",
      "chunk:  74%|███████▍  | 2550/3439 [00:09<00:03, 278.96it/s, now=None]\u001b[A\n",
      "chunk:  76%|███████▌  | 2601/3439 [00:10<00:02, 309.63it/s, now=None]\u001b[A\n",
      "chunk:  79%|███████▊  | 2703/3439 [00:10<00:01, 380.21it/s, now=None]\u001b[A\n",
      "chunk:  80%|████████  | 2754/3439 [00:10<00:01, 373.27it/s, now=None]\u001b[A\n",
      "chunk:  83%|████████▎ | 2856/3439 [00:10<00:01, 445.05it/s, now=None]\u001b[A\n",
      "chunk:  86%|████████▌ | 2958/3439 [00:10<00:00, 526.11it/s, now=None]\u001b[A\n",
      "chunk:  89%|████████▉ | 3060/3439 [00:10<00:00, 509.02it/s, now=None]\u001b[A\n",
      "chunk:  92%|█████████▏| 3162/3439 [00:10<00:00, 522.14it/s, now=None]\u001b[A\n",
      "chunk:  95%|█████████▍| 3264/3439 [00:11<00:00, 577.56it/s, now=None]\u001b[A\n",
      "chunk:  97%|█████████▋| 3329/3439 [00:11<00:00, 506.48it/s, now=None]\u001b[A\n",
      "chunk:  98%|█████████▊| 3386/3439 [00:11<00:00, 482.05it/s, now=None]\u001b[A\n",
      "chunk:   1%|▏         | 29/2121 [7:19:19<528:12:07, 908.95s/it, now=None]"
     ]
    },
    {
     "name": "stdout",
     "output_type": "stream",
     "text": [
      "MoviePy - Done.\n"
     ]
    },
    {
     "name": "stderr",
     "output_type": "stream",
     "text": [
      "chunk:   1%|▏         | 29/2121 [7:19:20<528:12:54, 908.97s/it, now=None]\n",
      "chunk:   0%|          | 0/1459 [00:00<?, ?it/s, now=None]\u001b[A\n",
      "chunk:   7%|▋         | 102/1459 [00:00<00:01, 840.34it/s, now=None]\u001b[A"
     ]
    },
    {
     "name": "stdout",
     "output_type": "stream",
     "text": [
      "MoviePy - Writing audio in /home/jupyter/datasets/amigos/audio/Exp1_P31_audio/P31_34_audio.wav\n"
     ]
    },
    {
     "name": "stderr",
     "output_type": "stream",
     "text": [
      "\n",
      "chunk:  10%|█         | 153/1459 [00:00<00:02, 571.72it/s, now=None]\u001b[A\n",
      "chunk:  14%|█▍        | 204/1459 [00:00<00:03, 375.13it/s, now=None]\u001b[A\n",
      "chunk:  17%|█▋        | 255/1459 [00:00<00:04, 272.97it/s, now=None]\u001b[A\n",
      "chunk:  21%|██        | 306/1459 [00:01<00:04, 249.25it/s, now=None]\u001b[A\n",
      "chunk:  27%|██▋       | 394/1459 [00:01<00:03, 317.47it/s, now=None]\u001b[A\n",
      "chunk:  30%|██▉       | 436/1459 [00:01<00:03, 335.36it/s, now=None]\u001b[A\n",
      "chunk:  33%|███▎      | 477/1459 [00:01<00:04, 237.77it/s, now=None]\u001b[A\n",
      "chunk:  35%|███▍      | 510/1459 [00:01<00:04, 212.46it/s, now=None]\u001b[A\n",
      "chunk:  38%|███▊      | 561/1459 [00:01<00:03, 227.38it/s, now=None]\u001b[A\n",
      "chunk:  42%|████▏     | 612/1459 [00:02<00:03, 233.04it/s, now=None]\u001b[A\n",
      "chunk:  45%|████▌     | 663/1459 [00:02<00:03, 265.19it/s, now=None]\u001b[A\n",
      "chunk:  49%|████▉     | 714/1459 [00:02<00:03, 226.62it/s, now=None]\u001b[A\n",
      "chunk:  52%|█████▏    | 765/1459 [00:02<00:02, 244.61it/s, now=None]\u001b[A\n",
      "chunk:  56%|█████▌    | 816/1459 [00:02<00:02, 245.09it/s, now=None]\u001b[A\n",
      "chunk:  59%|█████▉    | 867/1459 [00:03<00:02, 258.55it/s, now=None]\u001b[A\n",
      "chunk:  63%|██████▎   | 918/1459 [00:03<00:01, 274.76it/s, now=None]\u001b[A\n",
      "chunk:  66%|██████▋   | 969/1459 [00:03<00:01, 311.43it/s, now=None]\u001b[A\n",
      "chunk:  70%|██████▉   | 1020/1459 [00:03<00:01, 237.31it/s, now=None]\u001b[A\n",
      "chunk:  73%|███████▎  | 1071/1459 [00:03<00:01, 235.48it/s, now=None]\u001b[A\n",
      "chunk:  77%|███████▋  | 1122/1459 [00:04<00:01, 218.11it/s, now=None]\u001b[A\n",
      "chunk:  80%|████████  | 1173/1459 [00:04<00:01, 243.00it/s, now=None]\u001b[A\n",
      "chunk:  84%|████████▍ | 1224/1459 [00:04<00:00, 287.26it/s, now=None]\u001b[A\n",
      "chunk:  87%|████████▋ | 1275/1459 [00:04<00:00, 264.97it/s, now=None]\u001b[A\n",
      "chunk:  91%|█████████ | 1326/1459 [00:04<00:00, 249.12it/s, now=None]\u001b[A\n",
      "chunk:  94%|█████████▍| 1377/1459 [00:05<00:00, 234.97it/s, now=None]\u001b[A\n",
      "chunk:   1%|▏         | 29/2121 [7:19:25<528:19:18, 909.16s/it, now=None]"
     ]
    },
    {
     "name": "stdout",
     "output_type": "stream",
     "text": [
      "MoviePy - Done.\n"
     ]
    },
    {
     "name": "stderr",
     "output_type": "stream",
     "text": [
      "chunk:   1%|▏         | 29/2121 [7:19:26<528:20:08, 909.18s/it, now=None]\n",
      "chunk:   0%|          | 0/1518 [00:00<?, ?it/s, now=None]\u001b[A\n",
      "chunk:   7%|▋         | 102/1518 [00:00<00:01, 899.91it/s, now=None]\u001b[A"
     ]
    },
    {
     "name": "stdout",
     "output_type": "stream",
     "text": [
      "MoviePy - Writing audio in /home/jupyter/datasets/amigos/audio/Exp1_P31_audio/P31_36_audio.wav\n"
     ]
    },
    {
     "name": "stderr",
     "output_type": "stream",
     "text": [
      "\n",
      "chunk:  10%|█         | 153/1518 [00:00<00:02, 582.49it/s, now=None]\u001b[A\n",
      "chunk:  13%|█▎        | 204/1518 [00:00<00:02, 471.20it/s, now=None]\u001b[A\n",
      "chunk:  17%|█▋        | 255/1518 [00:00<00:03, 404.75it/s, now=None]\u001b[A\n",
      "chunk:  20%|██        | 306/1518 [00:00<00:02, 418.36it/s, now=None]\u001b[A\n",
      "chunk:  24%|██▎       | 357/1518 [00:00<00:02, 406.32it/s, now=None]\u001b[A\n",
      "chunk:  27%|██▋       | 408/1518 [00:01<00:03, 315.62it/s, now=None]\u001b[A\n",
      "chunk:  30%|███       | 459/1518 [00:01<00:04, 264.24it/s, now=None]\u001b[A\n",
      "chunk:  34%|███▎      | 510/1518 [00:01<00:03, 256.99it/s, now=None]\u001b[A\n",
      "chunk:  37%|███▋      | 561/1518 [00:01<00:03, 299.09it/s, now=None]\u001b[A\n",
      "chunk:  40%|████      | 612/1518 [00:01<00:02, 314.37it/s, now=None]\u001b[A\n",
      "chunk:  44%|████▎     | 663/1518 [00:01<00:02, 336.89it/s, now=None]\u001b[A\n",
      "chunk:  47%|████▋     | 714/1518 [00:02<00:02, 312.96it/s, now=None]\u001b[A\n",
      "chunk:  50%|█████     | 765/1518 [00:02<00:02, 308.89it/s, now=None]\u001b[A\n",
      "chunk:  54%|█████▍    | 816/1518 [00:02<00:02, 297.39it/s, now=None]\u001b[A\n",
      "chunk:  57%|█████▋    | 867/1518 [00:02<00:02, 295.10it/s, now=None]\u001b[A\n",
      "chunk:  60%|██████    | 918/1518 [00:02<00:02, 293.78it/s, now=None]\u001b[A\n",
      "chunk:  67%|██████▋   | 1020/1518 [00:03<00:01, 341.30it/s, now=None]\u001b[A\n",
      "chunk:  71%|███████   | 1071/1518 [00:03<00:01, 341.15it/s, now=None]\u001b[A\n",
      "chunk:  74%|███████▍  | 1122/1518 [00:03<00:01, 352.31it/s, now=None]\u001b[A\n",
      "chunk:  77%|███████▋  | 1173/1518 [00:03<00:00, 384.60it/s, now=None]\u001b[A\n",
      "chunk:  84%|████████▍ | 1272/1518 [00:03<00:00, 471.00it/s, now=None]\u001b[A\n",
      "chunk:  88%|████████▊ | 1331/1518 [00:03<00:00, 273.05it/s, now=None]\u001b[A\n",
      "chunk:  91%|█████████ | 1377/1518 [00:04<00:00, 253.00it/s, now=None]\u001b[A\n",
      "chunk:  94%|█████████▍| 1428/1518 [00:04<00:00, 279.47it/s, now=None]\u001b[A\n",
      "chunk:  98%|█████████▊| 1484/1518 [00:04<00:00, 328.80it/s, now=None]\u001b[A\n",
      "chunk:   1%|▏         | 29/2121 [7:19:30<528:25:27, 909.33s/it, now=None]"
     ]
    },
    {
     "name": "stdout",
     "output_type": "stream",
     "text": [
      "MoviePy - Done.\n"
     ]
    },
    {
     "name": "stderr",
     "output_type": "stream",
     "text": [
      "chunk:   1%|▏         | 29/2121 [7:19:31<528:26:24, 909.36s/it, now=None]\n",
      "chunk:   0%|          | 0/2015 [00:00<?, ?it/s, now=None]\u001b[A\n",
      "chunk:   5%|▌         | 102/2015 [00:00<00:02, 893.75it/s, now=None]\u001b[A"
     ]
    },
    {
     "name": "stdout",
     "output_type": "stream",
     "text": [
      "MoviePy - Writing audio in /home/jupyter/datasets/amigos/audio/Exp1_P31_audio/P31_4_audio.wav\n"
     ]
    },
    {
     "name": "stderr",
     "output_type": "stream",
     "text": [
      "\n",
      "chunk:   8%|▊         | 153/2015 [00:00<00:02, 682.96it/s, now=None]\u001b[A\n",
      "chunk:  10%|█         | 204/2015 [00:00<00:03, 514.27it/s, now=None]\u001b[A\n",
      "chunk:  13%|█▎        | 255/2015 [00:00<00:04, 426.07it/s, now=None]\u001b[A\n",
      "chunk:  15%|█▌        | 306/2015 [00:00<00:04, 404.38it/s, now=None]\u001b[A\n",
      "chunk:  18%|█▊        | 357/2015 [00:00<00:04, 374.36it/s, now=None]\u001b[A\n",
      "chunk:  20%|██        | 408/2015 [00:00<00:04, 384.75it/s, now=None]\u001b[A\n",
      "chunk:  23%|██▎       | 459/2015 [00:01<00:04, 320.03it/s, now=None]\u001b[A\n",
      "chunk:  25%|██▌       | 510/2015 [00:01<00:04, 314.14it/s, now=None]\u001b[A\n",
      "chunk:  28%|██▊       | 569/2015 [00:01<00:03, 365.29it/s, now=None]\u001b[A\n",
      "chunk:  30%|███       | 612/2015 [00:01<00:03, 354.80it/s, now=None]\u001b[A\n",
      "chunk:  35%|███▌      | 714/2015 [00:01<00:03, 339.13it/s, now=None]\u001b[A\n",
      "chunk:  38%|███▊      | 765/2015 [00:02<00:03, 330.39it/s, now=None]\u001b[A\n",
      "chunk:  40%|████      | 816/2015 [00:02<00:03, 332.55it/s, now=None]\u001b[A\n",
      "chunk:  43%|████▎     | 867/2015 [00:02<00:03, 315.88it/s, now=None]\u001b[A\n",
      "chunk:  46%|████▌     | 918/2015 [00:02<00:03, 293.77it/s, now=None]\u001b[A\n",
      "chunk:  48%|████▊     | 969/2015 [00:02<00:03, 277.39it/s, now=None]\u001b[A\n",
      "chunk:  51%|█████     | 1020/2015 [00:03<00:03, 264.38it/s, now=None]\u001b[A\n",
      "chunk:  56%|█████▌    | 1122/2015 [00:03<00:02, 303.21it/s, now=None]\u001b[A\n",
      "chunk:  58%|█████▊    | 1173/2015 [00:03<00:02, 339.94it/s, now=None]\u001b[A\n",
      "chunk:  61%|██████    | 1224/2015 [00:03<00:02, 355.48it/s, now=None]\u001b[A\n",
      "chunk:  63%|██████▎   | 1275/2015 [00:03<00:02, 354.22it/s, now=None]\u001b[A\n",
      "chunk:  68%|██████▊   | 1377/2015 [00:03<00:01, 418.09it/s, now=None]\u001b[A\n",
      "chunk:  71%|███████   | 1428/2015 [00:03<00:01, 417.75it/s, now=None]\u001b[A\n",
      "chunk:  73%|███████▎  | 1479/2015 [00:04<00:01, 372.37it/s, now=None]\u001b[A\n",
      "chunk:  76%|███████▌  | 1530/2015 [00:04<00:01, 379.13it/s, now=None]\u001b[A\n",
      "chunk:  78%|███████▊  | 1581/2015 [00:04<00:01, 290.41it/s, now=None]\u001b[A\n",
      "chunk:  81%|████████  | 1632/2015 [00:04<00:01, 329.75it/s, now=None]\u001b[A\n",
      "chunk:  84%|████████▎ | 1683/2015 [00:04<00:00, 360.31it/s, now=None]\u001b[A\n",
      "chunk:  86%|████████▌ | 1734/2015 [00:04<00:00, 322.32it/s, now=None]\u001b[A\n",
      "chunk:  89%|████████▊ | 1785/2015 [00:05<00:00, 241.76it/s, now=None]\u001b[A\n",
      "chunk:  91%|█████████ | 1836/2015 [00:05<00:00, 251.52it/s, now=None]\u001b[A\n",
      "chunk:  94%|█████████▎| 1887/2015 [00:05<00:00, 231.81it/s, now=None]\u001b[A\n",
      "chunk:  96%|█████████▌| 1938/2015 [00:05<00:00, 269.24it/s, now=None]\u001b[A\n",
      "chunk:   1%|▏         | 29/2121 [7:19:37<528:33:30, 909.57s/it, now=None]"
     ]
    },
    {
     "name": "stdout",
     "output_type": "stream",
     "text": [
      "MoviePy - Done.\n"
     ]
    },
    {
     "name": "stderr",
     "output_type": "stream",
     "text": [
      "chunk:   1%|▏         | 29/2121 [7:19:38<528:34:30, 909.59s/it, now=None]\n",
      "chunk:   0%|          | 0/2482 [00:00<?, ?it/s, now=None]\u001b[A\n",
      "chunk:   4%|▍         | 102/2482 [00:00<00:03, 693.85it/s, now=None]\u001b[A"
     ]
    },
    {
     "name": "stdout",
     "output_type": "stream",
     "text": [
      "MoviePy - Writing audio in /home/jupyter/datasets/amigos/audio/Exp1_P31_audio/P31_5_audio.wav\n"
     ]
    },
    {
     "name": "stderr",
     "output_type": "stream",
     "text": [
      "\n",
      "chunk:   6%|▌         | 153/2482 [00:00<00:06, 355.84it/s, now=None]\u001b[A\n",
      "chunk:   8%|▊         | 204/2482 [00:00<00:06, 332.66it/s, now=None]\u001b[A\n",
      "chunk:  10%|█         | 255/2482 [00:00<00:06, 342.46it/s, now=None]\u001b[A\n",
      "chunk:  12%|█▏        | 306/2482 [00:00<00:06, 351.04it/s, now=None]\u001b[A\n",
      "chunk:  14%|█▍        | 357/2482 [00:01<00:05, 386.20it/s, now=None]\u001b[A\n",
      "chunk:  16%|█▋        | 408/2482 [00:01<00:07, 291.33it/s, now=None]\u001b[A\n",
      "chunk:  18%|█▊        | 459/2482 [00:01<00:06, 307.45it/s, now=None]\u001b[A\n",
      "chunk:  22%|██▏       | 545/2482 [00:01<00:05, 380.75it/s, now=None]\u001b[A\n",
      "chunk:  24%|██▍       | 594/2482 [00:01<00:04, 406.51it/s, now=None]\u001b[A\n",
      "chunk:  26%|██▌       | 643/2482 [00:01<00:05, 361.17it/s, now=None]\u001b[A\n",
      "chunk:  28%|██▊       | 686/2482 [00:02<00:06, 288.24it/s, now=None]\u001b[A\n",
      "chunk:  29%|██▉       | 722/2482 [00:02<00:06, 275.81it/s, now=None]\u001b[A\n",
      "chunk:  31%|███       | 765/2482 [00:02<00:06, 266.32it/s, now=None]\u001b[A\n",
      "chunk:  33%|███▎      | 816/2482 [00:02<00:05, 291.46it/s, now=None]\u001b[A\n",
      "chunk:  35%|███▍      | 867/2482 [00:02<00:05, 304.54it/s, now=None]\u001b[A\n",
      "chunk:  37%|███▋      | 918/2482 [00:02<00:06, 257.40it/s, now=None]\u001b[A\n",
      "chunk:  39%|███▉      | 969/2482 [00:03<00:05, 270.81it/s, now=None]\u001b[A\n",
      "chunk:  41%|████      | 1020/2482 [00:03<00:06, 229.64it/s, now=None]\u001b[A\n",
      "chunk:  43%|████▎     | 1071/2482 [00:03<00:05, 272.21it/s, now=None]\u001b[A\n",
      "chunk:  45%|████▌     | 1122/2482 [00:03<00:04, 273.61it/s, now=None]\u001b[A\n",
      "chunk:  47%|████▋     | 1173/2482 [00:03<00:05, 255.79it/s, now=None]\u001b[A\n",
      "chunk:  49%|████▉     | 1224/2482 [00:03<00:04, 292.55it/s, now=None]\u001b[A\n",
      "chunk:  51%|█████▏    | 1275/2482 [00:04<00:03, 303.18it/s, now=None]\u001b[A\n",
      "chunk:  53%|█████▎    | 1326/2482 [00:04<00:03, 301.61it/s, now=None]\u001b[A\n",
      "chunk:  55%|█████▌    | 1377/2482 [00:04<00:03, 315.64it/s, now=None]\u001b[A\n",
      "chunk:  58%|█████▊    | 1428/2482 [00:04<00:03, 287.16it/s, now=None]\u001b[A\n",
      "chunk:  60%|█████▉    | 1479/2482 [00:05<00:04, 222.19it/s, now=None]\u001b[A\n",
      "chunk:  62%|██████▏   | 1530/2482 [00:05<00:04, 216.91it/s, now=None]\u001b[A\n",
      "chunk:  64%|██████▎   | 1581/2482 [00:05<00:04, 220.46it/s, now=None]\u001b[A\n",
      "chunk:  66%|██████▌   | 1632/2482 [00:05<00:03, 232.89it/s, now=None]\u001b[A\n",
      "chunk:  68%|██████▊   | 1699/2482 [00:05<00:02, 289.49it/s, now=None]\u001b[A\n",
      "chunk:  70%|██████▉   | 1737/2482 [00:05<00:02, 273.98it/s, now=None]\u001b[A\n",
      "chunk:  72%|███████▏  | 1785/2482 [00:06<00:02, 298.81it/s, now=None]\u001b[A\n",
      "chunk:  74%|███████▍  | 1836/2482 [00:06<00:01, 340.94it/s, now=None]\u001b[A\n",
      "chunk:  76%|███████▌  | 1887/2482 [00:06<00:01, 363.12it/s, now=None]\u001b[A\n",
      "chunk:  78%|███████▊  | 1938/2482 [00:06<00:01, 391.47it/s, now=None]\u001b[A\n",
      "chunk:  80%|████████  | 1989/2482 [00:06<00:01, 357.02it/s, now=None]\u001b[A\n",
      "chunk:  82%|████████▏ | 2040/2482 [00:06<00:01, 364.80it/s, now=None]\u001b[A\n",
      "chunk:  84%|████████▍ | 2091/2482 [00:06<00:01, 335.60it/s, now=None]\u001b[A\n",
      "chunk:  86%|████████▋ | 2142/2482 [00:07<00:01, 316.44it/s, now=None]\u001b[A\n",
      "chunk:  88%|████████▊ | 2193/2482 [00:07<00:00, 335.92it/s, now=None]\u001b[A\n",
      "chunk:  90%|█████████ | 2244/2482 [00:07<00:00, 342.14it/s, now=None]\u001b[A\n",
      "chunk:  92%|█████████▏| 2295/2482 [00:07<00:00, 304.04it/s, now=None]\u001b[A\n",
      "chunk:  95%|█████████▍| 2346/2482 [00:07<00:00, 250.73it/s, now=None]\u001b[A\n",
      "chunk:  97%|█████████▋| 2397/2482 [00:08<00:00, 238.98it/s, now=None]\u001b[A\n",
      "chunk:  99%|█████████▊| 2448/2482 [00:08<00:00, 279.92it/s, now=None]\u001b[A\n",
      "chunk:   1%|▏         | 29/2121 [7:19:46<528:44:23, 909.88s/it, now=None]"
     ]
    },
    {
     "name": "stdout",
     "output_type": "stream",
     "text": [
      "MoviePy - Done.\n"
     ]
    },
    {
     "name": "stderr",
     "output_type": "stream",
     "text": [
      "chunk:   1%|▏         | 29/2121 [7:19:47<528:45:21, 909.90s/it, now=None]\n",
      "chunk:   0%|          | 0/1425 [00:00<?, ?it/s, now=None]\u001b[A\n",
      "chunk:   7%|▋         | 102/1425 [00:00<00:02, 612.92it/s, now=None]\u001b[A"
     ]
    },
    {
     "name": "stdout",
     "output_type": "stream",
     "text": [
      "MoviePy - Writing audio in /home/jupyter/datasets/amigos/audio/Exp1_P31_audio/P31_58_audio.wav\n"
     ]
    },
    {
     "name": "stderr",
     "output_type": "stream",
     "text": [
      "\n",
      "chunk:  11%|█         | 153/1425 [00:00<00:02, 439.63it/s, now=None]\u001b[A\n",
      "chunk:  14%|█▍        | 204/1425 [00:00<00:03, 396.54it/s, now=None]\u001b[A\n",
      "chunk:  18%|█▊        | 255/1425 [00:00<00:03, 363.21it/s, now=None]\u001b[A\n",
      "chunk:  21%|██▏       | 306/1425 [00:00<00:03, 305.53it/s, now=None]\u001b[A\n",
      "chunk:  25%|██▌       | 357/1425 [00:01<00:04, 237.59it/s, now=None]\u001b[A\n",
      "chunk:  29%|██▊       | 408/1425 [00:01<00:04, 204.64it/s, now=None]\u001b[A\n",
      "chunk:  32%|███▏      | 459/1425 [00:01<00:05, 178.14it/s, now=None]\u001b[A\n",
      "chunk:  36%|███▌      | 510/1425 [00:02<00:05, 173.00it/s, now=None]\u001b[A\n",
      "chunk:  39%|███▉      | 561/1425 [00:02<00:04, 178.25it/s, now=None]\u001b[A\n",
      "chunk:  43%|████▎     | 612/1425 [00:02<00:04, 189.76it/s, now=None]\u001b[A\n",
      "chunk:  47%|████▋     | 663/1425 [00:02<00:03, 200.97it/s, now=None]\u001b[A\n",
      "chunk:  50%|█████     | 714/1425 [00:03<00:03, 236.90it/s, now=None]\u001b[A\n",
      "chunk:  54%|█████▎    | 765/1425 [00:03<00:03, 215.63it/s, now=None]\u001b[A\n",
      "chunk:  57%|█████▋    | 816/1425 [00:03<00:02, 251.33it/s, now=None]\u001b[A\n",
      "chunk:  61%|██████    | 867/1425 [00:03<00:01, 285.82it/s, now=None]\u001b[A\n",
      "chunk:  64%|██████▍   | 918/1425 [00:03<00:01, 254.94it/s, now=None]\u001b[A\n",
      "chunk:  68%|██████▊   | 969/1425 [00:04<00:02, 222.97it/s, now=None]\u001b[A\n",
      "chunk:  72%|███████▏  | 1020/1425 [00:04<00:01, 229.77it/s, now=None]\u001b[A\n",
      "chunk:  75%|███████▌  | 1071/1425 [00:04<00:01, 225.01it/s, now=None]\u001b[A\n",
      "chunk:  79%|███████▊  | 1122/1425 [00:04<00:01, 212.41it/s, now=None]\u001b[A\n",
      "chunk:  82%|████████▏ | 1173/1425 [00:05<00:01, 189.98it/s, now=None]\u001b[A\n",
      "chunk:  86%|████████▌ | 1224/1425 [00:05<00:01, 194.54it/s, now=None]\u001b[A\n",
      "chunk:  89%|████████▉ | 1275/1425 [00:05<00:00, 193.79it/s, now=None]\u001b[A\n",
      "chunk:  93%|█████████▎| 1326/1425 [00:05<00:00, 205.03it/s, now=None]\u001b[A\n",
      "chunk:   1%|▏         | 29/2121 [7:19:53<528:52:39, 910.11s/it, now=None]"
     ]
    },
    {
     "name": "stdout",
     "output_type": "stream",
     "text": [
      "MoviePy - Done.\n"
     ]
    },
    {
     "name": "stderr",
     "output_type": "stream",
     "text": [
      "chunk:   1%|▏         | 29/2121 [7:19:54<528:53:53, 910.15s/it, now=None]\n",
      "chunk:   0%|          | 0/2262 [00:00<?, ?it/s, now=None]\u001b[A\n",
      "chunk:   5%|▍         | 102/2262 [00:00<00:02, 732.78it/s, now=None]\u001b[A"
     ]
    },
    {
     "name": "stdout",
     "output_type": "stream",
     "text": [
      "MoviePy - Writing audio in /home/jupyter/datasets/amigos/audio/Exp1_P31_audio/P31_80_audio.wav\n"
     ]
    },
    {
     "name": "stderr",
     "output_type": "stream",
     "text": [
      "\n",
      "chunk:   7%|▋         | 153/2262 [00:00<00:05, 356.80it/s, now=None]\u001b[A\n",
      "chunk:   9%|▉         | 204/2262 [00:00<00:07, 284.17it/s, now=None]\u001b[A\n",
      "chunk:  14%|█▎        | 306/2262 [00:00<00:06, 315.24it/s, now=None]\u001b[A\n",
      "chunk:  16%|█▌        | 357/2262 [00:01<00:05, 320.42it/s, now=None]\u001b[A\n",
      "chunk:  18%|█▊        | 408/2262 [00:01<00:06, 305.98it/s, now=None]\u001b[A\n",
      "chunk:  20%|██        | 459/2262 [00:01<00:06, 262.64it/s, now=None]\u001b[A\n",
      "chunk:  23%|██▎       | 510/2262 [00:01<00:06, 256.54it/s, now=None]\u001b[A\n",
      "chunk:  25%|██▍       | 561/2262 [00:01<00:05, 297.27it/s, now=None]\u001b[A\n",
      "chunk:  27%|██▋       | 612/2262 [00:02<00:05, 276.95it/s, now=None]\u001b[A\n",
      "chunk:  29%|██▉       | 663/2262 [00:02<00:06, 257.81it/s, now=None]\u001b[A\n",
      "chunk:  32%|███▏      | 714/2262 [00:02<00:06, 239.68it/s, now=None]\u001b[A\n",
      "chunk:  34%|███▍      | 765/2262 [00:02<00:05, 262.55it/s, now=None]\u001b[A\n",
      "chunk:  36%|███▌      | 816/2262 [00:02<00:05, 271.12it/s, now=None]\u001b[A\n",
      "chunk:  38%|███▊      | 867/2262 [00:03<00:05, 274.77it/s, now=None]\u001b[A\n",
      "chunk:  41%|████      | 918/2262 [00:03<00:04, 269.07it/s, now=None]\u001b[A\n",
      "chunk:  43%|████▎     | 969/2262 [00:03<00:04, 278.44it/s, now=None]\u001b[A\n",
      "chunk:  46%|████▋     | 1049/2262 [00:03<00:03, 346.12it/s, now=None]\u001b[A\n",
      "chunk:  48%|████▊     | 1093/2262 [00:03<00:03, 340.49it/s, now=None]\u001b[A\n",
      "chunk:  50%|█████     | 1134/2262 [00:03<00:03, 289.13it/s, now=None]\u001b[A\n",
      "chunk:  52%|█████▏    | 1173/2262 [00:04<00:04, 266.86it/s, now=None]\u001b[A\n",
      "chunk:  54%|█████▍    | 1224/2262 [00:04<00:03, 277.94it/s, now=None]\u001b[A\n",
      "chunk:  56%|█████▋    | 1275/2262 [00:04<00:03, 283.12it/s, now=None]\u001b[A\n",
      "chunk:  59%|█████▊    | 1326/2262 [00:04<00:04, 233.33it/s, now=None]\u001b[A\n",
      "chunk:  61%|██████    | 1377/2262 [00:04<00:03, 244.98it/s, now=None]\u001b[A\n",
      "chunk:  63%|██████▎   | 1428/2262 [00:05<00:03, 253.00it/s, now=None]\u001b[A\n",
      "chunk:  65%|██████▌   | 1479/2262 [00:05<00:02, 271.21it/s, now=None]\u001b[A\n",
      "chunk:  68%|██████▊   | 1530/2262 [00:05<00:02, 291.61it/s, now=None]\u001b[A\n",
      "chunk:  70%|██████▉   | 1581/2262 [00:05<00:02, 314.23it/s, now=None]\u001b[A\n",
      "chunk:  72%|███████▏  | 1632/2262 [00:05<00:01, 336.06it/s, now=None]\u001b[A\n",
      "chunk:  77%|███████▋  | 1734/2262 [00:05<00:01, 345.29it/s, now=None]\u001b[A\n",
      "chunk:  79%|███████▉  | 1785/2262 [00:06<00:01, 323.76it/s, now=None]\u001b[A\n",
      "chunk:  81%|████████  | 1836/2262 [00:06<00:01, 279.44it/s, now=None]\u001b[A\n",
      "chunk:  83%|████████▎ | 1887/2262 [00:06<00:01, 299.71it/s, now=None]\u001b[A\n",
      "chunk:  86%|████████▌ | 1938/2262 [00:06<00:01, 268.06it/s, now=None]\u001b[A\n",
      "chunk:  88%|████████▊ | 1989/2262 [00:06<00:00, 279.01it/s, now=None]\u001b[A\n",
      "chunk:  90%|█████████ | 2040/2262 [00:06<00:00, 303.73it/s, now=None]\u001b[A\n",
      "chunk:  92%|█████████▏| 2091/2262 [00:07<00:00, 315.70it/s, now=None]\u001b[A\n",
      "chunk:  95%|█████████▍| 2142/2262 [00:07<00:00, 255.17it/s, now=None]\u001b[A\n",
      "chunk:  97%|█████████▋| 2193/2262 [00:07<00:00, 286.52it/s, now=None]\u001b[A\n",
      "chunk:   1%|▏         | 29/2121 [7:20:02<529:03:06, 910.41s/it, now=None]"
     ]
    },
    {
     "name": "stdout",
     "output_type": "stream",
     "text": [
      "MoviePy - Done.\n"
     ]
    },
    {
     "name": "stderr",
     "output_type": "stream",
     "text": [
      "chunk:   1%|▏         | 29/2121 [7:20:02<529:04:10, 910.44s/it, now=None]\n",
      "chunk:   0%|          | 0/1674 [00:00<?, ?it/s, now=None]\u001b[A\n",
      "chunk:   6%|▌         | 102/1674 [00:00<00:02, 773.33it/s, now=None]\u001b[A"
     ]
    },
    {
     "name": "stdout",
     "output_type": "stream",
     "text": [
      "MoviePy - Writing audio in /home/jupyter/datasets/amigos/audio/Exp1_P31_audio/P31_9_audio.wav\n"
     ]
    },
    {
     "name": "stderr",
     "output_type": "stream",
     "text": [
      "\n",
      "chunk:   9%|▉         | 153/1674 [00:00<00:03, 464.04it/s, now=None]\u001b[A\n",
      "chunk:  12%|█▏        | 204/1674 [00:00<00:03, 385.74it/s, now=None]\u001b[A\n",
      "chunk:  15%|█▌        | 255/1674 [00:00<00:04, 335.92it/s, now=None]\u001b[A\n",
      "chunk:  18%|█▊        | 306/1674 [00:00<00:03, 356.30it/s, now=None]\u001b[A\n",
      "chunk:  21%|██▏       | 357/1674 [00:00<00:03, 367.44it/s, now=None]\u001b[A\n",
      "chunk:  24%|██▍       | 408/1674 [00:01<00:03, 323.17it/s, now=None]\u001b[A\n",
      "chunk:  27%|██▋       | 459/1674 [00:01<00:03, 352.58it/s, now=None]\u001b[A\n",
      "chunk:  30%|███       | 510/1674 [00:01<00:03, 318.02it/s, now=None]\u001b[A\n",
      "chunk:  34%|███▎      | 561/1674 [00:01<00:03, 346.95it/s, now=None]\u001b[A\n",
      "chunk:  37%|███▋      | 612/1674 [00:01<00:03, 297.97it/s, now=None]\u001b[A\n",
      "chunk:  40%|███▉      | 663/1674 [00:01<00:03, 312.74it/s, now=None]\u001b[A\n",
      "chunk:  43%|████▎     | 714/1674 [00:02<00:02, 326.81it/s, now=None]\u001b[A\n",
      "chunk:  46%|████▌     | 765/1674 [00:02<00:02, 334.71it/s, now=None]\u001b[A\n",
      "chunk:  49%|████▊     | 816/1674 [00:02<00:03, 278.56it/s, now=None]\u001b[A\n",
      "chunk:  52%|█████▏    | 867/1674 [00:02<00:02, 320.95it/s, now=None]\u001b[A\n",
      "chunk:  55%|█████▍    | 918/1674 [00:02<00:02, 331.11it/s, now=None]\u001b[A\n",
      "chunk:  58%|█████▊    | 969/1674 [00:02<00:02, 291.15it/s, now=None]\u001b[A\n",
      "chunk:  61%|██████    | 1020/1674 [00:03<00:02, 286.13it/s, now=None]\u001b[A\n",
      "chunk:  64%|██████▍   | 1071/1674 [00:03<00:02, 287.94it/s, now=None]\u001b[A\n",
      "chunk:  67%|██████▋   | 1122/1674 [00:03<00:01, 310.45it/s, now=None]\u001b[A\n",
      "chunk:  70%|███████   | 1173/1674 [00:03<00:01, 255.48it/s, now=None]\u001b[A\n",
      "chunk:  73%|███████▎  | 1224/1674 [00:04<00:01, 241.48it/s, now=None]\u001b[A\n",
      "chunk:  76%|███████▌  | 1275/1674 [00:04<00:01, 270.81it/s, now=None]\u001b[A\n",
      "chunk:  79%|███████▉  | 1326/1674 [00:04<00:01, 234.43it/s, now=None]\u001b[A\n",
      "chunk:  82%|████████▏ | 1377/1674 [00:04<00:01, 255.86it/s, now=None]\u001b[A\n",
      "chunk:  85%|████████▌ | 1428/1674 [00:04<00:00, 275.23it/s, now=None]\u001b[A\n",
      "chunk:  88%|████████▊ | 1479/1674 [00:04<00:00, 300.97it/s, now=None]\u001b[A\n",
      "chunk:  91%|█████████▏| 1530/1674 [00:05<00:00, 296.58it/s, now=None]\u001b[A\n",
      "chunk:  94%|█████████▍| 1581/1674 [00:05<00:00, 294.88it/s, now=None]\u001b[A\n",
      "chunk:  97%|█████████▋| 1632/1674 [00:05<00:00, 265.42it/s, now=None]\u001b[A\n",
      "chunk:   1%|▏         | 29/2121 [7:20:08<529:10:46, 910.63s/it, now=None]"
     ]
    },
    {
     "name": "stdout",
     "output_type": "stream",
     "text": [
      "MoviePy - Done.\n"
     ]
    },
    {
     "name": "stderr",
     "output_type": "stream",
     "text": [
      "chunk:   1%|▏         | 29/2121 [7:20:09<529:11:51, 910.66s/it, now=None]\n",
      "chunk:   0%|          | 0/2129 [00:00<?, ?it/s, now=None]\u001b[A\n",
      "chunk:   5%|▍         | 102/2129 [00:00<00:02, 744.79it/s, now=None]\u001b[A"
     ]
    },
    {
     "name": "stdout",
     "output_type": "stream",
     "text": [
      "MoviePy - Writing audio in /home/jupyter/datasets/amigos/audio/Exp1_P32_audio/P32_10_audio.wav\n"
     ]
    },
    {
     "name": "stderr",
     "output_type": "stream",
     "text": [
      "\n",
      "chunk:   7%|▋         | 153/2129 [00:00<00:03, 548.86it/s, now=None]\u001b[A\n",
      "chunk:  10%|▉         | 204/2129 [00:00<00:04, 475.27it/s, now=None]\u001b[A\n",
      "chunk:  12%|█▏        | 255/2129 [00:00<00:05, 373.92it/s, now=None]\u001b[A\n",
      "chunk:  14%|█▍        | 306/2129 [00:00<00:05, 349.61it/s, now=None]\u001b[A\n",
      "chunk:  17%|█▋        | 357/2129 [00:00<00:04, 366.56it/s, now=None]\u001b[A\n",
      "chunk:  19%|█▉        | 408/2129 [00:01<00:04, 378.20it/s, now=None]\u001b[A\n",
      "chunk:  22%|██▏       | 459/2129 [00:01<00:04, 366.18it/s, now=None]\u001b[A\n",
      "chunk:  24%|██▍       | 510/2129 [00:01<00:04, 380.99it/s, now=None]\u001b[A\n",
      "chunk:  26%|██▋       | 561/2129 [00:01<00:05, 312.33it/s, now=None]\u001b[A\n",
      "chunk:  29%|██▊       | 612/2129 [00:01<00:04, 334.85it/s, now=None]\u001b[A\n",
      "chunk:  33%|███▎      | 711/2129 [00:01<00:03, 417.76it/s, now=None]\u001b[A\n",
      "chunk:  36%|███▌      | 766/2129 [00:01<00:03, 364.02it/s, now=None]\u001b[A\n",
      "chunk:  38%|███▊      | 816/2129 [00:02<00:03, 356.66it/s, now=None]\u001b[A\n",
      "chunk:  41%|████      | 867/2129 [00:02<00:04, 309.82it/s, now=None]\u001b[A\n",
      "chunk:  43%|████▎     | 918/2129 [00:02<00:03, 311.51it/s, now=None]\u001b[A\n",
      "chunk:  46%|████▌     | 969/2129 [00:02<00:04, 281.86it/s, now=None]\u001b[A\n",
      "chunk:  48%|████▊     | 1020/2129 [00:02<00:03, 278.47it/s, now=None]\u001b[A\n",
      "chunk:  50%|█████     | 1071/2129 [00:03<00:04, 258.81it/s, now=None]\u001b[A\n",
      "chunk:  53%|█████▎    | 1122/2129 [00:03<00:03, 273.93it/s, now=None]\u001b[A\n",
      "chunk:  55%|█████▌    | 1173/2129 [00:03<00:03, 285.18it/s, now=None]\u001b[A\n",
      "chunk:  58%|█████▊    | 1239/2129 [00:03<00:02, 343.61it/s, now=None]\u001b[A\n",
      "chunk:  62%|██████▏   | 1326/2129 [00:03<00:02, 336.63it/s, now=None]\u001b[A\n",
      "chunk:  65%|██████▍   | 1377/2129 [00:04<00:02, 298.71it/s, now=None]\u001b[A\n",
      "chunk:  67%|██████▋   | 1428/2129 [00:04<00:02, 312.70it/s, now=None]\u001b[A\n",
      "chunk:  69%|██████▉   | 1479/2129 [00:04<00:02, 261.34it/s, now=None]\u001b[A\n",
      "chunk:  72%|███████▏  | 1530/2129 [00:04<00:02, 268.48it/s, now=None]\u001b[A\n",
      "chunk:  74%|███████▍  | 1581/2129 [00:04<00:01, 293.37it/s, now=None]\u001b[A\n",
      "chunk:  77%|███████▋  | 1632/2129 [00:04<00:01, 288.46it/s, now=None]\u001b[A\n",
      "chunk:  79%|███████▉  | 1683/2129 [00:05<00:01, 253.77it/s, now=None]\u001b[A\n",
      "chunk:  81%|████████▏ | 1734/2129 [00:05<00:01, 255.59it/s, now=None]\u001b[A\n",
      "chunk:  84%|████████▍ | 1785/2129 [00:05<00:01, 244.86it/s, now=None]\u001b[A\n",
      "chunk:  86%|████████▌ | 1836/2129 [00:05<00:01, 235.97it/s, now=None]\u001b[A\n",
      "chunk:  89%|████████▊ | 1887/2129 [00:05<00:00, 273.47it/s, now=None]\u001b[A\n",
      "chunk:  91%|█████████ | 1938/2129 [00:06<00:00, 301.86it/s, now=None]\u001b[A\n",
      "chunk:  96%|█████████▌| 2040/2129 [00:06<00:00, 327.76it/s, now=None]\u001b[A\n",
      "chunk:  98%|█████████▊| 2091/2129 [00:06<00:00, 323.49it/s, now=None]\u001b[A\n",
      "chunk:   1%|▏         | 29/2121 [7:20:15<529:19:44, 910.89s/it, now=None]"
     ]
    },
    {
     "name": "stdout",
     "output_type": "stream",
     "text": [
      "MoviePy - Done.\n"
     ]
    },
    {
     "name": "stderr",
     "output_type": "stream",
     "text": [
      "chunk:   1%|▏         | 29/2121 [7:20:16<529:20:35, 910.92s/it, now=None]\n",
      "chunk:   0%|          | 0/1271 [00:00<?, ?it/s, now=None]\u001b[A\n",
      "chunk:   8%|▊         | 102/1271 [00:00<00:01, 869.88it/s, now=None]\u001b[A"
     ]
    },
    {
     "name": "stdout",
     "output_type": "stream",
     "text": [
      "MoviePy - Writing audio in /home/jupyter/datasets/amigos/audio/Exp1_P32_audio/P32_13_audio.wav\n"
     ]
    },
    {
     "name": "stderr",
     "output_type": "stream",
     "text": [
      "\n",
      "chunk:  12%|█▏        | 153/1271 [00:00<00:02, 508.59it/s, now=None]\u001b[A\n",
      "chunk:  16%|█▌        | 204/1271 [00:00<00:02, 406.20it/s, now=None]\u001b[A\n",
      "chunk:  20%|██        | 255/1271 [00:00<00:03, 301.30it/s, now=None]\u001b[A\n",
      "chunk:  24%|██▍       | 306/1271 [00:00<00:03, 301.77it/s, now=None]\u001b[A\n",
      "chunk:  28%|██▊       | 357/1271 [00:01<00:02, 332.54it/s, now=None]\u001b[A\n",
      "chunk:  32%|███▏      | 408/1271 [00:01<00:02, 348.96it/s, now=None]\u001b[A\n",
      "chunk:  36%|███▌      | 459/1271 [00:01<00:03, 248.13it/s, now=None]\u001b[A\n",
      "chunk:  40%|████      | 510/1271 [00:01<00:02, 276.00it/s, now=None]\u001b[A\n",
      "chunk:  44%|████▍     | 561/1271 [00:01<00:02, 315.05it/s, now=None]\u001b[A\n",
      "chunk:  48%|████▊     | 612/1271 [00:02<00:02, 281.12it/s, now=None]\u001b[A\n",
      "chunk:  52%|█████▏    | 663/1271 [00:02<00:02, 280.41it/s, now=None]\u001b[A\n",
      "chunk:  56%|█████▌    | 714/1271 [00:02<00:02, 260.31it/s, now=None]\u001b[A\n",
      "chunk:  60%|██████    | 765/1271 [00:02<00:02, 236.65it/s, now=None]\u001b[A\n",
      "chunk:  64%|██████▍   | 816/1271 [00:02<00:01, 244.14it/s, now=None]\u001b[A\n",
      "chunk:  68%|██████▊   | 867/1271 [00:03<00:01, 269.38it/s, now=None]\u001b[A\n",
      "chunk:  73%|███████▎  | 924/1271 [00:03<00:01, 319.96it/s, now=None]\u001b[A\n",
      "chunk:  76%|███████▌  | 969/1271 [00:03<00:01, 258.71it/s, now=None]\u001b[A\n",
      "chunk:  80%|████████  | 1020/1271 [00:03<00:01, 214.42it/s, now=None]\u001b[A\n",
      "chunk:  86%|████████▌ | 1091/1271 [00:03<00:00, 271.19it/s, now=None]\u001b[A\n",
      "chunk:  89%|████████▉ | 1131/1271 [00:03<00:00, 290.21it/s, now=None]\u001b[A\n",
      "chunk:  92%|█████████▏| 1173/1271 [00:04<00:00, 285.89it/s, now=None]\u001b[A\n",
      "chunk:  96%|█████████▋| 1224/1271 [00:04<00:00, 253.37it/s, now=None]\u001b[A\n",
      "chunk:   1%|▏         | 29/2121 [7:20:20<529:25:49, 911.07s/it, now=None]"
     ]
    },
    {
     "name": "stdout",
     "output_type": "stream",
     "text": [
      "MoviePy - Done.\n"
     ]
    },
    {
     "name": "stderr",
     "output_type": "stream",
     "text": [
      "chunk:   1%|▏         | 29/2121 [7:20:21<529:26:49, 911.09s/it, now=None]\n",
      "chunk:   0%|          | 0/2714 [00:00<?, ?it/s, now=None]\u001b[A\n",
      "chunk:   4%|▍         | 102/2714 [00:00<00:03, 770.08it/s, now=None]\u001b[A"
     ]
    },
    {
     "name": "stdout",
     "output_type": "stream",
     "text": [
      "MoviePy - Writing audio in /home/jupyter/datasets/amigos/audio/Exp1_P32_audio/P32_138_audio.wav\n"
     ]
    },
    {
     "name": "stderr",
     "output_type": "stream",
     "text": [
      "\n",
      "chunk:   6%|▌         | 153/2714 [00:00<00:05, 453.63it/s, now=None]\u001b[A\n",
      "chunk:   8%|▊         | 204/2714 [00:00<00:08, 300.46it/s, now=None]\u001b[A\n",
      "chunk:   9%|▉         | 255/2714 [00:00<00:07, 310.25it/s, now=None]\u001b[A\n",
      "chunk:  11%|█▏        | 306/2714 [00:00<00:07, 313.25it/s, now=None]\u001b[A\n",
      "chunk:  13%|█▎        | 357/2714 [00:01<00:07, 333.68it/s, now=None]\u001b[A\n",
      "chunk:  17%|█▋        | 459/2714 [00:01<00:06, 355.37it/s, now=None]\u001b[A\n",
      "chunk:  21%|██        | 561/2714 [00:01<00:05, 363.70it/s, now=None]\u001b[A\n",
      "chunk:  23%|██▎       | 612/2714 [00:01<00:05, 368.74it/s, now=None]\u001b[A\n",
      "chunk:  24%|██▍       | 663/2714 [00:01<00:05, 385.45it/s, now=None]\u001b[A\n",
      "chunk:  26%|██▋       | 714/2714 [00:01<00:04, 408.16it/s, now=None]\u001b[A\n",
      "chunk:  28%|██▊       | 765/2714 [00:02<00:07, 271.63it/s, now=None]\u001b[A\n",
      "chunk:  30%|███       | 816/2714 [00:02<00:06, 281.33it/s, now=None]\u001b[A\n",
      "chunk:  32%|███▏      | 867/2714 [00:02<00:07, 254.94it/s, now=None]\u001b[A\n",
      "chunk:  36%|███▌      | 969/2714 [00:02<00:05, 308.31it/s, now=None]\u001b[A\n",
      "chunk:  39%|███▉      | 1065/2714 [00:02<00:04, 387.06it/s, now=None]\u001b[A\n",
      "chunk:  41%|████▏     | 1121/2714 [00:03<00:04, 379.12it/s, now=None]\u001b[A\n",
      "chunk:  43%|████▎     | 1173/2714 [00:03<00:05, 276.73it/s, now=None]\u001b[A\n",
      "chunk:  45%|████▌     | 1224/2714 [00:03<00:05, 278.21it/s, now=None]\u001b[A\n",
      "chunk:  47%|████▋     | 1275/2714 [00:03<00:05, 275.41it/s, now=None]\u001b[A\n",
      "chunk:  49%|████▉     | 1326/2714 [00:04<00:05, 257.15it/s, now=None]\u001b[A\n",
      "chunk:  51%|█████     | 1377/2714 [00:04<00:04, 278.71it/s, now=None]\u001b[A\n",
      "chunk:  53%|█████▎    | 1428/2714 [00:04<00:04, 287.83it/s, now=None]\u001b[A\n",
      "chunk:  54%|█████▍    | 1479/2714 [00:04<00:04, 273.82it/s, now=None]\u001b[A\n",
      "chunk:  56%|█████▋    | 1530/2714 [00:04<00:04, 259.43it/s, now=None]\u001b[A\n",
      "chunk:  60%|██████    | 1632/2714 [00:04<00:03, 301.22it/s, now=None]\u001b[A\n",
      "chunk:  62%|██████▏   | 1683/2714 [00:05<00:03, 313.40it/s, now=None]\u001b[A\n",
      "chunk:  64%|██████▍   | 1734/2714 [00:05<00:03, 311.94it/s, now=None]\u001b[A\n",
      "chunk:  66%|██████▌   | 1785/2714 [00:05<00:03, 308.14it/s, now=None]\u001b[A\n",
      "chunk:  68%|██████▊   | 1857/2714 [00:05<00:02, 371.96it/s, now=None]\u001b[A\n",
      "chunk:  70%|███████   | 1902/2714 [00:05<00:02, 312.21it/s, now=None]\u001b[A\n",
      "chunk:  71%|███████▏  | 1940/2714 [00:06<00:03, 243.13it/s, now=None]\u001b[A\n",
      "chunk:  74%|███████▎  | 2000/2714 [00:06<00:02, 295.90it/s, now=None]\u001b[A\n",
      "chunk:  75%|███████▌  | 2040/2714 [00:06<00:02, 272.94it/s, now=None]\u001b[A\n",
      "chunk:  77%|███████▋  | 2091/2714 [00:06<00:02, 238.30it/s, now=None]\u001b[A\n",
      "chunk:  79%|███████▉  | 2142/2714 [00:06<00:02, 270.91it/s, now=None]\u001b[A\n",
      "chunk:  81%|████████  | 2193/2714 [00:06<00:02, 240.73it/s, now=None]\u001b[A\n",
      "chunk:  83%|████████▎ | 2244/2714 [00:07<00:02, 215.51it/s, now=None]\u001b[A\n",
      "chunk:  85%|████████▍ | 2295/2714 [00:07<00:01, 238.42it/s, now=None]\u001b[A\n",
      "chunk:  86%|████████▋ | 2346/2714 [00:07<00:01, 238.96it/s, now=None]\u001b[A\n",
      "chunk:  88%|████████▊ | 2397/2714 [00:07<00:01, 261.16it/s, now=None]\u001b[A\n",
      "chunk:  90%|█████████ | 2448/2714 [00:07<00:00, 267.56it/s, now=None]\u001b[A\n",
      "chunk:  92%|█████████▏| 2499/2714 [00:08<00:01, 198.63it/s, now=None]\u001b[A\n",
      "chunk:  94%|█████████▍| 2550/2714 [00:08<00:00, 222.19it/s, now=None]\u001b[A\n",
      "chunk:  96%|█████████▌| 2601/2714 [00:08<00:00, 262.25it/s, now=None]\u001b[A\n",
      "chunk:  98%|█████████▊| 2652/2714 [00:08<00:00, 292.99it/s, now=None]\u001b[A\n",
      "chunk:   1%|▏         | 29/2121 [7:20:30<529:37:25, 911.40s/it, now=None]"
     ]
    },
    {
     "name": "stdout",
     "output_type": "stream",
     "text": [
      "MoviePy - Done.\n"
     ]
    },
    {
     "name": "stderr",
     "output_type": "stream",
     "text": [
      "chunk:   1%|▏         | 29/2121 [7:20:31<529:38:22, 911.43s/it, now=None]\n",
      "chunk:   0%|          | 0/1843 [00:00<?, ?it/s, now=None]\u001b[A\n",
      "chunk:   6%|▌         | 102/1843 [00:00<00:02, 783.69it/s, now=None]\u001b[A"
     ]
    },
    {
     "name": "stdout",
     "output_type": "stream",
     "text": [
      "MoviePy - Writing audio in /home/jupyter/datasets/amigos/audio/Exp1_P32_audio/P32_18_audio.wav\n"
     ]
    },
    {
     "name": "stderr",
     "output_type": "stream",
     "text": [
      "\n",
      "chunk:   8%|▊         | 153/1843 [00:00<00:02, 612.91it/s, now=None]\u001b[A\n",
      "chunk:  11%|█         | 204/1843 [00:00<00:04, 390.61it/s, now=None]\u001b[A\n",
      "chunk:  14%|█▍        | 255/1843 [00:00<00:04, 317.62it/s, now=None]\u001b[A\n",
      "chunk:  17%|█▋        | 306/1843 [00:00<00:05, 293.56it/s, now=None]\u001b[A\n",
      "chunk:  22%|██▏       | 408/1843 [00:01<00:04, 310.43it/s, now=None]\u001b[A\n",
      "chunk:  25%|██▍       | 459/1843 [00:01<00:06, 204.74it/s, now=None]\u001b[A\n",
      "chunk:  30%|███       | 561/1843 [00:01<00:05, 231.62it/s, now=None]\u001b[A\n",
      "chunk:  36%|███▌      | 663/1843 [00:02<00:04, 275.60it/s, now=None]\u001b[A\n",
      "chunk:  42%|████▏     | 765/1843 [00:02<00:03, 292.61it/s, now=None]\u001b[A\n",
      "chunk:  47%|████▋     | 867/1843 [00:02<00:03, 309.07it/s, now=None]\u001b[A\n",
      "chunk:  50%|████▉     | 918/1843 [00:02<00:02, 324.96it/s, now=None]\u001b[A\n",
      "chunk:  53%|█████▎    | 969/1843 [00:03<00:02, 323.71it/s, now=None]\u001b[A\n",
      "chunk:  55%|█████▌    | 1020/1843 [00:03<00:02, 336.57it/s, now=None]\u001b[A\n",
      "chunk:  58%|█████▊    | 1071/1843 [00:03<00:02, 298.74it/s, now=None]\u001b[A\n",
      "chunk:  61%|██████    | 1122/1843 [00:03<00:02, 303.39it/s, now=None]\u001b[A\n",
      "chunk:  64%|██████▎   | 1173/1843 [00:03<00:02, 289.13it/s, now=None]\u001b[A\n",
      "chunk:  66%|██████▋   | 1224/1843 [00:03<00:01, 329.09it/s, now=None]\u001b[A\n",
      "chunk:  69%|██████▉   | 1275/1843 [00:04<00:01, 330.73it/s, now=None]\u001b[A\n",
      "chunk:  72%|███████▏  | 1326/1843 [00:04<00:01, 276.52it/s, now=None]\u001b[A\n",
      "chunk:  75%|███████▍  | 1377/1843 [00:04<00:01, 262.87it/s, now=None]\u001b[A\n",
      "chunk:  77%|███████▋  | 1428/1843 [00:04<00:01, 259.71it/s, now=None]\u001b[A\n",
      "chunk:  80%|████████  | 1479/1843 [00:04<00:01, 242.57it/s, now=None]\u001b[A\n",
      "chunk:  83%|████████▎ | 1530/1843 [00:05<00:01, 236.78it/s, now=None]\u001b[A\n",
      "chunk:  86%|████████▌ | 1581/1843 [00:05<00:01, 249.26it/s, now=None]\u001b[A\n",
      "chunk:  89%|████████▊ | 1632/1843 [00:05<00:00, 250.32it/s, now=None]\u001b[A\n",
      "chunk:  91%|█████████▏| 1683/1843 [00:05<00:00, 250.73it/s, now=None]\u001b[A\n",
      "chunk:  94%|█████████▍| 1734/1843 [00:05<00:00, 248.54it/s, now=None]\u001b[A\n",
      "chunk:  97%|█████████▋| 1785/1843 [00:06<00:00, 258.44it/s, now=None]\u001b[A\n",
      "chunk:   1%|▏         | 29/2121 [7:20:37<529:45:48, 911.64s/it, now=None]"
     ]
    },
    {
     "name": "stdout",
     "output_type": "stream",
     "text": [
      "MoviePy - Done.\n"
     ]
    },
    {
     "name": "stderr",
     "output_type": "stream",
     "text": [
      "chunk:   1%|▏         | 29/2121 [7:20:38<529:46:43, 911.67s/it, now=None]\n",
      "chunk:   0%|          | 0/2801 [00:00<?, ?it/s, now=None]\u001b[A\n",
      "chunk:   4%|▎         | 102/2801 [00:00<00:03, 748.77it/s, now=None]\u001b[A"
     ]
    },
    {
     "name": "stdout",
     "output_type": "stream",
     "text": [
      "MoviePy - Writing audio in /home/jupyter/datasets/amigos/audio/Exp1_P32_audio/P32_19_audio.wav\n"
     ]
    },
    {
     "name": "stderr",
     "output_type": "stream",
     "text": [
      "\n",
      "chunk:   5%|▌         | 153/2801 [00:00<00:06, 421.95it/s, now=None]\u001b[A\n",
      "chunk:   7%|▋         | 204/2801 [00:00<00:10, 258.39it/s, now=None]\u001b[A\n",
      "chunk:   9%|▉         | 255/2801 [00:00<00:09, 272.63it/s, now=None]\u001b[A\n",
      "chunk:  11%|█         | 306/2801 [00:01<00:08, 308.92it/s, now=None]\u001b[A\n",
      "chunk:  13%|█▎        | 375/2801 [00:01<00:06, 370.20it/s, now=None]\u001b[A\n",
      "chunk:  16%|█▋        | 459/2801 [00:01<00:05, 425.47it/s, now=None]\u001b[A\n",
      "chunk:  20%|██        | 561/2801 [00:01<00:05, 438.31it/s, now=None]\u001b[A\n",
      "chunk:  22%|██▏       | 612/2801 [00:01<00:06, 331.64it/s, now=None]\u001b[A\n",
      "chunk:  24%|██▎       | 663/2801 [00:01<00:06, 341.71it/s, now=None]\u001b[A\n",
      "chunk:  27%|██▋       | 765/2801 [00:02<00:05, 359.30it/s, now=None]\u001b[A\n",
      "chunk:  29%|██▉       | 816/2801 [00:02<00:05, 382.07it/s, now=None]\u001b[A\n",
      "chunk:  31%|███       | 867/2801 [00:02<00:06, 308.82it/s, now=None]\u001b[A\n",
      "chunk:  33%|███▎      | 918/2801 [00:02<00:05, 330.36it/s, now=None]\u001b[A\n",
      "chunk:  35%|███▍      | 969/2801 [00:02<00:05, 354.95it/s, now=None]\u001b[A\n",
      "chunk:  38%|███▊      | 1071/2801 [00:02<00:04, 394.74it/s, now=None]\u001b[A\n",
      "chunk:  40%|████      | 1122/2801 [00:03<00:05, 313.92it/s, now=None]\u001b[A\n",
      "chunk:  43%|████▎     | 1196/2801 [00:03<00:04, 379.37it/s, now=None]\u001b[A\n",
      "chunk:  44%|████▍     | 1244/2801 [00:03<00:04, 354.09it/s, now=None]\u001b[A\n",
      "chunk:  46%|████▌     | 1287/2801 [00:03<00:04, 324.30it/s, now=None]\u001b[A\n",
      "chunk:  49%|████▉     | 1377/2801 [00:03<00:04, 354.87it/s, now=None]\u001b[A\n",
      "chunk:  52%|█████▏    | 1463/2801 [00:03<00:03, 430.69it/s, now=None]\u001b[A\n",
      "chunk:  54%|█████▍    | 1517/2801 [00:03<00:03, 411.26it/s, now=None]\u001b[A\n",
      "chunk:  56%|█████▋    | 1581/2801 [00:04<00:03, 364.51it/s, now=None]\u001b[A\n",
      "chunk:  58%|█████▊    | 1632/2801 [00:04<00:03, 373.22it/s, now=None]\u001b[A\n",
      "chunk:  60%|██████    | 1683/2801 [00:04<00:03, 371.47it/s, now=None]\u001b[A\n",
      "chunk:  62%|██████▏   | 1734/2801 [00:04<00:02, 377.04it/s, now=None]\u001b[A\n",
      "chunk:  64%|██████▎   | 1785/2801 [00:04<00:02, 343.64it/s, now=None]\u001b[A\n",
      "chunk:  66%|██████▌   | 1836/2801 [00:05<00:03, 293.05it/s, now=None]\u001b[A\n",
      "chunk:  67%|██████▋   | 1887/2801 [00:05<00:03, 275.11it/s, now=None]\u001b[A\n",
      "chunk:  69%|██████▉   | 1938/2801 [00:05<00:03, 258.42it/s, now=None]\u001b[A\n",
      "chunk:  71%|███████   | 1989/2801 [00:05<00:03, 239.87it/s, now=None]\u001b[A\n",
      "chunk:  75%|███████▍  | 2091/2801 [00:05<00:02, 288.90it/s, now=None]\u001b[A\n",
      "chunk:  76%|███████▋  | 2142/2801 [00:06<00:02, 297.80it/s, now=None]\u001b[A\n",
      "chunk:  78%|███████▊  | 2193/2801 [00:06<00:02, 300.24it/s, now=None]\u001b[A\n",
      "chunk:  80%|████████  | 2244/2801 [00:06<00:01, 323.14it/s, now=None]\u001b[A\n",
      "chunk:  84%|████████▎ | 2342/2801 [00:06<00:01, 404.44it/s, now=None]\u001b[A\n",
      "chunk:  86%|████████▌ | 2397/2801 [00:06<00:01, 380.73it/s, now=None]\u001b[A\n",
      "chunk:  89%|████████▉ | 2499/2801 [00:06<00:00, 361.37it/s, now=None]\u001b[A\n",
      "chunk:  91%|█████████ | 2550/2801 [00:07<00:00, 331.54it/s, now=None]\u001b[A\n",
      "chunk:  93%|█████████▎| 2601/2801 [00:07<00:00, 364.61it/s, now=None]\u001b[A\n",
      "chunk:  95%|█████████▍| 2652/2801 [00:07<00:00, 390.84it/s, now=None]\u001b[A\n",
      "chunk:  97%|█████████▋| 2703/2801 [00:07<00:00, 383.19it/s, now=None]\u001b[A\n",
      "chunk:  98%|█████████▊| 2754/2801 [00:07<00:00, 329.13it/s, now=None]\u001b[A\n",
      "chunk:   1%|▏         | 29/2121 [7:20:46<529:56:00, 911.93s/it, now=None]"
     ]
    },
    {
     "name": "stdout",
     "output_type": "stream",
     "text": [
      "MoviePy - Done.\n"
     ]
    },
    {
     "name": "stderr",
     "output_type": "stream",
     "text": [
      "chunk:   1%|▏         | 29/2121 [7:20:46<529:56:51, 911.96s/it, now=None]\n",
      "chunk:   0%|          | 0/1457 [00:00<?, ?it/s, now=None]\u001b[A"
     ]
    },
    {
     "name": "stdout",
     "output_type": "stream",
     "text": [
      "MoviePy - Writing audio in /home/jupyter/datasets/amigos/audio/Exp1_P32_audio/P32_20_audio.wav\n"
     ]
    },
    {
     "name": "stderr",
     "output_type": "stream",
     "text": [
      "\n",
      "chunk:   7%|▋         | 102/1457 [00:00<00:02, 549.97it/s, now=None]\u001b[A\n",
      "chunk:  14%|█▍        | 204/1457 [00:00<00:02, 601.80it/s, now=None]\u001b[A\n",
      "chunk:  21%|██        | 306/1457 [00:00<00:01, 670.43it/s, now=None]\u001b[A\n",
      "chunk:  25%|██▍       | 358/1457 [00:00<00:01, 596.66it/s, now=None]\u001b[A\n",
      "chunk:  32%|███▏      | 459/1457 [00:00<00:01, 647.54it/s, now=None]\u001b[A\n",
      "chunk:  36%|███▌      | 519/1457 [00:00<00:01, 512.26it/s, now=None]\u001b[A\n",
      "chunk:  40%|████      | 584/1457 [00:00<00:01, 546.96it/s, now=None]\u001b[A\n",
      "chunk:  44%|████▍     | 640/1457 [00:01<00:01, 527.11it/s, now=None]\u001b[A\n",
      "chunk:  49%|████▉     | 714/1457 [00:01<00:01, 558.74it/s, now=None]\u001b[A\n",
      "chunk:  56%|█████▌    | 816/1457 [00:01<00:01, 584.85it/s, now=None]\u001b[A\n",
      "chunk:  60%|██████    | 876/1457 [00:01<00:01, 548.28it/s, now=None]\u001b[A\n",
      "chunk:  67%|██████▋   | 969/1457 [00:01<00:01, 487.51it/s, now=None]\u001b[A\n",
      "chunk:  74%|███████▎  | 1071/1457 [00:01<00:00, 557.01it/s, now=None]\u001b[A\n",
      "chunk:  78%|███████▊  | 1132/1457 [00:01<00:00, 505.65it/s, now=None]\u001b[A\n",
      "chunk:  84%|████████▍ | 1224/1457 [00:02<00:00, 509.71it/s, now=None]\u001b[A\n",
      "chunk:  91%|█████████ | 1326/1457 [00:02<00:00, 590.85it/s, now=None]\u001b[A\n",
      "chunk:  98%|█████████▊| 1428/1457 [00:02<00:00, 650.12it/s, now=None]\u001b[A\n",
      "chunk:   1%|▏         | 29/2121 [7:20:49<529:59:44, 912.04s/it, now=None]"
     ]
    },
    {
     "name": "stdout",
     "output_type": "stream",
     "text": [
      "MoviePy - Done.\n"
     ]
    },
    {
     "name": "stderr",
     "output_type": "stream",
     "text": [
      "chunk:   1%|▏         | 29/2121 [7:20:49<530:00:30, 912.06s/it, now=None]\n",
      "chunk:   0%|          | 0/2483 [00:00<?, ?it/s, now=None]\u001b[A"
     ]
    },
    {
     "name": "stdout",
     "output_type": "stream",
     "text": [
      "MoviePy - Writing audio in /home/jupyter/datasets/amigos/audio/Exp1_P32_audio/P32_23_audio.wav\n"
     ]
    },
    {
     "name": "stderr",
     "output_type": "stream",
     "text": [
      "\n",
      "chunk:   4%|▍         | 102/2483 [00:00<00:05, 433.72it/s, now=None]\u001b[A\n",
      "chunk:   6%|▌         | 153/2483 [00:00<00:06, 376.70it/s, now=None]\u001b[A\n",
      "chunk:   8%|▊         | 204/2483 [00:00<00:06, 378.02it/s, now=None]\u001b[A\n",
      "chunk:  10%|█         | 255/2483 [00:00<00:05, 382.90it/s, now=None]\u001b[A\n",
      "chunk:  12%|█▏        | 306/2483 [00:00<00:06, 324.31it/s, now=None]\u001b[A\n",
      "chunk:  16%|█▋        | 408/2483 [00:01<00:05, 374.12it/s, now=None]\u001b[A\n",
      "chunk:  18%|█▊        | 459/2483 [00:01<00:05, 365.94it/s, now=None]\u001b[A\n",
      "chunk:  21%|██        | 510/2483 [00:01<00:05, 378.68it/s, now=None]\u001b[A\n",
      "chunk:  23%|██▎       | 561/2483 [00:01<00:05, 344.78it/s, now=None]\u001b[A\n",
      "chunk:  25%|██▍       | 612/2483 [00:01<00:05, 354.07it/s, now=None]\u001b[A\n",
      "chunk:  27%|██▋       | 663/2483 [00:01<00:06, 296.12it/s, now=None]\u001b[A\n",
      "chunk:  29%|██▉       | 714/2483 [00:01<00:05, 335.17it/s, now=None]\u001b[A\n",
      "chunk:  31%|███       | 765/2483 [00:02<00:05, 315.98it/s, now=None]\u001b[A\n",
      "chunk:  33%|███▎      | 816/2483 [00:02<00:05, 315.02it/s, now=None]\u001b[A\n",
      "chunk:  35%|███▍      | 867/2483 [00:02<00:05, 277.28it/s, now=None]\u001b[A\n",
      "chunk:  37%|███▋      | 918/2483 [00:02<00:07, 213.13it/s, now=None]\u001b[A\n",
      "chunk:  39%|███▉      | 969/2483 [00:03<00:08, 171.98it/s, now=None]\u001b[A\n",
      "chunk:  41%|████      | 1020/2483 [00:03<00:06, 213.74it/s, now=None]\u001b[A\n",
      "chunk:  43%|████▎     | 1071/2483 [00:03<00:06, 212.59it/s, now=None]\u001b[A\n",
      "chunk:  45%|████▌     | 1122/2483 [00:03<00:05, 233.79it/s, now=None]\u001b[A\n",
      "chunk:  47%|████▋     | 1173/2483 [00:04<00:05, 253.86it/s, now=None]\u001b[A\n",
      "chunk:  49%|████▉     | 1224/2483 [00:04<00:04, 292.57it/s, now=None]\u001b[A\n",
      "chunk:  51%|█████▏    | 1275/2483 [00:04<00:03, 302.23it/s, now=None]\u001b[A\n",
      "chunk:  53%|█████▎    | 1326/2483 [00:04<00:03, 293.04it/s, now=None]\u001b[A\n",
      "chunk:  55%|█████▌    | 1377/2483 [00:04<00:03, 313.66it/s, now=None]\u001b[A\n",
      "chunk:  58%|█████▊    | 1428/2483 [00:04<00:03, 348.75it/s, now=None]\u001b[A\n",
      "chunk:  60%|█████▉    | 1479/2483 [00:04<00:02, 347.99it/s, now=None]\u001b[A\n",
      "chunk:  62%|██████▏   | 1530/2483 [00:05<00:02, 334.25it/s, now=None]\u001b[A\n",
      "chunk:  64%|██████▎   | 1581/2483 [00:05<00:02, 358.16it/s, now=None]\u001b[A\n",
      "chunk:  66%|██████▌   | 1632/2483 [00:05<00:02, 362.45it/s, now=None]\u001b[A\n",
      "chunk:  70%|██████▉   | 1734/2483 [00:05<00:02, 314.47it/s, now=None]\u001b[A\n",
      "chunk:  72%|███████▏  | 1785/2483 [00:05<00:02, 303.54it/s, now=None]\u001b[A\n",
      "chunk:  74%|███████▍  | 1836/2483 [00:06<00:02, 283.69it/s, now=None]\u001b[A\n",
      "chunk:  76%|███████▌  | 1887/2483 [00:06<00:01, 317.59it/s, now=None]\u001b[A\n",
      "chunk:  78%|███████▊  | 1938/2483 [00:06<00:01, 354.91it/s, now=None]\u001b[A\n",
      "chunk:  80%|████████  | 1989/2483 [00:06<00:01, 336.38it/s, now=None]\u001b[A\n",
      "chunk:  82%|████████▏ | 2040/2483 [00:06<00:01, 310.20it/s, now=None]\u001b[A\n",
      "chunk:  84%|████████▍ | 2091/2483 [00:06<00:01, 339.36it/s, now=None]\u001b[A\n",
      "chunk:  86%|████████▋ | 2142/2483 [00:07<00:01, 290.18it/s, now=None]\u001b[A\n",
      "chunk:  88%|████████▊ | 2193/2483 [00:07<00:00, 316.22it/s, now=None]\u001b[A\n",
      "chunk:  90%|█████████ | 2244/2483 [00:07<00:00, 305.71it/s, now=None]\u001b[A\n",
      "chunk:  93%|█████████▎| 2320/2483 [00:07<00:00, 372.45it/s, now=None]\u001b[A\n",
      "chunk:  95%|█████████▌| 2366/2483 [00:07<00:00, 344.62it/s, now=None]\u001b[A\n",
      "chunk:  97%|█████████▋| 2407/2483 [00:07<00:00, 337.03it/s, now=None]\u001b[A\n",
      "chunk:   1%|▏         | 29/2121 [7:20:57<530:09:57, 912.33s/it, now=None]"
     ]
    },
    {
     "name": "stdout",
     "output_type": "stream",
     "text": [
      "MoviePy - Done.\n"
     ]
    },
    {
     "name": "stderr",
     "output_type": "stream",
     "text": [
      "chunk:   1%|▏         | 29/2121 [7:20:58<530:11:07, 912.37s/it, now=None]\n",
      "chunk:   0%|          | 0/1704 [00:00<?, ?it/s, now=None]\u001b[A\n",
      "chunk:   6%|▌         | 102/1704 [00:00<00:01, 810.50it/s, now=None]\u001b[A"
     ]
    },
    {
     "name": "stdout",
     "output_type": "stream",
     "text": [
      "MoviePy - Writing audio in /home/jupyter/datasets/amigos/audio/Exp1_P32_audio/P32_30_audio.wav\n"
     ]
    },
    {
     "name": "stderr",
     "output_type": "stream",
     "text": [
      "\n",
      "chunk:   9%|▉         | 153/1704 [00:00<00:02, 551.49it/s, now=None]\u001b[A\n",
      "chunk:  12%|█▏        | 204/1704 [00:00<00:04, 341.89it/s, now=None]\u001b[A\n",
      "chunk:  15%|█▍        | 255/1704 [00:00<00:04, 325.31it/s, now=None]\u001b[A\n",
      "chunk:  18%|█▊        | 306/1704 [00:00<00:03, 351.99it/s, now=None]\u001b[A\n",
      "chunk:  21%|██        | 357/1704 [00:01<00:04, 324.50it/s, now=None]\u001b[A\n",
      "chunk:  24%|██▍       | 408/1704 [00:01<00:03, 332.60it/s, now=None]\u001b[A\n",
      "chunk:  27%|██▋       | 459/1704 [00:01<00:03, 321.84it/s, now=None]\u001b[A\n",
      "chunk:  30%|██▉       | 510/1704 [00:01<00:03, 308.55it/s, now=None]\u001b[A\n",
      "chunk:  33%|███▎      | 561/1704 [00:01<00:04, 270.11it/s, now=None]\u001b[A\n",
      "chunk:  36%|███▌      | 612/1704 [00:02<00:04, 237.77it/s, now=None]\u001b[A\n",
      "chunk:  42%|████▏     | 714/1704 [00:02<00:03, 257.82it/s, now=None]\u001b[A\n",
      "chunk:  45%|████▍     | 765/1704 [00:02<00:03, 261.89it/s, now=None]\u001b[A\n",
      "chunk:  51%|█████     | 867/1704 [00:02<00:03, 266.87it/s, now=None]\u001b[A\n",
      "chunk:  54%|█████▍    | 918/1704 [00:03<00:03, 261.54it/s, now=None]\u001b[A\n",
      "chunk:  57%|█████▋    | 969/1704 [00:03<00:02, 271.34it/s, now=None]\u001b[A\n",
      "chunk:  60%|█████▉    | 1020/1704 [00:03<00:02, 313.84it/s, now=None]\u001b[A\n",
      "chunk:  63%|██████▎   | 1071/1704 [00:03<00:01, 349.24it/s, now=None]\u001b[A\n",
      "chunk:  66%|██████▌   | 1122/1704 [00:03<00:01, 374.72it/s, now=None]\u001b[A\n",
      "chunk:  69%|██████▉   | 1173/1704 [00:03<00:01, 364.35it/s, now=None]\u001b[A\n",
      "chunk:  72%|███████▏  | 1224/1704 [00:03<00:01, 375.38it/s, now=None]\u001b[A\n",
      "chunk:  75%|███████▍  | 1275/1704 [00:04<00:01, 339.86it/s, now=None]\u001b[A\n",
      "chunk:  78%|███████▊  | 1326/1704 [00:04<00:01, 284.79it/s, now=None]\u001b[A\n",
      "chunk:  81%|████████  | 1377/1704 [00:04<00:01, 290.15it/s, now=None]\u001b[A\n",
      "chunk:  84%|████████▍ | 1428/1704 [00:04<00:00, 297.86it/s, now=None]\u001b[A\n",
      "chunk:  87%|████████▋ | 1479/1704 [00:04<00:00, 267.89it/s, now=None]\u001b[A\n",
      "chunk:  90%|████████▉ | 1530/1704 [00:05<00:00, 233.96it/s, now=None]\u001b[A\n",
      "chunk:  93%|█████████▎| 1581/1704 [00:05<00:00, 229.84it/s, now=None]\u001b[A\n",
      "chunk:  96%|█████████▌| 1632/1704 [00:05<00:00, 245.88it/s, now=None]\u001b[A\n",
      "chunk:   1%|▏         | 29/2121 [7:21:04<530:17:57, 912.56s/it, now=None]"
     ]
    },
    {
     "name": "stdout",
     "output_type": "stream",
     "text": [
      "MoviePy - Done.\n"
     ]
    },
    {
     "name": "stderr",
     "output_type": "stream",
     "text": [
      "chunk:   1%|▏         | 29/2121 [7:21:05<530:19:06, 912.59s/it, now=None]\n",
      "chunk:   0%|          | 0/3453 [00:00<?, ?it/s, now=None]\u001b[A\n",
      "chunk:   3%|▎         | 102/3453 [00:00<00:04, 696.76it/s, now=None]\u001b[A"
     ]
    },
    {
     "name": "stdout",
     "output_type": "stream",
     "text": [
      "MoviePy - Writing audio in /home/jupyter/datasets/amigos/audio/Exp1_P32_audio/P32_31_audio.wav\n"
     ]
    },
    {
     "name": "stderr",
     "output_type": "stream",
     "text": [
      "\n",
      "chunk:   4%|▍         | 153/3453 [00:00<00:06, 496.94it/s, now=None]\u001b[A\n",
      "chunk:   6%|▌         | 204/3453 [00:00<00:07, 410.72it/s, now=None]\u001b[A\n",
      "chunk:   7%|▋         | 255/3453 [00:00<00:08, 390.11it/s, now=None]\u001b[A\n",
      "chunk:  10%|█         | 357/3453 [00:00<00:07, 435.23it/s, now=None]\u001b[A\n",
      "chunk:  12%|█▏        | 408/3453 [00:00<00:06, 454.83it/s, now=None]\u001b[A\n",
      "chunk:  13%|█▎        | 459/3453 [00:01<00:09, 322.82it/s, now=None]\u001b[A\n",
      "chunk:  15%|█▍        | 510/3453 [00:01<00:09, 319.53it/s, now=None]\u001b[A\n",
      "chunk:  16%|█▌        | 561/3453 [00:01<00:08, 324.46it/s, now=None]\u001b[A\n",
      "chunk:  18%|█▊        | 612/3453 [00:01<00:08, 334.17it/s, now=None]\u001b[A\n",
      "chunk:  19%|█▉        | 663/3453 [00:01<00:09, 307.87it/s, now=None]\u001b[A\n",
      "chunk:  21%|██        | 714/3453 [00:01<00:08, 336.22it/s, now=None]\u001b[A\n",
      "chunk:  22%|██▏       | 765/3453 [00:02<00:08, 304.30it/s, now=None]\u001b[A\n",
      "chunk:  24%|██▎       | 816/3453 [00:02<00:08, 322.64it/s, now=None]\u001b[A\n",
      "chunk:  27%|██▋       | 918/3453 [00:02<00:07, 358.04it/s, now=None]\u001b[A\n",
      "chunk:  28%|██▊       | 969/3453 [00:02<00:06, 355.91it/s, now=None]\u001b[A\n",
      "chunk:  30%|██▉       | 1020/3453 [00:02<00:07, 342.67it/s, now=None]\u001b[A\n",
      "chunk:  31%|███       | 1071/3453 [00:02<00:07, 336.65it/s, now=None]\u001b[A\n",
      "chunk:  33%|███▎      | 1151/3453 [00:03<00:05, 407.42it/s, now=None]\u001b[A\n",
      "chunk:  35%|███▌      | 1221/3453 [00:03<00:04, 465.72it/s, now=None]\u001b[A\n",
      "chunk:  37%|███▋      | 1276/3453 [00:03<00:05, 374.30it/s, now=None]\u001b[A\n",
      "chunk:  38%|███▊      | 1326/3453 [00:03<00:05, 393.61it/s, now=None]\u001b[A\n",
      "chunk:  40%|███▉      | 1377/3453 [00:03<00:05, 389.29it/s, now=None]\u001b[A\n",
      "chunk:  41%|████▏     | 1428/3453 [00:03<00:05, 361.86it/s, now=None]\u001b[A\n",
      "chunk:  43%|████▎     | 1479/3453 [00:03<00:05, 343.45it/s, now=None]\u001b[A\n",
      "chunk:  44%|████▍     | 1530/3453 [00:04<00:06, 285.09it/s, now=None]\u001b[A\n",
      "chunk:  46%|████▌     | 1581/3453 [00:04<00:09, 205.16it/s, now=None]\u001b[A\n",
      "chunk:  47%|████▋     | 1632/3453 [00:05<00:11, 161.38it/s, now=None]\u001b[A\n",
      "chunk:  49%|████▊     | 1683/3453 [00:05<00:10, 167.68it/s, now=None]\u001b[A\n",
      "chunk:  50%|█████     | 1741/3453 [00:05<00:08, 213.12it/s, now=None]\u001b[A\n",
      "chunk:  53%|█████▎    | 1836/3453 [00:05<00:06, 259.31it/s, now=None]\u001b[A\n",
      "chunk:  55%|█████▍    | 1887/3453 [00:05<00:06, 244.37it/s, now=None]\u001b[A\n",
      "chunk:  56%|█████▌    | 1938/3453 [00:06<00:05, 272.77it/s, now=None]\u001b[A\n",
      "chunk:  58%|█████▊    | 1989/3453 [00:06<00:04, 310.96it/s, now=None]\u001b[A\n",
      "chunk:  59%|█████▉    | 2040/3453 [00:06<00:04, 328.03it/s, now=None]\u001b[A\n",
      "chunk:  61%|██████    | 2091/3453 [00:06<00:04, 300.65it/s, now=None]\u001b[A\n",
      "chunk:  62%|██████▏   | 2142/3453 [00:06<00:04, 305.16it/s, now=None]\u001b[A\n",
      "chunk:  64%|██████▎   | 2193/3453 [00:06<00:04, 308.70it/s, now=None]\u001b[A\n",
      "chunk:  65%|██████▍   | 2244/3453 [00:06<00:03, 320.21it/s, now=None]\u001b[A\n",
      "chunk:  66%|██████▋   | 2295/3453 [00:07<00:03, 335.86it/s, now=None]\u001b[A\n",
      "chunk:  68%|██████▊   | 2346/3453 [00:07<00:03, 330.09it/s, now=None]\u001b[A\n",
      "chunk:  70%|███████   | 2432/3453 [00:07<00:02, 404.83it/s, now=None]\u001b[A\n",
      "chunk:  72%|███████▏  | 2482/3453 [00:07<00:02, 394.99it/s, now=None]\u001b[A\n",
      "chunk:  73%|███████▎  | 2528/3453 [00:07<00:02, 362.16it/s, now=None]\u001b[A\n",
      "chunk:  74%|███████▍  | 2570/3453 [00:07<00:02, 317.80it/s, now=None]\u001b[A\n",
      "chunk:  77%|███████▋  | 2652/3453 [00:08<00:02, 328.56it/s, now=None]\u001b[A\n",
      "chunk:  78%|███████▊  | 2703/3453 [00:08<00:02, 319.89it/s, now=None]\u001b[A\n",
      "chunk:  80%|███████▉  | 2754/3453 [00:08<00:02, 339.51it/s, now=None]\u001b[A\n",
      "chunk:  82%|████████▏ | 2840/3453 [00:08<00:01, 414.70it/s, now=None]\u001b[A\n",
      "chunk:  84%|████████▎ | 2891/3453 [00:08<00:01, 429.25it/s, now=None]\u001b[A\n",
      "chunk:  85%|████████▌ | 2941/3453 [00:08<00:01, 402.92it/s, now=None]\u001b[A\n",
      "chunk:  87%|████████▋ | 3009/3453 [00:08<00:01, 398.27it/s, now=None]\u001b[A\n",
      "chunk:  89%|████████▊ | 3060/3453 [00:08<00:00, 415.16it/s, now=None]\u001b[A\n",
      "chunk:  92%|█████████▏| 3162/3453 [00:09<00:00, 443.54it/s, now=None]\u001b[A\n",
      "chunk:  93%|█████████▎| 3213/3453 [00:09<00:00, 431.31it/s, now=None]\u001b[A\n",
      "chunk:  95%|█████████▍| 3264/3453 [00:09<00:00, 396.30it/s, now=None]\u001b[A\n",
      "chunk:  96%|█████████▌| 3315/3453 [00:09<00:00, 380.69it/s, now=None]\u001b[A\n",
      "chunk:  97%|█████████▋| 3366/3453 [00:09<00:00, 321.97it/s, now=None]\u001b[A\n",
      "chunk:   1%|▏         | 29/2121 [7:21:15<530:30:58, 912.93s/it, now=None]"
     ]
    },
    {
     "name": "stdout",
     "output_type": "stream",
     "text": [
      "MoviePy - Done.\n"
     ]
    },
    {
     "name": "stderr",
     "output_type": "stream",
     "text": [
      "chunk:   1%|▏         | 29/2121 [7:21:15<530:31:50, 912.96s/it, now=None]\n",
      "chunk:   0%|          | 0/1473 [00:00<?, ?it/s, now=None]\u001b[A\n",
      "chunk:   7%|▋         | 102/1473 [00:00<00:01, 880.37it/s, now=None]\u001b[A"
     ]
    },
    {
     "name": "stdout",
     "output_type": "stream",
     "text": [
      "MoviePy - Writing audio in /home/jupyter/datasets/amigos/audio/Exp1_P32_audio/P32_34_audio.wav\n"
     ]
    },
    {
     "name": "stderr",
     "output_type": "stream",
     "text": [
      "\n",
      "chunk:  10%|█         | 153/1473 [00:00<00:02, 557.64it/s, now=None]\u001b[A\n",
      "chunk:  14%|█▍        | 204/1473 [00:00<00:02, 478.66it/s, now=None]\u001b[A\n",
      "chunk:  17%|█▋        | 255/1473 [00:00<00:02, 408.89it/s, now=None]\u001b[A\n",
      "chunk:  21%|██        | 306/1473 [00:00<00:02, 411.56it/s, now=None]\u001b[A\n",
      "chunk:  28%|██▊       | 408/1473 [00:00<00:02, 442.99it/s, now=None]\u001b[A\n",
      "chunk:  31%|███       | 459/1473 [00:01<00:02, 339.38it/s, now=None]\u001b[A\n",
      "chunk:  35%|███▍      | 510/1473 [00:01<00:03, 310.79it/s, now=None]\u001b[A\n",
      "chunk:  38%|███▊      | 561/1473 [00:01<00:03, 303.15it/s, now=None]\u001b[A\n",
      "chunk:  42%|████▏     | 612/1473 [00:01<00:02, 294.84it/s, now=None]\u001b[A\n",
      "chunk:  45%|████▌     | 663/1473 [00:01<00:02, 321.72it/s, now=None]\u001b[A\n",
      "chunk:  49%|████▉     | 721/1473 [00:01<00:02, 371.16it/s, now=None]\u001b[A\n",
      "chunk:  52%|█████▏    | 765/1473 [00:02<00:02, 291.65it/s, now=None]\u001b[A\n",
      "chunk:  55%|█████▌    | 816/1473 [00:02<00:02, 302.64it/s, now=None]\u001b[A\n",
      "chunk:  59%|█████▉    | 867/1473 [00:02<00:01, 322.95it/s, now=None]\u001b[A\n",
      "chunk:  62%|██████▏   | 918/1473 [00:02<00:01, 317.93it/s, now=None]\u001b[A\n",
      "chunk:  66%|██████▌   | 969/1473 [00:02<00:01, 306.14it/s, now=None]\u001b[A\n",
      "chunk:  69%|██████▉   | 1020/1473 [00:02<00:01, 325.37it/s, now=None]\u001b[A\n",
      "chunk:  73%|███████▎  | 1071/1473 [00:03<00:01, 343.99it/s, now=None]\u001b[A\n",
      "chunk:  76%|███████▌  | 1122/1473 [00:03<00:01, 341.02it/s, now=None]\u001b[A\n",
      "chunk:  80%|███████▉  | 1173/1473 [00:03<00:01, 287.95it/s, now=None]\u001b[A\n",
      "chunk:  83%|████████▎ | 1224/1473 [00:03<00:00, 292.32it/s, now=None]\u001b[A\n",
      "chunk:  87%|████████▋ | 1275/1473 [00:03<00:00, 307.16it/s, now=None]\u001b[A\n",
      "chunk:  90%|█████████ | 1326/1473 [00:03<00:00, 279.59it/s, now=None]\u001b[A\n",
      "chunk:  93%|█████████▎| 1377/1473 [00:04<00:00, 270.74it/s, now=None]\u001b[A\n",
      "chunk:  97%|█████████▋| 1428/1473 [00:04<00:00, 311.35it/s, now=None]\u001b[A\n",
      "chunk:   1%|▏         | 29/2121 [7:21:20<530:37:09, 913.11s/it, now=None]"
     ]
    },
    {
     "name": "stdout",
     "output_type": "stream",
     "text": [
      "MoviePy - Done.\n"
     ]
    },
    {
     "name": "stderr",
     "output_type": "stream",
     "text": [
      "chunk:   1%|▏         | 29/2121 [7:21:21<530:38:14, 913.14s/it, now=None]\n",
      "chunk:   0%|          | 0/1528 [00:00<?, ?it/s, now=None]\u001b[A"
     ]
    },
    {
     "name": "stdout",
     "output_type": "stream",
     "text": [
      "MoviePy - Writing audio in /home/jupyter/datasets/amigos/audio/Exp1_P32_audio/P32_36_audio.wav\n"
     ]
    },
    {
     "name": "stderr",
     "output_type": "stream",
     "text": [
      "\n",
      "chunk:   7%|▋         | 102/1528 [00:00<00:03, 414.53it/s, now=None]\u001b[A\n",
      "chunk:  10%|█         | 153/1528 [00:00<00:04, 331.24it/s, now=None]\u001b[A\n",
      "chunk:  13%|█▎        | 204/1528 [00:00<00:04, 328.54it/s, now=None]\u001b[A\n",
      "chunk:  17%|█▋        | 255/1528 [00:00<00:03, 343.70it/s, now=None]\u001b[A\n",
      "chunk:  20%|██        | 306/1528 [00:00<00:03, 353.49it/s, now=None]\u001b[A\n",
      "chunk:  23%|██▎       | 357/1528 [00:01<00:03, 340.96it/s, now=None]\u001b[A\n",
      "chunk:  27%|██▋       | 408/1528 [00:01<00:03, 365.22it/s, now=None]\u001b[A\n",
      "chunk:  30%|███       | 459/1528 [00:01<00:02, 370.33it/s, now=None]\u001b[A\n",
      "chunk:  37%|███▋      | 561/1528 [00:01<00:02, 393.66it/s, now=None]\u001b[A\n",
      "chunk:  40%|████      | 612/1528 [00:01<00:02, 396.79it/s, now=None]\u001b[A\n",
      "chunk:  43%|████▎     | 663/1528 [00:01<00:02, 327.96it/s, now=None]\u001b[A\n",
      "chunk:  47%|████▋     | 714/1528 [00:02<00:02, 281.62it/s, now=None]\u001b[A\n",
      "chunk:  50%|█████     | 765/1528 [00:02<00:02, 314.24it/s, now=None]\u001b[A\n",
      "chunk:  53%|█████▎    | 816/1528 [00:02<00:02, 265.51it/s, now=None]\u001b[A\n",
      "chunk:  57%|█████▋    | 867/1528 [00:02<00:02, 237.05it/s, now=None]\u001b[A\n",
      "chunk:  60%|██████    | 918/1528 [00:02<00:02, 253.77it/s, now=None]\u001b[A\n",
      "chunk:  63%|██████▎   | 969/1528 [00:03<00:02, 277.33it/s, now=None]\u001b[A\n",
      "chunk:  67%|██████▋   | 1020/1528 [00:03<00:01, 278.51it/s, now=None]\u001b[A\n",
      "chunk:  70%|███████   | 1071/1528 [00:03<00:01, 309.54it/s, now=None]\u001b[A\n",
      "chunk:  74%|███████▍  | 1128/1528 [00:03<00:01, 358.63it/s, now=None]\u001b[A\n",
      "chunk:  77%|███████▋  | 1173/1528 [00:03<00:01, 326.73it/s, now=None]\u001b[A\n",
      "chunk:  80%|████████  | 1224/1528 [00:03<00:00, 352.79it/s, now=None]\u001b[A\n",
      "chunk:  83%|████████▎ | 1275/1528 [00:03<00:00, 328.09it/s, now=None]\u001b[A\n",
      "chunk:  87%|████████▋ | 1326/1528 [00:04<00:00, 320.75it/s, now=None]\u001b[A\n",
      "chunk:  90%|█████████ | 1377/1528 [00:04<00:00, 285.08it/s, now=None]\u001b[A\n",
      "chunk:  93%|█████████▎| 1428/1528 [00:04<00:00, 315.03it/s, now=None]\u001b[A\n",
      "chunk:  97%|█████████▋| 1479/1528 [00:04<00:00, 277.65it/s, now=None]\u001b[A\n",
      "chunk:   1%|▏         | 29/2121 [7:21:25<530:43:56, 913.31s/it, now=None]"
     ]
    },
    {
     "name": "stdout",
     "output_type": "stream",
     "text": [
      "MoviePy - Done.\n"
     ]
    },
    {
     "name": "stderr",
     "output_type": "stream",
     "text": [
      "chunk:   1%|▏         | 29/2121 [7:21:26<530:44:56, 913.33s/it, now=None]\n",
      "chunk:   0%|          | 0/2023 [00:00<?, ?it/s, now=None]\u001b[A\n",
      "chunk:   5%|▌         | 102/2023 [00:00<00:01, 977.45it/s, now=None]\u001b[A"
     ]
    },
    {
     "name": "stdout",
     "output_type": "stream",
     "text": [
      "MoviePy - Writing audio in /home/jupyter/datasets/amigos/audio/Exp1_P32_audio/P32_4_audio.wav\n"
     ]
    },
    {
     "name": "stderr",
     "output_type": "stream",
     "text": [
      "\n",
      "chunk:   8%|▊         | 153/2023 [00:00<00:02, 638.12it/s, now=None]\u001b[A\n",
      "chunk:  10%|█         | 204/2023 [00:00<00:03, 490.27it/s, now=None]\u001b[A\n",
      "chunk:  13%|█▎        | 255/2023 [00:00<00:03, 465.79it/s, now=None]\u001b[A\n",
      "chunk:  15%|█▌        | 306/2023 [00:00<00:04, 354.06it/s, now=None]\u001b[A\n",
      "chunk:  18%|█▊        | 357/2023 [00:00<00:04, 359.71it/s, now=None]\u001b[A\n",
      "chunk:  22%|██▏       | 447/2023 [00:00<00:03, 438.62it/s, now=None]\u001b[A\n",
      "chunk:  25%|██▍       | 497/2023 [00:01<00:03, 438.05it/s, now=None]\u001b[A\n",
      "chunk:  27%|██▋       | 546/2023 [00:01<00:03, 388.06it/s, now=None]\u001b[A\n",
      "chunk:  30%|███       | 612/2023 [00:01<00:03, 430.04it/s, now=None]\u001b[A\n",
      "chunk:  33%|███▎      | 663/2023 [00:01<00:03, 434.77it/s, now=None]\u001b[A\n",
      "chunk:  35%|███▌      | 714/2023 [00:01<00:03, 375.12it/s, now=None]\u001b[A\n",
      "chunk:  38%|███▊      | 765/2023 [00:01<00:03, 345.14it/s, now=None]\u001b[A\n",
      "chunk:  40%|████      | 816/2023 [00:02<00:03, 325.54it/s, now=None]\u001b[A\n",
      "chunk:  43%|████▎     | 867/2023 [00:02<00:03, 343.23it/s, now=None]\u001b[A\n",
      "chunk:  45%|████▌     | 918/2023 [00:02<00:03, 364.91it/s, now=None]\u001b[A\n",
      "chunk:  48%|████▊     | 969/2023 [00:02<00:02, 370.47it/s, now=None]\u001b[A\n",
      "chunk:  50%|█████     | 1020/2023 [00:02<00:03, 310.41it/s, now=None]\u001b[A\n",
      "chunk:  53%|█████▎    | 1071/2023 [00:02<00:03, 316.51it/s, now=None]\u001b[A\n",
      "chunk:  58%|█████▊    | 1173/2023 [00:02<00:02, 354.13it/s, now=None]\u001b[A\n",
      "chunk:  63%|██████▎   | 1275/2023 [00:03<00:01, 377.69it/s, now=None]\u001b[A\n",
      "chunk:  66%|██████▌   | 1326/2023 [00:03<00:01, 361.79it/s, now=None]\u001b[A\n",
      "chunk:  68%|██████▊   | 1377/2023 [00:03<00:02, 295.16it/s, now=None]\u001b[A\n",
      "chunk:  71%|███████   | 1428/2023 [00:03<00:02, 296.60it/s, now=None]\u001b[A\n",
      "chunk:  73%|███████▎  | 1479/2023 [00:04<00:02, 235.21it/s, now=None]\u001b[A\n",
      "chunk:  76%|███████▌  | 1530/2023 [00:04<00:01, 254.06it/s, now=None]\u001b[A\n",
      "chunk:  81%|████████  | 1632/2023 [00:04<00:01, 311.82it/s, now=None]\u001b[A\n",
      "chunk:  86%|████████▌ | 1734/2023 [00:04<00:00, 353.89it/s, now=None]\u001b[A\n",
      "chunk:  88%|████████▊ | 1785/2023 [00:04<00:00, 363.12it/s, now=None]\u001b[A\n",
      "chunk:  93%|█████████▎| 1887/2023 [00:04<00:00, 396.91it/s, now=None]\u001b[A\n",
      "chunk:  96%|█████████▌| 1938/2023 [00:05<00:00, 382.95it/s, now=None]\u001b[A\n",
      "chunk:   1%|▏         | 29/2121 [7:21:31<530:51:10, 913.51s/it, now=None]"
     ]
    },
    {
     "name": "stdout",
     "output_type": "stream",
     "text": [
      "MoviePy - Done.\n"
     ]
    },
    {
     "name": "stderr",
     "output_type": "stream",
     "text": [
      "chunk:   1%|▏         | 29/2121 [7:21:32<530:51:51, 913.53s/it, now=None]\n",
      "chunk:   0%|          | 0/2499 [00:00<?, ?it/s, now=None]\u001b[A"
     ]
    },
    {
     "name": "stdout",
     "output_type": "stream",
     "text": [
      "MoviePy - Writing audio in /home/jupyter/datasets/amigos/audio/Exp1_P32_audio/P32_5_audio.wav\n"
     ]
    },
    {
     "name": "stderr",
     "output_type": "stream",
     "text": [
      "\n",
      "chunk:   6%|▌         | 153/2499 [00:00<00:04, 494.25it/s, now=None]\u001b[A\n",
      "chunk:   8%|▊         | 204/2499 [00:00<00:06, 374.64it/s, now=None]\u001b[A\n",
      "chunk:  10%|█         | 255/2499 [00:00<00:07, 293.19it/s, now=None]\u001b[A\n",
      "chunk:  12%|█▏        | 306/2499 [00:01<00:09, 229.19it/s, now=None]\u001b[A\n",
      "chunk:  14%|█▍        | 357/2499 [00:01<00:09, 218.86it/s, now=None]\u001b[A\n",
      "chunk:  16%|█▋        | 408/2499 [00:01<00:08, 249.59it/s, now=None]\u001b[A\n",
      "chunk:  18%|█▊        | 459/2499 [00:01<00:08, 241.76it/s, now=None]\u001b[A\n",
      "chunk:  20%|██        | 510/2499 [00:01<00:08, 239.18it/s, now=None]\u001b[A\n",
      "chunk:  22%|██▏       | 561/2499 [00:02<00:07, 253.03it/s, now=None]\u001b[A\n",
      "chunk:  24%|██▍       | 612/2499 [00:02<00:07, 265.97it/s, now=None]\u001b[A\n",
      "chunk:  27%|██▋       | 663/2499 [00:02<00:07, 259.41it/s, now=None]\u001b[A\n",
      "chunk:  29%|██▊       | 714/2499 [00:02<00:06, 296.17it/s, now=None]\u001b[A\n",
      "chunk:  31%|███       | 765/2499 [00:02<00:06, 255.56it/s, now=None]\u001b[A\n",
      "chunk:  33%|███▎      | 816/2499 [00:03<00:06, 266.10it/s, now=None]\u001b[A\n",
      "chunk:  35%|███▍      | 867/2499 [00:03<00:06, 244.93it/s, now=None]\u001b[A\n",
      "chunk:  37%|███▋      | 918/2499 [00:03<00:07, 222.06it/s, now=None]\u001b[A\n",
      "chunk:  39%|███▉      | 969/2499 [00:03<00:06, 238.05it/s, now=None]\u001b[A\n",
      "chunk:  43%|████▎     | 1071/2499 [00:04<00:05, 260.72it/s, now=None]\u001b[A\n",
      "chunk:  45%|████▍     | 1122/2499 [00:04<00:04, 278.16it/s, now=None]\u001b[A\n",
      "chunk:  47%|████▋     | 1173/2499 [00:04<00:04, 269.51it/s, now=None]\u001b[A\n",
      "chunk:  49%|████▉     | 1224/2499 [00:04<00:05, 221.92it/s, now=None]\u001b[A\n",
      "chunk:  51%|█████     | 1275/2499 [00:04<00:04, 257.21it/s, now=None]\u001b[A\n",
      "chunk:  53%|█████▎    | 1326/2499 [00:05<00:04, 265.45it/s, now=None]\u001b[A\n",
      "chunk:  55%|█████▌    | 1377/2499 [00:05<00:04, 279.92it/s, now=None]\u001b[A\n",
      "chunk:  57%|█████▋    | 1428/2499 [00:05<00:04, 254.08it/s, now=None]\u001b[A\n",
      "chunk:  59%|█████▉    | 1479/2499 [00:05<00:03, 270.54it/s, now=None]\u001b[A\n",
      "chunk:  61%|██████    | 1530/2499 [00:05<00:03, 297.01it/s, now=None]\u001b[A\n",
      "chunk:  63%|██████▎   | 1581/2499 [00:05<00:02, 316.81it/s, now=None]\u001b[A\n",
      "chunk:  65%|██████▌   | 1632/2499 [00:06<00:02, 332.79it/s, now=None]\u001b[A\n",
      "chunk:  67%|██████▋   | 1683/2499 [00:06<00:02, 273.91it/s, now=None]\u001b[A\n",
      "chunk:  69%|██████▉   | 1734/2499 [00:06<00:03, 205.24it/s, now=None]\u001b[A\n",
      "chunk:  71%|███████▏  | 1785/2499 [00:06<00:03, 231.08it/s, now=None]\u001b[A\n",
      "chunk:  73%|███████▎  | 1836/2499 [00:07<00:02, 249.81it/s, now=None]\u001b[A\n",
      "chunk:  76%|███████▌  | 1887/2499 [00:07<00:02, 261.69it/s, now=None]\u001b[A\n",
      "chunk:  78%|███████▊  | 1938/2499 [00:07<00:02, 267.84it/s, now=None]\u001b[A\n",
      "chunk:  80%|███████▉  | 1989/2499 [00:07<00:01, 262.86it/s, now=None]\u001b[A\n",
      "chunk:  82%|████████▏ | 2040/2499 [00:07<00:01, 248.36it/s, now=None]\u001b[A\n",
      "chunk:  84%|████████▎ | 2091/2499 [00:07<00:01, 252.01it/s, now=None]\u001b[A\n",
      "chunk:  86%|████████▌ | 2142/2499 [00:08<00:01, 271.24it/s, now=None]\u001b[A\n",
      "chunk:  90%|████████▉ | 2244/2499 [00:08<00:00, 282.36it/s, now=None]\u001b[A\n",
      "chunk:  92%|█████████▏| 2295/2499 [00:08<00:00, 305.83it/s, now=None]\u001b[A\n",
      "chunk:  94%|█████████▍| 2346/2499 [00:08<00:00, 307.00it/s, now=None]\u001b[A\n",
      "chunk:  96%|█████████▌| 2397/2499 [00:08<00:00, 309.04it/s, now=None]\u001b[A\n",
      "chunk:  98%|█████████▊| 2448/2499 [00:09<00:00, 270.83it/s, now=None]\u001b[A\n",
      "chunk:   1%|▏         | 29/2121 [7:21:41<531:02:55, 913.85s/it, now=None]"
     ]
    },
    {
     "name": "stdout",
     "output_type": "stream",
     "text": [
      "MoviePy - Done.\n"
     ]
    },
    {
     "name": "stderr",
     "output_type": "stream",
     "text": [
      "chunk:   1%|▏         | 29/2121 [7:21:42<531:04:10, 913.89s/it, now=None]\n",
      "chunk:   0%|          | 0/1430 [00:00<?, ?it/s, now=None]\u001b[A"
     ]
    },
    {
     "name": "stdout",
     "output_type": "stream",
     "text": [
      "MoviePy - Writing audio in /home/jupyter/datasets/amigos/audio/Exp1_P32_audio/P32_58_audio.wav\n"
     ]
    },
    {
     "name": "stderr",
     "output_type": "stream",
     "text": [
      "\n",
      "chunk:   7%|▋         | 102/1430 [00:00<00:02, 506.66it/s, now=None]\u001b[A\n",
      "chunk:  11%|█         | 154/1430 [00:00<00:02, 510.56it/s, now=None]\u001b[A\n",
      "chunk:  14%|█▍        | 204/1430 [00:00<00:02, 434.75it/s, now=None]\u001b[A\n",
      "chunk:  18%|█▊        | 255/1430 [00:00<00:04, 277.98it/s, now=None]\u001b[A\n",
      "chunk:  21%|██▏       | 306/1430 [00:00<00:04, 275.55it/s, now=None]\u001b[A\n",
      "chunk:  25%|██▍       | 357/1430 [00:01<00:04, 241.39it/s, now=None]\u001b[A\n",
      "chunk:  29%|██▊       | 408/1430 [00:01<00:03, 258.58it/s, now=None]\u001b[A\n",
      "chunk:  32%|███▏      | 459/1430 [00:01<00:03, 250.49it/s, now=None]\u001b[A\n",
      "chunk:  36%|███▌      | 510/1430 [00:01<00:03, 273.15it/s, now=None]\u001b[A\n",
      "chunk:  42%|████▏     | 601/1430 [00:01<00:02, 345.68it/s, now=None]\u001b[A\n",
      "chunk:  45%|████▌     | 648/1430 [00:02<00:02, 336.35it/s, now=None]\u001b[A\n",
      "chunk:  48%|████▊     | 691/1430 [00:02<00:02, 331.51it/s, now=None]\u001b[A\n",
      "chunk:  51%|█████     | 731/1430 [00:02<00:02, 234.52it/s, now=None]\u001b[A\n",
      "chunk:  53%|█████▎    | 765/1430 [00:02<00:03, 213.96it/s, now=None]\u001b[A\n",
      "chunk:  57%|█████▋    | 816/1430 [00:02<00:02, 228.12it/s, now=None]\u001b[A\n",
      "chunk:  61%|██████    | 867/1430 [00:03<00:02, 239.80it/s, now=None]\u001b[A\n",
      "chunk:  64%|██████▍   | 918/1430 [00:03<00:02, 248.83it/s, now=None]\u001b[A\n",
      "chunk:  71%|███████   | 1010/1430 [00:03<00:01, 318.51it/s, now=None]\u001b[A\n",
      "chunk:  74%|███████▍  | 1057/1430 [00:03<00:01, 301.64it/s, now=None]\u001b[A\n",
      "chunk:  77%|███████▋  | 1103/1430 [00:03<00:00, 336.31it/s, now=None]\u001b[A\n",
      "chunk:  80%|████████  | 1146/1430 [00:03<00:00, 300.18it/s, now=None]\u001b[A\n",
      "chunk:  83%|████████▎ | 1183/1430 [00:03<00:00, 304.58it/s, now=None]\u001b[A\n",
      "chunk:  86%|████████▌ | 1224/1430 [00:03<00:00, 320.46it/s, now=None]\u001b[A\n",
      "chunk:  89%|████████▉ | 1275/1430 [00:04<00:00, 309.43it/s, now=None]\u001b[A\n",
      "chunk:  93%|█████████▎| 1326/1430 [00:04<00:00, 278.53it/s, now=None]\u001b[A\n",
      "chunk:  96%|█████████▋| 1377/1430 [00:04<00:00, 294.53it/s, now=None]\u001b[A\n",
      "chunk:   1%|▏         | 29/2121 [7:21:47<531:09:41, 914.04s/it, now=None]"
     ]
    },
    {
     "name": "stdout",
     "output_type": "stream",
     "text": [
      "MoviePy - Done.\n"
     ]
    },
    {
     "name": "stderr",
     "output_type": "stream",
     "text": [
      "chunk:   1%|▏         | 29/2121 [7:21:48<531:10:59, 914.08s/it, now=None]\n",
      "chunk:   0%|          | 0/2269 [00:00<?, ?it/s, now=None]\u001b[A\n",
      "chunk:   4%|▍         | 102/2269 [00:00<00:02, 725.14it/s, now=None]\u001b[A"
     ]
    },
    {
     "name": "stdout",
     "output_type": "stream",
     "text": [
      "MoviePy - Writing audio in /home/jupyter/datasets/amigos/audio/Exp1_P32_audio/P32_80_audio.wav\n"
     ]
    },
    {
     "name": "stderr",
     "output_type": "stream",
     "text": [
      "\n",
      "chunk:   7%|▋         | 153/2269 [00:00<00:05, 414.16it/s, now=None]\u001b[A\n",
      "chunk:   9%|▉         | 204/2269 [00:00<00:08, 257.23it/s, now=None]\u001b[A\n",
      "chunk:  11%|█         | 255/2269 [00:01<00:09, 222.93it/s, now=None]\u001b[A\n",
      "chunk:  13%|█▎        | 306/2269 [00:01<00:08, 229.85it/s, now=None]\u001b[A\n",
      "chunk:  16%|█▌        | 357/2269 [00:01<00:08, 215.82it/s, now=None]\u001b[A\n",
      "chunk:  18%|█▊        | 408/2269 [00:01<00:07, 248.30it/s, now=None]\u001b[A\n",
      "chunk:  20%|██        | 459/2269 [00:01<00:08, 225.58it/s, now=None]\u001b[A\n",
      "chunk:  22%|██▏       | 510/2269 [00:02<00:07, 235.45it/s, now=None]\u001b[A\n",
      "chunk:  25%|██▍       | 561/2269 [00:02<00:06, 251.29it/s, now=None]\u001b[A\n",
      "chunk:  27%|██▋       | 612/2269 [00:02<00:06, 246.84it/s, now=None]\u001b[A\n",
      "chunk:  29%|██▉       | 663/2269 [00:02<00:06, 238.37it/s, now=None]\u001b[A\n",
      "chunk:  31%|███▏      | 714/2269 [00:02<00:06, 234.05it/s, now=None]\u001b[A\n",
      "chunk:  34%|███▎      | 765/2269 [00:03<00:06, 222.06it/s, now=None]\u001b[A\n",
      "chunk:  36%|███▌      | 816/2269 [00:03<00:05, 258.86it/s, now=None]\u001b[A\n",
      "chunk:  38%|███▊      | 867/2269 [00:03<00:05, 247.42it/s, now=None]\u001b[A\n",
      "chunk:  40%|████      | 918/2269 [00:03<00:05, 238.30it/s, now=None]\u001b[A\n",
      "chunk:  43%|████▎     | 969/2269 [00:03<00:04, 263.95it/s, now=None]\u001b[A\n",
      "chunk:  45%|████▍     | 1020/2269 [00:04<00:05, 247.46it/s, now=None]\u001b[A\n",
      "chunk:  47%|████▋     | 1071/2269 [00:04<00:05, 229.75it/s, now=None]\u001b[A\n",
      "chunk:  49%|████▉     | 1122/2269 [00:04<00:05, 220.99it/s, now=None]\u001b[A\n",
      "chunk:  52%|█████▏    | 1173/2269 [00:05<00:05, 190.96it/s, now=None]\u001b[A\n",
      "chunk:  54%|█████▍    | 1224/2269 [00:05<00:04, 221.14it/s, now=None]\u001b[A\n",
      "chunk:  56%|█████▌    | 1275/2269 [00:05<00:03, 257.58it/s, now=None]\u001b[A\n",
      "chunk:  58%|█████▊    | 1326/2269 [00:05<00:03, 264.53it/s, now=None]\u001b[A\n",
      "chunk:  61%|██████    | 1377/2269 [00:05<00:03, 234.16it/s, now=None]\u001b[A\n",
      "chunk:  63%|██████▎   | 1428/2269 [00:05<00:03, 252.18it/s, now=None]\u001b[A\n",
      "chunk:  65%|██████▌   | 1479/2269 [00:06<00:03, 256.81it/s, now=None]\u001b[A\n",
      "chunk:  67%|██████▋   | 1530/2269 [00:06<00:02, 299.10it/s, now=None]\u001b[A\n",
      "chunk:  70%|██████▉   | 1581/2269 [00:06<00:02, 304.12it/s, now=None]\u001b[A\n",
      "chunk:  72%|███████▏  | 1632/2269 [00:06<00:02, 299.83it/s, now=None]\u001b[A\n",
      "chunk:  76%|███████▌  | 1719/2269 [00:06<00:01, 373.13it/s, now=None]\u001b[A\n",
      "chunk:  78%|███████▊  | 1768/2269 [00:06<00:01, 302.73it/s, now=None]\u001b[A\n",
      "chunk:  80%|███████▉  | 1809/2269 [00:07<00:01, 262.75it/s, now=None]\u001b[A\n",
      "chunk:  81%|████████▏ | 1844/2269 [00:07<00:01, 232.37it/s, now=None]\u001b[A\n",
      "chunk:  83%|████████▎ | 1887/2269 [00:07<00:01, 241.18it/s, now=None]\u001b[A\n",
      "chunk:  85%|████████▌ | 1938/2269 [00:07<00:01, 276.30it/s, now=None]\u001b[A\n",
      "chunk:  90%|████████▉ | 2040/2269 [00:07<00:00, 318.76it/s, now=None]\u001b[A\n",
      "chunk:  92%|█████████▏| 2091/2269 [00:07<00:00, 314.50it/s, now=None]\u001b[A\n",
      "chunk:  94%|█████████▍| 2142/2269 [00:08<00:00, 304.00it/s, now=None]\u001b[A\n",
      "chunk:  97%|█████████▋| 2193/2269 [00:08<00:00, 276.04it/s, now=None]\u001b[A\n",
      "chunk:  99%|█████████▉| 2244/2269 [00:08<00:00, 303.33it/s, now=None]\u001b[A\n",
      "chunk:   1%|▏         | 29/2121 [7:21:56<531:21:14, 914.38s/it, now=None]"
     ]
    },
    {
     "name": "stdout",
     "output_type": "stream",
     "text": [
      "MoviePy - Done.\n"
     ]
    },
    {
     "name": "stderr",
     "output_type": "stream",
     "text": [
      "chunk:   1%|▏         | 29/2121 [7:21:57<531:22:14, 914.40s/it, now=None]\n",
      "chunk:   0%|          | 0/1688 [00:00<?, ?it/s, now=None]\u001b[A\n",
      "chunk:   6%|▌         | 102/1688 [00:00<00:02, 607.75it/s, now=None]\u001b[A"
     ]
    },
    {
     "name": "stdout",
     "output_type": "stream",
     "text": [
      "MoviePy - Writing audio in /home/jupyter/datasets/amigos/audio/Exp1_P32_audio/P32_9_audio.wav\n"
     ]
    },
    {
     "name": "stderr",
     "output_type": "stream",
     "text": [
      "\n",
      "chunk:   9%|▉         | 153/1688 [00:00<00:03, 470.46it/s, now=None]\u001b[A\n",
      "chunk:  12%|█▏        | 204/1688 [00:00<00:06, 233.22it/s, now=None]\u001b[A\n",
      "chunk:  15%|█▌        | 255/1688 [00:01<00:06, 223.16it/s, now=None]\u001b[A\n",
      "chunk:  18%|█▊        | 306/1688 [00:01<00:05, 245.22it/s, now=None]\u001b[A\n",
      "chunk:  21%|██        | 357/1688 [00:01<00:05, 250.19it/s, now=None]\u001b[A\n",
      "chunk:  24%|██▍       | 408/1688 [00:01<00:05, 254.17it/s, now=None]\u001b[A\n",
      "chunk:  27%|██▋       | 459/1688 [00:01<00:04, 282.44it/s, now=None]\u001b[A\n",
      "chunk:  30%|███       | 510/1688 [00:01<00:03, 305.93it/s, now=None]\u001b[A\n",
      "chunk:  33%|███▎      | 561/1688 [00:01<00:03, 333.98it/s, now=None]\u001b[A\n",
      "chunk:  36%|███▋      | 612/1688 [00:02<00:03, 353.58it/s, now=None]\u001b[A\n",
      "chunk:  39%|███▉      | 663/1688 [00:02<00:02, 387.74it/s, now=None]\u001b[A\n",
      "chunk:  42%|████▏     | 714/1688 [00:02<00:02, 370.70it/s, now=None]\u001b[A\n",
      "chunk:  45%|████▌     | 765/1688 [00:02<00:02, 380.64it/s, now=None]\u001b[A\n",
      "chunk:  48%|████▊     | 816/1688 [00:02<00:02, 364.35it/s, now=None]\u001b[A\n",
      "chunk:  51%|█████▏    | 867/1688 [00:02<00:02, 326.38it/s, now=None]\u001b[A\n",
      "chunk:  54%|█████▍    | 918/1688 [00:02<00:02, 336.97it/s, now=None]\u001b[A\n",
      "chunk:  57%|█████▋    | 969/1688 [00:03<00:01, 364.75it/s, now=None]\u001b[A\n",
      "chunk:  63%|██████▎   | 1071/1688 [00:03<00:01, 429.52it/s, now=None]\u001b[A\n",
      "chunk:  66%|██████▋   | 1122/1688 [00:03<00:01, 380.07it/s, now=None]\u001b[A\n",
      "chunk:  69%|██████▉   | 1173/1688 [00:03<00:01, 407.28it/s, now=None]\u001b[A\n",
      "chunk:  76%|███████▌  | 1275/1688 [00:03<00:00, 453.27it/s, now=None]\u001b[A\n",
      "chunk:  79%|███████▊  | 1326/1688 [00:03<00:00, 466.76it/s, now=None]\u001b[A\n",
      "chunk:  82%|████████▏ | 1377/1688 [00:03<00:00, 420.29it/s, now=None]\u001b[A\n",
      "chunk:  85%|████████▍ | 1428/1688 [00:04<00:00, 425.82it/s, now=None]\u001b[A\n",
      "chunk:  88%|████████▊ | 1479/1688 [00:04<00:00, 363.09it/s, now=None]\u001b[A\n",
      "chunk:  91%|█████████ | 1530/1688 [00:04<00:00, 374.92it/s, now=None]\u001b[A\n",
      "chunk:  94%|█████████▎| 1581/1688 [00:04<00:00, 376.93it/s, now=None]\u001b[A\n",
      "chunk:  97%|█████████▋| 1632/1688 [00:04<00:00, 339.08it/s, now=None]\u001b[A\n",
      "chunk:   1%|▏         | 29/2121 [7:22:02<531:27:55, 914.57s/it, now=None]"
     ]
    },
    {
     "name": "stdout",
     "output_type": "stream",
     "text": [
      "MoviePy - Done.\n"
     ]
    },
    {
     "name": "stderr",
     "output_type": "stream",
     "text": [
      "chunk:   1%|▏         | 29/2121 [7:22:03<531:28:53, 914.60s/it, now=None]\n",
      "chunk:   0%|          | 0/2113 [00:00<?, ?it/s, now=None]\u001b[A\n",
      "chunk:   5%|▍         | 102/2113 [00:00<00:02, 824.45it/s, now=None]\u001b[A"
     ]
    },
    {
     "name": "stdout",
     "output_type": "stream",
     "text": [
      "MoviePy - Writing audio in /home/jupyter/datasets/amigos/audio/Exp1_P33_audio/P33_10_audio.wav\n"
     ]
    },
    {
     "name": "stderr",
     "output_type": "stream",
     "text": [
      "\n",
      "chunk:   7%|▋         | 153/2113 [00:00<00:03, 518.60it/s, now=None]\u001b[A\n",
      "chunk:  10%|▉         | 204/2113 [00:00<00:04, 456.00it/s, now=None]\u001b[A\n",
      "chunk:  12%|█▏        | 255/2113 [00:00<00:04, 414.54it/s, now=None]\u001b[A\n",
      "chunk:  14%|█▍        | 306/2113 [00:00<00:05, 360.22it/s, now=None]\u001b[A\n",
      "chunk:  17%|█▋        | 357/2113 [00:00<00:05, 339.17it/s, now=None]\u001b[A\n",
      "chunk:  19%|█▉        | 408/2113 [00:01<00:04, 341.82it/s, now=None]\u001b[A\n",
      "chunk:  22%|██▏       | 459/2113 [00:01<00:04, 335.04it/s, now=None]\u001b[A\n",
      "chunk:  24%|██▍       | 510/2113 [00:01<00:05, 319.26it/s, now=None]\u001b[A\n",
      "chunk:  27%|██▋       | 561/2113 [00:01<00:04, 333.15it/s, now=None]\u001b[A\n",
      "chunk:  29%|██▉       | 612/2113 [00:01<00:04, 357.00it/s, now=None]\u001b[A\n",
      "chunk:  32%|███▏      | 684/2113 [00:01<00:03, 420.50it/s, now=None]\u001b[A\n",
      "chunk:  35%|███▍      | 731/2113 [00:01<00:03, 396.07it/s, now=None]\u001b[A\n",
      "chunk:  37%|███▋      | 775/2113 [00:02<00:04, 278.63it/s, now=None]\u001b[A\n",
      "chunk:  39%|███▊      | 816/2113 [00:02<00:04, 262.61it/s, now=None]\u001b[A\n",
      "chunk:  41%|████      | 867/2113 [00:02<00:04, 278.17it/s, now=None]\u001b[A\n",
      "chunk:  43%|████▎     | 918/2113 [00:02<00:04, 272.23it/s, now=None]\u001b[A\n",
      "chunk:  48%|████▊     | 1020/2113 [00:02<00:03, 303.79it/s, now=None]\u001b[A\n",
      "chunk:  51%|█████     | 1071/2113 [00:03<00:03, 290.76it/s, now=None]\u001b[A\n",
      "chunk:  53%|█████▎    | 1122/2113 [00:03<00:04, 234.27it/s, now=None]\u001b[A\n",
      "chunk:  56%|█████▌    | 1173/2113 [00:03<00:03, 265.39it/s, now=None]\u001b[A\n",
      "chunk:  58%|█████▊    | 1224/2113 [00:03<00:03, 288.99it/s, now=None]\u001b[A\n",
      "chunk:  60%|██████    | 1275/2113 [00:03<00:02, 328.29it/s, now=None]\u001b[A\n",
      "chunk:  63%|██████▎   | 1326/2113 [00:03<00:02, 347.60it/s, now=None]\u001b[A\n",
      "chunk:  65%|██████▌   | 1377/2113 [00:04<00:02, 366.28it/s, now=None]\u001b[A\n",
      "chunk:  69%|██████▉   | 1467/2113 [00:04<00:01, 445.45it/s, now=None]\u001b[A\n",
      "chunk:  72%|███████▏  | 1522/2113 [00:04<00:01, 448.98it/s, now=None]\u001b[A\n",
      "chunk:  75%|███████▍  | 1581/2113 [00:04<00:01, 357.63it/s, now=None]\u001b[A\n",
      "chunk:  77%|███████▋  | 1632/2113 [00:04<00:01, 351.88it/s, now=None]\u001b[A\n",
      "chunk:  80%|███████▉  | 1683/2113 [00:04<00:01, 300.94it/s, now=None]\u001b[A\n",
      "chunk:  82%|████████▏ | 1735/2113 [00:05<00:01, 344.47it/s, now=None]\u001b[A\n",
      "chunk:  84%|████████▍ | 1785/2113 [00:05<00:00, 365.86it/s, now=None]\u001b[A\n",
      "chunk:  87%|████████▋ | 1836/2113 [00:05<00:00, 376.76it/s, now=None]\u001b[A\n",
      "chunk:  89%|████████▉ | 1887/2113 [00:05<00:00, 407.35it/s, now=None]\u001b[A\n",
      "chunk:  92%|█████████▏| 1938/2113 [00:05<00:00, 380.56it/s, now=None]\u001b[A\n",
      "chunk:  94%|█████████▍| 1989/2113 [00:05<00:00, 379.97it/s, now=None]\u001b[A\n",
      "chunk:  97%|█████████▋| 2040/2113 [00:05<00:00, 366.08it/s, now=None]\u001b[A\n",
      "chunk:   1%|▏         | 29/2121 [7:22:09<531:35:59, 914.80s/it, now=None]"
     ]
    },
    {
     "name": "stdout",
     "output_type": "stream",
     "text": [
      "MoviePy - Done.\n"
     ]
    },
    {
     "name": "stderr",
     "output_type": "stream",
     "text": [
      "chunk:   1%|▏         | 29/2121 [7:22:10<531:37:15, 914.84s/it, now=None]\n",
      "chunk:   0%|          | 0/1250 [00:00<?, ?it/s, now=None]\u001b[A\n",
      "chunk:   8%|▊         | 102/1250 [00:00<00:01, 754.54it/s, now=None]\u001b[A"
     ]
    },
    {
     "name": "stdout",
     "output_type": "stream",
     "text": [
      "MoviePy - Writing audio in /home/jupyter/datasets/amigos/audio/Exp1_P33_audio/P33_13_audio.wav\n"
     ]
    },
    {
     "name": "stderr",
     "output_type": "stream",
     "text": [
      "\n",
      "chunk:  12%|█▏        | 153/1250 [00:00<00:02, 421.12it/s, now=None]\u001b[A\n",
      "chunk:  16%|█▋        | 204/1250 [00:00<00:02, 386.61it/s, now=None]\u001b[A\n",
      "chunk:  20%|██        | 255/1250 [00:00<00:03, 284.90it/s, now=None]\u001b[A\n",
      "chunk:  24%|██▍       | 306/1250 [00:01<00:03, 278.95it/s, now=None]\u001b[A\n",
      "chunk:  29%|██▊       | 357/1250 [00:01<00:03, 240.14it/s, now=None]\u001b[A\n",
      "chunk:  33%|███▎      | 408/1250 [00:01<00:03, 250.59it/s, now=None]\u001b[A\n",
      "chunk:  37%|███▋      | 459/1250 [00:01<00:02, 276.51it/s, now=None]\u001b[A\n",
      "chunk:  41%|████      | 510/1250 [00:01<00:02, 290.72it/s, now=None]\u001b[A\n",
      "chunk:  45%|████▍     | 561/1250 [00:01<00:02, 323.22it/s, now=None]\u001b[A\n",
      "chunk:  49%|████▉     | 612/1250 [00:02<00:02, 307.59it/s, now=None]\u001b[A\n",
      "chunk:  53%|█████▎    | 663/1250 [00:02<00:01, 322.03it/s, now=None]\u001b[A\n",
      "chunk:  57%|█████▋    | 714/1250 [00:02<00:02, 249.97it/s, now=None]\u001b[A\n",
      "chunk:  61%|██████    | 765/1250 [00:02<00:01, 290.89it/s, now=None]\u001b[A\n",
      "chunk:  65%|██████▌   | 816/1250 [00:02<00:01, 222.83it/s, now=None]\u001b[A\n",
      "chunk:  69%|██████▉   | 867/1250 [00:03<00:01, 211.05it/s, now=None]\u001b[A\n",
      "chunk:  73%|███████▎  | 918/1250 [00:03<00:01, 221.67it/s, now=None]\u001b[A\n",
      "chunk:  78%|███████▊  | 969/1250 [00:03<00:01, 226.78it/s, now=None]\u001b[A\n",
      "chunk:  82%|████████▏ | 1020/1250 [00:03<00:00, 239.48it/s, now=None]\u001b[A\n",
      "chunk:  86%|████████▌ | 1071/1250 [00:04<00:00, 193.56it/s, now=None]\u001b[A\n",
      "chunk:  90%|████████▉ | 1122/1250 [00:04<00:00, 189.22it/s, now=None]\u001b[A\n",
      "chunk:  94%|█████████▍| 1173/1250 [00:04<00:00, 209.02it/s, now=None]\u001b[A\n",
      "chunk:   1%|▏         | 29/2121 [7:22:15<531:43:03, 915.00s/it, now=None]"
     ]
    },
    {
     "name": "stdout",
     "output_type": "stream",
     "text": [
      "MoviePy - Done.\n"
     ]
    },
    {
     "name": "stderr",
     "output_type": "stream",
     "text": [
      "chunk:   1%|▏         | 29/2121 [7:22:15<531:44:01, 915.03s/it, now=None]\n",
      "chunk:   0%|          | 0/2695 [00:00<?, ?it/s, now=None]\u001b[A\n",
      "chunk:   4%|▍         | 102/2695 [00:00<00:03, 752.65it/s, now=None]\u001b[A"
     ]
    },
    {
     "name": "stdout",
     "output_type": "stream",
     "text": [
      "MoviePy - Writing audio in /home/jupyter/datasets/amigos/audio/Exp1_P33_audio/P33_138_audio.wav\n"
     ]
    },
    {
     "name": "stderr",
     "output_type": "stream",
     "text": [
      "\n",
      "chunk:   6%|▌         | 153/2695 [00:00<00:05, 469.86it/s, now=None]\u001b[A\n",
      "chunk:   8%|▊         | 204/2695 [00:00<00:06, 365.17it/s, now=None]\u001b[A\n",
      "chunk:   9%|▉         | 255/2695 [00:00<00:06, 349.35it/s, now=None]\u001b[A\n",
      "chunk:  11%|█▏        | 306/2695 [00:00<00:07, 304.38it/s, now=None]\u001b[A\n",
      "chunk:  13%|█▎        | 357/2695 [00:01<00:07, 328.59it/s, now=None]\u001b[A\n",
      "chunk:  16%|█▌        | 424/2695 [00:01<00:05, 387.83it/s, now=None]\u001b[A\n",
      "chunk:  17%|█▋        | 465/2695 [00:01<00:06, 333.33it/s, now=None]\u001b[A\n",
      "chunk:  19%|█▉        | 510/2695 [00:01<00:08, 262.52it/s, now=None]\u001b[A\n",
      "chunk:  21%|██        | 561/2695 [00:01<00:10, 196.36it/s, now=None]\u001b[A\n",
      "chunk:  23%|██▎       | 612/2695 [00:02<00:10, 189.87it/s, now=None]\u001b[A\n",
      "chunk:  25%|██▍       | 663/2695 [00:02<00:09, 214.07it/s, now=None]\u001b[A\n",
      "chunk:  26%|██▋       | 714/2695 [00:02<00:09, 198.53it/s, now=None]\u001b[A\n",
      "chunk:  28%|██▊       | 765/2695 [00:02<00:08, 231.09it/s, now=None]\u001b[A\n",
      "chunk:  30%|███       | 816/2695 [00:03<00:08, 234.45it/s, now=None]\u001b[A\n",
      "chunk:  32%|███▏      | 867/2695 [00:03<00:07, 252.33it/s, now=None]\u001b[A\n",
      "chunk:  34%|███▍      | 918/2695 [00:03<00:06, 269.26it/s, now=None]\u001b[A\n",
      "chunk:  36%|███▌      | 969/2695 [00:03<00:06, 274.04it/s, now=None]\u001b[A\n",
      "chunk:  38%|███▊      | 1020/2695 [00:03<00:06, 271.00it/s, now=None]\u001b[A\n",
      "chunk:  40%|███▉      | 1071/2695 [00:03<00:06, 265.90it/s, now=None]\u001b[A\n",
      "chunk:  42%|████▏     | 1122/2695 [00:04<00:06, 249.18it/s, now=None]\u001b[A\n",
      "chunk:  44%|████▎     | 1173/2695 [00:04<00:06, 224.29it/s, now=None]\u001b[A\n",
      "chunk:  45%|████▌     | 1224/2695 [00:04<00:07, 208.18it/s, now=None]\u001b[A\n",
      "chunk:  47%|████▋     | 1275/2695 [00:05<00:06, 210.59it/s, now=None]\u001b[A\n",
      "chunk:  49%|████▉     | 1326/2695 [00:05<00:06, 227.73it/s, now=None]\u001b[A\n",
      "chunk:  51%|█████     | 1377/2695 [00:05<00:05, 228.22it/s, now=None]\u001b[A\n",
      "chunk:  53%|█████▎    | 1428/2695 [00:05<00:04, 258.82it/s, now=None]\u001b[A\n",
      "chunk:  55%|█████▍    | 1479/2695 [00:05<00:05, 217.79it/s, now=None]\u001b[A\n",
      "chunk:  57%|█████▋    | 1530/2695 [00:06<00:05, 198.25it/s, now=None]\u001b[A\n",
      "chunk:  59%|█████▊    | 1581/2695 [00:06<00:05, 213.51it/s, now=None]\u001b[A\n",
      "chunk:  61%|██████    | 1632/2695 [00:06<00:04, 218.31it/s, now=None]\u001b[A\n",
      "chunk:  62%|██████▏   | 1683/2695 [00:06<00:04, 245.27it/s, now=None]\u001b[A\n",
      "chunk:  64%|██████▍   | 1734/2695 [00:06<00:03, 262.43it/s, now=None]\u001b[A\n",
      "chunk:  66%|██████▌   | 1785/2695 [00:07<00:04, 210.09it/s, now=None]\u001b[A\n",
      "chunk:  68%|██████▊   | 1836/2695 [00:07<00:04, 202.53it/s, now=None]\u001b[A\n",
      "chunk:  70%|███████   | 1887/2695 [00:07<00:03, 234.79it/s, now=None]\u001b[A\n",
      "chunk:  72%|███████▏  | 1938/2695 [00:07<00:03, 216.33it/s, now=None]\u001b[A\n",
      "chunk:  74%|███████▍  | 1989/2695 [00:08<00:02, 244.75it/s, now=None]\u001b[A\n",
      "chunk:  76%|███████▌  | 2040/2695 [00:08<00:02, 254.93it/s, now=None]\u001b[A\n",
      "chunk:  78%|███████▊  | 2091/2695 [00:08<00:02, 254.94it/s, now=None]\u001b[A\n",
      "chunk:  79%|███████▉  | 2142/2695 [00:08<00:01, 277.87it/s, now=None]\u001b[A\n",
      "chunk:  81%|████████▏ | 2193/2695 [00:08<00:02, 233.31it/s, now=None]\u001b[A\n",
      "chunk:  83%|████████▎ | 2244/2695 [00:09<00:01, 266.06it/s, now=None]\u001b[A\n",
      "chunk:  85%|████████▌ | 2295/2695 [00:09<00:01, 261.81it/s, now=None]\u001b[A\n",
      "chunk:  87%|████████▋ | 2346/2695 [00:09<00:01, 264.77it/s, now=None]\u001b[A\n",
      "chunk:  89%|████████▉ | 2397/2695 [00:09<00:01, 263.12it/s, now=None]\u001b[A\n",
      "chunk:  91%|█████████ | 2448/2695 [00:09<00:00, 293.07it/s, now=None]\u001b[A\n",
      "chunk:  93%|█████████▎| 2499/2695 [00:10<00:00, 214.40it/s, now=None]\u001b[A\n",
      "chunk:  95%|█████████▍| 2550/2695 [00:10<00:00, 244.64it/s, now=None]\u001b[A\n",
      "chunk:  97%|█████████▋| 2601/2695 [00:10<00:00, 246.80it/s, now=None]\u001b[A\n",
      "chunk:  98%|█████████▊| 2652/2695 [00:10<00:00, 247.82it/s, now=None]\u001b[A\n",
      "chunk:   1%|▏         | 29/2121 [7:22:26<531:56:57, 915.40s/it, now=None]"
     ]
    },
    {
     "name": "stdout",
     "output_type": "stream",
     "text": [
      "MoviePy - Done.\n"
     ]
    },
    {
     "name": "stderr",
     "output_type": "stream",
     "text": [
      "chunk:   1%|▏         | 29/2121 [7:22:27<531:58:15, 915.44s/it, now=None]\n",
      "chunk:   0%|          | 0/1832 [00:00<?, ?it/s, now=None]\u001b[A\n",
      "chunk:   6%|▌         | 102/1832 [00:00<00:02, 857.81it/s, now=None]\u001b[A"
     ]
    },
    {
     "name": "stdout",
     "output_type": "stream",
     "text": [
      "MoviePy - Writing audio in /home/jupyter/datasets/amigos/audio/Exp1_P33_audio/P33_18_audio.wav\n"
     ]
    },
    {
     "name": "stderr",
     "output_type": "stream",
     "text": [
      "\n",
      "chunk:   8%|▊         | 153/1832 [00:00<00:03, 503.94it/s, now=None]\u001b[A\n",
      "chunk:  11%|█         | 204/1832 [00:00<00:03, 407.56it/s, now=None]\u001b[A\n",
      "chunk:  14%|█▍        | 255/1832 [00:00<00:04, 363.70it/s, now=None]\u001b[A\n",
      "chunk:  17%|█▋        | 306/1832 [00:00<00:05, 293.24it/s, now=None]\u001b[A\n",
      "chunk:  19%|█▉        | 357/1832 [00:01<00:05, 251.69it/s, now=None]\u001b[A\n",
      "chunk:  22%|██▏       | 408/1832 [00:01<00:05, 246.19it/s, now=None]\u001b[A\n",
      "chunk:  25%|██▌       | 459/1832 [00:01<00:05, 237.23it/s, now=None]\u001b[A\n",
      "chunk:  28%|██▊       | 510/1832 [00:01<00:05, 252.89it/s, now=None]\u001b[A\n",
      "chunk:  31%|███       | 561/1832 [00:01<00:04, 281.18it/s, now=None]\u001b[A\n",
      "chunk:  33%|███▎      | 612/1832 [00:02<00:04, 293.47it/s, now=None]\u001b[A\n",
      "chunk:  36%|███▌      | 663/1832 [00:02<00:03, 307.65it/s, now=None]\u001b[A\n",
      "chunk:  39%|███▉      | 714/1832 [00:02<00:04, 250.79it/s, now=None]\u001b[A\n",
      "chunk:  42%|████▏     | 765/1832 [00:02<00:04, 250.47it/s, now=None]\u001b[A\n",
      "chunk:  45%|████▍     | 816/1832 [00:02<00:03, 271.97it/s, now=None]\u001b[A\n",
      "chunk:  47%|████▋     | 867/1832 [00:03<00:03, 305.38it/s, now=None]\u001b[A\n",
      "chunk:  50%|█████     | 918/1832 [00:03<00:02, 309.06it/s, now=None]\u001b[A\n",
      "chunk:  53%|█████▎    | 969/1832 [00:03<00:02, 328.77it/s, now=None]\u001b[A\n",
      "chunk:  56%|█████▌    | 1020/1832 [00:03<00:02, 305.74it/s, now=None]\u001b[A\n",
      "chunk:  58%|█████▊    | 1071/1832 [00:03<00:02, 339.78it/s, now=None]\u001b[A\n",
      "chunk:  61%|██████    | 1122/1832 [00:03<00:02, 256.47it/s, now=None]\u001b[A\n",
      "chunk:  64%|██████▍   | 1173/1832 [00:04<00:02, 249.47it/s, now=None]\u001b[A\n",
      "chunk:  67%|██████▋   | 1224/1832 [00:04<00:02, 236.08it/s, now=None]\u001b[A\n",
      "chunk:  70%|██████▉   | 1275/1832 [00:04<00:02, 234.67it/s, now=None]\u001b[A\n",
      "chunk:  72%|███████▏  | 1326/1832 [00:04<00:01, 278.51it/s, now=None]\u001b[A\n",
      "chunk:  75%|███████▌  | 1377/1832 [00:04<00:01, 246.12it/s, now=None]\u001b[A\n",
      "chunk:  78%|███████▊  | 1428/1832 [00:05<00:01, 269.22it/s, now=None]\u001b[A\n",
      "chunk:  81%|████████  | 1479/1832 [00:05<00:01, 276.38it/s, now=None]\u001b[A\n",
      "chunk:  84%|████████▎ | 1530/1832 [00:05<00:01, 267.30it/s, now=None]\u001b[A\n",
      "chunk:  86%|████████▋ | 1581/1832 [00:05<00:00, 306.14it/s, now=None]\u001b[A\n",
      "chunk:  92%|█████████▏| 1683/1832 [00:05<00:00, 320.14it/s, now=None]\u001b[A\n",
      "chunk:  95%|█████████▍| 1734/1832 [00:06<00:00, 276.04it/s, now=None]\u001b[A\n",
      "chunk:  97%|█████████▋| 1785/1832 [00:06<00:00, 232.92it/s, now=None]\u001b[A\n",
      "chunk:   1%|▏         | 29/2121 [7:22:34<532:06:03, 915.66s/it, now=None]"
     ]
    },
    {
     "name": "stdout",
     "output_type": "stream",
     "text": [
      "MoviePy - Done.\n"
     ]
    },
    {
     "name": "stderr",
     "output_type": "stream",
     "text": [
      "chunk:   1%|▏         | 29/2121 [7:22:35<532:07:09, 915.69s/it, now=None]\n",
      "chunk:   0%|          | 0/2782 [00:00<?, ?it/s, now=None]\u001b[A"
     ]
    },
    {
     "name": "stdout",
     "output_type": "stream",
     "text": [
      "MoviePy - Writing audio in /home/jupyter/datasets/amigos/audio/Exp1_P33_audio/P33_19_audio.wav\n"
     ]
    },
    {
     "name": "stderr",
     "output_type": "stream",
     "text": [
      "\n",
      "chunk:   4%|▎         | 102/2782 [00:00<00:07, 339.12it/s, now=None]\u001b[A\n",
      "chunk:   5%|▌         | 153/2782 [00:00<00:08, 313.54it/s, now=None]\u001b[A\n",
      "chunk:   7%|▋         | 204/2782 [00:00<00:11, 224.90it/s, now=None]\u001b[A\n",
      "chunk:   9%|▉         | 255/2782 [00:01<00:12, 209.15it/s, now=None]\u001b[A\n",
      "chunk:  11%|█         | 306/2782 [00:01<00:10, 244.81it/s, now=None]\u001b[A\n",
      "chunk:  13%|█▎        | 357/2782 [00:01<00:09, 265.61it/s, now=None]\u001b[A\n",
      "chunk:  15%|█▍        | 408/2782 [00:01<00:08, 265.18it/s, now=None]\u001b[A\n",
      "chunk:  16%|█▋        | 459/2782 [00:01<00:08, 278.70it/s, now=None]\u001b[A\n",
      "chunk:  18%|█▊        | 510/2782 [00:01<00:07, 296.40it/s, now=None]\u001b[A\n",
      "chunk:  22%|██▏       | 612/2782 [00:02<00:07, 305.96it/s, now=None]\u001b[A\n",
      "chunk:  24%|██▍       | 663/2782 [00:02<00:06, 321.02it/s, now=None]\u001b[A\n",
      "chunk:  26%|██▌       | 714/2782 [00:02<00:06, 317.99it/s, now=None]\u001b[A\n",
      "chunk:  27%|██▋       | 765/2782 [00:02<00:07, 258.60it/s, now=None]\u001b[A\n",
      "chunk:  29%|██▉       | 816/2782 [00:03<00:07, 258.21it/s, now=None]\u001b[A\n",
      "chunk:  31%|███       | 867/2782 [00:03<00:07, 263.08it/s, now=None]\u001b[A\n",
      "chunk:  33%|███▎      | 918/2782 [00:03<00:07, 236.10it/s, now=None]\u001b[A\n",
      "chunk:  35%|███▍      | 969/2782 [00:03<00:07, 232.99it/s, now=None]\u001b[A\n",
      "chunk:  37%|███▋      | 1020/2782 [00:03<00:06, 261.75it/s, now=None]\u001b[A\n",
      "chunk:  38%|███▊      | 1071/2782 [00:03<00:05, 297.49it/s, now=None]\u001b[A\n",
      "chunk:  40%|████      | 1122/2782 [00:04<00:05, 296.85it/s, now=None]\u001b[A\n",
      "chunk:  42%|████▏     | 1173/2782 [00:04<00:06, 257.25it/s, now=None]\u001b[A\n",
      "chunk:  44%|████▍     | 1224/2782 [00:04<00:06, 236.65it/s, now=None]\u001b[A\n",
      "chunk:  46%|████▌     | 1275/2782 [00:05<00:07, 190.46it/s, now=None]\u001b[A\n",
      "chunk:  48%|████▊     | 1326/2782 [00:05<00:08, 167.40it/s, now=None]\u001b[A\n",
      "chunk:  49%|████▉     | 1377/2782 [00:05<00:08, 173.18it/s, now=None]\u001b[A\n",
      "chunk:  51%|█████▏    | 1428/2782 [00:05<00:06, 198.81it/s, now=None]\u001b[A\n",
      "chunk:  53%|█████▎    | 1479/2782 [00:06<00:05, 218.89it/s, now=None]\u001b[A\n",
      "chunk:  55%|█████▍    | 1530/2782 [00:06<00:06, 205.16it/s, now=None]\u001b[A\n",
      "chunk:  57%|█████▋    | 1581/2782 [00:06<00:05, 201.49it/s, now=None]\u001b[A\n",
      "chunk:  60%|██████    | 1683/2782 [00:06<00:04, 249.34it/s, now=None]\u001b[A\n",
      "chunk:  62%|██████▏   | 1734/2782 [00:06<00:04, 246.75it/s, now=None]\u001b[A\n",
      "chunk:  64%|██████▍   | 1785/2782 [00:07<00:03, 261.49it/s, now=None]\u001b[A\n",
      "chunk:  66%|██████▌   | 1836/2782 [00:07<00:03, 277.66it/s, now=None]\u001b[A\n",
      "chunk:  68%|██████▊   | 1887/2782 [00:07<00:02, 301.10it/s, now=None]\u001b[A\n",
      "chunk:  70%|██████▉   | 1938/2782 [00:07<00:02, 287.54it/s, now=None]\u001b[A\n",
      "chunk:  71%|███████▏  | 1989/2782 [00:07<00:02, 299.91it/s, now=None]\u001b[A\n",
      "chunk:  73%|███████▎  | 2040/2782 [00:08<00:02, 282.72it/s, now=None]\u001b[A\n",
      "chunk:  75%|███████▌  | 2091/2782 [00:08<00:02, 301.08it/s, now=None]\u001b[A\n",
      "chunk:  77%|███████▋  | 2142/2782 [00:08<00:02, 251.21it/s, now=None]\u001b[A\n",
      "chunk:  79%|███████▉  | 2193/2782 [00:08<00:02, 227.04it/s, now=None]\u001b[A\n",
      "chunk:  81%|████████  | 2244/2782 [00:08<00:02, 216.36it/s, now=None]\u001b[A\n",
      "chunk:  82%|████████▏ | 2295/2782 [00:09<00:02, 191.79it/s, now=None]\u001b[A\n",
      "chunk:  84%|████████▍ | 2346/2782 [00:09<00:02, 217.71it/s, now=None]\u001b[A\n",
      "chunk:  86%|████████▌ | 2397/2782 [00:09<00:01, 244.43it/s, now=None]\u001b[A\n",
      "chunk:  88%|████████▊ | 2448/2782 [00:09<00:01, 268.82it/s, now=None]\u001b[A\n",
      "chunk:  90%|████████▉ | 2499/2782 [00:09<00:01, 275.14it/s, now=None]\u001b[A\n",
      "chunk:  92%|█████████▏| 2550/2782 [00:10<00:00, 297.33it/s, now=None]\u001b[A\n",
      "chunk:  93%|█████████▎| 2601/2782 [00:10<00:00, 196.47it/s, now=None]\u001b[A\n",
      "chunk:  95%|█████████▌| 2652/2782 [00:10<00:00, 218.03it/s, now=None]\u001b[A\n",
      "chunk:  97%|█████████▋| 2704/2782 [00:10<00:00, 264.02it/s, now=None]\u001b[A\n",
      "chunk:   1%|▏         | 29/2121 [7:22:45<532:20:16, 916.07s/it, now=None]"
     ]
    },
    {
     "name": "stdout",
     "output_type": "stream",
     "text": [
      "MoviePy - Done.\n"
     ]
    },
    {
     "name": "stderr",
     "output_type": "stream",
     "text": [
      "chunk:   1%|▏         | 29/2121 [7:22:46<532:21:09, 916.09s/it, now=None]\n",
      "chunk:   0%|          | 0/1441 [00:00<?, ?it/s, now=None]\u001b[A"
     ]
    },
    {
     "name": "stdout",
     "output_type": "stream",
     "text": [
      "MoviePy - Writing audio in /home/jupyter/datasets/amigos/audio/Exp1_P33_audio/P33_20_audio.wav\n"
     ]
    },
    {
     "name": "stderr",
     "output_type": "stream",
     "text": [
      "\n",
      "chunk:   7%|▋         | 102/1441 [00:00<00:02, 461.98it/s, now=None]\u001b[A\n",
      "chunk:  11%|█         | 153/1441 [00:00<00:03, 410.75it/s, now=None]\u001b[A\n",
      "chunk:  14%|█▍        | 204/1441 [00:00<00:02, 418.72it/s, now=None]\u001b[A\n",
      "chunk:  21%|██        | 306/1441 [00:00<00:02, 488.06it/s, now=None]\u001b[A\n",
      "chunk:  25%|██▍       | 357/1441 [00:00<00:02, 482.24it/s, now=None]\u001b[A\n",
      "chunk:  32%|███▏      | 459/1441 [00:00<00:01, 495.87it/s, now=None]\u001b[A\n",
      "chunk:  39%|███▉      | 561/1441 [00:01<00:01, 465.36it/s, now=None]\u001b[A\n",
      "chunk:  42%|████▏     | 612/1441 [00:01<00:02, 403.51it/s, now=None]\u001b[A\n",
      "chunk:  46%|████▌     | 663/1441 [00:01<00:02, 299.65it/s, now=None]\u001b[A\n",
      "chunk:  50%|████▉     | 714/1441 [00:01<00:02, 308.31it/s, now=None]\u001b[A\n",
      "chunk:  53%|█████▎    | 765/1441 [00:01<00:02, 295.16it/s, now=None]\u001b[A\n",
      "chunk:  59%|█████▉    | 855/1441 [00:02<00:01, 369.69it/s, now=None]\u001b[A\n",
      "chunk:  63%|██████▎   | 905/1441 [00:02<00:01, 352.96it/s, now=None]\u001b[A\n",
      "chunk:  66%|██████▌   | 950/1441 [00:02<00:01, 301.38it/s, now=None]\u001b[A\n",
      "chunk:  69%|██████▊   | 988/1441 [00:02<00:01, 241.73it/s, now=None]\u001b[A\n",
      "chunk:  71%|███████   | 1020/1441 [00:02<00:02, 209.40it/s, now=None]\u001b[A\n",
      "chunk:  74%|███████▍  | 1071/1441 [00:03<00:01, 221.03it/s, now=None]\u001b[A\n",
      "chunk:  78%|███████▊  | 1122/1441 [00:03<00:01, 232.80it/s, now=None]\u001b[A\n",
      "chunk:  81%|████████▏ | 1173/1441 [00:03<00:01, 216.01it/s, now=None]\u001b[A\n",
      "chunk:  85%|████████▍ | 1224/1441 [00:03<00:00, 219.03it/s, now=None]\u001b[A\n",
      "chunk:  88%|████████▊ | 1275/1441 [00:03<00:00, 224.15it/s, now=None]\u001b[A\n",
      "chunk:  92%|█████████▏| 1326/1441 [00:04<00:00, 243.06it/s, now=None]\u001b[A\n",
      "chunk:  96%|█████████▌| 1377/1441 [00:04<00:00, 226.77it/s, now=None]\u001b[A\n",
      "chunk:   1%|▏         | 29/2121 [7:22:51<532:26:31, 916.25s/it, now=None]"
     ]
    },
    {
     "name": "stdout",
     "output_type": "stream",
     "text": [
      "MoviePy - Done.\n"
     ]
    },
    {
     "name": "stderr",
     "output_type": "stream",
     "text": [
      "chunk:   1%|▏         | 29/2121 [7:22:51<532:27:21, 916.27s/it, now=None]\n",
      "chunk:   0%|          | 0/2462 [00:00<?, ?it/s, now=None]\u001b[A\n",
      "chunk:   4%|▍         | 102/2462 [00:00<00:03, 779.34it/s, now=None]\u001b[A"
     ]
    },
    {
     "name": "stdout",
     "output_type": "stream",
     "text": [
      "MoviePy - Writing audio in /home/jupyter/datasets/amigos/audio/Exp1_P33_audio/P33_23_audio.wav\n"
     ]
    },
    {
     "name": "stderr",
     "output_type": "stream",
     "text": [
      "\n",
      "chunk:   6%|▌         | 153/2462 [00:00<00:05, 402.33it/s, now=None]\u001b[A\n",
      "chunk:   8%|▊         | 204/2462 [00:00<00:05, 421.08it/s, now=None]\u001b[A\n",
      "chunk:  10%|█         | 255/2462 [00:00<00:06, 364.13it/s, now=None]\u001b[A\n",
      "chunk:  12%|█▏        | 306/2462 [00:00<00:05, 393.46it/s, now=None]\u001b[A\n",
      "chunk:  15%|█▍        | 357/2462 [00:00<00:05, 397.21it/s, now=None]\u001b[A\n",
      "chunk:  17%|█▋        | 408/2462 [00:01<00:05, 370.21it/s, now=None]\u001b[A\n",
      "chunk:  19%|█▊        | 459/2462 [00:01<00:07, 282.64it/s, now=None]\u001b[A\n",
      "chunk:  21%|██        | 510/2462 [00:01<00:06, 293.73it/s, now=None]\u001b[A\n",
      "chunk:  23%|██▎       | 561/2462 [00:01<00:08, 233.09it/s, now=None]\u001b[A\n",
      "chunk:  25%|██▍       | 612/2462 [00:02<00:07, 246.41it/s, now=None]\u001b[A\n",
      "chunk:  27%|██▋       | 663/2462 [00:02<00:06, 278.50it/s, now=None]\u001b[A\n",
      "chunk:  29%|██▉       | 714/2462 [00:02<00:05, 317.33it/s, now=None]\u001b[A\n",
      "chunk:  31%|███       | 765/2462 [00:02<00:06, 270.58it/s, now=None]\u001b[A\n",
      "chunk:  33%|███▎      | 816/2462 [00:02<00:06, 250.90it/s, now=None]\u001b[A\n",
      "chunk:  35%|███▌      | 867/2462 [00:02<00:06, 264.97it/s, now=None]\u001b[A\n",
      "chunk:  37%|███▋      | 918/2462 [00:03<00:05, 278.73it/s, now=None]\u001b[A\n",
      "chunk:  39%|███▉      | 969/2462 [00:03<00:05, 264.55it/s, now=None]\u001b[A\n",
      "chunk:  41%|████▏     | 1020/2462 [00:03<00:05, 284.60it/s, now=None]\u001b[A\n",
      "chunk:  44%|████▎     | 1071/2462 [00:03<00:05, 266.21it/s, now=None]\u001b[A\n",
      "chunk:  46%|████▌     | 1122/2462 [00:03<00:04, 277.75it/s, now=None]\u001b[A\n",
      "chunk:  49%|████▉     | 1207/2462 [00:03<00:03, 347.98it/s, now=None]\u001b[A\n",
      "chunk:  51%|█████     | 1253/2462 [00:04<00:03, 307.44it/s, now=None]\u001b[A\n",
      "chunk:  53%|█████▎    | 1297/2462 [00:04<00:03, 337.84it/s, now=None]\u001b[A\n",
      "chunk:  54%|█████▍    | 1338/2462 [00:04<00:03, 298.08it/s, now=None]\u001b[A\n",
      "chunk:  56%|█████▌    | 1377/2462 [00:04<00:04, 265.67it/s, now=None]\u001b[A\n",
      "chunk:  58%|█████▊    | 1428/2462 [00:04<00:04, 234.70it/s, now=None]\u001b[A\n",
      "chunk:  60%|██████    | 1479/2462 [00:04<00:03, 273.52it/s, now=None]\u001b[A\n",
      "chunk:  62%|██████▏   | 1530/2462 [00:05<00:03, 294.65it/s, now=None]\u001b[A\n",
      "chunk:  64%|██████▍   | 1581/2462 [00:05<00:02, 311.09it/s, now=None]\u001b[A\n",
      "chunk:  66%|██████▋   | 1632/2462 [00:05<00:02, 316.26it/s, now=None]\u001b[A\n",
      "chunk:  68%|██████▊   | 1683/2462 [00:05<00:02, 288.76it/s, now=None]\u001b[A\n",
      "chunk:  70%|███████   | 1734/2462 [00:05<00:02, 307.32it/s, now=None]\u001b[A\n",
      "chunk:  73%|███████▎  | 1785/2462 [00:05<00:02, 332.07it/s, now=None]\u001b[A\n",
      "chunk:  75%|███████▍  | 1836/2462 [00:06<00:02, 224.13it/s, now=None]\u001b[A\n",
      "chunk:  77%|███████▋  | 1887/2462 [00:06<00:02, 219.01it/s, now=None]\u001b[A\n",
      "chunk:  79%|███████▊  | 1938/2462 [00:06<00:01, 263.52it/s, now=None]\u001b[A\n",
      "chunk:  81%|████████  | 1989/2462 [00:06<00:01, 272.52it/s, now=None]\u001b[A\n",
      "chunk:  83%|████████▎ | 2040/2462 [00:06<00:01, 294.79it/s, now=None]\u001b[A\n",
      "chunk:  85%|████████▍ | 2091/2462 [00:07<00:01, 296.72it/s, now=None]\u001b[A\n",
      "chunk:  87%|████████▋ | 2142/2462 [00:07<00:01, 318.45it/s, now=None]\u001b[A\n",
      "chunk:  89%|████████▉ | 2193/2462 [00:07<00:00, 294.79it/s, now=None]\u001b[A\n",
      "chunk:  91%|█████████ | 2244/2462 [00:07<00:00, 310.87it/s, now=None]\u001b[A\n",
      "chunk:  93%|█████████▎| 2295/2462 [00:07<00:00, 268.73it/s, now=None]\u001b[A\n",
      "chunk:  96%|█████████▌| 2360/2462 [00:07<00:00, 326.03it/s, now=None]\u001b[A\n",
      "chunk:  97%|█████████▋| 2400/2462 [00:08<00:00, 240.62it/s, now=None]\u001b[A\n",
      "chunk:   1%|▏         | 29/2121 [7:23:00<532:37:19, 916.56s/it, now=None]"
     ]
    },
    {
     "name": "stdout",
     "output_type": "stream",
     "text": [
      "MoviePy - Done.\n"
     ]
    },
    {
     "name": "stderr",
     "output_type": "stream",
     "text": [
      "chunk:   1%|▏         | 29/2121 [7:23:00<532:38:15, 916.59s/it, now=None]\n",
      "chunk:   0%|          | 0/1687 [00:00<?, ?it/s, now=None]\u001b[A\n",
      "chunk:   6%|▌         | 102/1687 [00:00<00:01, 798.46it/s, now=None]\u001b[A"
     ]
    },
    {
     "name": "stdout",
     "output_type": "stream",
     "text": [
      "MoviePy - Writing audio in /home/jupyter/datasets/amigos/audio/Exp1_P33_audio/P33_30_audio.wav\n"
     ]
    },
    {
     "name": "stderr",
     "output_type": "stream",
     "text": [
      "\n",
      "chunk:   9%|▉         | 153/1687 [00:00<00:03, 434.75it/s, now=None]\u001b[A\n",
      "chunk:  12%|█▏        | 204/1687 [00:00<00:04, 366.62it/s, now=None]\u001b[A\n",
      "chunk:  15%|█▌        | 255/1687 [00:00<00:04, 323.19it/s, now=None]\u001b[A\n",
      "chunk:  18%|█▊        | 306/1687 [00:00<00:04, 292.29it/s, now=None]\u001b[A\n",
      "chunk:  21%|██        | 357/1687 [00:01<00:04, 315.16it/s, now=None]\u001b[A\n",
      "chunk:  24%|██▍       | 408/1687 [00:01<00:04, 300.38it/s, now=None]\u001b[A\n",
      "chunk:  27%|██▋       | 459/1687 [00:01<00:04, 288.96it/s, now=None]\u001b[A\n",
      "chunk:  30%|███       | 510/1687 [00:01<00:03, 317.18it/s, now=None]\u001b[A\n",
      "chunk:  33%|███▎      | 561/1687 [00:01<00:04, 248.67it/s, now=None]\u001b[A\n",
      "chunk:  36%|███▋      | 612/1687 [00:02<00:03, 275.62it/s, now=None]\u001b[A\n",
      "chunk:  39%|███▉      | 663/1687 [00:02<00:03, 307.75it/s, now=None]\u001b[A\n",
      "chunk:  42%|████▏     | 714/1687 [00:02<00:03, 267.76it/s, now=None]\u001b[A\n",
      "chunk:  45%|████▌     | 765/1687 [00:02<00:03, 304.59it/s, now=None]\u001b[A\n",
      "chunk:  48%|████▊     | 816/1687 [00:02<00:03, 241.19it/s, now=None]\u001b[A\n",
      "chunk:  51%|█████▏    | 867/1687 [00:03<00:03, 265.54it/s, now=None]\u001b[A\n",
      "chunk:  54%|█████▍    | 918/1687 [00:03<00:02, 281.02it/s, now=None]\u001b[A\n",
      "chunk:  57%|█████▋    | 969/1687 [00:03<00:02, 290.72it/s, now=None]\u001b[A\n",
      "chunk:  60%|██████    | 1020/1687 [00:03<00:02, 269.73it/s, now=None]\u001b[A\n",
      "chunk:  63%|██████▎   | 1071/1687 [00:03<00:02, 281.26it/s, now=None]\u001b[A\n",
      "chunk:  67%|██████▋   | 1122/1687 [00:03<00:02, 259.23it/s, now=None]\u001b[A\n",
      "chunk:  70%|██████▉   | 1173/1687 [00:04<00:01, 275.18it/s, now=None]\u001b[A\n",
      "chunk:  73%|███████▎  | 1224/1687 [00:04<00:01, 274.89it/s, now=None]\u001b[A\n",
      "chunk:  76%|███████▌  | 1275/1687 [00:04<00:01, 291.54it/s, now=None]\u001b[A\n",
      "chunk:  79%|███████▊  | 1326/1687 [00:04<00:01, 300.28it/s, now=None]\u001b[A\n",
      "chunk:  82%|████████▏ | 1377/1687 [00:04<00:01, 292.25it/s, now=None]\u001b[A\n",
      "chunk:  85%|████████▍ | 1428/1687 [00:05<00:01, 256.15it/s, now=None]\u001b[A\n",
      "chunk:  91%|█████████ | 1530/1687 [00:05<00:00, 322.41it/s, now=None]\u001b[A\n",
      "chunk:  94%|█████████▎| 1581/1687 [00:05<00:00, 343.91it/s, now=None]\u001b[A\n",
      "chunk:  97%|█████████▋| 1632/1687 [00:05<00:00, 369.89it/s, now=None]\u001b[A\n",
      "chunk:   1%|▏         | 29/2121 [7:23:06<532:44:47, 916.77s/it, now=None]"
     ]
    },
    {
     "name": "stdout",
     "output_type": "stream",
     "text": [
      "MoviePy - Done.\n"
     ]
    },
    {
     "name": "stderr",
     "output_type": "stream",
     "text": [
      "chunk:   1%|▏         | 29/2121 [7:23:07<532:45:34, 916.79s/it, now=None]\n",
      "chunk:   0%|          | 0/3431 [00:00<?, ?it/s, now=None]\u001b[A\n",
      "chunk:   3%|▎         | 102/3431 [00:00<00:04, 768.21it/s, now=None]\u001b[A"
     ]
    },
    {
     "name": "stdout",
     "output_type": "stream",
     "text": [
      "MoviePy - Writing audio in /home/jupyter/datasets/amigos/audio/Exp1_P33_audio/P33_31_audio.wav\n"
     ]
    },
    {
     "name": "stderr",
     "output_type": "stream",
     "text": [
      "\n",
      "chunk:   4%|▍         | 153/3431 [00:00<00:05, 584.28it/s, now=None]\u001b[A\n",
      "chunk:   6%|▌         | 204/3431 [00:00<00:06, 493.40it/s, now=None]\u001b[A\n",
      "chunk:   7%|▋         | 255/3431 [00:00<00:08, 354.08it/s, now=None]\u001b[A\n",
      "chunk:   9%|▉         | 306/3431 [00:00<00:08, 371.26it/s, now=None]\u001b[A\n",
      "chunk:  10%|█         | 357/3431 [00:00<00:08, 345.36it/s, now=None]\u001b[A\n",
      "chunk:  13%|█▎        | 459/3431 [00:01<00:08, 367.02it/s, now=None]\u001b[A\n",
      "chunk:  15%|█▍        | 510/3431 [00:01<00:08, 338.27it/s, now=None]\u001b[A\n",
      "chunk:  16%|█▋        | 561/3431 [00:01<00:08, 335.23it/s, now=None]\u001b[A\n",
      "chunk:  18%|█▊        | 612/3431 [00:01<00:08, 316.26it/s, now=None]\u001b[A\n",
      "chunk:  19%|█▉        | 663/3431 [00:01<00:08, 334.14it/s, now=None]\u001b[A\n",
      "chunk:  21%|██        | 714/3431 [00:02<00:10, 247.46it/s, now=None]\u001b[A\n",
      "chunk:  22%|██▏       | 765/3431 [00:02<00:11, 239.79it/s, now=None]\u001b[A\n",
      "chunk:  24%|██▍       | 816/3431 [00:02<00:10, 261.26it/s, now=None]\u001b[A\n",
      "chunk:  25%|██▌       | 867/3431 [00:02<00:08, 288.73it/s, now=None]\u001b[A\n",
      "chunk:  27%|██▋       | 918/3431 [00:02<00:08, 300.51it/s, now=None]\u001b[A\n",
      "chunk:  28%|██▊       | 969/3431 [00:02<00:07, 311.21it/s, now=None]\u001b[A\n",
      "chunk:  30%|██▉       | 1020/3431 [00:03<00:06, 346.59it/s, now=None]\u001b[A\n",
      "chunk:  31%|███▏      | 1079/3431 [00:03<00:05, 395.54it/s, now=None]\u001b[A\n",
      "chunk:  33%|███▎      | 1123/3431 [00:03<00:06, 371.65it/s, now=None]\u001b[A\n",
      "chunk:  34%|███▍      | 1173/3431 [00:03<00:05, 396.35it/s, now=None]\u001b[A\n",
      "chunk:  37%|███▋      | 1275/3431 [00:03<00:05, 420.18it/s, now=None]\u001b[A\n",
      "chunk:  39%|███▊      | 1326/3431 [00:03<00:05, 399.16it/s, now=None]\u001b[A\n",
      "chunk:  40%|████      | 1377/3431 [00:03<00:06, 333.04it/s, now=None]\u001b[A\n",
      "chunk:  42%|████▏     | 1428/3431 [00:04<00:05, 354.17it/s, now=None]\u001b[A\n",
      "chunk:  43%|████▎     | 1479/3431 [00:04<00:05, 350.86it/s, now=None]\u001b[A\n",
      "chunk:  45%|████▍     | 1530/3431 [00:04<00:05, 363.84it/s, now=None]\u001b[A\n",
      "chunk:  46%|████▌     | 1581/3431 [00:04<00:05, 359.02it/s, now=None]\u001b[A\n",
      "chunk:  48%|████▊     | 1632/3431 [00:04<00:04, 382.79it/s, now=None]\u001b[A\n",
      "chunk:  49%|████▉     | 1683/3431 [00:04<00:04, 399.28it/s, now=None]\u001b[A\n",
      "chunk:  51%|█████     | 1734/3431 [00:04<00:04, 364.89it/s, now=None]\u001b[A\n",
      "chunk:  52%|█████▏    | 1794/3431 [00:05<00:03, 413.35it/s, now=None]\u001b[A\n",
      "chunk:  54%|█████▎    | 1839/3431 [00:05<00:05, 292.18it/s, now=None]\u001b[A\n",
      "chunk:  55%|█████▍    | 1887/3431 [00:05<00:06, 243.95it/s, now=None]\u001b[A\n",
      "chunk:  56%|█████▋    | 1938/3431 [00:05<00:07, 211.78it/s, now=None]\u001b[A\n",
      "chunk:  58%|█████▊    | 1989/3431 [00:06<00:06, 208.18it/s, now=None]\u001b[A\n",
      "chunk:  59%|█████▉    | 2040/3431 [00:06<00:06, 224.03it/s, now=None]\u001b[A\n",
      "chunk:  61%|██████    | 2091/3431 [00:06<00:05, 230.49it/s, now=None]\u001b[A\n",
      "chunk:  62%|██████▏   | 2142/3431 [00:06<00:05, 248.31it/s, now=None]\u001b[A\n",
      "chunk:  64%|██████▍   | 2193/3431 [00:06<00:05, 229.11it/s, now=None]\u001b[A\n",
      "chunk:  65%|██████▌   | 2244/3431 [00:07<00:04, 243.77it/s, now=None]\u001b[A\n",
      "chunk:  68%|██████▊   | 2346/3431 [00:07<00:03, 313.68it/s, now=None]\u001b[A\n",
      "chunk:  70%|██████▉   | 2397/3431 [00:07<00:03, 336.66it/s, now=None]\u001b[A\n",
      "chunk:  73%|███████▎  | 2499/3431 [00:07<00:02, 410.87it/s, now=None]\u001b[A\n",
      "chunk:  74%|███████▍  | 2556/3431 [00:07<00:02, 403.73it/s, now=None]\u001b[A\n",
      "chunk:  76%|███████▌  | 2608/3431 [00:07<00:02, 387.46it/s, now=None]\u001b[A\n",
      "chunk:  77%|███████▋  | 2655/3431 [00:07<00:02, 379.53it/s, now=None]\u001b[A\n",
      "chunk:  79%|███████▉  | 2703/3431 [00:08<00:01, 382.60it/s, now=None]\u001b[A\n",
      "chunk:  82%|████████▏ | 2805/3431 [00:08<00:01, 440.47it/s, now=None]\u001b[A\n",
      "chunk:  85%|████████▍ | 2907/3431 [00:08<00:01, 500.48it/s, now=None]\u001b[A\n",
      "chunk:  88%|████████▊ | 3009/3431 [00:08<00:00, 531.97it/s, now=None]\u001b[A\n",
      "chunk:  91%|█████████ | 3111/3431 [00:08<00:00, 598.98it/s, now=None]\u001b[A\n",
      "chunk:  93%|█████████▎| 3205/3431 [00:08<00:00, 672.06it/s, now=None]\u001b[A\n",
      "chunk:  97%|█████████▋| 3315/3431 [00:08<00:00, 635.25it/s, now=None]\u001b[A\n",
      "chunk:  99%|█████████▉| 3391/3431 [00:09<00:00, 667.80it/s, now=None]\u001b[A\n",
      "chunk:   1%|▏         | 29/2121 [7:23:16<532:56:30, 917.11s/it, now=None]"
     ]
    },
    {
     "name": "stdout",
     "output_type": "stream",
     "text": [
      "MoviePy - Done.\n"
     ]
    },
    {
     "name": "stderr",
     "output_type": "stream",
     "text": [
      "chunk:   1%|▏         | 29/2121 [7:23:17<532:57:42, 917.14s/it, now=None]\n",
      "chunk:   0%|          | 0/1458 [00:00<?, ?it/s, now=None]\u001b[A\n",
      "chunk:   7%|▋         | 102/1458 [00:00<00:01, 742.59it/s, now=None]\u001b[A"
     ]
    },
    {
     "name": "stdout",
     "output_type": "stream",
     "text": [
      "MoviePy - Writing audio in /home/jupyter/datasets/amigos/audio/Exp1_P33_audio/P33_34_audio.wav\n"
     ]
    },
    {
     "name": "stderr",
     "output_type": "stream",
     "text": [
      "\n",
      "chunk:  10%|█         | 153/1458 [00:00<00:02, 596.41it/s, now=None]\u001b[A\n",
      "chunk:  14%|█▍        | 204/1458 [00:00<00:02, 421.94it/s, now=None]\u001b[A\n",
      "chunk:  17%|█▋        | 255/1458 [00:00<00:03, 304.86it/s, now=None]\u001b[A\n",
      "chunk:  21%|██        | 306/1458 [00:00<00:04, 272.41it/s, now=None]\u001b[A\n",
      "chunk:  24%|██▍       | 357/1458 [00:01<00:03, 289.00it/s, now=None]\u001b[A\n",
      "chunk:  28%|██▊       | 408/1458 [00:01<00:03, 277.78it/s, now=None]\u001b[A\n",
      "chunk:  31%|███▏      | 459/1458 [00:01<00:04, 217.94it/s, now=None]\u001b[A\n",
      "chunk:  35%|███▍      | 510/1458 [00:01<00:04, 218.22it/s, now=None]\u001b[A\n",
      "chunk:  38%|███▊      | 561/1458 [00:02<00:04, 195.16it/s, now=None]\u001b[A\n",
      "chunk:  42%|████▏     | 612/1458 [00:02<00:04, 170.21it/s, now=None]\u001b[A\n",
      "chunk:  45%|████▌     | 663/1458 [00:02<00:04, 167.30it/s, now=None]\u001b[A\n",
      "chunk:  49%|████▉     | 714/1458 [00:03<00:04, 179.47it/s, now=None]\u001b[A\n",
      "chunk:  52%|█████▏    | 765/1458 [00:03<00:03, 192.82it/s, now=None]\u001b[A\n",
      "chunk:  56%|█████▌    | 816/1458 [00:03<00:03, 209.80it/s, now=None]\u001b[A\n",
      "chunk:  60%|██████    | 880/1458 [00:03<00:02, 262.74it/s, now=None]\u001b[A\n",
      "chunk:  63%|██████▎   | 918/1458 [00:03<00:02, 199.12it/s, now=None]\u001b[A\n",
      "chunk:  66%|██████▋   | 969/1458 [00:04<00:02, 166.09it/s, now=None]\u001b[A\n",
      "chunk:  70%|██████▉   | 1020/1458 [00:04<00:02, 191.93it/s, now=None]\u001b[A\n",
      "chunk:  73%|███████▎  | 1071/1458 [00:04<00:01, 204.05it/s, now=None]\u001b[A\n",
      "chunk:  80%|████████  | 1173/1458 [00:05<00:01, 248.47it/s, now=None]\u001b[A\n",
      "chunk:  84%|████████▍ | 1224/1458 [00:05<00:01, 209.87it/s, now=None]\u001b[A\n",
      "chunk:  87%|████████▋ | 1275/1458 [00:05<00:01, 179.05it/s, now=None]\u001b[A\n",
      "chunk:  91%|█████████ | 1326/1458 [00:05<00:00, 194.02it/s, now=None]\u001b[A\n",
      "chunk:  94%|█████████▍| 1377/1458 [00:06<00:00, 216.44it/s, now=None]\u001b[A\n",
      "chunk:   1%|▏         | 29/2121 [7:23:23<533:05:09, 917.36s/it, now=None]"
     ]
    },
    {
     "name": "stdout",
     "output_type": "stream",
     "text": [
      "MoviePy - Done.\n"
     ]
    },
    {
     "name": "stderr",
     "output_type": "stream",
     "text": [
      "chunk:   1%|▏         | 29/2121 [7:23:24<533:06:13, 917.39s/it, now=None]\n",
      "chunk:   0%|          | 0/1504 [00:00<?, ?it/s, now=None]\u001b[A\n",
      "chunk:   7%|▋         | 102/1504 [00:00<00:01, 893.34it/s, now=None]\u001b[A"
     ]
    },
    {
     "name": "stdout",
     "output_type": "stream",
     "text": [
      "MoviePy - Writing audio in /home/jupyter/datasets/amigos/audio/Exp1_P33_audio/P33_36_audio.wav\n"
     ]
    },
    {
     "name": "stderr",
     "output_type": "stream",
     "text": [
      "\n",
      "chunk:  14%|█▎        | 204/1504 [00:00<00:01, 713.89it/s, now=None]\u001b[A\n",
      "chunk:  17%|█▋        | 255/1504 [00:00<00:02, 546.22it/s, now=None]\u001b[A\n",
      "chunk:  20%|██        | 306/1504 [00:00<00:02, 480.66it/s, now=None]\u001b[A\n",
      "chunk:  27%|██▋       | 400/1504 [00:00<00:01, 562.95it/s, now=None]\u001b[A\n",
      "chunk:  30%|███       | 453/1504 [00:00<00:01, 538.57it/s, now=None]\u001b[A\n",
      "chunk:  34%|███▍      | 510/1504 [00:01<00:02, 363.45it/s, now=None]\u001b[A\n",
      "chunk:  37%|███▋      | 561/1504 [00:01<00:02, 353.63it/s, now=None]\u001b[A\n",
      "chunk:  41%|████      | 612/1504 [00:01<00:03, 286.30it/s, now=None]\u001b[A\n",
      "chunk:  44%|████▍     | 663/1504 [00:01<00:03, 275.92it/s, now=None]\u001b[A\n",
      "chunk:  47%|████▋     | 714/1504 [00:01<00:02, 281.06it/s, now=None]\u001b[A\n",
      "chunk:  51%|█████     | 765/1504 [00:02<00:02, 267.46it/s, now=None]\u001b[A\n",
      "chunk:  54%|█████▍    | 816/1504 [00:02<00:02, 239.65it/s, now=None]\u001b[A\n",
      "chunk:  58%|█████▊    | 867/1504 [00:02<00:02, 246.66it/s, now=None]\u001b[A\n",
      "chunk:  61%|██████    | 918/1504 [00:02<00:02, 272.50it/s, now=None]\u001b[A\n",
      "chunk:  64%|██████▍   | 969/1504 [00:02<00:02, 266.30it/s, now=None]\u001b[A\n",
      "chunk:  68%|██████▊   | 1020/1504 [00:03<00:01, 265.71it/s, now=None]\u001b[A\n",
      "chunk:  71%|███████   | 1071/1504 [00:03<00:01, 299.39it/s, now=None]\u001b[A\n",
      "chunk:  78%|███████▊  | 1173/1504 [00:03<00:00, 335.78it/s, now=None]\u001b[A\n",
      "chunk:  81%|████████▏ | 1224/1504 [00:03<00:00, 314.32it/s, now=None]\u001b[A\n",
      "chunk:  85%|████████▍ | 1275/1504 [00:03<00:00, 278.67it/s, now=None]\u001b[A\n",
      "chunk:  88%|████████▊ | 1326/1504 [00:04<00:00, 246.19it/s, now=None]\u001b[A\n",
      "chunk:  92%|█████████▏| 1377/1504 [00:04<00:00, 231.95it/s, now=None]\u001b[A\n",
      "chunk:  95%|█████████▍| 1428/1504 [00:04<00:00, 216.15it/s, now=None]\u001b[A\n",
      "chunk:   1%|▏         | 29/2121 [7:23:28<533:11:52, 917.55s/it, now=None]"
     ]
    },
    {
     "name": "stdout",
     "output_type": "stream",
     "text": [
      "MoviePy - Done.\n"
     ]
    },
    {
     "name": "stderr",
     "output_type": "stream",
     "text": [
      "chunk:   1%|▏         | 29/2121 [7:23:29<533:13:04, 917.58s/it, now=None]\n",
      "chunk:   0%|          | 0/2007 [00:00<?, ?it/s, now=None]\u001b[A"
     ]
    },
    {
     "name": "stdout",
     "output_type": "stream",
     "text": [
      "MoviePy - Writing audio in /home/jupyter/datasets/amigos/audio/Exp1_P33_audio/P33_4_audio.wav\n"
     ]
    },
    {
     "name": "stderr",
     "output_type": "stream",
     "text": [
      "\n",
      "chunk:   5%|▌         | 102/2007 [00:00<00:03, 540.27it/s, now=None]\u001b[A\n",
      "chunk:   8%|▊         | 153/2007 [00:00<00:07, 250.85it/s, now=None]\u001b[A\n",
      "chunk:  10%|█         | 204/2007 [00:00<00:08, 216.30it/s, now=None]\u001b[A\n",
      "chunk:  13%|█▎        | 255/2007 [00:01<00:08, 206.24it/s, now=None]\u001b[A\n",
      "chunk:  15%|█▌        | 306/2007 [00:01<00:07, 224.78it/s, now=None]\u001b[A\n",
      "chunk:  18%|█▊        | 357/2007 [00:01<00:06, 247.84it/s, now=None]\u001b[A\n",
      "chunk:  20%|██        | 408/2007 [00:01<00:07, 224.95it/s, now=None]\u001b[A\n",
      "chunk:  23%|██▎       | 459/2007 [00:02<00:07, 204.95it/s, now=None]\u001b[A\n",
      "chunk:  25%|██▌       | 510/2007 [00:02<00:07, 204.25it/s, now=None]\u001b[A\n",
      "chunk:  28%|██▊       | 561/2007 [00:02<00:06, 229.62it/s, now=None]\u001b[A\n",
      "chunk:  30%|███       | 612/2007 [00:02<00:05, 246.17it/s, now=None]\u001b[A\n",
      "chunk:  33%|███▎      | 663/2007 [00:03<00:06, 215.46it/s, now=None]\u001b[A\n",
      "chunk:  36%|███▌      | 714/2007 [00:03<00:05, 245.92it/s, now=None]\u001b[A\n",
      "chunk:  38%|███▊      | 765/2007 [00:03<00:04, 259.76it/s, now=None]\u001b[A\n",
      "chunk:  42%|████▏     | 848/2007 [00:03<00:03, 327.16it/s, now=None]\u001b[A\n",
      "chunk:  44%|████▍     | 893/2007 [00:03<00:03, 347.44it/s, now=None]\u001b[A\n",
      "chunk:  47%|████▋     | 937/2007 [00:03<00:03, 312.28it/s, now=None]\u001b[A\n",
      "chunk:  49%|████▊     | 975/2007 [00:03<00:03, 297.76it/s, now=None]\u001b[A\n",
      "chunk:  51%|█████     | 1020/2007 [00:04<00:03, 292.31it/s, now=None]\u001b[A\n",
      "chunk:  53%|█████▎    | 1071/2007 [00:04<00:03, 302.84it/s, now=None]\u001b[A\n",
      "chunk:  56%|█████▌    | 1122/2007 [00:04<00:03, 263.16it/s, now=None]\u001b[A\n",
      "chunk:  58%|█████▊    | 1173/2007 [00:04<00:03, 267.66it/s, now=None]\u001b[A\n",
      "chunk:  61%|██████    | 1224/2007 [00:04<00:02, 278.33it/s, now=None]\u001b[A\n",
      "chunk:  64%|██████▎   | 1275/2007 [00:05<00:03, 233.11it/s, now=None]\u001b[A\n",
      "chunk:  66%|██████▌   | 1326/2007 [00:05<00:02, 267.39it/s, now=None]\u001b[A\n",
      "chunk:  69%|██████▊   | 1377/2007 [00:05<00:02, 247.92it/s, now=None]\u001b[A\n",
      "chunk:  71%|███████   | 1428/2007 [00:05<00:02, 241.73it/s, now=None]\u001b[A\n",
      "chunk:  74%|███████▎  | 1479/2007 [00:05<00:02, 224.05it/s, now=None]\u001b[A\n",
      "chunk:  76%|███████▌  | 1530/2007 [00:06<00:02, 226.28it/s, now=None]\u001b[A\n",
      "chunk:  79%|███████▉  | 1581/2007 [00:06<00:01, 253.00it/s, now=None]\u001b[A\n",
      "chunk:  81%|████████▏ | 1632/2007 [00:06<00:01, 265.28it/s, now=None]\u001b[A\n",
      "chunk:  84%|████████▍ | 1683/2007 [00:07<00:01, 163.97it/s, now=None]\u001b[A\n",
      "chunk:  86%|████████▋ | 1734/2007 [00:07<00:01, 171.24it/s, now=None]\u001b[A\n",
      "chunk:  89%|████████▉ | 1785/2007 [00:07<00:01, 191.21it/s, now=None]\u001b[A\n",
      "chunk:  91%|█████████▏| 1836/2007 [00:07<00:00, 227.46it/s, now=None]\u001b[A\n",
      "chunk:  94%|█████████▍| 1887/2007 [00:07<00:00, 257.05it/s, now=None]\u001b[A\n",
      "chunk:  97%|█████████▋| 1938/2007 [00:07<00:00, 267.84it/s, now=None]\u001b[A\n",
      "chunk:   1%|▏         | 29/2121 [7:23:37<533:22:43, 917.86s/it, now=None]"
     ]
    },
    {
     "name": "stdout",
     "output_type": "stream",
     "text": [
      "MoviePy - Done.\n"
     ]
    },
    {
     "name": "stderr",
     "output_type": "stream",
     "text": [
      "chunk:   1%|▏         | 29/2121 [7:23:38<533:23:42, 917.89s/it, now=None]\n",
      "chunk:   0%|          | 0/2483 [00:00<?, ?it/s, now=None]\u001b[A"
     ]
    },
    {
     "name": "stdout",
     "output_type": "stream",
     "text": [
      "MoviePy - Writing audio in /home/jupyter/datasets/amigos/audio/Exp1_P33_audio/P33_5_audio.wav\n"
     ]
    },
    {
     "name": "stderr",
     "output_type": "stream",
     "text": [
      "\n",
      "chunk:   4%|▍         | 102/2483 [00:00<00:03, 733.64it/s, now=None]\u001b[A\n",
      "chunk:   6%|▌         | 153/2483 [00:00<00:04, 503.02it/s, now=None]\u001b[A\n",
      "chunk:   8%|▊         | 204/2483 [00:00<00:05, 430.47it/s, now=None]\u001b[A\n",
      "chunk:  10%|█         | 255/2483 [00:00<00:05, 435.08it/s, now=None]\u001b[A\n",
      "chunk:  12%|█▏        | 306/2483 [00:00<00:05, 377.79it/s, now=None]\u001b[A\n",
      "chunk:  15%|█▌        | 377/2483 [00:00<00:04, 439.40it/s, now=None]\u001b[A\n",
      "chunk:  17%|█▋        | 421/2483 [00:01<00:05, 357.58it/s, now=None]\u001b[A\n",
      "chunk:  18%|█▊        | 459/2483 [00:01<00:06, 294.13it/s, now=None]\u001b[A\n",
      "chunk:  21%|██        | 510/2483 [00:01<00:06, 291.81it/s, now=None]\u001b[A\n",
      "chunk:  23%|██▎       | 561/2483 [00:01<00:06, 291.35it/s, now=None]\u001b[A\n",
      "chunk:  25%|██▍       | 612/2483 [00:01<00:05, 314.42it/s, now=None]\u001b[A\n",
      "chunk:  27%|██▋       | 663/2483 [00:01<00:05, 316.24it/s, now=None]\u001b[A\n",
      "chunk:  29%|██▉       | 714/2483 [00:02<00:05, 326.86it/s, now=None]\u001b[A\n",
      "chunk:  31%|███       | 765/2483 [00:02<00:05, 305.75it/s, now=None]\u001b[A\n",
      "chunk:  33%|███▎      | 816/2483 [00:02<00:06, 271.32it/s, now=None]\u001b[A\n",
      "chunk:  35%|███▍      | 867/2483 [00:02<00:05, 313.12it/s, now=None]\u001b[A\n",
      "chunk:  39%|███▉      | 969/2483 [00:02<00:04, 345.19it/s, now=None]\u001b[A\n",
      "chunk:  41%|████      | 1020/2483 [00:02<00:04, 363.66it/s, now=None]\u001b[A\n",
      "chunk:  43%|████▎     | 1071/2483 [00:03<00:04, 345.90it/s, now=None]\u001b[A\n",
      "chunk:  45%|████▌     | 1122/2483 [00:03<00:03, 361.83it/s, now=None]\u001b[A\n",
      "chunk:  47%|████▋     | 1173/2483 [00:03<00:03, 339.56it/s, now=None]\u001b[A\n",
      "chunk:  49%|████▉     | 1224/2483 [00:03<00:04, 260.80it/s, now=None]\u001b[A\n",
      "chunk:  51%|█████▏    | 1275/2483 [00:03<00:04, 258.84it/s, now=None]\u001b[A\n",
      "chunk:  53%|█████▎    | 1326/2483 [00:04<00:05, 228.80it/s, now=None]\u001b[A\n",
      "chunk:  55%|█████▌    | 1377/2483 [00:04<00:04, 242.30it/s, now=None]\u001b[A\n",
      "chunk:  58%|█████▊    | 1428/2483 [00:04<00:04, 252.23it/s, now=None]\u001b[A\n",
      "chunk:  60%|█████▉    | 1479/2483 [00:04<00:03, 280.45it/s, now=None]\u001b[A\n",
      "chunk:  62%|██████▏   | 1530/2483 [00:04<00:03, 276.52it/s, now=None]\u001b[A\n",
      "chunk:  64%|██████▎   | 1581/2483 [00:05<00:03, 247.92it/s, now=None]\u001b[A\n",
      "chunk:  66%|██████▌   | 1632/2483 [00:05<00:03, 262.87it/s, now=None]\u001b[A\n",
      "chunk:  68%|██████▊   | 1683/2483 [00:05<00:02, 274.18it/s, now=None]\u001b[A\n",
      "chunk:  70%|██████▉   | 1734/2483 [00:05<00:02, 261.78it/s, now=None]\u001b[A\n",
      "chunk:  72%|███████▏  | 1785/2483 [00:05<00:02, 274.40it/s, now=None]\u001b[A\n",
      "chunk:  74%|███████▍  | 1836/2483 [00:06<00:02, 242.83it/s, now=None]\u001b[A\n",
      "chunk:  76%|███████▌  | 1887/2483 [00:06<00:02, 216.75it/s, now=None]\u001b[A\n",
      "chunk:  78%|███████▊  | 1938/2483 [00:06<00:02, 242.62it/s, now=None]\u001b[A\n",
      "chunk:  80%|████████  | 1989/2483 [00:06<00:02, 228.61it/s, now=None]\u001b[A\n",
      "chunk:  84%|████████▍ | 2083/2483 [00:06<00:01, 295.67it/s, now=None]\u001b[A\n",
      "chunk:  86%|████████▌ | 2129/2483 [00:07<00:01, 305.14it/s, now=None]\u001b[A\n",
      "chunk:  87%|████████▋ | 2171/2483 [00:07<00:00, 323.44it/s, now=None]\u001b[A\n",
      "chunk:  89%|████████▉ | 2212/2483 [00:07<00:01, 259.65it/s, now=None]\u001b[A\n",
      "chunk:  90%|█████████ | 2246/2483 [00:07<00:01, 197.04it/s, now=None]\u001b[A\n",
      "chunk:  92%|█████████▏| 2295/2483 [00:07<00:00, 227.08it/s, now=None]\u001b[A\n",
      "chunk:  97%|█████████▋| 2397/2483 [00:08<00:00, 241.14it/s, now=None]\u001b[A\n",
      "chunk:  99%|█████████▉| 2453/2483 [00:08<00:00, 290.79it/s, now=None]\u001b[A\n",
      "chunk:   1%|▏         | 29/2121 [7:23:47<533:33:44, 918.18s/it, now=None]"
     ]
    },
    {
     "name": "stdout",
     "output_type": "stream",
     "text": [
      "MoviePy - Done.\n"
     ]
    },
    {
     "name": "stderr",
     "output_type": "stream",
     "text": [
      "chunk:   1%|▏         | 29/2121 [7:23:47<533:34:34, 918.20s/it, now=None]\n",
      "chunk:   0%|          | 0/1412 [00:00<?, ?it/s, now=None]\u001b[A\n",
      "chunk:  11%|█         | 153/1412 [00:00<00:01, 1076.88it/s, now=None]\u001b[A"
     ]
    },
    {
     "name": "stdout",
     "output_type": "stream",
     "text": [
      "MoviePy - Writing audio in /home/jupyter/datasets/amigos/audio/Exp1_P33_audio/P33_58_audio.wav\n"
     ]
    },
    {
     "name": "stderr",
     "output_type": "stream",
     "text": [
      "\n",
      "chunk:  14%|█▍        | 204/1412 [00:00<00:01, 670.50it/s, now=None] \u001b[A\n",
      "chunk:  18%|█▊        | 255/1412 [00:00<00:02, 485.39it/s, now=None]\u001b[A\n",
      "chunk:  22%|██▏       | 306/1412 [00:00<00:02, 480.26it/s, now=None]\u001b[A\n",
      "chunk:  25%|██▌       | 357/1412 [00:00<00:02, 427.01it/s, now=None]\u001b[A\n",
      "chunk:  29%|██▉       | 410/1412 [00:00<00:02, 453.18it/s, now=None]\u001b[A\n",
      "chunk:  33%|███▎      | 459/1412 [00:01<00:02, 359.87it/s, now=None]\u001b[A\n",
      "chunk:  36%|███▌      | 510/1412 [00:01<00:02, 359.19it/s, now=None]\u001b[A\n",
      "chunk:  43%|████▎     | 612/1412 [00:01<00:02, 335.64it/s, now=None]\u001b[A\n",
      "chunk:  47%|████▋     | 663/1412 [00:01<00:02, 279.96it/s, now=None]\u001b[A\n",
      "chunk:  51%|█████     | 714/1412 [00:01<00:02, 263.60it/s, now=None]\u001b[A\n",
      "chunk:  54%|█████▍    | 765/1412 [00:02<00:02, 247.26it/s, now=None]\u001b[A\n",
      "chunk:  58%|█████▊    | 816/1412 [00:02<00:02, 288.64it/s, now=None]\u001b[A\n",
      "chunk:  61%|██████▏   | 867/1412 [00:02<00:01, 289.78it/s, now=None]\u001b[A\n",
      "chunk:  65%|██████▌   | 918/1412 [00:02<00:01, 296.04it/s, now=None]\u001b[A\n",
      "chunk:  71%|███████   | 1003/1412 [00:02<00:01, 367.94it/s, now=None]\u001b[A\n",
      "chunk:  74%|███████▍  | 1051/1412 [00:02<00:01, 334.40it/s, now=None]\u001b[A\n",
      "chunk:  77%|███████▋  | 1093/1412 [00:03<00:00, 354.77it/s, now=None]\u001b[A\n",
      "chunk:  80%|████████  | 1135/1412 [00:03<00:00, 316.00it/s, now=None]\u001b[A\n",
      "chunk:  83%|████████▎ | 1173/1412 [00:03<00:00, 255.26it/s, now=None]\u001b[A\n",
      "chunk:  87%|████████▋ | 1224/1412 [00:03<00:00, 276.70it/s, now=None]\u001b[A\n",
      "chunk:  90%|█████████ | 1275/1412 [00:03<00:00, 232.61it/s, now=None]\u001b[A\n",
      "chunk:  94%|█████████▍| 1326/1412 [00:04<00:00, 257.73it/s, now=None]\u001b[A\n",
      "chunk:  98%|█████████▊| 1377/1412 [00:04<00:00, 259.04it/s, now=None]\u001b[A\n",
      "chunk:   1%|▏         | 29/2121 [7:23:52<533:39:40, 918.35s/it, now=None]"
     ]
    },
    {
     "name": "stdout",
     "output_type": "stream",
     "text": [
      "MoviePy - Done.\n"
     ]
    },
    {
     "name": "stderr",
     "output_type": "stream",
     "text": [
      "chunk:   1%|▏         | 29/2121 [7:23:52<533:40:28, 918.37s/it, now=None]\n",
      "chunk:   0%|          | 0/2259 [00:00<?, ?it/s, now=None]\u001b[A\n",
      "chunk:   5%|▌         | 118/2259 [00:00<00:01, 1178.64it/s, now=None]\u001b[A"
     ]
    },
    {
     "name": "stdout",
     "output_type": "stream",
     "text": [
      "MoviePy - Writing audio in /home/jupyter/datasets/amigos/audio/Exp1_P33_audio/P33_80_audio.wav\n"
     ]
    },
    {
     "name": "stderr",
     "output_type": "stream",
     "text": [
      "\n",
      "chunk:   7%|▋         | 154/2259 [00:00<00:04, 432.41it/s, now=None] \u001b[A\n",
      "chunk:   9%|▉         | 204/2259 [00:00<00:05, 350.37it/s, now=None]\u001b[A\n",
      "chunk:  11%|█▏        | 255/2259 [00:00<00:07, 269.76it/s, now=None]\u001b[A\n",
      "chunk:  14%|█▎        | 306/2259 [00:00<00:07, 275.98it/s, now=None]\u001b[A\n",
      "chunk:  18%|█▊        | 406/2259 [00:01<00:05, 352.56it/s, now=None]\u001b[A\n",
      "chunk:  20%|██        | 455/2259 [00:01<00:05, 342.59it/s, now=None]\u001b[A\n",
      "chunk:  22%|██▏       | 499/2259 [00:01<00:05, 319.60it/s, now=None]\u001b[A\n",
      "chunk:  24%|██▍       | 538/2259 [00:01<00:06, 282.51it/s, now=None]\u001b[A\n",
      "chunk:  25%|██▌       | 572/2259 [00:01<00:07, 214.73it/s, now=None]\u001b[A\n",
      "chunk:  27%|██▋       | 612/2259 [00:02<00:08, 202.12it/s, now=None]\u001b[A\n",
      "chunk:  29%|██▉       | 663/2259 [00:02<00:07, 217.21it/s, now=None]\u001b[A\n",
      "chunk:  32%|███▏      | 714/2259 [00:02<00:07, 220.62it/s, now=None]\u001b[A\n",
      "chunk:  34%|███▍      | 765/2259 [00:02<00:06, 227.87it/s, now=None]\u001b[A\n",
      "chunk:  36%|███▌      | 816/2259 [00:02<00:05, 246.48it/s, now=None]\u001b[A\n",
      "chunk:  38%|███▊      | 867/2259 [00:02<00:05, 262.18it/s, now=None]\u001b[A\n",
      "chunk:  41%|████      | 918/2259 [00:03<00:04, 282.92it/s, now=None]\u001b[A\n",
      "chunk:  43%|████▎     | 969/2259 [00:03<00:04, 303.39it/s, now=None]\u001b[A\n",
      "chunk:  45%|████▌     | 1020/2259 [00:03<00:03, 327.61it/s, now=None]\u001b[A\n",
      "chunk:  47%|████▋     | 1071/2259 [00:03<00:03, 332.11it/s, now=None]\u001b[A\n",
      "chunk:  50%|████▉     | 1122/2259 [00:03<00:03, 321.27it/s, now=None]\u001b[A\n",
      "chunk:  52%|█████▏    | 1173/2259 [00:03<00:03, 308.37it/s, now=None]\u001b[A\n",
      "chunk:  54%|█████▍    | 1224/2259 [00:04<00:03, 314.77it/s, now=None]\u001b[A\n",
      "chunk:  56%|█████▋    | 1275/2259 [00:04<00:02, 330.44it/s, now=None]\u001b[A\n",
      "chunk:  61%|██████    | 1377/2259 [00:04<00:02, 368.62it/s, now=None]\u001b[A\n",
      "chunk:  63%|██████▎   | 1428/2259 [00:04<00:02, 338.93it/s, now=None]\u001b[A\n",
      "chunk:  66%|██████▋   | 1500/2259 [00:04<00:01, 402.90it/s, now=None]\u001b[A\n",
      "chunk:  68%|██████▊   | 1547/2259 [00:04<00:01, 394.79it/s, now=None]\u001b[A\n",
      "chunk:  70%|███████   | 1591/2259 [00:04<00:02, 326.25it/s, now=None]\u001b[A\n",
      "chunk:  72%|███████▏  | 1632/2259 [00:05<00:02, 311.25it/s, now=None]\u001b[A\n",
      "chunk:  75%|███████▍  | 1683/2259 [00:05<00:02, 270.14it/s, now=None]\u001b[A\n",
      "chunk:  77%|███████▋  | 1734/2259 [00:05<00:01, 305.43it/s, now=None]\u001b[A\n",
      "chunk:  79%|███████▉  | 1785/2259 [00:05<00:02, 209.03it/s, now=None]\u001b[A\n",
      "chunk:  81%|████████▏ | 1836/2259 [00:06<00:01, 225.01it/s, now=None]\u001b[A\n",
      "chunk:  84%|████████▎ | 1887/2259 [00:06<00:01, 253.30it/s, now=None]\u001b[A\n",
      "chunk:  86%|████████▌ | 1938/2259 [00:06<00:01, 281.20it/s, now=None]\u001b[A\n",
      "chunk:  88%|████████▊ | 1989/2259 [00:06<00:00, 295.39it/s, now=None]\u001b[A\n",
      "chunk:  90%|█████████ | 2040/2259 [00:06<00:00, 293.95it/s, now=None]\u001b[A\n",
      "chunk:  93%|█████████▎| 2091/2259 [00:06<00:00, 249.03it/s, now=None]\u001b[A\n",
      "chunk:  95%|█████████▍| 2142/2259 [00:07<00:00, 234.15it/s, now=None]\u001b[A\n",
      "chunk:  97%|█████████▋| 2193/2259 [00:07<00:00, 226.48it/s, now=None]\u001b[A\n",
      "chunk:   1%|▏         | 29/2121 [7:24:00<533:49:34, 918.63s/it, now=None]"
     ]
    },
    {
     "name": "stdout",
     "output_type": "stream",
     "text": [
      "MoviePy - Done.\n"
     ]
    },
    {
     "name": "stderr",
     "output_type": "stream",
     "text": [
      "chunk:   1%|▏         | 29/2121 [7:24:01<533:50:29, 918.66s/it, now=None]\n",
      "chunk:   0%|          | 0/1666 [00:00<?, ?it/s, now=None]\u001b[A\n",
      "chunk:   6%|▌         | 102/1666 [00:00<00:02, 581.66it/s, now=None]\u001b[A"
     ]
    },
    {
     "name": "stdout",
     "output_type": "stream",
     "text": [
      "MoviePy - Writing audio in /home/jupyter/datasets/amigos/audio/Exp1_P33_audio/P33_9_audio.wav\n"
     ]
    },
    {
     "name": "stderr",
     "output_type": "stream",
     "text": [
      "\n",
      "chunk:  12%|█▏        | 204/1666 [00:00<00:02, 565.18it/s, now=None]\u001b[A\n",
      "chunk:  15%|█▌        | 255/1666 [00:00<00:03, 394.08it/s, now=None]\u001b[A\n",
      "chunk:  18%|█▊        | 306/1666 [00:00<00:03, 385.93it/s, now=None]\u001b[A\n",
      "chunk:  21%|██▏       | 357/1666 [00:00<00:03, 378.46it/s, now=None]\u001b[A\n",
      "chunk:  24%|██▍       | 408/1666 [00:01<00:03, 350.26it/s, now=None]\u001b[A\n",
      "chunk:  28%|██▊       | 459/1666 [00:01<00:03, 370.34it/s, now=None]\u001b[A\n",
      "chunk:  31%|███       | 510/1666 [00:01<00:03, 317.40it/s, now=None]\u001b[A\n",
      "chunk:  34%|███▎      | 561/1666 [00:01<00:03, 329.98it/s, now=None]\u001b[A\n",
      "chunk:  37%|███▋      | 612/1666 [00:01<00:03, 328.96it/s, now=None]\u001b[A\n",
      "chunk:  43%|████▎     | 714/1666 [00:01<00:02, 331.96it/s, now=None]\u001b[A\n",
      "chunk:  46%|████▌     | 765/1666 [00:02<00:02, 334.81it/s, now=None]\u001b[A\n",
      "chunk:  49%|████▉     | 816/1666 [00:02<00:02, 307.10it/s, now=None]\u001b[A\n",
      "chunk:  52%|█████▏    | 867/1666 [00:02<00:03, 214.55it/s, now=None]\u001b[A\n",
      "chunk:  55%|█████▌    | 918/1666 [00:02<00:03, 216.87it/s, now=None]\u001b[A\n",
      "chunk:  58%|█████▊    | 969/1666 [00:03<00:03, 189.54it/s, now=None]\u001b[A\n",
      "chunk:  61%|██████    | 1020/1666 [00:03<00:03, 196.27it/s, now=None]\u001b[A\n",
      "chunk:  64%|██████▍   | 1071/1666 [00:03<00:02, 201.61it/s, now=None]\u001b[A\n",
      "chunk:  67%|██████▋   | 1122/1666 [00:04<00:02, 206.39it/s, now=None]\u001b[A\n",
      "chunk:  70%|███████   | 1173/1666 [00:04<00:02, 246.14it/s, now=None]\u001b[A\n",
      "chunk:  73%|███████▎  | 1224/1666 [00:04<00:01, 278.46it/s, now=None]\u001b[A\n",
      "chunk:  77%|███████▋  | 1275/1666 [00:04<00:01, 271.04it/s, now=None]\u001b[A\n",
      "chunk:  80%|███████▉  | 1326/1666 [00:04<00:01, 312.67it/s, now=None]\u001b[A\n",
      "chunk:  83%|████████▎ | 1377/1666 [00:04<00:01, 283.36it/s, now=None]\u001b[A\n",
      "chunk:  89%|████████▉ | 1479/1666 [00:04<00:00, 344.10it/s, now=None]\u001b[A\n",
      "chunk:  92%|█████████▏| 1530/1666 [00:05<00:00, 379.07it/s, now=None]\u001b[A\n",
      "chunk:  95%|█████████▍| 1581/1666 [00:05<00:00, 372.77it/s, now=None]\u001b[A\n",
      "chunk:   1%|▏         | 29/2121 [7:24:06<533:56:50, 918.84s/it, now=None]"
     ]
    },
    {
     "name": "stdout",
     "output_type": "stream",
     "text": [
      "MoviePy - Done.\n"
     ]
    },
    {
     "name": "stderr",
     "output_type": "stream",
     "text": [
      "chunk:   1%|▏         | 29/2121 [7:24:06<533:57:37, 918.86s/it, now=None]\n",
      "chunk:   0%|          | 0/2147 [00:00<?, ?it/s, now=None]\u001b[A\n",
      "chunk:   5%|▍         | 102/2147 [00:00<00:02, 918.09it/s, now=None]\u001b[A"
     ]
    },
    {
     "name": "stdout",
     "output_type": "stream",
     "text": [
      "MoviePy - Writing audio in /home/jupyter/datasets/amigos/audio/Exp1_P34_audio/P34_10_audio.wav\n"
     ]
    },
    {
     "name": "stderr",
     "output_type": "stream",
     "text": [
      "\n",
      "chunk:  10%|▉         | 204/2147 [00:00<00:02, 680.39it/s, now=None]\u001b[A\n",
      "chunk:  12%|█▏        | 255/2147 [00:00<00:03, 592.33it/s, now=None]\u001b[A\n",
      "chunk:  14%|█▍        | 306/2147 [00:00<00:03, 538.56it/s, now=None]\u001b[A\n",
      "chunk:  17%|█▋        | 357/2147 [00:00<00:04, 391.69it/s, now=None]\u001b[A\n",
      "chunk:  19%|█▉        | 408/2147 [00:00<00:04, 376.99it/s, now=None]\u001b[A\n",
      "chunk:  21%|██▏       | 459/2147 [00:01<00:04, 377.31it/s, now=None]\u001b[A\n",
      "chunk:  24%|██▍       | 510/2147 [00:01<00:04, 374.09it/s, now=None]\u001b[A\n",
      "chunk:  26%|██▌       | 561/2147 [00:01<00:04, 354.03it/s, now=None]\u001b[A\n",
      "chunk:  29%|██▊       | 612/2147 [00:01<00:04, 380.63it/s, now=None]\u001b[A\n",
      "chunk:  32%|███▏      | 690/2147 [00:01<00:03, 449.56it/s, now=None]\u001b[A\n",
      "chunk:  34%|███▍      | 740/2147 [00:01<00:03, 440.66it/s, now=None]\u001b[A\n",
      "chunk:  37%|███▋      | 788/2147 [00:01<00:03, 369.72it/s, now=None]\u001b[A\n",
      "chunk:  40%|████      | 867/2147 [00:02<00:03, 323.52it/s, now=None]\u001b[A\n",
      "chunk:  43%|████▎     | 918/2147 [00:02<00:03, 316.53it/s, now=None]\u001b[A\n",
      "chunk:  45%|████▌     | 969/2147 [00:02<00:04, 294.33it/s, now=None]\u001b[A\n",
      "chunk:  48%|████▊     | 1020/2147 [00:02<00:04, 275.21it/s, now=None]\u001b[A\n",
      "chunk:  50%|████▉     | 1071/2147 [00:02<00:04, 268.74it/s, now=None]\u001b[A\n",
      "chunk:  52%|█████▏    | 1122/2147 [00:03<00:03, 299.15it/s, now=None]\u001b[A\n",
      "chunk:  57%|█████▋    | 1224/2147 [00:03<00:02, 342.45it/s, now=None]\u001b[A\n",
      "chunk:  61%|██████    | 1306/2147 [00:03<00:02, 414.83it/s, now=None]\u001b[A\n",
      "chunk:  63%|██████▎   | 1358/2147 [00:03<00:01, 396.49it/s, now=None]\u001b[A\n",
      "chunk:  65%|██████▌   | 1405/2147 [00:03<00:01, 409.13it/s, now=None]\u001b[A\n",
      "chunk:  68%|██████▊   | 1451/2147 [00:03<00:01, 421.19it/s, now=None]\u001b[A\n",
      "chunk:  70%|███████   | 1511/2147 [00:03<00:01, 462.46it/s, now=None]\u001b[A\n",
      "chunk:  74%|███████▎  | 1581/2147 [00:04<00:01, 408.03it/s, now=None]\u001b[A\n",
      "chunk:  76%|███████▌  | 1632/2147 [00:04<00:01, 419.27it/s, now=None]\u001b[A\n",
      "chunk:  81%|████████  | 1734/2147 [00:04<00:00, 444.55it/s, now=None]\u001b[A\n",
      "chunk:  83%|████████▎ | 1785/2147 [00:04<00:00, 456.44it/s, now=None]\u001b[A\n",
      "chunk:  86%|████████▌ | 1836/2147 [00:04<00:00, 469.54it/s, now=None]\u001b[A\n",
      "chunk:  90%|████████▉ | 1925/2147 [00:04<00:00, 546.93it/s, now=None]\u001b[A\n",
      "chunk:  93%|█████████▎| 1989/2147 [00:04<00:00, 413.47it/s, now=None]\u001b[A\n",
      "chunk:  97%|█████████▋| 2091/2147 [00:05<00:00, 442.75it/s, now=None]\u001b[A\n",
      "chunk:   1%|▏         | 29/2121 [7:24:12<534:03:50, 919.04s/it, now=None]"
     ]
    },
    {
     "name": "stdout",
     "output_type": "stream",
     "text": [
      "MoviePy - Done.\n"
     ]
    },
    {
     "name": "stderr",
     "output_type": "stream",
     "text": [
      "chunk:   1%|▏         | 29/2121 [7:24:13<534:04:57, 919.07s/it, now=None]\n",
      "chunk:   0%|          | 0/1287 [00:00<?, ?it/s, now=None]\u001b[A"
     ]
    },
    {
     "name": "stdout",
     "output_type": "stream",
     "text": [
      "MoviePy - Writing audio in /home/jupyter/datasets/amigos/audio/Exp1_P34_audio/P34_13_audio.wav\n"
     ]
    },
    {
     "name": "stderr",
     "output_type": "stream",
     "text": [
      "\n",
      "chunk:  12%|█▏        | 153/1287 [00:00<00:01, 588.22it/s, now=None]\u001b[A\n",
      "chunk:  16%|█▌        | 204/1287 [00:00<00:02, 370.45it/s, now=None]\u001b[A\n",
      "chunk:  20%|██        | 263/1287 [00:00<00:02, 416.91it/s, now=None]\u001b[A\n",
      "chunk:  24%|██▍       | 306/1287 [00:00<00:02, 348.96it/s, now=None]\u001b[A\n",
      "chunk:  28%|██▊       | 357/1287 [00:00<00:02, 337.26it/s, now=None]\u001b[A\n",
      "chunk:  32%|███▏      | 408/1287 [00:01<00:02, 351.80it/s, now=None]\u001b[A\n",
      "chunk:  40%|███▉      | 510/1287 [00:01<00:01, 395.32it/s, now=None]\u001b[A\n",
      "chunk:  44%|████▎     | 561/1287 [00:01<00:01, 381.52it/s, now=None]\u001b[A\n",
      "chunk:  48%|████▊     | 612/1287 [00:01<00:01, 377.52it/s, now=None]\u001b[A\n",
      "chunk:  52%|█████▏    | 663/1287 [00:01<00:01, 375.76it/s, now=None]\u001b[A\n",
      "chunk:  55%|█████▌    | 714/1287 [00:01<00:01, 307.26it/s, now=None]\u001b[A\n",
      "chunk:  59%|█████▉    | 765/1287 [00:02<00:01, 322.52it/s, now=None]\u001b[A\n",
      "chunk:  63%|██████▎   | 816/1287 [00:02<00:01, 341.03it/s, now=None]\u001b[A\n",
      "chunk:  67%|██████▋   | 867/1287 [00:02<00:01, 328.68it/s, now=None]\u001b[A\n",
      "chunk:  71%|███████▏  | 918/1287 [00:02<00:01, 318.31it/s, now=None]\u001b[A\n",
      "chunk:  75%|███████▌  | 969/1287 [00:02<00:01, 290.59it/s, now=None]\u001b[A\n",
      "chunk:  79%|███████▉  | 1020/1287 [00:02<00:00, 306.04it/s, now=None]\u001b[A\n",
      "chunk:  83%|████████▎ | 1071/1287 [00:03<00:00, 237.81it/s, now=None]\u001b[A\n",
      "chunk:  87%|████████▋ | 1122/1287 [00:03<00:00, 256.29it/s, now=None]\u001b[A\n",
      "chunk:  91%|█████████ | 1173/1287 [00:03<00:00, 264.18it/s, now=None]\u001b[A\n",
      "chunk:  95%|█████████▌| 1224/1287 [00:03<00:00, 266.63it/s, now=None]\u001b[A\n",
      "chunk:   1%|▏         | 29/2121 [7:24:16<534:09:30, 919.20s/it, now=None]"
     ]
    },
    {
     "name": "stdout",
     "output_type": "stream",
     "text": [
      "MoviePy - Done.\n"
     ]
    },
    {
     "name": "stderr",
     "output_type": "stream",
     "text": [
      "chunk:   1%|▏         | 29/2121 [7:24:18<534:10:54, 919.24s/it, now=None]\n",
      "chunk:   0%|          | 0/2722 [00:00<?, ?it/s, now=None]\u001b[A\n",
      "chunk:   4%|▎         | 102/2722 [00:00<00:02, 931.47it/s, now=None]\u001b[A"
     ]
    },
    {
     "name": "stdout",
     "output_type": "stream",
     "text": [
      "MoviePy - Writing audio in /home/jupyter/datasets/amigos/audio/Exp1_P34_audio/P34_138_audio.wav\n"
     ]
    },
    {
     "name": "stderr",
     "output_type": "stream",
     "text": [
      "\n",
      "chunk:   7%|▋         | 204/2722 [00:00<00:04, 612.99it/s, now=None]\u001b[A\n",
      "chunk:   9%|▉         | 255/2722 [00:00<00:05, 437.96it/s, now=None]\u001b[A\n",
      "chunk:  11%|█         | 306/2722 [00:00<00:05, 420.73it/s, now=None]\u001b[A\n",
      "chunk:  13%|█▎        | 357/2722 [00:00<00:07, 316.50it/s, now=None]\u001b[A\n",
      "chunk:  15%|█▍        | 408/2722 [00:01<00:06, 341.36it/s, now=None]\u001b[A\n",
      "chunk:  17%|█▋        | 459/2722 [00:01<00:07, 309.42it/s, now=None]\u001b[A\n",
      "chunk:  19%|█▊        | 510/2722 [00:01<00:07, 297.13it/s, now=None]\u001b[A\n",
      "chunk:  21%|██        | 561/2722 [00:01<00:07, 271.90it/s, now=None]\u001b[A\n",
      "chunk:  22%|██▏       | 612/2722 [00:01<00:06, 311.98it/s, now=None]\u001b[A\n",
      "chunk:  26%|██▌       | 714/2722 [00:02<00:05, 360.97it/s, now=None]\u001b[A\n",
      "chunk:  30%|██▉       | 816/2722 [00:02<00:04, 433.41it/s, now=None]\u001b[A\n",
      "chunk:  32%|███▏      | 869/2722 [00:02<00:05, 350.21it/s, now=None]\u001b[A\n",
      "chunk:  34%|███▎      | 918/2722 [00:02<00:05, 329.48it/s, now=None]\u001b[A\n",
      "chunk:  36%|███▌      | 969/2722 [00:02<00:05, 319.04it/s, now=None]\u001b[A\n",
      "chunk:  37%|███▋      | 1020/2722 [00:02<00:05, 333.25it/s, now=None]\u001b[A\n",
      "chunk:  41%|████      | 1122/2722 [00:03<00:04, 359.02it/s, now=None]\u001b[A\n",
      "chunk:  43%|████▎     | 1173/2722 [00:03<00:04, 348.97it/s, now=None]\u001b[A\n",
      "chunk:  45%|████▍     | 1224/2722 [00:03<00:04, 368.62it/s, now=None]\u001b[A\n",
      "chunk:  47%|████▋     | 1275/2722 [00:03<00:03, 364.20it/s, now=None]\u001b[A\n",
      "chunk:  49%|████▊     | 1326/2722 [00:03<00:04, 348.62it/s, now=None]\u001b[A\n",
      "chunk:  51%|█████     | 1377/2722 [00:03<00:03, 367.62it/s, now=None]\u001b[A\n",
      "chunk:  54%|█████▎    | 1463/2722 [00:03<00:02, 443.70it/s, now=None]\u001b[A\n",
      "chunk:  56%|█████▌    | 1530/2722 [00:04<00:02, 416.00it/s, now=None]\u001b[A\n",
      "chunk:  60%|█████▉    | 1620/2722 [00:04<00:02, 495.80it/s, now=None]\u001b[A\n",
      "chunk:  62%|██████▏   | 1681/2722 [00:04<00:02, 511.07it/s, now=None]\u001b[A\n",
      "chunk:  64%|██████▍   | 1740/2722 [00:04<00:02, 450.19it/s, now=None]\u001b[A\n",
      "chunk:  66%|██████▌   | 1792/2722 [00:04<00:02, 366.58it/s, now=None]\u001b[A\n",
      "chunk:  67%|██████▋   | 1836/2722 [00:04<00:02, 360.81it/s, now=None]\u001b[A\n",
      "chunk:  71%|███████   | 1938/2722 [00:04<00:02, 390.38it/s, now=None]\u001b[A\n",
      "chunk:  73%|███████▎  | 1989/2722 [00:05<00:02, 307.56it/s, now=None]\u001b[A\n",
      "chunk:  75%|███████▍  | 2040/2722 [00:05<00:03, 219.86it/s, now=None]\u001b[A\n",
      "chunk:  77%|███████▋  | 2091/2722 [00:05<00:03, 209.17it/s, now=None]\u001b[A\n",
      "chunk:  79%|███████▊  | 2142/2722 [00:06<00:02, 220.25it/s, now=None]\u001b[A\n",
      "chunk:  81%|████████  | 2193/2722 [00:06<00:02, 257.82it/s, now=None]\u001b[A\n",
      "chunk:  84%|████████▍ | 2295/2722 [00:06<00:01, 303.79it/s, now=None]\u001b[A\n",
      "chunk:  86%|████████▌ | 2346/2722 [00:06<00:01, 323.88it/s, now=None]\u001b[A\n",
      "chunk:  88%|████████▊ | 2397/2722 [00:06<00:00, 349.70it/s, now=None]\u001b[A\n",
      "chunk:  90%|████████▉ | 2448/2722 [00:06<00:00, 326.99it/s, now=None]\u001b[A\n",
      "chunk:  92%|█████████▏| 2499/2722 [00:06<00:00, 323.32it/s, now=None]\u001b[A\n",
      "chunk:  94%|█████████▎| 2550/2722 [00:07<00:00, 326.51it/s, now=None]\u001b[A\n",
      "chunk:  97%|█████████▋| 2652/2722 [00:07<00:00, 342.29it/s, now=None]\u001b[A\n",
      "chunk:   1%|▏         | 29/2121 [7:24:25<534:19:53, 919.50s/it, now=None]"
     ]
    },
    {
     "name": "stdout",
     "output_type": "stream",
     "text": [
      "MoviePy - Done.\n"
     ]
    },
    {
     "name": "stderr",
     "output_type": "stream",
     "text": [
      "chunk:   1%|▏         | 29/2121 [7:24:26<534:20:58, 919.53s/it, now=None]\n",
      "chunk:   0%|          | 0/1859 [00:00<?, ?it/s, now=None]\u001b[A\n",
      "chunk:   5%|▌         | 102/1859 [00:00<00:02, 844.16it/s, now=None]\u001b[A"
     ]
    },
    {
     "name": "stdout",
     "output_type": "stream",
     "text": [
      "MoviePy - Writing audio in /home/jupyter/datasets/amigos/audio/Exp1_P34_audio/P34_18_audio.wav\n"
     ]
    },
    {
     "name": "stderr",
     "output_type": "stream",
     "text": [
      "\n",
      "chunk:   8%|▊         | 153/1859 [00:00<00:02, 607.03it/s, now=None]\u001b[A\n",
      "chunk:  11%|█         | 204/1859 [00:00<00:03, 515.25it/s, now=None]\u001b[A\n",
      "chunk:  14%|█▎        | 255/1859 [00:00<00:03, 469.64it/s, now=None]\u001b[A\n",
      "chunk:  16%|█▋        | 306/1859 [00:00<00:03, 474.98it/s, now=None]\u001b[A\n",
      "chunk:  19%|█▉        | 357/1859 [00:00<00:04, 351.63it/s, now=None]\u001b[A\n",
      "chunk:  22%|██▏       | 408/1859 [00:01<00:04, 343.55it/s, now=None]\u001b[A\n",
      "chunk:  25%|██▍       | 459/1859 [00:01<00:03, 357.49it/s, now=None]\u001b[A\n",
      "chunk:  30%|███       | 561/1859 [00:01<00:03, 409.74it/s, now=None]\u001b[A\n",
      "chunk:  33%|███▎      | 612/1859 [00:01<00:03, 394.42it/s, now=None]\u001b[A\n",
      "chunk:  36%|███▌      | 663/1859 [00:01<00:03, 388.52it/s, now=None]\u001b[A\n",
      "chunk:  41%|████      | 764/1859 [00:01<00:02, 476.38it/s, now=None]\u001b[A\n",
      "chunk:  44%|████▍     | 823/1859 [00:01<00:02, 412.38it/s, now=None]\u001b[A\n",
      "chunk:  47%|████▋     | 874/1859 [00:01<00:02, 417.35it/s, now=None]\u001b[A\n",
      "chunk:  50%|████▉     | 923/1859 [00:02<00:02, 392.08it/s, now=None]\u001b[A\n",
      "chunk:  52%|█████▏    | 969/1859 [00:02<00:02, 352.58it/s, now=None]\u001b[A\n",
      "chunk:  55%|█████▍    | 1020/1859 [00:02<00:03, 256.51it/s, now=None]\u001b[A\n",
      "chunk:  58%|█████▊    | 1071/1859 [00:02<00:02, 287.30it/s, now=None]\u001b[A\n",
      "chunk:  60%|██████    | 1122/1859 [00:02<00:02, 280.70it/s, now=None]\u001b[A\n",
      "chunk:  63%|██████▎   | 1173/1859 [00:03<00:02, 308.26it/s, now=None]\u001b[A\n",
      "chunk:  67%|██████▋   | 1244/1859 [00:03<00:01, 371.27it/s, now=None]\u001b[A\n",
      "chunk:  69%|██████▉   | 1290/1859 [00:03<00:01, 328.91it/s, now=None]\u001b[A\n",
      "chunk:  72%|███████▏  | 1330/1859 [00:03<00:01, 305.16it/s, now=None]\u001b[A\n",
      "chunk:  74%|███████▍  | 1377/1859 [00:03<00:01, 340.07it/s, now=None]\u001b[A\n",
      "chunk:  77%|███████▋  | 1428/1859 [00:03<00:01, 314.79it/s, now=None]\u001b[A\n",
      "chunk:  80%|███████▉  | 1479/1859 [00:03<00:01, 318.34it/s, now=None]\u001b[A\n",
      "chunk:  85%|████████▌ | 1581/1859 [00:04<00:00, 370.20it/s, now=None]\u001b[A\n",
      "chunk:  91%|█████████ | 1683/1859 [00:04<00:00, 417.26it/s, now=None]\u001b[A\n",
      "chunk:  96%|█████████▌| 1785/1859 [00:04<00:00, 444.64it/s, now=None]\u001b[A\n",
      "chunk:   1%|▏         | 29/2121 [7:24:30<534:26:27, 919.69s/it, now=None]"
     ]
    },
    {
     "name": "stdout",
     "output_type": "stream",
     "text": [
      "MoviePy - Done.\n"
     ]
    },
    {
     "name": "stderr",
     "output_type": "stream",
     "text": [
      "chunk:   1%|▏         | 29/2121 [7:24:31<534:27:17, 919.71s/it, now=None]\n",
      "chunk:   0%|          | 0/2814 [00:00<?, ?it/s, now=None]\u001b[A\n",
      "chunk:   5%|▌         | 153/2814 [00:00<00:02, 899.13it/s, now=None]\u001b[A"
     ]
    },
    {
     "name": "stdout",
     "output_type": "stream",
     "text": [
      "MoviePy - Writing audio in /home/jupyter/datasets/amigos/audio/Exp1_P34_audio/P34_19_audio.wav\n"
     ]
    },
    {
     "name": "stderr",
     "output_type": "stream",
     "text": [
      "\n",
      "chunk:   7%|▋         | 204/2814 [00:00<00:05, 520.49it/s, now=None]\u001b[A\n",
      "chunk:   9%|▉         | 255/2814 [00:00<00:04, 512.84it/s, now=None]\u001b[A\n",
      "chunk:  11%|█         | 306/2814 [00:00<00:05, 465.22it/s, now=None]\u001b[A\n",
      "chunk:  13%|█▎        | 357/2814 [00:00<00:06, 365.37it/s, now=None]\u001b[A\n",
      "chunk:  14%|█▍        | 408/2814 [00:00<00:06, 344.73it/s, now=None]\u001b[A\n",
      "chunk:  18%|█▊        | 510/2814 [00:01<00:06, 346.66it/s, now=None]\u001b[A\n",
      "chunk:  20%|█▉        | 561/2814 [00:01<00:05, 382.94it/s, now=None]\u001b[A\n",
      "chunk:  22%|██▏       | 617/2814 [00:01<00:05, 423.06it/s, now=None]\u001b[A\n",
      "chunk:  25%|██▌       | 714/2814 [00:01<00:04, 460.26it/s, now=None]\u001b[A\n",
      "chunk:  27%|██▋       | 765/2814 [00:01<00:05, 409.15it/s, now=None]\u001b[A\n",
      "chunk:  31%|███       | 867/2814 [00:01<00:04, 479.18it/s, now=None]\u001b[A\n",
      "chunk:  33%|███▎      | 922/2814 [00:02<00:04, 382.15it/s, now=None]\u001b[A\n",
      "chunk:  35%|███▌      | 990/2814 [00:02<00:04, 439.89it/s, now=None]\u001b[A\n",
      "chunk:  38%|███▊      | 1071/2814 [00:02<00:03, 436.24it/s, now=None]\u001b[A\n",
      "chunk:  40%|███▉      | 1122/2814 [00:02<00:03, 445.31it/s, now=None]\u001b[A\n",
      "chunk:  42%|████▏     | 1173/2814 [00:02<00:04, 364.66it/s, now=None]\u001b[A\n",
      "chunk:  43%|████▎     | 1224/2814 [00:02<00:04, 397.29it/s, now=None]\u001b[A\n",
      "chunk:  45%|████▌     | 1275/2814 [00:02<00:03, 390.02it/s, now=None]\u001b[A\n",
      "chunk:  47%|████▋     | 1326/2814 [00:03<00:03, 374.52it/s, now=None]\u001b[A\n",
      "chunk:  49%|████▉     | 1377/2814 [00:03<00:03, 394.52it/s, now=None]\u001b[A\n",
      "chunk:  51%|█████     | 1428/2814 [00:03<00:03, 364.30it/s, now=None]\u001b[A\n",
      "chunk:  53%|█████▎    | 1479/2814 [00:03<00:03, 387.46it/s, now=None]\u001b[A\n",
      "chunk:  54%|█████▍    | 1530/2814 [00:03<00:03, 349.62it/s, now=None]\u001b[A\n",
      "chunk:  56%|█████▌    | 1581/2814 [00:03<00:03, 348.73it/s, now=None]\u001b[A\n",
      "chunk:  58%|█████▊    | 1632/2814 [00:03<00:03, 337.19it/s, now=None]\u001b[A\n",
      "chunk:  60%|█████▉    | 1683/2814 [00:04<00:03, 311.31it/s, now=None]\u001b[A\n",
      "chunk:  62%|██████▏   | 1734/2814 [00:04<00:03, 349.70it/s, now=None]\u001b[A\n",
      "chunk:  63%|██████▎   | 1785/2814 [00:04<00:02, 352.70it/s, now=None]\u001b[A\n",
      "chunk:  65%|██████▌   | 1836/2814 [00:04<00:02, 352.65it/s, now=None]\u001b[A\n",
      "chunk:  67%|██████▋   | 1887/2814 [00:04<00:02, 372.51it/s, now=None]\u001b[A\n",
      "chunk:  69%|██████▉   | 1938/2814 [00:04<00:02, 404.13it/s, now=None]\u001b[A\n",
      "chunk:  71%|███████   | 1989/2814 [00:04<00:01, 422.50it/s, now=None]\u001b[A\n",
      "chunk:  72%|███████▏  | 2040/2814 [00:05<00:01, 443.95it/s, now=None]\u001b[A\n",
      "chunk:  74%|███████▍  | 2091/2814 [00:05<00:01, 385.58it/s, now=None]\u001b[A\n",
      "chunk:  76%|███████▌  | 2142/2814 [00:05<00:01, 378.86it/s, now=None]\u001b[A\n",
      "chunk:  78%|███████▊  | 2193/2814 [00:05<00:01, 365.70it/s, now=None]\u001b[A\n",
      "chunk:  80%|███████▉  | 2244/2814 [00:05<00:01, 392.03it/s, now=None]\u001b[A\n",
      "chunk:  83%|████████▎ | 2346/2814 [00:05<00:01, 383.67it/s, now=None]\u001b[A\n",
      "chunk:  85%|████████▌ | 2397/2814 [00:06<00:01, 373.87it/s, now=None]\u001b[A\n",
      "chunk:  87%|████████▋ | 2448/2814 [00:06<00:01, 349.49it/s, now=None]\u001b[A\n",
      "chunk:  89%|████████▉ | 2499/2814 [00:06<00:00, 373.69it/s, now=None]\u001b[A\n",
      "chunk:  91%|█████████ | 2550/2814 [00:06<00:00, 382.74it/s, now=None]\u001b[A\n",
      "chunk:  92%|█████████▏| 2601/2814 [00:06<00:00, 374.17it/s, now=None]\u001b[A\n",
      "chunk:  94%|█████████▍| 2652/2814 [00:06<00:00, 368.45it/s, now=None]\u001b[A\n",
      "chunk:  96%|█████████▌| 2703/2814 [00:06<00:00, 336.80it/s, now=None]\u001b[A\n",
      "chunk:  98%|█████████▊| 2754/2814 [00:07<00:00, 220.07it/s, now=None]\u001b[A\n",
      "chunk:   1%|▏         | 29/2121 [7:24:39<534:36:10, 919.97s/it, now=None]"
     ]
    },
    {
     "name": "stdout",
     "output_type": "stream",
     "text": [
      "MoviePy - Done.\n"
     ]
    },
    {
     "name": "stderr",
     "output_type": "stream",
     "text": [
      "chunk:   1%|▏         | 29/2121 [7:24:39<534:36:55, 919.99s/it, now=None]\n",
      "chunk:   0%|          | 0/1475 [00:00<?, ?it/s, now=None]\u001b[A\n",
      "chunk:  10%|█         | 153/1475 [00:00<00:01, 1201.57it/s, now=None]\u001b[A"
     ]
    },
    {
     "name": "stdout",
     "output_type": "stream",
     "text": [
      "MoviePy - Writing audio in /home/jupyter/datasets/amigos/audio/Exp1_P34_audio/P34_20_audio.wav\n"
     ]
    },
    {
     "name": "stderr",
     "output_type": "stream",
     "text": [
      "\n",
      "chunk:  14%|█▍        | 204/1475 [00:00<00:01, 813.37it/s, now=None] \u001b[A\n",
      "chunk:  21%|██        | 306/1475 [00:00<00:01, 743.53it/s, now=None]\u001b[A\n",
      "chunk:  24%|██▍       | 357/1475 [00:00<00:01, 575.93it/s, now=None]\u001b[A\n",
      "chunk:  31%|███       | 459/1475 [00:00<00:01, 559.67it/s, now=None]\u001b[A\n",
      "chunk:  35%|███▍      | 510/1475 [00:00<00:01, 511.16it/s, now=None]\u001b[A\n",
      "chunk:  41%|████▏     | 612/1475 [00:00<00:01, 569.35it/s, now=None]\u001b[A\n",
      "chunk:  48%|████▊     | 714/1475 [00:01<00:01, 560.29it/s, now=None]\u001b[A\n",
      "chunk:  55%|█████▌    | 816/1475 [00:01<00:01, 592.84it/s, now=None]\u001b[A\n",
      "chunk:  61%|██████    | 900/1475 [00:01<00:00, 650.22it/s, now=None]\u001b[A\n",
      "chunk:  66%|██████▌   | 967/1475 [00:01<00:00, 609.41it/s, now=None]\u001b[A\n",
      "chunk:  70%|██████▉   | 1030/1475 [00:01<00:01, 364.50it/s, now=None]\u001b[A\n",
      "chunk:  73%|███████▎  | 1080/1475 [00:02<00:01, 360.42it/s, now=None]\u001b[A\n",
      "chunk:  76%|███████▋  | 1126/1475 [00:02<00:00, 362.48it/s, now=None]\u001b[A\n",
      "chunk:  80%|███████▉  | 1173/1475 [00:02<00:00, 353.13it/s, now=None]\u001b[A\n",
      "chunk:  86%|████████▋ | 1275/1475 [00:02<00:00, 412.16it/s, now=None]\u001b[A\n",
      "chunk:  90%|████████▉ | 1326/1475 [00:02<00:00, 419.73it/s, now=None]\u001b[A\n",
      "chunk:  93%|█████████▎| 1377/1475 [00:02<00:00, 389.42it/s, now=None]\u001b[A\n",
      "chunk:  97%|█████████▋| 1428/1475 [00:02<00:00, 383.33it/s, now=None]\u001b[A\n",
      "chunk:   1%|▏         | 29/2121 [7:24:42<534:40:23, 920.09s/it, now=None]"
     ]
    },
    {
     "name": "stdout",
     "output_type": "stream",
     "text": [
      "MoviePy - Done.\n"
     ]
    },
    {
     "name": "stderr",
     "output_type": "stream",
     "text": [
      "chunk:   1%|▏         | 29/2121 [7:24:43<534:41:15, 920.11s/it, now=None]\n",
      "chunk:   0%|          | 0/2494 [00:00<?, ?it/s, now=None]\u001b[A\n",
      "chunk:   6%|▌         | 153/2494 [00:00<00:02, 1050.48it/s, now=None]\u001b[A"
     ]
    },
    {
     "name": "stdout",
     "output_type": "stream",
     "text": [
      "MoviePy - Writing audio in /home/jupyter/datasets/amigos/audio/Exp1_P34_audio/P34_23_audio.wav\n"
     ]
    },
    {
     "name": "stderr",
     "output_type": "stream",
     "text": [
      "\n",
      "chunk:   8%|▊         | 204/2494 [00:00<00:03, 684.31it/s, now=None] \u001b[A\n",
      "chunk:  10%|█         | 255/2494 [00:00<00:04, 487.18it/s, now=None]\u001b[A\n",
      "chunk:  12%|█▏        | 306/2494 [00:00<00:05, 378.83it/s, now=None]\u001b[A\n",
      "chunk:  14%|█▍        | 357/2494 [00:00<00:05, 358.20it/s, now=None]\u001b[A\n",
      "chunk:  18%|█▊        | 459/2494 [00:01<00:05, 395.48it/s, now=None]\u001b[A\n",
      "chunk:  22%|██▏       | 561/2494 [00:01<00:04, 398.40it/s, now=None]\u001b[A\n",
      "chunk:  25%|██▍       | 612/2494 [00:01<00:05, 369.18it/s, now=None]\u001b[A\n",
      "chunk:  29%|██▊       | 714/2494 [00:01<00:04, 391.82it/s, now=None]\u001b[A\n",
      "chunk:  31%|███       | 765/2494 [00:01<00:04, 360.29it/s, now=None]\u001b[A\n",
      "chunk:  35%|███▍      | 865/2494 [00:01<00:03, 445.81it/s, now=None]\u001b[A\n",
      "chunk:  37%|███▋      | 921/2494 [00:02<00:04, 342.23it/s, now=None]\u001b[A\n",
      "chunk:  39%|███▉      | 969/2494 [00:02<00:04, 352.83it/s, now=None]\u001b[A\n",
      "chunk:  41%|████      | 1020/2494 [00:02<00:04, 332.24it/s, now=None]\u001b[A\n",
      "chunk:  43%|████▎     | 1071/2494 [00:02<00:04, 288.04it/s, now=None]\u001b[A\n",
      "chunk:  45%|████▍     | 1122/2494 [00:02<00:04, 298.40it/s, now=None]\u001b[A\n",
      "chunk:  47%|████▋     | 1173/2494 [00:03<00:04, 265.45it/s, now=None]\u001b[A\n",
      "chunk:  51%|█████     | 1275/2494 [00:03<00:03, 313.10it/s, now=None]\u001b[A\n",
      "chunk:  53%|█████▎    | 1326/2494 [00:03<00:03, 311.97it/s, now=None]\u001b[A\n",
      "chunk:  55%|█████▌    | 1377/2494 [00:03<00:04, 267.17it/s, now=None]\u001b[A\n",
      "chunk:  57%|█████▋    | 1428/2494 [00:03<00:04, 260.02it/s, now=None]\u001b[A\n",
      "chunk:  59%|█████▉    | 1479/2494 [00:04<00:03, 282.18it/s, now=None]\u001b[A\n",
      "chunk:  61%|██████▏   | 1530/2494 [00:04<00:03, 306.55it/s, now=None]\u001b[A\n",
      "chunk:  65%|██████▌   | 1632/2494 [00:04<00:02, 376.17it/s, now=None]\u001b[A\n",
      "chunk:  70%|██████▉   | 1734/2494 [00:04<00:01, 395.68it/s, now=None]\u001b[A\n",
      "chunk:  72%|███████▏  | 1785/2494 [00:04<00:01, 383.65it/s, now=None]\u001b[A\n",
      "chunk:  74%|███████▎  | 1836/2494 [00:04<00:01, 383.54it/s, now=None]\u001b[A\n",
      "chunk:  76%|███████▌  | 1887/2494 [00:04<00:01, 361.93it/s, now=None]\u001b[A\n",
      "chunk:  80%|███████▉  | 1989/2494 [00:05<00:01, 344.88it/s, now=None]\u001b[A\n",
      "chunk:  82%|████████▏ | 2040/2494 [00:05<00:01, 288.80it/s, now=None]\u001b[A\n",
      "chunk:  84%|████████▍ | 2091/2494 [00:05<00:01, 289.42it/s, now=None]\u001b[A\n",
      "chunk:  86%|████████▌ | 2142/2494 [00:05<00:01, 297.08it/s, now=None]\u001b[A\n",
      "chunk:  88%|████████▊ | 2193/2494 [00:06<00:01, 300.09it/s, now=None]\u001b[A\n",
      "chunk:  92%|█████████▏| 2295/2494 [00:06<00:00, 350.13it/s, now=None]\u001b[A\n",
      "chunk:  96%|█████████▌| 2397/2494 [00:06<00:00, 374.27it/s, now=None]\u001b[A\n",
      "chunk:   1%|▏         | 29/2121 [7:24:49<534:49:10, 920.34s/it, now=None]"
     ]
    },
    {
     "name": "stdout",
     "output_type": "stream",
     "text": [
      "MoviePy - Done.\n"
     ]
    },
    {
     "name": "stderr",
     "output_type": "stream",
     "text": [
      "chunk:   1%|▏         | 29/2121 [7:24:50<534:50:06, 920.37s/it, now=None]\n",
      "chunk:   0%|          | 0/1713 [00:00<?, ?it/s, now=None]\u001b[A"
     ]
    },
    {
     "name": "stdout",
     "output_type": "stream",
     "text": [
      "MoviePy - Writing audio in /home/jupyter/datasets/amigos/audio/Exp1_P34_audio/P34_30_audio.wav\n"
     ]
    },
    {
     "name": "stderr",
     "output_type": "stream",
     "text": [
      "\n",
      "chunk:   9%|▉         | 153/1713 [00:00<00:01, 801.47it/s, now=None]\u001b[A\n",
      "chunk:  12%|█▏        | 204/1713 [00:00<00:02, 540.07it/s, now=None]\u001b[A\n",
      "chunk:  15%|█▍        | 255/1713 [00:00<00:02, 515.86it/s, now=None]\u001b[A\n",
      "chunk:  18%|█▊        | 306/1713 [00:00<00:03, 441.67it/s, now=None]\u001b[A\n",
      "chunk:  21%|██        | 357/1713 [00:00<00:03, 405.68it/s, now=None]\u001b[A\n",
      "chunk:  24%|██▍       | 408/1713 [00:00<00:03, 350.12it/s, now=None]\u001b[A\n",
      "chunk:  27%|██▋       | 459/1713 [00:01<00:03, 341.24it/s, now=None]\u001b[A\n",
      "chunk:  33%|███▎      | 561/1713 [00:01<00:03, 361.13it/s, now=None]\u001b[A\n",
      "chunk:  36%|███▌      | 612/1713 [00:01<00:03, 341.31it/s, now=None]\u001b[A\n",
      "chunk:  42%|████▏     | 714/1713 [00:01<00:02, 387.72it/s, now=None]\u001b[A\n",
      "chunk:  48%|████▊     | 816/1713 [00:01<00:02, 416.31it/s, now=None]\u001b[A\n",
      "chunk:  54%|█████▎    | 918/1713 [00:02<00:01, 471.51it/s, now=None]\u001b[A\n",
      "chunk:  60%|█████▉    | 1020/1713 [00:02<00:01, 491.57it/s, now=None]\u001b[A\n",
      "chunk:  65%|██████▌   | 1122/1713 [00:02<00:01, 491.99it/s, now=None]\u001b[A\n",
      "chunk:  71%|███████▏  | 1224/1713 [00:02<00:00, 539.56it/s, now=None]\u001b[A\n",
      "chunk:  75%|███████▍  | 1281/1713 [00:02<00:01, 421.30it/s, now=None]\u001b[A\n",
      "chunk:  80%|████████  | 1377/1713 [00:02<00:00, 474.64it/s, now=None]\u001b[A\n",
      "chunk:  84%|████████▎ | 1431/1713 [00:03<00:00, 450.81it/s, now=None]\u001b[A\n",
      "chunk:  86%|████████▋ | 1481/1713 [00:03<00:00, 435.02it/s, now=None]\u001b[A\n",
      "chunk:  92%|█████████▏| 1573/1713 [00:03<00:00, 516.71it/s, now=None]\u001b[A\n",
      "chunk:  95%|█████████▌| 1634/1713 [00:03<00:00, 343.27it/s, now=None]\u001b[A\n",
      "chunk:   1%|▏         | 29/2121 [7:24:54<534:54:36, 920.50s/it, now=None]"
     ]
    },
    {
     "name": "stdout",
     "output_type": "stream",
     "text": [
      "MoviePy - Done.\n"
     ]
    },
    {
     "name": "stderr",
     "output_type": "stream",
     "text": [
      "chunk:   1%|▏         | 29/2121 [7:24:55<534:55:30, 920.52s/it, now=None]\n",
      "chunk:   0%|          | 0/3463 [00:00<?, ?it/s, now=None]\u001b[A\n",
      "chunk:   3%|▎         | 102/3463 [00:00<00:03, 888.43it/s, now=None]\u001b[A"
     ]
    },
    {
     "name": "stdout",
     "output_type": "stream",
     "text": [
      "MoviePy - Writing audio in /home/jupyter/datasets/amigos/audio/Exp1_P34_audio/P34_31_audio.wav\n"
     ]
    },
    {
     "name": "stderr",
     "output_type": "stream",
     "text": [
      "\n",
      "chunk:   4%|▍         | 153/3463 [00:00<00:06, 542.98it/s, now=None]\u001b[A\n",
      "chunk:   6%|▌         | 204/3463 [00:00<00:12, 270.61it/s, now=None]\u001b[A\n",
      "chunk:   7%|▋         | 255/3463 [00:01<00:13, 230.80it/s, now=None]\u001b[A\n",
      "chunk:   9%|▉         | 306/3463 [00:01<00:15, 204.56it/s, now=None]\u001b[A\n",
      "chunk:  10%|█         | 357/3463 [00:01<00:16, 194.03it/s, now=None]\u001b[A\n",
      "chunk:  12%|█▏        | 408/3463 [00:01<00:14, 211.61it/s, now=None]\u001b[A\n",
      "chunk:  15%|█▍        | 510/3463 [00:01<00:11, 264.68it/s, now=None]\u001b[A\n",
      "chunk:  16%|█▌        | 561/3463 [00:02<00:11, 260.31it/s, now=None]\u001b[A\n",
      "chunk:  19%|█▉        | 663/3463 [00:02<00:08, 313.32it/s, now=None]\u001b[A\n",
      "chunk:  21%|██        | 714/3463 [00:02<00:07, 349.72it/s, now=None]\u001b[A\n",
      "chunk:  24%|██▎       | 816/3463 [00:02<00:06, 417.12it/s, now=None]\u001b[A\n",
      "chunk:  27%|██▋       | 918/3463 [00:02<00:05, 502.38it/s, now=None]\u001b[A\n",
      "chunk:  28%|██▊       | 984/3463 [00:02<00:04, 500.67it/s, now=None]\u001b[A\n",
      "chunk:  30%|███       | 1045/3463 [00:02<00:04, 523.37it/s, now=None]\u001b[A\n",
      "chunk:  32%|███▏      | 1106/3463 [00:03<00:04, 525.64it/s, now=None]\u001b[A\n",
      "chunk:  34%|███▎      | 1164/3463 [00:03<00:04, 494.45it/s, now=None]\u001b[A\n",
      "chunk:  35%|███▌      | 1224/3463 [00:03<00:05, 404.62it/s, now=None]\u001b[A\n",
      "chunk:  37%|███▋      | 1275/3463 [00:03<00:05, 372.91it/s, now=None]\u001b[A\n",
      "chunk:  38%|███▊      | 1326/3463 [00:03<00:05, 391.95it/s, now=None]\u001b[A\n",
      "chunk:  41%|████      | 1428/3463 [00:03<00:04, 449.08it/s, now=None]\u001b[A\n",
      "chunk:  43%|████▎     | 1479/3463 [00:03<00:04, 451.05it/s, now=None]\u001b[A\n",
      "chunk:  46%|████▌     | 1581/3463 [00:04<00:03, 502.78it/s, now=None]\u001b[A\n",
      "chunk:  47%|████▋     | 1636/3463 [00:04<00:04, 423.81it/s, now=None]\u001b[A\n",
      "chunk:  49%|████▊     | 1684/3463 [00:04<00:04, 396.16it/s, now=None]\u001b[A\n",
      "chunk:  50%|█████     | 1734/3463 [00:04<00:04, 421.87it/s, now=None]\u001b[A\n",
      "chunk:  52%|█████▏    | 1785/3463 [00:04<00:05, 315.27it/s, now=None]\u001b[A\n",
      "chunk:  54%|█████▍    | 1887/3463 [00:04<00:04, 367.68it/s, now=None]\u001b[A\n",
      "chunk:  56%|█████▌    | 1938/3463 [00:05<00:03, 384.11it/s, now=None]\u001b[A\n",
      "chunk:  58%|█████▊    | 1993/3463 [00:05<00:03, 422.29it/s, now=None]\u001b[A\n",
      "chunk:  60%|█████▉    | 2069/3463 [00:05<00:02, 487.10it/s, now=None]\u001b[A\n",
      "chunk:  62%|██████▏   | 2142/3463 [00:05<00:02, 460.21it/s, now=None]\u001b[A\n",
      "chunk:  63%|██████▎   | 2194/3463 [00:05<00:02, 473.80it/s, now=None]\u001b[A\n",
      "chunk:  66%|██████▋   | 2295/3463 [00:05<00:02, 513.23it/s, now=None]\u001b[A\n",
      "chunk:  68%|██████▊   | 2350/3463 [00:05<00:02, 496.43it/s, now=None]\u001b[A\n",
      "chunk:  71%|███████   | 2448/3463 [00:05<00:01, 510.77it/s, now=None]\u001b[A\n",
      "chunk:  72%|███████▏  | 2502/3463 [00:06<00:02, 397.50it/s, now=None]\u001b[A\n",
      "chunk:  74%|███████▎  | 2550/3463 [00:06<00:02, 373.90it/s, now=None]\u001b[A\n",
      "chunk:  75%|███████▌  | 2601/3463 [00:06<00:02, 305.59it/s, now=None]\u001b[A\n",
      "chunk:  77%|███████▋  | 2652/3463 [00:06<00:02, 305.71it/s, now=None]\u001b[A\n",
      "chunk:  78%|███████▊  | 2703/3463 [00:06<00:02, 284.11it/s, now=None]\u001b[A\n",
      "chunk:  80%|███████▉  | 2754/3463 [00:07<00:02, 303.32it/s, now=None]\u001b[A\n",
      "chunk:  82%|████████▏ | 2856/3463 [00:07<00:01, 328.87it/s, now=None]\u001b[A\n",
      "chunk:  84%|████████▍ | 2907/3463 [00:07<00:02, 264.20it/s, now=None]\u001b[A\n",
      "chunk:  85%|████████▌ | 2958/3463 [00:07<00:01, 279.95it/s, now=None]\u001b[A\n",
      "chunk:  87%|████████▋ | 3009/3463 [00:07<00:01, 319.03it/s, now=None]\u001b[A\n",
      "chunk:  88%|████████▊ | 3060/3463 [00:08<00:01, 316.04it/s, now=None]\u001b[A\n",
      "chunk:  90%|████████▉ | 3111/3463 [00:08<00:01, 322.10it/s, now=None]\u001b[A\n",
      "chunk:  91%|█████████▏| 3162/3463 [00:08<00:01, 292.50it/s, now=None]\u001b[A\n",
      "chunk:  93%|█████████▎| 3213/3463 [00:08<00:00, 264.24it/s, now=None]\u001b[A\n",
      "chunk:  94%|█████████▍| 3264/3463 [00:08<00:00, 222.40it/s, now=None]\u001b[A\n",
      "chunk:  96%|█████████▌| 3315/3463 [00:09<00:00, 196.21it/s, now=None]\u001b[A\n",
      "chunk:  97%|█████████▋| 3366/3463 [00:09<00:00, 208.40it/s, now=None]\u001b[A\n",
      "chunk:  99%|█████████▊| 3417/3463 [00:09<00:00, 240.71it/s, now=None]\u001b[A\n",
      "chunk:   1%|▏         | 29/2121 [7:25:04<535:07:07, 920.85s/it, now=None]"
     ]
    },
    {
     "name": "stdout",
     "output_type": "stream",
     "text": [
      "MoviePy - Done.\n"
     ]
    },
    {
     "name": "stderr",
     "output_type": "stream",
     "text": [
      "chunk:   1%|▏         | 29/2121 [7:25:05<535:07:54, 920.88s/it, now=None]\n",
      "chunk:   0%|          | 0/1488 [00:00<?, ?it/s, now=None]\u001b[A\n",
      "chunk:   7%|▋         | 102/1488 [00:00<00:02, 621.87it/s, now=None]\u001b[A"
     ]
    },
    {
     "name": "stdout",
     "output_type": "stream",
     "text": [
      "MoviePy - Writing audio in /home/jupyter/datasets/amigos/audio/Exp1_P34_audio/P34_34_audio.wav\n"
     ]
    },
    {
     "name": "stderr",
     "output_type": "stream",
     "text": [
      "\n",
      "chunk:  11%|█         | 160/1488 [00:00<00:02, 608.36it/s, now=None]\u001b[A\n",
      "chunk:  14%|█▎        | 204/1488 [00:00<00:03, 355.28it/s, now=None]\u001b[A\n",
      "chunk:  17%|█▋        | 255/1488 [00:00<00:04, 294.10it/s, now=None]\u001b[A\n",
      "chunk:  21%|██        | 306/1488 [00:00<00:04, 294.52it/s, now=None]\u001b[A\n",
      "chunk:  27%|██▋       | 408/1488 [00:01<00:03, 316.99it/s, now=None]\u001b[A\n",
      "chunk:  31%|███       | 459/1488 [00:01<00:02, 354.80it/s, now=None]\u001b[A\n",
      "chunk:  34%|███▍      | 510/1488 [00:01<00:03, 307.42it/s, now=None]\u001b[A\n",
      "chunk:  38%|███▊      | 561/1488 [00:01<00:03, 302.73it/s, now=None]\u001b[A\n",
      "chunk:  41%|████      | 612/1488 [00:01<00:02, 311.59it/s, now=None]\u001b[A\n",
      "chunk:  45%|████▍     | 663/1488 [00:01<00:02, 347.30it/s, now=None]\u001b[A\n",
      "chunk:  51%|█████▏    | 765/1488 [00:02<00:01, 397.99it/s, now=None]\u001b[A\n",
      "chunk:  55%|█████▍    | 816/1488 [00:02<00:01, 409.32it/s, now=None]\u001b[A\n",
      "chunk:  58%|█████▊    | 867/1488 [00:02<00:01, 430.09it/s, now=None]\u001b[A\n",
      "chunk:  62%|██████▏   | 918/1488 [00:02<00:01, 402.22it/s, now=None]\u001b[A\n",
      "chunk:  69%|██████▊   | 1020/1488 [00:02<00:01, 442.91it/s, now=None]\u001b[A\n",
      "chunk:  75%|███████▌  | 1122/1488 [00:02<00:00, 447.05it/s, now=None]\u001b[A\n",
      "chunk:  79%|███████▉  | 1173/1488 [00:03<00:00, 435.79it/s, now=None]\u001b[A\n",
      "chunk:  82%|████████▏ | 1224/1488 [00:03<00:00, 440.87it/s, now=None]\u001b[A\n",
      "chunk:  86%|████████▌ | 1275/1488 [00:03<00:00, 400.00it/s, now=None]\u001b[A\n",
      "chunk:  90%|████████▉ | 1335/1488 [00:03<00:00, 444.38it/s, now=None]\u001b[A\n",
      "chunk:  93%|█████████▎| 1382/1488 [00:03<00:00, 385.53it/s, now=None]\u001b[A\n",
      "chunk:  96%|█████████▌| 1428/1488 [00:03<00:00, 399.68it/s, now=None]\u001b[A\n",
      "chunk:   1%|▏         | 29/2121 [7:25:09<535:12:23, 921.01s/it, now=None]"
     ]
    },
    {
     "name": "stdout",
     "output_type": "stream",
     "text": [
      "MoviePy - Done.\n"
     ]
    },
    {
     "name": "stderr",
     "output_type": "stream",
     "text": [
      "chunk:   1%|▏         | 29/2121 [7:25:09<535:13:18, 921.03s/it, now=None]\n",
      "chunk:   0%|          | 0/1538 [00:00<?, ?it/s, now=None]\u001b[A\n",
      "chunk:   7%|▋         | 102/1538 [00:00<00:01, 863.78it/s, now=None]\u001b[A"
     ]
    },
    {
     "name": "stdout",
     "output_type": "stream",
     "text": [
      "MoviePy - Writing audio in /home/jupyter/datasets/amigos/audio/Exp1_P34_audio/P34_36_audio.wav\n"
     ]
    },
    {
     "name": "stderr",
     "output_type": "stream",
     "text": [
      "\n",
      "chunk:  10%|▉         | 153/1538 [00:00<00:02, 607.40it/s, now=None]\u001b[A\n",
      "chunk:  13%|█▎        | 203/1538 [00:00<00:02, 506.58it/s, now=None]\u001b[A\n",
      "chunk:  17%|█▋        | 254/1538 [00:00<00:03, 404.38it/s, now=None]\u001b[A\n",
      "chunk:  23%|██▎       | 354/1538 [00:00<00:02, 409.83it/s, now=None]\u001b[A\n",
      "chunk:  26%|██▋       | 405/1538 [00:00<00:02, 424.17it/s, now=None]\u001b[A\n",
      "chunk:  30%|██▉       | 455/1538 [00:01<00:03, 356.08it/s, now=None]\u001b[A\n",
      "chunk:  33%|███▎      | 506/1538 [00:01<00:02, 357.68it/s, now=None]\u001b[A\n",
      "chunk:  36%|███▌      | 556/1538 [00:01<00:02, 335.23it/s, now=None]\u001b[A\n",
      "chunk:  39%|███▉      | 606/1538 [00:01<00:02, 371.31it/s, now=None]\u001b[A\n",
      "chunk:  43%|████▎     | 657/1538 [00:01<00:02, 348.13it/s, now=None]\u001b[A\n",
      "chunk:  46%|████▌     | 707/1538 [00:01<00:02, 367.78it/s, now=None]\u001b[A\n",
      "chunk:  49%|████▉     | 758/1538 [00:01<00:02, 355.41it/s, now=None]\u001b[A\n",
      "chunk:  53%|█████▎    | 808/1538 [00:02<00:02, 312.22it/s, now=None]\u001b[A\n",
      "chunk:  56%|█████▌    | 858/1538 [00:02<00:02, 340.00it/s, now=None]\u001b[A\n",
      "chunk:  59%|█████▉    | 909/1538 [00:02<00:01, 366.69it/s, now=None]\u001b[A\n",
      "chunk:  62%|██████▏   | 959/1538 [00:02<00:01, 397.19it/s, now=None]\u001b[A\n",
      "chunk:  66%|██████▌   | 1010/1538 [00:02<00:01, 386.75it/s, now=None]\u001b[A\n",
      "chunk:  69%|██████▉   | 1060/1538 [00:02<00:01, 342.45it/s, now=None]\u001b[A\n",
      "chunk:  72%|███████▏  | 1111/1538 [00:02<00:01, 376.18it/s, now=None]\u001b[A\n",
      "chunk:  77%|███████▋  | 1180/1538 [00:03<00:00, 435.47it/s, now=None]\u001b[A\n",
      "chunk:  82%|████████▏ | 1262/1538 [00:03<00:00, 424.77it/s, now=None]\u001b[A\n",
      "chunk:  89%|████████▊ | 1363/1538 [00:03<00:00, 482.09it/s, now=None]\u001b[A\n",
      "chunk:  92%|█████████▏| 1417/1538 [00:03<00:00, 451.35it/s, now=None]\u001b[A\n",
      "chunk:  98%|█████████▊| 1514/1538 [00:03<00:00, 522.27it/s, now=None]\u001b[A\n",
      "chunk:   1%|▏         | 29/2121 [7:25:13<535:17:43, 921.16s/it, now=None]"
     ]
    },
    {
     "name": "stdout",
     "output_type": "stream",
     "text": [
      "MoviePy - Done.\n"
     ]
    },
    {
     "name": "stderr",
     "output_type": "stream",
     "text": [
      "chunk:   1%|▏         | 29/2121 [7:25:14<535:18:27, 921.18s/it, now=None]\n",
      "chunk:   0%|          | 0/2034 [00:00<?, ?it/s, now=None]\u001b[A\n",
      "chunk:   5%|▌         | 102/2034 [00:00<00:02, 804.42it/s, now=None]\u001b[A"
     ]
    },
    {
     "name": "stdout",
     "output_type": "stream",
     "text": [
      "MoviePy - Writing audio in /home/jupyter/datasets/amigos/audio/Exp1_P34_audio/P34_4_audio.wav\n"
     ]
    },
    {
     "name": "stderr",
     "output_type": "stream",
     "text": [
      "\n",
      "chunk:  10%|█         | 204/2034 [00:00<00:02, 779.30it/s, now=None]\u001b[A\n",
      "chunk:  13%|█▎        | 255/2034 [00:00<00:02, 608.31it/s, now=None]\u001b[A\n",
      "chunk:  15%|█▌        | 306/2034 [00:00<00:03, 557.39it/s, now=None]\u001b[A\n",
      "chunk:  18%|█▊        | 357/2034 [00:00<00:03, 535.87it/s, now=None]\u001b[A\n",
      "chunk:  23%|██▎       | 459/2034 [00:00<00:02, 561.51it/s, now=None]\u001b[A\n",
      "chunk:  25%|██▌       | 510/2034 [00:00<00:02, 520.32it/s, now=None]\u001b[A\n",
      "chunk:  30%|███       | 612/2034 [00:01<00:02, 476.46it/s, now=None]\u001b[A\n",
      "chunk:  33%|███▎      | 663/2034 [00:01<00:03, 438.13it/s, now=None]\u001b[A\n",
      "chunk:  38%|███▊      | 765/2034 [00:01<00:02, 488.42it/s, now=None]\u001b[A\n",
      "chunk:  43%|████▎     | 867/2034 [00:01<00:02, 487.55it/s, now=None]\u001b[A\n",
      "chunk:  48%|████▊     | 969/2034 [00:01<00:02, 481.30it/s, now=None]\u001b[A\n",
      "chunk:  50%|█████     | 1020/2034 [00:01<00:02, 483.00it/s, now=None]\u001b[A\n",
      "chunk:  53%|█████▎    | 1071/2034 [00:02<00:02, 442.88it/s, now=None]\u001b[A\n",
      "chunk:  56%|█████▋    | 1148/2034 [00:02<00:01, 507.33it/s, now=None]\u001b[A\n",
      "chunk:  60%|██████    | 1224/2034 [00:02<00:01, 523.98it/s, now=None]\u001b[A\n",
      "chunk:  63%|██████▎   | 1282/2034 [00:02<00:01, 539.52it/s, now=None]\u001b[A\n",
      "chunk:  66%|██████▌   | 1339/2034 [00:02<00:01, 465.81it/s, now=None]\u001b[A\n",
      "chunk:  68%|██████▊   | 1389/2034 [00:02<00:01, 336.65it/s, now=None]\u001b[A\n",
      "chunk:  70%|███████   | 1431/2034 [00:03<00:01, 303.79it/s, now=None]\u001b[A\n",
      "chunk:  73%|███████▎  | 1479/2034 [00:03<00:01, 324.87it/s, now=None]\u001b[A\n",
      "chunk:  75%|███████▌  | 1530/2034 [00:03<00:01, 290.65it/s, now=None]\u001b[A\n",
      "chunk:  80%|████████  | 1632/2034 [00:03<00:01, 330.76it/s, now=None]\u001b[A\n",
      "chunk:  83%|████████▎ | 1683/2034 [00:03<00:01, 330.56it/s, now=None]\u001b[A\n",
      "chunk:  85%|████████▌ | 1734/2034 [00:03<00:00, 339.14it/s, now=None]\u001b[A\n",
      "chunk:  88%|████████▊ | 1785/2034 [00:03<00:00, 356.93it/s, now=None]\u001b[A\n",
      "chunk:  93%|█████████▎| 1887/2034 [00:04<00:00, 384.08it/s, now=None]\u001b[A\n",
      "chunk:  98%|█████████▊| 1989/2034 [00:04<00:00, 410.30it/s, now=None]\u001b[A\n",
      "chunk:   1%|▏         | 29/2121 [7:25:18<535:23:48, 921.33s/it, now=None]"
     ]
    },
    {
     "name": "stdout",
     "output_type": "stream",
     "text": [
      "MoviePy - Done.\n"
     ]
    },
    {
     "name": "stderr",
     "output_type": "stream",
     "text": [
      "chunk:   1%|▏         | 29/2121 [7:25:19<535:24:25, 921.35s/it, now=None]\n",
      "chunk:   0%|          | 0/2510 [00:00<?, ?it/s, now=None]\u001b[A\n",
      "chunk:   6%|▌         | 153/2510 [00:00<00:02, 1028.98it/s, now=None]\u001b[A"
     ]
    },
    {
     "name": "stdout",
     "output_type": "stream",
     "text": [
      "MoviePy - Writing audio in /home/jupyter/datasets/amigos/audio/Exp1_P34_audio/P34_5_audio.wav\n"
     ]
    },
    {
     "name": "stderr",
     "output_type": "stream",
     "text": [
      "\n",
      "chunk:   8%|▊         | 204/2510 [00:00<00:04, 468.72it/s, now=None] \u001b[A\n",
      "chunk:  10%|█         | 255/2510 [00:00<00:05, 383.64it/s, now=None]\u001b[A\n",
      "chunk:  12%|█▏        | 306/2510 [00:00<00:08, 249.77it/s, now=None]\u001b[A\n",
      "chunk:  14%|█▍        | 357/2510 [00:01<00:10, 205.38it/s, now=None]\u001b[A\n",
      "chunk:  16%|█▋        | 408/2510 [00:01<00:09, 215.96it/s, now=None]\u001b[A\n",
      "chunk:  18%|█▊        | 459/2510 [00:01<00:08, 255.95it/s, now=None]\u001b[A\n",
      "chunk:  20%|██        | 510/2510 [00:01<00:07, 282.55it/s, now=None]\u001b[A\n",
      "chunk:  22%|██▏       | 561/2510 [00:01<00:06, 304.36it/s, now=None]\u001b[A\n",
      "chunk:  26%|██▋       | 663/2510 [00:02<00:05, 341.38it/s, now=None]\u001b[A\n",
      "chunk:  28%|██▊       | 714/2510 [00:02<00:05, 358.24it/s, now=None]\u001b[A\n",
      "chunk:  33%|███▎      | 816/2510 [00:02<00:04, 380.82it/s, now=None]\u001b[A\n",
      "chunk:  35%|███▍      | 867/2510 [00:02<00:05, 311.61it/s, now=None]\u001b[A\n",
      "chunk:  37%|███▋      | 918/2510 [00:02<00:06, 258.40it/s, now=None]\u001b[A\n",
      "chunk:  39%|███▊      | 969/2510 [00:03<00:05, 291.83it/s, now=None]\u001b[A\n",
      "chunk:  41%|████      | 1020/2510 [00:03<00:05, 282.40it/s, now=None]\u001b[A\n",
      "chunk:  43%|████▎     | 1071/2510 [00:03<00:04, 296.05it/s, now=None]\u001b[A\n",
      "chunk:  45%|████▍     | 1122/2510 [00:03<00:04, 283.27it/s, now=None]\u001b[A\n",
      "chunk:  47%|████▋     | 1173/2510 [00:03<00:04, 313.64it/s, now=None]\u001b[A\n",
      "chunk:  49%|████▉     | 1224/2510 [00:03<00:03, 339.10it/s, now=None]\u001b[A\n",
      "chunk:  53%|█████▎    | 1326/2510 [00:04<00:03, 391.24it/s, now=None]\u001b[A\n",
      "chunk:  55%|█████▍    | 1377/2510 [00:04<00:03, 344.24it/s, now=None]\u001b[A\n",
      "chunk:  57%|█████▋    | 1428/2510 [00:04<00:03, 311.13it/s, now=None]\u001b[A\n",
      "chunk:  59%|█████▉    | 1479/2510 [00:04<00:03, 340.12it/s, now=None]\u001b[A\n",
      "chunk:  63%|██████▎   | 1573/2510 [00:04<00:02, 420.59it/s, now=None]\u001b[A\n",
      "chunk:  65%|██████▍   | 1628/2510 [00:04<00:01, 443.67it/s, now=None]\u001b[A\n",
      "chunk:  67%|██████▋   | 1682/2510 [00:04<00:01, 443.53it/s, now=None]\u001b[A\n",
      "chunk:  69%|██████▉   | 1733/2510 [00:05<00:01, 440.85it/s, now=None]\u001b[A\n",
      "chunk:  71%|███████   | 1782/2510 [00:05<00:01, 431.41it/s, now=None]\u001b[A\n",
      "chunk:  73%|███████▎  | 1829/2510 [00:05<00:01, 407.58it/s, now=None]\u001b[A\n",
      "chunk:  75%|███████▍  | 1873/2510 [00:05<00:01, 406.11it/s, now=None]\u001b[A\n",
      "chunk:  77%|███████▋  | 1938/2510 [00:05<00:01, 375.85it/s, now=None]\u001b[A\n",
      "chunk:  81%|████████▏ | 2040/2510 [00:05<00:01, 375.51it/s, now=None]\u001b[A\n",
      "chunk:  83%|████████▎ | 2091/2510 [00:05<00:01, 403.89it/s, now=None]\u001b[A\n",
      "chunk:  85%|████████▌ | 2142/2510 [00:06<00:00, 381.60it/s, now=None]\u001b[A\n",
      "chunk:  89%|████████▉ | 2244/2510 [00:06<00:00, 392.20it/s, now=None]\u001b[A\n",
      "chunk:  93%|█████████▎| 2346/2510 [00:06<00:00, 468.09it/s, now=None]\u001b[A\n",
      "chunk:  98%|█████████▊| 2448/2510 [00:06<00:00, 491.44it/s, now=None]\u001b[A\n",
      "chunk:   1%|▏         | 29/2121 [7:25:25<535:32:29, 921.58s/it, now=None]"
     ]
    },
    {
     "name": "stdout",
     "output_type": "stream",
     "text": [
      "MoviePy - Done.\n"
     ]
    },
    {
     "name": "stderr",
     "output_type": "stream",
     "text": [
      "chunk:   1%|▏         | 29/2121 [7:25:26<535:33:07, 921.60s/it, now=None]\n",
      "chunk:   0%|          | 0/1451 [00:00<?, ?it/s, now=None]\u001b[A\n",
      "chunk:   7%|▋         | 102/1451 [00:00<00:02, 656.88it/s, now=None]\u001b[A"
     ]
    },
    {
     "name": "stdout",
     "output_type": "stream",
     "text": [
      "MoviePy - Writing audio in /home/jupyter/datasets/amigos/audio/Exp1_P34_audio/P34_58_audio.wav\n"
     ]
    },
    {
     "name": "stderr",
     "output_type": "stream",
     "text": [
      "\n",
      "chunk:  13%|█▎        | 185/1451 [00:00<00:01, 700.54it/s, now=None]\u001b[A\n",
      "chunk:  15%|█▌        | 224/1451 [00:00<00:03, 394.68it/s, now=None]\u001b[A\n",
      "chunk:  18%|█▊        | 257/1451 [00:00<00:04, 287.86it/s, now=None]\u001b[A\n",
      "chunk:  21%|██        | 306/1451 [00:00<00:03, 314.24it/s, now=None]\u001b[A\n",
      "chunk:  25%|██▍       | 357/1451 [00:01<00:03, 274.61it/s, now=None]\u001b[A\n",
      "chunk:  28%|██▊       | 408/1451 [00:01<00:03, 280.47it/s, now=None]\u001b[A\n",
      "chunk:  32%|███▏      | 459/1451 [00:01<00:03, 315.56it/s, now=None]\u001b[A\n",
      "chunk:  39%|███▊      | 561/1451 [00:01<00:02, 341.12it/s, now=None]\u001b[A\n",
      "chunk:  46%|████▌     | 663/1451 [00:01<00:01, 400.70it/s, now=None]\u001b[A\n",
      "chunk:  49%|████▉     | 714/1451 [00:01<00:02, 327.73it/s, now=None]\u001b[A\n",
      "chunk:  53%|█████▎    | 765/1451 [00:02<00:02, 316.67it/s, now=None]\u001b[A\n",
      "chunk:  56%|█████▌    | 816/1451 [00:02<00:01, 328.12it/s, now=None]\u001b[A\n",
      "chunk:  60%|█████▉    | 867/1451 [00:02<00:02, 289.99it/s, now=None]\u001b[A\n",
      "chunk:  63%|██████▎   | 918/1451 [00:02<00:01, 302.54it/s, now=None]\u001b[A\n",
      "chunk:  67%|██████▋   | 969/1451 [00:02<00:01, 278.35it/s, now=None]\u001b[A\n",
      "chunk:  70%|███████   | 1020/1451 [00:03<00:01, 258.82it/s, now=None]\u001b[A\n",
      "chunk:  74%|███████▍  | 1071/1451 [00:03<00:01, 265.03it/s, now=None]\u001b[A\n",
      "chunk:  77%|███████▋  | 1122/1451 [00:03<00:01, 301.98it/s, now=None]\u001b[A\n",
      "chunk:  84%|████████▍ | 1224/1451 [00:03<00:00, 343.66it/s, now=None]\u001b[A\n",
      "chunk:  88%|████████▊ | 1275/1451 [00:03<00:00, 328.94it/s, now=None]\u001b[A\n",
      "chunk:  93%|█████████▎| 1348/1451 [00:03<00:00, 393.85it/s, now=None]\u001b[A\n",
      "chunk:  98%|█████████▊| 1428/1451 [00:03<00:00, 446.29it/s, now=None]\u001b[A\n",
      "chunk:   1%|▏         | 29/2121 [7:25:30<535:37:54, 921.74s/it, now=None]"
     ]
    },
    {
     "name": "stdout",
     "output_type": "stream",
     "text": [
      "MoviePy - Done.\n"
     ]
    },
    {
     "name": "stderr",
     "output_type": "stream",
     "text": [
      "chunk:   1%|▏         | 29/2121 [7:25:31<535:39:02, 921.77s/it, now=None]\n",
      "chunk:   0%|          | 0/2285 [00:00<?, ?it/s, now=None]\u001b[A\n",
      "chunk:   4%|▍         | 102/2285 [00:00<00:02, 752.10it/s, now=None]\u001b[A"
     ]
    },
    {
     "name": "stdout",
     "output_type": "stream",
     "text": [
      "MoviePy - Writing audio in /home/jupyter/datasets/amigos/audio/Exp1_P34_audio/P34_80_audio.wav\n"
     ]
    },
    {
     "name": "stderr",
     "output_type": "stream",
     "text": [
      "\n",
      "chunk:   9%|▉         | 204/2285 [00:00<00:03, 549.34it/s, now=None]\u001b[A\n",
      "chunk:  11%|█         | 255/2285 [00:00<00:05, 357.20it/s, now=None]\u001b[A\n",
      "chunk:  13%|█▎        | 306/2285 [00:00<00:06, 312.82it/s, now=None]\u001b[A\n",
      "chunk:  16%|█▌        | 357/2285 [00:01<00:07, 269.06it/s, now=None]\u001b[A\n",
      "chunk:  18%|█▊        | 408/2285 [00:01<00:07, 266.40it/s, now=None]\u001b[A\n",
      "chunk:  20%|██        | 459/2285 [00:01<00:07, 246.16it/s, now=None]\u001b[A\n",
      "chunk:  22%|██▏       | 510/2285 [00:01<00:06, 272.38it/s, now=None]\u001b[A\n",
      "chunk:  25%|██▍       | 561/2285 [00:01<00:06, 266.75it/s, now=None]\u001b[A\n",
      "chunk:  27%|██▋       | 612/2285 [00:02<00:06, 267.73it/s, now=None]\u001b[A\n",
      "chunk:  29%|██▉       | 663/2285 [00:02<00:05, 282.40it/s, now=None]\u001b[A\n",
      "chunk:  31%|███       | 714/2285 [00:02<00:06, 252.38it/s, now=None]\u001b[A\n",
      "chunk:  33%|███▎      | 765/2285 [00:02<00:05, 263.76it/s, now=None]\u001b[A\n",
      "chunk:  36%|███▌      | 816/2285 [00:02<00:05, 247.00it/s, now=None]\u001b[A\n",
      "chunk:  38%|███▊      | 867/2285 [00:03<00:06, 231.49it/s, now=None]\u001b[A\n",
      "chunk:  40%|████      | 918/2285 [00:03<00:05, 257.71it/s, now=None]\u001b[A\n",
      "chunk:  45%|████▍     | 1020/2285 [00:03<00:04, 305.57it/s, now=None]\u001b[A\n",
      "chunk:  47%|████▋     | 1071/2285 [00:03<00:03, 344.46it/s, now=None]\u001b[A\n",
      "chunk:  49%|████▉     | 1122/2285 [00:03<00:03, 365.31it/s, now=None]\u001b[A\n",
      "chunk:  51%|█████▏    | 1173/2285 [00:03<00:03, 311.18it/s, now=None]\u001b[A\n",
      "chunk:  55%|█████▍    | 1252/2285 [00:04<00:02, 380.24it/s, now=None]\u001b[A\n",
      "chunk:  58%|█████▊    | 1326/2285 [00:04<00:02, 405.86it/s, now=None]\u001b[A\n",
      "chunk:  60%|██████    | 1377/2285 [00:04<00:02, 328.39it/s, now=None]\u001b[A\n",
      "chunk:  62%|██████▏   | 1428/2285 [00:04<00:02, 354.34it/s, now=None]\u001b[A\n",
      "chunk:  67%|██████▋   | 1530/2285 [00:04<00:02, 365.32it/s, now=None]\u001b[A\n",
      "chunk:  69%|██████▉   | 1581/2285 [00:05<00:02, 307.72it/s, now=None]\u001b[A\n",
      "chunk:  71%|███████▏  | 1632/2285 [00:05<00:02, 292.40it/s, now=None]\u001b[A\n",
      "chunk:  76%|███████▌  | 1734/2285 [00:05<00:01, 341.43it/s, now=None]\u001b[A\n",
      "chunk:  79%|███████▉  | 1804/2285 [00:05<00:01, 403.33it/s, now=None]\u001b[A\n",
      "chunk:  81%|████████  | 1853/2285 [00:05<00:01, 415.45it/s, now=None]\u001b[A\n",
      "chunk:  83%|████████▎ | 1901/2285 [00:05<00:01, 359.78it/s, now=None]\u001b[A\n",
      "chunk:  87%|████████▋ | 1989/2285 [00:05<00:00, 394.23it/s, now=None]\u001b[A\n",
      "chunk:  89%|████████▉ | 2040/2285 [00:06<00:00, 417.13it/s, now=None]\u001b[A\n",
      "chunk:  92%|█████████▏| 2091/2285 [00:06<00:00, 371.25it/s, now=None]\u001b[A\n",
      "chunk:  94%|█████████▎| 2142/2285 [00:06<00:00, 328.16it/s, now=None]\u001b[A\n",
      "chunk:  96%|█████████▌| 2193/2285 [00:06<00:00, 363.01it/s, now=None]\u001b[A\n",
      "chunk: 100%|█████████▉| 2280/2285 [00:06<00:00, 439.86it/s, now=None]\u001b[A\n",
      "chunk:   1%|▏         | 29/2121 [7:25:38<535:47:06, 922.00s/it, now=None]"
     ]
    },
    {
     "name": "stdout",
     "output_type": "stream",
     "text": [
      "MoviePy - Done.\n"
     ]
    },
    {
     "name": "stderr",
     "output_type": "stream",
     "text": [
      "chunk:   1%|▏         | 29/2121 [7:25:38<535:48:09, 922.03s/it, now=None]\n",
      "chunk:   0%|          | 0/1697 [00:00<?, ?it/s, now=None]\u001b[A\n",
      "chunk:   7%|▋         | 113/1697 [00:00<00:01, 1128.37it/s, now=None]"
     ]
    },
    {
     "name": "stdout",
     "output_type": "stream",
     "text": [
      "MoviePy - Writing audio in /home/jupyter/datasets/amigos/audio/Exp1_P34_audio/P34_9_audio.wav\n"
     ]
    },
    {
     "name": "stderr",
     "output_type": "stream",
     "text": [
      "\u001b[A\n",
      "chunk:   9%|▊         | 147/1697 [00:00<00:03, 451.54it/s, now=None] \u001b[A\n",
      "chunk:  10%|█         | 177/1697 [00:00<00:04, 351.11it/s, now=None]\u001b[A\n",
      "chunk:  12%|█▏        | 205/1697 [00:00<00:05, 292.66it/s, now=None]\u001b[A\n",
      "chunk:  15%|█▌        | 255/1697 [00:00<00:04, 330.14it/s, now=None]\u001b[A\n",
      "chunk:  18%|█▊        | 306/1697 [00:00<00:03, 367.53it/s, now=None]\u001b[A\n",
      "chunk:  21%|██        | 357/1697 [00:00<00:03, 398.52it/s, now=None]\u001b[A\n",
      "chunk:  24%|██▍       | 408/1697 [00:01<00:04, 316.79it/s, now=None]\u001b[A\n",
      "chunk:  27%|██▋       | 459/1697 [00:01<00:03, 311.29it/s, now=None]\u001b[A\n",
      "chunk:  32%|███▏      | 540/1697 [00:01<00:03, 381.77it/s, now=None]\u001b[A\n",
      "chunk:  35%|███▍      | 588/1697 [00:01<00:02, 375.14it/s, now=None]\u001b[A\n",
      "chunk:  37%|███▋      | 633/1697 [00:01<00:02, 393.63it/s, now=None]\u001b[A\n",
      "chunk:  42%|████▏     | 714/1697 [00:01<00:02, 403.78it/s, now=None]\u001b[A\n",
      "chunk:  48%|████▊     | 811/1697 [00:01<00:01, 489.34it/s, now=None]\u001b[A\n",
      "chunk:  51%|█████▏    | 871/1697 [00:02<00:01, 469.31it/s, now=None]\u001b[A\n",
      "chunk:  57%|█████▋    | 969/1697 [00:02<00:01, 532.82it/s, now=None]\u001b[A\n",
      "chunk:  61%|██████    | 1031/1697 [00:02<00:01, 490.34it/s, now=None]\u001b[A\n",
      "chunk:  66%|██████▌   | 1122/1697 [00:02<00:01, 515.83it/s, now=None]\u001b[A\n",
      "chunk:  72%|███████▏  | 1224/1697 [00:02<00:00, 494.72it/s, now=None]\u001b[A\n",
      "chunk:  75%|███████▌  | 1278/1697 [00:02<00:00, 491.97it/s, now=None]\u001b[A\n",
      "chunk:  80%|███████▉  | 1350/1697 [00:02<00:00, 543.56it/s, now=None]\u001b[A\n",
      "chunk:  84%|████████▍ | 1428/1697 [00:03<00:00, 521.99it/s, now=None]\u001b[A\n",
      "chunk:  90%|█████████ | 1530/1697 [00:03<00:00, 496.34it/s, now=None]\u001b[A\n",
      "chunk:  94%|█████████▎| 1588/1697 [00:03<00:00, 518.58it/s, now=None]\u001b[A\n",
      "chunk:  97%|█████████▋| 1642/1697 [00:03<00:00, 495.89it/s, now=None]\u001b[A\n",
      "chunk:   1%|▏         | 29/2121 [7:25:42<535:52:25, 922.15s/it, now=None]"
     ]
    },
    {
     "name": "stdout",
     "output_type": "stream",
     "text": [
      "MoviePy - Done.\n"
     ]
    },
    {
     "name": "stderr",
     "output_type": "stream",
     "text": [
      "chunk:   1%|▏         | 29/2121 [7:25:43<535:53:16, 922.18s/it, now=None]\n",
      "chunk:   0%|          | 0/2115 [00:00<?, ?it/s, now=None]\u001b[A\n",
      "chunk:   6%|▋         | 133/2115 [00:00<00:01, 1328.19it/s, now=None]\u001b[A"
     ]
    },
    {
     "name": "stdout",
     "output_type": "stream",
     "text": [
      "MoviePy - Writing audio in /home/jupyter/datasets/amigos/audio/Exp1_P35_audio/P35_10_audio.wav\n"
     ]
    },
    {
     "name": "stderr",
     "output_type": "stream",
     "text": [
      "\n",
      "chunk:  12%|█▏        | 255/2115 [00:00<00:01, 1054.32it/s, now=None]\u001b[A\n",
      "chunk:  17%|█▋        | 357/2115 [00:00<00:02, 826.96it/s, now=None] \u001b[A\n",
      "chunk:  19%|█▉        | 408/2115 [00:00<00:02, 655.84it/s, now=None]\u001b[A\n",
      "chunk:  24%|██▍       | 510/2115 [00:00<00:02, 702.49it/s, now=None]\u001b[A\n",
      "chunk:  29%|██▉       | 612/2115 [00:00<00:02, 649.48it/s, now=None]\u001b[A\n",
      "chunk:  32%|███▏      | 671/2115 [00:00<00:02, 630.20it/s, now=None]\u001b[A\n",
      "chunk:  36%|███▌      | 765/2115 [00:01<00:02, 637.64it/s, now=None]\u001b[A\n",
      "chunk:  41%|████      | 867/2115 [00:01<00:02, 486.73it/s, now=None]\u001b[A\n",
      "chunk:  44%|████▍     | 937/2115 [00:01<00:02, 535.43it/s, now=None]\u001b[A\n",
      "chunk:  48%|████▊     | 1020/2115 [00:01<00:01, 573.93it/s, now=None]\u001b[A\n",
      "chunk:  51%|█████     | 1081/2115 [00:01<00:02, 509.01it/s, now=None]\u001b[A\n",
      "chunk:  54%|█████▍    | 1141/2115 [00:01<00:01, 533.19it/s, now=None]\u001b[A\n",
      "chunk:  57%|█████▋    | 1205/2115 [00:02<00:01, 561.06it/s, now=None]\u001b[A\n",
      "chunk:  60%|█████▉    | 1264/2115 [00:02<00:01, 540.93it/s, now=None]\u001b[A\n",
      "chunk:  63%|██████▎   | 1326/2115 [00:02<00:01, 466.55it/s, now=None]\u001b[A\n",
      "chunk:  65%|██████▌   | 1377/2115 [00:02<00:01, 445.24it/s, now=None]\u001b[A\n",
      "chunk:  70%|██████▉   | 1479/2115 [00:02<00:01, 517.03it/s, now=None]\u001b[A\n",
      "chunk:  74%|███████▍  | 1561/2115 [00:02<00:00, 581.30it/s, now=None]\u001b[A\n",
      "chunk:  77%|███████▋  | 1632/2115 [00:02<00:00, 557.18it/s, now=None]\u001b[A\n",
      "chunk:  82%|████████▏ | 1734/2115 [00:02<00:00, 633.38it/s, now=None]\u001b[A\n",
      "chunk:  87%|████████▋ | 1836/2115 [00:03<00:00, 660.70it/s, now=None]\u001b[A\n",
      "chunk:  92%|█████████▏| 1954/2115 [00:03<00:00, 761.05it/s, now=None]\u001b[A\n",
      "chunk:  96%|█████████▋| 2040/2115 [00:03<00:00, 538.88it/s, now=None]\u001b[A\n",
      "chunk:   1%|▏         | 29/2121 [7:25:46<535:57:26, 922.30s/it, now=None]"
     ]
    },
    {
     "name": "stdout",
     "output_type": "stream",
     "text": [
      "MoviePy - Done.\n"
     ]
    },
    {
     "name": "stderr",
     "output_type": "stream",
     "text": [
      "chunk:   1%|▏         | 29/2121 [7:25:47<535:58:18, 922.32s/it, now=None]\n",
      "chunk:   0%|          | 0/1261 [00:00<?, ?it/s, now=None]\u001b[A\n",
      "chunk:   8%|▊         | 106/1261 [00:00<00:01, 1059.43it/s, now=None]\u001b[A"
     ]
    },
    {
     "name": "stdout",
     "output_type": "stream",
     "text": [
      "MoviePy - Writing audio in /home/jupyter/datasets/amigos/audio/Exp1_P35_audio/P35_13_audio.wav\n"
     ]
    },
    {
     "name": "stderr",
     "output_type": "stream",
     "text": [
      "\n",
      "chunk:  14%|█▍        | 181/1261 [00:00<00:01, 942.41it/s, now=None] \u001b[A\n",
      "chunk:  18%|█▊        | 226/1261 [00:00<00:01, 658.71it/s, now=None]\u001b[A\n",
      "chunk:  21%|██▏       | 269/1261 [00:00<00:01, 512.74it/s, now=None]\u001b[A\n",
      "chunk:  28%|██▊       | 357/1261 [00:00<00:01, 513.74it/s, now=None]\u001b[A\n",
      "chunk:  32%|███▏      | 408/1261 [00:00<00:02, 413.94it/s, now=None]\u001b[A\n",
      "chunk:  36%|███▋      | 459/1261 [00:00<00:02, 394.70it/s, now=None]\u001b[A\n",
      "chunk:  44%|████▍     | 561/1261 [00:01<00:01, 470.65it/s, now=None]\u001b[A\n",
      "chunk:  54%|█████▎    | 676/1261 [00:01<00:01, 571.88it/s, now=None]\u001b[A\n",
      "chunk:  61%|██████    | 765/1261 [00:01<00:00, 612.27it/s, now=None]\u001b[A\n",
      "chunk:  69%|██████▉   | 867/1261 [00:01<00:00, 690.91it/s, now=None]\u001b[A\n",
      "chunk:  77%|███████▋  | 969/1261 [00:01<00:00, 756.76it/s, now=None]\u001b[A\n",
      "chunk:  85%|████████▍ | 1071/1261 [00:01<00:00, 799.03it/s, now=None]\u001b[A\n",
      "chunk:  92%|█████████▏| 1159/1261 [00:01<00:00, 704.80it/s, now=None]\u001b[A\n",
      "chunk:  98%|█████████▊| 1237/1261 [00:01<00:00, 702.01it/s, now=None]\u001b[A\n",
      "chunk:   1%|▏         | 29/2121 [7:25:49<536:00:36, 922.39s/it, now=None]"
     ]
    },
    {
     "name": "stdout",
     "output_type": "stream",
     "text": [
      "MoviePy - Done.\n"
     ]
    },
    {
     "name": "stderr",
     "output_type": "stream",
     "text": [
      "chunk:   1%|▏         | 29/2121 [7:25:49<536:01:19, 922.41s/it, now=None]\n",
      "chunk:   0%|          | 0/2705 [00:00<?, ?it/s, now=None]\u001b[A\n",
      "chunk:   5%|▌         | 148/2705 [00:00<00:01, 1477.22it/s, now=None]\u001b[A"
     ]
    },
    {
     "name": "stdout",
     "output_type": "stream",
     "text": [
      "MoviePy - Writing audio in /home/jupyter/datasets/amigos/audio/Exp1_P35_audio/P35_138_audio.wav\n"
     ]
    },
    {
     "name": "stderr",
     "output_type": "stream",
     "text": [
      "\n",
      "chunk:   8%|▊         | 204/2705 [00:00<00:03, 803.69it/s, now=None] \u001b[A\n",
      "chunk:   9%|▉         | 255/2705 [00:00<00:04, 599.88it/s, now=None]\u001b[A\n",
      "chunk:  11%|█▏        | 306/2705 [00:00<00:06, 377.09it/s, now=None]\u001b[A\n",
      "chunk:  15%|█▌        | 408/2705 [00:00<00:05, 444.97it/s, now=None]\u001b[A\n",
      "chunk:  19%|█▉        | 510/2705 [00:00<00:04, 461.06it/s, now=None]\u001b[A\n",
      "chunk:  22%|██▏       | 598/2705 [00:01<00:03, 537.65it/s, now=None]\u001b[A\n",
      "chunk:  24%|██▍       | 659/2705 [00:01<00:03, 555.32it/s, now=None]\u001b[A\n",
      "chunk:  27%|██▋       | 720/2705 [00:01<00:03, 528.28it/s, now=None]\u001b[A\n",
      "chunk:  29%|██▊       | 777/2705 [00:01<00:03, 485.17it/s, now=None]\u001b[A\n",
      "chunk:  32%|███▏      | 867/2705 [00:01<00:03, 482.49it/s, now=None]\u001b[A\n",
      "chunk:  36%|███▌      | 967/2705 [00:01<00:03, 570.99it/s, now=None]\u001b[A\n",
      "chunk:  39%|███▊      | 1043/2705 [00:01<00:02, 617.00it/s, now=None]\u001b[A\n",
      "chunk:  41%|████▏     | 1122/2705 [00:02<00:02, 554.76it/s, now=None]\u001b[A\n",
      "chunk:  45%|████▌     | 1224/2705 [00:02<00:02, 559.71it/s, now=None]\u001b[A\n",
      "chunk:  48%|████▊     | 1285/2705 [00:02<00:02, 514.05it/s, now=None]\u001b[A\n",
      "chunk:  50%|████▉     | 1341/2705 [00:02<00:02, 504.54it/s, now=None]\u001b[A\n",
      "chunk:  52%|█████▏    | 1395/2705 [00:02<00:02, 459.15it/s, now=None]\u001b[A\n",
      "chunk:  55%|█████▍    | 1479/2705 [00:02<00:02, 499.35it/s, now=None]\u001b[A\n",
      "chunk:  57%|█████▋    | 1532/2705 [00:02<00:02, 434.87it/s, now=None]\u001b[A\n",
      "chunk:  60%|██████    | 1632/2705 [00:03<00:02, 501.41it/s, now=None]\u001b[A\n",
      "chunk:  63%|██████▎   | 1691/2705 [00:03<00:01, 525.00it/s, now=None]\u001b[A\n",
      "chunk:  65%|██████▍   | 1749/2705 [00:03<00:02, 428.27it/s, now=None]\u001b[A\n",
      "chunk:  66%|██████▋   | 1798/2705 [00:03<00:02, 389.18it/s, now=None]\u001b[A\n",
      "chunk:  68%|██████▊   | 1842/2705 [00:03<00:02, 370.66it/s, now=None]\u001b[A\n",
      "chunk:  70%|██████▉   | 1887/2705 [00:03<00:02, 353.94it/s, now=None]\u001b[A\n",
      "chunk:  73%|███████▎  | 1968/2705 [00:03<00:01, 425.78it/s, now=None]\u001b[A\n",
      "chunk:  75%|███████▍  | 2019/2705 [00:03<00:01, 435.82it/s, now=None]\u001b[A\n",
      "chunk:  77%|███████▋  | 2091/2705 [00:04<00:01, 372.32it/s, now=None]\u001b[A\n",
      "chunk:  79%|███████▉  | 2142/2705 [00:04<00:01, 368.78it/s, now=None]\u001b[A\n",
      "chunk:  83%|████████▎ | 2244/2705 [00:04<00:01, 403.27it/s, now=None]\u001b[A\n",
      "chunk:  87%|████████▋ | 2346/2705 [00:04<00:00, 476.25it/s, now=None]\u001b[A\n",
      "chunk:  90%|█████████ | 2448/2705 [00:04<00:00, 555.47it/s, now=None]\u001b[A\n",
      "chunk:  94%|█████████▍| 2550/2705 [00:04<00:00, 633.34it/s, now=None]\u001b[A\n",
      "chunk:  97%|█████████▋| 2625/2705 [00:04<00:00, 647.31it/s, now=None]\u001b[A\n",
      "chunk: 100%|█████████▉| 2698/2705 [00:05<00:00, 616.54it/s, now=None]\u001b[A\n",
      "chunk:   1%|▏         | 29/2121 [7:25:54<536:07:30, 922.59s/it, now=None]"
     ]
    },
    {
     "name": "stdout",
     "output_type": "stream",
     "text": [
      "MoviePy - Done.\n"
     ]
    },
    {
     "name": "stderr",
     "output_type": "stream",
     "text": [
      "chunk:   1%|▏         | 29/2121 [7:25:55<536:08:06, 922.60s/it, now=None]\n",
      "chunk:   0%|          | 0/1840 [00:00<?, ?it/s, now=None]\u001b[A\n",
      "chunk:   8%|▊         | 153/1840 [00:00<00:01, 1268.33it/s, now=None]\u001b[A"
     ]
    },
    {
     "name": "stdout",
     "output_type": "stream",
     "text": [
      "MoviePy - Writing audio in /home/jupyter/datasets/amigos/audio/Exp1_P35_audio/P35_18_audio.wav\n"
     ]
    },
    {
     "name": "stderr",
     "output_type": "stream",
     "text": [
      "\n",
      "chunk:  14%|█▍        | 255/1840 [00:00<00:01, 1145.31it/s, now=None]\u001b[A\n",
      "chunk:  21%|██        | 388/1840 [00:00<00:01, 1195.01it/s, now=None]\u001b[A\n",
      "chunk:  25%|██▌       | 467/1840 [00:00<00:01, 885.84it/s, now=None] \u001b[A\n",
      "chunk:  31%|███       | 567/1840 [00:00<00:01, 917.14it/s, now=None]\u001b[A\n",
      "chunk:  36%|███▌      | 663/1840 [00:00<00:01, 897.45it/s, now=None]\u001b[A\n",
      "chunk:  40%|████      | 745/1840 [00:00<00:01, 775.76it/s, now=None]\u001b[A\n",
      "chunk:  45%|████▍     | 820/1840 [00:00<00:01, 675.91it/s, now=None]\u001b[A\n",
      "chunk:  50%|████▉     | 918/1840 [00:01<00:01, 582.39it/s, now=None]\u001b[A\n",
      "chunk:  53%|█████▎    | 979/1840 [00:01<00:01, 506.93it/s, now=None]\u001b[A\n",
      "chunk:  58%|█████▊    | 1071/1840 [00:01<00:01, 559.43it/s, now=None]\u001b[A\n",
      "chunk:  62%|██████▏   | 1132/1840 [00:01<00:01, 519.05it/s, now=None]\u001b[A\n",
      "chunk:  65%|██████▍   | 1188/1840 [00:01<00:01, 498.80it/s, now=None]\u001b[A\n",
      "chunk:  69%|██████▉   | 1275/1840 [00:01<00:01, 543.16it/s, now=None]\u001b[A\n",
      "chunk:  78%|███████▊  | 1428/1840 [00:01<00:00, 651.92it/s, now=None]\u001b[A\n",
      "chunk:  83%|████████▎ | 1530/1840 [00:02<00:00, 624.54it/s, now=None]\u001b[A\n",
      "chunk:  89%|████████▊ | 1632/1840 [00:02<00:00, 619.00it/s, now=None]\u001b[A\n",
      "chunk:  92%|█████████▏| 1700/1840 [00:02<00:00, 634.23it/s, now=None]\u001b[A\n",
      "chunk:  98%|█████████▊| 1810/1840 [00:02<00:00, 726.20it/s, now=None]\u001b[A\n",
      "chunk:   1%|▏         | 29/2121 [7:25:58<536:11:11, 922.69s/it, now=None]"
     ]
    },
    {
     "name": "stdout",
     "output_type": "stream",
     "text": [
      "MoviePy - Done.\n"
     ]
    },
    {
     "name": "stderr",
     "output_type": "stream",
     "text": [
      "chunk:   1%|▏         | 29/2121 [7:25:58<536:12:03, 922.72s/it, now=None]\n",
      "chunk:   0%|          | 0/2790 [00:00<?, ?it/s, now=None]\u001b[A\n",
      "chunk:   5%|▌         | 153/2790 [00:00<00:02, 1289.30it/s, now=None]\u001b[A"
     ]
    },
    {
     "name": "stdout",
     "output_type": "stream",
     "text": [
      "MoviePy - Writing audio in /home/jupyter/datasets/amigos/audio/Exp1_P35_audio/P35_19_audio.wav\n"
     ]
    },
    {
     "name": "stderr",
     "output_type": "stream",
     "text": [
      "\n",
      "chunk:   9%|▉         | 255/2790 [00:00<00:02, 935.64it/s, now=None] \u001b[A\n",
      "chunk:  11%|█         | 306/2790 [00:00<00:04, 552.43it/s, now=None]\u001b[A\n",
      "chunk:  13%|█▎        | 357/2790 [00:00<00:05, 460.71it/s, now=None]\u001b[A\n",
      "chunk:  15%|█▍        | 408/2790 [00:00<00:06, 366.40it/s, now=None]\u001b[A\n",
      "chunk:  18%|█▊        | 510/2790 [00:01<00:05, 400.64it/s, now=None]\u001b[A\n",
      "chunk:  20%|██        | 561/2790 [00:01<00:05, 425.21it/s, now=None]\u001b[A\n",
      "chunk:  23%|██▎       | 633/2790 [00:01<00:04, 484.62it/s, now=None]\u001b[A\n",
      "chunk:  25%|██▍       | 685/2790 [00:01<00:04, 423.83it/s, now=None]\u001b[A\n",
      "chunk:  29%|██▉       | 803/2790 [00:01<00:03, 524.60it/s, now=None]\u001b[A\n",
      "chunk:  31%|███       | 871/2790 [00:01<00:04, 468.59it/s, now=None]\u001b[A\n",
      "chunk:  34%|███▍      | 943/2790 [00:01<00:03, 523.19it/s, now=None]\u001b[A\n",
      "chunk:  36%|███▌      | 1006/2790 [00:02<00:04, 397.20it/s, now=None]\u001b[A\n",
      "chunk:  38%|███▊      | 1058/2790 [00:02<00:04, 349.82it/s, now=None]\u001b[A\n",
      "chunk:  40%|███▉      | 1103/2790 [00:02<00:04, 367.85it/s, now=None]\u001b[A\n",
      "chunk:  41%|████      | 1147/2790 [00:02<00:04, 357.66it/s, now=None]\u001b[A\n",
      "chunk:  45%|████▌     | 1262/2790 [00:02<00:03, 450.78it/s, now=None]\u001b[A\n",
      "chunk:  48%|████▊     | 1326/2790 [00:02<00:04, 356.96it/s, now=None]\u001b[A\n",
      "chunk:  49%|████▉     | 1378/2790 [00:02<00:03, 353.38it/s, now=None]\u001b[A\n",
      "chunk:  53%|█████▎    | 1479/2790 [00:03<00:03, 341.02it/s, now=None]\u001b[A\n",
      "chunk:  55%|█████▍    | 1530/2790 [00:03<00:03, 336.19it/s, now=None]\u001b[A\n",
      "chunk:  57%|█████▋    | 1581/2790 [00:03<00:03, 355.81it/s, now=None]\u001b[A\n",
      "chunk:  58%|█████▊    | 1632/2790 [00:03<00:03, 375.61it/s, now=None]\u001b[A\n",
      "chunk:  62%|██████▏   | 1734/2790 [00:03<00:02, 414.02it/s, now=None]\u001b[A\n",
      "chunk:  64%|██████▍   | 1785/2790 [00:03<00:02, 433.88it/s, now=None]\u001b[A\n",
      "chunk:  68%|██████▊   | 1887/2790 [00:04<00:02, 440.34it/s, now=None]\u001b[A\n",
      "chunk:  71%|███████▏  | 1992/2790 [00:04<00:01, 533.17it/s, now=None]\u001b[A\n",
      "chunk:  74%|███████▎  | 2056/2790 [00:04<00:01, 554.42it/s, now=None]\u001b[A\n",
      "chunk:  77%|███████▋  | 2142/2790 [00:04<00:01, 514.09it/s, now=None]\u001b[A\n",
      "chunk:  81%|████████  | 2261/2790 [00:04<00:00, 619.57it/s, now=None]\u001b[A\n",
      "chunk:  84%|████████▍ | 2337/2790 [00:04<00:00, 597.29it/s, now=None]\u001b[A\n",
      "chunk:  86%|████████▋ | 2407/2790 [00:04<00:00, 590.45it/s, now=None]\u001b[A\n",
      "chunk:  89%|████████▉ | 2497/2790 [00:05<00:00, 658.16it/s, now=None]\u001b[A\n",
      "chunk:  92%|█████████▏| 2571/2790 [00:05<00:00, 458.84it/s, now=None]\u001b[A\n",
      "chunk:  94%|█████████▍| 2631/2790 [00:05<00:00, 414.56it/s, now=None]\u001b[A\n",
      "chunk:  96%|█████████▌| 2683/2790 [00:05<00:00, 373.23it/s, now=None]\u001b[A\n",
      "chunk:  98%|█████████▊| 2729/2790 [00:05<00:00, 354.07it/s, now=None]\u001b[A\n",
      "chunk:  99%|█████████▉| 2771/2790 [00:05<00:00, 345.23it/s, now=None]\u001b[A\n",
      "chunk:   1%|▏         | 29/2121 [7:26:04<536:19:15, 922.92s/it, now=None]"
     ]
    },
    {
     "name": "stdout",
     "output_type": "stream",
     "text": [
      "MoviePy - Done.\n"
     ]
    },
    {
     "name": "stderr",
     "output_type": "stream",
     "text": [
      "chunk:   1%|▏         | 29/2121 [7:26:05<536:19:58, 922.94s/it, now=None]\n",
      "chunk:   0%|          | 0/1449 [00:00<?, ?it/s, now=None]\u001b[A\n",
      "chunk:  11%|█         | 153/1449 [00:00<00:01, 1163.33it/s, now=None]\u001b[A"
     ]
    },
    {
     "name": "stdout",
     "output_type": "stream",
     "text": [
      "MoviePy - Writing audio in /home/jupyter/datasets/amigos/audio/Exp1_P35_audio/P35_20_audio.wav\n"
     ]
    },
    {
     "name": "stderr",
     "output_type": "stream",
     "text": [
      "\n",
      "chunk:  14%|█▍        | 204/1449 [00:00<00:01, 762.17it/s, now=None] \u001b[A\n",
      "chunk:  18%|█▊        | 255/1449 [00:00<00:02, 443.98it/s, now=None]\u001b[A\n",
      "chunk:  21%|██        | 306/1449 [00:00<00:02, 425.16it/s, now=None]\u001b[A\n",
      "chunk:  28%|██▊       | 408/1449 [00:00<00:02, 471.34it/s, now=None]\u001b[A\n",
      "chunk:  32%|███▏      | 459/1449 [00:00<00:02, 392.99it/s, now=None]\u001b[A\n",
      "chunk:  39%|███▊      | 561/1449 [00:01<00:01, 472.74it/s, now=None]\u001b[A\n",
      "chunk:  49%|████▉     | 714/1449 [00:01<00:01, 512.10it/s, now=None]\u001b[A\n",
      "chunk:  56%|█████▋    | 816/1449 [00:01<00:01, 572.75it/s, now=None]\u001b[A\n",
      "chunk:  67%|██████▋   | 969/1449 [00:01<00:00, 687.97it/s, now=None]\u001b[A\n",
      "chunk:  74%|███████▍  | 1071/1449 [00:01<00:00, 710.32it/s, now=None]\u001b[A\n",
      "chunk:  80%|███████▉  | 1153/1449 [00:01<00:00, 731.55it/s, now=None]\u001b[A\n",
      "chunk:  85%|████████▌ | 1234/1449 [00:02<00:00, 569.33it/s, now=None]\u001b[A\n",
      "chunk:  90%|████████▉ | 1302/1449 [00:02<00:00, 470.20it/s, now=None]\u001b[A\n",
      "chunk:  94%|█████████▍| 1360/1449 [00:02<00:00, 495.53it/s, now=None]\u001b[A\n",
      "chunk:  98%|█████████▊| 1418/1449 [00:02<00:00, 433.69it/s, now=None]\u001b[A\n",
      "chunk:   1%|▏         | 29/2121 [7:26:07<536:23:00, 923.03s/it, now=None]"
     ]
    },
    {
     "name": "stdout",
     "output_type": "stream",
     "text": [
      "MoviePy - Done.\n"
     ]
    },
    {
     "name": "stderr",
     "output_type": "stream",
     "text": [
      "chunk:   1%|▏         | 29/2121 [7:26:08<536:24:10, 923.06s/it, now=None]\n",
      "chunk:   0%|          | 0/2470 [00:00<?, ?it/s, now=None]\u001b[A\n",
      "chunk:   4%|▍         | 102/2470 [00:00<00:03, 757.20it/s, now=None]\u001b[A"
     ]
    },
    {
     "name": "stdout",
     "output_type": "stream",
     "text": [
      "MoviePy - Writing audio in /home/jupyter/datasets/amigos/audio/Exp1_P35_audio/P35_23_audio.wav\n"
     ]
    },
    {
     "name": "stderr",
     "output_type": "stream",
     "text": [
      "\n",
      "chunk:   8%|▊         | 204/2470 [00:00<00:03, 742.04it/s, now=None]\u001b[A\n",
      "chunk:  12%|█▏        | 306/2470 [00:00<00:03, 666.03it/s, now=None]\u001b[A\n",
      "chunk:  19%|█▊        | 459/2470 [00:00<00:02, 765.64it/s, now=None]\u001b[A\n",
      "chunk:  23%|██▎       | 561/2470 [00:00<00:02, 656.36it/s, now=None]\u001b[A\n",
      "chunk:  27%|██▋       | 663/2470 [00:00<00:02, 673.20it/s, now=None]\u001b[A\n",
      "chunk:  29%|██▉       | 727/2470 [00:01<00:02, 644.97it/s, now=None]\u001b[A\n",
      "chunk:  33%|███▎      | 816/2470 [00:01<00:02, 651.69it/s, now=None]\u001b[A\n",
      "chunk:  36%|███▌      | 880/2470 [00:01<00:02, 602.72it/s, now=None]\u001b[A\n",
      "chunk:  39%|███▉      | 969/2470 [00:01<00:02, 641.29it/s, now=None]\u001b[A\n",
      "chunk:  43%|████▎     | 1071/2470 [00:01<00:02, 615.68it/s, now=None]\u001b[A\n",
      "chunk:  46%|████▌     | 1134/2470 [00:01<00:02, 585.67it/s, now=None]\u001b[A\n",
      "chunk:  50%|████▉     | 1224/2470 [00:01<00:02, 565.03it/s, now=None]\u001b[A\n",
      "chunk:  52%|█████▏    | 1282/2470 [00:02<00:02, 508.35it/s, now=None]\u001b[A\n",
      "chunk:  56%|█████▌    | 1377/2470 [00:02<00:02, 542.04it/s, now=None]\u001b[A\n",
      "chunk:  58%|█████▊    | 1442/2470 [00:02<00:01, 570.44it/s, now=None]\u001b[A\n",
      "chunk:  61%|██████    | 1501/2470 [00:02<00:01, 564.53it/s, now=None]\u001b[A\n",
      "chunk:  63%|██████▎   | 1559/2470 [00:02<00:01, 557.61it/s, now=None]\u001b[A\n",
      "chunk:  66%|██████▌   | 1632/2470 [00:02<00:01, 574.10it/s, now=None]\u001b[A\n",
      "chunk:  70%|███████   | 1734/2470 [00:02<00:01, 599.00it/s, now=None]\u001b[A\n",
      "chunk:  74%|███████▍  | 1833/2470 [00:02<00:00, 679.17it/s, now=None]\u001b[A\n",
      "chunk:  77%|███████▋  | 1906/2470 [00:02<00:00, 663.28it/s, now=None]\u001b[A\n",
      "chunk:  80%|████████  | 1976/2470 [00:03<00:00, 600.95it/s, now=None]\u001b[A\n",
      "chunk:  85%|████████▍ | 2090/2470 [00:03<00:00, 700.13it/s, now=None]\u001b[A\n",
      "chunk:  88%|████████▊ | 2173/2470 [00:03<00:00, 734.19it/s, now=None]\u001b[A\n",
      "chunk:  91%|█████████ | 2253/2470 [00:03<00:00, 693.59it/s, now=None]\u001b[A\n",
      "chunk:  95%|█████████▍| 2346/2470 [00:03<00:00, 666.36it/s, now=None]\u001b[A\n",
      "chunk:   1%|▏         | 29/2121 [7:26:12<536:28:40, 923.19s/it, now=None]"
     ]
    },
    {
     "name": "stdout",
     "output_type": "stream",
     "text": [
      "MoviePy - Done.\n"
     ]
    },
    {
     "name": "stderr",
     "output_type": "stream",
     "text": [
      "chunk:   1%|▏         | 29/2121 [7:26:13<536:29:27, 923.22s/it, now=None]\n",
      "chunk:   0%|          | 0/1687 [00:00<?, ?it/s, now=None]\u001b[A\n",
      "chunk:   6%|▌         | 102/1687 [00:00<00:01, 994.60it/s, now=None]\u001b[A"
     ]
    },
    {
     "name": "stdout",
     "output_type": "stream",
     "text": [
      "MoviePy - Writing audio in /home/jupyter/datasets/amigos/audio/Exp1_P35_audio/P35_30_audio.wav\n"
     ]
    },
    {
     "name": "stderr",
     "output_type": "stream",
     "text": [
      "\n",
      "chunk:   9%|▉         | 153/1687 [00:00<00:03, 487.43it/s, now=None]\u001b[A\n",
      "chunk:  12%|█▏        | 204/1687 [00:00<00:03, 490.82it/s, now=None]\u001b[A\n",
      "chunk:  15%|█▌        | 255/1687 [00:00<00:02, 480.67it/s, now=None]\u001b[A\n",
      "chunk:  18%|█▊        | 306/1687 [00:00<00:03, 454.87it/s, now=None]\u001b[A\n",
      "chunk:  21%|██▏       | 360/1687 [00:00<00:02, 477.33it/s, now=None]\u001b[A\n",
      "chunk:  27%|██▋       | 459/1687 [00:00<00:02, 549.82it/s, now=None]\u001b[A\n",
      "chunk:  31%|███       | 526/1687 [00:00<00:01, 580.88it/s, now=None]\u001b[A\n",
      "chunk:  36%|███▋      | 612/1687 [00:01<00:01, 604.87it/s, now=None]\u001b[A\n",
      "chunk:  42%|████▏     | 714/1687 [00:01<00:01, 635.34it/s, now=None]\u001b[A\n",
      "chunk:  46%|████▌     | 779/1687 [00:01<00:01, 455.60it/s, now=None]\u001b[A\n",
      "chunk:  49%|████▉     | 833/1687 [00:01<00:01, 432.83it/s, now=None]\u001b[A\n",
      "chunk:  52%|█████▏    | 883/1687 [00:01<00:02, 397.17it/s, now=None]\u001b[A\n",
      "chunk:  55%|█████▌    | 928/1687 [00:02<00:02, 260.69it/s, now=None]\u001b[A\n",
      "chunk:  57%|█████▋    | 969/1687 [00:02<00:03, 236.49it/s, now=None]\u001b[A\n",
      "chunk:  60%|██████    | 1020/1687 [00:02<00:02, 257.48it/s, now=None]\u001b[A\n",
      "chunk:  67%|██████▋   | 1122/1687 [00:02<00:01, 312.31it/s, now=None]\u001b[A\n",
      "chunk:  73%|███████▎  | 1224/1687 [00:02<00:01, 373.79it/s, now=None]\u001b[A\n",
      "chunk:  79%|███████▊  | 1326/1687 [00:02<00:00, 453.65it/s, now=None]\u001b[A\n",
      "chunk:  85%|████████▍ | 1428/1687 [00:03<00:00, 453.38it/s, now=None]\u001b[A\n",
      "chunk:  88%|████████▊ | 1489/1687 [00:03<00:00, 491.17it/s, now=None]\u001b[A\n",
      "chunk:  92%|█████████▏| 1547/1687 [00:03<00:00, 510.07it/s, now=None]\u001b[A\n",
      "chunk:  97%|█████████▋| 1632/1687 [00:03<00:00, 449.27it/s, now=None]\u001b[A\n",
      "chunk:   1%|▏         | 29/2121 [7:26:16<536:33:47, 923.34s/it, now=None]"
     ]
    },
    {
     "name": "stdout",
     "output_type": "stream",
     "text": [
      "MoviePy - Done.\n"
     ]
    },
    {
     "name": "stderr",
     "output_type": "stream",
     "text": [
      "chunk:   1%|▏         | 29/2121 [7:26:17<536:34:49, 923.37s/it, now=None]\n",
      "chunk:   0%|          | 0/3433 [00:00<?, ?it/s, now=None]\u001b[A\n",
      "chunk:   3%|▎         | 102/3433 [00:00<00:04, 712.10it/s, now=None]\u001b[A"
     ]
    },
    {
     "name": "stdout",
     "output_type": "stream",
     "text": [
      "MoviePy - Writing audio in /home/jupyter/datasets/amigos/audio/Exp1_P35_audio/P35_31_audio.wav\n"
     ]
    },
    {
     "name": "stderr",
     "output_type": "stream",
     "text": [
      "\n",
      "chunk:   6%|▌         | 202/3433 [00:00<00:04, 779.30it/s, now=None]\u001b[A\n",
      "chunk:   7%|▋         | 247/3433 [00:00<00:05, 624.82it/s, now=None]\u001b[A\n",
      "chunk:   9%|▊         | 292/3433 [00:00<00:05, 529.67it/s, now=None]\u001b[A\n",
      "chunk:  10%|█         | 357/3433 [00:00<00:06, 472.32it/s, now=None]\u001b[A\n",
      "chunk:  12%|█▏        | 408/3433 [00:00<00:07, 429.61it/s, now=None]\u001b[A\n",
      "chunk:  15%|█▍        | 510/3433 [00:00<00:05, 490.46it/s, now=None]\u001b[A\n",
      "chunk:  16%|█▋        | 561/3433 [00:01<00:06, 475.00it/s, now=None]\u001b[A\n",
      "chunk:  19%|█▉        | 663/3433 [00:01<00:07, 373.58it/s, now=None]\u001b[A\n",
      "chunk:  21%|██        | 714/3433 [00:01<00:07, 361.87it/s, now=None]\u001b[A\n",
      "chunk:  22%|██▏       | 765/3433 [00:01<00:10, 250.32it/s, now=None]\u001b[A\n",
      "chunk:  24%|██▍       | 816/3433 [00:02<00:09, 279.52it/s, now=None]\u001b[A\n",
      "chunk:  25%|██▌       | 867/3433 [00:02<00:08, 319.03it/s, now=None]\u001b[A\n",
      "chunk:  27%|██▋       | 918/3433 [00:02<00:07, 339.06it/s, now=None]\u001b[A\n",
      "chunk:  30%|██▉       | 1020/3433 [00:02<00:05, 410.49it/s, now=None]\u001b[A\n",
      "chunk:  31%|███       | 1072/3433 [00:02<00:07, 329.36it/s, now=None]\u001b[A\n",
      "chunk:  33%|███▎      | 1122/3433 [00:02<00:08, 260.90it/s, now=None]\u001b[A\n",
      "chunk:  36%|███▌      | 1224/3433 [00:03<00:06, 330.06it/s, now=None]\u001b[A\n",
      "chunk:  37%|███▋      | 1275/3433 [00:03<00:08, 269.65it/s, now=None]\u001b[A\n",
      "chunk:  39%|███▊      | 1326/3433 [00:03<00:07, 279.48it/s, now=None]\u001b[A\n",
      "chunk:  40%|████      | 1377/3433 [00:03<00:07, 270.10it/s, now=None]\u001b[A\n",
      "chunk:  42%|████▏     | 1442/3433 [00:03<00:06, 327.53it/s, now=None]\u001b[A\n",
      "chunk:  45%|████▍     | 1530/3433 [00:04<00:05, 348.51it/s, now=None]\u001b[A\n",
      "chunk:  49%|████▉     | 1683/3433 [00:04<00:03, 444.77it/s, now=None]\u001b[A\n",
      "chunk:  52%|█████▏    | 1785/3433 [00:04<00:03, 441.98it/s, now=None]\u001b[A\n",
      "chunk:  54%|█████▍    | 1846/3433 [00:04<00:03, 440.49it/s, now=None]\u001b[A\n",
      "chunk:  55%|█████▌    | 1902/3433 [00:04<00:03, 467.35it/s, now=None]\u001b[A\n",
      "chunk:  57%|█████▋    | 1958/3433 [00:04<00:03, 463.19it/s, now=None]\u001b[A\n",
      "chunk:  59%|█████▉    | 2040/3433 [00:04<00:02, 482.77it/s, now=None]\u001b[A\n",
      "chunk:  62%|██████▏   | 2142/3433 [00:05<00:02, 567.39it/s, now=None]\u001b[A\n",
      "chunk:  64%|██████▍   | 2208/3433 [00:05<00:02, 567.92it/s, now=None]\u001b[A\n",
      "chunk:  66%|██████▌   | 2271/3433 [00:05<00:02, 509.57it/s, now=None]\u001b[A\n",
      "chunk:  69%|██████▊   | 2356/3433 [00:05<00:01, 578.96it/s, now=None]\u001b[A\n",
      "chunk:  71%|███████   | 2421/3433 [00:05<00:02, 468.20it/s, now=None]\u001b[A\n",
      "chunk:  73%|███████▎  | 2499/3433 [00:05<00:01, 486.07it/s, now=None]\u001b[A\n",
      "chunk:  76%|███████▌  | 2601/3433 [00:05<00:01, 559.52it/s, now=None]\u001b[A\n",
      "chunk:  79%|███████▊  | 2703/3433 [00:06<00:01, 544.92it/s, now=None]\u001b[A\n",
      "chunk:  82%|████████▏ | 2805/3433 [00:06<00:01, 532.03it/s, now=None]\u001b[A\n",
      "chunk:  83%|████████▎ | 2863/3433 [00:06<00:01, 410.42it/s, now=None]\u001b[A\n",
      "chunk:  85%|████████▍ | 2912/3433 [00:06<00:01, 393.28it/s, now=None]\u001b[A\n",
      "chunk:  86%|████████▌ | 2958/3433 [00:06<00:01, 374.92it/s, now=None]\u001b[A\n",
      "chunk:  88%|████████▊ | 3009/3433 [00:06<00:01, 392.93it/s, now=None]\u001b[A\n",
      "chunk:  91%|█████████ | 3111/3433 [00:06<00:00, 458.88it/s, now=None]\u001b[A\n",
      "chunk:  94%|█████████▎| 3213/3433 [00:07<00:00, 541.45it/s, now=None]\u001b[A\n",
      "chunk:  97%|█████████▋| 3323/3433 [00:07<00:00, 638.51it/s, now=None]\u001b[A\n",
      "chunk:   1%|▏         | 29/2121 [7:26:24<536:43:34, 923.62s/it, now=None]"
     ]
    },
    {
     "name": "stdout",
     "output_type": "stream",
     "text": [
      "MoviePy - Done.\n"
     ]
    },
    {
     "name": "stderr",
     "output_type": "stream",
     "text": [
      "chunk:   1%|▏         | 29/2121 [7:26:25<536:44:22, 923.64s/it, now=None]\n",
      "chunk:   0%|          | 0/1457 [00:00<?, ?it/s, now=None]\u001b[A\n",
      "chunk:   7%|▋         | 102/1457 [00:00<00:01, 871.91it/s, now=None]\u001b[A"
     ]
    },
    {
     "name": "stdout",
     "output_type": "stream",
     "text": [
      "MoviePy - Writing audio in /home/jupyter/datasets/amigos/audio/Exp1_P35_audio/P35_34_audio.wav\n"
     ]
    },
    {
     "name": "stderr",
     "output_type": "stream",
     "text": [
      "\n",
      "chunk:  11%|█         | 153/1457 [00:00<00:02, 639.72it/s, now=None]\u001b[A\n",
      "chunk:  18%|█▊        | 255/1457 [00:00<00:01, 608.04it/s, now=None]\u001b[A\n",
      "chunk:  25%|██▍       | 357/1457 [00:00<00:01, 674.00it/s, now=None]\u001b[A\n",
      "chunk:  32%|███▏      | 459/1457 [00:00<00:01, 731.97it/s, now=None]\u001b[A\n",
      "chunk:  39%|███▊      | 561/1457 [00:00<00:01, 638.77it/s, now=None]\u001b[A\n",
      "chunk:  46%|████▌     | 663/1457 [00:00<00:01, 694.02it/s, now=None]\u001b[A\n",
      "chunk:  53%|█████▎    | 765/1457 [00:01<00:01, 657.31it/s, now=None]\u001b[A\n",
      "chunk:  60%|█████▉    | 867/1457 [00:01<00:00, 704.60it/s, now=None]\u001b[A\n",
      "chunk:  66%|██████▌   | 962/1457 [00:01<00:00, 763.69it/s, now=None]\u001b[A\n",
      "chunk:  71%|███████▏  | 1041/1457 [00:01<00:00, 735.27it/s, now=None]\u001b[A\n",
      "chunk:  77%|███████▋  | 1122/1457 [00:01<00:00, 660.54it/s, now=None]\u001b[A\n",
      "chunk:  88%|████████▊ | 1275/1457 [00:01<00:00, 772.71it/s, now=None]\u001b[A\n",
      "chunk:  96%|█████████▋| 1404/1457 [00:01<00:00, 878.21it/s, now=None]\u001b[A\n",
      "chunk:   1%|▏         | 29/2121 [7:26:27<536:46:42, 923.71s/it, now=None]"
     ]
    },
    {
     "name": "stdout",
     "output_type": "stream",
     "text": [
      "MoviePy - Done.\n"
     ]
    },
    {
     "name": "stderr",
     "output_type": "stream",
     "text": [
      "chunk:   1%|▏         | 29/2121 [7:26:28<536:47:24, 923.73s/it, now=None]\n",
      "chunk:   0%|          | 0/1510 [00:00<?, ?it/s, now=None]\u001b[A\n",
      "chunk:   7%|▋         | 102/1510 [00:00<00:01, 922.97it/s, now=None]\u001b[A"
     ]
    },
    {
     "name": "stdout",
     "output_type": "stream",
     "text": [
      "MoviePy - Writing audio in /home/jupyter/datasets/amigos/audio/Exp1_P35_audio/P35_36_audio.wav\n"
     ]
    },
    {
     "name": "stderr",
     "output_type": "stream",
     "text": [
      "\n",
      "chunk:  12%|█▏        | 178/1510 [00:00<00:01, 866.68it/s, now=None]\u001b[A\n",
      "chunk:  17%|█▋        | 255/1510 [00:00<00:01, 727.63it/s, now=None]\u001b[A\n",
      "chunk:  20%|██        | 306/1510 [00:00<00:01, 621.70it/s, now=None]\u001b[A\n",
      "chunk:  24%|██▎       | 357/1510 [00:00<00:02, 550.53it/s, now=None]\u001b[A\n",
      "chunk:  30%|███       | 459/1510 [00:00<00:02, 495.60it/s, now=None]\u001b[A\n",
      "chunk:  34%|███▍      | 510/1510 [00:00<00:02, 424.04it/s, now=None]\u001b[A\n",
      "chunk:  37%|███▋      | 561/1510 [00:01<00:02, 366.46it/s, now=None]\u001b[A\n",
      "chunk:  44%|████▍     | 663/1510 [00:01<00:01, 432.72it/s, now=None]\u001b[A\n",
      "chunk:  47%|████▋     | 714/1510 [00:01<00:01, 433.87it/s, now=None]\u001b[A\n",
      "chunk:  51%|█████     | 765/1510 [00:01<00:01, 434.75it/s, now=None]\u001b[A\n",
      "chunk:  57%|█████▋    | 857/1510 [00:01<00:01, 516.31it/s, now=None]\u001b[A\n",
      "chunk:  61%|██████    | 917/1510 [00:01<00:01, 426.78it/s, now=None]\u001b[A\n",
      "chunk:  64%|██████▍   | 968/1510 [00:01<00:01, 404.64it/s, now=None]\u001b[A\n",
      "chunk:  67%|██████▋   | 1015/1510 [00:02<00:01, 395.95it/s, now=None]\u001b[A\n",
      "chunk:  71%|███████   | 1071/1510 [00:02<00:01, 241.94it/s, now=None]\u001b[A\n",
      "chunk:  74%|███████▍  | 1122/1510 [00:02<00:01, 246.05it/s, now=None]\u001b[A\n",
      "chunk:  78%|███████▊  | 1173/1510 [00:02<00:01, 246.98it/s, now=None]\u001b[A\n",
      "chunk:  81%|████████  | 1224/1510 [00:03<00:01, 214.28it/s, now=None]\u001b[A\n",
      "chunk:  84%|████████▍ | 1275/1510 [00:03<00:01, 196.71it/s, now=None]\u001b[A\n",
      "chunk:  88%|████████▊ | 1326/1510 [00:03<00:00, 239.33it/s, now=None]\u001b[A\n",
      "chunk:  91%|█████████ | 1377/1510 [00:03<00:00, 276.48it/s, now=None]\u001b[A\n",
      "chunk:  95%|█████████▍| 1428/1510 [00:04<00:00, 261.46it/s, now=None]\u001b[A\n",
      "chunk:   1%|▏         | 29/2121 [7:26:32<536:52:22, 923.87s/it, now=None]"
     ]
    },
    {
     "name": "stdout",
     "output_type": "stream",
     "text": [
      "MoviePy - Done.\n"
     ]
    },
    {
     "name": "stderr",
     "output_type": "stream",
     "text": [
      "chunk:   1%|▏         | 29/2121 [7:26:32<536:53:09, 923.90s/it, now=None]\n",
      "chunk:   0%|          | 0/2012 [00:00<?, ?it/s, now=None]\u001b[A\n",
      "chunk:   5%|▌         | 102/2012 [00:00<00:03, 616.02it/s, now=None]\u001b[A"
     ]
    },
    {
     "name": "stdout",
     "output_type": "stream",
     "text": [
      "MoviePy - Writing audio in /home/jupyter/datasets/amigos/audio/Exp1_P35_audio/P35_4_audio.wav\n"
     ]
    },
    {
     "name": "stderr",
     "output_type": "stream",
     "text": [
      "\n",
      "chunk:  10%|█         | 204/2012 [00:00<00:02, 687.30it/s, now=None]\u001b[A\n",
      "chunk:  15%|█▌        | 306/2012 [00:00<00:02, 742.62it/s, now=None]\u001b[A\n",
      "chunk:  20%|██        | 408/2012 [00:00<00:02, 731.66it/s, now=None]\u001b[A\n",
      "chunk:  25%|██▌       | 510/2012 [00:00<00:02, 723.95it/s, now=None]\u001b[A\n",
      "chunk:  30%|███       | 612/2012 [00:00<00:02, 553.73it/s, now=None]\u001b[A\n",
      "chunk:  33%|███▎      | 668/2012 [00:01<00:02, 538.46it/s, now=None]\u001b[A\n",
      "chunk:  38%|███▊      | 765/2012 [00:01<00:02, 607.97it/s, now=None]\u001b[A\n",
      "chunk:  41%|████      | 829/2012 [00:01<00:01, 592.47it/s, now=None]\u001b[A\n",
      "chunk:  46%|████▌     | 918/2012 [00:01<00:01, 560.50it/s, now=None]\u001b[A\n",
      "chunk:  50%|████▉     | 999/2012 [00:01<00:01, 617.21it/s, now=None]\u001b[A\n",
      "chunk:  53%|█████▎    | 1064/2012 [00:01<00:01, 533.00it/s, now=None]\u001b[A\n",
      "chunk:  56%|█████▌    | 1122/2012 [00:01<00:02, 405.88it/s, now=None]\u001b[A\n",
      "chunk:  58%|█████▊    | 1173/2012 [00:02<00:02, 289.22it/s, now=None]\u001b[A\n",
      "chunk:  61%|██████    | 1224/2012 [00:02<00:03, 255.97it/s, now=None]\u001b[A\n",
      "chunk:  63%|██████▎   | 1275/2012 [00:02<00:03, 218.01it/s, now=None]\u001b[A\n",
      "chunk:  66%|██████▌   | 1326/2012 [00:03<00:02, 231.81it/s, now=None]\u001b[A\n",
      "chunk:  68%|██████▊   | 1377/2012 [00:03<00:02, 249.54it/s, now=None]\u001b[A\n",
      "chunk:  71%|███████   | 1428/2012 [00:03<00:02, 235.40it/s, now=None]\u001b[A\n",
      "chunk:  74%|███████▎  | 1479/2012 [00:03<00:02, 265.20it/s, now=None]\u001b[A\n",
      "chunk:  76%|███████▌  | 1530/2012 [00:03<00:01, 275.23it/s, now=None]\u001b[A\n",
      "chunk:  81%|████████  | 1632/2012 [00:03<00:01, 334.73it/s, now=None]\u001b[A\n",
      "chunk:  86%|████████▌ | 1734/2012 [00:04<00:00, 404.99it/s, now=None]\u001b[A\n",
      "chunk:  89%|████████▉ | 1787/2012 [00:04<00:00, 352.56it/s, now=None]\u001b[A\n",
      "chunk:  91%|█████████▏| 1836/2012 [00:04<00:00, 345.74it/s, now=None]\u001b[A\n",
      "chunk:  94%|█████████▍| 1887/2012 [00:04<00:00, 334.93it/s, now=None]\u001b[A\n",
      "chunk:  96%|█████████▋| 1938/2012 [00:04<00:00, 326.54it/s, now=None]\u001b[A\n",
      "chunk:  99%|█████████▉| 1989/2012 [00:04<00:00, 343.22it/s, now=None]\u001b[A\n",
      "chunk:   1%|▏         | 29/2121 [7:26:37<536:58:58, 924.06s/it, now=None]"
     ]
    },
    {
     "name": "stdout",
     "output_type": "stream",
     "text": [
      "MoviePy - Done.\n"
     ]
    },
    {
     "name": "stderr",
     "output_type": "stream",
     "text": [
      "chunk:   1%|▏         | 29/2121 [7:26:38<536:59:53, 924.09s/it, now=None]\n",
      "chunk:   0%|          | 0/2486 [00:00<?, ?it/s, now=None]\u001b[A\n"
     ]
    },
    {
     "name": "stdout",
     "output_type": "stream",
     "text": [
      "MoviePy - Writing audio in /home/jupyter/datasets/amigos/audio/Exp1_P35_audio/P35_5_audio.wav\n"
     ]
    },
    {
     "name": "stderr",
     "output_type": "stream",
     "text": [
      "chunk:   4%|▍         | 102/2486 [00:00<00:04, 567.63it/s, now=None]\u001b[A\n",
      "chunk:   8%|▊         | 204/2486 [00:00<00:04, 507.74it/s, now=None]\u001b[A\n",
      "chunk:  10%|█         | 255/2486 [00:00<00:05, 414.97it/s, now=None]\u001b[A\n",
      "chunk:  12%|█▏        | 306/2486 [00:00<00:07, 304.56it/s, now=None]\u001b[A\n",
      "chunk:  14%|█▍        | 357/2486 [00:01<00:07, 270.43it/s, now=None]\u001b[A\n",
      "chunk:  16%|█▋        | 408/2486 [00:01<00:10, 204.00it/s, now=None]\u001b[A\n",
      "chunk:  18%|█▊        | 459/2486 [00:01<00:10, 194.10it/s, now=None]\u001b[A\n",
      "chunk:  21%|██        | 510/2486 [00:01<00:08, 228.82it/s, now=None]\u001b[A\n",
      "chunk:  23%|██▎       | 561/2486 [00:02<00:07, 259.99it/s, now=None]\u001b[A\n",
      "chunk:  25%|██▍       | 612/2486 [00:02<00:06, 296.64it/s, now=None]\u001b[A\n",
      "chunk:  27%|██▋       | 663/2486 [00:02<00:06, 286.36it/s, now=None]\u001b[A\n",
      "chunk:  29%|██▊       | 714/2486 [00:02<00:05, 301.48it/s, now=None]\u001b[A\n",
      "chunk:  31%|███       | 765/2486 [00:02<00:05, 323.16it/s, now=None]\u001b[A\n",
      "chunk:  35%|███▍      | 869/2486 [00:02<00:03, 407.32it/s, now=None]\u001b[A\n",
      "chunk:  41%|████      | 1012/2486 [00:02<00:02, 518.46it/s, now=None]\u001b[A\n",
      "chunk:  44%|████▍     | 1094/2486 [00:02<00:02, 540.81it/s, now=None]\u001b[A\n",
      "chunk:  47%|████▋     | 1173/2486 [00:03<00:02, 549.14it/s, now=None]\u001b[A\n",
      "chunk:  51%|█████▏    | 1275/2486 [00:03<00:02, 595.21it/s, now=None]\u001b[A\n",
      "chunk:  57%|█████▋    | 1407/2486 [00:03<00:01, 712.55it/s, now=None]\u001b[A\n",
      "chunk:  60%|██████    | 1497/2486 [00:03<00:01, 747.59it/s, now=None]\u001b[A\n",
      "chunk:  64%|██████▍   | 1585/2486 [00:03<00:01, 576.58it/s, now=None]\u001b[A\n",
      "chunk:  67%|██████▋   | 1658/2486 [00:03<00:01, 571.55it/s, now=None]\u001b[A\n",
      "chunk:  69%|██████▉   | 1726/2486 [00:03<00:01, 597.85it/s, now=None]\u001b[A\n",
      "chunk:  72%|███████▏  | 1794/2486 [00:04<00:01, 580.21it/s, now=None]\u001b[A\n",
      "chunk:  76%|███████▌  | 1887/2486 [00:04<00:01, 598.33it/s, now=None]\u001b[A\n",
      "chunk:  81%|████████  | 2011/2486 [00:04<00:00, 708.11it/s, now=None]\u001b[A\n",
      "chunk:  84%|████████▍ | 2093/2486 [00:04<00:00, 690.37it/s, now=None]\u001b[A\n",
      "chunk:  89%|████████▉ | 2219/2486 [00:04<00:00, 798.67it/s, now=None]\u001b[A\n",
      "chunk:  93%|█████████▎| 2311/2486 [00:04<00:00, 682.26it/s, now=None]\u001b[A\n",
      "chunk:  98%|█████████▊| 2448/2486 [00:04<00:00, 754.15it/s, now=None]\u001b[A\n",
      "chunk:   1%|▏         | 29/2121 [7:26:43<537:05:46, 924.26s/it, now=None]"
     ]
    },
    {
     "name": "stdout",
     "output_type": "stream",
     "text": [
      "MoviePy - Done.\n"
     ]
    },
    {
     "name": "stderr",
     "output_type": "stream",
     "text": [
      "chunk:   1%|▏         | 29/2121 [7:26:44<537:06:26, 924.28s/it, now=None]\n",
      "chunk:   0%|          | 0/1428 [00:00<?, ?it/s, now=None]\u001b[A\n",
      "chunk:   7%|▋         | 102/1428 [00:00<00:01, 704.75it/s, now=None]\u001b[A"
     ]
    },
    {
     "name": "stdout",
     "output_type": "stream",
     "text": [
      "MoviePy - Writing audio in /home/jupyter/datasets/amigos/audio/Exp1_P35_audio/P35_58_audio.wav\n"
     ]
    },
    {
     "name": "stderr",
     "output_type": "stream",
     "text": [
      "\n",
      "chunk:  11%|█         | 153/1428 [00:00<00:02, 504.25it/s, now=None]\u001b[A\n",
      "chunk:  20%|██        | 288/1428 [00:00<00:01, 620.82it/s, now=None]\u001b[A\n",
      "chunk:  29%|██▊       | 408/1428 [00:00<00:01, 657.52it/s, now=None]\u001b[A\n",
      "chunk:  39%|███▉      | 561/1428 [00:00<00:01, 726.87it/s, now=None]\u001b[A\n",
      "chunk:  47%|████▋     | 674/1428 [00:00<00:00, 813.65it/s, now=None]\u001b[A\n",
      "chunk:  54%|█████▎    | 765/1428 [00:00<00:00, 740.45it/s, now=None]\u001b[A\n",
      "chunk:  64%|██████▍   | 916/1428 [00:01<00:00, 873.96it/s, now=None]\u001b[A\n",
      "chunk:  71%|███████▏  | 1020/1428 [00:01<00:00, 874.43it/s, now=None]\u001b[A\n",
      "chunk:  79%|███████▊  | 1122/1428 [00:01<00:00, 889.82it/s, now=None]\u001b[A\n",
      "chunk:  86%|████████▌ | 1224/1428 [00:01<00:00, 879.45it/s, now=None]\u001b[A\n",
      "chunk:  93%|█████████▎| 1326/1428 [00:01<00:00, 914.38it/s, now=None]\u001b[A\n",
      "chunk:   1%|▏         | 29/2121 [7:26:45<537:08:25, 924.33s/it, now=None]"
     ]
    },
    {
     "name": "stdout",
     "output_type": "stream",
     "text": [
      "MoviePy - Done.\n"
     ]
    },
    {
     "name": "stderr",
     "output_type": "stream",
     "text": [
      "chunk:   1%|▏         | 29/2121 [7:26:46<537:09:13, 924.36s/it, now=None]\n",
      "chunk:   0%|          | 0/2264 [00:00<?, ?it/s, now=None]\u001b[A\n"
     ]
    },
    {
     "name": "stdout",
     "output_type": "stream",
     "text": [
      "MoviePy - Writing audio in /home/jupyter/datasets/amigos/audio/Exp1_P35_audio/P35_80_audio.wav\n"
     ]
    },
    {
     "name": "stderr",
     "output_type": "stream",
     "text": [
      "chunk:   7%|▋         | 153/2264 [00:00<00:02, 851.01it/s, now=None]\u001b[A\n",
      "chunk:   9%|▉         | 204/2264 [00:00<00:04, 426.58it/s, now=None]\u001b[A\n",
      "chunk:  11%|█▏        | 255/2264 [00:00<00:05, 363.51it/s, now=None]\u001b[A\n",
      "chunk:  14%|█▎        | 306/2264 [00:00<00:05, 349.47it/s, now=None]\u001b[A\n",
      "chunk:  16%|█▌        | 357/2264 [00:00<00:05, 332.35it/s, now=None]\u001b[A\n",
      "chunk:  18%|█▊        | 408/2264 [00:01<00:07, 241.26it/s, now=None]\u001b[A\n",
      "chunk:  20%|██        | 459/2264 [00:01<00:07, 228.75it/s, now=None]\u001b[A\n",
      "chunk:  23%|██▎       | 510/2264 [00:01<00:07, 248.11it/s, now=None]\u001b[A\n",
      "chunk:  25%|██▍       | 561/2264 [00:02<00:07, 216.82it/s, now=None]\u001b[A\n",
      "chunk:  27%|██▋       | 612/2264 [00:02<00:07, 229.98it/s, now=None]\u001b[A\n",
      "chunk:  32%|███▏      | 714/2264 [00:02<00:05, 265.96it/s, now=None]\u001b[A\n",
      "chunk:  34%|███▍      | 765/2264 [00:02<00:05, 294.52it/s, now=None]\u001b[A\n",
      "chunk:  38%|███▊      | 867/2264 [00:02<00:03, 361.21it/s, now=None]\u001b[A\n",
      "chunk:  43%|████▎     | 969/2264 [00:02<00:03, 397.20it/s, now=None]\u001b[A\n",
      "chunk:  45%|████▌     | 1024/2264 [00:03<00:02, 433.20it/s, now=None]\u001b[A\n",
      "chunk:  47%|████▋     | 1074/2264 [00:03<00:03, 382.40it/s, now=None]\u001b[A\n",
      "chunk:  52%|█████▏    | 1173/2264 [00:03<00:02, 425.48it/s, now=None]\u001b[A\n",
      "chunk:  56%|█████▋    | 1275/2264 [00:03<00:02, 438.66it/s, now=None]\u001b[A\n",
      "chunk:  61%|██████    | 1377/2264 [00:03<00:01, 471.29it/s, now=None]\u001b[A\n",
      "chunk:  65%|██████▌   | 1479/2264 [00:03<00:01, 529.22it/s, now=None]\u001b[A\n",
      "chunk:  70%|██████▉   | 1581/2264 [00:04<00:01, 503.37it/s, now=None]\u001b[A\n",
      "chunk:  72%|███████▏  | 1635/2264 [00:04<00:01, 378.30it/s, now=None]\u001b[A\n",
      "chunk:  74%|███████▍  | 1683/2264 [00:04<00:01, 304.78it/s, now=None]\u001b[A\n",
      "chunk:  77%|███████▋  | 1734/2264 [00:04<00:01, 308.67it/s, now=None]\u001b[A\n",
      "chunk:  79%|███████▉  | 1785/2264 [00:04<00:01, 322.43it/s, now=None]\u001b[A\n",
      "chunk:  82%|████████▏ | 1864/2264 [00:04<00:01, 391.97it/s, now=None]\u001b[A\n",
      "chunk:  86%|████████▌ | 1938/2264 [00:05<00:00, 381.26it/s, now=None]\u001b[A\n",
      "chunk:  88%|████████▊ | 1989/2264 [00:05<00:00, 379.73it/s, now=None]\u001b[A\n",
      "chunk:  91%|█████████ | 2059/2264 [00:05<00:00, 440.06it/s, now=None]\u001b[A\n",
      "chunk:  93%|█████████▎| 2110/2264 [00:05<00:00, 407.88it/s, now=None]\u001b[A\n",
      "chunk:  97%|█████████▋| 2193/2264 [00:05<00:00, 427.83it/s, now=None]\u001b[A\n",
      "chunk:   1%|▏         | 29/2121 [7:26:52<537:16:11, 924.56s/it, now=None]"
     ]
    },
    {
     "name": "stdout",
     "output_type": "stream",
     "text": [
      "MoviePy - Done.\n"
     ]
    },
    {
     "name": "stderr",
     "output_type": "stream",
     "text": [
      "chunk:   1%|▏         | 29/2121 [7:26:53<537:17:14, 924.59s/it, now=None]\n",
      "chunk:   0%|          | 0/1674 [00:00<?, ?it/s, now=None]\u001b[A\n",
      "chunk:   9%|▉         | 153/1674 [00:00<00:01, 1072.98it/s, now=None]\u001b[A"
     ]
    },
    {
     "name": "stdout",
     "output_type": "stream",
     "text": [
      "MoviePy - Writing audio in /home/jupyter/datasets/amigos/audio/Exp1_P35_audio/P35_9_audio.wav\n"
     ]
    },
    {
     "name": "stderr",
     "output_type": "stream",
     "text": [
      "\n",
      "chunk:  15%|█▌        | 255/1674 [00:00<00:02, 576.24it/s, now=None] \u001b[A\n",
      "chunk:  21%|██▏       | 357/1674 [00:00<00:02, 579.53it/s, now=None]\u001b[A\n",
      "chunk:  27%|██▋       | 459/1674 [00:00<00:01, 625.33it/s, now=None]\u001b[A\n",
      "chunk:  30%|███       | 510/1674 [00:00<00:02, 505.88it/s, now=None]\u001b[A\n",
      "chunk:  37%|███▋      | 612/1674 [00:01<00:01, 551.41it/s, now=None]\u001b[A\n",
      "chunk:  43%|████▎     | 714/1674 [00:01<00:01, 584.38it/s, now=None]\u001b[A\n",
      "chunk:  46%|████▌     | 772/1674 [00:01<00:01, 537.50it/s, now=None]\u001b[A\n",
      "chunk:  52%|█████▏    | 867/1674 [00:01<00:01, 521.79it/s, now=None]\u001b[A\n",
      "chunk:  55%|█████▍    | 920/1674 [00:01<00:01, 502.32it/s, now=None]\u001b[A\n",
      "chunk:  61%|██████    | 1020/1674 [00:01<00:01, 572.00it/s, now=None]\u001b[A\n",
      "chunk:  65%|██████▍   | 1081/1674 [00:01<00:01, 541.91it/s, now=None]\u001b[A\n",
      "chunk:  70%|███████   | 1173/1674 [00:02<00:00, 571.66it/s, now=None]\u001b[A\n",
      "chunk:  76%|███████▌  | 1275/1674 [00:02<00:00, 647.12it/s, now=None]\u001b[A\n",
      "chunk:  82%|████████▏ | 1377/1674 [00:02<00:00, 694.46it/s, now=None]\u001b[A\n",
      "chunk:  88%|████████▊ | 1479/1674 [00:02<00:00, 641.54it/s, now=None]\u001b[A\n",
      "chunk:  92%|█████████▏| 1548/1674 [00:02<00:00, 634.28it/s, now=None]\u001b[A\n",
      "chunk:  97%|█████████▋| 1632/1674 [00:02<00:00, 655.92it/s, now=None]\u001b[A\n",
      "chunk:   1%|▏         | 29/2121 [7:26:55<537:20:34, 924.68s/it, now=None]"
     ]
    },
    {
     "name": "stdout",
     "output_type": "stream",
     "text": [
      "MoviePy - Done.\n"
     ]
    },
    {
     "name": "stderr",
     "output_type": "stream",
     "text": [
      "chunk:   1%|▏         | 29/2121 [7:26:56<537:21:34, 924.71s/it, now=None]\n",
      "chunk:   0%|          | 0/2150 [00:00<?, ?it/s, now=None]\u001b[A\n",
      "chunk:   5%|▍         | 102/2150 [00:00<00:02, 982.59it/s, now=None]\u001b[A"
     ]
    },
    {
     "name": "stdout",
     "output_type": "stream",
     "text": [
      "MoviePy - Writing audio in /home/jupyter/datasets/amigos/audio/Exp1_P36_audio/P36_10_audio.wav\n"
     ]
    },
    {
     "name": "stderr",
     "output_type": "stream",
     "text": [
      "\n",
      "chunk:   9%|▉         | 204/2150 [00:00<00:02, 790.27it/s, now=None]\u001b[A\n",
      "chunk:  14%|█▍        | 306/2150 [00:00<00:02, 830.07it/s, now=None]\u001b[A\n",
      "chunk:  17%|█▋        | 361/2150 [00:00<00:02, 660.57it/s, now=None]\u001b[A\n",
      "chunk:  19%|█▉        | 413/2150 [00:00<00:02, 599.79it/s, now=None]\u001b[A\n",
      "chunk:  24%|██▎       | 510/2150 [00:00<00:02, 665.67it/s, now=None]\u001b[A\n",
      "chunk:  27%|██▋       | 573/2150 [00:00<00:02, 603.65it/s, now=None]\u001b[A\n",
      "chunk:  31%|███       | 663/2150 [00:01<00:02, 557.14it/s, now=None]\u001b[A\n",
      "chunk:  33%|███▎      | 719/2150 [00:01<00:02, 518.75it/s, now=None]\u001b[A\n",
      "chunk:  36%|███▌      | 771/2150 [00:01<00:02, 478.56it/s, now=None]\u001b[A\n",
      "chunk:  40%|████      | 867/2150 [00:01<00:02, 527.08it/s, now=None]\u001b[A\n",
      "chunk:  43%|████▎     | 922/2150 [00:01<00:02, 526.22it/s, now=None]\u001b[A\n",
      "chunk:  45%|████▌     | 977/2150 [00:01<00:02, 491.54it/s, now=None]\u001b[A\n",
      "chunk:  50%|████▉     | 1071/2150 [00:01<00:02, 528.96it/s, now=None]\u001b[A\n",
      "chunk:  55%|█████▍    | 1173/2150 [00:01<00:01, 556.03it/s, now=None]\u001b[A\n",
      "chunk:  59%|█████▉    | 1275/2150 [00:02<00:01, 614.01it/s, now=None]\u001b[A\n",
      "chunk:  64%|██████▍   | 1377/2150 [00:02<00:01, 609.73it/s, now=None]\u001b[A\n",
      "chunk:  67%|██████▋   | 1441/2150 [00:02<00:01, 583.57it/s, now=None]\u001b[A\n",
      "chunk:  71%|███████   | 1530/2150 [00:02<00:01, 601.01it/s, now=None]\u001b[A\n",
      "chunk:  76%|███████▌  | 1632/2150 [00:02<00:00, 645.87it/s, now=None]\u001b[A\n",
      "chunk:  83%|████████▎ | 1785/2150 [00:02<00:00, 713.35it/s, now=None]\u001b[A\n",
      "chunk:  87%|████████▋ | 1878/2150 [00:02<00:00, 766.72it/s, now=None]\u001b[A\n",
      "chunk:  91%|█████████ | 1959/2150 [00:03<00:00, 769.73it/s, now=None]\u001b[A\n",
      "chunk:  95%|█████████▍| 2040/2150 [00:03<00:00, 436.78it/s, now=None]\u001b[A\n",
      "chunk:  98%|█████████▊| 2103/2150 [00:03<00:00, 457.36it/s, now=None]\u001b[A\n",
      "chunk:   1%|▏         | 29/2121 [7:27:00<537:25:53, 924.83s/it, now=None]"
     ]
    },
    {
     "name": "stdout",
     "output_type": "stream",
     "text": [
      "MoviePy - Done.\n"
     ]
    },
    {
     "name": "stderr",
     "output_type": "stream",
     "text": [
      "chunk:   1%|▏         | 29/2121 [7:27:00<537:26:32, 924.85s/it, now=None]\n",
      "chunk:   0%|          | 0/1288 [00:00<?, ?it/s, now=None]\u001b[A\n",
      "chunk:   8%|▊         | 102/1288 [00:00<00:01, 751.49it/s, now=None]\u001b[A"
     ]
    },
    {
     "name": "stdout",
     "output_type": "stream",
     "text": [
      "MoviePy - Writing audio in /home/jupyter/datasets/amigos/audio/Exp1_P36_audio/P36_13_audio.wav\n"
     ]
    },
    {
     "name": "stderr",
     "output_type": "stream",
     "text": [
      "\n",
      "chunk:  12%|█▏        | 153/1288 [00:00<00:01, 607.33it/s, now=None]\u001b[A\n",
      "chunk:  20%|█▉        | 255/1288 [00:00<00:01, 683.66it/s, now=None]\u001b[A\n",
      "chunk:  27%|██▋       | 344/1288 [00:00<00:01, 734.68it/s, now=None]\u001b[A\n",
      "chunk:  32%|███▏      | 408/1288 [00:00<00:01, 643.44it/s, now=None]\u001b[A\n",
      "chunk:  39%|███▊      | 496/1288 [00:00<00:01, 699.81it/s, now=None]\u001b[A\n",
      "chunk:  45%|████▌     | 583/1288 [00:00<00:00, 743.30it/s, now=None]\u001b[A\n",
      "chunk:  55%|█████▌    | 714/1288 [00:00<00:00, 770.24it/s, now=None]\u001b[A\n",
      "chunk:  63%|██████▎   | 816/1288 [00:01<00:00, 776.80it/s, now=None]\u001b[A\n",
      "chunk:  71%|███████▏  | 918/1288 [00:01<00:00, 666.06it/s, now=None]\u001b[A\n",
      "chunk:  79%|███████▉  | 1020/1288 [00:01<00:00, 707.89it/s, now=None]\u001b[A\n",
      "chunk:  87%|████████▋ | 1122/1288 [00:01<00:00, 654.76it/s, now=None]\u001b[A\n",
      "chunk:  95%|█████████▌| 1224/1288 [00:01<00:00, 652.41it/s, now=None]\u001b[A\n",
      "chunk:   1%|▏         | 29/2121 [7:27:02<537:28:41, 924.91s/it, now=None]"
     ]
    },
    {
     "name": "stdout",
     "output_type": "stream",
     "text": [
      "MoviePy - Done.\n"
     ]
    },
    {
     "name": "stderr",
     "output_type": "stream",
     "text": [
      "chunk:   1%|▏         | 29/2121 [7:27:03<537:29:24, 924.94s/it, now=None]\n",
      "chunk:   0%|          | 0/2732 [00:00<?, ?it/s, now=None]\u001b[A"
     ]
    },
    {
     "name": "stdout",
     "output_type": "stream",
     "text": [
      "MoviePy - Writing audio in /home/jupyter/datasets/amigos/audio/Exp1_P36_audio/P36_138_audio.wav\n"
     ]
    },
    {
     "name": "stderr",
     "output_type": "stream",
     "text": [
      "\n",
      "chunk:   4%|▎         | 102/2732 [00:00<00:03, 717.89it/s, now=None]\u001b[A\n",
      "chunk:   6%|▌         | 153/2732 [00:00<00:04, 549.41it/s, now=None]\u001b[A\n",
      "chunk:   7%|▋         | 204/2732 [00:00<00:05, 475.07it/s, now=None]\u001b[A\n",
      "chunk:   9%|▉         | 255/2732 [00:00<00:06, 408.94it/s, now=None]\u001b[A\n",
      "chunk:  11%|█         | 306/2732 [00:00<00:05, 431.60it/s, now=None]\u001b[A\n",
      "chunk:  13%|█▎        | 357/2732 [00:00<00:05, 422.52it/s, now=None]\u001b[A\n",
      "chunk:  15%|█▍        | 408/2732 [00:00<00:05, 433.54it/s, now=None]\u001b[A\n",
      "chunk:  19%|█▊        | 509/2732 [00:01<00:04, 523.05it/s, now=None]\u001b[A\n",
      "chunk:  21%|██        | 568/2732 [00:01<00:04, 519.74it/s, now=None]\u001b[A\n",
      "chunk:  23%|██▎       | 625/2732 [00:01<00:04, 504.16it/s, now=None]\u001b[A\n",
      "chunk:  26%|██▌       | 714/2732 [00:01<00:04, 488.41it/s, now=None]\u001b[A\n",
      "chunk:  28%|██▊       | 765/2732 [00:01<00:04, 475.76it/s, now=None]\u001b[A\n",
      "chunk:  34%|███▎      | 918/2732 [00:01<00:03, 571.19it/s, now=None]\u001b[A\n",
      "chunk:  37%|███▋      | 1020/2732 [00:01<00:02, 623.47it/s, now=None]\u001b[A\n",
      "chunk:  40%|███▉      | 1091/2732 [00:01<00:02, 586.92it/s, now=None]\u001b[A\n",
      "chunk:  43%|████▎     | 1173/2732 [00:02<00:02, 572.38it/s, now=None]\u001b[A\n",
      "chunk:  47%|████▋     | 1275/2732 [00:02<00:02, 595.00it/s, now=None]\u001b[A\n",
      "chunk:  50%|█████     | 1367/2732 [00:02<00:02, 665.27it/s, now=None]\u001b[A\n",
      "chunk:  53%|█████▎    | 1439/2732 [00:02<00:02, 471.41it/s, now=None]\u001b[A\n",
      "chunk:  55%|█████▍    | 1498/2732 [00:02<00:02, 482.26it/s, now=None]\u001b[A\n",
      "chunk:  58%|█████▊    | 1581/2732 [00:02<00:02, 440.84it/s, now=None]\u001b[A\n",
      "chunk:  60%|█████▉    | 1632/2732 [00:03<00:02, 431.50it/s, now=None]\u001b[A\n",
      "chunk:  63%|██████▎   | 1734/2732 [00:03<00:02, 490.58it/s, now=None]\u001b[A\n",
      "chunk:  67%|██████▋   | 1836/2732 [00:03<00:01, 460.27it/s, now=None]\u001b[A\n",
      "chunk:  69%|██████▉   | 1887/2732 [00:03<00:02, 417.45it/s, now=None]\u001b[A\n",
      "chunk:  73%|███████▎  | 1989/2732 [00:03<00:01, 420.01it/s, now=None]\u001b[A\n",
      "chunk:  75%|███████▍  | 2040/2732 [00:04<00:02, 339.42it/s, now=None]\u001b[A\n",
      "chunk:  77%|███████▋  | 2091/2732 [00:04<00:01, 341.01it/s, now=None]\u001b[A\n",
      "chunk:  80%|████████  | 2193/2732 [00:04<00:01, 423.47it/s, now=None]\u001b[A\n",
      "chunk:  83%|████████▎ | 2279/2732 [00:04<00:00, 499.45it/s, now=None]\u001b[A\n",
      "chunk:  87%|████████▋ | 2377/2732 [00:04<00:00, 585.43it/s, now=None]\u001b[A\n",
      "chunk:  90%|████████▉ | 2452/2732 [00:04<00:00, 468.95it/s, now=None]\u001b[A\n",
      "chunk:  93%|█████████▎| 2550/2732 [00:04<00:00, 555.00it/s, now=None]\u001b[A\n",
      "chunk:  97%|█████████▋| 2652/2732 [00:05<00:00, 606.83it/s, now=None]\u001b[A\n",
      "chunk: 100%|█████████▉| 2726/2732 [00:05<00:00, 508.57it/s, now=None]\u001b[A\n",
      "chunk:   1%|▏         | 29/2121 [7:27:08<537:35:57, 925.12s/it, now=None]"
     ]
    },
    {
     "name": "stdout",
     "output_type": "stream",
     "text": [
      "MoviePy - Done.\n"
     ]
    },
    {
     "name": "stderr",
     "output_type": "stream",
     "text": [
      "chunk:   1%|▏         | 29/2121 [7:27:09<537:36:50, 925.15s/it, now=None]\n",
      "chunk:   0%|          | 0/1864 [00:00<?, ?it/s, now=None]\u001b[A\n",
      "chunk:   5%|▌         | 102/1864 [00:00<00:02, 669.37it/s, now=None]\u001b[A"
     ]
    },
    {
     "name": "stdout",
     "output_type": "stream",
     "text": [
      "MoviePy - Writing audio in /home/jupyter/datasets/amigos/audio/Exp1_P36_audio/P36_18_audio.wav\n"
     ]
    },
    {
     "name": "stderr",
     "output_type": "stream",
     "text": [
      "\n",
      "chunk:   8%|▊         | 153/1864 [00:00<00:02, 608.27it/s, now=None]\u001b[A\n",
      "chunk:  11%|█         | 204/1864 [00:00<00:03, 539.70it/s, now=None]\u001b[A\n",
      "chunk:  14%|█▎        | 255/1864 [00:00<00:03, 524.64it/s, now=None]\u001b[A\n",
      "chunk:  16%|█▋        | 306/1864 [00:00<00:03, 422.54it/s, now=None]\u001b[A\n",
      "chunk:  19%|█▉        | 357/1864 [00:00<00:05, 301.17it/s, now=None]\u001b[A\n",
      "chunk:  22%|██▏       | 408/1864 [00:01<00:04, 307.29it/s, now=None]\u001b[A\n",
      "chunk:  25%|██▍       | 459/1864 [00:01<00:04, 340.40it/s, now=None]\u001b[A\n",
      "chunk:  30%|███       | 561/1864 [00:01<00:03, 401.90it/s, now=None]\u001b[A\n",
      "chunk:  33%|███▎      | 612/1864 [00:01<00:03, 402.88it/s, now=None]\u001b[A\n",
      "chunk:  36%|███▌      | 663/1864 [00:01<00:03, 384.05it/s, now=None]\u001b[A\n",
      "chunk:  39%|███▉      | 727/1864 [00:01<00:02, 436.31it/s, now=None]\u001b[A\n",
      "chunk:  42%|████▏     | 776/1864 [00:01<00:03, 307.18it/s, now=None]\u001b[A\n",
      "chunk:  44%|████▍     | 816/1864 [00:02<00:03, 325.87it/s, now=None]\u001b[A\n",
      "chunk:  47%|████▋     | 867/1864 [00:02<00:02, 340.41it/s, now=None]\u001b[A\n",
      "chunk:  52%|█████▏    | 969/1864 [00:02<00:02, 381.05it/s, now=None]\u001b[A\n",
      "chunk:  55%|█████▍    | 1020/1864 [00:02<00:02, 387.82it/s, now=None]\u001b[A\n",
      "chunk:  60%|██████    | 1122/1864 [00:02<00:01, 419.51it/s, now=None]\u001b[A\n",
      "chunk:  65%|██████▍   | 1209/1864 [00:02<00:01, 496.47it/s, now=None]\u001b[A\n",
      "chunk:  68%|██████▊   | 1267/1864 [00:02<00:01, 504.55it/s, now=None]\u001b[A\n",
      "chunk:  71%|███████   | 1324/1864 [00:03<00:01, 475.85it/s, now=None]\u001b[A\n",
      "chunk:  74%|███████▍  | 1376/1864 [00:03<00:01, 416.02it/s, now=None]\u001b[A\n",
      "chunk:  77%|███████▋  | 1428/1864 [00:03<00:01, 393.86it/s, now=None]\u001b[A\n",
      "chunk:  82%|████████▏ | 1530/1864 [00:03<00:00, 442.55it/s, now=None]\u001b[A\n",
      "chunk:  88%|████████▊ | 1632/1864 [00:03<00:00, 501.46it/s, now=None]\u001b[A\n",
      "chunk:  93%|█████████▎| 1734/1864 [00:03<00:00, 534.17it/s, now=None]\u001b[A\n",
      "chunk:  98%|█████████▊| 1836/1864 [00:04<00:00, 520.86it/s, now=None]\u001b[A\n",
      "chunk:   1%|▏         | 29/2121 [7:27:13<537:41:48, 925.29s/it, now=None]"
     ]
    },
    {
     "name": "stdout",
     "output_type": "stream",
     "text": [
      "MoviePy - Done.\n"
     ]
    },
    {
     "name": "stderr",
     "output_type": "stream",
     "text": [
      "chunk:   1%|▏         | 29/2121 [7:27:13<537:42:25, 925.31s/it, now=None]\n",
      "chunk:   0%|          | 0/2811 [00:00<?, ?it/s, now=None]\u001b[A\n",
      "chunk:   4%|▍         | 123/2811 [00:00<00:02, 1228.82it/s, now=None]\u001b[A"
     ]
    },
    {
     "name": "stdout",
     "output_type": "stream",
     "text": [
      "MoviePy - Writing audio in /home/jupyter/datasets/amigos/audio/Exp1_P36_audio/P36_19_audio.wav\n"
     ]
    },
    {
     "name": "stderr",
     "output_type": "stream",
     "text": [
      "\n",
      "chunk:   7%|▋         | 204/2811 [00:00<00:04, 581.79it/s, now=None] \u001b[A\n",
      "chunk:   9%|▉         | 255/2811 [00:00<00:04, 516.01it/s, now=None]\u001b[A\n",
      "chunk:  11%|█         | 306/2811 [00:00<00:05, 482.80it/s, now=None]\u001b[A\n",
      "chunk:  15%|█▍        | 408/2811 [00:00<00:04, 521.63it/s, now=None]\u001b[A\n",
      "chunk:  18%|█▊        | 497/2811 [00:00<00:03, 595.47it/s, now=None]\u001b[A\n",
      "chunk:  20%|█▉        | 561/2811 [00:01<00:03, 563.20it/s, now=None]\u001b[A\n",
      "chunk:  22%|██▏       | 618/2811 [00:01<00:05, 424.71it/s, now=None]\u001b[A\n",
      "chunk:  24%|██▎       | 666/2811 [00:01<00:06, 308.01it/s, now=None]\u001b[A\n",
      "chunk:  27%|██▋       | 765/2811 [00:01<00:05, 354.88it/s, now=None]\u001b[A\n",
      "chunk:  29%|██▉       | 816/2811 [00:01<00:05, 380.07it/s, now=None]\u001b[A\n",
      "chunk:  33%|███▎      | 918/2811 [00:01<00:04, 462.13it/s, now=None]\u001b[A\n",
      "chunk:  36%|███▋      | 1020/2811 [00:02<00:03, 461.15it/s, now=None]\u001b[A\n",
      "chunk:  40%|███▉      | 1122/2811 [00:02<00:03, 517.26it/s, now=None]\u001b[A\n",
      "chunk:  44%|████▎     | 1224/2811 [00:02<00:02, 567.11it/s, now=None]\u001b[A\n",
      "chunk:  46%|████▌     | 1289/2811 [00:02<00:03, 505.62it/s, now=None]\u001b[A\n",
      "chunk:  49%|████▉     | 1377/2811 [00:02<00:02, 522.19it/s, now=None]\u001b[A\n",
      "chunk:  53%|█████▎    | 1479/2811 [00:02<00:02, 608.03it/s, now=None]\u001b[A\n",
      "chunk:  56%|█████▌    | 1581/2811 [00:02<00:01, 630.45it/s, now=None]\u001b[A\n",
      "chunk:  60%|█████▉    | 1683/2811 [00:03<00:01, 637.39it/s, now=None]\u001b[A\n",
      "chunk:  64%|██████▎   | 1785/2811 [00:03<00:01, 606.19it/s, now=None]\u001b[A\n",
      "chunk:  67%|██████▋   | 1887/2811 [00:03<00:01, 657.61it/s, now=None]\u001b[A\n",
      "chunk:  71%|███████   | 1989/2811 [00:03<00:01, 734.07it/s, now=None]\u001b[A\n",
      "chunk:  74%|███████▍  | 2091/2811 [00:03<00:00, 772.84it/s, now=None]\u001b[A\n",
      "chunk:  78%|███████▊  | 2193/2811 [00:03<00:00, 746.15it/s, now=None]\u001b[A\n",
      "chunk:  82%|████████▏ | 2295/2811 [00:03<00:00, 790.79it/s, now=None]\u001b[A\n",
      "chunk:  85%|████████▌ | 2397/2811 [00:04<00:00, 761.86it/s, now=None]\u001b[A\n",
      "chunk:  89%|████████▉ | 2499/2811 [00:04<00:00, 617.08it/s, now=None]\u001b[A\n",
      "chunk:  93%|█████████▎| 2601/2811 [00:04<00:00, 641.91it/s, now=None]\u001b[A\n",
      "chunk:  95%|█████████▍| 2670/2811 [00:04<00:00, 600.65it/s, now=None]\u001b[A\n",
      "chunk:  97%|█████████▋| 2734/2811 [00:04<00:00, 514.06it/s, now=None]\u001b[A\n",
      "chunk:   1%|▏         | 29/2121 [7:27:18<537:48:15, 925.48s/it, now=None]"
     ]
    },
    {
     "name": "stdout",
     "output_type": "stream",
     "text": [
      "MoviePy - Done.\n"
     ]
    },
    {
     "name": "stderr",
     "output_type": "stream",
     "text": [
      "chunk:   1%|▏         | 29/2121 [7:27:19<537:49:23, 925.51s/it, now=None]\n",
      "chunk:   0%|          | 0/1472 [00:00<?, ?it/s, now=None]\u001b[A\n",
      "chunk:   7%|▋         | 102/1472 [00:00<00:02, 679.89it/s, now=None]\u001b[A"
     ]
    },
    {
     "name": "stdout",
     "output_type": "stream",
     "text": [
      "MoviePy - Writing audio in /home/jupyter/datasets/amigos/audio/Exp1_P36_audio/P36_20_audio.wav\n"
     ]
    },
    {
     "name": "stderr",
     "output_type": "stream",
     "text": [
      "\n",
      "chunk:  10%|█         | 153/1472 [00:00<00:02, 515.70it/s, now=None]\u001b[A\n",
      "chunk:  14%|█▍        | 204/1472 [00:00<00:03, 366.84it/s, now=None]\u001b[A\n",
      "chunk:  17%|█▋        | 255/1472 [00:00<00:04, 277.01it/s, now=None]\u001b[A\n",
      "chunk:  21%|██        | 306/1472 [00:01<00:05, 227.02it/s, now=None]\u001b[A\n",
      "chunk:  24%|██▍       | 357/1472 [00:01<00:05, 208.34it/s, now=None]\u001b[A\n",
      "chunk:  28%|██▊       | 408/1472 [00:01<00:04, 215.82it/s, now=None]\u001b[A\n",
      "chunk:  31%|███       | 459/1472 [00:01<00:04, 235.39it/s, now=None]\u001b[A\n",
      "chunk:  35%|███▍      | 510/1472 [00:01<00:03, 252.27it/s, now=None]\u001b[A\n",
      "chunk:  38%|███▊      | 561/1472 [00:02<00:03, 274.02it/s, now=None]\u001b[A\n",
      "chunk:  42%|████▏     | 612/1472 [00:02<00:03, 271.93it/s, now=None]\u001b[A\n",
      "chunk:  45%|████▌     | 663/1472 [00:02<00:03, 257.26it/s, now=None]\u001b[A\n",
      "chunk:  49%|████▊     | 714/1472 [00:02<00:02, 254.74it/s, now=None]\u001b[A\n",
      "chunk:  52%|█████▏    | 765/1472 [00:03<00:03, 229.38it/s, now=None]\u001b[A\n",
      "chunk:  55%|█████▌    | 816/1472 [00:03<00:02, 269.87it/s, now=None]\u001b[A\n",
      "chunk:  62%|██████▏   | 918/1472 [00:03<00:01, 325.67it/s, now=None]\u001b[A\n",
      "chunk:  69%|██████▉   | 1020/1472 [00:03<00:01, 392.47it/s, now=None]\u001b[A\n",
      "chunk:  73%|███████▎  | 1071/1472 [00:03<00:01, 335.79it/s, now=None]\u001b[A\n",
      "chunk:  76%|███████▌  | 1122/1472 [00:03<00:00, 370.60it/s, now=None]\u001b[A\n",
      "chunk:  83%|████████▎ | 1224/1472 [00:03<00:00, 423.40it/s, now=None]\u001b[A\n",
      "chunk:  87%|████████▋ | 1275/1472 [00:04<00:00, 374.74it/s, now=None]\u001b[A\n",
      "chunk:  90%|█████████ | 1326/1472 [00:04<00:00, 341.52it/s, now=None]\u001b[A\n",
      "chunk:  94%|█████████▎| 1377/1472 [00:04<00:00, 339.91it/s, now=None]\u001b[A\n",
      "chunk:  97%|█████████▋| 1428/1472 [00:04<00:00, 339.23it/s, now=None]\u001b[A\n",
      "chunk:   1%|▏         | 29/2121 [7:27:24<537:54:55, 925.67s/it, now=None]"
     ]
    },
    {
     "name": "stdout",
     "output_type": "stream",
     "text": [
      "MoviePy - Done.\n"
     ]
    },
    {
     "name": "stderr",
     "output_type": "stream",
     "text": [
      "chunk:   1%|▏         | 29/2121 [7:27:25<537:55:53, 925.69s/it, now=None]\n",
      "chunk:   0%|          | 0/2502 [00:00<?, ?it/s, now=None]\u001b[A\n",
      "chunk:   4%|▍         | 102/2502 [00:00<00:02, 871.95it/s, now=None]\u001b[A"
     ]
    },
    {
     "name": "stdout",
     "output_type": "stream",
     "text": [
      "MoviePy - Writing audio in /home/jupyter/datasets/amigos/audio/Exp1_P36_audio/P36_23_audio.wav\n"
     ]
    },
    {
     "name": "stderr",
     "output_type": "stream",
     "text": [
      "\n",
      "chunk:   6%|▌         | 153/2502 [00:00<00:03, 706.89it/s, now=None]\u001b[A\n",
      "chunk:   8%|▊         | 204/2502 [00:00<00:03, 600.35it/s, now=None]\u001b[A\n",
      "chunk:  10%|█         | 255/2502 [00:00<00:05, 432.22it/s, now=None]\u001b[A\n",
      "chunk:  12%|█▏        | 306/2502 [00:00<00:05, 401.24it/s, now=None]\u001b[A\n",
      "chunk:  14%|█▍        | 357/2502 [00:00<00:05, 372.79it/s, now=None]\u001b[A\n",
      "chunk:  16%|█▋        | 408/2502 [00:01<00:06, 333.27it/s, now=None]\u001b[A\n",
      "chunk:  20%|█▉        | 500/2502 [00:01<00:04, 412.10it/s, now=None]\u001b[A\n",
      "chunk:  22%|██▏       | 561/2502 [00:01<00:04, 405.06it/s, now=None]\u001b[A\n",
      "chunk:  26%|██▋       | 663/2502 [00:01<00:03, 469.70it/s, now=None]\u001b[A\n",
      "chunk:  31%|███       | 765/2502 [00:01<00:03, 523.99it/s, now=None]\u001b[A\n",
      "chunk:  33%|███▎      | 825/2502 [00:01<00:03, 518.17it/s, now=None]\u001b[A\n",
      "chunk:  35%|███▌      | 883/2502 [00:01<00:04, 401.84it/s, now=None]\u001b[A\n",
      "chunk:  37%|███▋      | 931/2502 [00:02<00:04, 344.86it/s, now=None]\u001b[A\n",
      "chunk:  41%|████      | 1020/2502 [00:02<00:04, 367.49it/s, now=None]\u001b[A\n",
      "chunk:  43%|████▎     | 1071/2502 [00:02<00:03, 372.10it/s, now=None]\u001b[A\n",
      "chunk:  45%|████▍     | 1122/2502 [00:02<00:04, 336.76it/s, now=None]\u001b[A\n",
      "chunk:  47%|████▋     | 1173/2502 [00:02<00:05, 261.41it/s, now=None]\u001b[A\n",
      "chunk:  49%|████▉     | 1224/2502 [00:03<00:04, 264.09it/s, now=None]\u001b[A\n",
      "chunk:  53%|█████▎    | 1326/2502 [00:03<00:03, 306.79it/s, now=None]\u001b[A\n",
      "chunk:  55%|█████▌    | 1377/2502 [00:03<00:03, 311.26it/s, now=None]\u001b[A\n",
      "chunk:  59%|█████▉    | 1479/2502 [00:03<00:02, 378.32it/s, now=None]\u001b[A\n",
      "chunk:  61%|██████    | 1530/2502 [00:03<00:02, 405.21it/s, now=None]\u001b[A\n",
      "chunk:  63%|██████▎   | 1581/2502 [00:03<00:02, 405.53it/s, now=None]\u001b[A\n",
      "chunk:  67%|██████▋   | 1683/2502 [00:04<00:01, 442.48it/s, now=None]\u001b[A\n",
      "chunk:  71%|███████▏  | 1785/2502 [00:04<00:01, 475.43it/s, now=None]\u001b[A\n",
      "chunk:  74%|███████▎  | 1845/2502 [00:04<00:01, 507.00it/s, now=None]\u001b[A\n",
      "chunk:  77%|███████▋  | 1938/2502 [00:04<00:01, 539.33it/s, now=None]\u001b[A\n",
      "chunk:  80%|███████▉  | 1995/2502 [00:04<00:01, 460.74it/s, now=None]\u001b[A\n",
      "chunk:  82%|████████▏ | 2046/2502 [00:04<00:00, 456.02it/s, now=None]\u001b[A\n",
      "chunk:  86%|████████▌ | 2142/2502 [00:04<00:00, 529.39it/s, now=None]\u001b[A\n",
      "chunk:  90%|████████▉ | 2244/2502 [00:04<00:00, 607.85it/s, now=None]\u001b[A\n",
      "chunk:  96%|█████████▌| 2397/2502 [00:05<00:00, 670.27it/s, now=None]\u001b[A\n",
      "chunk: 100%|█████████▉| 2501/2502 [00:05<00:00, 750.28it/s, now=None]\u001b[A\n",
      "chunk:   1%|▏         | 29/2121 [7:27:30<538:02:11, 925.88s/it, now=None]"
     ]
    },
    {
     "name": "stdout",
     "output_type": "stream",
     "text": [
      "MoviePy - Done.\n"
     ]
    },
    {
     "name": "stderr",
     "output_type": "stream",
     "text": [
      "chunk:   1%|▏         | 29/2121 [7:27:31<538:03:05, 925.90s/it, now=None]\n",
      "chunk:   0%|          | 0/1714 [00:00<?, ?it/s, now=None]\u001b[A"
     ]
    },
    {
     "name": "stdout",
     "output_type": "stream",
     "text": [
      "MoviePy - Writing audio in /home/jupyter/datasets/amigos/audio/Exp1_P36_audio/P36_30_audio.wav\n"
     ]
    },
    {
     "name": "stderr",
     "output_type": "stream",
     "text": [
      "\n",
      "chunk:   9%|▉         | 153/1714 [00:00<00:02, 714.70it/s, now=None]\u001b[A\n",
      "chunk:  15%|█▍        | 249/1714 [00:00<00:01, 773.74it/s, now=None]\u001b[A\n",
      "chunk:  18%|█▊        | 306/1714 [00:00<00:02, 647.30it/s, now=None]\u001b[A\n",
      "chunk:  21%|██        | 357/1714 [00:00<00:03, 452.10it/s, now=None]\u001b[A\n",
      "chunk:  26%|██▋       | 453/1714 [00:00<00:02, 537.30it/s, now=None]\u001b[A\n",
      "chunk:  30%|██▉       | 510/1714 [00:00<00:02, 437.45it/s, now=None]\u001b[A\n",
      "chunk:  33%|███▎      | 561/1714 [00:01<00:03, 359.39it/s, now=None]\u001b[A\n",
      "chunk:  36%|███▌      | 612/1714 [00:01<00:02, 370.50it/s, now=None]\u001b[A\n",
      "chunk:  39%|███▊      | 663/1714 [00:01<00:03, 321.14it/s, now=None]\u001b[A\n",
      "chunk:  42%|████▏     | 714/1714 [00:01<00:02, 354.09it/s, now=None]\u001b[A\n",
      "chunk:  45%|████▍     | 765/1714 [00:01<00:02, 335.93it/s, now=None]\u001b[A\n",
      "chunk:  48%|████▊     | 816/1714 [00:01<00:02, 362.85it/s, now=None]\u001b[A\n",
      "chunk:  51%|█████     | 867/1714 [00:02<00:02, 289.58it/s, now=None]\u001b[A\n",
      "chunk:  54%|█████▎    | 918/1714 [00:02<00:02, 308.86it/s, now=None]\u001b[A\n",
      "chunk:  57%|█████▋    | 969/1714 [00:02<00:02, 308.10it/s, now=None]\u001b[A\n",
      "chunk:  60%|█████▉    | 1020/1714 [00:02<00:02, 294.77it/s, now=None]\u001b[A\n",
      "chunk:  65%|██████▌   | 1122/1714 [00:02<00:01, 335.30it/s, now=None]\u001b[A\n",
      "chunk:  68%|██████▊   | 1173/1714 [00:03<00:01, 282.57it/s, now=None]\u001b[A\n",
      "chunk:  71%|███████▏  | 1224/1714 [00:03<00:01, 310.45it/s, now=None]\u001b[A\n",
      "chunk:  74%|███████▍  | 1275/1714 [00:03<00:01, 351.56it/s, now=None]\u001b[A\n",
      "chunk:  77%|███████▋  | 1326/1714 [00:03<00:01, 333.43it/s, now=None]\u001b[A\n",
      "chunk:  80%|████████  | 1377/1714 [00:03<00:00, 342.13it/s, now=None]\u001b[A\n",
      "chunk:  83%|████████▎ | 1428/1714 [00:03<00:00, 370.03it/s, now=None]\u001b[A\n",
      "chunk:  86%|████████▋ | 1479/1714 [00:03<00:00, 387.93it/s, now=None]\u001b[A\n",
      "chunk:  89%|████████▉ | 1530/1714 [00:03<00:00, 403.02it/s, now=None]\u001b[A\n",
      "chunk:  95%|█████████▌| 1632/1714 [00:04<00:00, 458.72it/s, now=None]\u001b[A\n",
      "chunk:   1%|▏         | 29/2121 [7:27:35<538:08:04, 926.04s/it, now=None]"
     ]
    },
    {
     "name": "stdout",
     "output_type": "stream",
     "text": [
      "MoviePy - Done.\n"
     ]
    },
    {
     "name": "stderr",
     "output_type": "stream",
     "text": [
      "chunk:   1%|▏         | 29/2121 [7:27:36<538:09:10, 926.08s/it, now=None]\n",
      "chunk:   0%|          | 0/3468 [00:00<?, ?it/s, now=None]\u001b[A"
     ]
    },
    {
     "name": "stdout",
     "output_type": "stream",
     "text": [
      "MoviePy - Writing audio in /home/jupyter/datasets/amigos/audio/Exp1_P36_audio/P36_31_audio.wav\n"
     ]
    },
    {
     "name": "stderr",
     "output_type": "stream",
     "text": [
      "\n",
      "chunk:   4%|▍         | 153/3468 [00:00<00:04, 810.58it/s, now=None]\u001b[A\n",
      "chunk:   6%|▌         | 204/3468 [00:00<00:05, 639.87it/s, now=None]\u001b[A\n",
      "chunk:   7%|▋         | 255/3468 [00:00<00:05, 585.49it/s, now=None]\u001b[A\n",
      "chunk:   9%|▉         | 306/3468 [00:00<00:07, 443.20it/s, now=None]\u001b[A\n",
      "chunk:  10%|█         | 357/3468 [00:00<00:06, 453.32it/s, now=None]\u001b[A\n",
      "chunk:  12%|█▏        | 408/3468 [00:00<00:08, 355.60it/s, now=None]\u001b[A\n",
      "chunk:  13%|█▎        | 459/3468 [00:01<00:09, 317.87it/s, now=None]\u001b[A\n",
      "chunk:  15%|█▍        | 510/3468 [00:01<00:08, 347.20it/s, now=None]\u001b[A\n",
      "chunk:  16%|█▌        | 561/3468 [00:01<00:09, 318.05it/s, now=None]\u001b[A\n",
      "chunk:  19%|█▉        | 663/3468 [00:01<00:07, 382.81it/s, now=None]\u001b[A\n",
      "chunk:  21%|██        | 714/3468 [00:01<00:07, 373.74it/s, now=None]\u001b[A\n",
      "chunk:  24%|██▎       | 816/3468 [00:01<00:06, 436.67it/s, now=None]\u001b[A\n",
      "chunk:  26%|██▋       | 918/3468 [00:01<00:04, 512.15it/s, now=None]\u001b[A\n",
      "chunk:  29%|██▉       | 1020/3468 [00:02<00:04, 556.73it/s, now=None]\u001b[A\n",
      "chunk:  32%|███▏      | 1122/3468 [00:02<00:04, 563.67it/s, now=None]\u001b[A\n",
      "chunk:  34%|███▍      | 1185/3468 [00:02<00:04, 521.11it/s, now=None]\u001b[A\n",
      "chunk:  37%|███▋      | 1275/3468 [00:02<00:04, 536.12it/s, now=None]\u001b[A\n",
      "chunk:  38%|███▊      | 1333/3468 [00:02<00:03, 535.32it/s, now=None]\u001b[A\n",
      "chunk:  40%|████      | 1403/3468 [00:02<00:03, 575.77it/s, now=None]\u001b[A\n",
      "chunk:  43%|████▎     | 1479/3468 [00:02<00:03, 541.94it/s, now=None]\u001b[A\n",
      "chunk:  45%|████▍     | 1545/3468 [00:03<00:03, 572.44it/s, now=None]\u001b[A\n",
      "chunk:  47%|████▋     | 1632/3468 [00:03<00:03, 589.99it/s, now=None]\u001b[A\n",
      "chunk:  49%|████▉     | 1693/3468 [00:03<00:03, 562.87it/s, now=None]\u001b[A\n",
      "chunk:  51%|█████▏    | 1785/3468 [00:03<00:03, 542.82it/s, now=None]\u001b[A\n",
      "chunk:  56%|█████▌    | 1935/3468 [00:03<00:02, 671.21it/s, now=None]\u001b[A\n",
      "chunk:  58%|█████▊    | 2019/3468 [00:03<00:02, 592.13it/s, now=None]\u001b[A\n",
      "chunk:  60%|██████    | 2092/3468 [00:03<00:02, 573.34it/s, now=None]\u001b[A\n",
      "chunk:  62%|██████▏   | 2159/3468 [00:04<00:02, 554.22it/s, now=None]\u001b[A\n",
      "chunk:  65%|██████▍   | 2244/3468 [00:04<00:02, 566.68it/s, now=None]\u001b[A\n",
      "chunk:  66%|██████▋   | 2306/3468 [00:04<00:02, 508.48it/s, now=None]\u001b[A\n",
      "chunk:  68%|██████▊   | 2362/3468 [00:04<00:02, 493.47it/s, now=None]\u001b[A\n",
      "chunk:  70%|██████▉   | 2415/3468 [00:04<00:02, 351.55it/s, now=None]\u001b[A\n",
      "chunk:  71%|███████   | 2459/3468 [00:05<00:04, 247.71it/s, now=None]\u001b[A\n",
      "chunk:  72%|███████▏  | 2499/3468 [00:05<00:03, 263.48it/s, now=None]\u001b[A\n",
      "chunk:  74%|███████▎  | 2550/3468 [00:05<00:03, 246.91it/s, now=None]\u001b[A\n",
      "chunk:  75%|███████▌  | 2601/3468 [00:05<00:03, 242.15it/s, now=None]\u001b[A\n",
      "chunk:  76%|███████▋  | 2652/3468 [00:05<00:03, 252.73it/s, now=None]\u001b[A\n",
      "chunk:  79%|███████▉  | 2754/3468 [00:05<00:02, 303.94it/s, now=None]\u001b[A\n",
      "chunk:  81%|████████  | 2805/3468 [00:06<00:02, 297.27it/s, now=None]\u001b[A\n",
      "chunk:  84%|████████▍ | 2907/3468 [00:06<00:01, 366.87it/s, now=None]\u001b[A\n",
      "chunk:  87%|████████▋ | 3009/3468 [00:06<00:01, 420.31it/s, now=None]\u001b[A\n",
      "chunk:  90%|████████▉ | 3111/3468 [00:06<00:00, 503.27it/s, now=None]\u001b[A\n",
      "chunk:  93%|█████████▎| 3213/3468 [00:06<00:00, 565.27it/s, now=None]\u001b[A\n",
      "chunk:  96%|█████████▌| 3315/3468 [00:06<00:00, 630.53it/s, now=None]\u001b[A\n",
      "chunk:  98%|█████████▊| 3390/3468 [00:06<00:00, 604.76it/s, now=None]\u001b[A\n",
      "chunk: 100%|█████████▉| 3459/3468 [00:07<00:00, 558.83it/s, now=None]\u001b[A\n",
      "chunk:   1%|▏         | 29/2121 [7:27:43<538:17:42, 926.32s/it, now=None]"
     ]
    },
    {
     "name": "stdout",
     "output_type": "stream",
     "text": [
      "MoviePy - Done.\n"
     ]
    },
    {
     "name": "stderr",
     "output_type": "stream",
     "text": [
      "chunk:   1%|▏         | 29/2121 [7:27:43<538:18:22, 926.34s/it, now=None]\n",
      "chunk:   0%|          | 0/1494 [00:00<?, ?it/s, now=None]\u001b[A\n",
      "chunk:  10%|█         | 153/1494 [00:00<00:01, 874.32it/s, now=None]\u001b[A"
     ]
    },
    {
     "name": "stdout",
     "output_type": "stream",
     "text": [
      "MoviePy - Writing audio in /home/jupyter/datasets/amigos/audio/Exp1_P36_audio/P36_34_audio.wav\n"
     ]
    },
    {
     "name": "stderr",
     "output_type": "stream",
     "text": [
      "\n",
      "chunk:  14%|█▎        | 204/1494 [00:00<00:01, 688.18it/s, now=None]\u001b[A\n",
      "chunk:  24%|██▍       | 357/1494 [00:00<00:01, 745.48it/s, now=None]\u001b[A\n",
      "chunk:  30%|███       | 454/1494 [00:00<00:01, 801.09it/s, now=None]\u001b[A\n",
      "chunk:  35%|███▍      | 519/1494 [00:00<00:01, 725.87it/s, now=None]\u001b[A\n",
      "chunk:  41%|████      | 612/1494 [00:00<00:01, 755.91it/s, now=None]\u001b[A\n",
      "chunk:  48%|████▊     | 714/1494 [00:00<00:01, 646.87it/s, now=None]\u001b[A\n",
      "chunk:  54%|█████▍    | 813/1494 [00:01<00:00, 721.84it/s, now=None]\u001b[A\n",
      "chunk:  59%|█████▉    | 887/1494 [00:01<00:01, 378.36it/s, now=None]\u001b[A\n",
      "chunk:  63%|██████▎   | 944/1494 [00:01<00:01, 413.56it/s, now=None]\u001b[A\n",
      "chunk:  67%|██████▋   | 1000/1494 [00:01<00:01, 414.52it/s, now=None]\u001b[A\n",
      "chunk:  72%|███████▏  | 1071/1494 [00:01<00:00, 463.13it/s, now=None]\u001b[A\n",
      "chunk:  81%|████████▏ | 1215/1494 [00:01<00:00, 581.46it/s, now=None]\u001b[A\n",
      "chunk:  87%|████████▋ | 1297/1494 [00:02<00:00, 555.31it/s, now=None]\u001b[A\n",
      "chunk:  96%|█████████▌| 1428/1494 [00:02<00:00, 627.50it/s, now=None]\u001b[A\n",
      "chunk:   1%|▏         | 29/2121 [7:27:46<538:21:09, 926.42s/it, now=None]"
     ]
    },
    {
     "name": "stdout",
     "output_type": "stream",
     "text": [
      "MoviePy - Done.\n"
     ]
    },
    {
     "name": "stderr",
     "output_type": "stream",
     "text": [
      "chunk:   1%|▏         | 29/2121 [7:27:46<538:21:52, 926.44s/it, now=None]\n",
      "chunk:   0%|          | 0/1533 [00:00<?, ?it/s, now=None]\u001b[A\n",
      "chunk:   7%|▋         | 102/1533 [00:00<00:01, 831.90it/s, now=None]\u001b[A"
     ]
    },
    {
     "name": "stdout",
     "output_type": "stream",
     "text": [
      "MoviePy - Writing audio in /home/jupyter/datasets/amigos/audio/Exp1_P36_audio/P36_36_audio.wav\n"
     ]
    },
    {
     "name": "stderr",
     "output_type": "stream",
     "text": [
      "\n",
      "chunk:  12%|█▏        | 189/1533 [00:00<00:01, 842.62it/s, now=None]\u001b[A\n",
      "chunk:  15%|█▌        | 233/1533 [00:00<00:04, 271.41it/s, now=None]\u001b[A\n",
      "chunk:  17%|█▋        | 267/1533 [00:01<00:07, 163.88it/s, now=None]\u001b[A\n",
      "chunk:  20%|█▉        | 306/1533 [00:01<00:07, 154.70it/s, now=None]\u001b[A\n",
      "chunk:  23%|██▎       | 357/1533 [00:01<00:06, 169.60it/s, now=None]\u001b[A\n",
      "chunk:  28%|██▊       | 435/1533 [00:01<00:04, 221.59it/s, now=None]\u001b[A\n",
      "chunk:  31%|███       | 474/1533 [00:01<00:04, 248.84it/s, now=None]\u001b[A\n",
      "chunk:  33%|███▎      | 512/1533 [00:01<00:03, 256.49it/s, now=None]\u001b[A\n",
      "chunk:  40%|███▉      | 612/1533 [00:02<00:03, 294.58it/s, now=None]\u001b[A\n",
      "chunk:  47%|████▋     | 714/1533 [00:02<00:02, 336.34it/s, now=None]\u001b[A\n",
      "chunk:  50%|████▉     | 765/1533 [00:02<00:02, 374.10it/s, now=None]\u001b[A\n",
      "chunk:  60%|█████▉    | 918/1533 [00:02<00:01, 450.06it/s, now=None]\u001b[A\n",
      "chunk:  67%|██████▋   | 1020/1533 [00:02<00:00, 513.02it/s, now=None]\u001b[A\n",
      "chunk:  73%|███████▎  | 1122/1533 [00:02<00:00, 587.98it/s, now=None]\u001b[A\n",
      "chunk:  81%|████████  | 1243/1533 [00:02<00:00, 694.98it/s, now=None]\u001b[A\n",
      "chunk:  87%|████████▋ | 1333/1533 [00:03<00:00, 745.75it/s, now=None]\u001b[A\n",
      "chunk:  93%|█████████▎| 1428/1533 [00:03<00:00, 782.89it/s, now=None]\u001b[A\n",
      "chunk:   1%|▏         | 29/2121 [7:27:50<538:25:48, 926.55s/it, now=None]"
     ]
    },
    {
     "name": "stdout",
     "output_type": "stream",
     "text": [
      "MoviePy - Done.\n"
     ]
    },
    {
     "name": "stderr",
     "output_type": "stream",
     "text": [
      "chunk:   1%|▏         | 29/2121 [7:27:50<538:26:46, 926.58s/it, now=None]\n",
      "chunk:   0%|          | 0/2039 [00:00<?, ?it/s, now=None]\u001b[A\n",
      "chunk:   8%|▊         | 153/2039 [00:00<00:01, 1015.22it/s, now=None]\u001b[A"
     ]
    },
    {
     "name": "stdout",
     "output_type": "stream",
     "text": [
      "MoviePy - Writing audio in /home/jupyter/datasets/amigos/audio/Exp1_P36_audio/P36_4_audio.wav\n"
     ]
    },
    {
     "name": "stderr",
     "output_type": "stream",
     "text": [
      "\n",
      "chunk:  10%|█         | 204/2039 [00:00<00:02, 669.30it/s, now=None] \u001b[A\n",
      "chunk:  13%|█▎        | 255/2039 [00:00<00:03, 580.35it/s, now=None]\u001b[A\n",
      "chunk:  18%|█▊        | 357/2039 [00:00<00:02, 611.41it/s, now=None]\u001b[A\n",
      "chunk:  20%|██        | 408/2039 [00:00<00:03, 505.16it/s, now=None]\u001b[A\n",
      "chunk:  23%|██▎       | 459/2039 [00:00<00:03, 470.54it/s, now=None]\u001b[A\n",
      "chunk:  28%|██▊       | 561/2039 [00:00<00:02, 543.49it/s, now=None]\u001b[A\n",
      "chunk:  33%|███▎      | 663/2039 [00:01<00:02, 555.49it/s, now=None]\u001b[A\n",
      "chunk:  37%|███▋      | 753/2039 [00:01<00:02, 627.44it/s, now=None]\u001b[A\n",
      "chunk:  40%|████      | 820/2039 [00:01<00:02, 563.15it/s, now=None]\u001b[A\n",
      "chunk:  45%|████▌     | 918/2039 [00:01<00:01, 593.05it/s, now=None]\u001b[A\n",
      "chunk:  50%|█████     | 1020/2039 [00:01<00:01, 552.06it/s, now=None]\u001b[A\n",
      "chunk:  53%|█████▎    | 1078/2039 [00:01<00:01, 493.57it/s, now=None]\u001b[A\n",
      "chunk:  56%|█████▌    | 1142/2039 [00:01<00:01, 529.80it/s, now=None]\u001b[A\n",
      "chunk:  59%|█████▉    | 1198/2039 [00:02<00:01, 488.49it/s, now=None]\u001b[A\n",
      "chunk:  61%|██████▏   | 1250/2039 [00:02<00:01, 440.13it/s, now=None]\u001b[A\n",
      "chunk:  64%|██████▎   | 1297/2039 [00:02<00:01, 426.09it/s, now=None]\u001b[A\n",
      "chunk:  68%|██████▊   | 1377/2039 [00:02<00:01, 468.09it/s, now=None]\u001b[A\n",
      "chunk:  73%|███████▎  | 1479/2039 [00:02<00:01, 488.99it/s, now=None]\u001b[A\n",
      "chunk:  78%|███████▊  | 1581/2039 [00:02<00:00, 498.34it/s, now=None]\u001b[A\n",
      "chunk:  80%|████████  | 1633/2039 [00:03<00:00, 433.86it/s, now=None]\u001b[A\n",
      "chunk:  85%|████████▌ | 1734/2039 [00:03<00:00, 454.26it/s, now=None]\u001b[A\n",
      "chunk:  90%|█████████ | 1836/2039 [00:03<00:00, 532.32it/s, now=None]\u001b[A\n",
      "chunk:  93%|█████████▎| 1896/2039 [00:03<00:00, 446.16it/s, now=None]\u001b[A\n",
      "chunk:  98%|█████████▊| 1989/2039 [00:03<00:00, 491.72it/s, now=None]\u001b[A\n",
      "chunk:   1%|▏         | 29/2121 [7:27:54<538:31:14, 926.71s/it, now=None]"
     ]
    },
    {
     "name": "stdout",
     "output_type": "stream",
     "text": [
      "MoviePy - Done.\n"
     ]
    },
    {
     "name": "stderr",
     "output_type": "stream",
     "text": [
      "chunk:   1%|▏         | 29/2121 [7:27:55<538:32:07, 926.73s/it, now=None]\n",
      "chunk:   0%|          | 0/2507 [00:00<?, ?it/s, now=None]\u001b[A\n",
      "chunk:   5%|▍         | 123/2507 [00:00<00:01, 1227.92it/s, now=None]\u001b[A"
     ]
    },
    {
     "name": "stdout",
     "output_type": "stream",
     "text": [
      "MoviePy - Writing audio in /home/jupyter/datasets/amigos/audio/Exp1_P36_audio/P36_5_audio.wav\n"
     ]
    },
    {
     "name": "stderr",
     "output_type": "stream",
     "text": [
      "\n",
      "chunk:   8%|▊         | 204/2507 [00:00<00:02, 790.91it/s, now=None] \u001b[A\n",
      "chunk:  11%|█▏        | 287/2507 [00:00<00:02, 802.23it/s, now=None]\u001b[A\n",
      "chunk:  14%|█▍        | 357/2507 [00:00<00:03, 653.81it/s, now=None]\u001b[A\n",
      "chunk:  16%|█▋        | 408/2507 [00:00<00:04, 511.98it/s, now=None]\u001b[A\n",
      "chunk:  20%|█▉        | 500/2507 [00:00<00:03, 590.53it/s, now=None]\u001b[A\n",
      "chunk:  22%|██▏       | 561/2507 [00:00<00:03, 488.88it/s, now=None]\u001b[A\n",
      "chunk:  26%|██▋       | 663/2507 [00:01<00:03, 523.03it/s, now=None]\u001b[A\n",
      "chunk:  31%|███       | 765/2507 [00:01<00:03, 572.09it/s, now=None]\u001b[A\n",
      "chunk:  35%|███▍      | 867/2507 [00:01<00:02, 612.49it/s, now=None]\u001b[A\n",
      "chunk:  39%|███▊      | 969/2507 [00:01<00:02, 629.35it/s, now=None]\u001b[A\n",
      "chunk:  43%|████▎     | 1071/2507 [00:01<00:02, 679.22it/s, now=None]\u001b[A\n",
      "chunk:  47%|████▋     | 1173/2507 [00:01<00:02, 574.27it/s, now=None]\u001b[A\n",
      "chunk:  49%|████▉     | 1236/2507 [00:02<00:02, 561.93it/s, now=None]\u001b[A\n",
      "chunk:  52%|█████▏    | 1296/2507 [00:02<00:02, 541.22it/s, now=None]\u001b[A\n",
      "chunk:  54%|█████▍    | 1353/2507 [00:02<00:02, 540.42it/s, now=None]\u001b[A\n",
      "chunk:  56%|█████▌    | 1409/2507 [00:02<00:02, 525.57it/s, now=None]\u001b[A\n",
      "chunk:  58%|█████▊    | 1463/2507 [00:02<00:02, 474.44it/s, now=None]\u001b[A\n",
      "chunk:  61%|██████    | 1530/2507 [00:02<00:02, 422.99it/s, now=None]\u001b[A\n",
      "chunk:  63%|██████▎   | 1581/2507 [00:02<00:02, 340.88it/s, now=None]\u001b[A\n",
      "chunk:  65%|██████▌   | 1632/2507 [00:03<00:02, 316.94it/s, now=None]\u001b[A\n",
      "chunk:  67%|██████▋   | 1683/2507 [00:03<00:02, 356.54it/s, now=None]\u001b[A\n",
      "chunk:  71%|███████   | 1785/2507 [00:03<00:01, 421.45it/s, now=None]\u001b[A\n",
      "chunk:  73%|███████▎  | 1836/2507 [00:03<00:01, 441.04it/s, now=None]\u001b[A\n",
      "chunk:  77%|███████▋  | 1938/2507 [00:03<00:01, 516.45it/s, now=None]\u001b[A\n",
      "chunk:  81%|████████▏ | 2040/2507 [00:03<00:00, 492.13it/s, now=None]\u001b[A\n",
      "chunk:  84%|████████▎ | 2096/2507 [00:03<00:00, 465.70it/s, now=None]\u001b[A\n",
      "chunk:  86%|████████▌ | 2148/2507 [00:04<00:00, 473.57it/s, now=None]\u001b[A\n",
      "chunk:  88%|████████▊ | 2199/2507 [00:04<00:00, 450.76it/s, now=None]\u001b[A\n",
      "chunk:  91%|█████████ | 2282/2507 [00:04<00:00, 522.32it/s, now=None]\u001b[A\n",
      "chunk:  94%|█████████▎| 2346/2507 [00:04<00:00, 509.23it/s, now=None]\u001b[A\n",
      "chunk:  96%|█████████▌| 2402/2507 [00:04<00:00, 470.23it/s, now=None]\u001b[A\n",
      "chunk:  98%|█████████▊| 2453/2507 [00:04<00:00, 419.60it/s, now=None]\u001b[A\n",
      "chunk:   1%|▏         | 29/2121 [7:28:00<538:37:50, 926.90s/it, now=None]"
     ]
    },
    {
     "name": "stdout",
     "output_type": "stream",
     "text": [
      "MoviePy - Done.\n"
     ]
    },
    {
     "name": "stderr",
     "output_type": "stream",
     "text": [
      "chunk:   1%|▏         | 29/2121 [7:28:00<538:38:29, 926.92s/it, now=None]\n",
      "chunk:   0%|          | 0/1449 [00:00<?, ?it/s, now=None]\u001b[A\n",
      "chunk:   7%|▋         | 102/1449 [00:00<00:01, 944.54it/s, now=None]\u001b[A"
     ]
    },
    {
     "name": "stdout",
     "output_type": "stream",
     "text": [
      "MoviePy - Writing audio in /home/jupyter/datasets/amigos/audio/Exp1_P36_audio/P36_58_audio.wav\n"
     ]
    },
    {
     "name": "stderr",
     "output_type": "stream",
     "text": [
      "\n",
      "chunk:  11%|█         | 153/1449 [00:00<00:01, 702.43it/s, now=None]\u001b[A\n",
      "chunk:  14%|█▍        | 204/1449 [00:00<00:03, 402.80it/s, now=None]\u001b[A\n",
      "chunk:  18%|█▊        | 255/1449 [00:00<00:03, 360.07it/s, now=None]\u001b[A\n",
      "chunk:  21%|██        | 306/1449 [00:00<00:03, 359.49it/s, now=None]\u001b[A\n",
      "chunk:  25%|██▍       | 357/1449 [00:00<00:03, 322.16it/s, now=None]\u001b[A\n",
      "chunk:  28%|██▊       | 408/1449 [00:01<00:03, 300.30it/s, now=None]\u001b[A\n",
      "chunk:  32%|███▏      | 459/1449 [00:01<00:03, 263.99it/s, now=None]\u001b[A\n",
      "chunk:  39%|███▊      | 561/1449 [00:01<00:02, 312.15it/s, now=None]\u001b[A\n",
      "chunk:  42%|████▏     | 612/1449 [00:01<00:02, 327.02it/s, now=None]\u001b[A\n",
      "chunk:  49%|████▉     | 714/1449 [00:02<00:02, 325.72it/s, now=None]\u001b[A\n",
      "chunk:  53%|█████▎    | 765/1449 [00:02<00:01, 346.99it/s, now=None]\u001b[A\n",
      "chunk:  60%|█████▉    | 865/1449 [00:02<00:01, 431.48it/s, now=None]\u001b[A\n",
      "chunk:  64%|██████▎   | 921/1449 [00:02<00:01, 339.52it/s, now=None]\u001b[A\n",
      "chunk:  67%|██████▋   | 969/1449 [00:02<00:01, 323.30it/s, now=None]\u001b[A\n",
      "chunk:  70%|███████   | 1020/1449 [00:02<00:01, 361.79it/s, now=None]\u001b[A\n",
      "chunk:  74%|███████▍  | 1071/1449 [00:02<00:01, 347.86it/s, now=None]\u001b[A\n",
      "chunk:  77%|███████▋  | 1122/1449 [00:03<00:00, 328.80it/s, now=None]\u001b[A\n",
      "chunk:  81%|████████  | 1173/1449 [00:03<00:00, 343.48it/s, now=None]\u001b[A\n",
      "chunk:  88%|████████▊ | 1275/1449 [00:03<00:00, 411.37it/s, now=None]\u001b[A\n",
      "chunk:  95%|█████████▌| 1377/1449 [00:03<00:00, 454.44it/s, now=None]\u001b[A\n",
      "chunk:   1%|▏         | 29/2121 [7:28:04<538:42:51, 927.04s/it, now=None]"
     ]
    },
    {
     "name": "stdout",
     "output_type": "stream",
     "text": [
      "MoviePy - Done.\n"
     ]
    },
    {
     "name": "stderr",
     "output_type": "stream",
     "text": [
      "chunk:   1%|▏         | 29/2121 [7:28:04<538:43:42, 927.07s/it, now=None]\n",
      "chunk:   0%|          | 0/2290 [00:00<?, ?it/s, now=None]\u001b[A"
     ]
    },
    {
     "name": "stdout",
     "output_type": "stream",
     "text": [
      "MoviePy - Writing audio in /home/jupyter/datasets/amigos/audio/Exp1_P36_audio/P36_80_audio.wav\n"
     ]
    },
    {
     "name": "stderr",
     "output_type": "stream",
     "text": [
      "\n",
      "chunk:   7%|▋         | 153/2290 [00:00<00:02, 845.58it/s, now=None]\u001b[A\n",
      "chunk:   9%|▉         | 204/2290 [00:00<00:04, 426.15it/s, now=None]\u001b[A\n",
      "chunk:  11%|█         | 255/2290 [00:00<00:04, 431.78it/s, now=None]\u001b[A\n",
      "chunk:  14%|█▍        | 320/2290 [00:00<00:04, 479.92it/s, now=None]\u001b[A\n",
      "chunk:  16%|█▌        | 361/2290 [00:00<00:04, 452.40it/s, now=None]\u001b[A\n",
      "chunk:  18%|█▊        | 408/2290 [00:00<00:04, 398.67it/s, now=None]\u001b[A\n",
      "chunk:  20%|██        | 459/2290 [00:01<00:04, 391.27it/s, now=None]\u001b[A\n",
      "chunk:  23%|██▎       | 535/2290 [00:01<00:03, 457.78it/s, now=None]\u001b[A\n",
      "chunk:  26%|██▌       | 586/2290 [00:01<00:03, 472.26it/s, now=None]\u001b[A\n",
      "chunk:  29%|██▉       | 663/2290 [00:01<00:03, 453.85it/s, now=None]\u001b[A\n",
      "chunk:  31%|███       | 714/2290 [00:01<00:04, 392.74it/s, now=None]\u001b[A\n",
      "chunk:  33%|███▎      | 765/2290 [00:01<00:03, 409.48it/s, now=None]\u001b[A\n",
      "chunk:  38%|███▊      | 867/2290 [00:01<00:03, 467.94it/s, now=None]\u001b[A\n",
      "chunk:  42%|████▏     | 969/2290 [00:01<00:02, 527.92it/s, now=None]\u001b[A\n",
      "chunk:  45%|████▍     | 1028/2290 [00:02<00:02, 489.41it/s, now=None]\u001b[A\n",
      "chunk:  49%|████▉     | 1122/2290 [00:02<00:02, 554.32it/s, now=None]\u001b[A\n",
      "chunk:  52%|█████▏    | 1184/2290 [00:02<00:02, 494.15it/s, now=None]\u001b[A\n",
      "chunk:  56%|█████▌    | 1275/2290 [00:02<00:02, 506.04it/s, now=None]\u001b[A\n",
      "chunk:  58%|█████▊    | 1330/2290 [00:02<00:01, 509.10it/s, now=None]\u001b[A\n",
      "chunk:  62%|██████▏   | 1428/2290 [00:02<00:01, 527.83it/s, now=None]\u001b[A\n",
      "chunk:  65%|██████▌   | 1495/2290 [00:02<00:01, 563.72it/s, now=None]\u001b[A\n",
      "chunk:  68%|██████▊   | 1554/2290 [00:03<00:01, 526.74it/s, now=None]\u001b[A\n",
      "chunk:  70%|███████   | 1609/2290 [00:03<00:01, 526.84it/s, now=None]\u001b[A\n",
      "chunk:  73%|███████▎  | 1664/2290 [00:03<00:01, 418.68it/s, now=None]\u001b[A\n",
      "chunk:  75%|███████▍  | 1711/2290 [00:03<00:01, 408.22it/s, now=None]\u001b[A\n",
      "chunk:  78%|███████▊  | 1785/2290 [00:03<00:01, 372.16it/s, now=None]\u001b[A\n",
      "chunk:  81%|████████  | 1855/2290 [00:03<00:01, 432.91it/s, now=None]\u001b[A\n",
      "chunk:  83%|████████▎ | 1905/2290 [00:03<00:00, 413.81it/s, now=None]\u001b[A\n",
      "chunk:  87%|████████▋ | 1989/2290 [00:04<00:00, 406.42it/s, now=None]\u001b[A\n",
      "chunk:  89%|████████▉ | 2040/2290 [00:04<00:00, 405.59it/s, now=None]\u001b[A\n",
      "chunk:  94%|█████████▎| 2142/2290 [00:04<00:00, 455.16it/s, now=None]\u001b[A\n",
      "chunk:  96%|█████████▌| 2193/2290 [00:04<00:00, 424.67it/s, now=None]\u001b[A\n",
      "chunk:   1%|▏         | 29/2121 [7:28:09<538:49:24, 927.23s/it, now=None]"
     ]
    },
    {
     "name": "stdout",
     "output_type": "stream",
     "text": [
      "MoviePy - Done.\n"
     ]
    },
    {
     "name": "stderr",
     "output_type": "stream",
     "text": [
      "chunk:   1%|▏         | 29/2121 [7:28:10<538:50:16, 927.25s/it, now=None]\n",
      "chunk:   0%|          | 0/1697 [00:00<?, ?it/s, now=None]\u001b[A\n",
      "chunk:   6%|▌         | 102/1697 [00:00<00:02, 606.98it/s, now=None]\u001b[A"
     ]
    },
    {
     "name": "stdout",
     "output_type": "stream",
     "text": [
      "MoviePy - Writing audio in /home/jupyter/datasets/amigos/audio/Exp1_P36_audio/P36_9_audio.wav\n"
     ]
    },
    {
     "name": "stderr",
     "output_type": "stream",
     "text": [
      "\n",
      "chunk:  12%|█▏        | 204/1697 [00:00<00:02, 553.08it/s, now=None]\u001b[A\n",
      "chunk:  15%|█▌        | 255/1697 [00:00<00:02, 506.89it/s, now=None]\u001b[A\n",
      "chunk:  18%|█▊        | 306/1697 [00:00<00:03, 439.05it/s, now=None]\u001b[A\n",
      "chunk:  21%|██        | 357/1697 [00:00<00:02, 452.58it/s, now=None]\u001b[A\n",
      "chunk:  24%|██▍       | 408/1697 [00:00<00:02, 429.78it/s, now=None]\u001b[A\n",
      "chunk:  28%|██▊       | 479/1697 [00:01<00:02, 487.48it/s, now=None]\u001b[A\n",
      "chunk:  33%|███▎      | 560/1697 [00:01<00:02, 553.41it/s, now=None]\u001b[A\n",
      "chunk:  36%|███▋      | 618/1697 [00:01<00:02, 522.65it/s, now=None]\u001b[A\n",
      "chunk:  42%|████▏     | 714/1697 [00:01<00:01, 534.47it/s, now=None]\u001b[A\n",
      "chunk:  48%|████▊     | 816/1697 [00:01<00:01, 551.43it/s, now=None]\u001b[A\n",
      "chunk:  52%|█████▏    | 890/1697 [00:01<00:01, 596.82it/s, now=None]\u001b[A\n",
      "chunk:  56%|█████▌    | 954/1697 [00:01<00:01, 609.06it/s, now=None]\u001b[A\n",
      "chunk:  60%|█████▉    | 1017/1697 [00:01<00:01, 588.65it/s, now=None]\u001b[A\n",
      "chunk:  63%|██████▎   | 1077/1697 [00:01<00:01, 567.94it/s, now=None]\u001b[A\n",
      "chunk:  69%|██████▊   | 1164/1697 [00:02<00:00, 633.95it/s, now=None]\u001b[A\n",
      "chunk:  73%|███████▎  | 1231/1697 [00:02<00:00, 632.50it/s, now=None]\u001b[A\n",
      "chunk:  78%|███████▊  | 1326/1697 [00:02<00:00, 635.96it/s, now=None]\u001b[A\n",
      "chunk:  82%|████████▏ | 1392/1697 [00:02<00:00, 498.38it/s, now=None]\u001b[A\n",
      "chunk:  85%|████████▌ | 1448/1697 [00:02<00:00, 442.68it/s, now=None]\u001b[A\n",
      "chunk:  90%|█████████ | 1530/1697 [00:02<00:00, 423.81it/s, now=None]\u001b[A\n",
      "chunk:  96%|█████████▌| 1632/1697 [00:03<00:00, 494.24it/s, now=None]\u001b[A\n",
      "chunk:   1%|▏         | 29/2121 [7:28:13<538:53:59, 927.36s/it, now=None]"
     ]
    },
    {
     "name": "stdout",
     "output_type": "stream",
     "text": [
      "MoviePy - Done.\n"
     ]
    },
    {
     "name": "stderr",
     "output_type": "stream",
     "text": [
      "chunk:   1%|▏         | 29/2121 [7:28:14<538:54:51, 927.39s/it, now=None]\n",
      "chunk:   0%|          | 0/2132 [00:00<?, ?it/s, now=None]\u001b[A\n"
     ]
    },
    {
     "name": "stdout",
     "output_type": "stream",
     "text": [
      "MoviePy - Writing audio in /home/jupyter/datasets/amigos/audio/Exp1_P37_audio/P37_10_audio.wav\n"
     ]
    },
    {
     "name": "stderr",
     "output_type": "stream",
     "text": [
      "chunk:   7%|▋         | 153/2132 [00:00<00:02, 864.11it/s, now=None]\u001b[A\n",
      "chunk:  12%|█▏        | 255/2132 [00:00<00:02, 691.44it/s, now=None]\u001b[A\n",
      "chunk:  17%|█▋        | 357/2132 [00:00<00:02, 721.03it/s, now=None]\u001b[A\n",
      "chunk:  19%|█▉        | 408/2132 [00:00<00:03, 563.26it/s, now=None]\u001b[A\n",
      "chunk:  24%|██▍       | 510/2132 [00:00<00:03, 533.46it/s, now=None]\u001b[A\n",
      "chunk:  26%|██▋       | 561/2132 [00:01<00:03, 424.28it/s, now=None]\u001b[A\n",
      "chunk:  31%|███       | 663/2132 [00:01<00:02, 490.29it/s, now=None]\u001b[A\n",
      "chunk:  34%|███▎      | 715/2132 [00:01<00:03, 462.89it/s, now=None]\u001b[A\n",
      "chunk:  36%|███▌      | 765/2132 [00:01<00:02, 473.09it/s, now=None]\u001b[A\n",
      "chunk:  38%|███▊      | 816/2132 [00:01<00:03, 368.09it/s, now=None]\u001b[A\n",
      "chunk:  42%|████▏     | 906/2132 [00:01<00:02, 447.38it/s, now=None]\u001b[A\n",
      "chunk:  45%|████▌     | 969/2132 [00:01<00:02, 444.44it/s, now=None]\u001b[A\n",
      "chunk:  53%|█████▎    | 1122/2132 [00:02<00:01, 513.66it/s, now=None]\u001b[A\n",
      "chunk:  55%|█████▌    | 1183/2132 [00:02<00:01, 536.23it/s, now=None]\u001b[A\n",
      "chunk:  60%|█████▉    | 1275/2132 [00:02<00:01, 542.74it/s, now=None]\u001b[A\n",
      "chunk:  63%|██████▎   | 1335/2132 [00:02<00:01, 540.51it/s, now=None]\u001b[A\n",
      "chunk:  69%|██████▉   | 1479/2132 [00:02<00:01, 633.00it/s, now=None]\u001b[A\n",
      "chunk:  73%|███████▎  | 1551/2132 [00:02<00:01, 522.90it/s, now=None]\u001b[A\n",
      "chunk:  76%|███████▌  | 1613/2132 [00:02<00:01, 473.58it/s, now=None]\u001b[A\n",
      "chunk:  78%|███████▊  | 1668/2132 [00:03<00:01, 403.56it/s, now=None]\u001b[A\n",
      "chunk:  80%|████████  | 1716/2132 [00:03<00:00, 416.60it/s, now=None]\u001b[A\n",
      "chunk:  84%|████████▎ | 1785/2132 [00:03<00:00, 373.64it/s, now=None]\u001b[A\n",
      "chunk:  86%|████████▌ | 1836/2132 [00:03<00:00, 333.12it/s, now=None]\u001b[A\n",
      "chunk:  89%|████████▊ | 1887/2132 [00:03<00:00, 356.15it/s, now=None]\u001b[A\n",
      "chunk:  91%|█████████ | 1938/2132 [00:03<00:00, 352.84it/s, now=None]\u001b[A\n",
      "chunk:  93%|█████████▎| 1989/2132 [00:04<00:00, 360.60it/s, now=None]\u001b[A\n",
      "chunk:  96%|█████████▌| 2040/2132 [00:04<00:00, 372.83it/s, now=None]\u001b[A\n",
      "chunk:   1%|▏         | 29/2121 [7:28:18<538:59:58, 927.53s/it, now=None]"
     ]
    },
    {
     "name": "stdout",
     "output_type": "stream",
     "text": [
      "MoviePy - Done.\n"
     ]
    },
    {
     "name": "stderr",
     "output_type": "stream",
     "text": [
      "chunk:   1%|▏         | 29/2121 [7:28:19<539:01:08, 927.57s/it, now=None]\n",
      "chunk:   0%|          | 0/1269 [00:00<?, ?it/s, now=None]\u001b[A\n",
      "chunk:  11%|█         | 139/1269 [00:00<00:00, 1388.15it/s, now=None]\u001b[A"
     ]
    },
    {
     "name": "stdout",
     "output_type": "stream",
     "text": [
      "MoviePy - Writing audio in /home/jupyter/datasets/amigos/audio/Exp1_P37_audio/P37_13_audio.wav\n"
     ]
    },
    {
     "name": "stderr",
     "output_type": "stream",
     "text": [
      "\n",
      "chunk:  14%|█▍        | 181/1269 [00:00<00:01, 809.42it/s, now=None] \u001b[A\n",
      "chunk:  20%|██        | 255/1269 [00:00<00:01, 757.40it/s, now=None]\u001b[A\n",
      "chunk:  28%|██▊       | 357/1269 [00:00<00:01, 771.21it/s, now=None]\u001b[A\n",
      "chunk:  36%|███▌      | 459/1269 [00:00<00:01, 742.99it/s, now=None]\u001b[A\n",
      "chunk:  44%|████▍     | 561/1269 [00:00<00:01, 682.39it/s, now=None]\u001b[A\n",
      "chunk:  52%|█████▏    | 663/1269 [00:00<00:00, 626.51it/s, now=None]\u001b[A\n",
      "chunk:  57%|█████▋    | 721/1269 [00:01<00:01, 531.72it/s, now=None]\u001b[A\n",
      "chunk:  64%|██████▍   | 816/1269 [00:01<00:00, 597.90it/s, now=None]\u001b[A\n",
      "chunk:  69%|██████▉   | 878/1269 [00:01<00:00, 586.43it/s, now=None]\u001b[A\n",
      "chunk:  76%|███████▋  | 969/1269 [00:01<00:00, 603.33it/s, now=None]\u001b[A\n",
      "chunk:  81%|████████  | 1031/1269 [00:01<00:00, 593.68it/s, now=None]\u001b[A\n",
      "chunk:  88%|████████▊ | 1122/1269 [00:01<00:00, 615.91it/s, now=None]\u001b[A\n",
      "chunk:  96%|█████████▋| 1224/1269 [00:01<00:00, 645.05it/s, now=None]\u001b[A\n",
      "chunk:   1%|▏         | 29/2121 [7:28:21<539:03:25, 927.63s/it, now=None]"
     ]
    },
    {
     "name": "stdout",
     "output_type": "stream",
     "text": [
      "MoviePy - Done.\n"
     ]
    },
    {
     "name": "stderr",
     "output_type": "stream",
     "text": [
      "chunk:   1%|▏         | 29/2121 [7:28:21<539:04:09, 927.65s/it, now=None]\n",
      "chunk:   0%|          | 0/2713 [00:00<?, ?it/s, now=None]\u001b[A"
     ]
    },
    {
     "name": "stdout",
     "output_type": "stream",
     "text": [
      "MoviePy - Writing audio in /home/jupyter/datasets/amigos/audio/Exp1_P37_audio/P37_138_audio.wav\n"
     ]
    },
    {
     "name": "stderr",
     "output_type": "stream",
     "text": [
      "\n",
      "chunk:   6%|▌         | 153/2713 [00:00<00:05, 450.08it/s, now=None]\u001b[A\n",
      "chunk:   8%|▊         | 204/2713 [00:00<00:06, 415.61it/s, now=None]\u001b[A\n",
      "chunk:   9%|▉         | 255/2713 [00:00<00:06, 368.89it/s, now=None]\u001b[A\n",
      "chunk:  11%|█▏        | 306/2713 [00:00<00:06, 349.96it/s, now=None]\u001b[A\n",
      "chunk:  15%|█▌        | 408/2713 [00:01<00:06, 378.40it/s, now=None]\u001b[A\n",
      "chunk:  17%|█▋        | 459/2713 [00:01<00:05, 408.71it/s, now=None]\u001b[A\n",
      "chunk:  19%|█▉        | 510/2713 [00:01<00:06, 326.38it/s, now=None]\u001b[A\n",
      "chunk:  21%|██        | 561/2713 [00:01<00:06, 346.04it/s, now=None]\u001b[A\n",
      "chunk:  23%|██▎       | 612/2713 [00:01<00:05, 377.79it/s, now=None]\u001b[A\n",
      "chunk:  24%|██▍       | 663/2713 [00:01<00:05, 403.81it/s, now=None]\u001b[A\n",
      "chunk:  28%|██▊       | 765/2713 [00:01<00:04, 483.63it/s, now=None]\u001b[A\n",
      "chunk:  30%|███       | 822/2713 [00:01<00:03, 476.33it/s, now=None]\u001b[A\n",
      "chunk:  34%|███▍      | 918/2713 [00:02<00:03, 539.74it/s, now=None]\u001b[A\n",
      "chunk:  36%|███▌      | 979/2713 [00:02<00:03, 554.98it/s, now=None]\u001b[A\n",
      "chunk:  39%|███▉      | 1071/2713 [00:02<00:03, 450.47it/s, now=None]\u001b[A\n",
      "chunk:  41%|████▏     | 1123/2713 [00:02<00:03, 460.94it/s, now=None]\u001b[A\n",
      "chunk:  43%|████▎     | 1174/2713 [00:02<00:04, 374.50it/s, now=None]\u001b[A\n",
      "chunk:  45%|████▌     | 1224/2713 [00:02<00:04, 341.23it/s, now=None]\u001b[A\n",
      "chunk:  47%|████▋     | 1275/2713 [00:03<00:04, 326.99it/s, now=None]\u001b[A\n",
      "chunk:  49%|████▉     | 1326/2713 [00:03<00:04, 333.38it/s, now=None]\u001b[A\n",
      "chunk:  51%|█████     | 1377/2713 [00:03<00:03, 357.35it/s, now=None]\u001b[A\n",
      "chunk:  55%|█████▍    | 1479/2713 [00:03<00:03, 408.22it/s, now=None]\u001b[A\n",
      "chunk:  58%|█████▊    | 1571/2713 [00:03<00:02, 489.92it/s, now=None]\u001b[A\n",
      "chunk:  60%|██████    | 1632/2713 [00:03<00:02, 376.14it/s, now=None]\u001b[A\n",
      "chunk:  62%|██████▏   | 1683/2713 [00:04<00:02, 400.67it/s, now=None]\u001b[A\n",
      "chunk:  66%|██████▌   | 1785/2713 [00:04<00:02, 420.39it/s, now=None]\u001b[A\n",
      "chunk:  69%|██████▉   | 1881/2713 [00:04<00:01, 505.55it/s, now=None]\u001b[A\n",
      "chunk:  72%|███████▏  | 1944/2713 [00:04<00:01, 398.79it/s, now=None]\u001b[A\n",
      "chunk:  74%|███████▎  | 1996/2713 [00:04<00:01, 400.54it/s, now=None]\u001b[A\n",
      "chunk:  75%|███████▌  | 2045/2713 [00:04<00:01, 406.64it/s, now=None]\u001b[A\n",
      "chunk:  79%|███████▊  | 2130/2713 [00:04<00:01, 482.00it/s, now=None]\u001b[A\n",
      "chunk:  81%|████████  | 2188/2713 [00:05<00:01, 398.83it/s, now=None]\u001b[A\n",
      "chunk:  82%|████████▏ | 2238/2713 [00:05<00:01, 385.53it/s, now=None]\u001b[A\n",
      "chunk:  84%|████████▍ | 2284/2713 [00:05<00:01, 382.77it/s, now=None]\u001b[A\n",
      "chunk:  86%|████████▋ | 2346/2713 [00:05<00:01, 330.14it/s, now=None]\u001b[A\n",
      "chunk:  88%|████████▊ | 2397/2713 [00:05<00:00, 350.88it/s, now=None]\u001b[A\n",
      "chunk:  90%|█████████ | 2448/2713 [00:05<00:00, 360.62it/s, now=None]\u001b[A\n",
      "chunk:  94%|█████████▍| 2550/2713 [00:06<00:00, 389.88it/s, now=None]\u001b[A\n",
      "chunk:  98%|█████████▊| 2652/2713 [00:06<00:00, 443.99it/s, now=None]\u001b[A\n",
      "chunk:   1%|▏         | 29/2121 [7:28:28<539:11:43, 927.87s/it, now=None]"
     ]
    },
    {
     "name": "stdout",
     "output_type": "stream",
     "text": [
      "MoviePy - Done.\n"
     ]
    },
    {
     "name": "stderr",
     "output_type": "stream",
     "text": [
      "chunk:   1%|▏         | 29/2121 [7:28:28<539:12:21, 927.89s/it, now=None]\n",
      "chunk:   0%|          | 0/1841 [00:00<?, ?it/s, now=None]\u001b[A\n",
      "chunk:   8%|▊         | 142/1841 [00:00<00:01, 1417.49it/s, now=None]\u001b[A"
     ]
    },
    {
     "name": "stdout",
     "output_type": "stream",
     "text": [
      "MoviePy - Writing audio in /home/jupyter/datasets/amigos/audio/Exp1_P37_audio/P37_18_audio.wav\n"
     ]
    },
    {
     "name": "stderr",
     "output_type": "stream",
     "text": [
      "\n",
      "chunk:  10%|█         | 185/1841 [00:00<00:02, 662.90it/s, now=None] \u001b[A\n",
      "chunk:  12%|█▏        | 224/1841 [00:00<00:05, 289.18it/s, now=None]\u001b[A\n",
      "chunk:  14%|█▍        | 255/1841 [00:00<00:05, 279.07it/s, now=None]\u001b[A\n",
      "chunk:  17%|█▋        | 306/1841 [00:00<00:06, 254.01it/s, now=None]\u001b[A\n",
      "chunk:  19%|█▉        | 357/1841 [00:01<00:05, 252.40it/s, now=None]\u001b[A\n",
      "chunk:  22%|██▏       | 408/1841 [00:01<00:05, 275.00it/s, now=None]\u001b[A\n",
      "chunk:  25%|██▍       | 459/1841 [00:01<00:04, 303.57it/s, now=None]\u001b[A\n",
      "chunk:  28%|██▊       | 510/1841 [00:01<00:03, 337.37it/s, now=None]\u001b[A\n",
      "chunk:  30%|███       | 561/1841 [00:01<00:05, 228.32it/s, now=None]\u001b[A\n",
      "chunk:  33%|███▎      | 612/1841 [00:02<00:05, 236.63it/s, now=None]\u001b[A\n",
      "chunk:  36%|███▌      | 663/1841 [00:02<00:05, 222.79it/s, now=None]\u001b[A\n",
      "chunk:  39%|███▉      | 714/1841 [00:02<00:04, 260.46it/s, now=None]\u001b[A\n",
      "chunk:  42%|████▏     | 765/1841 [00:02<00:03, 290.17it/s, now=None]\u001b[A\n",
      "chunk:  44%|████▍     | 816/1841 [00:02<00:03, 329.97it/s, now=None]\u001b[A\n",
      "chunk:  47%|████▋     | 867/1841 [00:02<00:02, 355.09it/s, now=None]\u001b[A\n",
      "chunk:  50%|████▉     | 918/1841 [00:02<00:02, 380.24it/s, now=None]\u001b[A\n",
      "chunk:  53%|█████▎    | 969/1841 [00:03<00:02, 368.69it/s, now=None]\u001b[A\n",
      "chunk:  55%|█████▌    | 1020/1841 [00:03<00:02, 370.81it/s, now=None]\u001b[A\n",
      "chunk:  58%|█████▊    | 1071/1841 [00:03<00:02, 364.52it/s, now=None]\u001b[A\n",
      "chunk:  61%|██████    | 1122/1841 [00:03<00:01, 367.00it/s, now=None]\u001b[A\n",
      "chunk:  66%|██████▋   | 1224/1841 [00:03<00:01, 363.91it/s, now=None]\u001b[A\n",
      "chunk:  69%|██████▉   | 1275/1841 [00:03<00:01, 369.79it/s, now=None]\u001b[A\n",
      "chunk:  72%|███████▏  | 1326/1841 [00:04<00:01, 318.02it/s, now=None]\u001b[A\n",
      "chunk:  75%|███████▍  | 1377/1841 [00:04<00:01, 286.55it/s, now=None]\u001b[A\n",
      "chunk:  78%|███████▊  | 1428/1841 [00:04<00:01, 291.26it/s, now=None]\u001b[A\n",
      "chunk:  80%|████████  | 1479/1841 [00:04<00:01, 326.14it/s, now=None]\u001b[A\n",
      "chunk:  83%|████████▎ | 1530/1841 [00:04<00:00, 339.56it/s, now=None]\u001b[A\n",
      "chunk:  86%|████████▌ | 1581/1841 [00:04<00:00, 360.83it/s, now=None]\u001b[A\n",
      "chunk:  91%|█████████▏| 1683/1841 [00:05<00:00, 394.18it/s, now=None]\u001b[A\n",
      "chunk:  96%|█████████▌| 1771/1841 [00:05<00:00, 472.29it/s, now=None]\u001b[A\n",
      "chunk:   1%|▏         | 29/2121 [7:28:34<539:18:44, 928.07s/it, now=None]"
     ]
    },
    {
     "name": "stdout",
     "output_type": "stream",
     "text": [
      "MoviePy - Done.\n"
     ]
    },
    {
     "name": "stderr",
     "output_type": "stream",
     "text": [
      "chunk:   1%|▏         | 29/2121 [7:28:34<539:19:20, 928.09s/it, now=None]\n",
      "chunk:   0%|          | 0/2793 [00:00<?, ?it/s, now=None]\u001b[A\n",
      "chunk:   5%|▌         | 140/2793 [00:00<00:01, 1397.86it/s, now=None]\u001b[A"
     ]
    },
    {
     "name": "stdout",
     "output_type": "stream",
     "text": [
      "MoviePy - Writing audio in /home/jupyter/datasets/amigos/audio/Exp1_P37_audio/P37_19_audio.wav\n"
     ]
    },
    {
     "name": "stderr",
     "output_type": "stream",
     "text": [
      "\n",
      "chunk:   7%|▋         | 204/2793 [00:00<00:03, 676.49it/s, now=None] \u001b[A\n",
      "chunk:   9%|▉         | 255/2793 [00:00<00:05, 492.93it/s, now=None]\u001b[A\n",
      "chunk:  12%|█▏        | 333/2793 [00:00<00:04, 554.08it/s, now=None]\u001b[A\n",
      "chunk:  14%|█▎        | 382/2793 [00:00<00:04, 508.35it/s, now=None]\u001b[A\n",
      "chunk:  16%|█▋        | 459/2793 [00:00<00:04, 469.44it/s, now=None]\u001b[A\n",
      "chunk:  20%|██        | 561/2793 [00:01<00:04, 476.73it/s, now=None]\u001b[A\n",
      "chunk:  22%|██▏       | 612/2793 [00:01<00:05, 365.31it/s, now=None]\u001b[A\n",
      "chunk:  24%|██▎       | 663/2793 [00:01<00:07, 302.85it/s, now=None]\u001b[A\n",
      "chunk:  26%|██▌       | 714/2793 [00:01<00:08, 240.41it/s, now=None]\u001b[A\n",
      "chunk:  27%|██▋       | 765/2793 [00:02<00:08, 242.70it/s, now=None]\u001b[A\n",
      "chunk:  30%|██▉       | 835/2793 [00:02<00:06, 301.81it/s, now=None]\u001b[A\n",
      "chunk:  33%|███▎      | 918/2793 [00:02<00:05, 339.90it/s, now=None]\u001b[A\n",
      "chunk:  35%|███▍      | 969/2793 [00:02<00:05, 349.48it/s, now=None]\u001b[A\n",
      "chunk:  37%|███▋      | 1020/2793 [00:02<00:04, 377.61it/s, now=None]\u001b[A\n",
      "chunk:  38%|███▊      | 1071/2793 [00:02<00:04, 396.16it/s, now=None]\u001b[A\n",
      "chunk:  40%|████      | 1122/2793 [00:02<00:04, 416.41it/s, now=None]\u001b[A\n",
      "chunk:  42%|████▏     | 1173/2793 [00:02<00:04, 385.49it/s, now=None]\u001b[A\n",
      "chunk:  46%|████▌     | 1275/2793 [00:03<00:03, 429.77it/s, now=None]\u001b[A\n",
      "chunk:  47%|████▋     | 1326/2793 [00:03<00:05, 293.09it/s, now=None]\u001b[A\n",
      "chunk:  49%|████▉     | 1377/2793 [00:03<00:04, 331.31it/s, now=None]\u001b[A\n",
      "chunk:  51%|█████     | 1428/2793 [00:03<00:04, 330.12it/s, now=None]\u001b[A\n",
      "chunk:  53%|█████▎    | 1479/2793 [00:03<00:03, 362.41it/s, now=None]\u001b[A\n",
      "chunk:  55%|█████▍    | 1530/2793 [00:03<00:03, 370.48it/s, now=None]\u001b[A\n",
      "chunk:  57%|█████▋    | 1581/2793 [00:04<00:03, 356.54it/s, now=None]\u001b[A\n",
      "chunk:  58%|█████▊    | 1632/2793 [00:04<00:03, 369.17it/s, now=None]\u001b[A\n",
      "chunk:  60%|██████    | 1683/2793 [00:04<00:03, 361.50it/s, now=None]\u001b[A\n",
      "chunk:  62%|██████▏   | 1734/2793 [00:04<00:02, 381.57it/s, now=None]\u001b[A\n",
      "chunk:  64%|██████▍   | 1785/2793 [00:04<00:02, 383.78it/s, now=None]\u001b[A\n",
      "chunk:  66%|██████▌   | 1836/2793 [00:04<00:02, 410.94it/s, now=None]\u001b[A\n",
      "chunk:  68%|██████▊   | 1887/2793 [00:04<00:02, 404.17it/s, now=None]\u001b[A\n",
      "chunk:  69%|██████▉   | 1938/2793 [00:05<00:02, 287.27it/s, now=None]\u001b[A\n",
      "chunk:  71%|███████   | 1989/2793 [00:05<00:03, 237.47it/s, now=None]\u001b[A\n",
      "chunk:  73%|███████▎  | 2040/2793 [00:05<00:03, 217.35it/s, now=None]\u001b[A\n",
      "chunk:  75%|███████▍  | 2091/2793 [00:05<00:02, 249.73it/s, now=None]\u001b[A\n",
      "chunk:  77%|███████▋  | 2142/2793 [00:05<00:02, 285.29it/s, now=None]\u001b[A\n",
      "chunk:  79%|███████▊  | 2193/2793 [00:06<00:01, 320.33it/s, now=None]\u001b[A\n",
      "chunk:  80%|████████  | 2244/2793 [00:06<00:01, 330.45it/s, now=None]\u001b[A\n",
      "chunk:  82%|████████▏ | 2295/2793 [00:06<00:01, 329.15it/s, now=None]\u001b[A\n",
      "chunk:  84%|████████▍ | 2346/2793 [00:06<00:01, 354.41it/s, now=None]\u001b[A\n",
      "chunk:  86%|████████▌ | 2397/2793 [00:06<00:01, 334.36it/s, now=None]\u001b[A\n",
      "chunk:  88%|████████▊ | 2448/2793 [00:06<00:00, 355.62it/s, now=None]\u001b[A\n",
      "chunk:  91%|█████████ | 2535/2793 [00:06<00:00, 432.21it/s, now=None]\u001b[A\n",
      "chunk:  93%|█████████▎| 2588/2793 [00:07<00:00, 442.70it/s, now=None]\u001b[A\n",
      "chunk:  94%|█████████▍| 2639/2793 [00:07<00:00, 366.73it/s, now=None]\u001b[A\n",
      "chunk:  96%|█████████▌| 2683/2793 [00:07<00:00, 364.35it/s, now=None]\u001b[A\n",
      "chunk:  98%|█████████▊| 2725/2793 [00:07<00:00, 263.52it/s, now=None]\u001b[A\n",
      "chunk:  99%|█████████▉| 2759/2793 [00:07<00:00, 241.48it/s, now=None]\u001b[A\n",
      "chunk:   1%|▏         | 29/2121 [7:28:42<539:28:43, 928.36s/it, now=None]"
     ]
    },
    {
     "name": "stdout",
     "output_type": "stream",
     "text": [
      "MoviePy - Done.\n"
     ]
    },
    {
     "name": "stderr",
     "output_type": "stream",
     "text": [
      "chunk:   1%|▏         | 29/2121 [7:28:42<539:29:21, 928.38s/it, now=None]\n",
      "chunk:   0%|          | 0/1457 [00:00<?, ?it/s, now=None]"
     ]
    },
    {
     "name": "stdout",
     "output_type": "stream",
     "text": [
      "MoviePy - Writing audio in /home/jupyter/datasets/amigos/audio/Exp1_P37_audio/P37_20_audio.wav\n"
     ]
    },
    {
     "name": "stderr",
     "output_type": "stream",
     "text": [
      "\u001b[A\n",
      "chunk:   7%|▋         | 102/1457 [00:00<00:02, 649.43it/s, now=None]\u001b[A\n",
      "chunk:  11%|█         | 153/1457 [00:00<00:02, 516.86it/s, now=None]\u001b[A\n",
      "chunk:  18%|█▊        | 255/1457 [00:00<00:02, 590.93it/s, now=None]\u001b[A\n",
      "chunk:  25%|██▍       | 357/1457 [00:00<00:01, 654.18it/s, now=None]\u001b[A\n",
      "chunk:  32%|███▏      | 459/1457 [00:00<00:01, 669.84it/s, now=None]\u001b[A\n",
      "chunk:  39%|███▊      | 561/1457 [00:00<00:01, 684.56it/s, now=None]\u001b[A\n",
      "chunk:  46%|████▌     | 663/1457 [00:00<00:01, 749.57it/s, now=None]\u001b[A\n",
      "chunk:  53%|█████▎    | 765/1457 [00:01<00:00, 797.15it/s, now=None]\u001b[A\n",
      "chunk:  58%|█████▊    | 845/1457 [00:01<00:00, 713.80it/s, now=None]\u001b[A\n",
      "chunk:  67%|██████▋   | 969/1457 [00:01<00:00, 696.78it/s, now=None]\u001b[A\n",
      "chunk:  74%|███████▎  | 1071/1457 [00:01<00:00, 767.84it/s, now=None]\u001b[A\n",
      "chunk:  84%|████████▍ | 1224/1457 [00:01<00:00, 857.88it/s, now=None]\u001b[A\n",
      "chunk:  91%|█████████ | 1326/1457 [00:01<00:00, 747.54it/s, now=None]\u001b[A\n",
      "chunk:   1%|▏         | 29/2121 [7:28:45<539:31:54, 928.45s/it, now=None]"
     ]
    },
    {
     "name": "stdout",
     "output_type": "stream",
     "text": [
      "MoviePy - Done.\n"
     ]
    },
    {
     "name": "stderr",
     "output_type": "stream",
     "text": [
      "chunk:   1%|▏         | 29/2121 [7:28:45<539:32:41, 928.47s/it, now=None]\n",
      "chunk:   0%|          | 0/2481 [00:00<?, ?it/s, now=None]\u001b[A\n",
      "chunk:   6%|▌         | 153/2481 [00:00<00:02, 981.09it/s, now=None]\u001b[A"
     ]
    },
    {
     "name": "stdout",
     "output_type": "stream",
     "text": [
      "MoviePy - Writing audio in /home/jupyter/datasets/amigos/audio/Exp1_P37_audio/P37_23_audio.wav\n"
     ]
    },
    {
     "name": "stderr",
     "output_type": "stream",
     "text": [
      "\n",
      "chunk:  10%|█         | 255/2481 [00:00<00:02, 936.35it/s, now=None]\u001b[A\n",
      "chunk:  14%|█▍        | 357/2481 [00:00<00:02, 923.87it/s, now=None]\u001b[A\n",
      "chunk:  19%|█▊        | 459/2481 [00:00<00:02, 757.89it/s, now=None]\u001b[A\n",
      "chunk:  21%|██        | 517/2481 [00:00<00:02, 657.04it/s, now=None]\u001b[A\n",
      "chunk:  23%|██▎       | 573/2481 [00:00<00:03, 605.89it/s, now=None]\u001b[A\n",
      "chunk:  25%|██▌       | 628/2481 [00:00<00:03, 579.38it/s, now=None]\u001b[A\n",
      "chunk:  30%|██▉       | 738/2481 [00:01<00:02, 675.10it/s, now=None]\u001b[A\n",
      "chunk:  33%|███▎      | 809/2481 [00:01<00:02, 624.53it/s, now=None]\u001b[A\n",
      "chunk:  35%|███▌      | 875/2481 [00:01<00:03, 483.67it/s, now=None]\u001b[A\n",
      "chunk:  38%|███▊      | 931/2481 [00:01<00:03, 417.14it/s, now=None]\u001b[A\n",
      "chunk:  40%|███▉      | 980/2481 [00:01<00:03, 423.97it/s, now=None]\u001b[A\n",
      "chunk:  43%|████▎     | 1071/2481 [00:01<00:03, 463.27it/s, now=None]\u001b[A\n",
      "chunk:  45%|████▌     | 1122/2481 [00:01<00:03, 451.32it/s, now=None]\u001b[A\n",
      "chunk:  48%|████▊     | 1203/2481 [00:02<00:02, 520.42it/s, now=None]\u001b[A\n",
      "chunk:  51%|█████     | 1262/2481 [00:02<00:03, 403.53it/s, now=None]\u001b[A\n",
      "chunk:  53%|█████▎    | 1326/2481 [00:02<00:03, 358.12it/s, now=None]\u001b[A\n",
      "chunk:  56%|█████▌    | 1377/2481 [00:02<00:03, 299.67it/s, now=None]\u001b[A\n",
      "chunk:  58%|█████▊    | 1428/2481 [00:02<00:03, 322.43it/s, now=None]\u001b[A\n",
      "chunk:  60%|█████▉    | 1479/2481 [00:02<00:02, 348.02it/s, now=None]\u001b[A\n",
      "chunk:  62%|██████▏   | 1530/2481 [00:03<00:02, 382.91it/s, now=None]\u001b[A\n",
      "chunk:  64%|██████▎   | 1581/2481 [00:03<00:02, 406.06it/s, now=None]\u001b[A\n",
      "chunk:  66%|██████▌   | 1632/2481 [00:03<00:02, 382.68it/s, now=None]\u001b[A\n",
      "chunk:  70%|██████▉   | 1734/2481 [00:03<00:01, 424.64it/s, now=None]\u001b[A\n",
      "chunk:  72%|███████▏  | 1785/2481 [00:03<00:01, 404.65it/s, now=None]\u001b[A\n",
      "chunk:  74%|███████▍  | 1836/2481 [00:03<00:01, 423.57it/s, now=None]\u001b[A\n",
      "chunk:  76%|███████▌  | 1887/2481 [00:03<00:01, 368.06it/s, now=None]\u001b[A\n",
      "chunk:  79%|███████▉  | 1958/2481 [00:04<00:01, 430.21it/s, now=None]\u001b[A\n",
      "chunk:  81%|████████  | 2007/2481 [00:04<00:01, 440.57it/s, now=None]\u001b[A\n",
      "chunk:  83%|████████▎ | 2056/2481 [00:04<00:01, 401.82it/s, now=None]\u001b[A\n",
      "chunk:  85%|████████▍ | 2100/2481 [00:04<00:01, 304.01it/s, now=None]\u001b[A\n",
      "chunk:  88%|████████▊ | 2193/2481 [00:04<00:00, 327.12it/s, now=None]\u001b[A\n",
      "chunk:  93%|█████████▎| 2295/2481 [00:04<00:00, 370.84it/s, now=None]\u001b[A\n",
      "chunk:  95%|█████████▍| 2346/2481 [00:05<00:00, 355.24it/s, now=None]\u001b[A\n",
      "chunk:  97%|█████████▋| 2397/2481 [00:05<00:00, 312.38it/s, now=None]\u001b[A\n",
      "chunk:   1%|▏         | 29/2121 [7:28:51<539:39:10, 928.66s/it, now=None]"
     ]
    },
    {
     "name": "stdout",
     "output_type": "stream",
     "text": [
      "MoviePy - Done.\n"
     ]
    },
    {
     "name": "stderr",
     "output_type": "stream",
     "text": [
      "chunk:   1%|▏         | 29/2121 [7:28:51<539:39:49, 928.68s/it, now=None]\n",
      "chunk:   0%|          | 0/1703 [00:00<?, ?it/s, now=None]\u001b[A"
     ]
    },
    {
     "name": "stdout",
     "output_type": "stream",
     "text": [
      "MoviePy - Writing audio in /home/jupyter/datasets/amigos/audio/Exp1_P37_audio/P37_30_audio.wav\n"
     ]
    },
    {
     "name": "stderr",
     "output_type": "stream",
     "text": [
      "\n",
      "chunk:   9%|▉         | 153/1703 [00:00<00:02, 743.38it/s, now=None]\u001b[A\n",
      "chunk:  15%|█▍        | 255/1703 [00:00<00:02, 604.88it/s, now=None]\u001b[A\n",
      "chunk:  20%|█▉        | 337/1703 [00:00<00:02, 656.23it/s, now=None]\u001b[A\n",
      "chunk:  24%|██▍       | 410/1703 [00:00<00:01, 676.59it/s, now=None]\u001b[A\n",
      "chunk:  30%|██▉       | 510/1703 [00:00<00:01, 691.28it/s, now=None]\u001b[A\n",
      "chunk:  36%|███▌      | 612/1703 [00:00<00:01, 747.23it/s, now=None]\u001b[A\n",
      "chunk:  45%|████▍     | 765/1703 [00:01<00:01, 841.81it/s, now=None]\u001b[A\n",
      "chunk:  51%|█████     | 867/1703 [00:01<00:01, 803.21it/s, now=None]\u001b[A\n",
      "chunk:  57%|█████▋    | 969/1703 [00:01<00:00, 812.87it/s, now=None]\u001b[A\n",
      "chunk:  63%|██████▎   | 1071/1703 [00:01<00:00, 796.79it/s, now=None]\u001b[A\n",
      "chunk:  69%|██████▉   | 1173/1703 [00:01<00:00, 729.63it/s, now=None]\u001b[A\n",
      "chunk:  75%|███████▍  | 1275/1703 [00:01<00:00, 705.74it/s, now=None]\u001b[A\n",
      "chunk:  79%|███████▉  | 1347/1703 [00:01<00:00, 683.75it/s, now=None]\u001b[A\n",
      "chunk:  84%|████████▍ | 1428/1703 [00:02<00:00, 634.95it/s, now=None]\u001b[A\n",
      "chunk:  93%|█████████▎| 1581/1703 [00:02<00:00, 737.87it/s, now=None]\u001b[A\n",
      "chunk:  98%|█████████▊| 1662/1703 [00:02<00:00, 752.40it/s, now=None]\u001b[A\n",
      "chunk:   1%|▏         | 29/2121 [7:28:53<539:42:34, 928.75s/it, now=None]"
     ]
    },
    {
     "name": "stdout",
     "output_type": "stream",
     "text": [
      "MoviePy - Done.\n"
     ]
    },
    {
     "name": "stderr",
     "output_type": "stream",
     "text": [
      "chunk:   1%|▏         | 29/2121 [7:28:54<539:43:18, 928.78s/it, now=None]\n",
      "chunk:   0%|          | 0/3446 [00:00<?, ?it/s, now=None]\u001b[A\n",
      "chunk:   4%|▍         | 153/3446 [00:00<00:03, 996.11it/s, now=None]\u001b[A"
     ]
    },
    {
     "name": "stdout",
     "output_type": "stream",
     "text": [
      "MoviePy - Writing audio in /home/jupyter/datasets/amigos/audio/Exp1_P37_audio/P37_31_audio.wav\n"
     ]
    },
    {
     "name": "stderr",
     "output_type": "stream",
     "text": [
      "\n",
      "chunk:   6%|▌         | 204/3446 [00:00<00:05, 586.93it/s, now=None]\u001b[A\n",
      "chunk:   9%|▉         | 306/3446 [00:00<00:05, 608.91it/s, now=None]\u001b[A\n",
      "chunk:  10%|█         | 357/3446 [00:00<00:05, 551.60it/s, now=None]\u001b[A\n",
      "chunk:  13%|█▎        | 459/3446 [00:00<00:04, 621.05it/s, now=None]\u001b[A\n",
      "chunk:  16%|█▋        | 561/3446 [00:00<00:04, 640.11it/s, now=None]\u001b[A\n",
      "chunk:  19%|█▉        | 663/3446 [00:01<00:04, 597.11it/s, now=None]\u001b[A\n",
      "chunk:  21%|██        | 721/3446 [00:01<00:05, 510.95it/s, now=None]\u001b[A\n",
      "chunk:  22%|██▏       | 773/3446 [00:01<00:06, 430.36it/s, now=None]\u001b[A\n",
      "chunk:  24%|██▍       | 819/3446 [00:01<00:06, 431.17it/s, now=None]\u001b[A\n",
      "chunk:  27%|██▋       | 918/3446 [00:01<00:05, 441.82it/s, now=None]\u001b[A\n",
      "chunk:  28%|██▊       | 969/3446 [00:01<00:05, 453.46it/s, now=None]\u001b[A\n",
      "chunk:  30%|██▉       | 1020/3446 [00:01<00:06, 388.47it/s, now=None]\u001b[A\n",
      "chunk:  31%|███       | 1071/3446 [00:02<00:06, 393.12it/s, now=None]\u001b[A\n",
      "chunk:  33%|███▎      | 1122/3446 [00:02<00:05, 403.75it/s, now=None]\u001b[A\n",
      "chunk:  36%|███▌      | 1224/3446 [00:02<00:04, 459.46it/s, now=None]\u001b[A\n",
      "chunk:  38%|███▊      | 1313/3446 [00:02<00:03, 537.25it/s, now=None]\u001b[A\n",
      "chunk:  40%|███▉      | 1375/3446 [00:02<00:03, 548.41it/s, now=None]\u001b[A\n",
      "chunk:  42%|████▏     | 1436/3446 [00:02<00:04, 434.06it/s, now=None]\u001b[A\n",
      "chunk:  43%|████▎     | 1487/3446 [00:02<00:04, 434.25it/s, now=None]\u001b[A\n",
      "chunk:  45%|████▍     | 1536/3446 [00:02<00:04, 448.61it/s, now=None]\u001b[A\n",
      "chunk:  47%|████▋     | 1632/3446 [00:03<00:04, 443.45it/s, now=None]\u001b[A\n",
      "chunk:  49%|████▉     | 1683/3446 [00:03<00:05, 330.60it/s, now=None]\u001b[A\n",
      "chunk:  50%|█████     | 1734/3446 [00:03<00:05, 304.12it/s, now=None]\u001b[A\n",
      "chunk:  52%|█████▏    | 1785/3446 [00:03<00:05, 314.56it/s, now=None]\u001b[A\n",
      "chunk:  53%|█████▎    | 1836/3446 [00:03<00:04, 342.84it/s, now=None]\u001b[A\n",
      "chunk:  55%|█████▍    | 1887/3446 [00:04<00:04, 354.94it/s, now=None]\u001b[A\n",
      "chunk:  58%|█████▊    | 1989/3446 [00:04<00:03, 406.88it/s, now=None]\u001b[A\n",
      "chunk:  61%|██████    | 2091/3446 [00:04<00:02, 464.94it/s, now=None]\u001b[A\n",
      "chunk:  64%|██████▎   | 2193/3446 [00:04<00:02, 529.00it/s, now=None]\u001b[A\n",
      "chunk:  65%|██████▌   | 2254/3446 [00:04<00:02, 548.70it/s, now=None]\u001b[A\n",
      "chunk:  68%|██████▊   | 2346/3446 [00:04<00:01, 580.32it/s, now=None]\u001b[A\n",
      "chunk:  71%|███████   | 2448/3446 [00:04<00:01, 661.88it/s, now=None]\u001b[A\n",
      "chunk:  74%|███████▍  | 2550/3446 [00:05<00:01, 589.93it/s, now=None]\u001b[A\n",
      "chunk:  76%|███████▌  | 2616/3446 [00:05<00:01, 542.88it/s, now=None]\u001b[A\n",
      "chunk:  78%|███████▊  | 2676/3446 [00:05<00:01, 483.51it/s, now=None]\u001b[A\n",
      "chunk:  80%|███████▉  | 2754/3446 [00:05<00:01, 467.07it/s, now=None]\u001b[A\n",
      "chunk:  81%|████████▏ | 2805/3446 [00:05<00:01, 392.39it/s, now=None]\u001b[A\n",
      "chunk:  83%|████████▎ | 2856/3446 [00:05<00:01, 409.65it/s, now=None]\u001b[A\n",
      "chunk:  84%|████████▍ | 2907/3446 [00:05<00:01, 389.31it/s, now=None]\u001b[A\n",
      "chunk:  86%|████████▌ | 2958/3446 [00:06<00:01, 418.01it/s, now=None]\u001b[A\n",
      "chunk:  87%|████████▋ | 3009/3446 [00:06<00:01, 377.00it/s, now=None]\u001b[A\n",
      "chunk:  89%|████████▉ | 3060/3446 [00:06<00:00, 407.20it/s, now=None]\u001b[A\n",
      "chunk:  90%|█████████ | 3111/3446 [00:06<00:00, 366.82it/s, now=None]\u001b[A\n",
      "chunk:  92%|█████████▏| 3162/3446 [00:06<00:00, 313.65it/s, now=None]\u001b[A\n",
      "chunk:  93%|█████████▎| 3213/3446 [00:06<00:00, 266.54it/s, now=None]\u001b[A\n",
      "chunk:  95%|█████████▍| 3264/3446 [00:07<00:00, 222.67it/s, now=None]\u001b[A\n",
      "chunk:  96%|█████████▌| 3315/3446 [00:07<00:00, 198.02it/s, now=None]\u001b[A\n",
      "chunk:  98%|█████████▊| 3366/3446 [00:07<00:00, 235.04it/s, now=None]\u001b[A\n",
      "chunk:   1%|▏         | 29/2121 [7:29:02<539:52:48, 929.05s/it, now=None]"
     ]
    },
    {
     "name": "stdout",
     "output_type": "stream",
     "text": [
      "MoviePy - Done.\n"
     ]
    },
    {
     "name": "stderr",
     "output_type": "stream",
     "text": [
      "chunk:   1%|▏         | 29/2121 [7:29:03<539:53:46, 929.08s/it, now=None]\n",
      "chunk:   0%|          | 0/1475 [00:00<?, ?it/s, now=None]\u001b[A\n",
      "chunk:  10%|▉         | 141/1475 [00:00<00:00, 1408.74it/s, now=None]\u001b[A"
     ]
    },
    {
     "name": "stdout",
     "output_type": "stream",
     "text": [
      "MoviePy - Writing audio in /home/jupyter/datasets/amigos/audio/Exp1_P37_audio/P37_34_audio.wav\n"
     ]
    },
    {
     "name": "stderr",
     "output_type": "stream",
     "text": [
      "\n",
      "chunk:  12%|█▏        | 184/1475 [00:00<00:02, 638.69it/s, now=None] \u001b[A\n",
      "chunk:  15%|█▌        | 223/1475 [00:00<00:02, 454.47it/s, now=None]\u001b[A\n",
      "chunk:  17%|█▋        | 258/1475 [00:00<00:03, 318.31it/s, now=None]\u001b[A\n",
      "chunk:  21%|██        | 306/1475 [00:00<00:03, 321.78it/s, now=None]\u001b[A\n",
      "chunk:  27%|██▋       | 393/1475 [00:00<00:02, 396.74it/s, now=None]\u001b[A\n",
      "chunk:  30%|██▉       | 441/1475 [00:01<00:03, 342.51it/s, now=None]\u001b[A\n",
      "chunk:  33%|███▎      | 483/1475 [00:01<00:03, 305.40it/s, now=None]\u001b[A\n",
      "chunk:  38%|███▊      | 561/1475 [00:01<00:02, 350.99it/s, now=None]\u001b[A\n",
      "chunk:  41%|████▏     | 612/1475 [00:01<00:02, 362.93it/s, now=None]\u001b[A\n",
      "chunk:  45%|████▍     | 663/1475 [00:01<00:02, 393.05it/s, now=None]\u001b[A\n",
      "chunk:  52%|█████▏    | 765/1475 [00:01<00:01, 453.28it/s, now=None]\u001b[A\n",
      "chunk:  59%|█████▉    | 867/1475 [00:01<00:01, 513.54it/s, now=None]\u001b[A\n",
      "chunk:  63%|██████▎   | 926/1475 [00:01<00:01, 519.77it/s, now=None]\u001b[A\n",
      "chunk:  69%|██████▉   | 1020/1475 [00:02<00:00, 585.19it/s, now=None]\u001b[A\n",
      "chunk:  74%|███████▎  | 1085/1475 [00:02<00:00, 574.82it/s, now=None]\u001b[A\n",
      "chunk:  78%|███████▊  | 1147/1475 [00:02<00:00, 552.54it/s, now=None]\u001b[A\n",
      "chunk:  82%|████████▏ | 1206/1475 [00:02<00:00, 557.57it/s, now=None]\u001b[A\n",
      "chunk:  86%|████████▌ | 1265/1475 [00:02<00:00, 547.67it/s, now=None]\u001b[A\n",
      "chunk:  90%|████████▉ | 1326/1475 [00:02<00:00, 458.85it/s, now=None]\u001b[A\n",
      "chunk:  95%|█████████▍| 1399/1475 [00:02<00:00, 516.15it/s, now=None]\u001b[A\n",
      "chunk: 100%|█████████▉| 1474/1475 [00:02<00:00, 568.66it/s, now=None]\u001b[A\n",
      "chunk:   1%|▏         | 29/2121 [7:29:06<539:57:18, 929.18s/it, now=None]"
     ]
    },
    {
     "name": "stdout",
     "output_type": "stream",
     "text": [
      "MoviePy - Done.\n"
     ]
    },
    {
     "name": "stderr",
     "output_type": "stream",
     "text": [
      "chunk:   1%|▏         | 29/2121 [7:29:06<539:58:13, 929.20s/it, now=None]\n",
      "chunk:   0%|          | 0/1525 [00:00<?, ?it/s, now=None]\u001b[A\n",
      "chunk:   7%|▋         | 102/1525 [00:00<00:02, 612.68it/s, now=None]\u001b[A"
     ]
    },
    {
     "name": "stdout",
     "output_type": "stream",
     "text": [
      "MoviePy - Writing audio in /home/jupyter/datasets/amigos/audio/Exp1_P37_audio/P37_36_audio.wav\n"
     ]
    },
    {
     "name": "stderr",
     "output_type": "stream",
     "text": [
      "\n",
      "chunk:  13%|█▎        | 204/1525 [00:00<00:02, 568.24it/s, now=None]\u001b[A\n",
      "chunk:  17%|█▋        | 255/1525 [00:00<00:02, 513.29it/s, now=None]\u001b[A\n",
      "chunk:  20%|██        | 306/1525 [00:00<00:02, 440.41it/s, now=None]\u001b[A\n",
      "chunk:  23%|██▎       | 357/1525 [00:00<00:02, 410.92it/s, now=None]\u001b[A\n",
      "chunk:  27%|██▋       | 408/1525 [00:00<00:02, 419.38it/s, now=None]\u001b[A\n",
      "chunk:  30%|███       | 459/1525 [00:01<00:02, 409.63it/s, now=None]\u001b[A\n",
      "chunk:  33%|███▎      | 510/1525 [00:01<00:02, 371.22it/s, now=None]\u001b[A\n",
      "chunk:  38%|███▊      | 573/1525 [00:01<00:02, 423.35it/s, now=None]\u001b[A\n",
      "chunk:  40%|████      | 617/1525 [00:01<00:03, 292.04it/s, now=None]\u001b[A\n",
      "chunk:  43%|████▎     | 663/1525 [00:01<00:03, 274.63it/s, now=None]\u001b[A\n",
      "chunk:  47%|████▋     | 714/1525 [00:01<00:03, 264.78it/s, now=None]\u001b[A\n",
      "chunk:  50%|█████     | 765/1525 [00:02<00:02, 300.50it/s, now=None]\u001b[A\n",
      "chunk:  56%|█████▌    | 856/1525 [00:02<00:01, 376.03it/s, now=None]\u001b[A\n",
      "chunk:  60%|█████▉    | 908/1525 [00:02<00:01, 378.74it/s, now=None]\u001b[A\n",
      "chunk:  63%|██████▎   | 956/1525 [00:02<00:01, 287.34it/s, now=None]\u001b[A\n",
      "chunk:  65%|██████▌   | 995/1525 [00:02<00:01, 300.04it/s, now=None]\u001b[A\n",
      "chunk:  68%|██████▊   | 1033/1525 [00:02<00:02, 218.26it/s, now=None]\u001b[A\n",
      "chunk:  70%|███████   | 1071/1525 [00:03<00:02, 187.25it/s, now=None]\u001b[A\n",
      "chunk:  76%|███████▌  | 1160/1525 [00:03<00:01, 245.34it/s, now=None]\u001b[A\n",
      "chunk:  79%|███████▉  | 1205/1525 [00:03<00:01, 259.47it/s, now=None]\u001b[A\n",
      "chunk:  84%|████████▎ | 1275/1525 [00:03<00:00, 282.80it/s, now=None]\u001b[A\n",
      "chunk:  87%|████████▋ | 1326/1525 [00:03<00:00, 312.84it/s, now=None]\u001b[A\n",
      "chunk:  90%|█████████ | 1377/1525 [00:04<00:00, 279.99it/s, now=None]\u001b[A\n",
      "chunk:  94%|█████████▎| 1428/1525 [00:04<00:00, 257.80it/s, now=None]\u001b[A\n",
      "chunk:  97%|█████████▋| 1479/1525 [00:04<00:00, 285.44it/s, now=None]\u001b[A\n",
      "chunk:   1%|▏         | 29/2121 [7:29:11<540:03:34, 929.36s/it, now=None]"
     ]
    },
    {
     "name": "stdout",
     "output_type": "stream",
     "text": [
      "MoviePy - Done.\n"
     ]
    },
    {
     "name": "stderr",
     "output_type": "stream",
     "text": [
      "chunk:   1%|▏         | 29/2121 [7:29:12<540:04:27, 929.38s/it, now=None]\n",
      "chunk:   0%|          | 0/2029 [00:00<?, ?it/s, now=None]\u001b[A\n",
      "chunk:   8%|▊         | 153/2029 [00:00<00:01, 1220.82it/s, now=None]\u001b[A"
     ]
    },
    {
     "name": "stdout",
     "output_type": "stream",
     "text": [
      "MoviePy - Writing audio in /home/jupyter/datasets/amigos/audio/Exp1_P37_audio/P37_4_audio.wav\n"
     ]
    },
    {
     "name": "stderr",
     "output_type": "stream",
     "text": [
      "\n",
      "chunk:  13%|█▎        | 255/2029 [00:00<00:01, 899.92it/s, now=None] \u001b[A\n",
      "chunk:  18%|█▊        | 357/2029 [00:00<00:01, 889.90it/s, now=None]\u001b[A\n",
      "chunk:  20%|██        | 413/2029 [00:00<00:02, 601.26it/s, now=None]\u001b[A\n",
      "chunk:  25%|██▍       | 500/2029 [00:00<00:02, 662.48it/s, now=None]\u001b[A\n",
      "chunk:  28%|██▊       | 561/2029 [00:00<00:02, 605.45it/s, now=None]\u001b[A\n",
      "chunk:  33%|███▎      | 663/2029 [00:00<00:02, 635.38it/s, now=None]\u001b[A\n",
      "chunk:  38%|███▊      | 765/2029 [00:01<00:01, 659.26it/s, now=None]\u001b[A\n",
      "chunk:  43%|████▎     | 867/2029 [00:01<00:01, 638.50it/s, now=None]\u001b[A\n",
      "chunk:  48%|████▊     | 969/2029 [00:01<00:01, 696.73it/s, now=None]\u001b[A\n",
      "chunk:  53%|█████▎    | 1071/2029 [00:01<00:01, 681.39it/s, now=None]\u001b[A\n",
      "chunk:  58%|█████▊    | 1173/2029 [00:01<00:01, 637.23it/s, now=None]\u001b[A\n",
      "chunk:  61%|██████    | 1238/2029 [00:01<00:01, 631.76it/s, now=None]\u001b[A\n",
      "chunk:  65%|██████▌   | 1326/2029 [00:02<00:01, 536.17it/s, now=None]\u001b[A\n",
      "chunk:  70%|███████   | 1428/2029 [00:02<00:01, 559.27it/s, now=None]\u001b[A\n",
      "chunk:  73%|███████▎  | 1487/2029 [00:02<00:00, 554.86it/s, now=None]\u001b[A\n",
      "chunk:  78%|███████▊  | 1579/2029 [00:02<00:00, 629.83it/s, now=None]\u001b[A\n",
      "chunk:  81%|████████  | 1647/2029 [00:02<00:00, 522.17it/s, now=None]\u001b[A\n",
      "chunk:  85%|████████▌ | 1734/2029 [00:02<00:00, 554.87it/s, now=None]\u001b[A\n",
      "chunk:  90%|█████████ | 1836/2029 [00:02<00:00, 602.12it/s, now=None]\u001b[A\n",
      "chunk:  94%|█████████▎| 1901/2029 [00:03<00:00, 546.43it/s, now=None]\u001b[A\n",
      "chunk:  98%|█████████▊| 1989/2029 [00:03<00:00, 597.22it/s, now=None]\u001b[A\n",
      "chunk:   1%|▏         | 29/2121 [7:29:15<540:08:16, 929.49s/it, now=None]"
     ]
    },
    {
     "name": "stdout",
     "output_type": "stream",
     "text": [
      "MoviePy - Done.\n"
     ]
    },
    {
     "name": "stderr",
     "output_type": "stream",
     "text": [
      "chunk:   1%|▏         | 29/2121 [7:29:16<540:09:17, 929.52s/it, now=None]\n",
      "chunk:   0%|          | 0/2499 [00:00<?, ?it/s, now=None]\u001b[A\n",
      "chunk:   4%|▍         | 102/2499 [00:00<00:02, 947.55it/s, now=None]\u001b[A"
     ]
    },
    {
     "name": "stdout",
     "output_type": "stream",
     "text": [
      "MoviePy - Writing audio in /home/jupyter/datasets/amigos/audio/Exp1_P37_audio/P37_5_audio.wav\n"
     ]
    },
    {
     "name": "stderr",
     "output_type": "stream",
     "text": [
      "\n",
      "chunk:   7%|▋         | 165/2499 [00:00<00:02, 822.42it/s, now=None]\u001b[A\n",
      "chunk:   8%|▊         | 204/2499 [00:00<00:05, 418.62it/s, now=None]\u001b[A\n",
      "chunk:  11%|█         | 280/2499 [00:00<00:04, 483.76it/s, now=None]\u001b[A\n",
      "chunk:  14%|█▍        | 347/2499 [00:00<00:04, 527.73it/s, now=None]\u001b[A\n",
      "chunk:  16%|█▌        | 400/2499 [00:00<00:04, 420.12it/s, now=None]\u001b[A\n",
      "chunk:  18%|█▊        | 459/2499 [00:01<00:05, 356.70it/s, now=None]\u001b[A\n",
      "chunk:  20%|██        | 510/2499 [00:01<00:05, 334.27it/s, now=None]\u001b[A\n",
      "chunk:  23%|██▎       | 583/2499 [00:01<00:04, 399.12it/s, now=None]\u001b[A\n",
      "chunk:  25%|██▌       | 631/2499 [00:01<00:04, 408.84it/s, now=None]\u001b[A\n",
      "chunk:  27%|██▋       | 678/2499 [00:01<00:05, 329.25it/s, now=None]\u001b[A\n",
      "chunk:  29%|██▊       | 718/2499 [00:01<00:05, 312.17it/s, now=None]\u001b[A\n",
      "chunk:  31%|███       | 765/2499 [00:01<00:06, 281.61it/s, now=None]\u001b[A\n",
      "chunk:  33%|███▎      | 816/2499 [00:02<00:06, 251.55it/s, now=None]\u001b[A\n",
      "chunk:  35%|███▍      | 867/2499 [00:02<00:05, 287.49it/s, now=None]\u001b[A\n",
      "chunk:  38%|███▊      | 938/2499 [00:02<00:04, 349.88it/s, now=None]\u001b[A\n",
      "chunk:  39%|███▉      | 983/2499 [00:02<00:04, 333.58it/s, now=None]\u001b[A\n",
      "chunk:  41%|████      | 1023/2499 [00:02<00:05, 260.62it/s, now=None]\u001b[A\n",
      "chunk:  43%|████▎     | 1071/2499 [00:03<00:05, 256.75it/s, now=None]\u001b[A\n",
      "chunk:  46%|████▌     | 1154/2499 [00:03<00:04, 323.77it/s, now=None]\u001b[A\n",
      "chunk:  48%|████▊     | 1201/2499 [00:03<00:04, 267.51it/s, now=None]\u001b[A\n",
      "chunk:  50%|████▉     | 1240/2499 [00:03<00:04, 275.53it/s, now=None]\u001b[A\n",
      "chunk:  51%|█████     | 1276/2499 [00:03<00:05, 240.01it/s, now=None]\u001b[A\n",
      "chunk:  53%|█████▎    | 1326/2499 [00:03<00:04, 242.59it/s, now=None]\u001b[A\n",
      "chunk:  57%|█████▋    | 1428/2499 [00:04<00:03, 285.37it/s, now=None]\u001b[A\n",
      "chunk:  59%|█████▉    | 1479/2499 [00:04<00:03, 267.89it/s, now=None]\u001b[A\n",
      "chunk:  61%|██████    | 1530/2499 [00:04<00:03, 256.18it/s, now=None]\u001b[A\n",
      "chunk:  63%|██████▎   | 1581/2499 [00:04<00:03, 242.04it/s, now=None]\u001b[A\n",
      "chunk:  65%|██████▌   | 1632/2499 [00:04<00:03, 272.57it/s, now=None]\u001b[A\n",
      "chunk:  67%|██████▋   | 1683/2499 [00:05<00:02, 297.21it/s, now=None]\u001b[A\n",
      "chunk:  69%|██████▉   | 1734/2499 [00:05<00:02, 330.92it/s, now=None]\u001b[A\n",
      "chunk:  71%|███████▏  | 1785/2499 [00:05<00:01, 357.62it/s, now=None]\u001b[A\n",
      "chunk:  73%|███████▎  | 1836/2499 [00:05<00:01, 350.80it/s, now=None]\u001b[A\n",
      "chunk:  76%|███████▌  | 1887/2499 [00:05<00:01, 335.55it/s, now=None]\u001b[A\n",
      "chunk:  78%|███████▊  | 1938/2499 [00:05<00:01, 299.20it/s, now=None]\u001b[A\n",
      "chunk:  80%|███████▉  | 1989/2499 [00:06<00:01, 274.55it/s, now=None]\u001b[A\n",
      "chunk:  82%|████████▏ | 2040/2499 [00:06<00:01, 277.06it/s, now=None]\u001b[A\n",
      "chunk:  86%|████████▌ | 2142/2499 [00:06<00:01, 286.11it/s, now=None]\u001b[A\n",
      "chunk:  88%|████████▊ | 2193/2499 [00:06<00:01, 301.27it/s, now=None]\u001b[A\n",
      "chunk:  90%|████████▉ | 2244/2499 [00:06<00:00, 335.78it/s, now=None]\u001b[A\n",
      "chunk:  92%|█████████▏| 2295/2499 [00:06<00:00, 316.84it/s, now=None]\u001b[A\n",
      "chunk:  94%|█████████▍| 2346/2499 [00:07<00:00, 296.85it/s, now=None]\u001b[A\n",
      "chunk:  96%|█████████▌| 2397/2499 [00:07<00:00, 325.52it/s, now=None]\u001b[A\n",
      "chunk:  98%|█████████▊| 2448/2499 [00:07<00:00, 356.66it/s, now=None]\u001b[A\n",
      "chunk:   1%|▏         | 29/2121 [7:29:23<540:18:14, 929.78s/it, now=None]"
     ]
    },
    {
     "name": "stdout",
     "output_type": "stream",
     "text": [
      "MoviePy - Done.\n"
     ]
    },
    {
     "name": "stderr",
     "output_type": "stream",
     "text": [
      "chunk:   1%|▏         | 29/2121 [7:29:24<540:19:05, 929.80s/it, now=None]\n",
      "chunk:   0%|          | 0/1436 [00:00<?, ?it/s, now=None]\u001b[A"
     ]
    },
    {
     "name": "stdout",
     "output_type": "stream",
     "text": [
      "MoviePy - Writing audio in /home/jupyter/datasets/amigos/audio/Exp1_P37_audio/P37_58_audio.wav\n"
     ]
    },
    {
     "name": "stderr",
     "output_type": "stream",
     "text": [
      "\n",
      "chunk:   7%|▋         | 102/1436 [00:00<00:02, 566.10it/s, now=None]\u001b[A\n",
      "chunk:  11%|█         | 153/1436 [00:00<00:02, 448.52it/s, now=None]\u001b[A\n",
      "chunk:  14%|█▍        | 204/1436 [00:00<00:05, 239.94it/s, now=None]\u001b[A\n",
      "chunk:  18%|█▊        | 255/1436 [00:01<00:05, 200.78it/s, now=None]\u001b[A\n",
      "chunk:  21%|██▏       | 306/1436 [00:01<00:06, 186.19it/s, now=None]\u001b[A\n",
      "chunk:  25%|██▍       | 357/1436 [00:01<00:05, 212.57it/s, now=None]\u001b[A\n",
      "chunk:  28%|██▊       | 408/1436 [00:01<00:04, 211.16it/s, now=None]\u001b[A\n",
      "chunk:  32%|███▏      | 459/1436 [00:02<00:04, 243.66it/s, now=None]\u001b[A\n",
      "chunk:  36%|███▌      | 519/1436 [00:02<00:03, 296.41it/s, now=None]\u001b[A\n",
      "chunk:  39%|███▉      | 561/1436 [00:02<00:02, 312.66it/s, now=None]\u001b[A\n",
      "chunk:  43%|████▎     | 612/1436 [00:02<00:02, 303.67it/s, now=None]\u001b[A\n",
      "chunk:  50%|████▉     | 714/1436 [00:02<00:02, 347.70it/s, now=None]\u001b[A\n",
      "chunk:  53%|█████▎    | 765/1436 [00:02<00:01, 360.23it/s, now=None]\u001b[A\n",
      "chunk:  57%|█████▋    | 816/1436 [00:02<00:01, 387.19it/s, now=None]\u001b[A\n",
      "chunk:  60%|██████    | 867/1436 [00:02<00:01, 389.77it/s, now=None]\u001b[A\n",
      "chunk:  64%|██████▍   | 918/1436 [00:03<00:01, 402.18it/s, now=None]\u001b[A\n",
      "chunk:  67%|██████▋   | 969/1436 [00:03<00:01, 419.75it/s, now=None]\u001b[A\n",
      "chunk:  71%|███████   | 1020/1436 [00:03<00:00, 418.35it/s, now=None]\u001b[A\n",
      "chunk:  75%|███████▍  | 1071/1436 [00:03<00:00, 366.66it/s, now=None]\u001b[A\n",
      "chunk:  78%|███████▊  | 1122/1436 [00:03<00:00, 382.76it/s, now=None]\u001b[A\n",
      "chunk:  84%|████████▍ | 1206/1436 [00:03<00:00, 457.37it/s, now=None]\u001b[A\n",
      "chunk:  88%|████████▊ | 1259/1436 [00:03<00:00, 410.90it/s, now=None]\u001b[A\n",
      "chunk:  92%|█████████▏| 1326/1436 [00:04<00:00, 421.52it/s, now=None]\u001b[A\n",
      "chunk:  98%|█████████▊| 1404/1436 [00:04<00:00, 488.75it/s, now=None]\u001b[A\n",
      "chunk:   1%|▏         | 29/2121 [7:29:28<540:24:05, 929.95s/it, now=None]"
     ]
    },
    {
     "name": "stdout",
     "output_type": "stream",
     "text": [
      "MoviePy - Done.\n"
     ]
    },
    {
     "name": "stderr",
     "output_type": "stream",
     "text": [
      "chunk:   1%|▏         | 29/2121 [7:29:28<540:24:43, 929.96s/it, now=None]\n",
      "chunk:   0%|          | 0/2267 [00:00<?, ?it/s, now=None]\u001b[A\n",
      "chunk:   4%|▍         | 102/2267 [00:00<00:02, 1010.85it/s, now=None]\u001b[A"
     ]
    },
    {
     "name": "stdout",
     "output_type": "stream",
     "text": [
      "MoviePy - Writing audio in /home/jupyter/datasets/amigos/audio/Exp1_P37_audio/P37_80_audio.wav\n"
     ]
    },
    {
     "name": "stderr",
     "output_type": "stream",
     "text": [
      "\n",
      "chunk:   9%|▉         | 204/2267 [00:00<00:02, 847.88it/s, now=None] \u001b[A\n",
      "chunk:  11%|█         | 255/2267 [00:00<00:03, 657.95it/s, now=None]\u001b[A\n",
      "chunk:  13%|█▎        | 306/2267 [00:00<00:03, 592.36it/s, now=None]\u001b[A\n",
      "chunk:  16%|█▌        | 357/2267 [00:00<00:03, 519.87it/s, now=None]\u001b[A\n",
      "chunk:  18%|█▊        | 408/2267 [00:00<00:05, 343.96it/s, now=None]\u001b[A\n",
      "chunk:  20%|██        | 459/2267 [00:01<00:06, 279.59it/s, now=None]\u001b[A\n",
      "chunk:  22%|██▏       | 510/2267 [00:01<00:06, 286.62it/s, now=None]\u001b[A\n",
      "chunk:  25%|██▍       | 561/2267 [00:01<00:05, 301.08it/s, now=None]\u001b[A\n",
      "chunk:  28%|██▊       | 626/2267 [00:01<00:04, 358.81it/s, now=None]\u001b[A\n",
      "chunk:  29%|██▉       | 668/2267 [00:01<00:05, 278.39it/s, now=None]\u001b[A\n",
      "chunk:  31%|███▏      | 714/2267 [00:01<00:05, 269.59it/s, now=None]\u001b[A\n",
      "chunk:  34%|███▎      | 765/2267 [00:02<00:04, 312.99it/s, now=None]\u001b[A\n",
      "chunk:  36%|███▌      | 816/2267 [00:02<00:04, 339.58it/s, now=None]\u001b[A\n",
      "chunk:  38%|███▊      | 867/2267 [00:02<00:03, 366.75it/s, now=None]\u001b[A\n",
      "chunk:  42%|████▏     | 958/2267 [00:02<00:02, 446.59it/s, now=None]\u001b[A\n",
      "chunk:  45%|████▍     | 1014/2267 [00:02<00:02, 443.68it/s, now=None]\u001b[A\n",
      "chunk:  47%|████▋     | 1071/2267 [00:02<00:02, 433.48it/s, now=None]\u001b[A\n",
      "chunk:  49%|████▉     | 1122/2267 [00:02<00:02, 433.87it/s, now=None]\u001b[A\n",
      "chunk:  54%|█████▍    | 1224/2267 [00:02<00:02, 489.79it/s, now=None]\u001b[A\n",
      "chunk:  58%|█████▊    | 1326/2267 [00:03<00:01, 559.79it/s, now=None]\u001b[A\n",
      "chunk:  61%|██████▏   | 1390/2267 [00:03<00:01, 552.26it/s, now=None]\u001b[A\n",
      "chunk:  65%|██████▌   | 1479/2267 [00:03<00:01, 533.47it/s, now=None]\u001b[A\n",
      "chunk:  68%|██████▊   | 1536/2267 [00:03<00:01, 541.07it/s, now=None]\u001b[A\n",
      "chunk:  72%|███████▏  | 1632/2267 [00:03<00:01, 542.58it/s, now=None]\u001b[A\n",
      "chunk:  76%|███████▋  | 1734/2267 [00:03<00:00, 612.06it/s, now=None]\u001b[A\n",
      "chunk:  81%|████████  | 1836/2267 [00:03<00:00, 623.47it/s, now=None]\u001b[A\n",
      "chunk:  84%|████████▍ | 1902/2267 [00:04<00:00, 555.89it/s, now=None]\u001b[A\n",
      "chunk:  87%|████████▋ | 1962/2267 [00:04<00:00, 567.66it/s, now=None]\u001b[A\n",
      "chunk:  89%|████████▉ | 2022/2267 [00:04<00:00, 508.13it/s, now=None]\u001b[A\n",
      "chunk:  92%|█████████▏| 2091/2267 [00:04<00:00, 416.74it/s, now=None]\u001b[A\n",
      "chunk:  97%|█████████▋| 2193/2267 [00:04<00:00, 484.14it/s, now=None]\u001b[A\n",
      "chunk:   1%|▏         | 29/2121 [7:29:33<540:30:24, 930.13s/it, now=None]"
     ]
    },
    {
     "name": "stdout",
     "output_type": "stream",
     "text": [
      "MoviePy - Done.\n"
     ]
    },
    {
     "name": "stderr",
     "output_type": "stream",
     "text": [
      "chunk:   1%|▏         | 29/2121 [7:29:34<540:31:08, 930.15s/it, now=None]\n",
      "chunk:   0%|          | 0/1681 [00:00<?, ?it/s, now=None]\u001b[A"
     ]
    },
    {
     "name": "stdout",
     "output_type": "stream",
     "text": [
      "MoviePy - Writing audio in /home/jupyter/datasets/amigos/audio/Exp1_P37_audio/P37_9_audio.wav\n"
     ]
    },
    {
     "name": "stderr",
     "output_type": "stream",
     "text": [
      "\n",
      "chunk:   9%|▉         | 153/1681 [00:00<00:01, 813.62it/s, now=None]\u001b[A\n",
      "chunk:  15%|█▌        | 255/1681 [00:00<00:02, 650.27it/s, now=None]\u001b[A\n",
      "chunk:  21%|██        | 357/1681 [00:00<00:01, 712.19it/s, now=None]\u001b[A\n",
      "chunk:  24%|██▍       | 408/1681 [00:00<00:02, 426.54it/s, now=None]\u001b[A\n",
      "chunk:  30%|███       | 510/1681 [00:00<00:02, 474.80it/s, now=None]\u001b[A\n",
      "chunk:  36%|███▋      | 612/1681 [00:01<00:01, 553.31it/s, now=None]\u001b[A\n",
      "chunk:  40%|████      | 673/1681 [00:01<00:01, 564.43it/s, now=None]\u001b[A\n",
      "chunk:  44%|████▎     | 734/1681 [00:01<00:01, 494.09it/s, now=None]\u001b[A\n",
      "chunk:  49%|████▉     | 832/1681 [00:01<00:01, 580.19it/s, now=None]\u001b[A\n",
      "chunk:  53%|█████▎    | 899/1681 [00:01<00:01, 486.46it/s, now=None]\u001b[A\n",
      "chunk:  57%|█████▋    | 957/1681 [00:01<00:01, 506.46it/s, now=None]\u001b[A\n",
      "chunk:  61%|██████    | 1020/1681 [00:01<00:01, 509.81it/s, now=None]\u001b[A\n",
      "chunk:  64%|██████▍   | 1076/1681 [00:01<00:01, 420.43it/s, now=None]\u001b[A\n",
      "chunk:  67%|██████▋   | 1124/1681 [00:02<00:01, 384.88it/s, now=None]\u001b[A\n",
      "chunk:  73%|███████▎  | 1224/1681 [00:02<00:01, 446.98it/s, now=None]\u001b[A\n",
      "chunk:  79%|███████▉  | 1326/1681 [00:02<00:00, 460.30it/s, now=None]\u001b[A\n",
      "chunk:  82%|████████▏ | 1377/1681 [00:02<00:00, 381.87it/s, now=None]\u001b[A\n",
      "chunk:  88%|████████▊ | 1479/1681 [00:02<00:00, 419.58it/s, now=None]\u001b[A\n",
      "chunk:  94%|█████████▍| 1581/1681 [00:03<00:00, 461.32it/s, now=None]\u001b[A\n",
      "chunk:   1%|▏         | 29/2121 [7:29:37<540:34:54, 930.26s/it, now=None]"
     ]
    },
    {
     "name": "stdout",
     "output_type": "stream",
     "text": [
      "MoviePy - Done.\n"
     ]
    },
    {
     "name": "stderr",
     "output_type": "stream",
     "text": [
      "chunk:   1%|▏         | 29/2121 [7:29:38<540:35:44, 930.28s/it, now=None]\n",
      "chunk:   0%|          | 0/2118 [00:00<?, ?it/s, now=None]\u001b[A\n",
      "chunk:   5%|▌         | 114/2118 [00:00<00:01, 1138.74it/s, now=None]\u001b[A"
     ]
    },
    {
     "name": "stdout",
     "output_type": "stream",
     "text": [
      "MoviePy - Writing audio in /home/jupyter/datasets/amigos/audio/Exp1_P38_audio/P38_10_audio.wav\n"
     ]
    },
    {
     "name": "stderr",
     "output_type": "stream",
     "text": [
      "\n",
      "chunk:  10%|▉         | 204/2118 [00:00<00:02, 722.24it/s, now=None] \u001b[A\n",
      "chunk:  14%|█▍        | 306/2118 [00:00<00:02, 679.84it/s, now=None]\u001b[A\n",
      "chunk:  17%|█▋        | 357/2118 [00:00<00:03, 542.64it/s, now=None]\u001b[A\n",
      "chunk:  19%|█▉        | 408/2118 [00:00<00:03, 517.36it/s, now=None]\u001b[A\n",
      "chunk:  24%|██▎       | 499/2118 [00:00<00:02, 594.09it/s, now=None]\u001b[A\n",
      "chunk:  27%|██▋       | 564/2118 [00:00<00:02, 609.80it/s, now=None]\u001b[A\n",
      "chunk:  29%|██▉       | 624/2118 [00:01<00:02, 534.90it/s, now=None]\u001b[A\n",
      "chunk:  34%|███▎      | 714/2118 [00:01<00:02, 543.36it/s, now=None]\u001b[A\n",
      "chunk:  36%|███▋      | 769/2118 [00:01<00:02, 475.94it/s, now=None]\u001b[A\n",
      "chunk:  41%|████      | 867/2118 [00:01<00:02, 560.69it/s, now=None]\u001b[A\n",
      "chunk:  46%|████▌     | 969/2118 [00:01<00:01, 590.95it/s, now=None]\u001b[A\n",
      "chunk:  51%|█████     | 1071/2118 [00:01<00:01, 656.12it/s, now=None]\u001b[A\n",
      "chunk:  55%|█████▌    | 1173/2118 [00:01<00:01, 673.86it/s, now=None]\u001b[A\n",
      "chunk:  60%|██████    | 1275/2118 [00:02<00:01, 737.84it/s, now=None]\u001b[A\n",
      "chunk:  64%|██████▍   | 1354/2118 [00:02<00:01, 567.64it/s, now=None]\u001b[A\n",
      "chunk:  67%|██████▋   | 1428/2118 [00:02<00:01, 566.31it/s, now=None]\u001b[A\n",
      "chunk:  70%|███████   | 1492/2118 [00:02<00:01, 501.36it/s, now=None]\u001b[A\n",
      "chunk:  73%|███████▎  | 1549/2118 [00:02<00:01, 487.98it/s, now=None]\u001b[A\n",
      "chunk:  77%|███████▋  | 1632/2118 [00:02<00:01, 434.40it/s, now=None]\u001b[A\n",
      "chunk:  79%|███████▉  | 1683/2118 [00:03<00:00, 442.46it/s, now=None]\u001b[A\n",
      "chunk:  82%|████████▏ | 1734/2118 [00:03<00:00, 415.60it/s, now=None]\u001b[A\n",
      "chunk:  86%|████████▋ | 1832/2118 [00:03<00:00, 502.28it/s, now=None]\u001b[A\n",
      "chunk:  89%|████████▉ | 1893/2118 [00:03<00:00, 421.48it/s, now=None]\u001b[A\n",
      "chunk:  92%|█████████▏| 1945/2118 [00:03<00:00, 435.78it/s, now=None]\u001b[A\n",
      "chunk:  94%|█████████▍| 1996/2118 [00:03<00:00, 379.20it/s, now=None]\u001b[A\n",
      "chunk:  99%|█████████▊| 2091/2118 [00:03<00:00, 460.89it/s, now=None]\u001b[A\n",
      "chunk:   1%|▏         | 29/2121 [7:29:41<540:40:22, 930.41s/it, now=None]"
     ]
    },
    {
     "name": "stdout",
     "output_type": "stream",
     "text": [
      "MoviePy - Done.\n"
     ]
    },
    {
     "name": "stderr",
     "output_type": "stream",
     "text": [
      "chunk:   1%|▏         | 29/2121 [7:29:42<540:41:05, 930.43s/it, now=None]\n",
      "chunk:   0%|          | 0/1258 [00:00<?, ?it/s, now=None]\u001b[A\n",
      "chunk:   8%|▊         | 102/1258 [00:00<00:01, 983.91it/s, now=None]\u001b[A"
     ]
    },
    {
     "name": "stdout",
     "output_type": "stream",
     "text": [
      "MoviePy - Writing audio in /home/jupyter/datasets/amigos/audio/Exp1_P38_audio/P38_13_audio.wav\n"
     ]
    },
    {
     "name": "stderr",
     "output_type": "stream",
     "text": [
      "\n",
      "chunk:  12%|█▏        | 153/1258 [00:00<00:01, 693.54it/s, now=None]\u001b[A\n",
      "chunk:  20%|██        | 255/1258 [00:00<00:01, 631.97it/s, now=None]\u001b[A\n",
      "chunk:  28%|██▊       | 357/1258 [00:00<00:01, 657.93it/s, now=None]\u001b[A\n",
      "chunk:  36%|███▋      | 459/1258 [00:00<00:01, 653.31it/s, now=None]\u001b[A\n",
      "chunk:  45%|████▍     | 561/1258 [00:00<00:01, 642.76it/s, now=None]\u001b[A\n",
      "chunk:  53%|█████▎    | 663/1258 [00:01<00:00, 695.86it/s, now=None]\u001b[A\n",
      "chunk:  61%|██████    | 765/1258 [00:01<00:00, 742.59it/s, now=None]\u001b[A\n",
      "chunk:  69%|██████▉   | 867/1258 [00:01<00:00, 789.95it/s, now=None]\u001b[A\n",
      "chunk:  79%|███████▉  | 999/1258 [00:01<00:00, 898.05it/s, now=None]\u001b[A\n",
      "chunk:  87%|████████▋ | 1094/1258 [00:01<00:00, 836.92it/s, now=None]\u001b[A\n",
      "chunk:  96%|█████████▋| 1213/1258 [00:01<00:00, 918.57it/s, now=None]\u001b[A\n",
      "chunk:   1%|▏         | 29/2121 [7:29:44<540:43:06, 930.49s/it, now=None]"
     ]
    },
    {
     "name": "stdout",
     "output_type": "stream",
     "text": [
      "MoviePy - Done.\n"
     ]
    },
    {
     "name": "stderr",
     "output_type": "stream",
     "text": [
      "chunk:   1%|▏         | 29/2121 [7:29:44<540:43:47, 930.51s/it, now=None]\n",
      "chunk:   0%|          | 0/2701 [00:00<?, ?it/s, now=None]\u001b[A\n",
      "chunk:   4%|▍         | 102/2701 [00:00<00:03, 753.10it/s, now=None]\u001b[A"
     ]
    },
    {
     "name": "stdout",
     "output_type": "stream",
     "text": [
      "MoviePy - Writing audio in /home/jupyter/datasets/amigos/audio/Exp1_P38_audio/P38_138_audio.wav\n"
     ]
    },
    {
     "name": "stderr",
     "output_type": "stream",
     "text": [
      "\n",
      "chunk:   8%|▊         | 204/2701 [00:00<00:04, 588.10it/s, now=None]\u001b[A\n",
      "chunk:  11%|█▏        | 306/2701 [00:00<00:03, 604.57it/s, now=None]\u001b[A\n",
      "chunk:  13%|█▎        | 357/2701 [00:00<00:04, 555.88it/s, now=None]\u001b[A\n",
      "chunk:  15%|█▌        | 408/2701 [00:00<00:04, 471.78it/s, now=None]\u001b[A\n",
      "chunk:  19%|█▉        | 510/2701 [00:00<00:04, 514.55it/s, now=None]\u001b[A\n",
      "chunk:  21%|██        | 569/2701 [00:01<00:03, 534.78it/s, now=None]\u001b[A\n",
      "chunk:  23%|██▎       | 620/2701 [00:01<00:04, 482.42it/s, now=None]\u001b[A\n",
      "chunk:  26%|██▋       | 714/2701 [00:01<00:04, 455.81it/s, now=None]\u001b[A\n",
      "chunk:  28%|██▊       | 765/2701 [00:01<00:04, 431.77it/s, now=None]\u001b[A\n",
      "chunk:  30%|███       | 816/2701 [00:01<00:04, 429.75it/s, now=None]\u001b[A\n",
      "chunk:  34%|███▍      | 918/2701 [00:01<00:03, 514.68it/s, now=None]\u001b[A\n",
      "chunk:  38%|███▊      | 1020/2701 [00:01<00:03, 536.58it/s, now=None]\u001b[A\n",
      "chunk:  40%|███▉      | 1079/2701 [00:02<00:03, 424.93it/s, now=None]\u001b[A\n",
      "chunk:  42%|████▏     | 1129/2701 [00:02<00:03, 409.40it/s, now=None]\u001b[A\n",
      "chunk:  45%|████▌     | 1224/2701 [00:02<00:03, 463.21it/s, now=None]\u001b[A\n",
      "chunk:  49%|████▉     | 1326/2701 [00:02<00:02, 496.99it/s, now=None]\u001b[A\n",
      "chunk:  51%|█████     | 1381/2701 [00:02<00:02, 489.66it/s, now=None]\u001b[A\n",
      "chunk:  54%|█████▍    | 1468/2701 [00:02<00:02, 563.51it/s, now=None]\u001b[A\n",
      "chunk:  57%|█████▋    | 1531/2701 [00:03<00:02, 468.89it/s, now=None]\u001b[A\n",
      "chunk:  59%|█████▊    | 1586/2701 [00:03<00:02, 469.40it/s, now=None]\u001b[A\n",
      "chunk:  61%|██████    | 1638/2701 [00:03<00:02, 398.62it/s, now=None]\u001b[A\n",
      "chunk:  64%|██████▍   | 1734/2701 [00:03<00:02, 421.57it/s, now=None]\u001b[A\n",
      "chunk:  66%|██████▌   | 1785/2701 [00:03<00:02, 436.86it/s, now=None]\u001b[A\n",
      "chunk:  68%|██████▊   | 1836/2701 [00:03<00:01, 438.58it/s, now=None]\u001b[A\n",
      "chunk:  72%|███████▏  | 1938/2701 [00:03<00:01, 458.57it/s, now=None]\u001b[A\n",
      "chunk:  74%|███████▎  | 1989/2701 [00:04<00:02, 344.95it/s, now=None]\u001b[A\n",
      "chunk:  76%|███████▌  | 2040/2701 [00:04<00:01, 357.00it/s, now=None]\u001b[A\n",
      "chunk:  79%|███████▉  | 2142/2701 [00:04<00:01, 366.49it/s, now=None]\u001b[A\n",
      "chunk:  81%|████████  | 2193/2701 [00:04<00:01, 365.05it/s, now=None]\u001b[A\n",
      "chunk:  83%|████████▎ | 2244/2701 [00:04<00:01, 343.82it/s, now=None]\u001b[A\n",
      "chunk:  85%|████████▍ | 2295/2701 [00:05<00:01, 312.87it/s, now=None]\u001b[A\n",
      "chunk:  87%|████████▋ | 2346/2701 [00:05<00:01, 323.81it/s, now=None]\u001b[A\n",
      "chunk:  89%|████████▊ | 2397/2701 [00:05<00:00, 355.70it/s, now=None]\u001b[A\n",
      "chunk:  91%|█████████ | 2448/2701 [00:05<00:00, 343.18it/s, now=None]\u001b[A\n",
      "chunk:  93%|█████████▎| 2499/2701 [00:05<00:00, 347.62it/s, now=None]\u001b[A\n",
      "chunk:  96%|█████████▌| 2584/2701 [00:05<00:00, 422.51it/s, now=None]\u001b[A\n",
      "chunk:  98%|█████████▊| 2652/2701 [00:05<00:00, 398.80it/s, now=None]\u001b[A\n",
      "chunk:   1%|▏         | 29/2121 [7:29:50<540:50:56, 930.72s/it, now=None]"
     ]
    },
    {
     "name": "stdout",
     "output_type": "stream",
     "text": [
      "MoviePy - Done.\n"
     ]
    },
    {
     "name": "stderr",
     "output_type": "stream",
     "text": [
      "chunk:   1%|▏         | 29/2121 [7:29:51<540:51:48, 930.74s/it, now=None]\n",
      "chunk:   0%|          | 0/1832 [00:00<?, ?it/s, now=None]\u001b[A\n",
      "chunk:   8%|▊         | 153/1832 [00:00<00:01, 991.45it/s, now=None]\u001b[A"
     ]
    },
    {
     "name": "stdout",
     "output_type": "stream",
     "text": [
      "MoviePy - Writing audio in /home/jupyter/datasets/amigos/audio/Exp1_P38_audio/P38_18_audio.wav\n"
     ]
    },
    {
     "name": "stderr",
     "output_type": "stream",
     "text": [
      "\n",
      "chunk:  11%|█         | 204/1832 [00:00<00:02, 544.61it/s, now=None]\u001b[A\n",
      "chunk:  14%|█▍        | 255/1832 [00:00<00:03, 424.42it/s, now=None]\u001b[A\n",
      "chunk:  19%|█▉        | 357/1832 [00:00<00:03, 463.22it/s, now=None]\u001b[A\n",
      "chunk:  22%|██▏       | 408/1832 [00:00<00:03, 420.53it/s, now=None]\u001b[A\n",
      "chunk:  25%|██▌       | 459/1832 [00:01<00:03, 385.98it/s, now=None]\u001b[A\n",
      "chunk:  28%|██▊       | 510/1832 [00:01<00:03, 413.15it/s, now=None]\u001b[A\n",
      "chunk:  33%|███▎      | 612/1832 [00:01<00:02, 478.60it/s, now=None]\u001b[A\n",
      "chunk:  38%|███▊      | 692/1832 [00:01<00:02, 544.11it/s, now=None]\u001b[A\n",
      "chunk:  42%|████▏     | 765/1832 [00:01<00:02, 411.60it/s, now=None]\u001b[A\n",
      "chunk:  45%|████▍     | 816/1832 [00:01<00:03, 321.05it/s, now=None]\u001b[A\n",
      "chunk:  47%|████▋     | 867/1832 [00:02<00:03, 316.61it/s, now=None]\u001b[A\n",
      "chunk:  50%|█████     | 918/1832 [00:02<00:02, 322.75it/s, now=None]\u001b[A\n",
      "chunk:  53%|█████▎    | 969/1832 [00:02<00:02, 320.09it/s, now=None]\u001b[A\n",
      "chunk:  57%|█████▋    | 1042/1832 [00:02<00:02, 384.84it/s, now=None]\u001b[A\n",
      "chunk:  61%|██████    | 1122/1832 [00:02<00:01, 375.30it/s, now=None]\u001b[A\n",
      "chunk:  64%|██████▍   | 1173/1832 [00:02<00:02, 310.81it/s, now=None]\u001b[A\n",
      "chunk:  67%|██████▋   | 1224/1832 [00:03<00:01, 319.63it/s, now=None]\u001b[A\n",
      "chunk:  72%|███████▏  | 1326/1832 [00:03<00:01, 371.36it/s, now=None]\u001b[A\n",
      "chunk:  75%|███████▌  | 1377/1832 [00:03<00:01, 372.14it/s, now=None]\u001b[A\n",
      "chunk:  81%|████████  | 1479/1832 [00:03<00:00, 437.86it/s, now=None]\u001b[A\n",
      "chunk:  84%|████████▎ | 1531/1832 [00:03<00:00, 415.13it/s, now=None]\u001b[A\n",
      "chunk:  86%|████████▋ | 1581/1832 [00:03<00:00, 437.01it/s, now=None]\u001b[A\n",
      "chunk:  89%|████████▉ | 1632/1832 [00:03<00:00, 434.83it/s, now=None]\u001b[A\n",
      "chunk:  92%|█████████▏| 1683/1832 [00:03<00:00, 410.30it/s, now=None]\u001b[A\n",
      "chunk:  97%|█████████▋| 1785/1832 [00:04<00:00, 454.23it/s, now=None]\u001b[A\n",
      "chunk:   1%|▏         | 29/2121 [7:29:55<540:56:51, 930.88s/it, now=None]"
     ]
    },
    {
     "name": "stdout",
     "output_type": "stream",
     "text": [
      "MoviePy - Done.\n"
     ]
    },
    {
     "name": "stderr",
     "output_type": "stream",
     "text": [
      "chunk:   1%|▏         | 29/2121 [7:29:56<540:57:34, 930.91s/it, now=None]\n",
      "chunk:   0%|          | 0/2790 [00:00<?, ?it/s, now=None]\u001b[A\n",
      "chunk:   5%|▌         | 142/2790 [00:00<00:01, 1417.84it/s, now=None]\u001b[A"
     ]
    },
    {
     "name": "stdout",
     "output_type": "stream",
     "text": [
      "MoviePy - Writing audio in /home/jupyter/datasets/amigos/audio/Exp1_P38_audio/P38_19_audio.wav\n"
     ]
    },
    {
     "name": "stderr",
     "output_type": "stream",
     "text": [
      "\n",
      "chunk:   7%|▋         | 204/2790 [00:00<00:03, 782.80it/s, now=None] \u001b[A\n",
      "chunk:   9%|▉         | 255/2790 [00:00<00:03, 648.21it/s, now=None]\u001b[A\n",
      "chunk:  11%|█         | 309/2790 [00:00<00:04, 611.01it/s, now=None]\u001b[A\n",
      "chunk:  13%|█▎        | 357/2790 [00:00<00:05, 443.75it/s, now=None]\u001b[A\n",
      "chunk:  15%|█▍        | 408/2790 [00:00<00:05, 410.63it/s, now=None]\u001b[A\n",
      "chunk:  16%|█▋        | 459/2790 [00:00<00:05, 428.01it/s, now=None]\u001b[A\n",
      "chunk:  18%|█▊        | 510/2790 [00:01<00:05, 411.64it/s, now=None]\u001b[A\n",
      "chunk:  22%|██▏       | 612/2790 [00:01<00:04, 473.48it/s, now=None]\u001b[A\n",
      "chunk:  24%|██▍       | 663/2790 [00:01<00:04, 437.66it/s, now=None]\u001b[A\n",
      "chunk:  26%|██▌       | 714/2790 [00:01<00:04, 450.53it/s, now=None]\u001b[A\n",
      "chunk:  27%|██▋       | 765/2790 [00:01<00:04, 427.44it/s, now=None]\u001b[A\n",
      "chunk:  29%|██▉       | 816/2790 [00:01<00:05, 370.37it/s, now=None]\u001b[A\n",
      "chunk:  33%|███▎      | 915/2790 [00:01<00:04, 455.90it/s, now=None]\u001b[A\n",
      "chunk:  35%|███▍      | 973/2790 [00:02<00:05, 341.24it/s, now=None]\u001b[A\n",
      "chunk:  38%|███▊      | 1071/2790 [00:02<00:04, 388.04it/s, now=None]\u001b[A\n",
      "chunk:  41%|████      | 1144/2790 [00:02<00:03, 451.36it/s, now=None]\u001b[A\n",
      "chunk:  43%|████▎     | 1201/2790 [00:02<00:03, 429.01it/s, now=None]\u001b[A\n",
      "chunk:  45%|████▍     | 1253/2790 [00:02<00:03, 391.56it/s, now=None]\u001b[A\n",
      "chunk:  48%|████▊     | 1326/2790 [00:02<00:03, 422.41it/s, now=None]\u001b[A\n",
      "chunk:  49%|████▉     | 1377/2790 [00:03<00:04, 315.39it/s, now=None]\u001b[A\n",
      "chunk:  51%|█████     | 1428/2790 [00:03<00:04, 337.27it/s, now=None]\u001b[A\n",
      "chunk:  54%|█████▍    | 1512/2790 [00:03<00:03, 411.06it/s, now=None]\u001b[A\n",
      "chunk:  56%|█████▌    | 1565/2790 [00:03<00:02, 415.73it/s, now=None]\u001b[A\n",
      "chunk:  58%|█████▊    | 1615/2790 [00:03<00:03, 378.16it/s, now=None]\u001b[A\n",
      "chunk:  59%|█████▉    | 1660/2790 [00:03<00:02, 392.23it/s, now=None]\u001b[A\n",
      "chunk:  61%|██████    | 1704/2790 [00:03<00:03, 343.23it/s, now=None]\u001b[A\n",
      "chunk:  64%|██████▍   | 1785/2790 [00:04<00:02, 387.93it/s, now=None]\u001b[A\n",
      "chunk:  66%|██████▌   | 1836/2790 [00:04<00:02, 326.62it/s, now=None]\u001b[A\n",
      "chunk:  69%|██████▉   | 1938/2790 [00:04<00:02, 387.47it/s, now=None]\u001b[A\n",
      "chunk:  71%|███████▏  | 1989/2790 [00:04<00:02, 379.56it/s, now=None]\u001b[A\n",
      "chunk:  73%|███████▎  | 2040/2790 [00:04<00:01, 381.31it/s, now=None]\u001b[A\n",
      "chunk:  77%|███████▋  | 2142/2790 [00:04<00:01, 455.85it/s, now=None]\u001b[A\n",
      "chunk:  79%|███████▊  | 2197/2790 [00:04<00:01, 455.16it/s, now=None]\u001b[A\n",
      "chunk:  82%|████████▏ | 2295/2790 [00:05<00:00, 510.87it/s, now=None]\u001b[A\n",
      "chunk:  86%|████████▌ | 2397/2790 [00:05<00:00, 515.71it/s, now=None]\u001b[A\n",
      "chunk:  90%|████████▉ | 2501/2790 [00:05<00:00, 607.37it/s, now=None]\u001b[A\n",
      "chunk:  93%|█████████▎| 2601/2790 [00:05<00:00, 490.11it/s, now=None]\u001b[A\n",
      "chunk:  97%|█████████▋| 2703/2790 [00:05<00:00, 483.92it/s, now=None]\u001b[A\n",
      "chunk:   1%|▏         | 29/2121 [7:30:02<541:04:41, 931.11s/it, now=None]"
     ]
    },
    {
     "name": "stdout",
     "output_type": "stream",
     "text": [
      "MoviePy - Done.\n"
     ]
    },
    {
     "name": "stderr",
     "output_type": "stream",
     "text": [
      "chunk:   1%|▏         | 29/2121 [7:30:02<541:05:27, 931.13s/it, now=None]\n",
      "chunk:   0%|          | 0/1449 [00:00<?, ?it/s, now=None]\u001b[A\n",
      "chunk:   7%|▋         | 102/1449 [00:00<00:01, 817.90it/s, now=None]\u001b[A"
     ]
    },
    {
     "name": "stdout",
     "output_type": "stream",
     "text": [
      "MoviePy - Writing audio in /home/jupyter/datasets/amigos/audio/Exp1_P38_audio/P38_20_audio.wav\n"
     ]
    },
    {
     "name": "stderr",
     "output_type": "stream",
     "text": [
      "\n",
      "chunk:  14%|█▍        | 204/1449 [00:00<00:01, 682.42it/s, now=None]\u001b[A\n",
      "chunk:  20%|██        | 290/1449 [00:00<00:01, 727.30it/s, now=None]\u001b[A\n",
      "chunk:  25%|██▍       | 357/1449 [00:00<00:02, 532.81it/s, now=None]\u001b[A\n",
      "chunk:  28%|██▊       | 408/1449 [00:00<00:02, 488.09it/s, now=None]\u001b[A\n",
      "chunk:  32%|███▏      | 459/1449 [00:00<00:02, 404.45it/s, now=None]\u001b[A\n",
      "chunk:  35%|███▌      | 510/1449 [00:01<00:02, 426.31it/s, now=None]\u001b[A\n",
      "chunk:  42%|████▏     | 612/1449 [00:01<00:02, 362.50it/s, now=None]\u001b[A\n",
      "chunk:  46%|████▌     | 663/1449 [00:01<00:02, 315.92it/s, now=None]\u001b[A\n",
      "chunk:  53%|█████▎    | 765/1449 [00:01<00:01, 366.09it/s, now=None]\u001b[A\n",
      "chunk:  56%|█████▋    | 816/1449 [00:01<00:01, 387.25it/s, now=None]\u001b[A\n",
      "chunk:  63%|██████▎   | 909/1449 [00:02<00:01, 469.40it/s, now=None]\u001b[A\n",
      "chunk:  67%|██████▋   | 967/1449 [00:02<00:01, 380.74it/s, now=None]\u001b[A\n",
      "chunk:  70%|███████   | 1020/1449 [00:02<00:01, 355.08it/s, now=None]\u001b[A\n",
      "chunk:  77%|███████▋  | 1122/1449 [00:02<00:00, 377.85it/s, now=None]\u001b[A\n",
      "chunk:  81%|████████  | 1173/1449 [00:02<00:00, 351.58it/s, now=None]\u001b[A\n",
      "chunk:  88%|████████▊ | 1275/1449 [00:03<00:00, 374.45it/s, now=None]\u001b[A\n",
      "chunk:  92%|█████████▏| 1326/1449 [00:03<00:00, 377.87it/s, now=None]\u001b[A\n",
      "chunk:  95%|█████████▌| 1377/1449 [00:03<00:00, 344.40it/s, now=None]\u001b[A\n",
      "chunk:  99%|█████████▊| 1428/1449 [00:03<00:00, 362.24it/s, now=None]\u001b[A\n",
      "chunk:   1%|▏         | 29/2121 [7:30:06<541:09:40, 931.25s/it, now=None]"
     ]
    },
    {
     "name": "stdout",
     "output_type": "stream",
     "text": [
      "MoviePy - Done.\n"
     ]
    },
    {
     "name": "stderr",
     "output_type": "stream",
     "text": [
      "chunk:   1%|▏         | 29/2121 [7:30:06<541:10:24, 931.27s/it, now=None]\n",
      "chunk:   0%|          | 0/2470 [00:00<?, ?it/s, now=None]\u001b[A\n",
      "chunk:   4%|▍         | 102/2470 [00:00<00:03, 701.49it/s, now=None]\u001b[A"
     ]
    },
    {
     "name": "stdout",
     "output_type": "stream",
     "text": [
      "MoviePy - Writing audio in /home/jupyter/datasets/amigos/audio/Exp1_P38_audio/P38_23_audio.wav\n"
     ]
    },
    {
     "name": "stderr",
     "output_type": "stream",
     "text": [
      "\n",
      "chunk:   6%|▌         | 153/2470 [00:00<00:04, 552.93it/s, now=None]\u001b[A\n",
      "chunk:   9%|▉         | 224/2470 [00:00<00:03, 592.22it/s, now=None]\u001b[A\n",
      "chunk:  11%|█         | 264/2470 [00:00<00:05, 398.74it/s, now=None]\u001b[A\n",
      "chunk:  12%|█▏        | 306/2470 [00:00<00:07, 285.45it/s, now=None]\u001b[A\n",
      "chunk:  14%|█▍        | 357/2470 [00:00<00:06, 324.41it/s, now=None]\u001b[A\n",
      "chunk:  17%|█▋        | 408/2470 [00:01<00:06, 307.37it/s, now=None]\u001b[A\n",
      "chunk:  21%|██        | 510/2470 [00:01<00:05, 333.02it/s, now=None]\u001b[A\n",
      "chunk:  23%|██▎       | 561/2470 [00:01<00:05, 346.79it/s, now=None]\u001b[A\n",
      "chunk:  25%|██▍       | 612/2470 [00:01<00:05, 335.47it/s, now=None]\u001b[A\n",
      "chunk:  27%|██▋       | 663/2470 [00:01<00:05, 359.84it/s, now=None]\u001b[A\n",
      "chunk:  29%|██▉       | 714/2470 [00:01<00:04, 369.38it/s, now=None]\u001b[A\n",
      "chunk:  33%|███▎      | 816/2470 [00:02<00:03, 421.63it/s, now=None]\u001b[A\n",
      "chunk:  36%|███▌      | 894/2470 [00:02<00:03, 488.96it/s, now=None]\u001b[A\n",
      "chunk:  39%|███▉      | 969/2470 [00:02<00:03, 458.06it/s, now=None]\u001b[A\n",
      "chunk:  41%|████▏     | 1020/2470 [00:02<00:03, 381.85it/s, now=None]\u001b[A\n",
      "chunk:  43%|████▎     | 1071/2470 [00:02<00:04, 323.59it/s, now=None]\u001b[A\n",
      "chunk:  45%|████▌     | 1122/2470 [00:02<00:04, 313.61it/s, now=None]\u001b[A\n",
      "chunk:  48%|████▊     | 1184/2470 [00:03<00:03, 368.10it/s, now=None]\u001b[A\n",
      "chunk:  52%|█████▏    | 1275/2470 [00:03<00:02, 406.65it/s, now=None]\u001b[A\n",
      "chunk:  56%|█████▌    | 1377/2470 [00:03<00:02, 448.16it/s, now=None]\u001b[A\n",
      "chunk:  58%|█████▊    | 1428/2470 [00:03<00:02, 463.27it/s, now=None]\u001b[A\n",
      "chunk:  62%|██████▏   | 1530/2470 [00:03<00:01, 525.80it/s, now=None]\u001b[A\n",
      "chunk:  66%|██████▌   | 1632/2470 [00:03<00:01, 562.44it/s, now=None]\u001b[A\n",
      "chunk:  70%|███████   | 1734/2470 [00:03<00:01, 621.14it/s, now=None]\u001b[A\n",
      "chunk:  74%|███████▍  | 1836/2470 [00:04<00:01, 600.00it/s, now=None]\u001b[A\n",
      "chunk:  81%|████████  | 1989/2470 [00:04<00:00, 701.78it/s, now=None]\u001b[A\n",
      "chunk:  84%|████████▍ | 2069/2470 [00:04<00:00, 701.14it/s, now=None]\u001b[A\n",
      "chunk:  87%|████████▋ | 2146/2470 [00:04<00:00, 529.77it/s, now=None]\u001b[A\n",
      "chunk:  91%|█████████ | 2244/2470 [00:04<00:00, 597.93it/s, now=None]\u001b[A\n",
      "chunk:  94%|█████████▎| 2315/2470 [00:04<00:00, 622.11it/s, now=None]\u001b[A\n",
      "chunk:  97%|█████████▋| 2385/2470 [00:04<00:00, 596.52it/s, now=None]\u001b[A\n",
      "chunk:   1%|▏         | 29/2121 [7:30:11<541:16:24, 931.45s/it, now=None]"
     ]
    },
    {
     "name": "stdout",
     "output_type": "stream",
     "text": [
      "MoviePy - Done.\n"
     ]
    },
    {
     "name": "stderr",
     "output_type": "stream",
     "text": [
      "chunk:   1%|▏         | 29/2121 [7:30:12<541:17:02, 931.46s/it, now=None]\n",
      "chunk:   0%|          | 0/1690 [00:00<?, ?it/s, now=None]\u001b[A\n",
      "chunk:   9%|▉         | 153/1690 [00:00<00:01, 1193.61it/s, now=None]\u001b[A"
     ]
    },
    {
     "name": "stdout",
     "output_type": "stream",
     "text": [
      "MoviePy - Writing audio in /home/jupyter/datasets/amigos/audio/Exp1_P38_audio/P38_30_audio.wav\n"
     ]
    },
    {
     "name": "stderr",
     "output_type": "stream",
     "text": [
      "\n",
      "chunk:  14%|█▍        | 238/1690 [00:00<00:01, 1063.36it/s, now=None]\u001b[A\n",
      "chunk:  18%|█▊        | 306/1690 [00:00<00:01, 834.50it/s, now=None] \u001b[A\n",
      "chunk:  21%|██        | 359/1690 [00:00<00:02, 449.79it/s, now=None]\u001b[A\n",
      "chunk:  27%|██▋       | 459/1690 [00:00<00:02, 440.44it/s, now=None]\u001b[A\n",
      "chunk:  30%|███       | 510/1690 [00:00<00:02, 415.89it/s, now=None]\u001b[A\n",
      "chunk:  33%|███▎      | 561/1690 [00:01<00:03, 356.10it/s, now=None]\u001b[A\n",
      "chunk:  36%|███▌      | 612/1690 [00:01<00:02, 363.50it/s, now=None]\u001b[A\n",
      "chunk:  39%|███▉      | 663/1690 [00:01<00:02, 386.92it/s, now=None]\u001b[A\n",
      "chunk:  42%|████▏     | 714/1690 [00:01<00:02, 392.39it/s, now=None]\u001b[A\n",
      "chunk:  45%|████▌     | 765/1690 [00:01<00:02, 388.32it/s, now=None]\u001b[A\n",
      "chunk:  48%|████▊     | 816/1690 [00:01<00:02, 365.60it/s, now=None]\u001b[A\n",
      "chunk:  51%|█████▏    | 867/1690 [00:01<00:02, 343.56it/s, now=None]\u001b[A\n",
      "chunk:  54%|█████▍    | 918/1690 [00:02<00:02, 314.56it/s, now=None]\u001b[A\n",
      "chunk:  57%|█████▋    | 969/1690 [00:02<00:02, 317.14it/s, now=None]\u001b[A\n",
      "chunk:  60%|██████    | 1020/1690 [00:02<00:02, 309.12it/s, now=None]\u001b[A\n",
      "chunk:  63%|██████▎   | 1071/1690 [00:02<00:01, 312.62it/s, now=None]\u001b[A\n",
      "chunk:  66%|██████▋   | 1122/1690 [00:02<00:01, 294.42it/s, now=None]\u001b[A\n",
      "chunk:  69%|██████▉   | 1173/1690 [00:03<00:01, 283.43it/s, now=None]\u001b[A\n",
      "chunk:  72%|███████▏  | 1224/1690 [00:03<00:01, 311.55it/s, now=None]\u001b[A\n",
      "chunk:  75%|███████▌  | 1275/1690 [00:03<00:01, 346.19it/s, now=None]\u001b[A\n",
      "chunk:  78%|███████▊  | 1326/1690 [00:03<00:01, 357.09it/s, now=None]\u001b[A\n",
      "chunk:  81%|████████▏ | 1377/1690 [00:03<00:00, 355.25it/s, now=None]\u001b[A\n",
      "chunk:  84%|████████▍ | 1428/1690 [00:03<00:00, 332.79it/s, now=None]\u001b[A\n",
      "chunk:  88%|████████▊ | 1479/1690 [00:03<00:00, 325.40it/s, now=None]\u001b[A\n",
      "chunk:  91%|█████████ | 1530/1690 [00:04<00:00, 271.51it/s, now=None]\u001b[A\n",
      "chunk:  94%|█████████▎| 1581/1690 [00:04<00:00, 278.67it/s, now=None]\u001b[A\n",
      "chunk:  97%|█████████▋| 1632/1690 [00:04<00:00, 255.93it/s, now=None]\u001b[A\n",
      "chunk:   1%|▏         | 29/2121 [7:30:17<541:22:37, 931.62s/it, now=None]"
     ]
    },
    {
     "name": "stdout",
     "output_type": "stream",
     "text": [
      "MoviePy - Done.\n"
     ]
    },
    {
     "name": "stderr",
     "output_type": "stream",
     "text": [
      "chunk:   1%|▏         | 29/2121 [7:30:17<541:23:17, 931.64s/it, now=None]\n",
      "chunk:   0%|          | 0/3444 [00:00<?, ?it/s, now=None]\u001b[A"
     ]
    },
    {
     "name": "stdout",
     "output_type": "stream",
     "text": [
      "MoviePy - Writing audio in /home/jupyter/datasets/amigos/audio/Exp1_P38_audio/P38_31_audio.wav\n"
     ]
    },
    {
     "name": "stderr",
     "output_type": "stream",
     "text": [
      "\n",
      "chunk:   3%|▎         | 102/3444 [00:00<00:07, 441.70it/s, now=None]\u001b[A\n",
      "chunk:   4%|▍         | 153/3444 [00:00<00:08, 392.53it/s, now=None]\u001b[A\n",
      "chunk:   6%|▌         | 204/3444 [00:00<00:07, 410.55it/s, now=None]\u001b[A\n",
      "chunk:   7%|▋         | 255/3444 [00:00<00:08, 386.59it/s, now=None]\u001b[A\n",
      "chunk:   9%|▉         | 306/3444 [00:00<00:09, 319.33it/s, now=None]\u001b[A\n",
      "chunk:  10%|█         | 357/3444 [00:01<00:09, 330.74it/s, now=None]\u001b[A\n",
      "chunk:  12%|█▏        | 408/3444 [00:01<00:08, 355.54it/s, now=None]\u001b[A\n",
      "chunk:  13%|█▎        | 459/3444 [00:01<00:09, 330.69it/s, now=None]\u001b[A\n",
      "chunk:  15%|█▍        | 510/3444 [00:01<00:08, 348.12it/s, now=None]\u001b[A\n",
      "chunk:  16%|█▋        | 564/3444 [00:01<00:07, 389.52it/s, now=None]\u001b[A\n",
      "chunk:  18%|█▊        | 612/3444 [00:01<00:07, 386.90it/s, now=None]\u001b[A\n",
      "chunk:  19%|█▉        | 663/3444 [00:01<00:07, 388.96it/s, now=None]\u001b[A\n",
      "chunk:  21%|██        | 714/3444 [00:01<00:06, 396.93it/s, now=None]\u001b[A\n",
      "chunk:  22%|██▏       | 765/3444 [00:02<00:07, 354.26it/s, now=None]\u001b[A\n",
      "chunk:  24%|██▎       | 816/3444 [00:02<00:09, 282.18it/s, now=None]\u001b[A\n",
      "chunk:  25%|██▌       | 867/3444 [00:02<00:08, 290.18it/s, now=None]\u001b[A\n",
      "chunk:  27%|██▋       | 918/3444 [00:02<00:08, 292.71it/s, now=None]\u001b[A\n",
      "chunk:  28%|██▊       | 969/3444 [00:02<00:07, 329.83it/s, now=None]\u001b[A\n",
      "chunk:  30%|██▉       | 1020/3444 [00:02<00:06, 347.12it/s, now=None]\u001b[A\n",
      "chunk:  31%|███       | 1071/3444 [00:03<00:08, 273.17it/s, now=None]\u001b[A\n",
      "chunk:  33%|███▎      | 1122/3444 [00:03<00:07, 310.83it/s, now=None]\u001b[A\n",
      "chunk:  34%|███▍      | 1173/3444 [00:03<00:06, 335.05it/s, now=None]\u001b[A\n",
      "chunk:  36%|███▌      | 1224/3444 [00:03<00:06, 347.48it/s, now=None]\u001b[A\n",
      "chunk:  39%|███▊      | 1326/3444 [00:03<00:05, 374.54it/s, now=None]\u001b[A\n",
      "chunk:  40%|███▉      | 1377/3444 [00:03<00:05, 373.25it/s, now=None]\u001b[A\n",
      "chunk:  41%|████▏     | 1428/3444 [00:04<00:05, 397.50it/s, now=None]\u001b[A\n",
      "chunk:  43%|████▎     | 1483/3444 [00:04<00:04, 433.32it/s, now=None]\u001b[A\n",
      "chunk:  44%|████▍     | 1530/3444 [00:04<00:06, 283.06it/s, now=None]\u001b[A\n",
      "chunk:  47%|████▋     | 1632/3444 [00:04<00:05, 307.68it/s, now=None]\u001b[A\n",
      "chunk:  49%|████▉     | 1683/3444 [00:04<00:05, 307.45it/s, now=None]\u001b[A\n",
      "chunk:  50%|█████     | 1734/3444 [00:05<00:05, 301.90it/s, now=None]\u001b[A\n",
      "chunk:  52%|█████▏    | 1785/3444 [00:05<00:04, 343.32it/s, now=None]\u001b[A\n",
      "chunk:  53%|█████▎    | 1836/3444 [00:05<00:04, 361.10it/s, now=None]\u001b[A\n",
      "chunk:  56%|█████▋    | 1938/3444 [00:05<00:03, 435.39it/s, now=None]\u001b[A\n",
      "chunk:  58%|█████▊    | 1991/3444 [00:05<00:03, 413.88it/s, now=None]\u001b[A\n",
      "chunk:  59%|█████▉    | 2040/3444 [00:05<00:04, 286.62it/s, now=None]\u001b[A\n",
      "chunk:  61%|██████    | 2091/3444 [00:06<00:05, 245.19it/s, now=None]\u001b[A\n",
      "chunk:  62%|██████▏   | 2142/3444 [00:06<00:04, 266.02it/s, now=None]\u001b[A\n",
      "chunk:  64%|██████▎   | 2193/3444 [00:06<00:04, 285.18it/s, now=None]\u001b[A\n",
      "chunk:  65%|██████▌   | 2244/3444 [00:06<00:04, 289.98it/s, now=None]\u001b[A\n",
      "chunk:  67%|██████▋   | 2295/3444 [00:06<00:04, 258.36it/s, now=None]\u001b[A\n",
      "chunk:  68%|██████▊   | 2346/3444 [00:07<00:04, 269.66it/s, now=None]\u001b[A\n",
      "chunk:  70%|██████▉   | 2397/3444 [00:07<00:03, 266.44it/s, now=None]\u001b[A\n",
      "chunk:  71%|███████   | 2448/3444 [00:07<00:03, 291.54it/s, now=None]\u001b[A\n",
      "chunk:  74%|███████▍  | 2550/3444 [00:07<00:02, 344.18it/s, now=None]\u001b[A\n",
      "chunk:  76%|███████▌  | 2601/3444 [00:07<00:02, 320.96it/s, now=None]\u001b[A\n",
      "chunk:  77%|███████▋  | 2652/3444 [00:07<00:02, 308.42it/s, now=None]\u001b[A\n",
      "chunk:  80%|███████▉  | 2754/3444 [00:08<00:01, 375.66it/s, now=None]\u001b[A\n",
      "chunk:  83%|████████▎ | 2856/3444 [00:08<00:01, 419.25it/s, now=None]\u001b[A\n",
      "chunk:  86%|████████▌ | 2956/3444 [00:08<00:00, 507.67it/s, now=None]\u001b[A\n",
      "chunk:  88%|████████▊ | 3021/3444 [00:08<00:01, 399.30it/s, now=None]\u001b[A\n",
      "chunk:  90%|█████████ | 3111/3444 [00:08<00:00, 464.06it/s, now=None]\u001b[A\n",
      "chunk:  93%|█████████▎| 3213/3444 [00:08<00:00, 485.87it/s, now=None]\u001b[A\n",
      "chunk:  96%|█████████▋| 3315/3444 [00:08<00:00, 543.36it/s, now=None]\u001b[A\n",
      "chunk:  98%|█████████▊| 3379/3444 [00:09<00:00, 473.37it/s, now=None]\u001b[A\n",
      "chunk:   1%|▏         | 29/2121 [7:30:27<541:34:40, 931.97s/it, now=None]"
     ]
    },
    {
     "name": "stdout",
     "output_type": "stream",
     "text": [
      "MoviePy - Done.\n"
     ]
    },
    {
     "name": "stderr",
     "output_type": "stream",
     "text": [
      "chunk:   1%|▏         | 29/2121 [7:30:27<541:35:27, 931.99s/it, now=None]\n",
      "chunk:   0%|          | 0/1467 [00:00<?, ?it/s, now=None]\u001b[A\n",
      "chunk:   7%|▋         | 104/1467 [00:00<00:01, 1039.37it/s, now=None]\u001b[A"
     ]
    },
    {
     "name": "stdout",
     "output_type": "stream",
     "text": [
      "MoviePy - Writing audio in /home/jupyter/datasets/amigos/audio/Exp1_P38_audio/P38_34_audio.wav\n"
     ]
    },
    {
     "name": "stderr",
     "output_type": "stream",
     "text": [
      "\n",
      "chunk:  14%|█▍        | 204/1467 [00:00<00:01, 818.49it/s, now=None] \u001b[A\n",
      "chunk:  19%|█▊        | 273/1467 [00:00<00:01, 774.74it/s, now=None]\u001b[A\n",
      "chunk:  22%|██▏       | 321/1467 [00:00<00:02, 522.88it/s, now=None]\u001b[A\n",
      "chunk:  28%|██▊       | 408/1467 [00:00<00:01, 532.20it/s, now=None]\u001b[A\n",
      "chunk:  31%|███▏      | 459/1467 [00:00<00:01, 510.56it/s, now=None]\u001b[A\n",
      "chunk:  38%|███▊      | 561/1467 [00:01<00:01, 507.36it/s, now=None]\u001b[A\n",
      "chunk:  48%|████▊     | 698/1467 [00:01<00:01, 625.37it/s, now=None]\u001b[A\n",
      "chunk:  53%|█████▎    | 773/1467 [00:01<00:01, 348.19it/s, now=None]\u001b[A\n",
      "chunk:  57%|█████▋    | 831/1467 [00:01<00:01, 343.40it/s, now=None]\u001b[A\n",
      "chunk:  60%|██████    | 881/1467 [00:01<00:01, 346.89it/s, now=None]\u001b[A\n",
      "chunk:  63%|██████▎   | 927/1467 [00:02<00:01, 314.40it/s, now=None]\u001b[A\n",
      "chunk:  66%|██████▌   | 969/1467 [00:02<00:01, 297.70it/s, now=None]\u001b[A\n",
      "chunk:  70%|██████▉   | 1020/1467 [00:02<00:01, 330.92it/s, now=None]\u001b[A\n",
      "chunk:  73%|███████▎  | 1071/1467 [00:02<00:01, 282.73it/s, now=None]\u001b[A\n",
      "chunk:  76%|███████▋  | 1122/1467 [00:02<00:01, 290.08it/s, now=None]\u001b[A\n",
      "chunk:  80%|███████▉  | 1173/1467 [00:02<00:00, 297.36it/s, now=None]\u001b[A\n",
      "chunk:  87%|████████▋ | 1275/1467 [00:03<00:00, 348.45it/s, now=None]\u001b[A\n",
      "chunk:  90%|█████████ | 1326/1467 [00:03<00:00, 307.21it/s, now=None]\u001b[A\n",
      "chunk:  97%|█████████▋| 1428/1467 [00:03<00:00, 367.70it/s, now=None]\u001b[A\n",
      "chunk:   1%|▏         | 29/2121 [7:30:31<541:39:36, 932.11s/it, now=None]"
     ]
    },
    {
     "name": "stdout",
     "output_type": "stream",
     "text": [
      "MoviePy - Done.\n"
     ]
    },
    {
     "name": "stderr",
     "output_type": "stream",
     "text": [
      "chunk:   1%|▏         | 29/2121 [7:30:31<541:40:21, 932.13s/it, now=None]\n",
      "chunk:   0%|          | 0/1515 [00:00<?, ?it/s, now=None]\u001b[A\n",
      "chunk:  10%|▉         | 148/1515 [00:00<00:00, 1478.18it/s, now=None]\u001b[A"
     ]
    },
    {
     "name": "stdout",
     "output_type": "stream",
     "text": [
      "MoviePy - Writing audio in /home/jupyter/datasets/amigos/audio/Exp1_P38_audio/P38_36_audio.wav\n"
     ]
    },
    {
     "name": "stderr",
     "output_type": "stream",
     "text": [
      "\n",
      "chunk:  13%|█▎        | 193/1515 [00:00<00:01, 844.16it/s, now=None] \u001b[A\n",
      "chunk:  16%|█▌        | 237/1515 [00:00<00:02, 632.59it/s, now=None]\u001b[A\n",
      "chunk:  20%|██        | 306/1515 [00:00<00:01, 630.70it/s, now=None]\u001b[A\n",
      "chunk:  26%|██▌       | 394/1515 [00:00<00:01, 689.06it/s, now=None]\u001b[A\n",
      "chunk:  30%|███       | 459/1515 [00:00<00:01, 564.22it/s, now=None]\u001b[A\n",
      "chunk:  37%|███▋      | 561/1515 [00:00<00:01, 591.61it/s, now=None]\u001b[A\n",
      "chunk:  41%|████      | 619/1515 [00:00<00:01, 516.82it/s, now=None]\u001b[A\n",
      "chunk:  44%|████▍     | 672/1515 [00:01<00:01, 519.73it/s, now=None]\u001b[A\n",
      "chunk:  50%|█████     | 765/1515 [00:01<00:01, 515.05it/s, now=None]\u001b[A\n",
      "chunk:  54%|█████▍    | 817/1515 [00:01<00:01, 509.94it/s, now=None]\u001b[A\n",
      "chunk:  59%|█████▉    | 900/1515 [00:01<00:01, 576.61it/s, now=None]\u001b[A\n",
      "chunk:  63%|██████▎   | 961/1515 [00:01<00:01, 396.90it/s, now=None]\u001b[A\n",
      "chunk:  67%|██████▋   | 1011/1515 [00:01<00:01, 324.70it/s, now=None]\u001b[A\n",
      "chunk:  70%|██████▉   | 1053/1515 [00:02<00:01, 260.27it/s, now=None]\u001b[A\n",
      "chunk:  72%|███████▏  | 1088/1515 [00:02<00:01, 234.95it/s, now=None]\u001b[A\n",
      "chunk:  74%|███████▍  | 1122/1515 [00:02<00:01, 242.30it/s, now=None]\u001b[A\n",
      "chunk:  77%|███████▋  | 1173/1515 [00:02<00:01, 255.24it/s, now=None]\u001b[A\n",
      "chunk:  81%|████████  | 1224/1515 [00:02<00:00, 291.86it/s, now=None]\u001b[A\n",
      "chunk:  84%|████████▍ | 1279/1515 [00:02<00:00, 339.62it/s, now=None]\u001b[A\n",
      "chunk:  88%|████████▊ | 1326/1515 [00:03<00:00, 304.83it/s, now=None]\u001b[A\n",
      "chunk:  91%|█████████ | 1377/1515 [00:03<00:00, 293.87it/s, now=None]\u001b[A\n",
      "chunk:  94%|█████████▍| 1428/1515 [00:03<00:00, 286.28it/s, now=None]\u001b[A\n",
      "chunk:  98%|█████████▊| 1479/1515 [00:03<00:00, 297.05it/s, now=None]\u001b[A\n",
      "chunk:   1%|▏         | 29/2121 [7:30:35<541:44:45, 932.26s/it, now=None]"
     ]
    },
    {
     "name": "stdout",
     "output_type": "stream",
     "text": [
      "MoviePy - Done.\n"
     ]
    },
    {
     "name": "stderr",
     "output_type": "stream",
     "text": [
      "chunk:   1%|▏         | 29/2121 [7:30:36<541:45:40, 932.28s/it, now=None]\n",
      "chunk:   0%|          | 0/2015 [00:00<?, ?it/s, now=None]\u001b[A"
     ]
    },
    {
     "name": "stdout",
     "output_type": "stream",
     "text": [
      "MoviePy - Writing audio in /home/jupyter/datasets/amigos/audio/Exp1_P38_audio/P38_4_audio.wav\n"
     ]
    },
    {
     "name": "stderr",
     "output_type": "stream",
     "text": [
      "\n",
      "chunk:   5%|▌         | 102/2015 [00:00<00:07, 263.05it/s, now=None]\u001b[A\n",
      "chunk:   8%|▊         | 153/2015 [00:00<00:06, 275.15it/s, now=None]\u001b[A\n",
      "chunk:  10%|█         | 204/2015 [00:00<00:05, 306.63it/s, now=None]\u001b[A\n",
      "chunk:  13%|█▎        | 255/2015 [00:00<00:05, 313.12it/s, now=None]\u001b[A\n",
      "chunk:  15%|█▌        | 306/2015 [00:00<00:05, 324.01it/s, now=None]\u001b[A\n",
      "chunk:  20%|██        | 408/2015 [00:01<00:04, 382.64it/s, now=None]\u001b[A\n",
      "chunk:  25%|██▌       | 510/2015 [00:01<00:03, 443.42it/s, now=None]\u001b[A\n",
      "chunk:  30%|███       | 612/2015 [00:01<00:02, 469.76it/s, now=None]\u001b[A\n",
      "chunk:  33%|███▎      | 663/2015 [00:01<00:02, 477.79it/s, now=None]\u001b[A\n",
      "chunk:  35%|███▌      | 714/2015 [00:01<00:02, 475.18it/s, now=None]\u001b[A\n",
      "chunk:  40%|████      | 816/2015 [00:01<00:02, 514.45it/s, now=None]\u001b[A\n",
      "chunk:  43%|████▎     | 870/2015 [00:01<00:02, 515.20it/s, now=None]\u001b[A\n",
      "chunk:  46%|████▌     | 924/2015 [00:02<00:02, 492.20it/s, now=None]\u001b[A\n",
      "chunk:  51%|█████     | 1020/2015 [00:02<00:01, 541.77it/s, now=None]\u001b[A\n",
      "chunk:  53%|█████▎    | 1077/2015 [00:02<00:01, 518.72it/s, now=None]\u001b[A\n",
      "chunk:  56%|█████▌    | 1131/2015 [00:02<00:01, 522.82it/s, now=None]\u001b[A\n",
      "chunk:  61%|██████    | 1224/2015 [00:02<00:01, 560.85it/s, now=None]\u001b[A\n",
      "chunk:  64%|██████▍   | 1298/2015 [00:02<00:01, 604.46it/s, now=None]\u001b[A\n",
      "chunk:  68%|██████▊   | 1361/2015 [00:02<00:01, 521.94it/s, now=None]\u001b[A\n",
      "chunk:  70%|███████   | 1417/2015 [00:03<00:01, 404.14it/s, now=None]\u001b[A\n",
      "chunk:  73%|███████▎  | 1464/2015 [00:03<00:01, 405.77it/s, now=None]\u001b[A\n",
      "chunk:  75%|███████▍  | 1510/2015 [00:03<00:01, 309.01it/s, now=None]\u001b[A\n",
      "chunk:  77%|███████▋  | 1548/2015 [00:03<00:01, 323.39it/s, now=None]\u001b[A\n",
      "chunk:  79%|███████▊  | 1586/2015 [00:03<00:01, 324.81it/s, now=None]\u001b[A\n",
      "chunk:  81%|████████  | 1632/2015 [00:03<00:01, 349.19it/s, now=None]\u001b[A\n",
      "chunk:  84%|████████▎ | 1683/2015 [00:03<00:01, 300.15it/s, now=None]\u001b[A\n",
      "chunk:  86%|████████▌ | 1734/2015 [00:04<00:00, 335.97it/s, now=None]\u001b[A\n",
      "chunk:  89%|████████▊ | 1785/2015 [00:04<00:00, 365.38it/s, now=None]\u001b[A\n",
      "chunk:  91%|█████████ | 1836/2015 [00:04<00:00, 339.79it/s, now=None]\u001b[A\n",
      "chunk:  94%|█████████▎| 1887/2015 [00:04<00:00, 320.33it/s, now=None]\u001b[A\n",
      "chunk:  96%|█████████▌| 1938/2015 [00:04<00:00, 279.02it/s, now=None]\u001b[A\n",
      "chunk:  99%|█████████▊| 1989/2015 [00:04<00:00, 315.70it/s, now=None]\u001b[A\n",
      "chunk:   1%|▏         | 29/2121 [7:30:41<541:51:32, 932.45s/it, now=None]"
     ]
    },
    {
     "name": "stdout",
     "output_type": "stream",
     "text": [
      "MoviePy - Done.\n"
     ]
    },
    {
     "name": "stderr",
     "output_type": "stream",
     "text": [
      "chunk:   1%|▏         | 29/2121 [7:30:41<541:52:25, 932.48s/it, now=None]\n",
      "chunk:   0%|          | 0/2483 [00:00<?, ?it/s, now=None]\u001b[A\n",
      "chunk:   4%|▍         | 103/2483 [00:00<00:02, 1029.69it/s, now=None]\u001b[A"
     ]
    },
    {
     "name": "stdout",
     "output_type": "stream",
     "text": [
      "MoviePy - Writing audio in /home/jupyter/datasets/amigos/audio/Exp1_P38_audio/P38_5_audio.wav\n"
     ]
    },
    {
     "name": "stderr",
     "output_type": "stream",
     "text": [
      "\n",
      "chunk:   6%|▌         | 153/2483 [00:00<00:03, 647.58it/s, now=None] \u001b[A\n",
      "chunk:   8%|▊         | 204/2483 [00:00<00:04, 465.65it/s, now=None]\u001b[A\n",
      "chunk:  10%|█         | 255/2483 [00:00<00:04, 471.42it/s, now=None]\u001b[A\n",
      "chunk:  14%|█▍        | 357/2483 [00:00<00:05, 412.05it/s, now=None]\u001b[A\n",
      "chunk:  16%|█▋        | 408/2483 [00:00<00:04, 415.17it/s, now=None]\u001b[A\n",
      "chunk:  18%|█▊        | 459/2483 [00:01<00:04, 431.40it/s, now=None]\u001b[A\n",
      "chunk:  23%|██▎       | 561/2483 [00:01<00:04, 444.02it/s, now=None]\u001b[A\n",
      "chunk:  25%|██▍       | 612/2483 [00:01<00:04, 433.05it/s, now=None]\u001b[A\n",
      "chunk:  27%|██▋       | 663/2483 [00:01<00:04, 429.64it/s, now=None]\u001b[A\n",
      "chunk:  31%|███       | 774/2483 [00:01<00:03, 526.28it/s, now=None]\u001b[A\n",
      "chunk:  35%|███▍      | 867/2483 [00:01<00:02, 548.93it/s, now=None]\u001b[A\n",
      "chunk:  37%|███▋      | 930/2483 [00:01<00:03, 493.52it/s, now=None]\u001b[A\n",
      "chunk:  41%|████      | 1020/2483 [00:02<00:02, 551.44it/s, now=None]\u001b[A\n",
      "chunk:  45%|████▌     | 1122/2483 [00:02<00:02, 556.72it/s, now=None]\u001b[A\n",
      "chunk:  49%|████▉     | 1224/2483 [00:02<00:02, 482.99it/s, now=None]\u001b[A\n",
      "chunk:  51%|█████▏    | 1278/2483 [00:02<00:02, 445.86it/s, now=None]\u001b[A\n",
      "chunk:  53%|█████▎    | 1327/2483 [00:02<00:03, 380.86it/s, now=None]\u001b[A\n",
      "chunk:  55%|█████▌    | 1377/2483 [00:03<00:03, 351.32it/s, now=None]\u001b[A\n",
      "chunk:  58%|█████▊    | 1428/2483 [00:03<00:02, 380.56it/s, now=None]\u001b[A\n",
      "chunk:  60%|█████▉    | 1479/2483 [00:03<00:02, 367.78it/s, now=None]\u001b[A\n",
      "chunk:  66%|██████▌   | 1632/2483 [00:03<00:01, 450.57it/s, now=None]\u001b[A\n",
      "chunk:  68%|██████▊   | 1688/2483 [00:03<00:01, 468.14it/s, now=None]\u001b[A\n",
      "chunk:  72%|███████▏  | 1785/2483 [00:03<00:01, 480.94it/s, now=None]\u001b[A\n",
      "chunk:  74%|███████▍  | 1839/2483 [00:03<00:01, 484.05it/s, now=None]\u001b[A\n",
      "chunk:  76%|███████▌  | 1892/2483 [00:04<00:01, 415.91it/s, now=None]\u001b[A\n",
      "chunk:  78%|███████▊  | 1938/2483 [00:04<00:01, 361.30it/s, now=None]\u001b[A\n",
      "chunk:  82%|████████▏ | 2040/2483 [00:04<00:01, 399.30it/s, now=None]\u001b[A\n",
      "chunk:  86%|████████▋ | 2142/2483 [00:04<00:00, 458.07it/s, now=None]\u001b[A\n",
      "chunk:  92%|█████████▏| 2295/2483 [00:04<00:00, 546.89it/s, now=None]\u001b[A\n",
      "chunk:  97%|█████████▋| 2397/2483 [00:04<00:00, 564.33it/s, now=None]\u001b[A\n",
      "chunk:  99%|█████████▉| 2462/2483 [00:05<00:00, 436.93it/s, now=None]\u001b[A\n",
      "chunk:   1%|▏         | 29/2121 [7:30:46<541:58:32, 932.65s/it, now=None]"
     ]
    },
    {
     "name": "stdout",
     "output_type": "stream",
     "text": [
      "MoviePy - Done.\n"
     ]
    },
    {
     "name": "stderr",
     "output_type": "stream",
     "text": [
      "chunk:   1%|▏         | 29/2121 [7:30:47<541:59:22, 932.68s/it, now=None]\n",
      "chunk:   0%|          | 0/1428 [00:00<?, ?it/s, now=None]\u001b[A\n",
      "chunk:  11%|█         | 153/1428 [00:00<00:00, 1413.64it/s, now=None]\u001b[A"
     ]
    },
    {
     "name": "stdout",
     "output_type": "stream",
     "text": [
      "MoviePy - Writing audio in /home/jupyter/datasets/amigos/audio/Exp1_P38_audio/P38_58_audio.wav\n"
     ]
    },
    {
     "name": "stderr",
     "output_type": "stream",
     "text": [
      "\n",
      "chunk:  14%|█▍        | 204/1428 [00:00<00:01, 852.72it/s, now=None] \u001b[A\n",
      "chunk:  18%|█▊        | 255/1428 [00:00<00:01, 670.53it/s, now=None]\u001b[A\n",
      "chunk:  25%|██▌       | 357/1428 [00:00<00:02, 461.09it/s, now=None]\u001b[A\n",
      "chunk:  29%|██▊       | 408/1428 [00:00<00:02, 448.99it/s, now=None]\u001b[A\n",
      "chunk:  32%|███▏      | 459/1428 [00:00<00:02, 407.14it/s, now=None]\u001b[A\n",
      "chunk:  39%|███▉      | 561/1428 [00:01<00:01, 481.19it/s, now=None]\u001b[A\n",
      "chunk:  43%|████▎     | 613/1428 [00:01<00:01, 479.60it/s, now=None]\u001b[A\n",
      "chunk:  46%|████▋     | 664/1428 [00:01<00:01, 438.99it/s, now=None]\u001b[A\n",
      "chunk:  50%|█████     | 714/1428 [00:01<00:01, 380.19it/s, now=None]\u001b[A\n",
      "chunk:  57%|█████▋    | 816/1428 [00:01<00:01, 356.20it/s, now=None]\u001b[A\n",
      "chunk:  61%|██████    | 867/1428 [00:02<00:02, 215.90it/s, now=None]\u001b[A\n",
      "chunk:  64%|██████▍   | 918/1428 [00:02<00:02, 221.21it/s, now=None]\u001b[A\n",
      "chunk:  68%|██████▊   | 969/1428 [00:02<00:02, 201.19it/s, now=None]\u001b[A\n",
      "chunk:  71%|███████▏  | 1020/1428 [00:03<00:02, 178.14it/s, now=None]\u001b[A\n",
      "chunk:  75%|███████▌  | 1071/1428 [00:03<00:01, 219.27it/s, now=None]\u001b[A\n",
      "chunk:  79%|███████▊  | 1122/1428 [00:03<00:01, 207.38it/s, now=None]\u001b[A\n",
      "chunk:  82%|████████▏ | 1173/1428 [00:03<00:01, 237.63it/s, now=None]\u001b[A\n",
      "chunk:  89%|████████▉ | 1275/1428 [00:03<00:00, 293.54it/s, now=None]\u001b[A\n",
      "chunk:  93%|█████████▎| 1326/1428 [00:04<00:00, 287.71it/s, now=None]\u001b[A\n",
      "chunk:  96%|█████████▋| 1377/1428 [00:04<00:00, 318.29it/s, now=None]\u001b[A\n",
      "chunk:   1%|▏         | 29/2121 [7:30:51<542:04:27, 932.82s/it, now=None]"
     ]
    },
    {
     "name": "stdout",
     "output_type": "stream",
     "text": [
      "MoviePy - Done.\n"
     ]
    },
    {
     "name": "stderr",
     "output_type": "stream",
     "text": [
      "chunk:   1%|▏         | 29/2121 [7:30:52<542:05:18, 932.85s/it, now=None]\n",
      "chunk:   0%|          | 0/2258 [00:00<?, ?it/s, now=None]\u001b[A"
     ]
    },
    {
     "name": "stdout",
     "output_type": "stream",
     "text": [
      "MoviePy - Writing audio in /home/jupyter/datasets/amigos/audio/Exp1_P38_audio/P38_80_audio.wav\n"
     ]
    },
    {
     "name": "stderr",
     "output_type": "stream",
     "text": [
      "\n",
      "chunk:   7%|▋         | 153/2258 [00:00<00:03, 610.61it/s, now=None]\u001b[A\n",
      "chunk:   9%|▉         | 204/2258 [00:00<00:05, 367.39it/s, now=None]\u001b[A\n",
      "chunk:  11%|█▏        | 255/2258 [00:00<00:05, 376.43it/s, now=None]\u001b[A\n",
      "chunk:  14%|█▎        | 306/2258 [00:00<00:05, 368.82it/s, now=None]\u001b[A\n",
      "chunk:  16%|█▌        | 357/2258 [00:00<00:05, 362.86it/s, now=None]\u001b[A\n",
      "chunk:  18%|█▊        | 408/2258 [00:01<00:05, 318.45it/s, now=None]\u001b[A\n",
      "chunk:  20%|██        | 459/2258 [00:01<00:05, 307.74it/s, now=None]\u001b[A\n",
      "chunk:  23%|██▎       | 510/2258 [00:01<00:06, 258.46it/s, now=None]\u001b[A\n",
      "chunk:  25%|██▍       | 561/2258 [00:01<00:05, 291.36it/s, now=None]\u001b[A\n",
      "chunk:  27%|██▋       | 612/2258 [00:01<00:05, 296.39it/s, now=None]\u001b[A\n",
      "chunk:  29%|██▉       | 663/2258 [00:02<00:05, 290.40it/s, now=None]\u001b[A\n",
      "chunk:  32%|███▏      | 714/2258 [00:02<00:04, 326.72it/s, now=None]\u001b[A\n",
      "chunk:  34%|███▍      | 765/2258 [00:02<00:06, 226.34it/s, now=None]\u001b[A\n",
      "chunk:  36%|███▌      | 816/2258 [00:02<00:05, 249.49it/s, now=None]\u001b[A\n",
      "chunk:  41%|████      | 918/2258 [00:02<00:04, 303.58it/s, now=None]\u001b[A\n",
      "chunk:  43%|████▎     | 969/2258 [00:03<00:04, 263.73it/s, now=None]\u001b[A\n",
      "chunk:  45%|████▌     | 1020/2258 [00:03<00:04, 275.77it/s, now=None]\u001b[A\n",
      "chunk:  47%|████▋     | 1071/2258 [00:03<00:04, 282.12it/s, now=None]\u001b[A\n",
      "chunk:  50%|████▉     | 1122/2258 [00:03<00:03, 318.47it/s, now=None]\u001b[A\n",
      "chunk:  54%|█████▍    | 1224/2258 [00:03<00:02, 355.50it/s, now=None]\u001b[A\n",
      "chunk:  59%|█████▊    | 1326/2258 [00:03<00:02, 396.96it/s, now=None]\u001b[A\n",
      "chunk:  61%|██████    | 1377/2258 [00:04<00:02, 416.20it/s, now=None]\u001b[A\n",
      "chunk:  63%|██████▎   | 1428/2258 [00:04<00:02, 377.46it/s, now=None]\u001b[A\n",
      "chunk:  67%|██████▋   | 1512/2258 [00:04<00:01, 452.12it/s, now=None]\u001b[A\n",
      "chunk:  69%|██████▉   | 1566/2258 [00:04<00:01, 459.58it/s, now=None]\u001b[A\n",
      "chunk:  72%|███████▏  | 1632/2258 [00:04<00:01, 441.47it/s, now=None]\u001b[A\n",
      "chunk:  77%|███████▋  | 1734/2258 [00:04<00:01, 491.23it/s, now=None]\u001b[A\n",
      "chunk:  81%|████████▏ | 1836/2258 [00:04<00:00, 563.84it/s, now=None]\u001b[A\n",
      "chunk:  86%|████████▌ | 1938/2258 [00:05<00:00, 586.98it/s, now=None]\u001b[A\n",
      "chunk:  90%|█████████ | 2040/2258 [00:05<00:00, 504.76it/s, now=None]\u001b[A\n",
      "chunk:  93%|█████████▎| 2097/2258 [00:05<00:00, 426.90it/s, now=None]\u001b[A\n",
      "chunk:  95%|█████████▌| 2146/2258 [00:05<00:00, 377.26it/s, now=None]\u001b[A\n",
      "chunk:  97%|█████████▋| 2193/2258 [00:05<00:00, 335.27it/s, now=None]\u001b[A\n",
      "chunk:   1%|▏         | 29/2121 [7:30:58<542:12:27, 933.05s/it, now=None]"
     ]
    },
    {
     "name": "stdout",
     "output_type": "stream",
     "text": [
      "MoviePy - Done.\n"
     ]
    },
    {
     "name": "stderr",
     "output_type": "stream",
     "text": [
      "chunk:   1%|▏         | 29/2121 [7:30:59<542:13:21, 933.08s/it, now=None]\n",
      "chunk:   0%|          | 0/1679 [00:00<?, ?it/s, now=None]\u001b[A"
     ]
    },
    {
     "name": "stdout",
     "output_type": "stream",
     "text": [
      "MoviePy - Writing audio in /home/jupyter/datasets/amigos/audio/Exp1_P38_audio/P38_9_audio.wav\n"
     ]
    },
    {
     "name": "stderr",
     "output_type": "stream",
     "text": [
      "\n",
      "chunk:   6%|▌         | 102/1679 [00:00<00:02, 568.18it/s, now=None]\u001b[A\n",
      "chunk:   9%|▉         | 153/1679 [00:00<00:03, 382.89it/s, now=None]\u001b[A\n",
      "chunk:  12%|█▏        | 204/1679 [00:00<00:04, 304.64it/s, now=None]\u001b[A\n",
      "chunk:  15%|█▌        | 255/1679 [00:00<00:04, 320.48it/s, now=None]\u001b[A\n",
      "chunk:  18%|█▊        | 306/1679 [00:01<00:04, 298.22it/s, now=None]\u001b[A\n",
      "chunk:  21%|██▏       | 357/1679 [00:01<00:04, 289.53it/s, now=None]\u001b[A\n",
      "chunk:  24%|██▍       | 408/1679 [00:01<00:04, 295.98it/s, now=None]\u001b[A\n",
      "chunk:  27%|██▋       | 459/1679 [00:01<00:04, 280.86it/s, now=None]\u001b[A\n",
      "chunk:  30%|███       | 510/1679 [00:01<00:04, 270.06it/s, now=None]\u001b[A\n",
      "chunk:  33%|███▎      | 561/1679 [00:01<00:03, 309.46it/s, now=None]\u001b[A\n",
      "chunk:  39%|███▉      | 663/1679 [00:02<00:02, 350.48it/s, now=None]\u001b[A\n",
      "chunk:  43%|████▎     | 714/1679 [00:02<00:03, 278.13it/s, now=None]\u001b[A\n",
      "chunk:  46%|████▌     | 765/1679 [00:02<00:02, 305.23it/s, now=None]\u001b[A\n",
      "chunk:  52%|█████▏    | 867/1679 [00:02<00:02, 353.97it/s, now=None]\u001b[A\n",
      "chunk:  56%|█████▌    | 934/1679 [00:02<00:01, 412.28it/s, now=None]\u001b[A\n",
      "chunk:  61%|██████    | 1020/1679 [00:02<00:01, 457.38it/s, now=None]\u001b[A\n",
      "chunk:  64%|██████▍   | 1073/1679 [00:02<00:01, 470.34it/s, now=None]\u001b[A\n",
      "chunk:  67%|██████▋   | 1125/1679 [00:03<00:01, 411.78it/s, now=None]\u001b[A\n",
      "chunk:  70%|██████▉   | 1173/1679 [00:03<00:01, 374.11it/s, now=None]\u001b[A\n",
      "chunk:  73%|███████▎  | 1224/1679 [00:03<00:01, 394.79it/s, now=None]\u001b[A"
     ]
    }
   ],
   "source": [
    "for i in range(24,40):\n",
    "    # get the participant id\n",
    "    participant_id = i+1\n",
    "    if participant_id < 10:\n",
    "        participant_id = \"0{}\".format(participant_id)\n",
    "    else:\n",
    "        participant_id = str(participant_id)\n",
    "        \n",
    "    # loop through and make wav file\n",
    "    for j in range(0,16):\n",
    "        video_id = csv.iloc[(i*16) + (j+1),2]\n",
    "        video_path = \"{}/Exp1_P{}_face/P{}_{}_face.mov\".format(video_dir,participant_id,i+1,video_id[1:-1])\n",
    "        # open the video\n",
    "        face_video = mp.VideoFileClip(video_path)\n",
    "        # write it to wav file\n",
    "        audio_path = \"{}/audio/Exp1_P{}_audio/P{}_{}_audio.wav\".format(root_dir, participant_id,i+1,video_id[1:-1]) \n",
    "        face_video.audio.write_audiofile(audio_path) "
   ]
  },
  {
   "cell_type": "code",
   "execution_count": null,
   "metadata": {},
   "outputs": [],
   "source": []
  }
 ],
 "metadata": {
  "environment": {
   "name": "pytorch-gpu.1-4.m49",
   "type": "gcloud",
   "uri": "gcr.io/deeplearning-platform-release/pytorch-gpu.1-4:m49"
  },
  "kernelspec": {
   "display_name": "Python 3",
   "language": "python",
   "name": "python3"
  },
  "language_info": {
   "codemirror_mode": {
    "name": "ipython",
    "version": 3
   },
   "file_extension": ".py",
   "mimetype": "text/x-python",
   "name": "python",
   "nbconvert_exporter": "python",
   "pygments_lexer": "ipython3",
   "version": "3.7.6"
  }
 },
 "nbformat": 4,
 "nbformat_minor": 4
}
